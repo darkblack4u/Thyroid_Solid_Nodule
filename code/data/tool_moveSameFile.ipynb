{
 "cells": [
  {
   "cell_type": "code",
   "execution_count": 3,
   "metadata": {
    "collapsed": true
   },
   "outputs": [],
   "source": [
    "# 移出同名文件\n",
    "\n",
    "import os\n",
    "import shutil\n",
    "import traceback\n",
    " \n",
    " \n",
    "def move_file(src_path, dst_path, file):\n",
    "    print(file, ' from : ',src_path, 'to : ',dst_path)\n",
    "    try:\n",
    "        # cmd = 'chmod -R +x ' + src_path\n",
    "        # os.popen(cmd)\n",
    "        f_src = os.path.join(src_path, file)\n",
    "        if not os.path.exists(dst_path):\n",
    "            os.mkdir(dst_path)\n",
    "        f_dst = os.path.join(dst_path, file)\n",
    "        shutil.move(f_src, f_dst)\n",
    "    except Exception as e:\n",
    "        print('move_file ERROR: ',e)\n",
    "        traceback.print_exc()\n",
    "        \n",
    "\n",
    "for root, dirs, files in os.walk(os.path.abspath('/root/workspace/Thyroid_Solid_Nodule/data/preprocess/chenzhou_aug/tests/')):\n",
    "    for file in files:\n",
    "        for image_root, image_dirs, image_files in os.walk(os.path.abspath('/root/workspace/Thyroid_Solid_Nodule/data/preprocess/chenzhou_aug/images/')):\n",
    "            for image_file in image_files:\n",
    "                if file[:-5] in image_file:\n",
    "                    move_file('/root/workspace/Thyroid_Solid_Nodule/data/preprocess/chenzhou_aug/images/',\n",
    "                              '/root/workspace/Thyroid_Solid_Nodule/data/preprocess/chenzhou_aug/tmp/',\n",
    "                              image_file )\n",
    "\n",
    "for root, dirs, files in os.walk(os.path.abspath('/root/workspace/Thyroid_Solid_Nodule/data/preprocess/chenzhou_aug/validations/')):\n",
    "    for file in files:\n",
    "        for image_root, image_dirs, image_files in os.walk(os.path.abspath('/root/workspace/Thyroid_Solid_Nodule/data/preprocess/chenzhou_aug/images/')):\n",
    "            for image_file in image_files:\n",
    "                if file[:-5] in image_file:\n",
    "                    move_file('/root/workspace/Thyroid_Solid_Nodule/data/preprocess/chenzhou_aug/images/',\n",
    "                              '/root/workspace/Thyroid_Solid_Nodule/data/preprocess/chenzhou_aug/tmp/',\n",
    "                              image_file )"
   ]
  },
  {
   "cell_type": "code",
   "execution_count": null,
   "metadata": {
    "collapsed": true
   },
   "outputs": [],
   "source": []
  }
 ],
 "metadata": {
  "kernelspec": {
   "display_name": "Python 3.6.11 64-bit ('mmdetection': conda)",
   "language": "python",
   "name": "python361164bitmmdetectioncondac5e20e32b3c64899be2ee20da743e85a"
  },
  "language_info": {
   "codemirror_mode": {
    "name": "ipython",
    "version": 3
   },
   "file_extension": ".py",
   "mimetype": "text/x-python",
   "name": "python",
   "nbconvert_exporter": "python",
   "pygments_lexer": "ipython3",
   "version": "3.6.11"
  }
 },
 "nbformat": 4,
 "nbformat_minor": 2
}
