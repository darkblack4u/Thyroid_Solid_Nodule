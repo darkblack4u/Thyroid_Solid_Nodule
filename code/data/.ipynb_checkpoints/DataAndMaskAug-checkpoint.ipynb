{
 "cells": [
  {
   "cell_type": "code",
   "execution_count": 1,
   "metadata": {},
   "outputs": [],
   "source": [
    "%matplotlib inline\n",
    "import Augmentor\n",
    "import glob\n",
    "import os\n",
    "import random\n",
    "from keras_preprocessing.image import ImageDataGenerator, array_to_img, img_to_array, load_img\n",
    "\n",
    "\n",
    "os.environ[\"CUDA_VISIBLE_DEVICES\"] = \"1\""
   ]
  },
  {
   "cell_type": "code",
   "execution_count": 2,
   "metadata": {
    "collapsed": true
   },
   "outputs": [],
   "source": [
    "train_path = '/root/workspace/Thyroid_Solid_Nodule/data/preprocess/chenzhou/image'\n",
    "groud_truth_path = '/root/workspace/Thyroid_Solid_Nodule/data/preprocess/chenzhou/mask'\n",
    "img_type = 'jpg'\n",
    "train_tmp_path = '/root/workspace/Thyroid_Solid_Nodule/data/preprocess/chenzhou_aug/image'\n",
    "mask_tmp_path = '/root/workspace/Thyroid_Solid_Nodule/data/preprocess/chenzhou_aug/mask'"
   ]
  },
  {
   "cell_type": "code",
   "execution_count": 3,
   "metadata": {
    "collapsed": true
   },
   "outputs": [],
   "source": [
    "def start(train_path,groud_truth_path):\n",
    "    train_img = glob.glob(train_path+'/*.'+img_type)\n",
    "    masks = glob.glob(groud_truth_path+'/*.'+img_type)\n",
    " \n",
    "    if len(train_img) != len(masks):\n",
    "        print (\"trains can't match masks\")\n",
    "        return 0\n",
    "    for i in train_img:\n",
    "        (path, filename)=os.path.split(i)\n",
    "        train_img_tmp_path = train_tmp_path + '/'+ file_name\n",
    "        if not os.path.lexists(train_img_tmp_path):\n",
    "            os.mkdir(train_img_tmp_path)\n",
    "        img = load_img(train_path+'/'+file_name)\n",
    "        x_t = img_to_array(img)\n",
    "        img_tmp = array_to_img(x_t)\n",
    "        img_tmp.save(train_img_tmp_path+'/'+file_name)\n",
    " \n",
    "        mask_img_tmp_path =mask_tmp_path +'/'+file_name\n",
    "        if not os.path.lexists(mask_img_tmp_path):\n",
    "            os.mkdir(mask_img_tmp_path)\n",
    "        mask = load_img(groud_truth_path+'/'+file_name)\n",
    "        x_l = img_to_array(mask)\n",
    "        mask_tmp = array_to_img(x_l)\n",
    "        mask_tmp.save(mask_img_tmp_path+'/'+file_name)\n",
    "        print (\"%s folder has been created!\"%str(i))\n",
    "    return train_img"
   ]
  },
  {
   "cell_type": "code",
   "execution_count": 4,
   "metadata": {
    "collapsed": true
   },
   "outputs": [],
   "source": [
    "def doAugment(train_img):\n",
    "    sum = 0\n",
    "    for i in train_img:\n",
    "        (path, filename)=os.path.split(i)\n",
    "        p = Augmentor.Pipeline(train_tmp_path+'/'+file_name)\n",
    "        p.ground_truth(mask_tmp_path+'/'+file_name)\n",
    "        p.rotate(probability=0.5, max_left_rotation=5, max_right_rotation=5)#旋转\n",
    "        p.flip_left_right(probability=0.5)#按概率左右翻转\n",
    "        p.zoom_random(probability=0.6, percentage_area=0.99)#随即将一定比例面积的图形放大至全图\n",
    "        p.flip_top_bottom(probability=0.6)#按概率随即上下翻转\n",
    "        p.random_distortion(probability=0.8,grid_width=10,grid_height=10, magnitude=20)#小块变形\n",
    "        count = random.randint(40, 60)\n",
    "        print(\"\\nNo.%s data is being augmented and %s data will be created\"%(i,count))\n",
    "        sum = sum + count\n",
    "        p.sample(count)\n",
    "        print(\"Done\")\n",
    "    print(\"%s pairs of data has been created totally\"%sum)"
   ]
  },
  {
   "cell_type": "code",
   "execution_count": 5,
   "metadata": {},
   "outputs": [
    {
     "ename": "TypeError",
     "evalue": "must be str, not tuple",
     "output_type": "error",
     "traceback": [
      "\u001b[0;31m---------------------------------------------------------------------------\u001b[0m",
      "\u001b[0;31mTypeError\u001b[0m                                 Traceback (most recent call last)",
      "\u001b[0;32m<ipython-input-5-5d192edf2487>\u001b[0m in \u001b[0;36m<module>\u001b[0;34m()\u001b[0m\n\u001b[0;32m----> 1\u001b[0;31m \u001b[0ma\u001b[0m \u001b[0;34m=\u001b[0m \u001b[0mstart\u001b[0m\u001b[0;34m(\u001b[0m\u001b[0mtrain_path\u001b[0m\u001b[0;34m,\u001b[0m \u001b[0mgroud_truth_path\u001b[0m\u001b[0;34m)\u001b[0m\u001b[0;34m\u001b[0m\u001b[0;34m\u001b[0m\u001b[0m\n\u001b[0m\u001b[1;32m      2\u001b[0m \u001b[0mdoAugment\u001b[0m\u001b[0;34m(\u001b[0m\u001b[0ma\u001b[0m\u001b[0;34m)\u001b[0m\u001b[0;34m\u001b[0m\u001b[0;34m\u001b[0m\u001b[0m\n",
      "\u001b[0;32m<ipython-input-3-2f5e6be9f9ce>\u001b[0m in \u001b[0;36mstart\u001b[0;34m(train_path, groud_truth_path)\u001b[0m\n\u001b[1;32m      8\u001b[0m     \u001b[0;32mfor\u001b[0m \u001b[0mi\u001b[0m \u001b[0;32min\u001b[0m \u001b[0mtrain_img\u001b[0m\u001b[0;34m:\u001b[0m\u001b[0;34m\u001b[0m\u001b[0;34m\u001b[0m\u001b[0m\n\u001b[1;32m      9\u001b[0m         \u001b[0mfile_name\u001b[0m\u001b[0;34m=\u001b[0m\u001b[0mos\u001b[0m\u001b[0;34m.\u001b[0m\u001b[0mpath\u001b[0m\u001b[0;34m.\u001b[0m\u001b[0msplit\u001b[0m\u001b[0;34m(\u001b[0m\u001b[0mi\u001b[0m\u001b[0;34m)\u001b[0m\u001b[0;34m\u001b[0m\u001b[0;34m\u001b[0m\u001b[0m\n\u001b[0;32m---> 10\u001b[0;31m         \u001b[0mtrain_img_tmp_path\u001b[0m \u001b[0;34m=\u001b[0m \u001b[0mtrain_tmp_path\u001b[0m \u001b[0;34m+\u001b[0m \u001b[0;34m'/'\u001b[0m\u001b[0;34m+\u001b[0m\u001b[0mfile_name\u001b[0m\u001b[0;34m\u001b[0m\u001b[0;34m\u001b[0m\u001b[0m\n\u001b[0m\u001b[1;32m     11\u001b[0m         \u001b[0;32mif\u001b[0m \u001b[0;32mnot\u001b[0m \u001b[0mos\u001b[0m\u001b[0;34m.\u001b[0m\u001b[0mpath\u001b[0m\u001b[0;34m.\u001b[0m\u001b[0mlexists\u001b[0m\u001b[0;34m(\u001b[0m\u001b[0mtrain_img_tmp_path\u001b[0m\u001b[0;34m)\u001b[0m\u001b[0;34m:\u001b[0m\u001b[0;34m\u001b[0m\u001b[0;34m\u001b[0m\u001b[0m\n\u001b[1;32m     12\u001b[0m             \u001b[0mos\u001b[0m\u001b[0;34m.\u001b[0m\u001b[0mmkdir\u001b[0m\u001b[0;34m(\u001b[0m\u001b[0mtrain_img_tmp_path\u001b[0m\u001b[0;34m)\u001b[0m\u001b[0;34m\u001b[0m\u001b[0;34m\u001b[0m\u001b[0m\n",
      "\u001b[0;31mTypeError\u001b[0m: must be str, not tuple"
     ]
    }
   ],
   "source": [
    "a = start(train_path, groud_truth_path)\n",
    "doAugment(a)"
   ]
  },
  {
   "cell_type": "code",
   "execution_count": null,
   "metadata": {
    "collapsed": true
   },
   "outputs": [],
   "source": []
  }
 ],
 "metadata": {
  "kernelspec": {
   "display_name": "Python 3",
   "language": "python",
   "name": "python3"
  },
  "language_info": {
   "codemirror_mode": {
    "name": "ipython",
    "version": 3
   },
   "file_extension": ".py",
   "mimetype": "text/x-python",
   "name": "python",
   "nbconvert_exporter": "python",
   "pygments_lexer": "ipython3",
   "version": "3.6.11"
  }
 },
 "nbformat": 4,
 "nbformat_minor": 2
}
