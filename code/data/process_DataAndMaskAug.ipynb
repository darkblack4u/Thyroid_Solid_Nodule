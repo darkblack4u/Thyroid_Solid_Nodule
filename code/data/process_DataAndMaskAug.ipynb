{
 "cells": [
  {
   "cell_type": "code",
   "execution_count": 1,
   "metadata": {},
   "outputs": [],
   "source": [
    "%matplotlib inline\n",
    "import Augmentor\n",
    "import glob\n",
    "import os\n",
    "import random\n",
    "from keras_preprocessing.image import ImageDataGenerator, array_to_img, img_to_array, load_img\n",
    "\n",
    "\n",
    "os.environ[\"CUDA_VISIBLE_DEVICES\"] = \"1\""
   ]
  },
  {
   "cell_type": "code",
   "execution_count": 2,
   "metadata": {
    "collapsed": true
   },
   "outputs": [],
   "source": [
    "train_path = '/root/workspace/Thyroid_Solid_Nodule/data/preprocess/chenzhou/image'\n",
    "groud_truth_path = '/root/workspace/Thyroid_Solid_Nodule/data/preprocess/chenzhou/mask'\n",
    "img_type = 'jpg'\n",
    "train_tmp_path = '/root/workspace/Thyroid_Solid_Nodule/data/preprocess/chenzhou_aug/tmp/image'\n",
    "mask_tmp_path = '/root/workspace/Thyroid_Solid_Nodule/data/preprocess/chenzhou_aug/tmp/mask'"
   ]
  },
  {
   "cell_type": "code",
   "execution_count": 3,
   "metadata": {
    "collapsed": true
   },
   "outputs": [],
   "source": [
    "def start(train_path,groud_truth_path):\n",
    "    train_img = glob.glob(train_path+'/*.'+img_type)\n",
    "    masks = glob.glob(groud_truth_path+'/*.'+img_type)\n",
    " \n",
    "    if len(train_img) != len(masks):\n",
    "        print (\"trains can't match masks\")\n",
    "        return 0\n",
    "    for i in train_img:\n",
    "        (path, file_name)=os.path.split(i)\n",
    "        train_img_tmp_path = train_tmp_path + '/' + file_name[:-5]\n",
    "        if not os.path.lexists(train_img_tmp_path):\n",
    "            os.makedirs(train_img_tmp_path)\n",
    "        img = load_img(train_path+'/'+file_name)\n",
    "        x_t = img_to_array(img)\n",
    "        img_tmp = array_to_img(x_t)\n",
    "        img_tmp.save(train_img_tmp_path+'/'+file_name)\n",
    " \n",
    "        mask_img_tmp_path =mask_tmp_path + '/' + file_name[:-5]\n",
    "        if not os.path.lexists(mask_img_tmp_path):\n",
    "            os.makedirs(mask_img_tmp_path)\n",
    "        mask = load_img(groud_truth_path+'/'+file_name)\n",
    "        x_l = img_to_array(mask)\n",
    "        mask_tmp = array_to_img(x_l)\n",
    "        mask_tmp.save(mask_img_tmp_path+'/'+file_name)\n",
    "        print (\"%s folder has been created!\"%str(i))\n",
    "    return train_img"
   ]
  },
  {
   "cell_type": "code",
   "execution_count": 4,
   "metadata": {
    "collapsed": true
   },
   "outputs": [],
   "source": [
    "def doAugment(train_img):\n",
    "    sum = 0\n",
    "    for i in train_img:\n",
    "        (path, file_name)=os.path.split(i)\n",
    "        p = Augmentor.Pipeline(train_tmp_path+'/'+file_name[:-5])\n",
    "        p.ground_truth(mask_tmp_path+'/'+file_name[:-5])\n",
    "        p.rotate(probability=0.5, max_left_rotation=5, max_right_rotation=5)#旋转\n",
    "        p.flip_left_right(probability=0.5)#按概率左右翻转\n",
    "        p.zoom_random(probability=0.6, percentage_area=0.99)#随即将一定比例面积的图形放大至全图\n",
    "        p.flip_top_bottom(probability=0.6)#按概率随即上下翻转\n",
    "#         p.random_distortion(probability=0.8,grid_width=10,grid_height=10, magnitude=20)#小块变形\n",
    "        count = random.randint(40, 60)\n",
    "        print(\"\\nNo.%s data is being augmented and %s data will be created\"%(i,count))\n",
    "        sum = sum + count\n",
    "        p.sample(count)\n",
    "        print(\"Done\")\n",
    "    print(\"%s pairs of data has been created totally\"%sum)"
   ]
  },
  {
   "cell_type": "code",
   "execution_count": 5,
   "metadata": {},
   "outputs": [
    {
     "name": "stdout",
     "output_type": "stream",
     "text": [
      "/root/workspace/Thyroid_Solid_Nodule/data/preprocess/chenzhou/image/A4B1C2D1E1_3THY220180717092913827.jpg folder has been created!\n",
      "/root/workspace/Thyroid_Solid_Nodule/data/preprocess/chenzhou/image/A4B1C2D1E1_56THY1920180723153826901T.jpg folder has been created!\n",
      "/root/workspace/Thyroid_Solid_Nodule/data/preprocess/chenzhou/image/A4B2C3D2E1_16506181520180815THY12120180815151917823T.jpg folder has been created!\n",
      "/root/workspace/Thyroid_Solid_Nodule/data/preprocess/chenzhou/image/A4B1C3D3E4_126THY5520180830150449436.jpg folder has been created!\n",
      "/root/workspace/Thyroid_Solid_Nodule/data/preprocess/chenzhou/image/A2B1C2D2E1_72THY2820180727081649427V.jpg folder has been created!\n",
      "/root/workspace/Thyroid_Solid_Nodule/data/preprocess/chenzhou/image/A4B1C2D1E1_109THY4620180823092638727T.jpg folder has been created!\n",
      "/root/workspace/Thyroid_Solid_Nodule/data/preprocess/chenzhou/image/A1B1C1D1E1_19950101020181011THY14520181011101203818V.jpg folder has been created!\n",
      "/root/workspace/Thyroid_Solid_Nodule/data/preprocess/chenzhou/image/A4B1C3D3E1_15753110920180814THY11620180814091210384T.jpg folder has been created!\n",
      "/root/workspace/Thyroid_Solid_Nodule/data/preprocess/chenzhou/image/A4B1C4D1E4_20028320920181012THY14720181012093728614V.jpg folder has been created!\n",
      "/root/workspace/Thyroid_Solid_Nodule/data/preprocess/chenzhou/image/A4B2C4D2E1_16027530820180815THY11820180815085523062V.jpg folder has been created!\n",
      "/root/workspace/Thyroid_Solid_Nodule/data/preprocess/chenzhou/image/A4B1C4D2E4_105THY4520180823091339624T.jpg folder has been created!\n",
      "/root/workspace/Thyroid_Solid_Nodule/data/preprocess/chenzhou/image/A3B1C2D1E1_123THY5320180830112323806.jpg folder has been created!\n",
      "/root/workspace/Thyroid_Solid_Nodule/data/preprocess/chenzhou/image/A4B1C4D1E4_15303221020180803THY11320180803102227521V.jpg folder has been created!\n",
      "/root/workspace/Thyroid_Solid_Nodule/data/preprocess/chenzhou/image/A4B1C3D4E4_83THY3620180802160133907V.jpg folder has been created!\n",
      "/root/workspace/Thyroid_Solid_Nodule/data/preprocess/chenzhou/image/A3B1C3D1E1_44THY16RUTOUCA20180723094607041V.jpg folder has been created!\n",
      "/root/workspace/Thyroid_Solid_Nodule/data/preprocess/chenzhou/image/A4B1C3D1E1_15139310820180803THY11120180803083755171V.jpg folder has been created!\n",
      "/root/workspace/Thyroid_Solid_Nodule/data/preprocess/chenzhou/image/A4B1C3D1E1_128THY5620180830155622149V.jpg folder has been created!\n",
      "/root/workspace/Thyroid_Solid_Nodule/data/preprocess/chenzhou/image/A4B1C2D1E1_18832480920180912THY13320180912094922571T.jpg folder has been created!\n",
      "/root/workspace/Thyroid_Solid_Nodule/data/preprocess/chenzhou/image/A4B1C4D1E2_18THY620180718085410415T.jpg folder has been created!\n",
      "/root/workspace/Thyroid_Solid_Nodule/data/preprocess/chenzhou/image/A4B1C2D1E2_21THY620180718085836237T.jpg folder has been created!\n",
      "/root/workspace/Thyroid_Solid_Nodule/data/preprocess/chenzhou/image/A3B1C2D1E1_19305161420180913THY13820180913141619723T.jpg folder has been created!\n",
      "/root/workspace/Thyroid_Solid_Nodule/data/preprocess/chenzhou/image/A4B1C2D1E1_42THY1520180723090911568T.jpg folder has been created!\n",
      "/root/workspace/Thyroid_Solid_Nodule/data/preprocess/chenzhou/image/A4B1C3D1E3_44THY16RUTOUCA20180723094638089T.jpg folder has been created!\n",
      "/root/workspace/Thyroid_Solid_Nodule/data/preprocess/chenzhou/image/A4B2C4D1E1_19449541120181008THY13920181008115522901T.jpg folder has been created!\n",
      "/root/workspace/Thyroid_Solid_Nodule/data/preprocess/chenzhou/image/A4B1C3D2E2_71THY2620180726100510415T.jpg folder has been created!\n",
      "/root/workspace/Thyroid_Solid_Nodule/data/preprocess/chenzhou/image/A2B1C2D1E1_104THY4520180823091117732T.jpg folder has been created!\n",
      "/root/workspace/Thyroid_Solid_Nodule/data/preprocess/chenzhou/image/A4B2C3D1E1_94THY4020180817101500656T.jpg folder has been created!\n",
      "/root/workspace/Thyroid_Solid_Nodule/data/preprocess/chenzhou/image/A3B1C2D1E1_90THY3720180816083913888.jpg folder has been created!\n",
      "/root/workspace/Thyroid_Solid_Nodule/data/preprocess/chenzhou/image/A2B1C2D1E1_16127530820180815THY11820180815085852860V.jpg folder has been created!\n",
      "/root/workspace/Thyroid_Solid_Nodule/data/preprocess/chenzhou/image/A3B1C2D1E1_102THY4320180820151959440T.jpg folder has been created!\n",
      "/root/workspace/Thyroid_Solid_Nodule/data/preprocess/chenzhou/image/A4B1C3D1E1_74THY2920180727085811922T.jpg folder has been created!\n",
      "/root/workspace/Thyroid_Solid_Nodule/data/preprocess/chenzhou/image/A4B1C3D3E4_86THY3720180816083716327.jpg folder has been created!\n",
      "/root/workspace/Thyroid_Solid_Nodule/data/preprocess/chenzhou/image/A4B1C2D1E1_16THY520180717164312673T.jpg folder has been created!\n",
      "/root/workspace/Thyroid_Solid_Nodule/data/preprocess/chenzhou/image/A4B1C4D4E1_13904180920180801THY100520180801092420133.jpg folder has been created!\n",
      "/root/workspace/Thyroid_Solid_Nodule/data/preprocess/chenzhou/image/A4B2C4D3E1_80THY3320180730113742507T.jpg folder has been created!\n",
      "/root/workspace/Thyroid_Solid_Nodule/data/preprocess/chenzhou/image/A4B1C2D1E2_23THY620180718090018820T.jpg folder has been created!\n",
      "/root/workspace/Thyroid_Solid_Nodule/data/preprocess/chenzhou/image/A4B1C3D1E1_14249370920180801THY100620180801093950653.jpg folder has been created!\n",
      "/root/workspace/Thyroid_Solid_Nodule/data/preprocess/chenzhou/image/A2B1C2D1E1_59THY2120180724083141658V.jpg folder has been created!\n",
      "/root/workspace/Thyroid_Solid_Nodule/data/preprocess/chenzhou/image/A4B1C4D3E1_63THY2320180725110434005T.jpg folder has been created!\n",
      "/root/workspace/Thyroid_Solid_Nodule/data/preprocess/chenzhou/image/A4B1C4D1E1_17348191420180905THY12620180905142020797V.jpg folder has been created!\n",
      "/root/workspace/Thyroid_Solid_Nodule/data/preprocess/chenzhou/image/A4B1C3D2E2_71THY2620180726100756098T.jpg folder has been created!\n",
      "/root/workspace/Thyroid_Solid_Nodule/data/preprocess/chenzhou/image/A4B1C3D1E1_113THY4920180830101452304.jpg folder has been created!\n",
      "/root/workspace/Thyroid_Solid_Nodule/data/preprocess/chenzhou/image/A3B1C2D1E1_30THY920180719083925646V.jpg folder has been created!\n",
      "/root/workspace/Thyroid_Solid_Nodule/data/preprocess/chenzhou/image/A4B1C3D2E1_17207131120180905THY12520180905111558751V.jpg folder has been created!\n",
      "/root/workspace/Thyroid_Solid_Nodule/data/preprocess/chenzhou/image/A4B1C4D2E4_18412221420180907THY13120180907142347203V.jpg folder has been created!\n",
      "/root/workspace/Thyroid_Solid_Nodule/data/preprocess/chenzhou/image/A3B1C2D1E1_29THY920180719083624528V.jpg folder has been created!\n",
      "/root/workspace/Thyroid_Solid_Nodule/data/preprocess/chenzhou/image/A1B1C1D1E1_13THY420180717154528804T.jpg folder has been created!\n",
      "/root/workspace/Thyroid_Solid_Nodule/data/preprocess/chenzhou/image/A4B1C4D3E2_2THY220180717092815882T.jpg folder has been created!\n",
      "/root/workspace/Thyroid_Solid_Nodule/data/preprocess/chenzhou/image/A4B1C3D3E4_126THY5520180830150418761V.jpg folder has been created!\n",
      "/root/workspace/Thyroid_Solid_Nodule/data/preprocess/chenzhou/image/A4B1C3D3E1_38THY13RUTOUCA20180720113443842V.jpg folder has been created!\n",
      "/root/workspace/Thyroid_Solid_Nodule/data/preprocess/chenzhou/image/A4B1C2D2E1_115THY4920180830101643005.jpg folder has been created!\n",
      "/root/workspace/Thyroid_Solid_Nodule/data/preprocess/chenzhou/image/A4B1C4D2E1_16226411420180815THY11920180815145943905V.jpg folder has been created!\n",
      "/root/workspace/Thyroid_Solid_Nodule/data/preprocess/chenzhou/image/A3B1C2D1E1_110THY4620180823092708166V.jpg folder has been created!\n",
      "/root/workspace/Thyroid_Solid_Nodule/data/preprocess/chenzhou/image/A4B1C4D3E1_63THY2320180725110548124V.jpg folder has been created!\n",
      "/root/workspace/Thyroid_Solid_Nodule/data/preprocess/chenzhou/image/A3B1C3D1E1_19THY620180718085723415V.jpg folder has been created!\n",
      "/root/workspace/Thyroid_Solid_Nodule/data/preprocess/chenzhou/image/A1B1C1D1E1_39THY1420180720115201073T.jpg folder has been created!\n",
      "/root/workspace/Thyroid_Solid_Nodule/data/preprocess/chenzhou/image/A4B1C2D1E1_15547281620180813THY11520180813163027097T.jpg folder has been created!\n",
      "/root/workspace/Thyroid_Solid_Nodule/data/preprocess/chenzhou/image/A4B1C2D1E1_15233051020180803THY11220180803100618818V.jpg folder has been created!\n",
      "/root/workspace/Thyroid_Solid_Nodule/data/preprocess/chenzhou/image/A4B1C2D1E1_26THY720180718092336093T.jpg folder has been created!\n",
      "/root/workspace/Thyroid_Solid_Nodule/data/preprocess/chenzhou/image/A4B1C2D1E1_20235241120181012THY14920181012112622945T.jpg folder has been created!\n"
     ]
    },
    {
     "name": "stdout",
     "output_type": "stream",
     "text": [
      "/root/workspace/Thyroid_Solid_Nodule/data/preprocess/chenzhou/image/A4B1C3D3E1_81THY3420180730151927843T.jpg folder has been created!\n",
      "/root/workspace/Thyroid_Solid_Nodule/data/preprocess/chenzhou/image/A4B1C4D3E2_27THY820180718100331881T.jpg folder has been created!\n",
      "/root/workspace/Thyroid_Solid_Nodule/data/preprocess/chenzhou/image/A4B1C3D1E2_73THY2820180727081735576.jpg folder has been created!\n",
      "/root/workspace/Thyroid_Solid_Nodule/data/preprocess/chenzhou/image/A3B1C3D1E1_52THY1820180723105857494.jpg folder has been created!\n",
      "/root/workspace/Thyroid_Solid_Nodule/data/preprocess/chenzhou/image/A4B1C3D2E2_46THY1720180723101346886V.jpg folder has been created!\n",
      "/root/workspace/Thyroid_Solid_Nodule/data/preprocess/chenzhou/image/A2B1C3D1E1_9THY420180717154009833V.jpg folder has been created!\n",
      "/root/workspace/Thyroid_Solid_Nodule/data/preprocess/chenzhou/image/A3B1C3D1E1_17THY520180717164538347V.jpg folder has been created!\n",
      "/root/workspace/Thyroid_Solid_Nodule/data/preprocess/chenzhou/image/A4B2C4D1E3_16620460820180903THY12220180903084803797T.jpg folder has been created!\n",
      "/root/workspace/Thyroid_Solid_Nodule/data/preprocess/chenzhou/image/A4B1C3D1E1_130THY5620180830155714696T.jpg folder has been created!\n",
      "/root/workspace/Thyroid_Solid_Nodule/data/preprocess/chenzhou/image/A4B1C3D2E4_101THY4320180820151945801V.jpg folder has been created!\n",
      "/root/workspace/Thyroid_Solid_Nodule/data/preprocess/chenzhou/image/A4B1C3D1E1_66THY2420180725151024809V.jpg folder has been created!\n",
      "/root/workspace/Thyroid_Solid_Nodule/data/preprocess/chenzhou/image/A4B2C4D2E4_18412221420180907THY13120180907142357122T.jpg folder has been created!\n",
      "/root/workspace/Thyroid_Solid_Nodule/data/preprocess/chenzhou/image/A4B1C4D1E2_15039310820180803THY11120180803083322518V.jpg folder has been created!\n",
      "/root/workspace/Thyroid_Solid_Nodule/data/preprocess/chenzhou/image/A4B1C2D2E2_23THY620180718090038519V.jpg folder has been created!\n",
      "/root/workspace/Thyroid_Solid_Nodule/data/preprocess/chenzhou/image/A4B1C3D1E1_134THY5720180831150957049T.jpg folder has been created!\n",
      "/root/workspace/Thyroid_Solid_Nodule/data/preprocess/chenzhou/image/A2B1C2D1E1_129THY5620180830155653646T.jpg folder has been created!\n",
      "/root/workspace/Thyroid_Solid_Nodule/data/preprocess/chenzhou/image/A4B2C3D2E4_20637011020181015THY15120181015100309131T.jpg folder has been created!\n",
      "/root/workspace/Thyroid_Solid_Nodule/data/preprocess/chenzhou/image/A4B1C3D1E1_31THY1020180719095514121T.jpg folder has been created!\n",
      "/root/workspace/Thyroid_Solid_Nodule/data/preprocess/chenzhou/image/A1B1C1D1E1_14743321020180802THY11020180802103509488T.jpg folder has been created!\n",
      "/root/workspace/Thyroid_Solid_Nodule/data/preprocess/chenzhou/image/A2B1C2D1E1_59THY2120180724083124439T.jpg folder has been created!\n",
      "/root/workspace/Thyroid_Solid_Nodule/data/preprocess/chenzhou/image/A4B1C4D4E4_82THY3520180802154709877V.jpg folder has been created!\n",
      "/root/workspace/Thyroid_Solid_Nodule/data/preprocess/chenzhou/image/A4B1C3D2E1_81THY3420180730151932295V.jpg folder has been created!\n",
      "/root/workspace/Thyroid_Solid_Nodule/data/preprocess/chenzhou/image/A4B1C4D3E1_80THY3320180730113749621V.jpg folder has been created!\n",
      "/root/workspace/Thyroid_Solid_Nodule/data/preprocess/chenzhou/image/A4B1C4D2E4_14425401520180801THY10820180801154051949V.jpg folder has been created!\n",
      "/root/workspace/Thyroid_Solid_Nodule/data/preprocess/chenzhou/image/A4B1C3D2E1_121THY5220180830104309628V.jpg folder has been created!\n",
      "/root/workspace/Thyroid_Solid_Nodule/data/preprocess/chenzhou/image/A2B1C2D2E1_14939310820180803THY11120180803083222695V.jpg folder has been created!\n",
      "/root/workspace/Thyroid_Solid_Nodule/data/preprocess/chenzhou/image/A4B1C2D1E1_116THY4920180830101813526.jpg folder has been created!\n",
      "/root/workspace/Thyroid_Solid_Nodule/data/preprocess/chenzhou/image/A4B1C4D3E4_96THY4120180817152016715V.jpg folder has been created!\n",
      "/root/workspace/Thyroid_Solid_Nodule/data/preprocess/chenzhou/image/A1B1C1D1E1_51THY1820180723105819661.jpg folder has been created!\n",
      "/root/workspace/Thyroid_Solid_Nodule/data/preprocess/chenzhou/image/A3B1C2D1E1_19305161420180913THY13820180913141631443V.jpg folder has been created!\n",
      "/root/workspace/Thyroid_Solid_Nodule/data/preprocess/chenzhou/image/A4B1C2D1E2_15THY520180717164126272T.jpg folder has been created!\n",
      "/root/workspace/Thyroid_Solid_Nodule/data/preprocess/chenzhou/image/A1B1C1D1E1_84THY3720180816083604226.jpg folder has been created!\n",
      "/root/workspace/Thyroid_Solid_Nodule/data/preprocess/chenzhou/image/A4B1C4D2E1_12THY420180717154259278T.jpg folder has been created!\n",
      "/root/workspace/Thyroid_Solid_Nodule/data/preprocess/chenzhou/image/A4B2C4D3E4_13615096182004THY10044420180731100240213.jpg folder has been created!\n",
      "/root/workspace/Thyroid_Solid_Nodule/data/preprocess/chenzhou/image/A4B1C3D2E2_46THY1720180723101411146T.jpg folder has been created!\n",
      "/root/workspace/Thyroid_Solid_Nodule/data/preprocess/chenzhou/image/A2B1C2D1E1_17903271020180906THY12920180906102800038T.jpg folder has been created!\n",
      "/root/workspace/Thyroid_Solid_Nodule/data/preprocess/chenzhou/image/A4B1C2D1E1_103THY4420180822155400562T.jpg folder has been created!\n",
      "/root/workspace/Thyroid_Solid_Nodule/data/preprocess/chenzhou/image/A4B1C3D4E1_42THY1520180723091028435V.jpg folder has been created!\n",
      "/root/workspace/Thyroid_Solid_Nodule/data/preprocess/chenzhou/image/A4B1C3D1E1_97THY4220180817162030741T.jpg folder has been created!\n",
      "/root/workspace/Thyroid_Solid_Nodule/data/preprocess/chenzhou/image/A4B1C3D2E4_18710491520180907THY13220180907154945971V.jpg folder has been created!\n",
      "/root/workspace/Thyroid_Solid_Nodule/data/preprocess/chenzhou/image/A4B1C3D1E2_1THY120180717090410669T.jpg folder has been created!\n",
      "/root/workspace/Thyroid_Solid_Nodule/data/preprocess/chenzhou/image/A2B1C3D1E1_43THY1520180723091120950T.jpg folder has been created!\n",
      "/root/workspace/Thyroid_Solid_Nodule/data/preprocess/chenzhou/image/A4B1C4D2E1_14327361520180801THY100720180801153739361T.jpg folder has been created!\n",
      "/root/workspace/Thyroid_Solid_Nodule/data/preprocess/chenzhou/image/A4B1C3D3E4_126THY5520180830150404560T.jpg folder has been created!\n",
      "/root/workspace/Thyroid_Solid_Nodule/data/preprocess/chenzhou/image/A4B1C2D1E1_79THY3220180730112308602V.jpg folder has been created!\n",
      "/root/workspace/Thyroid_Solid_Nodule/data/preprocess/chenzhou/image/A4B1C2D1E1_19507361420181009THY14020181009143620711T.jpg folder has been created!\n",
      "/root/workspace/Thyroid_Solid_Nodule/data/preprocess/chenzhou/image/A3B1C2D2E1_102THY4320180820152010614V.jpg folder has been created!\n",
      "/root/workspace/Thyroid_Solid_Nodule/data/preprocess/chenzhou/image/A4B1C4D1E1_20851051020181015THY15220181015100613176V.jpg folder has been created!\n",
      "/root/workspace/Thyroid_Solid_Nodule/data/preprocess/chenzhou/image/A4B1C4D3E1_14327361520180801THY100720180801153756641V.jpg folder has been created!\n",
      "/root/workspace/Thyroid_Solid_Nodule/data/preprocess/chenzhou/image/A3B1C2D1E1_18832480920180912THY13320180912094913580V.jpg folder has been created!\n",
      "/root/workspace/Thyroid_Solid_Nodule/data/preprocess/chenzhou/image/A1B1C1D1E2_65THY2420180725111048364T.jpg folder has been created!\n",
      "/root/workspace/Thyroid_Solid_Nodule/data/preprocess/chenzhou/image/A4B1C2D1E1_107THY4620180823092511176T.jpg folder has been created!\n",
      "/root/workspace/Thyroid_Solid_Nodule/data/preprocess/chenzhou/image/A4B1C4D1E1_17803271020180906THY12920180906102727719T.jpg folder has been created!\n",
      "/root/workspace/Thyroid_Solid_Nodule/data/preprocess/chenzhou/image/A4B1C4D2E1_22THY620180718085910707T.jpg folder has been created!\n",
      "/root/workspace/Thyroid_Solid_Nodule/data/preprocess/chenzhou/image/A3B1C2D1E1_78THY3220180730112055330.jpg folder has been created!\n",
      "/root/workspace/Thyroid_Solid_Nodule/data/preprocess/chenzhou/image/A4B1C4D2E2_1THY120180717090457252V.jpg folder has been created!\n",
      "/root/workspace/Thyroid_Solid_Nodule/data/preprocess/chenzhou/image/A4B1C2D1E1_16820460820180903THY12220180903085114697T.jpg folder has been created!\n",
      "/root/workspace/Thyroid_Solid_Nodule/data/preprocess/chenzhou/image/A4B1C3D2E4_20737380920181105THY15220181105093932804V.jpg folder has been created!\n",
      "/root/workspace/Thyroid_Solid_Nodule/data/preprocess/chenzhou/image/A4B1C4D1E4_45THY16RUTOUCA20180723094739352V.jpg folder has been created!\n",
      "/root/workspace/Thyroid_Solid_Nodule/data/preprocess/chenzhou/image/A4B1C4D1E2_36THY1120180719103815545T.jpg folder has been created!\n"
     ]
    },
    {
     "name": "stdout",
     "output_type": "stream",
     "text": [
      "/root/workspace/Thyroid_Solid_Nodule/data/preprocess/chenzhou/image/A4B2C4D1E1_20537011020181015THY15120181015100201835T.jpg folder has been created!\n",
      "/root/workspace/Thyroid_Solid_Nodule/data/preprocess/chenzhou/image/A1B1C1D1E1_8THY320180717103915416.jpg folder has been created!\n",
      "/root/workspace/Thyroid_Solid_Nodule/data/preprocess/chenzhou/image/A4B2C4D2E1_15900171120180814THY11720180814111750344V.jpg folder has been created!\n",
      "/root/workspace/Thyroid_Solid_Nodule/data/preprocess/chenzhou/image/A4B1C3D2E1_121THY5220180830104301820T.jpg folder has been created!\n",
      "/root/workspace/Thyroid_Solid_Nodule/data/preprocess/chenzhou/image/A4B1C2D1E1_41THY1520180723090940128V.jpg folder has been created!\n",
      "/root/workspace/Thyroid_Solid_Nodule/data/preprocess/chenzhou/image/A3B1C2D1E1_29THY920180719083603099T.jpg folder has been created!\n",
      "/root/workspace/Thyroid_Solid_Nodule/data/preprocess/chenzhou/image/A4B1C4D2E1_35THY1120180719103805567V.jpg folder has been created!\n",
      "/root/workspace/Thyroid_Solid_Nodule/data/preprocess/chenzhou/image/A4B1C3D3E4_135THY5820180831164222001V.jpg folder has been created!\n",
      "/root/workspace/Thyroid_Solid_Nodule/data/preprocess/chenzhou/image/A4B1C3D1E1_19857321120181010THY14420181010113314295T.jpg folder has been created!\n",
      "/root/workspace/Thyroid_Solid_Nodule/data/preprocess/chenzhou/image/A3B1C2D1E1_75THY3020180727095928016T.jpg folder has been created!\n",
      "/root/workspace/Thyroid_Solid_Nodule/data/preprocess/chenzhou/image/A4B1C2D1E1_6THY220180717093343538T.jpg folder has been created!\n",
      "/root/workspace/Thyroid_Solid_Nodule/data/preprocess/chenzhou/image/A2B1C3D1E1_15853110920180814THY11620180814091403174V.jpg folder has been created!\n",
      "/root/workspace/Thyroid_Solid_Nodule/data/preprocess/chenzhou/image/A1B1C1D2E1_47THY1820180723105541811.jpg folder has been created!\n",
      "/root/workspace/Thyroid_Solid_Nodule/data/preprocess/chenzhou/image/A3B1C2D2E1_16920460820180903THY12220180903085223319V.jpg folder has been created!\n",
      "/root/workspace/Thyroid_Solid_Nodule/data/preprocess/chenzhou/image/A4B2C4D2E1_11THY420180717154124267T.jpg folder has been created!\n",
      "/root/workspace/Thyroid_Solid_Nodule/data/preprocess/chenzhou/image/A4B1C4D2E1_10THY420180717154034370V.jpg folder has been created!\n",
      "/root/workspace/Thyroid_Solid_Nodule/data/preprocess/chenzhou/image/A4B1C3D1E1_120THY5220180830104131097.jpg folder has been created!\n",
      "/root/workspace/Thyroid_Solid_Nodule/data/preprocess/chenzhou/image/A4B2C3D2E1_17612091620180905THY12820180905161020035T.jpg folder has been created!\n",
      "/root/workspace/Thyroid_Solid_Nodule/data/preprocess/chenzhou/image/A2B1C2D1E1_16127530820180815THY11820180815085834388T.jpg folder has been created!\n",
      "/root/workspace/Thyroid_Solid_Nodule/data/preprocess/chenzhou/image/A4B2C3D3E1_132THY5720180831150731208T.jpg folder has been created!\n",
      "/root/workspace/Thyroid_Solid_Nodule/data/preprocess/chenzhou/image/A4B1C2D1E1_56THY1920180723153847035V.jpg folder has been created!\n",
      "/root/workspace/Thyroid_Solid_Nodule/data/preprocess/chenzhou/image/A4B1C4D2E1_14049370920180801THY100620180801093852627.jpg folder has been created!\n",
      "/root/workspace/Thyroid_Solid_Nodule/data/preprocess/chenzhou/image/A4B1C4D1E2_36THY1120180719103811395V.jpg folder has been created!\n",
      "/root/workspace/Thyroid_Solid_Nodule/data/preprocess/chenzhou/image/A4B1C2D1E2_21THY620180718085845477V.jpg folder has been created!\n",
      "/root/workspace/Thyroid_Solid_Nodule/data/preprocess/chenzhou/image/A4B1C4D2E2_1THY120180717090430987V.jpg folder has been created!\n",
      "/root/workspace/Thyroid_Solid_Nodule/data/preprocess/chenzhou/image/A3B1C1D1E1_49THY1820180723105708952V.jpg folder has been created!\n",
      "/root/workspace/Thyroid_Solid_Nodule/data/preprocess/chenzhou/image/A1B1C1D1E1_8THY320180717103929702.jpg folder has been created!\n",
      "/root/workspace/Thyroid_Solid_Nodule/data/preprocess/chenzhou/image/A4B1C2D1E1_6THY220180717093343538V.jpg folder has been created!\n",
      "/root/workspace/Thyroid_Solid_Nodule/data/preprocess/chenzhou/image/A4B1C3D2E1_20444120920181015THY15020181015091306133T.jpg folder has been created!\n",
      "/root/workspace/Thyroid_Solid_Nodule/data/preprocess/chenzhou/image/A4B1C3D1E1_32THY1020180719095554616T.jpg folder has been created!\n",
      "/root/workspace/Thyroid_Solid_Nodule/data/preprocess/chenzhou/image/A4B1C3D2E4_106THY4620180823092459908V.jpg folder has been created!\n",
      "/root/workspace/Thyroid_Solid_Nodule/data/preprocess/chenzhou/image/A4B1C4D3E4_40THY1420180720115425606T.jpg folder has been created!\n",
      "/root/workspace/Thyroid_Solid_Nodule/data/preprocess/chenzhou/image/A4B1C4D1E1_20851051020181015THY15220181015100607049T.jpg folder has been created!\n",
      "/root/workspace/Thyroid_Solid_Nodule/data/preprocess/chenzhou/image/A4B1C3D1E3_67THY2520180725160009149V.jpg folder has been created!\n",
      "/root/workspace/Thyroid_Solid_Nodule/data/preprocess/chenzhou/image/A4B1C3D3E1_62THY2220180724105629083.jpg folder has been created!\n",
      "/root/workspace/Thyroid_Solid_Nodule/data/preprocess/chenzhou/image/A4B2C4D1E2_16620460820180903THY12220180903084813173V.jpg folder has been created!\n",
      "/root/workspace/Thyroid_Solid_Nodule/data/preprocess/chenzhou/image/A3B1C2D1E1_110THY4620180823092700431T.jpg folder has been created!\n",
      "/root/workspace/Thyroid_Solid_Nodule/data/preprocess/chenzhou/image/A3B1C2D2E1_16435091520180815THY12020180815151120041T.jpg folder has been created!\n",
      "/root/workspace/Thyroid_Solid_Nodule/data/preprocess/chenzhou/image/A4B2C4D1E1_18025311120180906THY13020180906113225686V.jpg folder has been created!\n",
      "/root/workspace/Thyroid_Solid_Nodule/data/preprocess/chenzhou/image/A4B1C4D3E1_19449541120181008THY13920181008115503254V.jpg folder has been created!\n",
      "/root/workspace/Thyroid_Solid_Nodule/data/preprocess/chenzhou/image/A4B1C4D2E1_96THY4120180817151839960T.jpg folder has been created!\n",
      "/root/workspace/Thyroid_Solid_Nodule/data/preprocess/chenzhou/image/A4B1C4D2E1_49THY1820180723105800168T.jpg folder has been created!\n",
      "/root/workspace/Thyroid_Solid_Nodule/data/preprocess/chenzhou/image/A4B1C3D2E3_92THY3820180816095351125V.jpg folder has been created!\n",
      "/root/workspace/Thyroid_Solid_Nodule/data/preprocess/chenzhou/image/A4B1C3D1E1_54THY1920180723153752131.jpg folder has been created!\n",
      "/root/workspace/Thyroid_Solid_Nodule/data/preprocess/chenzhou/image/A4B1C3D1E1_130THY5620180830155723060V.jpg folder has been created!\n",
      "/root/workspace/Thyroid_Solid_Nodule/data/preprocess/chenzhou/image/A1B1C1D2E1_48THY1820180723105605185.jpg folder has been created!\n",
      "/root/workspace/Thyroid_Solid_Nodule/data/preprocess/chenzhou/image/A4B1C3D1E1_62THY2220180724105618227.jpg folder has been created!\n",
      "/root/workspace/Thyroid_Solid_Nodule/data/preprocess/chenzhou/image/A4B1C3D1E1_55THY1920180723153752131T.jpg folder has been created!\n",
      "/root/workspace/Thyroid_Solid_Nodule/data/preprocess/chenzhou/image/A4B2C4D2E1_34THY1120180719103655256T.jpg folder has been created!\n",
      "/root/workspace/Thyroid_Solid_Nodule/data/preprocess/chenzhou/image/A4B1C3D4E4_19207201120180913THY13720180913112041094V.jpg folder has been created!\n",
      "/root/workspace/Thyroid_Solid_Nodule/data/preprocess/chenzhou/image/A4B1C4D1E1_19033561020180912THY13520180912110122531T.jpg folder has been created!\n",
      "/root/workspace/Thyroid_Solid_Nodule/data/preprocess/chenzhou/image/A4B1C2D1E1_18312221420180907THY13120180907142316939V.jpg folder has been created!\n",
      "/root/workspace/Thyroid_Solid_Nodule/data/preprocess/chenzhou/image/A4B2C3D3E1_111THY4720180823111607873.jpg folder has been created!\n",
      "/root/workspace/Thyroid_Solid_Nodule/data/preprocess/chenzhou/image/A1B1C1D1E1_20335241120181012THY14920181012112755639T.jpg folder has been created!\n",
      "/root/workspace/Thyroid_Solid_Nodule/data/preprocess/chenzhou/image/A3B1C3D1E1_17THY520180717164628907T.jpg folder has been created!\n",
      "/root/workspace/Thyroid_Solid_Nodule/data/preprocess/chenzhou/image/A3B1C2D1E1_33THY1020180719095713877V.jpg folder has been created!\n",
      "/root/workspace/Thyroid_Solid_Nodule/data/preprocess/chenzhou/image/A3B1C3D1E1_53THY1920180723153658424T.jpg folder has been created!\n",
      "/root/workspace/Thyroid_Solid_Nodule/data/preprocess/chenzhou/image/A4B1C2D1E2_20THY620180718085811320T.jpg folder has been created!\n",
      "/root/workspace/Thyroid_Solid_Nodule/data/preprocess/chenzhou/image/A4B1C2D2E1_57THY2020180723163120406V.jpg folder has been created!\n",
      "/root/workspace/Thyroid_Solid_Nodule/data/preprocess/chenzhou/image/A2B1C2D1E1_129THY5620180830155700047V.jpg folder has been created!\n"
     ]
    },
    {
     "name": "stdout",
     "output_type": "stream",
     "text": [
      "/root/workspace/Thyroid_Solid_Nodule/data/preprocess/chenzhou/image/A4B1C3D1E1_15139310820180803THY11120180803083729652T.jpg folder has been created!\n",
      "/root/workspace/Thyroid_Solid_Nodule/data/preprocess/chenzhou/image/A4B1C3D1E1_107THY4620180823092518177V.jpg folder has been created!\n",
      "/root/workspace/Thyroid_Solid_Nodule/data/preprocess/chenzhou/image/A4B1C3D1E3_92THY3820180816095345993T.jpg folder has been created!\n",
      "/root/workspace/Thyroid_Solid_Nodule/data/preprocess/chenzhou/image/A4B1C4D2E1_10THY420180717154027767T.jpg folder has been created!\n",
      "/root/workspace/Thyroid_Solid_Nodule/data/preprocess/chenzhou/image/A4B1C2D2E4_27THY820180718100440925V.jpg folder has been created!\n",
      "/root/workspace/Thyroid_Solid_Nodule/data/preprocess/chenzhou/image/A4B1C2D2E2_14643321020180802THY11020180802103442544V.jpg folder has been created!\n",
      "/root/workspace/Thyroid_Solid_Nodule/data/preprocess/chenzhou/image/A4B1C2D1E2_19643351520181009THY14220181009153709209V.jpg folder has been created!\n",
      "/root/workspace/Thyroid_Solid_Nodule/data/preprocess/chenzhou/image/A4B1C3D1E1_66THY2420180725151007551T.jpg folder has been created!\n",
      "/root/workspace/Thyroid_Solid_Nodule/data/preprocess/chenzhou/image/A4B2C3D2E4_18710491520180907THY13220180907155006523T.jpg folder has been created!\n",
      "/root/workspace/Thyroid_Solid_Nodule/data/preprocess/chenzhou/image/A4B1C3D1E1_20951051020181015THY15220181015100706184V.jpg folder has been created!\n",
      "/root/workspace/Thyroid_Solid_Nodule/data/preprocess/chenzhou/image/A4B2C4D2E4_17025011620180904THY12420180904160243673V.jpg folder has been created!\n",
      "/root/workspace/Thyroid_Solid_Nodule/data/preprocess/chenzhou/image/A4B1C3D1E1_89THY3720180816083900558.jpg folder has been created!\n",
      "/root/workspace/Thyroid_Solid_Nodule/data/preprocess/chenzhou/image/A4B1C4D1E1_20028320920181012THY14720181012093723390T.jpg folder has been created!\n",
      "/root/workspace/Thyroid_Solid_Nodule/data/preprocess/chenzhou/image/A2B1C2D1E1_97THY4220180817162051585V.jpg folder has been created!\n",
      "/root/workspace/Thyroid_Solid_Nodule/data/preprocess/chenzhou/image/A4B1C3D1E1_24THY620180718090107371V.jpg folder has been created!\n",
      "/root/workspace/Thyroid_Solid_Nodule/data/preprocess/chenzhou/image/A3B1C2D1E1_131THY5620180830155736480V.jpg folder has been created!\n",
      "/root/workspace/Thyroid_Solid_Nodule/data/preprocess/chenzhou/image/A2B1C2D1E1_77THY3220180730111900029V.jpg folder has been created!\n",
      "/root/workspace/Thyroid_Solid_Nodule/data/preprocess/chenzhou/image/A4B1C2D1E1_28THY820180718100642356T.jpg folder has been created!\n",
      "/root/workspace/Thyroid_Solid_Nodule/data/preprocess/chenzhou/image/A4B1C3D1E1_134THY5720180831151011261V.jpg folder has been created!\n",
      "/root/workspace/Thyroid_Solid_Nodule/data/preprocess/chenzhou/image/A4B2C4D2E1_11THY420180717154142621V.jpg folder has been created!\n",
      "/root/workspace/Thyroid_Solid_Nodule/data/preprocess/chenzhou/image/A2B1C2D1E2_133THY5720180831150908534T.jpg folder has been created!\n",
      "/root/workspace/Thyroid_Solid_Nodule/data/preprocess/chenzhou/image/A4B1C3D1E4_31THY1020180719095447611V.jpg folder has been created!\n",
      "/root/workspace/Thyroid_Solid_Nodule/data/preprocess/chenzhou/image/A3B1C2D1E1_26THY720180718092354186V.jpg folder has been created!\n",
      "/root/workspace/Thyroid_Solid_Nodule/data/preprocess/chenzhou/image/A4B1C4D4E4_20637011020181015THY15120181015100301587V.jpg folder has been created!\n",
      "/root/workspace/Thyroid_Solid_Nodule/data/preprocess/chenzhou/image/A3B1C2D1E1_16920460820180903THY12220180903085216783T.jpg folder has been created!\n",
      "/root/workspace/Thyroid_Solid_Nodule/data/preprocess/chenzhou/image/A1B1C1D1E1_18212221420180907THY13120180907142300571V.jpg folder has been created!\n",
      "/root/workspace/Thyroid_Solid_Nodule/data/preprocess/chenzhou/image/A4B1C4D2E1_17207131120180905THY12520180905111333401T.jpg folder has been created!\n",
      "/root/workspace/Thyroid_Solid_Nodule/data/preprocess/chenzhou/image/A4B1C2D2E2_18612221420180907THY13120180907142527705T.jpg folder has been created!\n",
      "/root/workspace/Thyroid_Solid_Nodule/data/preprocess/chenzhou/image/A4B1C2D1E1_30THY920180719083801291T.jpg folder has been created!\n",
      "/root/workspace/Thyroid_Solid_Nodule/data/preprocess/chenzhou/image/A4B1C4D2E2_14506210920180802THY10920180802092211942V.jpg folder has been created!\n",
      "/root/workspace/Thyroid_Solid_Nodule/data/preprocess/chenzhou/image/A4B1C4D2E1_43THY1520180723091108789V.jpg folder has been created!\n",
      "/root/workspace/Thyroid_Solid_Nodule/data/preprocess/chenzhou/image/A2B1C3D1E1_9THY420180717153949009T.jpg folder has been created!\n",
      "/root/workspace/Thyroid_Solid_Nodule/data/preprocess/chenzhou/image/A1B1C1D1E1_117THY5020180830102903081V.jpg folder has been created!\n",
      "/root/workspace/Thyroid_Solid_Nodule/data/preprocess/chenzhou/image/A4B1C3D2E1_61THY2220180724105557745.jpg folder has been created!\n",
      "/root/workspace/Thyroid_Solid_Nodule/data/preprocess/chenzhou/image/A4B2C4D1E1_4THY220180717093005774.jpg folder has been created!\n",
      "/root/workspace/Thyroid_Solid_Nodule/data/preprocess/chenzhou/image/A4B2C3D3E1_119THY5120180830103253960.jpg folder has been created!\n",
      "/root/workspace/Thyroid_Solid_Nodule/data/preprocess/chenzhou/image/A4B2C4D3E4_13615096182004THY10044420180731100513858V.jpg folder has been created!\n",
      "/root/workspace/Thyroid_Solid_Nodule/data/preprocess/chenzhou/image/A4B1C3D2E1_58THY2120180724082928903V.jpg folder has been created!\n",
      "/root/workspace/Thyroid_Solid_Nodule/data/preprocess/chenzhou/image/A1B1C1D1E1_13THY420180717154406594V.jpg folder has been created!\n",
      "/root/workspace/Thyroid_Solid_Nodule/data/preprocess/chenzhou/image/A4B1C4D1E1_15303221020180803THY11320180803102243041T.jpg folder has been created!\n",
      "/root/workspace/Thyroid_Solid_Nodule/data/preprocess/chenzhou/image/A4B2C4D2E4_17025011620180904THY12420180904160219258T.jpg folder has been created!\n",
      "/root/workspace/Thyroid_Solid_Nodule/data/preprocess/chenzhou/image/A4B1C4D2E3_16226411420180815THY11920180815150022611V.jpg folder has been created!\n",
      "/root/workspace/Thyroid_Solid_Nodule/data/preprocess/chenzhou/image/A4B2C4D2E1_17510361420180905THY12720180905143725965T.jpg folder has been created!\n",
      "/root/workspace/Thyroid_Solid_Nodule/data/preprocess/chenzhou/image/A4B2C3D3E4_106THY4620180823092452358T.jpg folder has been created!\n",
      "/root/workspace/Thyroid_Solid_Nodule/data/preprocess/chenzhou/image/A1B1C1D1E1_112THY4820180830092014988T.jpg folder has been created!\n",
      "/root/workspace/Thyroid_Solid_Nodule/data/preprocess/chenzhou/image/A3B1C2D1E1_33THY1020180719095729118V.jpg folder has been created!\n",
      "/root/workspace/Thyroid_Solid_Nodule/data/preprocess/chenzhou/image/A3B1C2D1E1_17712091620180905THY12820180905161204599V.jpg folder has been created!\n",
      "/root/workspace/Thyroid_Solid_Nodule/data/preprocess/chenzhou/image/A3B1C2D1E1_18927520920180912THY13420180912095456117V.jpg folder has been created!\n",
      "/root/workspace/Thyroid_Solid_Nodule/data/preprocess/chenzhou/image/A4B1C4D2E1_12THY420180717154308708V.jpg folder has been created!\n",
      "/root/workspace/Thyroid_Solid_Nodule/data/preprocess/chenzhou/image/A4B1C4D2E1_35THY1120180719103749372T.jpg folder has been created!\n",
      "/root/workspace/Thyroid_Solid_Nodule/data/preprocess/chenzhou/image/A4B1C3D3E4_83THY3620180802160206067V.jpg folder has been created!\n",
      "/root/workspace/Thyroid_Solid_Nodule/data/preprocess/chenzhou/image/A4B1C3D2E1_94THY4020180817101538175V.jpg folder has been created!\n",
      "/root/workspace/Thyroid_Solid_Nodule/data/preprocess/chenzhou/image/A4B2C3D1E1_127THY5520180830150554659V.jpg folder has been created!\n",
      "/root/workspace/Thyroid_Solid_Nodule/data/preprocess/chenzhou/image/A4B1C3D2E1_91THY3720180816083938035T.jpg folder has been created!\n",
      "/root/workspace/Thyroid_Solid_Nodule/data/preprocess/chenzhou/image/A4B1C4D1E4_17448191420180905THY12620180905142127374T.jpg folder has been created!\n",
      "/root/workspace/Thyroid_Solid_Nodule/data/preprocess/chenzhou/image/A1B1C1D1E2_65THY2420180725111056277V.jpg folder has been created!\n",
      "/root/workspace/Thyroid_Solid_Nodule/data/preprocess/chenzhou/image/A4B1C2D1E1_41THY1520180723090848669T.jpg folder has been created!\n",
      "/root/workspace/Thyroid_Solid_Nodule/data/preprocess/chenzhou/image/A4B2C3D2E4_58THY2120180724082856596T.jpg folder has been created!\n",
      "/root/workspace/Thyroid_Solid_Nodule/data/preprocess/chenzhou/image/A4B1C4D1E1_17348191420180905THY12620180905142013941T.jpg folder has been created!\n",
      "/root/workspace/Thyroid_Solid_Nodule/data/preprocess/chenzhou/image/A4B1C2D1E1_15422141520180813THY11420180813151442568T.jpg folder has been created!\n"
     ]
    },
    {
     "name": "stdout",
     "output_type": "stream",
     "text": [
      "/root/workspace/Thyroid_Solid_Nodule/data/preprocess/chenzhou/image/A4B1C3D4E4_19207201120180913THY13720180913112036774T.jpg folder has been created!\n",
      "/root/workspace/Thyroid_Solid_Nodule/data/preprocess/chenzhou/image/A4B1C3D2E1_18125311120180906THY13020180906113306726T.jpg folder has been created!\n",
      "/root/workspace/Thyroid_Solid_Nodule/data/preprocess/chenzhou/image/A3B1C3D1E1_14THY420180717154543745V.jpg folder has been created!\n",
      "/root/workspace/Thyroid_Solid_Nodule/data/preprocess/chenzhou/image/A2B1C3D1E1_5THY220180717093110125.jpg folder has been created!\n",
      "/root/workspace/Thyroid_Solid_Nodule/data/preprocess/chenzhou/image/A4B1C4D1E1_17448191420180905THY12620180905142132295V.jpg folder has been created!\n",
      "/root/workspace/Thyroid_Solid_Nodule/data/preprocess/chenzhou/image/A4B1C4D3E4_17125011620180904THY12420180904160257193V.jpg folder has been created!\n",
      "/root/workspace/Thyroid_Solid_Nodule/data/preprocess/chenzhou/image/A4B1C4D4E1_37THY1220180720110535957T.jpg folder has been created!\n",
      "/root/workspace/Thyroid_Solid_Nodule/data/preprocess/chenzhou/image/A4B1C3D1E1_31THY1020180719095438431T.jpg folder has been created!\n",
      "/root/workspace/Thyroid_Solid_Nodule/data/preprocess/chenzhou/image/A4B2C4D1E1_7THY320180717103710433.jpg folder has been created!\n",
      "/root/workspace/Thyroid_Solid_Nodule/data/preprocess/chenzhou/image/A4B2C4D2E1_14939310820180803THY11120180803083209135T.jpg folder has been created!\n",
      "/root/workspace/Thyroid_Solid_Nodule/data/preprocess/chenzhou/image/A4B1C2D1E1_122THY5220180830104407094V.jpg folder has been created!\n",
      "/root/workspace/Thyroid_Solid_Nodule/data/preprocess/chenzhou/image/A4B1C3D1E1_60THY2220180724105557745V.jpg folder has been created!\n",
      "/root/workspace/Thyroid_Solid_Nodule/data/preprocess/chenzhou/image/A4B1C4D3E4_82THY3520180802154718017V.jpg folder has been created!\n",
      "/root/workspace/Thyroid_Solid_Nodule/data/preprocess/chenzhou/image/A4B1C4D3E4_82THY3520180802154659070T.jpg folder has been created!\n",
      "/root/workspace/Thyroid_Solid_Nodule/data/preprocess/chenzhou/image/A4B2C3D1E4_16226411420180815THY11920180815150128697T.jpg folder has been created!\n",
      "/root/workspace/Thyroid_Solid_Nodule/data/preprocess/chenzhou/image/A4B1C3D1E2_73THY2820180727081822074.jpg folder has been created!\n",
      "/root/workspace/Thyroid_Solid_Nodule/data/preprocess/chenzhou/image/A4B1C3D1E1_74THY2920180727085825814V.jpg folder has been created!\n",
      "/root/workspace/Thyroid_Solid_Nodule/data/preprocess/chenzhou/image/A4B2C3D1E1_125THY5420180830113025675.jpg folder has been created!\n",
      "/root/workspace/Thyroid_Solid_Nodule/data/preprocess/chenzhou/image/A4B1C3D2E1_20951051020181015THY15220181015100713344T.jpg folder has been created!\n",
      "/root/workspace/Thyroid_Solid_Nodule/data/preprocess/chenzhou/image/A1B1C1D1E1_70THY2620180726100350642V.jpg folder has been created!\n",
      "/root/workspace/Thyroid_Solid_Nodule/data/preprocess/chenzhou/image/A4B1C3D1E1_60THY2220180724105531207T.jpg folder has been created!\n",
      "/root/workspace/Thyroid_Solid_Nodule/data/preprocess/chenzhou/image/A3B1C2D1E1_19643351520181009THY14220181009153700905T.jpg folder has been created!\n",
      "/root/workspace/Thyroid_Solid_Nodule/data/preprocess/chenzhou/image/A1B1C1D1E1_70THY2620180726100359152T.jpg folder has been created!\n",
      "/root/workspace/Thyroid_Solid_Nodule/data/preprocess/chenzhou/image/A3B1C2D1E1_16720460820180903THY12220180903085041081T.jpg folder has been created!\n",
      "/root/workspace/Thyroid_Solid_Nodule/data/preprocess/chenzhou/image/A4B2C4D2E1_15900171120180814THY11720180814111743296T.jpg folder has been created!\n",
      "/root/workspace/Thyroid_Solid_Nodule/data/preprocess/chenzhou/image/A4B1C4D1E1_25THY620180718090123391T.jpg folder has been created!\n",
      "/root/workspace/Thyroid_Solid_Nodule/data/preprocess/chenzhou/image/A4B1C2D1E1_18312221420180907THY13120180907142312979T.jpg folder has been created!\n",
      "/root/workspace/Thyroid_Solid_Nodule/data/preprocess/chenzhou/image/A3B1C2D1E1_17712091620180905THY12820180905161142272T.jpg folder has been created!\n",
      "/root/workspace/Thyroid_Solid_Nodule/data/preprocess/chenzhou/image/A4B1C3D1E1_19715021020181010THY14320181010100227611T.jpg folder has been created!\n",
      "/root/workspace/Thyroid_Solid_Nodule/data/preprocess/chenzhou/image/A4B1C2D2E1_15547281620180813THY11520180813163016642V.jpg folder has been created!\n",
      "/root/workspace/Thyroid_Solid_Nodule/data/preprocess/chenzhou/image/A4B2C3D4E1_99THY4320180820151818000.jpg folder has been created!\n",
      "/root/workspace/Thyroid_Solid_Nodule/data/preprocess/chenzhou/image/A4B1C4D2E1_14149370920180801THY100620180801093920486.jpg folder has been created!\n",
      "/root/workspace/Thyroid_Solid_Nodule/data/preprocess/chenzhou/image/A4B1C2D2E2_18612221420180907THY13120180907142535792V.jpg folder has been created!\n",
      "/root/workspace/Thyroid_Solid_Nodule/data/preprocess/chenzhou/image/A4B1C3D2E4_20737380920181105THY15220181105093920028T.jpg folder has been created!\n",
      "/root/workspace/Thyroid_Solid_Nodule/data/preprocess/chenzhou/image/A4B2C3D3E1_132THY5720180831150744088V.jpg folder has been created!\n",
      "/root/workspace/Thyroid_Solid_Nodule/data/preprocess/chenzhou/image/A4B2C3D1E1_127THY5520180830150526606T.jpg folder has been created!\n",
      "/root/workspace/Thyroid_Solid_Nodule/data/preprocess/chenzhou/image/A4B1C3D2E1_103THY4420180822155414957V.jpg folder has been created!\n",
      "/root/workspace/Thyroid_Solid_Nodule/data/preprocess/chenzhou/image/A1B1C1D1E1_64THY2420180725111023577V.jpg folder has been created!\n",
      "/root/workspace/Thyroid_Solid_Nodule/data/preprocess/chenzhou/image/A4B1C2D1E1_114THY4920180830101612305.jpg folder has been created!\n",
      "/root/workspace/Thyroid_Solid_Nodule/data/preprocess/chenzhou/image/A1B1C1D1E1_20335241120181012THY14920181012112749414V.jpg folder has been created!\n",
      "/root/workspace/Thyroid_Solid_Nodule/data/preprocess/chenzhou/image/A1B1C1D1E1_45THY16RUTOUCA20180723094812078T.jpg folder has been created!\n",
      "/root/workspace/Thyroid_Solid_Nodule/data/preprocess/chenzhou/image/A4B2C4D2E4_17125011620180904THY12420180904160318896T.jpg folder has been created!\n",
      "/root/workspace/Thyroid_Solid_Nodule/data/preprocess/chenzhou/image/A4B1C2D1E1_122THY5220180830104337652T.jpg folder has been created!\n",
      "/root/workspace/Thyroid_Solid_Nodule/data/preprocess/chenzhou/image/A4B2C3D1E1_68THY2520180725160036419.jpg folder has been created!\n",
      "/root/workspace/Thyroid_Solid_Nodule/data/preprocess/chenzhou/image/A3B1C2D1E1_69THY2520180725160211007V.jpg folder has been created!\n",
      "/root/workspace/Thyroid_Solid_Nodule/data/preprocess/chenzhou/image/A4B1C2D1E1_28THY820180718100554972V.jpg folder has been created!\n",
      "/root/workspace/Thyroid_Solid_Nodule/data/preprocess/chenzhou/image/A4B1C2D2E2_18THY620180718085559429V.jpg folder has been created!\n",
      "/root/workspace/Thyroid_Solid_Nodule/data/preprocess/chenzhou/image/A3B1C2D1E1_18927520920180912THY13420180912095502092T.jpg folder has been created!\n",
      "/root/workspace/Thyroid_Solid_Nodule/data/preprocess/chenzhou/image/A4B1C3D1E3_67THY2520180725155955409T.jpg folder has been created!\n",
      "/root/workspace/Thyroid_Solid_Nodule/data/preprocess/chenzhou/image/A4B1C2D1E1_91THY3720180816084001796V.jpg folder has been created!\n",
      "/root/workspace/Thyroid_Solid_Nodule/data/preprocess/chenzhou/image/A4B2C4D2E1_20537011020181015THY15120181015100225027V.jpg folder has been created!\n",
      "/root/workspace/Thyroid_Solid_Nodule/data/preprocess/chenzhou/image/A1B1C1D1E1_117THY5020180830102855214T.jpg folder has been created!\n",
      "/root/workspace/Thyroid_Solid_Nodule/data/preprocess/chenzhou/image/A4B1C3D1E1_24THY620180718090059011T.jpg folder has been created!\n",
      "/root/workspace/Thyroid_Solid_Nodule/data/preprocess/chenzhou/image/A4B1C3D1E1_13704180920180801THY100520180801092012441V.jpg folder has been created!\n",
      "/root/workspace/Thyroid_Solid_Nodule/data/preprocess/chenzhou/image/A4B1C3D3E1_76THY31YAJIAYAN20180730095823757V.jpg folder has been created!\n",
      "/root/workspace/Thyroid_Solid_Nodule/data/preprocess/chenzhou/image/A4B1C4D1E1_14425401520180801THY10820180801154042806T.jpg folder has been created!\n",
      "/root/workspace/Thyroid_Solid_Nodule/data/preprocess/chenzhou/image/A4B1C3D3E1_15753110920180814THY11620180814091249088V.jpg folder has been created!\n",
      "/root/workspace/Thyroid_Solid_Nodule/data/preprocess/chenzhou/image/A4B1C3D1E1_19715021020181010THY14320181010100231428V.jpg folder has been created!\n",
      "/root/workspace/Thyroid_Solid_Nodule/data/preprocess/chenzhou/image/A4B1C2D1E4_85THY3720180816083659348.jpg folder has been created!\n",
      "/root/workspace/Thyroid_Solid_Nodule/data/preprocess/chenzhou/image/A4B1C4D1E1_18512221420180907THY13120180907142511648V.jpg folder has been created!\n"
     ]
    },
    {
     "name": "stdout",
     "output_type": "stream",
     "text": [
      "/root/workspace/Thyroid_Solid_Nodule/data/preprocess/chenzhou/image/A4B1C4D2E4_40THY1420180720115410136V.jpg folder has been created!\n",
      "/root/workspace/Thyroid_Solid_Nodule/data/preprocess/chenzhou/image/A3B1C2D1E1_16720460820180903THY12220180903085048666V.jpg folder has been created!\n",
      "/root/workspace/Thyroid_Solid_Nodule/data/preprocess/chenzhou/image/A4B1C2D2E4_57THY2020180723163152044V.jpg folder has been created!\n",
      "/root/workspace/Thyroid_Solid_Nodule/data/preprocess/chenzhou/image/A4B2C4D1E2_15039310820180803THY11120180803083314965T.jpg folder has been created!\n",
      "/root/workspace/Thyroid_Solid_Nodule/data/preprocess/chenzhou/image/A4B1C4D3E1_63THY2320180725110438305V.jpg folder has been created!\n",
      "/root/workspace/Thyroid_Solid_Nodule/data/preprocess/chenzhou/image/A4B2C4D1E1_18025311120180906THY13020180906113215598T.jpg folder has been created!\n",
      "/root/workspace/Thyroid_Solid_Nodule/data/preprocess/chenzhou/image/A4B2C4D1E1_20135241120181012THY14920181012112510857V.jpg folder has been created!\n",
      "/root/workspace/Thyroid_Solid_Nodule/data/preprocess/chenzhou/image/A4B1C3D2E1_93THY3920180816102656461.jpg folder has been created!\n",
      "/root/workspace/Thyroid_Solid_Nodule/data/preprocess/chenzhou/image/A3B1C3D2E1_53THY1920180723153737444V.jpg folder has been created!\n",
      "/root/workspace/Thyroid_Solid_Nodule/data/preprocess/chenzhou/image/A4B2C3D1E1_100THY4320180820151846456.jpg folder has been created!\n",
      "/root/workspace/Thyroid_Solid_Nodule/data/preprocess/chenzhou/image/A4B1C3D3E4_135THY5820180831164217291T.jpg folder has been created!\n",
      "/root/workspace/Thyroid_Solid_Nodule/data/preprocess/chenzhou/image/A3B1C2D1E1_95THY4020180817101552004T.jpg folder has been created!\n",
      "/root/workspace/Thyroid_Solid_Nodule/data/preprocess/chenzhou/image/A2B1C2D1E1_19127090920180913THY13620180913091158678V.jpg folder has been created!\n",
      "/root/workspace/Thyroid_Solid_Nodule/data/preprocess/chenzhou/image/A4B1C3D2E2_71THY2620180726100802840V.jpg folder has been created!\n",
      "/root/workspace/Thyroid_Solid_Nodule/data/preprocess/chenzhou/image/A4B1C4D2E1_14843321020180802THY11020180802103550031T.jpg folder has been created!\n",
      "/root/workspace/Thyroid_Solid_Nodule/data/preprocess/chenzhou/image/A4B1C2D1E1_15233051020180803THY11220180803100554538T.jpg folder has been created!\n",
      "/root/workspace/Thyroid_Solid_Nodule/data/preprocess/chenzhou/image/A4B1C3D3E4_88THY3720180816083815940.jpg folder has been created!\n",
      "/root/workspace/Thyroid_Solid_Nodule/data/preprocess/chenzhou/image/A3B1C2D2E1_75THY3020180727095942426V.jpg folder has been created!\n",
      "/root/workspace/Thyroid_Solid_Nodule/data/preprocess/chenzhou/image/A2B1C2D1E1_104THY4520180823091218539V.jpg folder has been created!\n",
      "/root/workspace/Thyroid_Solid_Nodule/data/preprocess/chenzhou/image/A2B1C2D1E1_77THY3220180730111846185T.jpg folder has been created!\n",
      "/root/workspace/Thyroid_Solid_Nodule/data/preprocess/chenzhou/image/A4B1C3D3E1_76THY31YAJIAYAN20180730095813902T.jpg folder has been created!\n",
      "/root/workspace/Thyroid_Solid_Nodule/data/preprocess/chenzhou/image/A4B1C2D1E1_109THY4620180823092644002V.jpg folder has been created!\n",
      "/root/workspace/Thyroid_Solid_Nodule/data/preprocess/chenzhou/image/A1B1C1D1E1_64THY2420180725111028747T.jpg folder has been created!\n",
      "/root/workspace/Thyroid_Solid_Nodule/data/preprocess/chenzhou/image/A4B1C2D2E2_14643321020180802THY11020180802103320706T.jpg folder has been created!\n",
      "/root/workspace/Thyroid_Solid_Nodule/data/preprocess/chenzhou/image/A4B1C3D4E1_20444120920181015THY15020181015091311893V.jpg folder has been created!\n",
      "/root/workspace/Thyroid_Solid_Nodule/data/preprocess/chenzhou/image/A3B1C3D2E1_14THY420180717154532110T.jpg folder has been created!\n",
      "/root/workspace/Thyroid_Solid_Nodule/data/preprocess/chenzhou/image/A1B1C1D1E1_18212221420180907THY13120180907142255572T.jpg folder has been created!\n",
      "/root/workspace/Thyroid_Solid_Nodule/data/preprocess/chenzhou/image/A1B1C1D1E1_105THY4520180823091352710V.jpg folder has been created!\n",
      "/root/workspace/Thyroid_Solid_Nodule/data/preprocess/chenzhou/image/A3B1C2D1E1_131THY5620180830155731310T.jpg folder has been created!\n",
      "/root/workspace/Thyroid_Solid_Nodule/data/preprocess/chenzhou/image/A3B1C2D1E1_118THY5020180830102943748.jpg folder has been created!\n",
      "/root/workspace/Thyroid_Solid_Nodule/data/preprocess/chenzhou/image/A4B1C2D1E1_15422141520180813THY11420180813151451806V.jpg folder has been created!\n",
      "/root/workspace/Thyroid_Solid_Nodule/data/preprocess/chenzhou/image/A4B1C4D1E1_17510361420180905THY12720180905143743125V.jpg folder has been created!\n",
      "/root/workspace/Thyroid_Solid_Nodule/data/preprocess/chenzhou/image/A4B1C2D1E1_108THY4620180823092601201T.jpg folder has been created!\n",
      "/root/workspace/Thyroid_Solid_Nodule/data/preprocess/chenzhou/image/A4B1C3D2E1_58THY2120180724082908079V.jpg folder has been created!\n",
      "/root/workspace/Thyroid_Solid_Nodule/data/preprocess/chenzhou/image/A3B1C2D1E1_69THY2520180725160205947T.jpg folder has been created!\n",
      "/root/workspace/Thyroid_Solid_Nodule/data/preprocess/chenzhou/image/A4B1C2D1E1_20235241120181012THY14920181012112626512V.jpg folder has been created!\n",
      "/root/workspace/Thyroid_Solid_Nodule/data/preprocess/chenzhou/image/A4B2C4D1E1_16027530820180815THY11820180815085449199T.jpg folder has been created!\n",
      "/root/workspace/Thyroid_Solid_Nodule/data/preprocess/chenzhou/image/A1B1C1D1E1_19950101020181011THY14520181011101148642T.jpg folder has been created!\n",
      "/root/workspace/Thyroid_Solid_Nodule/data/preprocess/chenzhou/image/A4B1C3D1E1_18125311120180906THY13020180906113318117V.jpg folder has been created!\n",
      "/root/workspace/Thyroid_Solid_Nodule/data/preprocess/chenzhou/image/A4B1C4D2E2_2THY220180717092836549V.jpg folder has been created!\n",
      "/root/workspace/Thyroid_Solid_Nodule/data/preprocess/chenzhou/image/A3B1C2D1E1_17903271020180906THY12920180906102810846V.jpg folder has been created!\n",
      "/root/workspace/Thyroid_Solid_Nodule/data/preprocess/chenzhou/image/A4B1C3D3E4_101THY4320180820151937778T.jpg folder has been created!\n",
      "/root/workspace/Thyroid_Solid_Nodule/data/preprocess/chenzhou/image/A4B1C3D1E1_15647281620180813THY11520180813163120228V.jpg folder has been created!\n",
      "/root/workspace/Thyroid_Solid_Nodule/data/preprocess/chenzhou/image/A4B1C4D1E1_50THY1820180723105805586.jpg folder has been created!\n",
      "/root/workspace/Thyroid_Solid_Nodule/data/preprocess/chenzhou/image/A2B1C2D1E2_133THY5720180831150919620V.jpg folder has been created!\n",
      "/root/workspace/Thyroid_Solid_Nodule/data/preprocess/chenzhou/image/A4B1C3D1E1_124THY5420180830112923865.jpg folder has been created!\n",
      "/root/workspace/Thyroid_Solid_Nodule/data/preprocess/chenzhou/image/A3B1C3D2E1_14THY420180717154540448V.jpg folder has been created!\n",
      "/root/workspace/Thyroid_Solid_Nodule/data/preprocess/chenzhou/image/A4B1C2D2E4_98THY4320180820151729074.jpg folder has been created!\n",
      "/root/workspace/Thyroid_Solid_Nodule/data/preprocess/chenzhou/image/A4B1C4D4E1_37THY1220180720110612539V.jpg folder has been created!\n",
      "/root/workspace/Thyroid_Solid_Nodule/data/preprocess/chenzhou/image/A4B1C3D3E1_38THY13RUTOUCA20180720113405401T.jpg folder has been created!\n",
      "/root/workspace/Thyroid_Solid_Nodule/data/preprocess/chenzhou/image/A3B1C2D1E1_16820460820180903THY12220180903085120288V.jpg folder has been created!\n",
      "/root/workspace/Thyroid_Solid_Nodule/data/preprocess/chenzhou/image/A3B1C3D2E1_87THY3720180816083804114.jpg folder has been created!\n",
      "/root/workspace/Thyroid_Solid_Nodule/data/preprocess/chenzhou/image/A4B2C4D3E4_16506181520180815THY12120180815151923830V.jpg folder has been created!\n",
      "/root/workspace/Thyroid_Solid_Nodule/data/preprocess/chenzhou/image/A1B1C1D1E1_13804180920180801THY100520180801092118768V.jpg folder has been created!\n",
      "/root/workspace/Thyroid_Solid_Nodule/data/preprocess/chenzhou/image/A4B1C4D1E1_17803271020180906THY12920180906102742454V.jpg folder has been created!\n",
      "/root/workspace/Thyroid_Solid_Nodule/data/preprocess/chenzhou/image/A4B2C4D3E4_17612091620180905THY12820180905161037546V.jpg folder has been created!\n",
      "/root/workspace/Thyroid_Solid_Nodule/data/preprocess/chenzhou/image/A4B1C2D2E1_57THY2020180723163049848T.jpg folder has been created!\n",
      "/root/workspace/Thyroid_Solid_Nodule/data/preprocess/chenzhou/image/A1B1C1D1E1_15647281620180813THY11520180813163115220T.jpg folder has been created!\n",
      "/root/workspace/Thyroid_Solid_Nodule/data/preprocess/chenzhou/image/A4B1C3D1E1_128THY5620180830155608465T.jpg folder has been created!\n",
      "/root/workspace/Thyroid_Solid_Nodule/data/preprocess/chenzhou/image/A4B1C3D2E1_31THY1020180719095524623V.jpg folder has been created!\n"
     ]
    },
    {
     "name": "stdout",
     "output_type": "stream",
     "text": [
      "/root/workspace/Thyroid_Solid_Nodule/data/preprocess/chenzhou/image/A1B1C1D1E1_112THY4820180830092023369V.jpg folder has been created!\n",
      "/root/workspace/Thyroid_Solid_Nodule/data/preprocess/chenzhou/image/A3B1C3D4E1_79THY3220180730112246709T.jpg folder has been created!\n",
      "/root/workspace/Thyroid_Solid_Nodule/data/preprocess/chenzhou/image/A4B1C4D2E1_25THY620180718090135881V.jpg folder has been created!\n",
      "/root/workspace/Thyroid_Solid_Nodule/data/preprocess/chenzhou/image/A4B1C4D2E1_34THY1120180719103639246V.jpg folder has been created!\n",
      "/root/workspace/Thyroid_Solid_Nodule/data/preprocess/chenzhou/image/A1B1C1D1E1_55THY1920180723153759184V.jpg folder has been created!\n",
      "/root/workspace/Thyroid_Solid_Nodule/data/preprocess/chenzhou/image/A2B1C2D1E1_19127090920180913THY13620180913091148742T.jpg folder has been created!\n",
      "/root/workspace/Thyroid_Solid_Nodule/data/preprocess/chenzhou/image/A2B1C2D1E1_16335091520180815THY12020180815151054185T.jpg folder has been created!\n",
      "/root/workspace/Thyroid_Solid_Nodule/data/preprocess/chenzhou/image/A3B1C2D1E1_17712091620180905THY12820180905161218431V.jpg folder has been created!\n",
      "/root/workspace/Thyroid_Solid_Nodule/data/preprocess/chenzhou/image/A4B1C3D1E1_13704180920180801THY100520180801092032201T.jpg folder has been created!\n",
      "/root/workspace/Thyroid_Solid_Nodule/data/preprocess/chenzhou/image/A4B1C2D1E1_108THY4620180823092610413V.jpg folder has been created!\n",
      "/root/workspace/Thyroid_Solid_Nodule/data/preprocess/chenzhou/image/A4B1C3D1E1_19507361420181009THY14020181009143626383V.jpg folder has been created!\n",
      "/root/workspace/Thyroid_Solid_Nodule/data/preprocess/chenzhou/image/A3B1C2D1E1_33THY1020180719095648884T.jpg folder has been created!\n",
      "/root/workspace/Thyroid_Solid_Nodule/data/preprocess/chenzhou/image/A2B1C2D2E1_72THY2820180727081641184T.jpg folder has been created!\n",
      "/root/workspace/Thyroid_Solid_Nodule/data/preprocess/chenzhou/image/A4B1C3D4E4_83THY3620180802160127471T.jpg folder has been created!\n",
      "/root/workspace/Thyroid_Solid_Nodule/data/preprocess/chenzhou/image/A2B1C3D1E1_15853110920180814THY11620180814091349071T.jpg folder has been created!\n"
     ]
    },
    {
     "name": "stderr",
     "output_type": "stream",
     "text": [
      "Executing Pipeline:   0%|          | 0/59 [00:00<?, ? Samples/s]"
     ]
    },
    {
     "name": "stdout",
     "output_type": "stream",
     "text": [
      "/root/workspace/Thyroid_Solid_Nodule/data/preprocess/chenzhou/image/A4B1C4D3E4_96THY4120180817151857560V.jpg folder has been created!\n",
      "/root/workspace/Thyroid_Solid_Nodule/data/preprocess/chenzhou/image/A4B1C2D1E1_16THY520180717164323160V.jpg folder has been created!\n",
      "Initialised with 1 image(s) found.\n",
      "Output directory set to /root/workspace/Thyroid_Solid_Nodule/data/preprocess/chenzhou_aug/tmp/image/A4B1C2D1E1_3THY22018071709291382/output.1 ground truth image(s) found.\n",
      "\n",
      "No./root/workspace/Thyroid_Solid_Nodule/data/preprocess/chenzhou/image/A4B1C2D1E1_3THY220180717092913827.jpg data is being augmented and 59 data will be created\n"
     ]
    },
    {
     "name": "stderr",
     "output_type": "stream",
     "text": [
      "Processing <PIL.Image.Image image mode=RGB size=1024x768 at 0x7FD264726898>: 100%|██████████| 59/59 [00:01<00:00, 53.37 Samples/s]                  \n",
      "Executing Pipeline:   0%|          | 0/45 [00:00<?, ? Samples/s]"
     ]
    },
    {
     "name": "stdout",
     "output_type": "stream",
     "text": [
      "Done\n",
      "Initialised with 1 image(s) found.\n",
      "Output directory set to /root/workspace/Thyroid_Solid_Nodule/data/preprocess/chenzhou_aug/tmp/image/A4B1C2D1E1_56THY1920180723153826901/output.1 ground truth image(s) found.\n",
      "\n",
      "No./root/workspace/Thyroid_Solid_Nodule/data/preprocess/chenzhou/image/A4B1C2D1E1_56THY1920180723153826901T.jpg data is being augmented and 45 data will be created\n"
     ]
    },
    {
     "name": "stderr",
     "output_type": "stream",
     "text": [
      "Processing <PIL.Image.Image image mode=RGB size=1024x768 at 0x7FD2647266A0>: 100%|██████████| 45/45 [00:00<00:00, 57.62 Samples/s]                  \n",
      "Executing Pipeline:   0%|          | 0/57 [00:00<?, ? Samples/s]"
     ]
    },
    {
     "name": "stdout",
     "output_type": "stream",
     "text": [
      "Done\n",
      "Initialised with 1 image(s) found.\n",
      "Output directory set to /root/workspace/Thyroid_Solid_Nodule/data/preprocess/chenzhou_aug/tmp/image/A4B2C3D2E1_16506181520180815THY12120180815151917823/output.1 ground truth image(s) found.\n",
      "\n",
      "No./root/workspace/Thyroid_Solid_Nodule/data/preprocess/chenzhou/image/A4B2C3D2E1_16506181520180815THY12120180815151917823T.jpg data is being augmented and 57 data will be created\n"
     ]
    },
    {
     "name": "stderr",
     "output_type": "stream",
     "text": [
      "Processing <PIL.Image.Image image mode=RGB size=1024x768 at 0x7FD2647C1128>: 100%|██████████| 57/57 [00:00<00:00, 57.78 Samples/s]                  \n",
      "Executing Pipeline:   0%|          | 0/42 [00:00<?, ? Samples/s]"
     ]
    },
    {
     "name": "stdout",
     "output_type": "stream",
     "text": [
      "Done\n",
      "Initialised with 1 image(s) found.\n",
      "Output directory set to /root/workspace/Thyroid_Solid_Nodule/data/preprocess/chenzhou_aug/tmp/image/A4B1C3D3E4_126THY552018083015044943/output.1 ground truth image(s) found.\n",
      "\n",
      "No./root/workspace/Thyroid_Solid_Nodule/data/preprocess/chenzhou/image/A4B1C3D3E4_126THY5520180830150449436.jpg data is being augmented and 42 data will be created\n"
     ]
    },
    {
     "name": "stderr",
     "output_type": "stream",
     "text": [
      "Processing <PIL.Image.Image image mode=RGB size=1024x768 at 0x7FD264768748>: 100%|██████████| 42/42 [00:00<00:00, 56.78 Samples/s]                  \n",
      "Executing Pipeline:   0%|          | 0/57 [00:00<?, ? Samples/s]"
     ]
    },
    {
     "name": "stdout",
     "output_type": "stream",
     "text": [
      "Done\n",
      "Initialised with 1 image(s) found.\n",
      "Output directory set to /root/workspace/Thyroid_Solid_Nodule/data/preprocess/chenzhou_aug/tmp/image/A2B1C2D2E1_72THY2820180727081649427/output.1 ground truth image(s) found.\n",
      "\n",
      "No./root/workspace/Thyroid_Solid_Nodule/data/preprocess/chenzhou/image/A2B1C2D2E1_72THY2820180727081649427V.jpg data is being augmented and 57 data will be created\n"
     ]
    },
    {
     "name": "stderr",
     "output_type": "stream",
     "text": [
      "Processing <PIL.Image.Image image mode=RGB size=1024x768 at 0x7FD264726F60>: 100%|██████████| 57/57 [00:01<00:00, 50.27 Samples/s]                  \n",
      "Executing Pipeline:   0%|          | 0/52 [00:00<?, ? Samples/s]"
     ]
    },
    {
     "name": "stdout",
     "output_type": "stream",
     "text": [
      "Done\n",
      "Initialised with 1 image(s) found.\n",
      "Output directory set to /root/workspace/Thyroid_Solid_Nodule/data/preprocess/chenzhou_aug/tmp/image/A4B1C2D1E1_109THY4620180823092638727/output.1 ground truth image(s) found.\n",
      "\n",
      "No./root/workspace/Thyroid_Solid_Nodule/data/preprocess/chenzhou/image/A4B1C2D1E1_109THY4620180823092638727T.jpg data is being augmented and 52 data will be created\n"
     ]
    },
    {
     "name": "stderr",
     "output_type": "stream",
     "text": [
      "Processing <PIL.Image.Image image mode=RGB size=1024x768 at 0x7FD337D33550>: 100%|██████████| 52/52 [00:00<00:00, 55.81 Samples/s]                  \n",
      "Executing Pipeline:   0%|          | 0/53 [00:00<?, ? Samples/s]"
     ]
    },
    {
     "name": "stdout",
     "output_type": "stream",
     "text": [
      "Done\n",
      "Initialised with 1 image(s) found.\n",
      "Output directory set to /root/workspace/Thyroid_Solid_Nodule/data/preprocess/chenzhou_aug/tmp/image/A1B1C1D1E1_19950101020181011THY14520181011101203818/output.1 ground truth image(s) found.\n",
      "\n",
      "No./root/workspace/Thyroid_Solid_Nodule/data/preprocess/chenzhou/image/A1B1C1D1E1_19950101020181011THY14520181011101203818V.jpg data is being augmented and 53 data will be created\n"
     ]
    },
    {
     "name": "stderr",
     "output_type": "stream",
     "text": [
      "Processing <PIL.JpegImagePlugin.JpegImageFile image mode=RGB size=1024x768 at 0x7FD26477A3C8>: 100%|██████████| 53/53 [00:00<00:00, 54.81 Samples/s]\n",
      "Executing Pipeline:   0%|          | 0/51 [00:00<?, ? Samples/s]"
     ]
    },
    {
     "name": "stdout",
     "output_type": "stream",
     "text": [
      "Done\n",
      "Initialised with 1 image(s) found.\n",
      "Output directory set to /root/workspace/Thyroid_Solid_Nodule/data/preprocess/chenzhou_aug/tmp/image/A4B1C3D3E1_15753110920180814THY11620180814091210384/output.1 ground truth image(s) found.\n",
      "\n",
      "No./root/workspace/Thyroid_Solid_Nodule/data/preprocess/chenzhou/image/A4B1C3D3E1_15753110920180814THY11620180814091210384T.jpg data is being augmented and 51 data will be created\n"
     ]
    },
    {
     "name": "stderr",
     "output_type": "stream",
     "text": [
      "Processing <PIL.Image.Image image mode=RGB size=1024x768 at 0x7FD2647B1B38>: 100%|██████████| 51/51 [00:01<00:00, 43.62 Samples/s]\n",
      "Executing Pipeline:   0%|          | 0/40 [00:00<?, ? Samples/s]"
     ]
    },
    {
     "name": "stdout",
     "output_type": "stream",
     "text": [
      "Done\n",
      "Initialised with 1 image(s) found.\n",
      "Output directory set to /root/workspace/Thyroid_Solid_Nodule/data/preprocess/chenzhou_aug/tmp/image/A4B1C4D1E4_20028320920181012THY14720181012093728614/output.1 ground truth image(s) found.\n",
      "\n",
      "No./root/workspace/Thyroid_Solid_Nodule/data/preprocess/chenzhou/image/A4B1C4D1E4_20028320920181012THY14720181012093728614V.jpg data is being augmented and 40 data will be created\n"
     ]
    },
    {
     "name": "stderr",
     "output_type": "stream",
     "text": [
      "Processing <PIL.Image.Image image mode=RGB size=1024x768 at 0x7FD264768CC0>: 100%|██████████| 40/40 [00:00<00:00, 52.48 Samples/s]                  \n",
      "Executing Pipeline:   0%|          | 0/54 [00:00<?, ? Samples/s]"
     ]
    },
    {
     "name": "stdout",
     "output_type": "stream",
     "text": [
      "Done\n",
      "Initialised with 1 image(s) found.\n",
      "Output directory set to /root/workspace/Thyroid_Solid_Nodule/data/preprocess/chenzhou_aug/tmp/image/A4B2C4D2E1_16027530820180815THY11820180815085523062/output.1 ground truth image(s) found.\n",
      "\n",
      "No./root/workspace/Thyroid_Solid_Nodule/data/preprocess/chenzhou/image/A4B2C4D2E1_16027530820180815THY11820180815085523062V.jpg data is being augmented and 54 data will be created\n"
     ]
    },
    {
     "name": "stderr",
     "output_type": "stream",
     "text": [
      "Processing <PIL.Image.Image image mode=RGB size=1024x768 at 0x7FD337D33EF0>: 100%|██████████| 54/54 [00:01<00:00, 53.33 Samples/s]                  \n",
      "Executing Pipeline:   0%|          | 0/56 [00:00<?, ? Samples/s]"
     ]
    },
    {
     "name": "stdout",
     "output_type": "stream",
     "text": [
      "Done\n",
      "Initialised with 1 image(s) found.\n",
      "Output directory set to /root/workspace/Thyroid_Solid_Nodule/data/preprocess/chenzhou_aug/tmp/image/A4B1C4D2E4_105THY4520180823091339624/output.1 ground truth image(s) found.\n",
      "\n",
      "No./root/workspace/Thyroid_Solid_Nodule/data/preprocess/chenzhou/image/A4B1C4D2E4_105THY4520180823091339624T.jpg data is being augmented and 56 data will be created\n"
     ]
    },
    {
     "name": "stderr",
     "output_type": "stream",
     "text": [
      "Processing <PIL.Image.Image image mode=RGB size=1024x768 at 0x7FD2647CDE48>: 100%|██████████| 56/56 [00:01<00:00, 53.05 Samples/s]                  \n",
      "Executing Pipeline:   0%|          | 0/48 [00:00<?, ? Samples/s]"
     ]
    },
    {
     "name": "stdout",
     "output_type": "stream",
     "text": [
      "Done\n",
      "Initialised with 1 image(s) found.\n",
      "Output directory set to /root/workspace/Thyroid_Solid_Nodule/data/preprocess/chenzhou_aug/tmp/image/A3B1C2D1E1_123THY532018083011232380/output.1 ground truth image(s) found.\n",
      "\n",
      "No./root/workspace/Thyroid_Solid_Nodule/data/preprocess/chenzhou/image/A3B1C2D1E1_123THY5320180830112323806.jpg data is being augmented and 48 data will be created\n"
     ]
    },
    {
     "name": "stderr",
     "output_type": "stream",
     "text": [
      "Processing <PIL.Image.Image image mode=RGB size=1024x768 at 0x7FD264737A20>: 100%|██████████| 48/48 [00:00<00:00, 49.82 Samples/s]                  \n",
      "Executing Pipeline:   0%|          | 0/57 [00:00<?, ? Samples/s]"
     ]
    },
    {
     "name": "stdout",
     "output_type": "stream",
     "text": [
      "Done\n",
      "Initialised with 1 image(s) found.\n",
      "Output directory set to /root/workspace/Thyroid_Solid_Nodule/data/preprocess/chenzhou_aug/tmp/image/A4B1C4D1E4_15303221020180803THY11320180803102227521/output.1 ground truth image(s) found.\n",
      "\n",
      "No./root/workspace/Thyroid_Solid_Nodule/data/preprocess/chenzhou/image/A4B1C4D1E4_15303221020180803THY11320180803102227521V.jpg data is being augmented and 57 data will be created\n"
     ]
    },
    {
     "name": "stderr",
     "output_type": "stream",
     "text": [
      "Processing <PIL.Image.Image image mode=RGB size=1024x768 at 0x7FD2647CD0B8>: 100%|██████████| 57/57 [00:01<00:00, 47.50 Samples/s]                  \n",
      "Executing Pipeline:   0%|          | 0/58 [00:00<?, ? Samples/s]"
     ]
    },
    {
     "name": "stdout",
     "output_type": "stream",
     "text": [
      "Done\n",
      "Initialised with 1 image(s) found.\n",
      "Output directory set to /root/workspace/Thyroid_Solid_Nodule/data/preprocess/chenzhou_aug/tmp/image/A4B1C3D4E4_83THY3620180802160133907/output.1 ground truth image(s) found.\n",
      "\n",
      "No./root/workspace/Thyroid_Solid_Nodule/data/preprocess/chenzhou/image/A4B1C3D4E4_83THY3620180802160133907V.jpg data is being augmented and 58 data will be created\n"
     ]
    },
    {
     "name": "stderr",
     "output_type": "stream",
     "text": [
      "Processing <PIL.Image.Image image mode=RGB size=1024x768 at 0x7FD264726EF0>: 100%|██████████| 58/58 [00:01<00:00, 48.01 Samples/s]\n",
      "Executing Pipeline:   0%|          | 0/51 [00:00<?, ? Samples/s]"
     ]
    },
    {
     "name": "stdout",
     "output_type": "stream",
     "text": [
      "Done\n",
      "Initialised with 1 image(s) found.\n",
      "Output directory set to /root/workspace/Thyroid_Solid_Nodule/data/preprocess/chenzhou_aug/tmp/image/A3B1C3D1E1_44THY16RUTOUCA20180723094607041/output.1 ground truth image(s) found.\n",
      "\n",
      "No./root/workspace/Thyroid_Solid_Nodule/data/preprocess/chenzhou/image/A3B1C3D1E1_44THY16RUTOUCA20180723094607041V.jpg data is being augmented and 51 data will be created\n"
     ]
    },
    {
     "name": "stderr",
     "output_type": "stream",
     "text": [
      "Processing <PIL.Image.Image image mode=RGB size=1024x768 at 0x7FD2647375F8>: 100%|██████████| 51/51 [00:01<00:00, 47.28 Samples/s]                  \n",
      "Executing Pipeline:   0%|          | 0/52 [00:00<?, ? Samples/s]"
     ]
    },
    {
     "name": "stdout",
     "output_type": "stream",
     "text": [
      "Done\n",
      "Initialised with 1 image(s) found.\n",
      "Output directory set to /root/workspace/Thyroid_Solid_Nodule/data/preprocess/chenzhou_aug/tmp/image/A4B1C3D1E1_15139310820180803THY11120180803083755171/output.1 ground truth image(s) found.\n",
      "\n",
      "No./root/workspace/Thyroid_Solid_Nodule/data/preprocess/chenzhou/image/A4B1C3D1E1_15139310820180803THY11120180803083755171V.jpg data is being augmented and 52 data will be created\n"
     ]
    },
    {
     "name": "stderr",
     "output_type": "stream",
     "text": [
      "Processing <PIL.Image.Image image mode=RGB size=1024x768 at 0x7FD337D0BA58>: 100%|██████████| 52/52 [00:00<00:00, 52.86 Samples/s]                  \n",
      "Executing Pipeline:   0%|          | 0/46 [00:00<?, ? Samples/s]"
     ]
    },
    {
     "name": "stdout",
     "output_type": "stream",
     "text": [
      "Done\n",
      "Initialised with 1 image(s) found.\n",
      "Output directory set to /root/workspace/Thyroid_Solid_Nodule/data/preprocess/chenzhou_aug/tmp/image/A4B1C3D1E1_128THY5620180830155622149/output.1 ground truth image(s) found.\n",
      "\n",
      "No./root/workspace/Thyroid_Solid_Nodule/data/preprocess/chenzhou/image/A4B1C3D1E1_128THY5620180830155622149V.jpg data is being augmented and 46 data will be created\n"
     ]
    },
    {
     "name": "stderr",
     "output_type": "stream",
     "text": [
      "Processing <PIL.Image.Image image mode=RGB size=1024x768 at 0x7FD337D0BE80>: 100%|██████████| 46/46 [00:00<00:00, 51.86 Samples/s]                 \n",
      "Executing Pipeline:   0%|          | 0/45 [00:00<?, ? Samples/s]"
     ]
    },
    {
     "name": "stdout",
     "output_type": "stream",
     "text": [
      "Done\n",
      "Initialised with 1 image(s) found.\n",
      "Output directory set to /root/workspace/Thyroid_Solid_Nodule/data/preprocess/chenzhou_aug/tmp/image/A4B1C2D1E1_18832480920180912THY13320180912094922571/output.1 ground truth image(s) found.\n",
      "\n",
      "No./root/workspace/Thyroid_Solid_Nodule/data/preprocess/chenzhou/image/A4B1C2D1E1_18832480920180912THY13320180912094922571T.jpg data is being augmented and 45 data will be created\n"
     ]
    },
    {
     "name": "stderr",
     "output_type": "stream",
     "text": [
      "Processing <PIL.Image.Image image mode=RGB size=1024x768 at 0x7FD2647C13C8>: 100%|██████████| 45/45 [00:00<00:00, 50.04 Samples/s]\n",
      "Executing Pipeline:   0%|          | 0/53 [00:00<?, ? Samples/s]"
     ]
    },
    {
     "name": "stdout",
     "output_type": "stream",
     "text": [
      "Done\n",
      "Initialised with 1 image(s) found.\n",
      "Output directory set to /root/workspace/Thyroid_Solid_Nodule/data/preprocess/chenzhou_aug/tmp/image/A4B1C4D1E2_18THY620180718085410415/output.1 ground truth image(s) found.\n",
      "\n",
      "No./root/workspace/Thyroid_Solid_Nodule/data/preprocess/chenzhou/image/A4B1C4D1E2_18THY620180718085410415T.jpg data is being augmented and 53 data will be created\n"
     ]
    },
    {
     "name": "stderr",
     "output_type": "stream",
     "text": [
      "Processing <PIL.Image.Image image mode=RGB size=1024x768 at 0x7FD2647CD780>: 100%|██████████| 53/53 [00:00<00:00, 53.33 Samples/s]                  \n",
      "Executing Pipeline:   0%|          | 0/49 [00:00<?, ? Samples/s]"
     ]
    },
    {
     "name": "stdout",
     "output_type": "stream",
     "text": [
      "Done\n",
      "Initialised with 1 image(s) found.\n",
      "Output directory set to /root/workspace/Thyroid_Solid_Nodule/data/preprocess/chenzhou_aug/tmp/image/A4B1C2D1E2_21THY620180718085836237/output.1 ground truth image(s) found.\n",
      "\n",
      "No./root/workspace/Thyroid_Solid_Nodule/data/preprocess/chenzhou/image/A4B1C2D1E2_21THY620180718085836237T.jpg data is being augmented and 49 data will be created\n"
     ]
    },
    {
     "name": "stderr",
     "output_type": "stream",
     "text": [
      "Processing <PIL.Image.Image image mode=RGB size=1024x768 at 0x7FD2647A4F98>: 100%|██████████| 49/49 [00:00<00:00, 51.32 Samples/s]                 \n",
      "Executing Pipeline:   0%|          | 0/46 [00:00<?, ? Samples/s]"
     ]
    },
    {
     "name": "stdout",
     "output_type": "stream",
     "text": [
      "Done\n",
      "Initialised with 1 image(s) found.\n",
      "Output directory set to /root/workspace/Thyroid_Solid_Nodule/data/preprocess/chenzhou_aug/tmp/image/A3B1C2D1E1_19305161420180913THY13820180913141619723/output.1 ground truth image(s) found.\n",
      "\n",
      "No./root/workspace/Thyroid_Solid_Nodule/data/preprocess/chenzhou/image/A3B1C2D1E1_19305161420180913THY13820180913141619723T.jpg data is being augmented and 46 data will be created\n"
     ]
    },
    {
     "name": "stderr",
     "output_type": "stream",
     "text": [
      "Processing <PIL.Image.Image image mode=RGB size=1024x768 at 0x7FD2647C14E0>: 100%|██████████| 46/46 [00:00<00:00, 51.16 Samples/s]                  \n",
      "Executing Pipeline:   0%|          | 0/40 [00:00<?, ? Samples/s]"
     ]
    },
    {
     "name": "stdout",
     "output_type": "stream",
     "text": [
      "Done\n",
      "Initialised with 1 image(s) found.\n",
      "Output directory set to /root/workspace/Thyroid_Solid_Nodule/data/preprocess/chenzhou_aug/tmp/image/A4B1C2D1E1_42THY1520180723090911568/output.1 ground truth image(s) found.\n",
      "\n",
      "No./root/workspace/Thyroid_Solid_Nodule/data/preprocess/chenzhou/image/A4B1C2D1E1_42THY1520180723090911568T.jpg data is being augmented and 40 data will be created\n"
     ]
    },
    {
     "name": "stderr",
     "output_type": "stream",
     "text": [
      "Processing <PIL.Image.Image image mode=RGB size=1024x768 at 0x7FD337D23080>: 100%|██████████| 40/40 [00:00<00:00, 46.04 Samples/s]                 \n",
      "Executing Pipeline:   0%|          | 0/50 [00:00<?, ? Samples/s]"
     ]
    },
    {
     "name": "stdout",
     "output_type": "stream",
     "text": [
      "Done\n",
      "Initialised with 1 image(s) found.\n",
      "Output directory set to /root/workspace/Thyroid_Solid_Nodule/data/preprocess/chenzhou_aug/tmp/image/A4B1C3D1E3_44THY16RUTOUCA20180723094638089/output.1 ground truth image(s) found.\n",
      "\n",
      "No./root/workspace/Thyroid_Solid_Nodule/data/preprocess/chenzhou/image/A4B1C3D1E3_44THY16RUTOUCA20180723094638089T.jpg data is being augmented and 50 data will be created\n"
     ]
    },
    {
     "name": "stderr",
     "output_type": "stream",
     "text": [
      "Processing <PIL.Image.Image image mode=RGB size=1024x768 at 0x7FD337D23198>: 100%|██████████| 50/50 [00:00<00:00, 57.67 Samples/s]                  \n",
      "Executing Pipeline:   0%|          | 0/45 [00:00<?, ? Samples/s]"
     ]
    },
    {
     "name": "stdout",
     "output_type": "stream",
     "text": [
      "Done\n",
      "Initialised with 1 image(s) found.\n",
      "Output directory set to /root/workspace/Thyroid_Solid_Nodule/data/preprocess/chenzhou_aug/tmp/image/A4B2C4D1E1_19449541120181008THY13920181008115522901/output.1 ground truth image(s) found.\n",
      "\n",
      "No./root/workspace/Thyroid_Solid_Nodule/data/preprocess/chenzhou/image/A4B2C4D1E1_19449541120181008THY13920181008115522901T.jpg data is being augmented and 45 data will be created\n"
     ]
    },
    {
     "name": "stderr",
     "output_type": "stream",
     "text": [
      "Processing <PIL.Image.Image image mode=RGB size=1024x768 at 0x7FD337D23198>: 100%|██████████| 45/45 [00:00<00:00, 50.03 Samples/s]\n",
      "Executing Pipeline:   0%|          | 0/50 [00:00<?, ? Samples/s]"
     ]
    },
    {
     "name": "stdout",
     "output_type": "stream",
     "text": [
      "Done\n",
      "Initialised with 1 image(s) found.\n",
      "Output directory set to /root/workspace/Thyroid_Solid_Nodule/data/preprocess/chenzhou_aug/tmp/image/A4B1C3D2E2_71THY2620180726100510415/output.1 ground truth image(s) found.\n",
      "\n",
      "No./root/workspace/Thyroid_Solid_Nodule/data/preprocess/chenzhou/image/A4B1C3D2E2_71THY2620180726100510415T.jpg data is being augmented and 50 data will be created\n"
     ]
    },
    {
     "name": "stderr",
     "output_type": "stream",
     "text": [
      "Processing <PIL.Image.Image image mode=RGB size=1024x768 at 0x7FD26478F9B0>: 100%|██████████| 50/50 [00:00<00:00, 58.26 Samples/s]                 \n",
      "Executing Pipeline:   0%|          | 0/58 [00:00<?, ? Samples/s]"
     ]
    },
    {
     "name": "stdout",
     "output_type": "stream",
     "text": [
      "Done\n",
      "Initialised with 1 image(s) found.\n",
      "Output directory set to /root/workspace/Thyroid_Solid_Nodule/data/preprocess/chenzhou_aug/tmp/image/A2B1C2D1E1_104THY4520180823091117732/output.1 ground truth image(s) found.\n",
      "\n",
      "No./root/workspace/Thyroid_Solid_Nodule/data/preprocess/chenzhou/image/A2B1C2D1E1_104THY4520180823091117732T.jpg data is being augmented and 58 data will be created\n"
     ]
    },
    {
     "name": "stderr",
     "output_type": "stream",
     "text": [
      "Processing <PIL.Image.Image image mode=RGB size=1024x768 at 0x7FD337D232B0>: 100%|██████████| 58/58 [00:01<00:00, 47.16 Samples/s]                  \n",
      "Executing Pipeline:   0%|          | 0/53 [00:00<?, ? Samples/s]"
     ]
    },
    {
     "name": "stdout",
     "output_type": "stream",
     "text": [
      "Done\n",
      "Initialised with 1 image(s) found.\n",
      "Output directory set to /root/workspace/Thyroid_Solid_Nodule/data/preprocess/chenzhou_aug/tmp/image/A4B2C3D1E1_94THY4020180817101500656/output.1 ground truth image(s) found.\n",
      "\n",
      "No./root/workspace/Thyroid_Solid_Nodule/data/preprocess/chenzhou/image/A4B2C3D1E1_94THY4020180817101500656T.jpg data is being augmented and 53 data will be created\n"
     ]
    },
    {
     "name": "stderr",
     "output_type": "stream",
     "text": [
      "Processing <PIL.Image.Image image mode=RGB size=1024x768 at 0x7FD26477AF28>: 100%|██████████| 53/53 [00:01<00:00, 50.23 Samples/s]                  \n",
      "Executing Pipeline:   0%|          | 0/53 [00:00<?, ? Samples/s]"
     ]
    },
    {
     "name": "stdout",
     "output_type": "stream",
     "text": [
      "Done\n",
      "Initialised with 1 image(s) found.\n",
      "Output directory set to /root/workspace/Thyroid_Solid_Nodule/data/preprocess/chenzhou_aug/tmp/image/A3B1C2D1E1_90THY372018081608391388/output.1 ground truth image(s) found.\n",
      "\n",
      "No./root/workspace/Thyroid_Solid_Nodule/data/preprocess/chenzhou/image/A3B1C2D1E1_90THY3720180816083913888.jpg data is being augmented and 53 data will be created\n"
     ]
    },
    {
     "name": "stderr",
     "output_type": "stream",
     "text": [
      "Processing <PIL.Image.Image image mode=RGB size=1024x768 at 0x7FD2647A47F0>: 100%|██████████| 53/53 [00:00<00:00, 59.12 Samples/s]\n",
      "Executing Pipeline:   0%|          | 0/59 [00:00<?, ? Samples/s]"
     ]
    },
    {
     "name": "stdout",
     "output_type": "stream",
     "text": [
      "Done\n",
      "Initialised with 1 image(s) found.\n",
      "Output directory set to /root/workspace/Thyroid_Solid_Nodule/data/preprocess/chenzhou_aug/tmp/image/A2B1C2D1E1_16127530820180815THY11820180815085852860/output.1 ground truth image(s) found.\n",
      "\n",
      "No./root/workspace/Thyroid_Solid_Nodule/data/preprocess/chenzhou/image/A2B1C2D1E1_16127530820180815THY11820180815085852860V.jpg data is being augmented and 59 data will be created\n"
     ]
    },
    {
     "name": "stderr",
     "output_type": "stream",
     "text": [
      "Processing <PIL.Image.Image image mode=RGB size=1024x768 at 0x7FD264737EF0>: 100%|██████████| 59/59 [00:01<00:00, 51.57 Samples/s]                  \n",
      "Executing Pipeline:   0%|          | 0/45 [00:00<?, ? Samples/s]"
     ]
    },
    {
     "name": "stdout",
     "output_type": "stream",
     "text": [
      "Done\n",
      "Initialised with 1 image(s) found.\n",
      "Output directory set to /root/workspace/Thyroid_Solid_Nodule/data/preprocess/chenzhou_aug/tmp/image/A3B1C2D1E1_102THY4320180820151959440/output.1 ground truth image(s) found.\n",
      "\n",
      "No./root/workspace/Thyroid_Solid_Nodule/data/preprocess/chenzhou/image/A3B1C2D1E1_102THY4320180820151959440T.jpg data is being augmented and 45 data will be created\n"
     ]
    },
    {
     "name": "stderr",
     "output_type": "stream",
     "text": [
      "Processing <PIL.Image.Image image mode=RGB size=1024x768 at 0x7FD2647CD198>: 100%|██████████| 45/45 [00:00<00:00, 47.67 Samples/s]                  \n",
      "Executing Pipeline:   0%|          | 0/54 [00:00<?, ? Samples/s]"
     ]
    },
    {
     "name": "stdout",
     "output_type": "stream",
     "text": [
      "Done\n",
      "Initialised with 1 image(s) found.\n",
      "Output directory set to /root/workspace/Thyroid_Solid_Nodule/data/preprocess/chenzhou_aug/tmp/image/A4B1C3D1E1_74THY2920180727085811922/output.1 ground truth image(s) found.\n",
      "\n",
      "No./root/workspace/Thyroid_Solid_Nodule/data/preprocess/chenzhou/image/A4B1C3D1E1_74THY2920180727085811922T.jpg data is being augmented and 54 data will be created\n"
     ]
    },
    {
     "name": "stderr",
     "output_type": "stream",
     "text": [
      "Processing <PIL.Image.Image image mode=RGB size=1024x768 at 0x7FD26475A908>: 100%|██████████| 54/54 [00:01<00:00, 53.71 Samples/s]                  \n",
      "Executing Pipeline:   0%|          | 0/53 [00:00<?, ? Samples/s]"
     ]
    },
    {
     "name": "stdout",
     "output_type": "stream",
     "text": [
      "Done\n",
      "Initialised with 1 image(s) found.\n",
      "Output directory set to /root/workspace/Thyroid_Solid_Nodule/data/preprocess/chenzhou_aug/tmp/image/A4B1C3D3E4_86THY372018081608371632/output.1 ground truth image(s) found.\n",
      "\n",
      "No./root/workspace/Thyroid_Solid_Nodule/data/preprocess/chenzhou/image/A4B1C3D3E4_86THY3720180816083716327.jpg data is being augmented and 53 data will be created\n"
     ]
    },
    {
     "name": "stderr",
     "output_type": "stream",
     "text": [
      "Processing <PIL.Image.Image image mode=RGB size=1024x768 at 0x7FD2647CD1D0>: 100%|██████████| 53/53 [00:00<00:00, 54.33 Samples/s]                  \n",
      "Executing Pipeline:   0%|          | 0/59 [00:00<?, ? Samples/s]"
     ]
    },
    {
     "name": "stdout",
     "output_type": "stream",
     "text": [
      "Done\n",
      "Initialised with 1 image(s) found.\n",
      "Output directory set to /root/workspace/Thyroid_Solid_Nodule/data/preprocess/chenzhou_aug/tmp/image/A4B1C2D1E1_16THY520180717164312673/output.1 ground truth image(s) found.\n",
      "\n",
      "No./root/workspace/Thyroid_Solid_Nodule/data/preprocess/chenzhou/image/A4B1C2D1E1_16THY520180717164312673T.jpg data is being augmented and 59 data will be created\n"
     ]
    },
    {
     "name": "stderr",
     "output_type": "stream",
     "text": [
      "Processing <PIL.Image.Image image mode=RGB size=1024x768 at 0x7FD26475A1D0>: 100%|██████████| 59/59 [00:01<00:00, 49.47 Samples/s]\n",
      "Executing Pipeline:   0%|          | 0/52 [00:00<?, ? Samples/s]"
     ]
    },
    {
     "name": "stdout",
     "output_type": "stream",
     "text": [
      "Done\n",
      "Initialised with 1 image(s) found.\n",
      "Output directory set to /root/workspace/Thyroid_Solid_Nodule/data/preprocess/chenzhou_aug/tmp/image/A4B1C4D4E1_13904180920180801THY10052018080109242013/output.1 ground truth image(s) found.\n",
      "\n",
      "No./root/workspace/Thyroid_Solid_Nodule/data/preprocess/chenzhou/image/A4B1C4D4E1_13904180920180801THY100520180801092420133.jpg data is being augmented and 52 data will be created\n"
     ]
    },
    {
     "name": "stderr",
     "output_type": "stream",
     "text": [
      "Processing <PIL.Image.Image image mode=RGB size=1024x768 at 0x7FD264743400>: 100%|██████████| 52/52 [00:01<00:00, 48.85 Samples/s]                  \n",
      "Executing Pipeline:   0%|          | 0/53 [00:00<?, ? Samples/s]"
     ]
    },
    {
     "name": "stdout",
     "output_type": "stream",
     "text": [
      "Done\n",
      "Initialised with 1 image(s) found.\n",
      "Output directory set to /root/workspace/Thyroid_Solid_Nodule/data/preprocess/chenzhou_aug/tmp/image/A4B2C4D3E1_80THY3320180730113742507/output.1 ground truth image(s) found.\n",
      "\n",
      "No./root/workspace/Thyroid_Solid_Nodule/data/preprocess/chenzhou/image/A4B2C4D3E1_80THY3320180730113742507T.jpg data is being augmented and 53 data will be created\n"
     ]
    },
    {
     "name": "stderr",
     "output_type": "stream",
     "text": [
      "Processing <PIL.Image.Image image mode=RGB size=1024x768 at 0x7FD2647A2A58>: 100%|██████████| 53/53 [00:01<00:00, 50.44 Samples/s]                  \n",
      "Executing Pipeline:   0%|          | 0/53 [00:00<?, ? Samples/s]"
     ]
    },
    {
     "name": "stdout",
     "output_type": "stream",
     "text": [
      "Done\n",
      "Initialised with 1 image(s) found.\n",
      "Output directory set to /root/workspace/Thyroid_Solid_Nodule/data/preprocess/chenzhou_aug/tmp/image/A4B1C2D1E2_23THY620180718090018820/output.1 ground truth image(s) found.\n",
      "\n",
      "No./root/workspace/Thyroid_Solid_Nodule/data/preprocess/chenzhou/image/A4B1C2D1E2_23THY620180718090018820T.jpg data is being augmented and 53 data will be created\n"
     ]
    },
    {
     "name": "stderr",
     "output_type": "stream",
     "text": [
      "Processing <PIL.Image.Image image mode=RGB size=1024x768 at 0x7FD2647A27B8>: 100%|██████████| 53/53 [00:00<00:00, 58.68 Samples/s]                  \n",
      "Executing Pipeline:   0%|          | 0/47 [00:00<?, ? Samples/s]"
     ]
    },
    {
     "name": "stdout",
     "output_type": "stream",
     "text": [
      "Done\n",
      "Initialised with 1 image(s) found.\n",
      "Output directory set to /root/workspace/Thyroid_Solid_Nodule/data/preprocess/chenzhou_aug/tmp/image/A4B1C3D1E1_14249370920180801THY10062018080109395065/output.1 ground truth image(s) found.\n",
      "\n",
      "No./root/workspace/Thyroid_Solid_Nodule/data/preprocess/chenzhou/image/A4B1C3D1E1_14249370920180801THY100620180801093950653.jpg data is being augmented and 47 data will be created\n"
     ]
    },
    {
     "name": "stderr",
     "output_type": "stream",
     "text": [
      "Processing <PIL.Image.Image image mode=RGB size=1024x768 at 0x7FD264726780>: 100%|██████████| 47/47 [00:00<00:00, 56.60 Samples/s]\n",
      "Executing Pipeline:   0%|          | 0/53 [00:00<?, ? Samples/s]"
     ]
    },
    {
     "name": "stdout",
     "output_type": "stream",
     "text": [
      "Done\n",
      "Initialised with 1 image(s) found.\n",
      "Output directory set to /root/workspace/Thyroid_Solid_Nodule/data/preprocess/chenzhou_aug/tmp/image/A2B1C2D1E1_59THY2120180724083141658/output.1 ground truth image(s) found.\n",
      "\n",
      "No./root/workspace/Thyroid_Solid_Nodule/data/preprocess/chenzhou/image/A2B1C2D1E1_59THY2120180724083141658V.jpg data is being augmented and 53 data will be created\n"
     ]
    },
    {
     "name": "stderr",
     "output_type": "stream",
     "text": [
      "Processing <PIL.Image.Image image mode=RGB size=1024x768 at 0x7FD264737240>: 100%|██████████| 53/53 [00:01<00:00, 49.07 Samples/s]\n",
      "Executing Pipeline:   0%|          | 0/59 [00:00<?, ? Samples/s]"
     ]
    },
    {
     "name": "stdout",
     "output_type": "stream",
     "text": [
      "Done\n",
      "Initialised with 1 image(s) found.\n",
      "Output directory set to /root/workspace/Thyroid_Solid_Nodule/data/preprocess/chenzhou_aug/tmp/image/A4B1C4D3E1_63THY2320180725110434005/output.1 ground truth image(s) found.\n",
      "\n",
      "No./root/workspace/Thyroid_Solid_Nodule/data/preprocess/chenzhou/image/A4B1C4D3E1_63THY2320180725110434005T.jpg data is being augmented and 59 data will be created\n"
     ]
    },
    {
     "name": "stderr",
     "output_type": "stream",
     "text": [
      "Processing <PIL.Image.Image image mode=RGB size=1024x768 at 0x7FD2647667F0>: 100%|██████████| 59/59 [00:01<00:00, 55.54 Samples/s]                  \n",
      "Executing Pipeline:   0%|          | 0/40 [00:00<?, ? Samples/s]"
     ]
    },
    {
     "name": "stdout",
     "output_type": "stream",
     "text": [
      "Done\n",
      "Initialised with 1 image(s) found.\n",
      "Output directory set to /root/workspace/Thyroid_Solid_Nodule/data/preprocess/chenzhou_aug/tmp/image/A4B1C4D1E1_17348191420180905THY12620180905142020797/output.1 ground truth image(s) found.\n",
      "\n",
      "No./root/workspace/Thyroid_Solid_Nodule/data/preprocess/chenzhou/image/A4B1C4D1E1_17348191420180905THY12620180905142020797V.jpg data is being augmented and 40 data will be created\n"
     ]
    },
    {
     "name": "stderr",
     "output_type": "stream",
     "text": [
      "Processing <PIL.Image.Image image mode=RGB size=1024x768 at 0x7FD264766550>: 100%|██████████| 40/40 [00:00<00:00, 50.29 Samples/s]\n",
      "Executing Pipeline:   0%|          | 0/60 [00:00<?, ? Samples/s]"
     ]
    },
    {
     "name": "stdout",
     "output_type": "stream",
     "text": [
      "Done\n",
      "Initialised with 1 image(s) found.\n",
      "Output directory set to /root/workspace/Thyroid_Solid_Nodule/data/preprocess/chenzhou_aug/tmp/image/A4B1C3D2E2_71THY2620180726100756098/output.1 ground truth image(s) found.\n",
      "\n",
      "No./root/workspace/Thyroid_Solid_Nodule/data/preprocess/chenzhou/image/A4B1C3D2E2_71THY2620180726100756098T.jpg data is being augmented and 60 data will be created\n"
     ]
    },
    {
     "name": "stderr",
     "output_type": "stream",
     "text": [
      "Processing <PIL.Image.Image image mode=RGB size=1024x768 at 0x7FD264726320>: 100%|██████████| 60/60 [00:01<00:00, 50.39 Samples/s]                  \n",
      "Executing Pipeline:   0%|          | 0/46 [00:00<?, ? Samples/s]"
     ]
    },
    {
     "name": "stdout",
     "output_type": "stream",
     "text": [
      "Done\n",
      "Initialised with 1 image(s) found.\n",
      "Output directory set to /root/workspace/Thyroid_Solid_Nodule/data/preprocess/chenzhou_aug/tmp/image/A4B1C3D1E1_113THY492018083010145230/output.1 ground truth image(s) found.\n",
      "\n",
      "No./root/workspace/Thyroid_Solid_Nodule/data/preprocess/chenzhou/image/A4B1C3D1E1_113THY4920180830101452304.jpg data is being augmented and 46 data will be created\n"
     ]
    },
    {
     "name": "stderr",
     "output_type": "stream",
     "text": [
      "Processing <PIL.Image.Image image mode=RGB size=1024x768 at 0x7FD26473FD68>: 100%|██████████| 46/46 [00:00<00:00, 49.67 Samples/s]                  \n",
      "Executing Pipeline:   0%|          | 0/54 [00:00<?, ? Samples/s]"
     ]
    },
    {
     "name": "stdout",
     "output_type": "stream",
     "text": [
      "Done\n",
      "Initialised with 1 image(s) found.\n",
      "Output directory set to /root/workspace/Thyroid_Solid_Nodule/data/preprocess/chenzhou_aug/tmp/image/A3B1C2D1E1_30THY920180719083925646/output.1 ground truth image(s) found.\n",
      "\n",
      "No./root/workspace/Thyroid_Solid_Nodule/data/preprocess/chenzhou/image/A3B1C2D1E1_30THY920180719083925646V.jpg data is being augmented and 54 data will be created\n"
     ]
    },
    {
     "name": "stderr",
     "output_type": "stream",
     "text": [
      "Processing <PIL.Image.Image image mode=RGB size=1024x768 at 0x7FD337D23358>: 100%|██████████| 54/54 [00:00<00:00, 57.03 Samples/s]\n",
      "Executing Pipeline:   0%|          | 0/51 [00:00<?, ? Samples/s]"
     ]
    },
    {
     "name": "stdout",
     "output_type": "stream",
     "text": [
      "Done\n",
      "Initialised with 1 image(s) found.\n",
      "Output directory set to /root/workspace/Thyroid_Solid_Nodule/data/preprocess/chenzhou_aug/tmp/image/A4B1C3D2E1_17207131120180905THY12520180905111558751/output.1 ground truth image(s) found.\n",
      "\n",
      "No./root/workspace/Thyroid_Solid_Nodule/data/preprocess/chenzhou/image/A4B1C3D2E1_17207131120180905THY12520180905111558751V.jpg data is being augmented and 51 data will be created\n"
     ]
    },
    {
     "name": "stderr",
     "output_type": "stream",
     "text": [
      "Processing <PIL.Image.Image image mode=RGB size=1024x768 at 0x7FD2647A2A20>: 100%|██████████| 51/51 [00:00<00:00, 55.40 Samples/s]                  \n",
      "Executing Pipeline:   0%|          | 0/45 [00:00<?, ? Samples/s]"
     ]
    },
    {
     "name": "stdout",
     "output_type": "stream",
     "text": [
      "Done\n",
      "Initialised with 1 image(s) found.\n",
      "Output directory set to /root/workspace/Thyroid_Solid_Nodule/data/preprocess/chenzhou_aug/tmp/image/A4B1C4D2E4_18412221420180907THY13120180907142347203/output.1 ground truth image(s) found.\n",
      "\n",
      "No./root/workspace/Thyroid_Solid_Nodule/data/preprocess/chenzhou/image/A4B1C4D2E4_18412221420180907THY13120180907142347203V.jpg data is being augmented and 45 data will be created\n"
     ]
    },
    {
     "name": "stderr",
     "output_type": "stream",
     "text": [
      "Processing <PIL.Image.Image image mode=RGB size=1024x768 at 0x7FD264743B38>: 100%|██████████| 45/45 [00:00<00:00, 55.60 Samples/s]                  \n",
      "Executing Pipeline:   0%|          | 0/40 [00:00<?, ? Samples/s]"
     ]
    },
    {
     "name": "stdout",
     "output_type": "stream",
     "text": [
      "Done\n",
      "Initialised with 1 image(s) found.\n",
      "Output directory set to /root/workspace/Thyroid_Solid_Nodule/data/preprocess/chenzhou_aug/tmp/image/A3B1C2D1E1_29THY920180719083624528/output.1 ground truth image(s) found.\n",
      "\n",
      "No./root/workspace/Thyroid_Solid_Nodule/data/preprocess/chenzhou/image/A3B1C2D1E1_29THY920180719083624528V.jpg data is being augmented and 40 data will be created\n"
     ]
    },
    {
     "name": "stderr",
     "output_type": "stream",
     "text": [
      "Processing <PIL.Image.Image image mode=RGB size=1024x768 at 0x7FD2647A2630>: 100%|██████████| 40/40 [00:00<00:00, 55.47 Samples/s]                  \n",
      "Executing Pipeline:   0%|          | 0/58 [00:00<?, ? Samples/s]"
     ]
    },
    {
     "name": "stdout",
     "output_type": "stream",
     "text": [
      "Done\n",
      "Initialised with 1 image(s) found.\n",
      "Output directory set to /root/workspace/Thyroid_Solid_Nodule/data/preprocess/chenzhou_aug/tmp/image/A1B1C1D1E1_13THY420180717154528804/output.1 ground truth image(s) found.\n",
      "\n",
      "No./root/workspace/Thyroid_Solid_Nodule/data/preprocess/chenzhou/image/A1B1C1D1E1_13THY420180717154528804T.jpg data is being augmented and 58 data will be created\n"
     ]
    },
    {
     "name": "stderr",
     "output_type": "stream",
     "text": [
      "Processing <PIL.Image.Image image mode=RGB size=1024x768 at 0x7FD264753BA8>: 100%|██████████| 58/58 [00:01<00:00, 55.48 Samples/s]                  \n",
      "Executing Pipeline:   0%|          | 0/46 [00:00<?, ? Samples/s]"
     ]
    },
    {
     "name": "stdout",
     "output_type": "stream",
     "text": [
      "Done\n",
      "Initialised with 1 image(s) found.\n",
      "Output directory set to /root/workspace/Thyroid_Solid_Nodule/data/preprocess/chenzhou_aug/tmp/image/A4B1C4D3E2_2THY220180717092815882/output.1 ground truth image(s) found.\n",
      "\n",
      "No./root/workspace/Thyroid_Solid_Nodule/data/preprocess/chenzhou/image/A4B1C4D3E2_2THY220180717092815882T.jpg data is being augmented and 46 data will be created\n"
     ]
    },
    {
     "name": "stderr",
     "output_type": "stream",
     "text": [
      "Processing <PIL.Image.Image image mode=RGB size=1024x768 at 0x7FD264737CC0>: 100%|██████████| 46/46 [00:00<00:00, 48.88 Samples/s]                  \n",
      "Executing Pipeline:   0%|          | 0/60 [00:00<?, ? Samples/s]"
     ]
    },
    {
     "name": "stdout",
     "output_type": "stream",
     "text": [
      "Done\n",
      "Initialised with 1 image(s) found.\n",
      "Output directory set to /root/workspace/Thyroid_Solid_Nodule/data/preprocess/chenzhou_aug/tmp/image/A4B1C3D3E4_126THY5520180830150418761/output.1 ground truth image(s) found.\n",
      "\n",
      "No./root/workspace/Thyroid_Solid_Nodule/data/preprocess/chenzhou/image/A4B1C3D3E4_126THY5520180830150418761V.jpg data is being augmented and 60 data will be created\n"
     ]
    },
    {
     "name": "stderr",
     "output_type": "stream",
     "text": [
      "Processing <PIL.Image.Image image mode=RGB size=1024x768 at 0x7FD2647713C8>: 100%|██████████| 60/60 [00:01<00:00, 57.61 Samples/s]                  \n",
      "Executing Pipeline:   0%|          | 0/49 [00:00<?, ? Samples/s]"
     ]
    },
    {
     "name": "stdout",
     "output_type": "stream",
     "text": [
      "Done\n",
      "Initialised with 1 image(s) found.\n",
      "Output directory set to /root/workspace/Thyroid_Solid_Nodule/data/preprocess/chenzhou_aug/tmp/image/A4B1C3D3E1_38THY13RUTOUCA20180720113443842/output.1 ground truth image(s) found.\n",
      "\n",
      "No./root/workspace/Thyroid_Solid_Nodule/data/preprocess/chenzhou/image/A4B1C3D3E1_38THY13RUTOUCA20180720113443842V.jpg data is being augmented and 49 data will be created\n"
     ]
    },
    {
     "name": "stderr",
     "output_type": "stream",
     "text": [
      "Processing <PIL.Image.Image image mode=RGB size=1024x768 at 0x7FD26477A550>: 100%|██████████| 49/49 [00:00<00:00, 54.56 Samples/s]                 \n",
      "Executing Pipeline:   0%|          | 0/43 [00:00<?, ? Samples/s]"
     ]
    },
    {
     "name": "stdout",
     "output_type": "stream",
     "text": [
      "Done\n",
      "Initialised with 1 image(s) found.\n",
      "Output directory set to /root/workspace/Thyroid_Solid_Nodule/data/preprocess/chenzhou_aug/tmp/image/A4B1C2D2E1_115THY492018083010164300/output.1 ground truth image(s) found.\n",
      "\n",
      "No./root/workspace/Thyroid_Solid_Nodule/data/preprocess/chenzhou/image/A4B1C2D2E1_115THY4920180830101643005.jpg data is being augmented and 43 data will be created\n"
     ]
    },
    {
     "name": "stderr",
     "output_type": "stream",
     "text": [
      "Processing <PIL.Image.Image image mode=RGB size=1024x768 at 0x7FD2647264A8>: 100%|██████████| 43/43 [00:00<00:00, 51.13 Samples/s]\n",
      "Executing Pipeline:   0%|          | 0/41 [00:00<?, ? Samples/s]"
     ]
    },
    {
     "name": "stdout",
     "output_type": "stream",
     "text": [
      "Done\n",
      "Initialised with 1 image(s) found.\n",
      "Output directory set to /root/workspace/Thyroid_Solid_Nodule/data/preprocess/chenzhou_aug/tmp/image/A4B1C4D2E1_16226411420180815THY11920180815145943905/output.1 ground truth image(s) found.\n",
      "\n",
      "No./root/workspace/Thyroid_Solid_Nodule/data/preprocess/chenzhou/image/A4B1C4D2E1_16226411420180815THY11920180815145943905V.jpg data is being augmented and 41 data will be created\n"
     ]
    },
    {
     "name": "stderr",
     "output_type": "stream",
     "text": [
      "Processing <PIL.Image.Image image mode=RGB size=1024x768 at 0x7FD337D0BB70>: 100%|██████████| 41/41 [00:00<00:00, 52.68 Samples/s]\n",
      "Executing Pipeline:   0%|          | 0/47 [00:00<?, ? Samples/s]"
     ]
    },
    {
     "name": "stdout",
     "output_type": "stream",
     "text": [
      "Done\n",
      "Initialised with 1 image(s) found.\n",
      "Output directory set to /root/workspace/Thyroid_Solid_Nodule/data/preprocess/chenzhou_aug/tmp/image/A3B1C2D1E1_110THY4620180823092708166/output.1 ground truth image(s) found.\n",
      "\n",
      "No./root/workspace/Thyroid_Solid_Nodule/data/preprocess/chenzhou/image/A3B1C2D1E1_110THY4620180823092708166V.jpg data is being augmented and 47 data will be created\n"
     ]
    },
    {
     "name": "stderr",
     "output_type": "stream",
     "text": [
      "Processing <PIL.Image.Image image mode=RGB size=1024x768 at 0x7FD264726550>: 100%|██████████| 47/47 [00:00<00:00, 52.90 Samples/s]\n",
      "Executing Pipeline:   0%|          | 0/50 [00:00<?, ? Samples/s]"
     ]
    },
    {
     "name": "stdout",
     "output_type": "stream",
     "text": [
      "Done\n",
      "Initialised with 1 image(s) found.\n",
      "Output directory set to /root/workspace/Thyroid_Solid_Nodule/data/preprocess/chenzhou_aug/tmp/image/A4B1C4D3E1_63THY2320180725110548124/output.1 ground truth image(s) found.\n",
      "\n",
      "No./root/workspace/Thyroid_Solid_Nodule/data/preprocess/chenzhou/image/A4B1C4D3E1_63THY2320180725110548124V.jpg data is being augmented and 50 data will be created\n"
     ]
    },
    {
     "name": "stderr",
     "output_type": "stream",
     "text": [
      "Processing <PIL.Image.Image image mode=RGB size=1024x768 at 0x7FD26478F3C8>: 100%|██████████| 50/50 [00:00<00:00, 50.89 Samples/s]\n",
      "Executing Pipeline:   0%|          | 0/58 [00:00<?, ? Samples/s]"
     ]
    },
    {
     "name": "stdout",
     "output_type": "stream",
     "text": [
      "Done\n",
      "Initialised with 1 image(s) found.\n",
      "Output directory set to /root/workspace/Thyroid_Solid_Nodule/data/preprocess/chenzhou_aug/tmp/image/A3B1C3D1E1_19THY620180718085723415/output.1 ground truth image(s) found.\n",
      "\n",
      "No./root/workspace/Thyroid_Solid_Nodule/data/preprocess/chenzhou/image/A3B1C3D1E1_19THY620180718085723415V.jpg data is being augmented and 58 data will be created\n"
     ]
    },
    {
     "name": "stderr",
     "output_type": "stream",
     "text": [
      "Processing <PIL.Image.Image image mode=RGB size=1024x768 at 0x7FD264737C50>: 100%|██████████| 58/58 [00:00<00:00, 58.65 Samples/s]                  \n",
      "Executing Pipeline:   0%|          | 0/44 [00:00<?, ? Samples/s]"
     ]
    },
    {
     "name": "stdout",
     "output_type": "stream",
     "text": [
      "Done\n",
      "Initialised with 1 image(s) found.\n",
      "Output directory set to /root/workspace/Thyroid_Solid_Nodule/data/preprocess/chenzhou_aug/tmp/image/A1B1C1D1E1_39THY1420180720115201073/output.1 ground truth image(s) found.\n",
      "\n",
      "No./root/workspace/Thyroid_Solid_Nodule/data/preprocess/chenzhou/image/A1B1C1D1E1_39THY1420180720115201073T.jpg data is being augmented and 44 data will be created\n"
     ]
    },
    {
     "name": "stderr",
     "output_type": "stream",
     "text": [
      "Processing <PIL.Image.Image image mode=RGB size=1024x768 at 0x7FD2647432E8>: 100%|██████████| 44/44 [00:00<00:00, 60.01 Samples/s]\n",
      "Executing Pipeline:   0%|          | 0/40 [00:00<?, ? Samples/s]"
     ]
    },
    {
     "name": "stdout",
     "output_type": "stream",
     "text": [
      "Done\n",
      "Initialised with 1 image(s) found.\n",
      "Output directory set to /root/workspace/Thyroid_Solid_Nodule/data/preprocess/chenzhou_aug/tmp/image/A4B1C2D1E1_15547281620180813THY11520180813163027097/output.1 ground truth image(s) found.\n",
      "\n",
      "No./root/workspace/Thyroid_Solid_Nodule/data/preprocess/chenzhou/image/A4B1C2D1E1_15547281620180813THY11520180813163027097T.jpg data is being augmented and 40 data will be created\n"
     ]
    },
    {
     "name": "stderr",
     "output_type": "stream",
     "text": [
      "Processing <PIL.Image.Image image mode=RGB size=1024x768 at 0x7FD264766EB8>: 100%|██████████| 40/40 [00:00<00:00, 53.30 Samples/s]                 \n",
      "Executing Pipeline:   0%|          | 0/57 [00:00<?, ? Samples/s]"
     ]
    },
    {
     "name": "stdout",
     "output_type": "stream",
     "text": [
      "Done\n",
      "Initialised with 1 image(s) found.\n",
      "Output directory set to /root/workspace/Thyroid_Solid_Nodule/data/preprocess/chenzhou_aug/tmp/image/A4B1C2D1E1_15233051020180803THY11220180803100618818/output.1 ground truth image(s) found.\n",
      "\n",
      "No./root/workspace/Thyroid_Solid_Nodule/data/preprocess/chenzhou/image/A4B1C2D1E1_15233051020180803THY11220180803100618818V.jpg data is being augmented and 57 data will be created\n"
     ]
    },
    {
     "name": "stderr",
     "output_type": "stream",
     "text": [
      "Processing <PIL.Image.Image image mode=RGB size=1024x768 at 0x7FD2647C16A0>: 100%|██████████| 57/57 [00:01<00:00, 50.02 Samples/s]\n",
      "Executing Pipeline:   0%|          | 0/60 [00:00<?, ? Samples/s]"
     ]
    },
    {
     "name": "stdout",
     "output_type": "stream",
     "text": [
      "Done\n",
      "Initialised with 1 image(s) found.\n",
      "Output directory set to /root/workspace/Thyroid_Solid_Nodule/data/preprocess/chenzhou_aug/tmp/image/A4B1C2D1E1_26THY720180718092336093/output.1 ground truth image(s) found.\n",
      "\n",
      "No./root/workspace/Thyroid_Solid_Nodule/data/preprocess/chenzhou/image/A4B1C2D1E1_26THY720180718092336093T.jpg data is being augmented and 60 data will be created\n"
     ]
    },
    {
     "name": "stderr",
     "output_type": "stream",
     "text": [
      "Processing <PIL.Image.Image image mode=RGB size=1024x768 at 0x7FD2647C18D0>: 100%|██████████| 60/60 [00:01<00:00, 59.16 Samples/s]                  \n",
      "Executing Pipeline:   0%|          | 0/51 [00:00<?, ? Samples/s]"
     ]
    },
    {
     "name": "stdout",
     "output_type": "stream",
     "text": [
      "Done\n",
      "Initialised with 1 image(s) found.\n",
      "Output directory set to /root/workspace/Thyroid_Solid_Nodule/data/preprocess/chenzhou_aug/tmp/image/A4B1C2D1E1_20235241120181012THY14920181012112622945/output.1 ground truth image(s) found.\n",
      "\n",
      "No./root/workspace/Thyroid_Solid_Nodule/data/preprocess/chenzhou/image/A4B1C2D1E1_20235241120181012THY14920181012112622945T.jpg data is being augmented and 51 data will be created\n"
     ]
    },
    {
     "name": "stderr",
     "output_type": "stream",
     "text": [
      "Processing <PIL.Image.Image image mode=RGB size=1024x768 at 0x7FD26478F1D0>: 100%|██████████| 51/51 [00:00<00:00, 53.33 Samples/s]                  \n",
      "Executing Pipeline:   0%|          | 0/57 [00:00<?, ? Samples/s]"
     ]
    },
    {
     "name": "stdout",
     "output_type": "stream",
     "text": [
      "Done\n",
      "Initialised with 1 image(s) found.\n",
      "Output directory set to /root/workspace/Thyroid_Solid_Nodule/data/preprocess/chenzhou_aug/tmp/image/A4B1C3D3E1_81THY3420180730151927843/output.1 ground truth image(s) found.\n",
      "\n",
      "No./root/workspace/Thyroid_Solid_Nodule/data/preprocess/chenzhou/image/A4B1C3D3E1_81THY3420180730151927843T.jpg data is being augmented and 57 data will be created\n"
     ]
    },
    {
     "name": "stderr",
     "output_type": "stream",
     "text": [
      "Processing <PIL.Image.Image image mode=RGB size=1024x768 at 0x7FD337D0B7F0>: 100%|██████████| 57/57 [00:01<00:00, 54.69 Samples/s]                  \n",
      "Executing Pipeline:   0%|          | 0/54 [00:00<?, ? Samples/s]"
     ]
    },
    {
     "name": "stdout",
     "output_type": "stream",
     "text": [
      "Done\n",
      "Initialised with 1 image(s) found.\n",
      "Output directory set to /root/workspace/Thyroid_Solid_Nodule/data/preprocess/chenzhou_aug/tmp/image/A4B1C4D3E2_27THY820180718100331881/output.1 ground truth image(s) found.\n",
      "\n",
      "No./root/workspace/Thyroid_Solid_Nodule/data/preprocess/chenzhou/image/A4B1C4D3E2_27THY820180718100331881T.jpg data is being augmented and 54 data will be created\n"
     ]
    },
    {
     "name": "stderr",
     "output_type": "stream",
     "text": [
      "Processing <PIL.Image.Image image mode=RGB size=1024x768 at 0x7FD264766D30>: 100%|██████████| 54/54 [00:01<00:00, 52.32 Samples/s]\n",
      "Executing Pipeline:   0%|          | 0/52 [00:00<?, ? Samples/s]"
     ]
    },
    {
     "name": "stdout",
     "output_type": "stream",
     "text": [
      "Done\n",
      "Initialised with 1 image(s) found.\n",
      "Output directory set to /root/workspace/Thyroid_Solid_Nodule/data/preprocess/chenzhou_aug/tmp/image/A4B1C3D1E2_73THY282018072708173557/output.1 ground truth image(s) found.\n",
      "\n",
      "No./root/workspace/Thyroid_Solid_Nodule/data/preprocess/chenzhou/image/A4B1C3D1E2_73THY2820180727081735576.jpg data is being augmented and 52 data will be created\n"
     ]
    },
    {
     "name": "stderr",
     "output_type": "stream",
     "text": [
      "Processing <PIL.Image.Image image mode=RGB size=1024x768 at 0x7FD2647B15F8>: 100%|██████████| 52/52 [00:00<00:00, 53.63 Samples/s]                  \n",
      "Executing Pipeline:   0%|          | 0/42 [00:00<?, ? Samples/s]"
     ]
    },
    {
     "name": "stdout",
     "output_type": "stream",
     "text": [
      "Done\n",
      "Initialised with 1 image(s) found.\n",
      "Output directory set to /root/workspace/Thyroid_Solid_Nodule/data/preprocess/chenzhou_aug/tmp/image/A3B1C3D1E1_52THY182018072310585749/output.1 ground truth image(s) found.\n",
      "\n",
      "No./root/workspace/Thyroid_Solid_Nodule/data/preprocess/chenzhou/image/A3B1C3D1E1_52THY1820180723105857494.jpg data is being augmented and 42 data will be created\n"
     ]
    },
    {
     "name": "stderr",
     "output_type": "stream",
     "text": [
      "Processing <PIL.Image.Image image mode=RGB size=1024x768 at 0x7FD26473F080>: 100%|██████████| 42/42 [00:00<00:00, 50.38 Samples/s]\n",
      "Processing <PIL.Image.Image image mode=RGB size=1024x768 at 0x7FD264766E10>:   0%|          | 0/45 [00:00<?, ? Samples/s]"
     ]
    },
    {
     "name": "stdout",
     "output_type": "stream",
     "text": [
      "Done\n",
      "Initialised with 1 image(s) found.\n",
      "Output directory set to /root/workspace/Thyroid_Solid_Nodule/data/preprocess/chenzhou_aug/tmp/image/A4B1C3D2E2_46THY1720180723101346886/output.1 ground truth image(s) found.\n",
      "\n",
      "No./root/workspace/Thyroid_Solid_Nodule/data/preprocess/chenzhou/image/A4B1C3D2E2_46THY1720180723101346886V.jpg data is being augmented and 45 data will be created\n"
     ]
    },
    {
     "name": "stderr",
     "output_type": "stream",
     "text": [
      "Processing <PIL.Image.Image image mode=RGB size=1024x768 at 0x7FD264753D68>: 100%|██████████| 45/45 [00:00<00:00, 57.02 Samples/s]                  \n",
      "Executing Pipeline:   0%|          | 0/49 [00:00<?, ? Samples/s]"
     ]
    },
    {
     "name": "stdout",
     "output_type": "stream",
     "text": [
      "Done\n",
      "Initialised with 1 image(s) found.\n",
      "Output directory set to /root/workspace/Thyroid_Solid_Nodule/data/preprocess/chenzhou_aug/tmp/image/A2B1C3D1E1_9THY420180717154009833/output.1 ground truth image(s) found.\n",
      "\n",
      "No./root/workspace/Thyroid_Solid_Nodule/data/preprocess/chenzhou/image/A2B1C3D1E1_9THY420180717154009833V.jpg data is being augmented and 49 data will be created\n"
     ]
    },
    {
     "name": "stderr",
     "output_type": "stream",
     "text": [
      "Processing <PIL.Image.Image image mode=RGB size=1024x768 at 0x7FD2647BD3C8>: 100%|██████████| 49/49 [00:00<00:00, 55.66 Samples/s]\n",
      "Executing Pipeline:   0%|          | 0/50 [00:00<?, ? Samples/s]"
     ]
    },
    {
     "name": "stdout",
     "output_type": "stream",
     "text": [
      "Done\n",
      "Initialised with 1 image(s) found.\n",
      "Output directory set to /root/workspace/Thyroid_Solid_Nodule/data/preprocess/chenzhou_aug/tmp/image/A3B1C3D1E1_17THY520180717164538347/output.1 ground truth image(s) found.\n",
      "\n",
      "No./root/workspace/Thyroid_Solid_Nodule/data/preprocess/chenzhou/image/A3B1C3D1E1_17THY520180717164538347V.jpg data is being augmented and 50 data will be created\n"
     ]
    },
    {
     "name": "stderr",
     "output_type": "stream",
     "text": [
      "Processing <PIL.Image.Image image mode=RGB size=1024x768 at 0x7FD264743AC8>: 100%|██████████| 50/50 [00:01<00:00, 48.45 Samples/s]                  \n",
      "Executing Pipeline:   0%|          | 0/41 [00:00<?, ? Samples/s]"
     ]
    },
    {
     "name": "stdout",
     "output_type": "stream",
     "text": [
      "Done\n",
      "Initialised with 1 image(s) found.\n",
      "Output directory set to /root/workspace/Thyroid_Solid_Nodule/data/preprocess/chenzhou_aug/tmp/image/A4B2C4D1E3_16620460820180903THY12220180903084803797/output.1 ground truth image(s) found.\n",
      "\n",
      "No./root/workspace/Thyroid_Solid_Nodule/data/preprocess/chenzhou/image/A4B2C4D1E3_16620460820180903THY12220180903084803797T.jpg data is being augmented and 41 data will be created\n"
     ]
    },
    {
     "name": "stderr",
     "output_type": "stream",
     "text": [
      "Processing <PIL.Image.Image image mode=RGB size=1024x768 at 0x7FD26477A1D0>: 100%|██████████| 41/41 [00:00<00:00, 55.54 Samples/s]                 \n",
      "Executing Pipeline:   0%|          | 0/55 [00:00<?, ? Samples/s]"
     ]
    },
    {
     "name": "stdout",
     "output_type": "stream",
     "text": [
      "Done\n",
      "Initialised with 1 image(s) found.\n",
      "Output directory set to /root/workspace/Thyroid_Solid_Nodule/data/preprocess/chenzhou_aug/tmp/image/A4B1C3D1E1_130THY5620180830155714696/output.1 ground truth image(s) found.\n",
      "\n",
      "No./root/workspace/Thyroid_Solid_Nodule/data/preprocess/chenzhou/image/A4B1C3D1E1_130THY5620180830155714696T.jpg data is being augmented and 55 data will be created\n"
     ]
    },
    {
     "name": "stderr",
     "output_type": "stream",
     "text": [
      "Processing <PIL.Image.Image image mode=RGB size=1024x768 at 0x7FD2647A45F8>: 100%|██████████| 55/55 [00:01<00:00, 54.22 Samples/s]                  \n",
      "Executing Pipeline:   0%|          | 0/48 [00:00<?, ? Samples/s]"
     ]
    },
    {
     "name": "stdout",
     "output_type": "stream",
     "text": [
      "Done\n",
      "Initialised with 1 image(s) found.\n",
      "Output directory set to /root/workspace/Thyroid_Solid_Nodule/data/preprocess/chenzhou_aug/tmp/image/A4B1C3D2E4_101THY4320180820151945801/output.1 ground truth image(s) found.\n",
      "\n",
      "No./root/workspace/Thyroid_Solid_Nodule/data/preprocess/chenzhou/image/A4B1C3D2E4_101THY4320180820151945801V.jpg data is being augmented and 48 data will be created\n"
     ]
    },
    {
     "name": "stderr",
     "output_type": "stream",
     "text": [
      "Processing <PIL.Image.Image image mode=RGB size=1024x768 at 0x7FD337D23CF8>: 100%|██████████| 48/48 [00:00<00:00, 50.69 Samples/s]                  \n",
      "Executing Pipeline:   0%|          | 0/51 [00:00<?, ? Samples/s]"
     ]
    },
    {
     "name": "stdout",
     "output_type": "stream",
     "text": [
      "Done\n",
      "Initialised with 1 image(s) found.\n",
      "Output directory set to /root/workspace/Thyroid_Solid_Nodule/data/preprocess/chenzhou_aug/tmp/image/A4B1C3D1E1_66THY2420180725151024809/output.1 ground truth image(s) found.\n",
      "\n",
      "No./root/workspace/Thyroid_Solid_Nodule/data/preprocess/chenzhou/image/A4B1C3D1E1_66THY2420180725151024809V.jpg data is being augmented and 51 data will be created\n"
     ]
    },
    {
     "name": "stderr",
     "output_type": "stream",
     "text": [
      "Processing <PIL.Image.Image image mode=RGB size=1024x768 at 0x7FD264743320>: 100%|██████████| 51/51 [00:00<00:00, 52.26 Samples/s]                  \n",
      "Executing Pipeline:   0%|          | 0/49 [00:00<?, ? Samples/s]"
     ]
    },
    {
     "name": "stdout",
     "output_type": "stream",
     "text": [
      "Done\n",
      "Initialised with 1 image(s) found.\n",
      "Output directory set to /root/workspace/Thyroid_Solid_Nodule/data/preprocess/chenzhou_aug/tmp/image/A4B2C4D2E4_18412221420180907THY13120180907142357122/output.1 ground truth image(s) found.\n",
      "\n",
      "No./root/workspace/Thyroid_Solid_Nodule/data/preprocess/chenzhou/image/A4B2C4D2E4_18412221420180907THY13120180907142357122T.jpg data is being augmented and 49 data will be created\n"
     ]
    },
    {
     "name": "stderr",
     "output_type": "stream",
     "text": [
      "Processing <PIL.Image.Image image mode=RGB size=1024x768 at 0x7FD26477AC18>: 100%|██████████| 49/49 [00:00<00:00, 57.28 Samples/s]                 \n",
      "Executing Pipeline:   0%|          | 0/47 [00:00<?, ? Samples/s]"
     ]
    },
    {
     "name": "stdout",
     "output_type": "stream",
     "text": [
      "Done\n",
      "Initialised with 1 image(s) found.\n",
      "Output directory set to /root/workspace/Thyroid_Solid_Nodule/data/preprocess/chenzhou_aug/tmp/image/A4B1C4D1E2_15039310820180803THY11120180803083322518/output.1 ground truth image(s) found.\n",
      "\n",
      "No./root/workspace/Thyroid_Solid_Nodule/data/preprocess/chenzhou/image/A4B1C4D1E2_15039310820180803THY11120180803083322518V.jpg data is being augmented and 47 data will be created\n"
     ]
    },
    {
     "name": "stderr",
     "output_type": "stream",
     "text": [
      "Processing <PIL.Image.Image image mode=RGB size=1024x768 at 0x7FD26478F780>: 100%|██████████| 47/47 [00:00<00:00, 48.77 Samples/s]\n",
      "Executing Pipeline:   0%|          | 0/53 [00:00<?, ? Samples/s]"
     ]
    },
    {
     "name": "stdout",
     "output_type": "stream",
     "text": [
      "Done\n",
      "Initialised with 1 image(s) found.\n",
      "Output directory set to /root/workspace/Thyroid_Solid_Nodule/data/preprocess/chenzhou_aug/tmp/image/A4B1C2D2E2_23THY620180718090038519/output.1 ground truth image(s) found.\n",
      "\n",
      "No./root/workspace/Thyroid_Solid_Nodule/data/preprocess/chenzhou/image/A4B1C2D2E2_23THY620180718090038519V.jpg data is being augmented and 53 data will be created\n"
     ]
    },
    {
     "name": "stderr",
     "output_type": "stream",
     "text": [
      "Processing <PIL.Image.Image image mode=RGB size=1024x768 at 0x7FD26477AB00>: 100%|██████████| 53/53 [00:01<00:00, 52.29 Samples/s]                  \n",
      "Executing Pipeline:   0%|          | 0/50 [00:00<?, ? Samples/s]"
     ]
    },
    {
     "name": "stdout",
     "output_type": "stream",
     "text": [
      "Done\n",
      "Initialised with 1 image(s) found.\n",
      "Output directory set to /root/workspace/Thyroid_Solid_Nodule/data/preprocess/chenzhou_aug/tmp/image/A4B1C3D1E1_134THY5720180831150957049/output.1 ground truth image(s) found.\n",
      "\n",
      "No./root/workspace/Thyroid_Solid_Nodule/data/preprocess/chenzhou/image/A4B1C3D1E1_134THY5720180831150957049T.jpg data is being augmented and 50 data will be created\n"
     ]
    },
    {
     "name": "stderr",
     "output_type": "stream",
     "text": [
      "Processing <PIL.Image.Image image mode=RGB size=1024x768 at 0x7FD2647B11D0>: 100%|██████████| 50/50 [00:00<00:00, 51.33 Samples/s]                  \n",
      "Executing Pipeline:   0%|          | 0/41 [00:00<?, ? Samples/s]"
     ]
    },
    {
     "name": "stdout",
     "output_type": "stream",
     "text": [
      "Done\n",
      "Initialised with 1 image(s) found.\n",
      "Output directory set to /root/workspace/Thyroid_Solid_Nodule/data/preprocess/chenzhou_aug/tmp/image/A2B1C2D1E1_129THY5620180830155653646/output.1 ground truth image(s) found.\n",
      "\n",
      "No./root/workspace/Thyroid_Solid_Nodule/data/preprocess/chenzhou/image/A2B1C2D1E1_129THY5620180830155653646T.jpg data is being augmented and 41 data will be created\n"
     ]
    },
    {
     "name": "stderr",
     "output_type": "stream",
     "text": [
      "Processing <PIL.Image.Image image mode=RGB size=1024x768 at 0x7FD2647B4A20>: 100%|██████████| 41/41 [00:00<00:00, 51.00 Samples/s]                 \n",
      "Processing <PIL.Image.Image image mode=RGB size=1024x768 at 0x7FD2647BDCC0>:   0%|          | 0/43 [00:00<?, ? Samples/s]"
     ]
    },
    {
     "name": "stdout",
     "output_type": "stream",
     "text": [
      "Done\n",
      "Initialised with 1 image(s) found.\n",
      "Output directory set to /root/workspace/Thyroid_Solid_Nodule/data/preprocess/chenzhou_aug/tmp/image/A4B2C3D2E4_20637011020181015THY15120181015100309131/output.1 ground truth image(s) found.\n",
      "\n",
      "No./root/workspace/Thyroid_Solid_Nodule/data/preprocess/chenzhou/image/A4B2C3D2E4_20637011020181015THY15120181015100309131T.jpg data is being augmented and 43 data will be created\n"
     ]
    },
    {
     "name": "stderr",
     "output_type": "stream",
     "text": [
      "Processing <PIL.Image.Image image mode=RGB size=1024x768 at 0x7FD337D0BEF0>: 100%|██████████| 43/43 [00:00<00:00, 52.92 Samples/s]\n",
      "Executing Pipeline:   0%|          | 0/48 [00:00<?, ? Samples/s]"
     ]
    },
    {
     "name": "stdout",
     "output_type": "stream",
     "text": [
      "Done\n",
      "Initialised with 1 image(s) found.\n",
      "Output directory set to /root/workspace/Thyroid_Solid_Nodule/data/preprocess/chenzhou_aug/tmp/image/A4B1C3D1E1_31THY1020180719095514121/output.1 ground truth image(s) found.\n",
      "\n",
      "No./root/workspace/Thyroid_Solid_Nodule/data/preprocess/chenzhou/image/A4B1C3D1E1_31THY1020180719095514121T.jpg data is being augmented and 48 data will be created\n"
     ]
    },
    {
     "name": "stderr",
     "output_type": "stream",
     "text": [
      "Processing <PIL.Image.Image image mode=RGB size=1024x768 at 0x7FD337D0B6D8>: 100%|██████████| 48/48 [00:00<00:00, 49.21 Samples/s]                  \n",
      "Executing Pipeline:   0%|          | 0/47 [00:00<?, ? Samples/s]"
     ]
    },
    {
     "name": "stdout",
     "output_type": "stream",
     "text": [
      "Done\n",
      "Initialised with 1 image(s) found.\n",
      "Output directory set to /root/workspace/Thyroid_Solid_Nodule/data/preprocess/chenzhou_aug/tmp/image/A1B1C1D1E1_14743321020180802THY11020180802103509488/output.1 ground truth image(s) found.\n",
      "\n",
      "No./root/workspace/Thyroid_Solid_Nodule/data/preprocess/chenzhou/image/A1B1C1D1E1_14743321020180802THY11020180802103509488T.jpg data is being augmented and 47 data will be created\n"
     ]
    },
    {
     "name": "stderr",
     "output_type": "stream",
     "text": [
      "Processing <PIL.Image.Image image mode=RGB size=1024x768 at 0x7FD2646E4DD8>: 100%|██████████| 47/47 [00:00<00:00, 56.44 Samples/s]                  \n",
      "Executing Pipeline:   0%|          | 0/40 [00:00<?, ? Samples/s]"
     ]
    },
    {
     "name": "stdout",
     "output_type": "stream",
     "text": [
      "Done\n",
      "Initialised with 1 image(s) found.\n",
      "Output directory set to /root/workspace/Thyroid_Solid_Nodule/data/preprocess/chenzhou_aug/tmp/image/A2B1C2D1E1_59THY2120180724083124439/output.1 ground truth image(s) found.\n",
      "\n",
      "No./root/workspace/Thyroid_Solid_Nodule/data/preprocess/chenzhou/image/A2B1C2D1E1_59THY2120180724083124439T.jpg data is being augmented and 40 data will be created\n"
     ]
    },
    {
     "name": "stderr",
     "output_type": "stream",
     "text": [
      "Processing <PIL.Image.Image image mode=RGB size=1024x768 at 0x7FD2647666D8>: 100%|██████████| 40/40 [00:00<00:00, 54.56 Samples/s]                 \n",
      "Executing Pipeline:   0%|          | 0/46 [00:00<?, ? Samples/s]"
     ]
    },
    {
     "name": "stdout",
     "output_type": "stream",
     "text": [
      "Done\n",
      "Initialised with 1 image(s) found.\n",
      "Output directory set to /root/workspace/Thyroid_Solid_Nodule/data/preprocess/chenzhou_aug/tmp/image/A4B1C4D4E4_82THY3520180802154709877/output.1 ground truth image(s) found.\n",
      "\n",
      "No./root/workspace/Thyroid_Solid_Nodule/data/preprocess/chenzhou/image/A4B1C4D4E4_82THY3520180802154709877V.jpg data is being augmented and 46 data will be created\n"
     ]
    },
    {
     "name": "stderr",
     "output_type": "stream",
     "text": [
      "Processing <PIL.Image.Image image mode=RGB size=1024x768 at 0x7FD264766400>: 100%|██████████| 46/46 [00:00<00:00, 51.24 Samples/s]\n",
      "Executing Pipeline:   0%|          | 0/52 [00:00<?, ? Samples/s]"
     ]
    },
    {
     "name": "stdout",
     "output_type": "stream",
     "text": [
      "Done\n",
      "Initialised with 1 image(s) found.\n",
      "Output directory set to /root/workspace/Thyroid_Solid_Nodule/data/preprocess/chenzhou_aug/tmp/image/A4B1C3D2E1_81THY3420180730151932295/output.1 ground truth image(s) found.\n",
      "\n",
      "No./root/workspace/Thyroid_Solid_Nodule/data/preprocess/chenzhou/image/A4B1C3D2E1_81THY3420180730151932295V.jpg data is being augmented and 52 data will be created\n"
     ]
    },
    {
     "name": "stderr",
     "output_type": "stream",
     "text": [
      "Processing <PIL.JpegImagePlugin.JpegImageFile image mode=RGB size=1024x768 at 0x7FD2647434A8>: 100%|██████████| 52/52 [00:00<00:00, 61.21 Samples/s]\n",
      "Executing Pipeline:   0%|          | 0/52 [00:00<?, ? Samples/s]"
     ]
    },
    {
     "name": "stdout",
     "output_type": "stream",
     "text": [
      "Done\n",
      "Initialised with 1 image(s) found.\n",
      "Output directory set to /root/workspace/Thyroid_Solid_Nodule/data/preprocess/chenzhou_aug/tmp/image/A4B1C4D3E1_80THY3320180730113749621/output.1 ground truth image(s) found.\n",
      "\n",
      "No./root/workspace/Thyroid_Solid_Nodule/data/preprocess/chenzhou/image/A4B1C4D3E1_80THY3320180730113749621V.jpg data is being augmented and 52 data will be created\n"
     ]
    },
    {
     "name": "stderr",
     "output_type": "stream",
     "text": [
      "Processing <PIL.Image.Image image mode=RGB size=1024x768 at 0x7FD2647BDBE0>: 100%|██████████| 52/52 [00:00<00:00, 61.98 Samples/s]                  \n",
      "Executing Pipeline:   0%|          | 0/41 [00:00<?, ? Samples/s]"
     ]
    },
    {
     "name": "stdout",
     "output_type": "stream",
     "text": [
      "Done\n",
      "Initialised with 1 image(s) found.\n",
      "Output directory set to /root/workspace/Thyroid_Solid_Nodule/data/preprocess/chenzhou_aug/tmp/image/A4B1C4D2E4_14425401520180801THY10820180801154051949/output.1 ground truth image(s) found.\n",
      "\n",
      "No./root/workspace/Thyroid_Solid_Nodule/data/preprocess/chenzhou/image/A4B1C4D2E4_14425401520180801THY10820180801154051949V.jpg data is being augmented and 41 data will be created\n"
     ]
    },
    {
     "name": "stderr",
     "output_type": "stream",
     "text": [
      "Processing <PIL.Image.Image image mode=RGB size=1024x768 at 0x7FD26477A588>: 100%|██████████| 41/41 [00:00<00:00, 57.43 Samples/s]                 \n",
      "Executing Pipeline:   0%|          | 0/47 [00:00<?, ? Samples/s]"
     ]
    },
    {
     "name": "stdout",
     "output_type": "stream",
     "text": [
      "Done\n",
      "Initialised with 1 image(s) found.\n",
      "Output directory set to /root/workspace/Thyroid_Solid_Nodule/data/preprocess/chenzhou_aug/tmp/image/A4B1C3D2E1_121THY5220180830104309628/output.1 ground truth image(s) found.\n",
      "\n",
      "No./root/workspace/Thyroid_Solid_Nodule/data/preprocess/chenzhou/image/A4B1C3D2E1_121THY5220180830104309628V.jpg data is being augmented and 47 data will be created\n"
     ]
    },
    {
     "name": "stderr",
     "output_type": "stream",
     "text": [
      "Processing <PIL.Image.Image image mode=RGB size=1024x768 at 0x7FD2646E4F98>: 100%|██████████| 47/47 [00:00<00:00, 53.70 Samples/s]                  \n",
      "Executing Pipeline:   0%|          | 0/52 [00:00<?, ? Samples/s]"
     ]
    },
    {
     "name": "stdout",
     "output_type": "stream",
     "text": [
      "Done\n",
      "Initialised with 1 image(s) found.\n",
      "Output directory set to /root/workspace/Thyroid_Solid_Nodule/data/preprocess/chenzhou_aug/tmp/image/A2B1C2D2E1_14939310820180803THY11120180803083222695/output.1 ground truth image(s) found.\n",
      "\n",
      "No./root/workspace/Thyroid_Solid_Nodule/data/preprocess/chenzhou/image/A2B1C2D2E1_14939310820180803THY11120180803083222695V.jpg data is being augmented and 52 data will be created\n"
     ]
    },
    {
     "name": "stderr",
     "output_type": "stream",
     "text": [
      "Processing <PIL.Image.Image image mode=RGB size=1024x768 at 0x7FD264766CC0>: 100%|██████████| 52/52 [00:01<00:00, 50.75 Samples/s]                  \n",
      "Executing Pipeline:   0%|          | 0/53 [00:00<?, ? Samples/s]"
     ]
    },
    {
     "name": "stdout",
     "output_type": "stream",
     "text": [
      "Done\n",
      "Initialised with 1 image(s) found.\n",
      "Output directory set to /root/workspace/Thyroid_Solid_Nodule/data/preprocess/chenzhou_aug/tmp/image/A4B1C2D1E1_116THY492018083010181352/output.1 ground truth image(s) found.\n",
      "\n",
      "No./root/workspace/Thyroid_Solid_Nodule/data/preprocess/chenzhou/image/A4B1C2D1E1_116THY4920180830101813526.jpg data is being augmented and 53 data will be created\n"
     ]
    },
    {
     "name": "stderr",
     "output_type": "stream",
     "text": [
      "Processing <PIL.Image.Image image mode=RGB size=1024x768 at 0x7FD264766978>: 100%|██████████| 53/53 [00:01<00:00, 48.02 Samples/s]                  \n",
      "Executing Pipeline:   0%|          | 0/53 [00:00<?, ? Samples/s]"
     ]
    },
    {
     "name": "stdout",
     "output_type": "stream",
     "text": [
      "Done\n",
      "Initialised with 1 image(s) found.\n",
      "Output directory set to /root/workspace/Thyroid_Solid_Nodule/data/preprocess/chenzhou_aug/tmp/image/A4B1C4D3E4_96THY4120180817152016715/output.1 ground truth image(s) found.\n",
      "\n",
      "No./root/workspace/Thyroid_Solid_Nodule/data/preprocess/chenzhou/image/A4B1C4D3E4_96THY4120180817152016715V.jpg data is being augmented and 53 data will be created\n"
     ]
    },
    {
     "name": "stderr",
     "output_type": "stream",
     "text": [
      "Processing <PIL.Image.Image image mode=RGB size=1024x768 at 0x7FD2646E4F98>: 100%|██████████| 53/53 [00:00<00:00, 57.44 Samples/s]                  \n",
      "Executing Pipeline:   0%|          | 0/50 [00:00<?, ? Samples/s]"
     ]
    },
    {
     "name": "stdout",
     "output_type": "stream",
     "text": [
      "Done\n",
      "Initialised with 1 image(s) found.\n",
      "Output directory set to /root/workspace/Thyroid_Solid_Nodule/data/preprocess/chenzhou_aug/tmp/image/A1B1C1D1E1_51THY182018072310581966/output.1 ground truth image(s) found.\n",
      "\n",
      "No./root/workspace/Thyroid_Solid_Nodule/data/preprocess/chenzhou/image/A1B1C1D1E1_51THY1820180723105819661.jpg data is being augmented and 50 data will be created\n"
     ]
    },
    {
     "name": "stderr",
     "output_type": "stream",
     "text": [
      "Processing <PIL.Image.Image image mode=RGB size=1024x768 at 0x7FD26479D6A0>: 100%|██████████| 50/50 [00:00<00:00, 52.68 Samples/s]                  \n",
      "Executing Pipeline:   0%|          | 0/54 [00:00<?, ? Samples/s]"
     ]
    },
    {
     "name": "stdout",
     "output_type": "stream",
     "text": [
      "Done\n",
      "Initialised with 1 image(s) found.\n",
      "Output directory set to /root/workspace/Thyroid_Solid_Nodule/data/preprocess/chenzhou_aug/tmp/image/A3B1C2D1E1_19305161420180913THY13820180913141631443/output.1 ground truth image(s) found.\n",
      "\n",
      "No./root/workspace/Thyroid_Solid_Nodule/data/preprocess/chenzhou/image/A3B1C2D1E1_19305161420180913THY13820180913141631443V.jpg data is being augmented and 54 data will be created\n"
     ]
    },
    {
     "name": "stderr",
     "output_type": "stream",
     "text": [
      "Processing <PIL.Image.Image image mode=RGB size=1024x768 at 0x7FD264743080>: 100%|██████████| 54/54 [00:01<00:00, 51.15 Samples/s]                  \n",
      "Executing Pipeline:   0%|          | 0/45 [00:00<?, ? Samples/s]"
     ]
    },
    {
     "name": "stdout",
     "output_type": "stream",
     "text": [
      "Done\n",
      "Initialised with 1 image(s) found.\n",
      "Output directory set to /root/workspace/Thyroid_Solid_Nodule/data/preprocess/chenzhou_aug/tmp/image/A4B1C2D1E2_15THY520180717164126272/output.1 ground truth image(s) found.\n",
      "\n",
      "No./root/workspace/Thyroid_Solid_Nodule/data/preprocess/chenzhou/image/A4B1C2D1E2_15THY520180717164126272T.jpg data is being augmented and 45 data will be created\n"
     ]
    },
    {
     "name": "stderr",
     "output_type": "stream",
     "text": [
      "Processing <PIL.Image.Image image mode=RGB size=1024x768 at 0x7FD2647BDB00>: 100%|██████████| 45/45 [00:00<00:00, 50.08 Samples/s]                  \n",
      "Executing Pipeline:   0%|          | 0/41 [00:00<?, ? Samples/s]"
     ]
    },
    {
     "name": "stdout",
     "output_type": "stream",
     "text": [
      "Done\n",
      "Initialised with 1 image(s) found.\n",
      "Output directory set to /root/workspace/Thyroid_Solid_Nodule/data/preprocess/chenzhou_aug/tmp/image/A1B1C1D1E1_84THY372018081608360422/output.1 ground truth image(s) found.\n",
      "\n",
      "No./root/workspace/Thyroid_Solid_Nodule/data/preprocess/chenzhou/image/A1B1C1D1E1_84THY3720180816083604226.jpg data is being augmented and 41 data will be created\n"
     ]
    },
    {
     "name": "stderr",
     "output_type": "stream",
     "text": [
      "Processing <PIL.Image.Image image mode=RGB size=1024x768 at 0x7FD2646E4AC8>: 100%|██████████| 41/41 [00:00<00:00, 50.53 Samples/s]\n",
      "Executing Pipeline:   0%|          | 0/57 [00:00<?, ? Samples/s]"
     ]
    },
    {
     "name": "stdout",
     "output_type": "stream",
     "text": [
      "Done\n",
      "Initialised with 1 image(s) found.\n",
      "Output directory set to /root/workspace/Thyroid_Solid_Nodule/data/preprocess/chenzhou_aug/tmp/image/A4B1C4D2E1_12THY420180717154259278/output.1 ground truth image(s) found.\n",
      "\n",
      "No./root/workspace/Thyroid_Solid_Nodule/data/preprocess/chenzhou/image/A4B1C4D2E1_12THY420180717154259278T.jpg data is being augmented and 57 data will be created\n"
     ]
    },
    {
     "name": "stderr",
     "output_type": "stream",
     "text": [
      "Processing <PIL.Image.Image image mode=RGB size=1024x768 at 0x7FD264766BE0>: 100%|██████████| 57/57 [00:00<00:00, 60.60 Samples/s]                  \n",
      "Executing Pipeline:   0%|          | 0/42 [00:00<?, ? Samples/s]"
     ]
    },
    {
     "name": "stdout",
     "output_type": "stream",
     "text": [
      "Done\n",
      "Initialised with 1 image(s) found.\n",
      "Output directory set to /root/workspace/Thyroid_Solid_Nodule/data/preprocess/chenzhou_aug/tmp/image/A4B2C4D3E4_13615096182004THY1004442018073110024021/output.1 ground truth image(s) found.\n",
      "\n",
      "No./root/workspace/Thyroid_Solid_Nodule/data/preprocess/chenzhou/image/A4B2C4D3E4_13615096182004THY10044420180731100240213.jpg data is being augmented and 42 data will be created\n"
     ]
    },
    {
     "name": "stderr",
     "output_type": "stream",
     "text": [
      "Processing <PIL.Image.Image image mode=RGB size=1024x768 at 0x7FD2646E4208>: 100%|██████████| 42/42 [00:00<00:00, 54.63 Samples/s]\n",
      "Executing Pipeline:   0%|          | 0/56 [00:00<?, ? Samples/s]"
     ]
    },
    {
     "name": "stdout",
     "output_type": "stream",
     "text": [
      "Done\n",
      "Initialised with 1 image(s) found.\n",
      "Output directory set to /root/workspace/Thyroid_Solid_Nodule/data/preprocess/chenzhou_aug/tmp/image/A4B1C3D2E2_46THY1720180723101411146/output.1 ground truth image(s) found.\n",
      "\n",
      "No./root/workspace/Thyroid_Solid_Nodule/data/preprocess/chenzhou/image/A4B1C3D2E2_46THY1720180723101411146T.jpg data is being augmented and 56 data will be created\n"
     ]
    },
    {
     "name": "stderr",
     "output_type": "stream",
     "text": [
      "Processing <PIL.Image.Image image mode=RGB size=1024x768 at 0x7FD2646EC278>: 100%|██████████| 56/56 [00:01<00:00, 54.70 Samples/s]                  \n",
      "Executing Pipeline:   0%|          | 0/56 [00:00<?, ? Samples/s]"
     ]
    },
    {
     "name": "stdout",
     "output_type": "stream",
     "text": [
      "Done\n",
      "Initialised with 1 image(s) found.\n",
      "Output directory set to /root/workspace/Thyroid_Solid_Nodule/data/preprocess/chenzhou_aug/tmp/image/A2B1C2D1E1_17903271020180906THY12920180906102800038/output.1 ground truth image(s) found.\n",
      "\n",
      "No./root/workspace/Thyroid_Solid_Nodule/data/preprocess/chenzhou/image/A2B1C2D1E1_17903271020180906THY12920180906102800038T.jpg data is being augmented and 56 data will be created\n"
     ]
    },
    {
     "name": "stderr",
     "output_type": "stream",
     "text": [
      "Processing <PIL.Image.Image image mode=RGB size=1024x768 at 0x7FD2646ECA20>: 100%|██████████| 56/56 [00:01<00:00, 55.82 Samples/s]                  \n",
      "Executing Pipeline:   0%|          | 0/54 [00:00<?, ? Samples/s]"
     ]
    },
    {
     "name": "stdout",
     "output_type": "stream",
     "text": [
      "Done\n",
      "Initialised with 1 image(s) found.\n",
      "Output directory set to /root/workspace/Thyroid_Solid_Nodule/data/preprocess/chenzhou_aug/tmp/image/A4B1C2D1E1_103THY4420180822155400562/output.1 ground truth image(s) found.\n",
      "\n",
      "No./root/workspace/Thyroid_Solid_Nodule/data/preprocess/chenzhou/image/A4B1C2D1E1_103THY4420180822155400562T.jpg data is being augmented and 54 data will be created\n"
     ]
    },
    {
     "name": "stderr",
     "output_type": "stream",
     "text": [
      "Processing <PIL.Image.Image image mode=RGB size=1024x768 at 0x7FD26473F9E8>: 100%|██████████| 54/54 [00:00<00:00, 58.52 Samples/s]                  \n",
      "Executing Pipeline:   0%|          | 0/45 [00:00<?, ? Samples/s]"
     ]
    },
    {
     "name": "stdout",
     "output_type": "stream",
     "text": [
      "Done\n",
      "Initialised with 1 image(s) found.\n",
      "Output directory set to /root/workspace/Thyroid_Solid_Nodule/data/preprocess/chenzhou_aug/tmp/image/A4B1C3D4E1_42THY1520180723091028435/output.1 ground truth image(s) found.\n",
      "\n",
      "No./root/workspace/Thyroid_Solid_Nodule/data/preprocess/chenzhou/image/A4B1C3D4E1_42THY1520180723091028435V.jpg data is being augmented and 45 data will be created\n"
     ]
    },
    {
     "name": "stderr",
     "output_type": "stream",
     "text": [
      "Processing <PIL.Image.Image image mode=RGB size=1024x768 at 0x7FD2647BDAC8>: 100%|██████████| 45/45 [00:00<00:00, 51.00 Samples/s]                  \n",
      "Executing Pipeline:   0%|          | 0/48 [00:00<?, ? Samples/s]"
     ]
    },
    {
     "name": "stdout",
     "output_type": "stream",
     "text": [
      "Done\n",
      "Initialised with 1 image(s) found.\n",
      "Output directory set to /root/workspace/Thyroid_Solid_Nodule/data/preprocess/chenzhou_aug/tmp/image/A4B1C3D1E1_97THY4220180817162030741/output.1 ground truth image(s) found.\n",
      "\n",
      "No./root/workspace/Thyroid_Solid_Nodule/data/preprocess/chenzhou/image/A4B1C3D1E1_97THY4220180817162030741T.jpg data is being augmented and 48 data will be created\n"
     ]
    },
    {
     "name": "stderr",
     "output_type": "stream",
     "text": [
      "Processing <PIL.Image.Image image mode=RGB size=1024x768 at 0x7FD2647BD6D8>: 100%|██████████| 48/48 [00:00<00:00, 51.45 Samples/s]                 \n",
      "Executing Pipeline:   0%|          | 0/51 [00:00<?, ? Samples/s]"
     ]
    },
    {
     "name": "stdout",
     "output_type": "stream",
     "text": [
      "Done\n",
      "Initialised with 1 image(s) found.\n",
      "Output directory set to /root/workspace/Thyroid_Solid_Nodule/data/preprocess/chenzhou_aug/tmp/image/A4B1C3D2E4_18710491520180907THY13220180907154945971/output.1 ground truth image(s) found.\n",
      "\n",
      "No./root/workspace/Thyroid_Solid_Nodule/data/preprocess/chenzhou/image/A4B1C3D2E4_18710491520180907THY13220180907154945971V.jpg data is being augmented and 51 data will be created\n"
     ]
    },
    {
     "name": "stderr",
     "output_type": "stream",
     "text": [
      "Processing <PIL.Image.Image image mode=RGB size=1024x768 at 0x7FD26473F9B0>: 100%|██████████| 51/51 [00:00<00:00, 58.81 Samples/s]                 \n",
      "Executing Pipeline:   0%|          | 0/46 [00:00<?, ? Samples/s]"
     ]
    },
    {
     "name": "stdout",
     "output_type": "stream",
     "text": [
      "Done\n",
      "Initialised with 1 image(s) found.\n",
      "Output directory set to /root/workspace/Thyroid_Solid_Nodule/data/preprocess/chenzhou_aug/tmp/image/A4B1C3D1E2_1THY120180717090410669/output.1 ground truth image(s) found.\n",
      "\n",
      "No./root/workspace/Thyroid_Solid_Nodule/data/preprocess/chenzhou/image/A4B1C3D1E2_1THY120180717090410669T.jpg data is being augmented and 46 data will be created\n"
     ]
    },
    {
     "name": "stderr",
     "output_type": "stream",
     "text": [
      "Processing <PIL.Image.Image image mode=RGB size=1024x768 at 0x7FD2646E4358>: 100%|██████████| 46/46 [00:00<00:00, 52.43 Samples/s]\n",
      "Executing Pipeline:   0%|          | 0/47 [00:00<?, ? Samples/s]"
     ]
    },
    {
     "name": "stdout",
     "output_type": "stream",
     "text": [
      "Done\n",
      "Initialised with 1 image(s) found.\n",
      "Output directory set to /root/workspace/Thyroid_Solid_Nodule/data/preprocess/chenzhou_aug/tmp/image/A2B1C3D1E1_43THY1520180723091120950/output.1 ground truth image(s) found.\n",
      "\n",
      "No./root/workspace/Thyroid_Solid_Nodule/data/preprocess/chenzhou/image/A2B1C3D1E1_43THY1520180723091120950T.jpg data is being augmented and 47 data will be created\n"
     ]
    },
    {
     "name": "stderr",
     "output_type": "stream",
     "text": [
      "Processing <PIL.Image.Image image mode=RGB size=1024x768 at 0x7FD2647A2128>: 100%|██████████| 47/47 [00:00<00:00, 54.69 Samples/s]\n",
      "Executing Pipeline:   0%|          | 0/50 [00:00<?, ? Samples/s]"
     ]
    },
    {
     "name": "stdout",
     "output_type": "stream",
     "text": [
      "Done\n",
      "Initialised with 1 image(s) found.\n",
      "Output directory set to /root/workspace/Thyroid_Solid_Nodule/data/preprocess/chenzhou_aug/tmp/image/A4B1C4D2E1_14327361520180801THY100720180801153739361/output.1 ground truth image(s) found.\n",
      "\n",
      "No./root/workspace/Thyroid_Solid_Nodule/data/preprocess/chenzhou/image/A4B1C4D2E1_14327361520180801THY100720180801153739361T.jpg data is being augmented and 50 data will be created\n"
     ]
    },
    {
     "name": "stderr",
     "output_type": "stream",
     "text": [
      "Processing <PIL.Image.Image image mode=RGB size=1024x768 at 0x7FD2647A2860>: 100%|██████████| 50/50 [00:00<00:00, 52.77 Samples/s]\n",
      "Executing Pipeline:   0%|          | 0/45 [00:00<?, ? Samples/s]"
     ]
    },
    {
     "name": "stdout",
     "output_type": "stream",
     "text": [
      "Done\n",
      "Initialised with 1 image(s) found.\n",
      "Output directory set to /root/workspace/Thyroid_Solid_Nodule/data/preprocess/chenzhou_aug/tmp/image/A4B1C3D3E4_126THY5520180830150404560/output.1 ground truth image(s) found.\n",
      "\n",
      "No./root/workspace/Thyroid_Solid_Nodule/data/preprocess/chenzhou/image/A4B1C3D3E4_126THY5520180830150404560T.jpg data is being augmented and 45 data will be created\n"
     ]
    },
    {
     "name": "stderr",
     "output_type": "stream",
     "text": [
      "Processing <PIL.Image.Image image mode=RGB size=1024x768 at 0x7FD264766EF0>: 100%|██████████| 45/45 [00:00<00:00, 55.84 Samples/s]\n",
      "Executing Pipeline:   0%|          | 0/40 [00:00<?, ? Samples/s]"
     ]
    },
    {
     "name": "stdout",
     "output_type": "stream",
     "text": [
      "Done\n",
      "Initialised with 1 image(s) found.\n",
      "Output directory set to /root/workspace/Thyroid_Solid_Nodule/data/preprocess/chenzhou_aug/tmp/image/A4B1C2D1E1_79THY3220180730112308602/output.1 ground truth image(s) found.\n",
      "\n",
      "No./root/workspace/Thyroid_Solid_Nodule/data/preprocess/chenzhou/image/A4B1C2D1E1_79THY3220180730112308602V.jpg data is being augmented and 40 data will be created\n"
     ]
    },
    {
     "name": "stderr",
     "output_type": "stream",
     "text": [
      "Processing <PIL.Image.Image image mode=RGB size=1024x768 at 0x7FD26479D6A0>: 100%|██████████| 40/40 [00:00<00:00, 53.52 Samples/s]                  \n",
      "Executing Pipeline:   0%|          | 0/55 [00:00<?, ? Samples/s]"
     ]
    },
    {
     "name": "stdout",
     "output_type": "stream",
     "text": [
      "Done\n",
      "Initialised with 1 image(s) found.\n",
      "Output directory set to /root/workspace/Thyroid_Solid_Nodule/data/preprocess/chenzhou_aug/tmp/image/A4B1C2D1E1_19507361420181009THY14020181009143620711/output.1 ground truth image(s) found.\n",
      "\n",
      "No./root/workspace/Thyroid_Solid_Nodule/data/preprocess/chenzhou/image/A4B1C2D1E1_19507361420181009THY14020181009143620711T.jpg data is being augmented and 55 data will be created\n"
     ]
    },
    {
     "name": "stderr",
     "output_type": "stream",
     "text": [
      "Processing <PIL.Image.Image image mode=RGB size=1024x768 at 0x7FD26473F828>: 100%|██████████| 55/55 [00:00<00:00, 61.54 Samples/s]                  \n",
      "Executing Pipeline:   0%|          | 0/52 [00:00<?, ? Samples/s]"
     ]
    },
    {
     "name": "stdout",
     "output_type": "stream",
     "text": [
      "Done\n",
      "Initialised with 1 image(s) found.\n",
      "Output directory set to /root/workspace/Thyroid_Solid_Nodule/data/preprocess/chenzhou_aug/tmp/image/A3B1C2D2E1_102THY4320180820152010614/output.1 ground truth image(s) found.\n",
      "\n",
      "No./root/workspace/Thyroid_Solid_Nodule/data/preprocess/chenzhou/image/A3B1C2D2E1_102THY4320180820152010614V.jpg data is being augmented and 52 data will be created\n"
     ]
    },
    {
     "name": "stderr",
     "output_type": "stream",
     "text": [
      "Processing <PIL.Image.Image image mode=RGB size=1024x768 at 0x7FD26473D320>: 100%|██████████| 52/52 [00:00<00:00, 52.90 Samples/s]                  \n",
      "Executing Pipeline:   0%|          | 0/55 [00:00<?, ? Samples/s]"
     ]
    },
    {
     "name": "stdout",
     "output_type": "stream",
     "text": [
      "Done\n",
      "Initialised with 1 image(s) found.\n",
      "Output directory set to /root/workspace/Thyroid_Solid_Nodule/data/preprocess/chenzhou_aug/tmp/image/A4B1C4D1E1_20851051020181015THY15220181015100613176/output.1 ground truth image(s) found.\n",
      "\n",
      "No./root/workspace/Thyroid_Solid_Nodule/data/preprocess/chenzhou/image/A4B1C4D1E1_20851051020181015THY15220181015100613176V.jpg data is being augmented and 55 data will be created\n"
     ]
    },
    {
     "name": "stderr",
     "output_type": "stream",
     "text": [
      "Processing <PIL.Image.Image image mode=RGB size=1024x768 at 0x7FD26477A048>: 100%|██████████| 55/55 [00:00<00:00, 57.23 Samples/s]                 \n",
      "Executing Pipeline:   0%|          | 0/42 [00:00<?, ? Samples/s]"
     ]
    },
    {
     "name": "stdout",
     "output_type": "stream",
     "text": [
      "Done\n",
      "Initialised with 1 image(s) found.\n",
      "Output directory set to /root/workspace/Thyroid_Solid_Nodule/data/preprocess/chenzhou_aug/tmp/image/A4B1C4D3E1_14327361520180801THY100720180801153756641/output.1 ground truth image(s) found.\n",
      "\n",
      "No./root/workspace/Thyroid_Solid_Nodule/data/preprocess/chenzhou/image/A4B1C4D3E1_14327361520180801THY100720180801153756641V.jpg data is being augmented and 42 data will be created\n"
     ]
    },
    {
     "name": "stderr",
     "output_type": "stream",
     "text": [
      "Processing <PIL.Image.Image image mode=RGB size=1024x768 at 0x7FD2647BD160>: 100%|██████████| 42/42 [00:00<00:00, 58.55 Samples/s]                  \n",
      "Executing Pipeline:   0%|          | 0/40 [00:00<?, ? Samples/s]"
     ]
    },
    {
     "name": "stdout",
     "output_type": "stream",
     "text": [
      "Done\n",
      "Initialised with 1 image(s) found.\n",
      "Output directory set to /root/workspace/Thyroid_Solid_Nodule/data/preprocess/chenzhou_aug/tmp/image/A3B1C2D1E1_18832480920180912THY13320180912094913580/output.1 ground truth image(s) found.\n",
      "\n",
      "No./root/workspace/Thyroid_Solid_Nodule/data/preprocess/chenzhou/image/A3B1C2D1E1_18832480920180912THY13320180912094913580V.jpg data is being augmented and 40 data will be created\n"
     ]
    },
    {
     "name": "stderr",
     "output_type": "stream",
     "text": [
      "Processing <PIL.Image.Image image mode=RGB size=1024x768 at 0x7FD26473F8D0>: 100%|██████████| 40/40 [00:00<00:00, 52.47 Samples/s]                 \n",
      "Executing Pipeline:   0%|          | 0/46 [00:00<?, ? Samples/s]"
     ]
    },
    {
     "name": "stdout",
     "output_type": "stream",
     "text": [
      "Done\n",
      "Initialised with 1 image(s) found.\n",
      "Output directory set to /root/workspace/Thyroid_Solid_Nodule/data/preprocess/chenzhou_aug/tmp/image/A1B1C1D1E2_65THY2420180725111048364/output.1 ground truth image(s) found.\n",
      "\n",
      "No./root/workspace/Thyroid_Solid_Nodule/data/preprocess/chenzhou/image/A1B1C1D1E2_65THY2420180725111048364T.jpg data is being augmented and 46 data will be created\n"
     ]
    },
    {
     "name": "stderr",
     "output_type": "stream",
     "text": [
      "Processing <PIL.Image.Image image mode=RGB size=1024x768 at 0x7FD26473F978>: 100%|██████████| 46/46 [00:00<00:00, 50.36 Samples/s]                  \n",
      "Executing Pipeline:   0%|          | 0/48 [00:00<?, ? Samples/s]"
     ]
    },
    {
     "name": "stdout",
     "output_type": "stream",
     "text": [
      "Done\n",
      "Initialised with 1 image(s) found.\n",
      "Output directory set to /root/workspace/Thyroid_Solid_Nodule/data/preprocess/chenzhou_aug/tmp/image/A4B1C2D1E1_107THY4620180823092511176/output.1 ground truth image(s) found.\n",
      "\n",
      "No./root/workspace/Thyroid_Solid_Nodule/data/preprocess/chenzhou/image/A4B1C2D1E1_107THY4620180823092511176T.jpg data is being augmented and 48 data will be created\n"
     ]
    },
    {
     "name": "stderr",
     "output_type": "stream",
     "text": [
      "Processing <PIL.Image.Image image mode=RGB size=1024x768 at 0x7FD2646E42B0>: 100%|██████████| 48/48 [00:00<00:00, 56.11 Samples/s]                  \n",
      "Executing Pipeline:   0%|          | 0/51 [00:00<?, ? Samples/s]"
     ]
    },
    {
     "name": "stdout",
     "output_type": "stream",
     "text": [
      "Done\n",
      "Initialised with 1 image(s) found.\n",
      "Output directory set to /root/workspace/Thyroid_Solid_Nodule/data/preprocess/chenzhou_aug/tmp/image/A4B1C4D1E1_17803271020180906THY12920180906102727719/output.1 ground truth image(s) found.\n",
      "\n",
      "No./root/workspace/Thyroid_Solid_Nodule/data/preprocess/chenzhou/image/A4B1C4D1E1_17803271020180906THY12920180906102727719T.jpg data is being augmented and 51 data will be created\n"
     ]
    },
    {
     "name": "stderr",
     "output_type": "stream",
     "text": [
      "Processing <PIL.Image.Image image mode=RGB size=1024x768 at 0x7FD2646F43C8>: 100%|██████████| 51/51 [00:00<00:00, 51.93 Samples/s]                  \n",
      "Executing Pipeline:   0%|          | 0/45 [00:00<?, ? Samples/s]"
     ]
    },
    {
     "name": "stdout",
     "output_type": "stream",
     "text": [
      "Done\n",
      "Initialised with 1 image(s) found.\n",
      "Output directory set to /root/workspace/Thyroid_Solid_Nodule/data/preprocess/chenzhou_aug/tmp/image/A4B1C4D2E1_22THY620180718085910707/output.1 ground truth image(s) found.\n",
      "\n",
      "No./root/workspace/Thyroid_Solid_Nodule/data/preprocess/chenzhou/image/A4B1C4D2E1_22THY620180718085910707T.jpg data is being augmented and 45 data will be created\n"
     ]
    },
    {
     "name": "stderr",
     "output_type": "stream",
     "text": [
      "Processing <PIL.Image.Image image mode=RGB size=1024x768 at 0x7FD2646EC208>: 100%|██████████| 45/45 [00:00<00:00, 45.08 Samples/s]\n",
      "Executing Pipeline:   0%|          | 0/58 [00:00<?, ? Samples/s]"
     ]
    },
    {
     "name": "stdout",
     "output_type": "stream",
     "text": [
      "Done\n",
      "Initialised with 1 image(s) found.\n",
      "Output directory set to /root/workspace/Thyroid_Solid_Nodule/data/preprocess/chenzhou_aug/tmp/image/A3B1C2D1E1_78THY322018073011205533/output.1 ground truth image(s) found.\n",
      "\n",
      "No./root/workspace/Thyroid_Solid_Nodule/data/preprocess/chenzhou/image/A3B1C2D1E1_78THY3220180730112055330.jpg data is being augmented and 58 data will be created\n"
     ]
    },
    {
     "name": "stderr",
     "output_type": "stream",
     "text": [
      "Processing <PIL.Image.Image image mode=RGB size=1024x768 at 0x7FD2647060F0>: 100%|██████████| 58/58 [00:01<00:00, 53.22 Samples/s]\n",
      "Executing Pipeline:   0%|          | 0/49 [00:00<?, ? Samples/s]"
     ]
    },
    {
     "name": "stdout",
     "output_type": "stream",
     "text": [
      "Done\n",
      "Initialised with 1 image(s) found.\n",
      "Output directory set to /root/workspace/Thyroid_Solid_Nodule/data/preprocess/chenzhou_aug/tmp/image/A4B1C4D2E2_1THY120180717090457252/output.1 ground truth image(s) found.\n",
      "\n",
      "No./root/workspace/Thyroid_Solid_Nodule/data/preprocess/chenzhou/image/A4B1C4D2E2_1THY120180717090457252V.jpg data is being augmented and 49 data will be created\n"
     ]
    },
    {
     "name": "stderr",
     "output_type": "stream",
     "text": [
      "Processing <PIL.Image.Image image mode=RGB size=1024x768 at 0x7FD26473F320>: 100%|██████████| 49/49 [00:00<00:00, 59.33 Samples/s]                  \n",
      "Executing Pipeline:   0%|          | 0/55 [00:00<?, ? Samples/s]"
     ]
    },
    {
     "name": "stdout",
     "output_type": "stream",
     "text": [
      "Done\n",
      "Initialised with 1 image(s) found.\n",
      "Output directory set to /root/workspace/Thyroid_Solid_Nodule/data/preprocess/chenzhou_aug/tmp/image/A4B1C2D1E1_16820460820180903THY12220180903085114697/output.1 ground truth image(s) found.\n",
      "\n",
      "No./root/workspace/Thyroid_Solid_Nodule/data/preprocess/chenzhou/image/A4B1C2D1E1_16820460820180903THY12220180903085114697T.jpg data is being augmented and 55 data will be created\n"
     ]
    },
    {
     "name": "stderr",
     "output_type": "stream",
     "text": [
      "Processing <PIL.Image.Image image mode=RGB size=1024x768 at 0x7FD264706AC8>: 100%|██████████| 55/55 [00:00<00:00, 58.47 Samples/s]\n",
      "Executing Pipeline:   0%|          | 0/41 [00:00<?, ? Samples/s]"
     ]
    },
    {
     "name": "stdout",
     "output_type": "stream",
     "text": [
      "Done\n",
      "Initialised with 1 image(s) found.\n",
      "Output directory set to /root/workspace/Thyroid_Solid_Nodule/data/preprocess/chenzhou_aug/tmp/image/A4B1C3D2E4_20737380920181105THY15220181105093932804/output.1 ground truth image(s) found.\n",
      "\n",
      "No./root/workspace/Thyroid_Solid_Nodule/data/preprocess/chenzhou/image/A4B1C3D2E4_20737380920181105THY15220181105093932804V.jpg data is being augmented and 41 data will be created\n"
     ]
    },
    {
     "name": "stderr",
     "output_type": "stream",
     "text": [
      "Processing <PIL.Image.Image image mode=RGB size=1024x768 at 0x7FD264766748>: 100%|██████████| 41/41 [00:00<00:00, 44.48 Samples/s]\n",
      "Executing Pipeline:   0%|          | 0/47 [00:00<?, ? Samples/s]"
     ]
    },
    {
     "name": "stdout",
     "output_type": "stream",
     "text": [
      "Done\n",
      "Initialised with 1 image(s) found.\n",
      "Output directory set to /root/workspace/Thyroid_Solid_Nodule/data/preprocess/chenzhou_aug/tmp/image/A4B1C4D1E4_45THY16RUTOUCA20180723094739352/output.1 ground truth image(s) found.\n",
      "\n",
      "No./root/workspace/Thyroid_Solid_Nodule/data/preprocess/chenzhou/image/A4B1C4D1E4_45THY16RUTOUCA20180723094739352V.jpg data is being augmented and 47 data will be created\n"
     ]
    },
    {
     "name": "stderr",
     "output_type": "stream",
     "text": [
      "Processing <PIL.JpegImagePlugin.JpegImageFile image mode=RGB size=1024x768 at 0x7FD2647BD3C8>: 100%|██████████| 47/47 [00:00<00:00, 54.74 Samples/s]\n",
      "Executing Pipeline:   0%|          | 0/53 [00:00<?, ? Samples/s]"
     ]
    },
    {
     "name": "stdout",
     "output_type": "stream",
     "text": [
      "Done\n",
      "Initialised with 1 image(s) found.\n",
      "Output directory set to /root/workspace/Thyroid_Solid_Nodule/data/preprocess/chenzhou_aug/tmp/image/A4B1C4D1E2_36THY1120180719103815545/output.1 ground truth image(s) found.\n",
      "\n",
      "No./root/workspace/Thyroid_Solid_Nodule/data/preprocess/chenzhou/image/A4B1C4D1E2_36THY1120180719103815545T.jpg data is being augmented and 53 data will be created\n"
     ]
    },
    {
     "name": "stderr",
     "output_type": "stream",
     "text": [
      "Processing <PIL.JpegImagePlugin.JpegImageFile image mode=RGB size=1024x768 at 0x7FD264706AC8>: 100%|██████████| 53/53 [00:01<00:00, 51.02 Samples/s]\n",
      "Executing Pipeline:   0%|          | 0/45 [00:00<?, ? Samples/s]"
     ]
    },
    {
     "name": "stdout",
     "output_type": "stream",
     "text": [
      "Done\n",
      "Initialised with 1 image(s) found.\n",
      "Output directory set to /root/workspace/Thyroid_Solid_Nodule/data/preprocess/chenzhou_aug/tmp/image/A4B2C4D1E1_20537011020181015THY15120181015100201835/output.1 ground truth image(s) found.\n",
      "\n",
      "No./root/workspace/Thyroid_Solid_Nodule/data/preprocess/chenzhou/image/A4B2C4D1E1_20537011020181015THY15120181015100201835T.jpg data is being augmented and 45 data will be created\n"
     ]
    },
    {
     "name": "stderr",
     "output_type": "stream",
     "text": [
      "Processing <PIL.Image.Image image mode=RGB size=1024x768 at 0x7FD26479D4E0>: 100%|██████████| 45/45 [00:00<00:00, 53.96 Samples/s]\n",
      "Executing Pipeline:   0%|          | 0/58 [00:00<?, ? Samples/s]"
     ]
    },
    {
     "name": "stdout",
     "output_type": "stream",
     "text": [
      "Done\n",
      "Initialised with 1 image(s) found.\n",
      "Output directory set to /root/workspace/Thyroid_Solid_Nodule/data/preprocess/chenzhou_aug/tmp/image/A1B1C1D1E1_8THY32018071710391541/output.1 ground truth image(s) found.\n",
      "\n",
      "No./root/workspace/Thyroid_Solid_Nodule/data/preprocess/chenzhou/image/A1B1C1D1E1_8THY320180717103915416.jpg data is being augmented and 58 data will be created\n"
     ]
    },
    {
     "name": "stderr",
     "output_type": "stream",
     "text": [
      "Processing <PIL.Image.Image image mode=RGB size=1024x768 at 0x7FD2647062E8>: 100%|██████████| 58/58 [00:00<00:00, 59.81 Samples/s]\n",
      "Executing Pipeline:   0%|          | 0/42 [00:00<?, ? Samples/s]"
     ]
    },
    {
     "name": "stdout",
     "output_type": "stream",
     "text": [
      "Done\n",
      "Initialised with 1 image(s) found.\n",
      "Output directory set to /root/workspace/Thyroid_Solid_Nodule/data/preprocess/chenzhou_aug/tmp/image/A4B2C4D2E1_15900171120180814THY11720180814111750344/output.1 ground truth image(s) found.\n",
      "\n",
      "No./root/workspace/Thyroid_Solid_Nodule/data/preprocess/chenzhou/image/A4B2C4D2E1_15900171120180814THY11720180814111750344V.jpg data is being augmented and 42 data will be created\n"
     ]
    },
    {
     "name": "stderr",
     "output_type": "stream",
     "text": [
      "Processing <PIL.Image.Image image mode=RGB size=1024x768 at 0x7FD26479DE48>: 100%|██████████| 42/42 [00:00<00:00, 57.76 Samples/s]                  \n",
      "Executing Pipeline:   0%|          | 0/58 [00:00<?, ? Samples/s]"
     ]
    },
    {
     "name": "stdout",
     "output_type": "stream",
     "text": [
      "Done\n",
      "Initialised with 1 image(s) found.\n",
      "Output directory set to /root/workspace/Thyroid_Solid_Nodule/data/preprocess/chenzhou_aug/tmp/image/A4B1C3D2E1_121THY5220180830104301820/output.1 ground truth image(s) found.\n",
      "\n",
      "No./root/workspace/Thyroid_Solid_Nodule/data/preprocess/chenzhou/image/A4B1C3D2E1_121THY5220180830104301820T.jpg data is being augmented and 58 data will be created\n"
     ]
    },
    {
     "name": "stderr",
     "output_type": "stream",
     "text": [
      "Processing <PIL.Image.Image image mode=RGB size=1024x768 at 0x7FD2647B4748>: 100%|██████████| 58/58 [00:01<00:00, 55.80 Samples/s]                  \n",
      "Executing Pipeline:   0%|          | 0/53 [00:00<?, ? Samples/s]"
     ]
    },
    {
     "name": "stdout",
     "output_type": "stream",
     "text": [
      "Done\n",
      "Initialised with 1 image(s) found.\n",
      "Output directory set to /root/workspace/Thyroid_Solid_Nodule/data/preprocess/chenzhou_aug/tmp/image/A4B1C2D1E1_41THY1520180723090940128/output.1 ground truth image(s) found.\n",
      "\n",
      "No./root/workspace/Thyroid_Solid_Nodule/data/preprocess/chenzhou/image/A4B1C2D1E1_41THY1520180723090940128V.jpg data is being augmented and 53 data will be created\n"
     ]
    },
    {
     "name": "stderr",
     "output_type": "stream",
     "text": [
      "Processing <PIL.Image.Image image mode=RGB size=1024x768 at 0x7FD2646EC5C0>: 100%|██████████| 53/53 [00:00<00:00, 57.47 Samples/s]                  \n",
      "Executing Pipeline:   0%|          | 0/53 [00:00<?, ? Samples/s]"
     ]
    },
    {
     "name": "stdout",
     "output_type": "stream",
     "text": [
      "Done\n",
      "Initialised with 1 image(s) found.\n",
      "Output directory set to /root/workspace/Thyroid_Solid_Nodule/data/preprocess/chenzhou_aug/tmp/image/A3B1C2D1E1_29THY920180719083603099/output.1 ground truth image(s) found.\n",
      "\n",
      "No./root/workspace/Thyroid_Solid_Nodule/data/preprocess/chenzhou/image/A3B1C2D1E1_29THY920180719083603099T.jpg data is being augmented and 53 data will be created\n"
     ]
    },
    {
     "name": "stderr",
     "output_type": "stream",
     "text": [
      "Processing <PIL.Image.Image image mode=RGB size=1024x768 at 0x7FD2647B4860>: 100%|██████████| 53/53 [00:00<00:00, 55.13 Samples/s]                  \n",
      "Executing Pipeline:   0%|          | 0/59 [00:00<?, ? Samples/s]"
     ]
    },
    {
     "name": "stdout",
     "output_type": "stream",
     "text": [
      "Done\n",
      "Initialised with 1 image(s) found.\n",
      "Output directory set to /root/workspace/Thyroid_Solid_Nodule/data/preprocess/chenzhou_aug/tmp/image/A4B1C4D2E1_35THY1120180719103805567/output.1 ground truth image(s) found.\n",
      "\n",
      "No./root/workspace/Thyroid_Solid_Nodule/data/preprocess/chenzhou/image/A4B1C4D2E1_35THY1120180719103805567V.jpg data is being augmented and 59 data will be created\n"
     ]
    },
    {
     "name": "stderr",
     "output_type": "stream",
     "text": [
      "Processing <PIL.Image.Image image mode=RGB size=1024x768 at 0x7FD264766710>: 100%|██████████| 59/59 [00:01<00:00, 52.48 Samples/s]                 \n",
      "Executing Pipeline:   0%|          | 0/42 [00:00<?, ? Samples/s]"
     ]
    },
    {
     "name": "stdout",
     "output_type": "stream",
     "text": [
      "Done\n",
      "Initialised with 1 image(s) found.\n",
      "Output directory set to /root/workspace/Thyroid_Solid_Nodule/data/preprocess/chenzhou_aug/tmp/image/A4B1C3D3E4_135THY5820180831164222001/output.1 ground truth image(s) found.\n",
      "\n",
      "No./root/workspace/Thyroid_Solid_Nodule/data/preprocess/chenzhou/image/A4B1C3D3E4_135THY5820180831164222001V.jpg data is being augmented and 42 data will be created\n"
     ]
    },
    {
     "name": "stderr",
     "output_type": "stream",
     "text": [
      "Processing <PIL.Image.Image image mode=RGB size=1024x768 at 0x7FD2647075C0>: 100%|██████████| 42/42 [00:00<00:00, 54.32 Samples/s]\n",
      "Executing Pipeline:   0%|          | 0/47 [00:00<?, ? Samples/s]"
     ]
    },
    {
     "name": "stdout",
     "output_type": "stream",
     "text": [
      "Done\n",
      "Initialised with 1 image(s) found.\n",
      "Output directory set to /root/workspace/Thyroid_Solid_Nodule/data/preprocess/chenzhou_aug/tmp/image/A4B1C3D1E1_19857321120181010THY14420181010113314295/output.1 ground truth image(s) found.\n",
      "\n",
      "No./root/workspace/Thyroid_Solid_Nodule/data/preprocess/chenzhou/image/A4B1C3D1E1_19857321120181010THY14420181010113314295T.jpg data is being augmented and 47 data will be created\n"
     ]
    },
    {
     "name": "stderr",
     "output_type": "stream",
     "text": [
      "Processing <PIL.Image.Image image mode=RGB size=1024x768 at 0x7FD2646A4128>: 100%|██████████| 47/47 [00:00<00:00, 48.38 Samples/s]\n",
      "Executing Pipeline:   0%|          | 0/43 [00:00<?, ? Samples/s]"
     ]
    },
    {
     "name": "stdout",
     "output_type": "stream",
     "text": [
      "Done\n",
      "Initialised with 1 image(s) found.\n",
      "Output directory set to /root/workspace/Thyroid_Solid_Nodule/data/preprocess/chenzhou_aug/tmp/image/A3B1C2D1E1_75THY3020180727095928016/output.1 ground truth image(s) found.\n",
      "\n",
      "No./root/workspace/Thyroid_Solid_Nodule/data/preprocess/chenzhou/image/A3B1C2D1E1_75THY3020180727095928016T.jpg data is being augmented and 43 data will be created\n"
     ]
    },
    {
     "name": "stderr",
     "output_type": "stream",
     "text": [
      "Processing <PIL.Image.Image image mode=RGB size=1024x768 at 0x7FD2647069E8>: 100%|██████████| 43/43 [00:00<00:00, 52.18 Samples/s]                  \n",
      "Executing Pipeline:   0%|          | 0/46 [00:00<?, ? Samples/s]"
     ]
    },
    {
     "name": "stdout",
     "output_type": "stream",
     "text": [
      "Done\n",
      "Initialised with 2 image(s) found.\n",
      "Output directory set to /root/workspace/Thyroid_Solid_Nodule/data/preprocess/chenzhou_aug/tmp/image/A4B1C2D1E1_6THY220180717093343538/output.2 ground truth image(s) found.\n",
      "\n",
      "No./root/workspace/Thyroid_Solid_Nodule/data/preprocess/chenzhou/image/A4B1C2D1E1_6THY220180717093343538T.jpg data is being augmented and 46 data will be created\n"
     ]
    },
    {
     "name": "stderr",
     "output_type": "stream",
     "text": [
      "Processing <PIL.Image.Image image mode=RGB size=1024x768 at 0x7FD2646E4B00>: 100%|██████████| 46/46 [00:00<00:00, 54.73 Samples/s]                  \n",
      "Executing Pipeline:   0%|          | 0/56 [00:00<?, ? Samples/s]"
     ]
    },
    {
     "name": "stdout",
     "output_type": "stream",
     "text": [
      "Done\n",
      "Initialised with 1 image(s) found.\n",
      "Output directory set to /root/workspace/Thyroid_Solid_Nodule/data/preprocess/chenzhou_aug/tmp/image/A2B1C3D1E1_15853110920180814THY11620180814091403174/output.1 ground truth image(s) found.\n",
      "\n",
      "No./root/workspace/Thyroid_Solid_Nodule/data/preprocess/chenzhou/image/A2B1C3D1E1_15853110920180814THY11620180814091403174V.jpg data is being augmented and 56 data will be created\n"
     ]
    },
    {
     "name": "stderr",
     "output_type": "stream",
     "text": [
      "Processing <PIL.Image.Image image mode=RGB size=1024x768 at 0x7FD2646F4EF0>: 100%|██████████| 56/56 [00:00<00:00, 57.01 Samples/s]                  \n",
      "Executing Pipeline:   0%|          | 0/56 [00:00<?, ? Samples/s]"
     ]
    },
    {
     "name": "stdout",
     "output_type": "stream",
     "text": [
      "Done\n",
      "Initialised with 1 image(s) found.\n",
      "Output directory set to /root/workspace/Thyroid_Solid_Nodule/data/preprocess/chenzhou_aug/tmp/image/A1B1C1D2E1_47THY182018072310554181/output.1 ground truth image(s) found.\n",
      "\n",
      "No./root/workspace/Thyroid_Solid_Nodule/data/preprocess/chenzhou/image/A1B1C1D2E1_47THY1820180723105541811.jpg data is being augmented and 56 data will be created\n"
     ]
    },
    {
     "name": "stderr",
     "output_type": "stream",
     "text": [
      "Processing <PIL.Image.Image image mode=RGB size=1024x768 at 0x7FD26478F780>: 100%|██████████| 56/56 [00:01<00:00, 47.00 Samples/s]                  \n",
      "Executing Pipeline:   0%|          | 0/46 [00:00<?, ? Samples/s]"
     ]
    },
    {
     "name": "stdout",
     "output_type": "stream",
     "text": [
      "Done\n",
      "Initialised with 1 image(s) found.\n",
      "Output directory set to /root/workspace/Thyroid_Solid_Nodule/data/preprocess/chenzhou_aug/tmp/image/A3B1C2D2E1_16920460820180903THY12220180903085223319/output.1 ground truth image(s) found.\n",
      "\n",
      "No./root/workspace/Thyroid_Solid_Nodule/data/preprocess/chenzhou/image/A3B1C2D2E1_16920460820180903THY12220180903085223319V.jpg data is being augmented and 46 data will be created\n"
     ]
    },
    {
     "name": "stderr",
     "output_type": "stream",
     "text": [
      "Processing <PIL.Image.Image image mode=RGB size=1024x768 at 0x7FD264707208>: 100%|██████████| 46/46 [00:00<00:00, 49.68 Samples/s]\n",
      "Executing Pipeline:   0%|          | 0/60 [00:00<?, ? Samples/s]"
     ]
    },
    {
     "name": "stdout",
     "output_type": "stream",
     "text": [
      "Done\n",
      "Initialised with 1 image(s) found.\n",
      "Output directory set to /root/workspace/Thyroid_Solid_Nodule/data/preprocess/chenzhou_aug/tmp/image/A4B2C4D2E1_11THY420180717154124267/output.1 ground truth image(s) found.\n",
      "\n",
      "No./root/workspace/Thyroid_Solid_Nodule/data/preprocess/chenzhou/image/A4B2C4D2E1_11THY420180717154124267T.jpg data is being augmented and 60 data will be created\n"
     ]
    },
    {
     "name": "stderr",
     "output_type": "stream",
     "text": [
      "Processing <PIL.Image.Image image mode=RGB size=1024x768 at 0x7FD2646AF128>: 100%|██████████| 60/60 [00:01<00:00, 57.36 Samples/s]                  \n",
      "Executing Pipeline:   0%|          | 0/49 [00:00<?, ? Samples/s]"
     ]
    },
    {
     "name": "stdout",
     "output_type": "stream",
     "text": [
      "Done\n",
      "Initialised with 1 image(s) found.\n",
      "Output directory set to /root/workspace/Thyroid_Solid_Nodule/data/preprocess/chenzhou_aug/tmp/image/A4B1C4D2E1_10THY420180717154034370/output.1 ground truth image(s) found.\n",
      "\n",
      "No./root/workspace/Thyroid_Solid_Nodule/data/preprocess/chenzhou/image/A4B1C4D2E1_10THY420180717154034370V.jpg data is being augmented and 49 data will be created\n"
     ]
    },
    {
     "name": "stderr",
     "output_type": "stream",
     "text": [
      "Processing <PIL.Image.Image image mode=RGB size=1024x768 at 0x7FD2646EC160>: 100%|██████████| 49/49 [00:00<00:00, 52.82 Samples/s]                  \n",
      "Executing Pipeline:   0%|          | 0/54 [00:00<?, ? Samples/s]"
     ]
    },
    {
     "name": "stdout",
     "output_type": "stream",
     "text": [
      "Done\n",
      "Initialised with 1 image(s) found.\n",
      "Output directory set to /root/workspace/Thyroid_Solid_Nodule/data/preprocess/chenzhou_aug/tmp/image/A4B1C3D1E1_120THY522018083010413109/output.1 ground truth image(s) found.\n",
      "\n",
      "No./root/workspace/Thyroid_Solid_Nodule/data/preprocess/chenzhou/image/A4B1C3D1E1_120THY5220180830104131097.jpg data is being augmented and 54 data will be created\n"
     ]
    },
    {
     "name": "stderr",
     "output_type": "stream",
     "text": [
      "Processing <PIL.Image.Image image mode=RGB size=1024x768 at 0x7FD2646E4898>: 100%|██████████| 54/54 [00:00<00:00, 57.68 Samples/s]\n",
      "Executing Pipeline:   0%|          | 0/42 [00:00<?, ? Samples/s]"
     ]
    },
    {
     "name": "stdout",
     "output_type": "stream",
     "text": [
      "Done\n",
      "Initialised with 1 image(s) found.\n",
      "Output directory set to /root/workspace/Thyroid_Solid_Nodule/data/preprocess/chenzhou_aug/tmp/image/A4B2C3D2E1_17612091620180905THY12820180905161020035/output.1 ground truth image(s) found.\n",
      "\n",
      "No./root/workspace/Thyroid_Solid_Nodule/data/preprocess/chenzhou/image/A4B2C3D2E1_17612091620180905THY12820180905161020035T.jpg data is being augmented and 42 data will be created\n"
     ]
    },
    {
     "name": "stderr",
     "output_type": "stream",
     "text": [
      "Processing <PIL.Image.Image image mode=RGB size=1024x768 at 0x7FD26475C2B0>: 100%|██████████| 42/42 [00:00<00:00, 57.44 Samples/s]                  \n",
      "Executing Pipeline:   0%|          | 0/57 [00:00<?, ? Samples/s]"
     ]
    },
    {
     "name": "stdout",
     "output_type": "stream",
     "text": [
      "Done\n",
      "Initialised with 1 image(s) found.\n",
      "Output directory set to /root/workspace/Thyroid_Solid_Nodule/data/preprocess/chenzhou_aug/tmp/image/A2B1C2D1E1_16127530820180815THY11820180815085834388/output.1 ground truth image(s) found.\n",
      "\n",
      "No./root/workspace/Thyroid_Solid_Nodule/data/preprocess/chenzhou/image/A2B1C2D1E1_16127530820180815THY11820180815085834388T.jpg data is being augmented and 57 data will be created\n"
     ]
    },
    {
     "name": "stderr",
     "output_type": "stream",
     "text": [
      "Processing <PIL.Image.Image image mode=RGB size=1024x768 at 0x7FD2646A4BE0>: 100%|██████████| 57/57 [00:01<00:00, 51.80 Samples/s]                  \n",
      "Executing Pipeline:   0%|          | 0/54 [00:00<?, ? Samples/s]"
     ]
    },
    {
     "name": "stdout",
     "output_type": "stream",
     "text": [
      "Done\n",
      "Initialised with 1 image(s) found.\n",
      "Output directory set to /root/workspace/Thyroid_Solid_Nodule/data/preprocess/chenzhou_aug/tmp/image/A4B2C3D3E1_132THY5720180831150731208/output.1 ground truth image(s) found.\n",
      "\n",
      "No./root/workspace/Thyroid_Solid_Nodule/data/preprocess/chenzhou/image/A4B2C3D3E1_132THY5720180831150731208T.jpg data is being augmented and 54 data will be created\n"
     ]
    },
    {
     "name": "stderr",
     "output_type": "stream",
     "text": [
      "Processing <PIL.Image.Image image mode=RGB size=1024x768 at 0x7FD264706F28>: 100%|██████████| 54/54 [00:01<00:00, 50.20 Samples/s]                  \n",
      "Executing Pipeline:   0%|          | 0/56 [00:00<?, ? Samples/s]"
     ]
    },
    {
     "name": "stdout",
     "output_type": "stream",
     "text": [
      "Done\n",
      "Initialised with 1 image(s) found.\n",
      "Output directory set to /root/workspace/Thyroid_Solid_Nodule/data/preprocess/chenzhou_aug/tmp/image/A4B1C2D1E1_56THY1920180723153847035/output.1 ground truth image(s) found.\n",
      "\n",
      "No./root/workspace/Thyroid_Solid_Nodule/data/preprocess/chenzhou/image/A4B1C2D1E1_56THY1920180723153847035V.jpg data is being augmented and 56 data will be created\n"
     ]
    },
    {
     "name": "stderr",
     "output_type": "stream",
     "text": [
      "Processing <PIL.Image.Image image mode=RGB size=1024x768 at 0x7FD2647075C0>: 100%|██████████| 56/56 [00:00<00:00, 60.50 Samples/s]                  \n",
      "Executing Pipeline:   0%|          | 0/50 [00:00<?, ? Samples/s]"
     ]
    },
    {
     "name": "stdout",
     "output_type": "stream",
     "text": [
      "Done\n",
      "Initialised with 1 image(s) found.\n",
      "Output directory set to /root/workspace/Thyroid_Solid_Nodule/data/preprocess/chenzhou_aug/tmp/image/A4B1C4D2E1_14049370920180801THY10062018080109385262/output.1 ground truth image(s) found.\n",
      "\n",
      "No./root/workspace/Thyroid_Solid_Nodule/data/preprocess/chenzhou/image/A4B1C4D2E1_14049370920180801THY100620180801093852627.jpg data is being augmented and 50 data will be created\n"
     ]
    },
    {
     "name": "stderr",
     "output_type": "stream",
     "text": [
      "Processing <PIL.Image.Image image mode=RGB size=1024x768 at 0x7FD26478FDA0>: 100%|██████████| 50/50 [00:00<00:00, 53.17 Samples/s]\n",
      "Executing Pipeline:   0%|          | 0/45 [00:00<?, ? Samples/s]"
     ]
    },
    {
     "name": "stdout",
     "output_type": "stream",
     "text": [
      "Done\n",
      "Initialised with 1 image(s) found.\n",
      "Output directory set to /root/workspace/Thyroid_Solid_Nodule/data/preprocess/chenzhou_aug/tmp/image/A4B1C4D1E2_36THY1120180719103811395/output.1 ground truth image(s) found.\n",
      "\n",
      "No./root/workspace/Thyroid_Solid_Nodule/data/preprocess/chenzhou/image/A4B1C4D1E2_36THY1120180719103811395V.jpg data is being augmented and 45 data will be created\n"
     ]
    },
    {
     "name": "stderr",
     "output_type": "stream",
     "text": [
      "Processing <PIL.Image.Image image mode=RGB size=1024x768 at 0x7FD2646E4BE0>: 100%|██████████| 45/45 [00:00<00:00, 47.09 Samples/s]\n",
      "Executing Pipeline:   0%|          | 0/47 [00:00<?, ? Samples/s]"
     ]
    },
    {
     "name": "stdout",
     "output_type": "stream",
     "text": [
      "Done\n",
      "Initialised with 1 image(s) found.\n",
      "Output directory set to /root/workspace/Thyroid_Solid_Nodule/data/preprocess/chenzhou_aug/tmp/image/A4B1C2D1E2_21THY620180718085845477/output.1 ground truth image(s) found.\n",
      "\n",
      "No./root/workspace/Thyroid_Solid_Nodule/data/preprocess/chenzhou/image/A4B1C2D1E2_21THY620180718085845477V.jpg data is being augmented and 47 data will be created\n"
     ]
    },
    {
     "name": "stderr",
     "output_type": "stream",
     "text": [
      "Processing <PIL.Image.Image image mode=RGB size=1024x768 at 0x7FD2647B45F8>: 100%|██████████| 47/47 [00:00<00:00, 56.58 Samples/s]                  \n",
      "Executing Pipeline:   0%|          | 0/42 [00:00<?, ? Samples/s]"
     ]
    },
    {
     "name": "stdout",
     "output_type": "stream",
     "text": [
      "Done\n",
      "Initialised with 1 image(s) found.\n",
      "Output directory set to /root/workspace/Thyroid_Solid_Nodule/data/preprocess/chenzhou_aug/tmp/image/A4B1C4D2E2_1THY120180717090430987/output.1 ground truth image(s) found.\n",
      "\n",
      "No./root/workspace/Thyroid_Solid_Nodule/data/preprocess/chenzhou/image/A4B1C4D2E2_1THY120180717090430987V.jpg data is being augmented and 42 data will be created\n"
     ]
    },
    {
     "name": "stderr",
     "output_type": "stream",
     "text": [
      "Processing <PIL.Image.Image image mode=RGB size=1024x768 at 0x7FD2646F4518>: 100%|██████████| 42/42 [00:00<00:00, 52.61 Samples/s]\n",
      "Executing Pipeline:   0%|          | 0/56 [00:00<?, ? Samples/s]"
     ]
    },
    {
     "name": "stdout",
     "output_type": "stream",
     "text": [
      "Done\n",
      "Initialised with 1 image(s) found.\n",
      "Output directory set to /root/workspace/Thyroid_Solid_Nodule/data/preprocess/chenzhou_aug/tmp/image/A3B1C1D1E1_49THY1820180723105708952/output.1 ground truth image(s) found.\n",
      "\n",
      "No./root/workspace/Thyroid_Solid_Nodule/data/preprocess/chenzhou/image/A3B1C1D1E1_49THY1820180723105708952V.jpg data is being augmented and 56 data will be created\n"
     ]
    },
    {
     "name": "stderr",
     "output_type": "stream",
     "text": [
      "Processing <PIL.Image.Image image mode=RGB size=1024x768 at 0x7FD2647079E8>: 100%|██████████| 56/56 [00:01<00:00, 50.31 Samples/s]                  \n",
      "Executing Pipeline:   0%|          | 0/57 [00:00<?, ? Samples/s]"
     ]
    },
    {
     "name": "stdout",
     "output_type": "stream",
     "text": [
      "Done\n",
      "Initialised with 1 image(s) found.\n",
      "Output directory set to /root/workspace/Thyroid_Solid_Nodule/data/preprocess/chenzhou_aug/tmp/image/A1B1C1D1E1_8THY32018071710392970/output.1 ground truth image(s) found.\n",
      "\n",
      "No./root/workspace/Thyroid_Solid_Nodule/data/preprocess/chenzhou/image/A1B1C1D1E1_8THY320180717103929702.jpg data is being augmented and 57 data will be created\n"
     ]
    },
    {
     "name": "stderr",
     "output_type": "stream",
     "text": [
      "Processing <PIL.Image.Image image mode=RGB size=1024x768 at 0x7FD2646E4E10>: 100%|██████████| 57/57 [00:01<00:00, 53.35 Samples/s]                  \n",
      "Executing Pipeline:   0%|          | 0/51 [00:00<?, ? Samples/s]"
     ]
    },
    {
     "name": "stdout",
     "output_type": "stream",
     "text": [
      "Done\n",
      "Initialised with 2 image(s) found.\n",
      "Output directory set to /root/workspace/Thyroid_Solid_Nodule/data/preprocess/chenzhou_aug/tmp/image/A4B1C2D1E1_6THY220180717093343538/output.2 ground truth image(s) found.\n",
      "\n",
      "No./root/workspace/Thyroid_Solid_Nodule/data/preprocess/chenzhou/image/A4B1C2D1E1_6THY220180717093343538V.jpg data is being augmented and 51 data will be created\n"
     ]
    },
    {
     "name": "stderr",
     "output_type": "stream",
     "text": [
      "Processing <PIL.Image.Image image mode=RGB size=1024x768 at 0x7FD2646EC0B8>: 100%|██████████| 51/51 [00:00<00:00, 59.07 Samples/s]                  \n",
      "Executing Pipeline:   0%|          | 0/43 [00:00<?, ? Samples/s]"
     ]
    },
    {
     "name": "stdout",
     "output_type": "stream",
     "text": [
      "Done\n",
      "Initialised with 1 image(s) found.\n",
      "Output directory set to /root/workspace/Thyroid_Solid_Nodule/data/preprocess/chenzhou_aug/tmp/image/A4B1C3D2E1_20444120920181015THY15020181015091306133/output.1 ground truth image(s) found.\n",
      "\n",
      "No./root/workspace/Thyroid_Solid_Nodule/data/preprocess/chenzhou/image/A4B1C3D2E1_20444120920181015THY15020181015091306133T.jpg data is being augmented and 43 data will be created\n"
     ]
    },
    {
     "name": "stderr",
     "output_type": "stream",
     "text": [
      "Processing <PIL.Image.Image image mode=RGB size=1024x768 at 0x7FD2646ECD68>: 100%|██████████| 43/43 [00:00<00:00, 57.78 Samples/s]\n",
      "Executing Pipeline:   0%|          | 0/52 [00:00<?, ? Samples/s]"
     ]
    },
    {
     "name": "stdout",
     "output_type": "stream",
     "text": [
      "Done\n",
      "Initialised with 1 image(s) found.\n",
      "Output directory set to /root/workspace/Thyroid_Solid_Nodule/data/preprocess/chenzhou_aug/tmp/image/A4B1C3D1E1_32THY1020180719095554616/output.1 ground truth image(s) found.\n",
      "\n",
      "No./root/workspace/Thyroid_Solid_Nodule/data/preprocess/chenzhou/image/A4B1C3D1E1_32THY1020180719095554616T.jpg data is being augmented and 52 data will be created\n"
     ]
    },
    {
     "name": "stderr",
     "output_type": "stream",
     "text": [
      "Processing <PIL.Image.Image image mode=RGB size=1024x768 at 0x7FD2647B40B8>: 100%|██████████| 52/52 [00:00<00:00, 57.06 Samples/s]                  \n",
      "Executing Pipeline:   0%|          | 0/57 [00:00<?, ? Samples/s]"
     ]
    },
    {
     "name": "stdout",
     "output_type": "stream",
     "text": [
      "Done\n",
      "Initialised with 1 image(s) found.\n",
      "Output directory set to /root/workspace/Thyroid_Solid_Nodule/data/preprocess/chenzhou_aug/tmp/image/A4B1C3D2E4_106THY4620180823092459908/output.1 ground truth image(s) found.\n",
      "\n",
      "No./root/workspace/Thyroid_Solid_Nodule/data/preprocess/chenzhou/image/A4B1C3D2E4_106THY4620180823092459908V.jpg data is being augmented and 57 data will be created\n"
     ]
    },
    {
     "name": "stderr",
     "output_type": "stream",
     "text": [
      "Processing <PIL.Image.Image image mode=RGB size=1024x768 at 0x7FD2647B44A8>: 100%|██████████| 57/57 [00:01<00:00, 48.96 Samples/s]                  \n",
      "Executing Pipeline:   0%|          | 0/55 [00:00<?, ? Samples/s]"
     ]
    },
    {
     "name": "stdout",
     "output_type": "stream",
     "text": [
      "Done\n",
      "Initialised with 1 image(s) found.\n",
      "Output directory set to /root/workspace/Thyroid_Solid_Nodule/data/preprocess/chenzhou_aug/tmp/image/A4B1C4D3E4_40THY1420180720115425606/output.1 ground truth image(s) found.\n",
      "\n",
      "No./root/workspace/Thyroid_Solid_Nodule/data/preprocess/chenzhou/image/A4B1C4D3E4_40THY1420180720115425606T.jpg data is being augmented and 55 data will be created\n"
     ]
    },
    {
     "name": "stderr",
     "output_type": "stream",
     "text": [
      "Processing <PIL.Image.Image image mode=RGB size=1024x768 at 0x7FD26478F710>: 100%|██████████| 55/55 [00:01<00:00, 52.53 Samples/s]                  \n",
      "Executing Pipeline:   0%|          | 0/54 [00:00<?, ? Samples/s]"
     ]
    },
    {
     "name": "stdout",
     "output_type": "stream",
     "text": [
      "Done\n",
      "Initialised with 1 image(s) found.\n",
      "Output directory set to /root/workspace/Thyroid_Solid_Nodule/data/preprocess/chenzhou_aug/tmp/image/A4B1C4D1E1_20851051020181015THY15220181015100607049/output.1 ground truth image(s) found.\n",
      "\n",
      "No./root/workspace/Thyroid_Solid_Nodule/data/preprocess/chenzhou/image/A4B1C4D1E1_20851051020181015THY15220181015100607049T.jpg data is being augmented and 54 data will be created\n"
     ]
    },
    {
     "name": "stderr",
     "output_type": "stream",
     "text": [
      "Processing <PIL.Image.Image image mode=RGB size=1024x768 at 0x7FD2646F4D30>: 100%|██████████| 54/54 [00:01<00:00, 52.47 Samples/s]                  \n",
      "Executing Pipeline:   0%|          | 0/40 [00:00<?, ? Samples/s]"
     ]
    },
    {
     "name": "stdout",
     "output_type": "stream",
     "text": [
      "Done\n",
      "Initialised with 1 image(s) found.\n",
      "Output directory set to /root/workspace/Thyroid_Solid_Nodule/data/preprocess/chenzhou_aug/tmp/image/A4B1C3D1E3_67THY2520180725160009149/output.1 ground truth image(s) found.\n",
      "\n",
      "No./root/workspace/Thyroid_Solid_Nodule/data/preprocess/chenzhou/image/A4B1C3D1E3_67THY2520180725160009149V.jpg data is being augmented and 40 data will be created\n"
     ]
    },
    {
     "name": "stderr",
     "output_type": "stream",
     "text": [
      "Processing <PIL.Image.Image image mode=RGB size=1024x768 at 0x7FD2647B4390>: 100%|██████████| 40/40 [00:00<00:00, 54.12 Samples/s]\n",
      "Executing Pipeline:   0%|          | 0/43 [00:00<?, ? Samples/s]"
     ]
    },
    {
     "name": "stdout",
     "output_type": "stream",
     "text": [
      "Done\n",
      "Initialised with 1 image(s) found.\n",
      "Output directory set to /root/workspace/Thyroid_Solid_Nodule/data/preprocess/chenzhou_aug/tmp/image/A4B1C3D3E1_62THY222018072410562908/output.1 ground truth image(s) found.\n",
      "\n",
      "No./root/workspace/Thyroid_Solid_Nodule/data/preprocess/chenzhou/image/A4B1C3D3E1_62THY2220180724105629083.jpg data is being augmented and 43 data will be created\n"
     ]
    },
    {
     "name": "stderr",
     "output_type": "stream",
     "text": [
      "Processing <PIL.Image.Image image mode=RGB size=1024x768 at 0x7FD2647065C0>: 100%|██████████| 43/43 [00:00<00:00, 54.80 Samples/s]\n",
      "Executing Pipeline:   0%|          | 0/45 [00:00<?, ? Samples/s]"
     ]
    },
    {
     "name": "stdout",
     "output_type": "stream",
     "text": [
      "Done\n",
      "Initialised with 1 image(s) found.\n",
      "Output directory set to /root/workspace/Thyroid_Solid_Nodule/data/preprocess/chenzhou_aug/tmp/image/A4B2C4D1E2_16620460820180903THY12220180903084813173/output.1 ground truth image(s) found.\n",
      "\n",
      "No./root/workspace/Thyroid_Solid_Nodule/data/preprocess/chenzhou/image/A4B2C4D1E2_16620460820180903THY12220180903084813173V.jpg data is being augmented and 45 data will be created\n"
     ]
    },
    {
     "name": "stderr",
     "output_type": "stream",
     "text": [
      "Processing <PIL.Image.Image image mode=RGB size=1024x768 at 0x7FD264710AC8>: 100%|██████████| 45/45 [00:00<00:00, 55.67 Samples/s]                  \n",
      "Executing Pipeline:   0%|          | 0/43 [00:00<?, ? Samples/s]"
     ]
    },
    {
     "name": "stdout",
     "output_type": "stream",
     "text": [
      "Done\n",
      "Initialised with 1 image(s) found.\n",
      "Output directory set to /root/workspace/Thyroid_Solid_Nodule/data/preprocess/chenzhou_aug/tmp/image/A3B1C2D1E1_110THY4620180823092700431/output.1 ground truth image(s) found.\n",
      "\n",
      "No./root/workspace/Thyroid_Solid_Nodule/data/preprocess/chenzhou/image/A3B1C2D1E1_110THY4620180823092700431T.jpg data is being augmented and 43 data will be created\n"
     ]
    },
    {
     "name": "stderr",
     "output_type": "stream",
     "text": [
      "Processing <PIL.Image.Image image mode=RGB size=1024x768 at 0x7FD2646E4A20>: 100%|██████████| 43/43 [00:00<00:00, 56.09 Samples/s]                 \n",
      "Executing Pipeline:   0%|          | 0/57 [00:00<?, ? Samples/s]"
     ]
    },
    {
     "name": "stdout",
     "output_type": "stream",
     "text": [
      "Done\n",
      "Initialised with 1 image(s) found.\n",
      "Output directory set to /root/workspace/Thyroid_Solid_Nodule/data/preprocess/chenzhou_aug/tmp/image/A3B1C2D2E1_16435091520180815THY12020180815151120041/output.1 ground truth image(s) found.\n",
      "\n",
      "No./root/workspace/Thyroid_Solid_Nodule/data/preprocess/chenzhou/image/A3B1C2D2E1_16435091520180815THY12020180815151120041T.jpg data is being augmented and 57 data will be created\n"
     ]
    },
    {
     "name": "stderr",
     "output_type": "stream",
     "text": [
      "Processing <PIL.Image.Image image mode=RGB size=1024x768 at 0x7FD264710550>: 100%|██████████| 57/57 [00:01<00:00, 52.13 Samples/s]                 \n",
      "Executing Pipeline:   0%|          | 0/53 [00:00<?, ? Samples/s]"
     ]
    },
    {
     "name": "stdout",
     "output_type": "stream",
     "text": [
      "Done\n",
      "Initialised with 1 image(s) found.\n",
      "Output directory set to /root/workspace/Thyroid_Solid_Nodule/data/preprocess/chenzhou_aug/tmp/image/A4B2C4D1E1_18025311120180906THY13020180906113225686/output.1 ground truth image(s) found.\n",
      "\n",
      "No./root/workspace/Thyroid_Solid_Nodule/data/preprocess/chenzhou/image/A4B2C4D1E1_18025311120180906THY13020180906113225686V.jpg data is being augmented and 53 data will be created\n"
     ]
    },
    {
     "name": "stderr",
     "output_type": "stream",
     "text": [
      "Processing <PIL.Image.Image image mode=RGB size=1024x768 at 0x7FD2647B4A90>: 100%|██████████| 53/53 [00:01<00:00, 52.69 Samples/s]                  \n",
      "Processing <PIL.Image.Image image mode=RGB size=1024x768 at 0x7FD2646A46A0>:   2%|▏         | 1/41 [00:00<00:07,  5.63 Samples/s]"
     ]
    },
    {
     "name": "stdout",
     "output_type": "stream",
     "text": [
      "Done\n",
      "Initialised with 1 image(s) found.\n",
      "Output directory set to /root/workspace/Thyroid_Solid_Nodule/data/preprocess/chenzhou_aug/tmp/image/A4B1C4D3E1_19449541120181008THY13920181008115503254/output.1 ground truth image(s) found.\n",
      "\n",
      "No./root/workspace/Thyroid_Solid_Nodule/data/preprocess/chenzhou/image/A4B1C4D3E1_19449541120181008THY13920181008115503254V.jpg data is being augmented and 41 data will be created\n"
     ]
    },
    {
     "name": "stderr",
     "output_type": "stream",
     "text": [
      "Processing <PIL.Image.Image image mode=RGB size=1024x768 at 0x7FD2646C0978>: 100%|██████████| 41/41 [00:00<00:00, 56.21 Samples/s]                  \n",
      "Executing Pipeline:   0%|          | 0/47 [00:00<?, ? Samples/s]"
     ]
    },
    {
     "name": "stdout",
     "output_type": "stream",
     "text": [
      "Done\n",
      "Initialised with 1 image(s) found.\n",
      "Output directory set to /root/workspace/Thyroid_Solid_Nodule/data/preprocess/chenzhou_aug/tmp/image/A4B1C4D2E1_96THY4120180817151839960/output.1 ground truth image(s) found.\n",
      "\n",
      "No./root/workspace/Thyroid_Solid_Nodule/data/preprocess/chenzhou/image/A4B1C4D2E1_96THY4120180817151839960T.jpg data is being augmented and 47 data will be created\n"
     ]
    },
    {
     "name": "stderr",
     "output_type": "stream",
     "text": [
      "Processing <PIL.Image.Image image mode=RGB size=1024x768 at 0x7FD264707A90>: 100%|██████████| 47/47 [00:00<00:00, 55.80 Samples/s]                  \n",
      "Executing Pipeline:   0%|          | 0/48 [00:00<?, ? Samples/s]"
     ]
    },
    {
     "name": "stdout",
     "output_type": "stream",
     "text": [
      "Done\n",
      "Initialised with 1 image(s) found.\n",
      "Output directory set to /root/workspace/Thyroid_Solid_Nodule/data/preprocess/chenzhou_aug/tmp/image/A4B1C4D2E1_49THY1820180723105800168/output.1 ground truth image(s) found.\n",
      "\n",
      "No./root/workspace/Thyroid_Solid_Nodule/data/preprocess/chenzhou/image/A4B1C4D2E1_49THY1820180723105800168T.jpg data is being augmented and 48 data will be created\n"
     ]
    },
    {
     "name": "stderr",
     "output_type": "stream",
     "text": [
      "Processing <PIL.Image.Image image mode=RGB size=1024x768 at 0x7FD2646C09B0>: 100%|██████████| 48/48 [00:00<00:00, 57.12 Samples/s]                  \n",
      "Executing Pipeline:   0%|          | 0/57 [00:00<?, ? Samples/s]"
     ]
    },
    {
     "name": "stdout",
     "output_type": "stream",
     "text": [
      "Done\n",
      "Initialised with 1 image(s) found.\n",
      "Output directory set to /root/workspace/Thyroid_Solid_Nodule/data/preprocess/chenzhou_aug/tmp/image/A4B1C3D2E3_92THY3820180816095351125/output.1 ground truth image(s) found.\n",
      "\n",
      "No./root/workspace/Thyroid_Solid_Nodule/data/preprocess/chenzhou/image/A4B1C3D2E3_92THY3820180816095351125V.jpg data is being augmented and 57 data will be created\n"
     ]
    },
    {
     "name": "stderr",
     "output_type": "stream",
     "text": [
      "Processing <PIL.Image.Image image mode=RGB size=1024x768 at 0x7FD2646AF438>: 100%|██████████| 57/57 [00:01<00:00, 48.93 Samples/s]\n",
      "Executing Pipeline:   0%|          | 0/59 [00:00<?, ? Samples/s]"
     ]
    },
    {
     "name": "stdout",
     "output_type": "stream",
     "text": [
      "Done\n",
      "Initialised with 1 image(s) found.\n",
      "Output directory set to /root/workspace/Thyroid_Solid_Nodule/data/preprocess/chenzhou_aug/tmp/image/A4B1C3D1E1_54THY192018072315375213/output.1 ground truth image(s) found.\n",
      "\n",
      "No./root/workspace/Thyroid_Solid_Nodule/data/preprocess/chenzhou/image/A4B1C3D1E1_54THY1920180723153752131.jpg data is being augmented and 59 data will be created\n"
     ]
    },
    {
     "name": "stderr",
     "output_type": "stream",
     "text": [
      "Processing <PIL.Image.Image image mode=RGB size=1024x768 at 0x7FD264710AC8>: 100%|██████████| 59/59 [00:01<00:00, 48.19 Samples/s]\n",
      "Executing Pipeline:   0%|          | 0/55 [00:00<?, ? Samples/s]"
     ]
    },
    {
     "name": "stdout",
     "output_type": "stream",
     "text": [
      "Done\n",
      "Initialised with 1 image(s) found.\n",
      "Output directory set to /root/workspace/Thyroid_Solid_Nodule/data/preprocess/chenzhou_aug/tmp/image/A4B1C3D1E1_130THY5620180830155723060/output.1 ground truth image(s) found.\n",
      "\n",
      "No./root/workspace/Thyroid_Solid_Nodule/data/preprocess/chenzhou/image/A4B1C3D1E1_130THY5620180830155723060V.jpg data is being augmented and 55 data will be created\n"
     ]
    },
    {
     "name": "stderr",
     "output_type": "stream",
     "text": [
      "Processing <PIL.Image.Image image mode=RGB size=1024x768 at 0x7FD2646BDB00>: 100%|██████████| 55/55 [00:00<00:00, 61.11 Samples/s]                  \n",
      "Executing Pipeline:   0%|          | 0/43 [00:00<?, ? Samples/s]"
     ]
    },
    {
     "name": "stdout",
     "output_type": "stream",
     "text": [
      "Done\n",
      "Initialised with 1 image(s) found.\n",
      "Output directory set to /root/workspace/Thyroid_Solid_Nodule/data/preprocess/chenzhou_aug/tmp/image/A1B1C1D2E1_48THY182018072310560518/output.1 ground truth image(s) found.\n",
      "\n",
      "No./root/workspace/Thyroid_Solid_Nodule/data/preprocess/chenzhou/image/A1B1C1D2E1_48THY1820180723105605185.jpg data is being augmented and 43 data will be created\n"
     ]
    },
    {
     "name": "stderr",
     "output_type": "stream",
     "text": [
      "Processing <PIL.Image.Image image mode=RGB size=1024x768 at 0x7FD2646A49E8>: 100%|██████████| 43/43 [00:00<00:00, 56.97 Samples/s]\n",
      "Executing Pipeline:   0%|          | 0/47 [00:00<?, ? Samples/s]"
     ]
    },
    {
     "name": "stdout",
     "output_type": "stream",
     "text": [
      "Done\n",
      "Initialised with 1 image(s) found.\n",
      "Output directory set to /root/workspace/Thyroid_Solid_Nodule/data/preprocess/chenzhou_aug/tmp/image/A4B1C3D1E1_62THY222018072410561822/output.1 ground truth image(s) found.\n",
      "\n",
      "No./root/workspace/Thyroid_Solid_Nodule/data/preprocess/chenzhou/image/A4B1C3D1E1_62THY2220180724105618227.jpg data is being augmented and 47 data will be created\n"
     ]
    },
    {
     "name": "stderr",
     "output_type": "stream",
     "text": [
      "Processing <PIL.Image.Image image mode=RGB size=1024x768 at 0x7FD2646ECE80>: 100%|██████████| 47/47 [00:00<00:00, 57.43 Samples/s]\n",
      "Executing Pipeline:   0%|          | 0/47 [00:00<?, ? Samples/s]"
     ]
    },
    {
     "name": "stdout",
     "output_type": "stream",
     "text": [
      "Done\n",
      "Initialised with 1 image(s) found.\n",
      "Output directory set to /root/workspace/Thyroid_Solid_Nodule/data/preprocess/chenzhou_aug/tmp/image/A4B1C3D1E1_55THY1920180723153752131/output.1 ground truth image(s) found.\n",
      "\n",
      "No./root/workspace/Thyroid_Solid_Nodule/data/preprocess/chenzhou/image/A4B1C3D1E1_55THY1920180723153752131T.jpg data is being augmented and 47 data will be created\n"
     ]
    },
    {
     "name": "stderr",
     "output_type": "stream",
     "text": [
      "Processing <PIL.Image.Image image mode=RGB size=1024x768 at 0x7FD2647B4D68>: 100%|██████████| 47/47 [00:00<00:00, 52.00 Samples/s]                  \n",
      "Executing Pipeline:   0%|          | 0/52 [00:00<?, ? Samples/s]"
     ]
    },
    {
     "name": "stdout",
     "output_type": "stream",
     "text": [
      "Done\n",
      "Initialised with 1 image(s) found.\n",
      "Output directory set to /root/workspace/Thyroid_Solid_Nodule/data/preprocess/chenzhou_aug/tmp/image/A4B2C4D2E1_34THY1120180719103655256/output.1 ground truth image(s) found.\n",
      "\n",
      "No./root/workspace/Thyroid_Solid_Nodule/data/preprocess/chenzhou/image/A4B2C4D2E1_34THY1120180719103655256T.jpg data is being augmented and 52 data will be created\n"
     ]
    },
    {
     "name": "stderr",
     "output_type": "stream",
     "text": [
      "Processing <PIL.Image.Image image mode=RGB size=1024x768 at 0x7FD2646C0358>: 100%|██████████| 52/52 [00:01<00:00, 48.62 Samples/s]                  \n",
      "Executing Pipeline:   0%|          | 0/60 [00:00<?, ? Samples/s]"
     ]
    },
    {
     "name": "stdout",
     "output_type": "stream",
     "text": [
      "Done\n",
      "Initialised with 1 image(s) found.\n",
      "Output directory set to /root/workspace/Thyroid_Solid_Nodule/data/preprocess/chenzhou_aug/tmp/image/A4B1C3D4E4_19207201120180913THY13720180913112041094/output.1 ground truth image(s) found.\n",
      "\n",
      "No./root/workspace/Thyroid_Solid_Nodule/data/preprocess/chenzhou/image/A4B1C3D4E4_19207201120180913THY13720180913112041094V.jpg data is being augmented and 60 data will be created\n"
     ]
    },
    {
     "name": "stderr",
     "output_type": "stream",
     "text": [
      "Processing <PIL.Image.Image image mode=RGB size=1024x768 at 0x7FD2646E4BA8>: 100%|██████████| 60/60 [00:01<00:00, 51.92 Samples/s]                  \n",
      "Executing Pipeline:   0%|          | 0/47 [00:00<?, ? Samples/s]"
     ]
    },
    {
     "name": "stdout",
     "output_type": "stream",
     "text": [
      "Done\n",
      "Initialised with 1 image(s) found.\n",
      "Output directory set to /root/workspace/Thyroid_Solid_Nodule/data/preprocess/chenzhou_aug/tmp/image/A4B1C4D1E1_19033561020180912THY13520180912110122531/output.1 ground truth image(s) found.\n",
      "\n",
      "No./root/workspace/Thyroid_Solid_Nodule/data/preprocess/chenzhou/image/A4B1C4D1E1_19033561020180912THY13520180912110122531T.jpg data is being augmented and 47 data will be created\n"
     ]
    },
    {
     "name": "stderr",
     "output_type": "stream",
     "text": [
      "Processing <PIL.Image.Image image mode=RGB size=1024x768 at 0x7FD26475CFD0>: 100%|██████████| 47/47 [00:00<00:00, 53.56 Samples/s]                  \n",
      "Executing Pipeline:   0%|          | 0/47 [00:00<?, ? Samples/s]"
     ]
    },
    {
     "name": "stdout",
     "output_type": "stream",
     "text": [
      "Done\n",
      "Initialised with 1 image(s) found.\n",
      "Output directory set to /root/workspace/Thyroid_Solid_Nodule/data/preprocess/chenzhou_aug/tmp/image/A4B1C2D1E1_18312221420180907THY13120180907142316939/output.1 ground truth image(s) found.\n",
      "\n",
      "No./root/workspace/Thyroid_Solid_Nodule/data/preprocess/chenzhou/image/A4B1C2D1E1_18312221420180907THY13120180907142316939V.jpg data is being augmented and 47 data will be created\n"
     ]
    },
    {
     "name": "stderr",
     "output_type": "stream",
     "text": [
      "Processing <PIL.Image.Image image mode=RGB size=1024x768 at 0x7FD264702780>: 100%|██████████| 47/47 [00:00<00:00, 48.13 Samples/s]                  \n",
      "Executing Pipeline:   0%|          | 0/46 [00:00<?, ? Samples/s]"
     ]
    },
    {
     "name": "stdout",
     "output_type": "stream",
     "text": [
      "Done\n",
      "Initialised with 1 image(s) found.\n",
      "Output directory set to /root/workspace/Thyroid_Solid_Nodule/data/preprocess/chenzhou_aug/tmp/image/A4B2C3D3E1_111THY472018082311160787/output.1 ground truth image(s) found.\n",
      "\n",
      "No./root/workspace/Thyroid_Solid_Nodule/data/preprocess/chenzhou/image/A4B2C3D3E1_111THY4720180823111607873.jpg data is being augmented and 46 data will be created\n"
     ]
    },
    {
     "name": "stderr",
     "output_type": "stream",
     "text": [
      "Processing <PIL.Image.Image image mode=RGB size=1024x768 at 0x7FD2646A4978>: 100%|██████████| 46/46 [00:00<00:00, 47.66 Samples/s]\n",
      "Executing Pipeline:   0%|          | 0/41 [00:00<?, ? Samples/s]"
     ]
    },
    {
     "name": "stdout",
     "output_type": "stream",
     "text": [
      "Done\n",
      "Initialised with 1 image(s) found.\n",
      "Output directory set to /root/workspace/Thyroid_Solid_Nodule/data/preprocess/chenzhou_aug/tmp/image/A1B1C1D1E1_20335241120181012THY14920181012112755639/output.1 ground truth image(s) found.\n",
      "\n",
      "No./root/workspace/Thyroid_Solid_Nodule/data/preprocess/chenzhou/image/A1B1C1D1E1_20335241120181012THY14920181012112755639T.jpg data is being augmented and 41 data will be created\n"
     ]
    },
    {
     "name": "stderr",
     "output_type": "stream",
     "text": [
      "Processing <PIL.Image.Image image mode=RGB size=1024x768 at 0x7FD26470EC18>: 100%|██████████| 41/41 [00:00<00:00, 60.40 Samples/s]                  \n",
      "Executing Pipeline:   0%|          | 0/49 [00:00<?, ? Samples/s]"
     ]
    },
    {
     "name": "stdout",
     "output_type": "stream",
     "text": [
      "Done\n",
      "Initialised with 1 image(s) found.\n",
      "Output directory set to /root/workspace/Thyroid_Solid_Nodule/data/preprocess/chenzhou_aug/tmp/image/A3B1C3D1E1_17THY520180717164628907/output.1 ground truth image(s) found.\n",
      "\n",
      "No./root/workspace/Thyroid_Solid_Nodule/data/preprocess/chenzhou/image/A3B1C3D1E1_17THY520180717164628907T.jpg data is being augmented and 49 data will be created\n"
     ]
    },
    {
     "name": "stderr",
     "output_type": "stream",
     "text": [
      "Processing <PIL.Image.Image image mode=RGB size=1024x768 at 0x7FD2646D2EB8>: 100%|██████████| 49/49 [00:00<00:00, 50.23 Samples/s]\n",
      "Executing Pipeline:   0%|          | 0/44 [00:00<?, ? Samples/s]"
     ]
    },
    {
     "name": "stdout",
     "output_type": "stream",
     "text": [
      "Done\n",
      "Initialised with 1 image(s) found.\n",
      "Output directory set to /root/workspace/Thyroid_Solid_Nodule/data/preprocess/chenzhou_aug/tmp/image/A3B1C2D1E1_33THY1020180719095713877/output.1 ground truth image(s) found.\n",
      "\n",
      "No./root/workspace/Thyroid_Solid_Nodule/data/preprocess/chenzhou/image/A3B1C2D1E1_33THY1020180719095713877V.jpg data is being augmented and 44 data will be created\n"
     ]
    },
    {
     "name": "stderr",
     "output_type": "stream",
     "text": [
      "Processing <PIL.Image.Image image mode=RGB size=1024x768 at 0x7FD2646EC860>: 100%|██████████| 44/44 [00:00<00:00, 54.74 Samples/s]                  \n",
      "Executing Pipeline:   0%|          | 0/48 [00:00<?, ? Samples/s]"
     ]
    },
    {
     "name": "stdout",
     "output_type": "stream",
     "text": [
      "Done\n",
      "Initialised with 1 image(s) found.\n",
      "Output directory set to /root/workspace/Thyroid_Solid_Nodule/data/preprocess/chenzhou_aug/tmp/image/A3B1C3D1E1_53THY1920180723153658424/output.1 ground truth image(s) found.\n",
      "\n",
      "No./root/workspace/Thyroid_Solid_Nodule/data/preprocess/chenzhou/image/A3B1C3D1E1_53THY1920180723153658424T.jpg data is being augmented and 48 data will be created\n"
     ]
    },
    {
     "name": "stderr",
     "output_type": "stream",
     "text": [
      "Processing <PIL.Image.Image image mode=RGB size=1024x768 at 0x7FD2646D22E8>: 100%|██████████| 48/48 [00:00<00:00, 52.14 Samples/s]\n",
      "Executing Pipeline:   0%|          | 0/48 [00:00<?, ? Samples/s]"
     ]
    },
    {
     "name": "stdout",
     "output_type": "stream",
     "text": [
      "Done\n",
      "Initialised with 1 image(s) found.\n",
      "Output directory set to /root/workspace/Thyroid_Solid_Nodule/data/preprocess/chenzhou_aug/tmp/image/A4B1C2D1E2_20THY620180718085811320/output.1 ground truth image(s) found.\n",
      "\n",
      "No./root/workspace/Thyroid_Solid_Nodule/data/preprocess/chenzhou/image/A4B1C2D1E2_20THY620180718085811320T.jpg data is being augmented and 48 data will be created\n"
     ]
    },
    {
     "name": "stderr",
     "output_type": "stream",
     "text": [
      "Processing <PIL.Image.Image image mode=RGB size=1024x768 at 0x7FD2646BDC88>: 100%|██████████| 48/48 [00:00<00:00, 48.97 Samples/s]\n",
      "Executing Pipeline:   0%|          | 0/47 [00:00<?, ? Samples/s]"
     ]
    },
    {
     "name": "stdout",
     "output_type": "stream",
     "text": [
      "Done\n",
      "Initialised with 1 image(s) found.\n",
      "Output directory set to /root/workspace/Thyroid_Solid_Nodule/data/preprocess/chenzhou_aug/tmp/image/A4B1C2D2E1_57THY2020180723163120406/output.1 ground truth image(s) found.\n",
      "\n",
      "No./root/workspace/Thyroid_Solid_Nodule/data/preprocess/chenzhou/image/A4B1C2D2E1_57THY2020180723163120406V.jpg data is being augmented and 47 data will be created\n"
     ]
    },
    {
     "name": "stderr",
     "output_type": "stream",
     "text": [
      "Processing <PIL.Image.Image image mode=RGB size=1024x768 at 0x7FD2646EC4A8>: 100%|██████████| 47/47 [00:00<00:00, 57.58 Samples/s]\n",
      "Executing Pipeline:   0%|          | 0/60 [00:00<?, ? Samples/s]"
     ]
    },
    {
     "name": "stdout",
     "output_type": "stream",
     "text": [
      "Done\n",
      "Initialised with 1 image(s) found.\n",
      "Output directory set to /root/workspace/Thyroid_Solid_Nodule/data/preprocess/chenzhou_aug/tmp/image/A2B1C2D1E1_129THY5620180830155700047/output.1 ground truth image(s) found.\n",
      "\n",
      "No./root/workspace/Thyroid_Solid_Nodule/data/preprocess/chenzhou/image/A2B1C2D1E1_129THY5620180830155700047V.jpg data is being augmented and 60 data will be created\n"
     ]
    },
    {
     "name": "stderr",
     "output_type": "stream",
     "text": [
      "Processing <PIL.Image.Image image mode=RGB size=1024x768 at 0x7FD2646EC390>: 100%|██████████| 60/60 [00:01<00:00, 53.24 Samples/s]                  \n",
      "Executing Pipeline:   0%|          | 0/59 [00:00<?, ? Samples/s]"
     ]
    },
    {
     "name": "stdout",
     "output_type": "stream",
     "text": [
      "Done\n",
      "Initialised with 1 image(s) found.\n",
      "Output directory set to /root/workspace/Thyroid_Solid_Nodule/data/preprocess/chenzhou_aug/tmp/image/A4B1C3D1E1_15139310820180803THY11120180803083729652/output.1 ground truth image(s) found.\n",
      "\n",
      "No./root/workspace/Thyroid_Solid_Nodule/data/preprocess/chenzhou/image/A4B1C3D1E1_15139310820180803THY11120180803083729652T.jpg data is being augmented and 59 data will be created\n"
     ]
    },
    {
     "name": "stderr",
     "output_type": "stream",
     "text": [
      "Processing <PIL.Image.Image image mode=RGB size=1024x768 at 0x7FD2646D2CF8>: 100%|██████████| 59/59 [00:01<00:00, 54.25 Samples/s]                  \n",
      "Executing Pipeline:   0%|          | 0/51 [00:00<?, ? Samples/s]"
     ]
    },
    {
     "name": "stdout",
     "output_type": "stream",
     "text": [
      "Done\n",
      "Initialised with 1 image(s) found.\n",
      "Output directory set to /root/workspace/Thyroid_Solid_Nodule/data/preprocess/chenzhou_aug/tmp/image/A4B1C3D1E1_107THY4620180823092518177/output.1 ground truth image(s) found.\n",
      "\n",
      "No./root/workspace/Thyroid_Solid_Nodule/data/preprocess/chenzhou/image/A4B1C3D1E1_107THY4620180823092518177V.jpg data is being augmented and 51 data will be created\n"
     ]
    },
    {
     "name": "stderr",
     "output_type": "stream",
     "text": [
      "Processing <PIL.Image.Image image mode=RGB size=1024x768 at 0x7FD2646E4278>: 100%|██████████| 51/51 [00:00<00:00, 59.24 Samples/s]\n",
      "Executing Pipeline:   0%|          | 0/44 [00:00<?, ? Samples/s]"
     ]
    },
    {
     "name": "stdout",
     "output_type": "stream",
     "text": [
      "Done\n",
      "Initialised with 1 image(s) found.\n",
      "Output directory set to /root/workspace/Thyroid_Solid_Nodule/data/preprocess/chenzhou_aug/tmp/image/A4B1C3D1E3_92THY3820180816095345993/output.1 ground truth image(s) found.\n",
      "\n",
      "No./root/workspace/Thyroid_Solid_Nodule/data/preprocess/chenzhou/image/A4B1C3D1E3_92THY3820180816095345993T.jpg data is being augmented and 44 data will be created\n"
     ]
    },
    {
     "name": "stderr",
     "output_type": "stream",
     "text": [
      "Processing <PIL.Image.Image image mode=RGB size=1024x768 at 0x7FD264707668>: 100%|██████████| 44/44 [00:00<00:00, 56.01 Samples/s]\n",
      "Executing Pipeline:   0%|          | 0/41 [00:00<?, ? Samples/s]"
     ]
    },
    {
     "name": "stdout",
     "output_type": "stream",
     "text": [
      "Done\n",
      "Initialised with 1 image(s) found.\n",
      "Output directory set to /root/workspace/Thyroid_Solid_Nodule/data/preprocess/chenzhou_aug/tmp/image/A4B1C4D2E1_10THY420180717154027767/output.1 ground truth image(s) found.\n",
      "\n",
      "No./root/workspace/Thyroid_Solid_Nodule/data/preprocess/chenzhou/image/A4B1C4D2E1_10THY420180717154027767T.jpg data is being augmented and 41 data will be created\n"
     ]
    },
    {
     "name": "stderr",
     "output_type": "stream",
     "text": [
      "Processing <PIL.Image.Image image mode=RGB size=1024x768 at 0x7FD264710C18>: 100%|██████████| 41/41 [00:00<00:00, 55.64 Samples/s]                 \n",
      "Executing Pipeline:   0%|          | 0/49 [00:00<?, ? Samples/s]"
     ]
    },
    {
     "name": "stdout",
     "output_type": "stream",
     "text": [
      "Done\n",
      "Initialised with 1 image(s) found.\n",
      "Output directory set to /root/workspace/Thyroid_Solid_Nodule/data/preprocess/chenzhou_aug/tmp/image/A4B1C2D2E4_27THY820180718100440925/output.1 ground truth image(s) found.\n",
      "\n",
      "No./root/workspace/Thyroid_Solid_Nodule/data/preprocess/chenzhou/image/A4B1C2D2E4_27THY820180718100440925V.jpg data is being augmented and 49 data will be created\n"
     ]
    },
    {
     "name": "stderr",
     "output_type": "stream",
     "text": [
      "Processing <PIL.Image.Image image mode=RGB size=1024x768 at 0x7FD2646AF240>: 100%|██████████| 49/49 [00:00<00:00, 49.06 Samples/s]\n",
      "Executing Pipeline:   0%|          | 0/46 [00:00<?, ? Samples/s]"
     ]
    },
    {
     "name": "stdout",
     "output_type": "stream",
     "text": [
      "Done\n",
      "Initialised with 1 image(s) found.\n",
      "Output directory set to /root/workspace/Thyroid_Solid_Nodule/data/preprocess/chenzhou_aug/tmp/image/A4B1C2D2E2_14643321020180802THY11020180802103442544/output.1 ground truth image(s) found.\n",
      "\n",
      "No./root/workspace/Thyroid_Solid_Nodule/data/preprocess/chenzhou/image/A4B1C2D2E2_14643321020180802THY11020180802103442544V.jpg data is being augmented and 46 data will be created\n"
     ]
    },
    {
     "name": "stderr",
     "output_type": "stream",
     "text": [
      "Processing <PIL.Image.Image image mode=RGB size=1024x768 at 0x7FD2647105C0>: 100%|██████████| 46/46 [00:00<00:00, 58.19 Samples/s]                  \n",
      "Executing Pipeline:   0%|          | 0/54 [00:00<?, ? Samples/s]"
     ]
    },
    {
     "name": "stdout",
     "output_type": "stream",
     "text": [
      "Done\n",
      "Initialised with 1 image(s) found.\n",
      "Output directory set to /root/workspace/Thyroid_Solid_Nodule/data/preprocess/chenzhou_aug/tmp/image/A4B1C2D1E2_19643351520181009THY14220181009153709209/output.1 ground truth image(s) found.\n",
      "\n",
      "No./root/workspace/Thyroid_Solid_Nodule/data/preprocess/chenzhou/image/A4B1C2D1E2_19643351520181009THY14220181009153709209V.jpg data is being augmented and 54 data will be created\n"
     ]
    },
    {
     "name": "stderr",
     "output_type": "stream",
     "text": [
      "Processing <PIL.Image.Image image mode=RGB size=1024x768 at 0x7FD2647067F0>: 100%|██████████| 54/54 [00:00<00:00, 55.67 Samples/s]                  \n",
      "Executing Pipeline:   0%|          | 0/60 [00:00<?, ? Samples/s]"
     ]
    },
    {
     "name": "stdout",
     "output_type": "stream",
     "text": [
      "Done\n",
      "Initialised with 1 image(s) found.\n",
      "Output directory set to /root/workspace/Thyroid_Solid_Nodule/data/preprocess/chenzhou_aug/tmp/image/A4B1C3D1E1_66THY2420180725151007551/output.1 ground truth image(s) found.\n",
      "\n",
      "No./root/workspace/Thyroid_Solid_Nodule/data/preprocess/chenzhou/image/A4B1C3D1E1_66THY2420180725151007551T.jpg data is being augmented and 60 data will be created\n"
     ]
    },
    {
     "name": "stderr",
     "output_type": "stream",
     "text": [
      "Processing <PIL.Image.Image image mode=RGB size=1024x768 at 0x7FD264707C88>: 100%|██████████| 60/60 [00:01<00:00, 53.04 Samples/s]                  \n",
      "Executing Pipeline:   0%|          | 0/56 [00:00<?, ? Samples/s]"
     ]
    },
    {
     "name": "stdout",
     "output_type": "stream",
     "text": [
      "Done\n",
      "Initialised with 1 image(s) found.\n",
      "Output directory set to /root/workspace/Thyroid_Solid_Nodule/data/preprocess/chenzhou_aug/tmp/image/A4B2C3D2E4_18710491520180907THY13220180907155006523/output.1 ground truth image(s) found.\n",
      "\n",
      "No./root/workspace/Thyroid_Solid_Nodule/data/preprocess/chenzhou/image/A4B2C3D2E4_18710491520180907THY13220180907155006523T.jpg data is being augmented and 56 data will be created\n"
     ]
    },
    {
     "name": "stderr",
     "output_type": "stream",
     "text": [
      "Processing <PIL.Image.Image image mode=RGB size=1024x768 at 0x7FD2646C07B8>: 100%|██████████| 56/56 [00:01<00:00, 48.35 Samples/s]                  \n",
      "Executing Pipeline:   0%|          | 0/51 [00:00<?, ? Samples/s]"
     ]
    },
    {
     "name": "stdout",
     "output_type": "stream",
     "text": [
      "Done\n",
      "Initialised with 1 image(s) found.\n",
      "Output directory set to /root/workspace/Thyroid_Solid_Nodule/data/preprocess/chenzhou_aug/tmp/image/A4B1C3D1E1_20951051020181015THY15220181015100706184/output.1 ground truth image(s) found.\n",
      "\n",
      "No./root/workspace/Thyroid_Solid_Nodule/data/preprocess/chenzhou/image/A4B1C3D1E1_20951051020181015THY15220181015100706184V.jpg data is being augmented and 51 data will be created\n"
     ]
    },
    {
     "name": "stderr",
     "output_type": "stream",
     "text": [
      "Processing <PIL.Image.Image image mode=RGB size=1024x768 at 0x7FD2647069B0>: 100%|██████████| 51/51 [00:00<00:00, 55.48 Samples/s]                  \n",
      "Executing Pipeline:   0%|          | 0/49 [00:00<?, ? Samples/s]"
     ]
    },
    {
     "name": "stdout",
     "output_type": "stream",
     "text": [
      "Done\n",
      "Initialised with 1 image(s) found.\n",
      "Output directory set to /root/workspace/Thyroid_Solid_Nodule/data/preprocess/chenzhou_aug/tmp/image/A4B2C4D2E4_17025011620180904THY12420180904160243673/output.1 ground truth image(s) found.\n",
      "\n",
      "No./root/workspace/Thyroid_Solid_Nodule/data/preprocess/chenzhou/image/A4B2C4D2E4_17025011620180904THY12420180904160243673V.jpg data is being augmented and 49 data will be created\n"
     ]
    },
    {
     "name": "stderr",
     "output_type": "stream",
     "text": [
      "Processing <PIL.Image.Image image mode=RGB size=1024x768 at 0x7FD2646BD898>: 100%|██████████| 49/49 [00:00<00:00, 52.88 Samples/s]                  \n",
      "Executing Pipeline:   0%|          | 0/42 [00:00<?, ? Samples/s]"
     ]
    },
    {
     "name": "stdout",
     "output_type": "stream",
     "text": [
      "Done\n",
      "Initialised with 1 image(s) found.\n",
      "Output directory set to /root/workspace/Thyroid_Solid_Nodule/data/preprocess/chenzhou_aug/tmp/image/A4B1C3D1E1_89THY372018081608390055/output.1 ground truth image(s) found.\n",
      "\n",
      "No./root/workspace/Thyroid_Solid_Nodule/data/preprocess/chenzhou/image/A4B1C3D1E1_89THY3720180816083900558.jpg data is being augmented and 42 data will be created\n"
     ]
    },
    {
     "name": "stderr",
     "output_type": "stream",
     "text": [
      "Processing <PIL.Image.Image image mode=RGB size=1024x768 at 0x7FD2647066D8>: 100%|██████████| 42/42 [00:00<00:00, 56.77 Samples/s]\n",
      "Processing <PIL.JpegImagePlugin.JpegImageFile image mode=RGB size=1024x768 at 0x7FD264710908>:   0%|          | 0/43 [00:00<?, ? Samples/s]"
     ]
    },
    {
     "name": "stdout",
     "output_type": "stream",
     "text": [
      "Done\n",
      "Initialised with 1 image(s) found.\n",
      "Output directory set to /root/workspace/Thyroid_Solid_Nodule/data/preprocess/chenzhou_aug/tmp/image/A4B1C4D1E1_20028320920181012THY14720181012093723390/output.1 ground truth image(s) found.\n",
      "\n",
      "No./root/workspace/Thyroid_Solid_Nodule/data/preprocess/chenzhou/image/A4B1C4D1E1_20028320920181012THY14720181012093723390T.jpg data is being augmented and 43 data will be created\n"
     ]
    },
    {
     "name": "stderr",
     "output_type": "stream",
     "text": [
      "Processing <PIL.Image.Image image mode=RGB size=1024x768 at 0x7FD2646BC358>: 100%|██████████| 43/43 [00:00<00:00, 51.87 Samples/s]                 \n",
      "Executing Pipeline:   0%|          | 0/56 [00:00<?, ? Samples/s]"
     ]
    },
    {
     "name": "stdout",
     "output_type": "stream",
     "text": [
      "Done\n",
      "Initialised with 1 image(s) found.\n",
      "Output directory set to /root/workspace/Thyroid_Solid_Nodule/data/preprocess/chenzhou_aug/tmp/image/A2B1C2D1E1_97THY4220180817162051585/output.1 ground truth image(s) found.\n",
      "\n",
      "No./root/workspace/Thyroid_Solid_Nodule/data/preprocess/chenzhou/image/A2B1C2D1E1_97THY4220180817162051585V.jpg data is being augmented and 56 data will be created\n"
     ]
    },
    {
     "name": "stderr",
     "output_type": "stream",
     "text": [
      "Processing <PIL.Image.Image image mode=RGB size=1024x768 at 0x7FD2646BCDA0>: 100%|██████████| 56/56 [00:01<00:00, 53.08 Samples/s]                  \n",
      "Executing Pipeline:   0%|          | 0/57 [00:00<?, ? Samples/s]"
     ]
    },
    {
     "name": "stdout",
     "output_type": "stream",
     "text": [
      "Done\n",
      "Initialised with 1 image(s) found.\n",
      "Output directory set to /root/workspace/Thyroid_Solid_Nodule/data/preprocess/chenzhou_aug/tmp/image/A4B1C3D1E1_24THY620180718090107371/output.1 ground truth image(s) found.\n",
      "\n",
      "No./root/workspace/Thyroid_Solid_Nodule/data/preprocess/chenzhou/image/A4B1C3D1E1_24THY620180718090107371V.jpg data is being augmented and 57 data will be created\n"
     ]
    },
    {
     "name": "stderr",
     "output_type": "stream",
     "text": [
      "Processing <PIL.Image.Image image mode=RGB size=1024x768 at 0x7FD264706860>: 100%|██████████| 57/57 [00:01<00:00, 54.18 Samples/s]                  \n",
      "Executing Pipeline:   0%|          | 0/48 [00:00<?, ? Samples/s]"
     ]
    },
    {
     "name": "stdout",
     "output_type": "stream",
     "text": [
      "Done\n",
      "Initialised with 1 image(s) found.\n",
      "Output directory set to /root/workspace/Thyroid_Solid_Nodule/data/preprocess/chenzhou_aug/tmp/image/A3B1C2D1E1_131THY5620180830155736480/output.1 ground truth image(s) found.\n",
      "\n",
      "No./root/workspace/Thyroid_Solid_Nodule/data/preprocess/chenzhou/image/A3B1C2D1E1_131THY5620180830155736480V.jpg data is being augmented and 48 data will be created\n"
     ]
    },
    {
     "name": "stderr",
     "output_type": "stream",
     "text": [
      "Processing <PIL.Image.Image image mode=RGB size=1024x768 at 0x7FD264702BA8>: 100%|██████████| 48/48 [00:01<00:00, 46.71 Samples/s]                  \n",
      "Executing Pipeline:   0%|          | 0/58 [00:00<?, ? Samples/s]"
     ]
    },
    {
     "name": "stdout",
     "output_type": "stream",
     "text": [
      "Done\n",
      "Initialised with 1 image(s) found.\n",
      "Output directory set to /root/workspace/Thyroid_Solid_Nodule/data/preprocess/chenzhou_aug/tmp/image/A2B1C2D1E1_77THY3220180730111900029/output.1 ground truth image(s) found.\n",
      "\n",
      "No./root/workspace/Thyroid_Solid_Nodule/data/preprocess/chenzhou/image/A2B1C2D1E1_77THY3220180730111900029V.jpg data is being augmented and 58 data will be created\n"
     ]
    },
    {
     "name": "stderr",
     "output_type": "stream",
     "text": [
      "Processing <PIL.Image.Image image mode=RGB size=1024x768 at 0x7FD2646C0898>: 100%|██████████| 58/58 [00:01<00:00, 55.71 Samples/s]                  \n",
      "Executing Pipeline:   0%|          | 0/54 [00:00<?, ? Samples/s]"
     ]
    },
    {
     "name": "stdout",
     "output_type": "stream",
     "text": [
      "Done\n",
      "Initialised with 1 image(s) found.\n",
      "Output directory set to /root/workspace/Thyroid_Solid_Nodule/data/preprocess/chenzhou_aug/tmp/image/A4B1C2D1E1_28THY820180718100642356/output.1 ground truth image(s) found.\n",
      "\n",
      "No./root/workspace/Thyroid_Solid_Nodule/data/preprocess/chenzhou/image/A4B1C2D1E1_28THY820180718100642356T.jpg data is being augmented and 54 data will be created\n"
     ]
    },
    {
     "name": "stderr",
     "output_type": "stream",
     "text": [
      "Processing <PIL.Image.Image image mode=RGB size=1024x768 at 0x7FD2646AFB38>: 100%|██████████| 54/54 [00:01<00:00, 49.73 Samples/s]\n",
      "Executing Pipeline:   0%|          | 0/45 [00:00<?, ? Samples/s]"
     ]
    },
    {
     "name": "stdout",
     "output_type": "stream",
     "text": [
      "Done\n",
      "Initialised with 1 image(s) found.\n",
      "Output directory set to /root/workspace/Thyroid_Solid_Nodule/data/preprocess/chenzhou_aug/tmp/image/A4B1C3D1E1_134THY5720180831151011261/output.1 ground truth image(s) found.\n",
      "\n",
      "No./root/workspace/Thyroid_Solid_Nodule/data/preprocess/chenzhou/image/A4B1C3D1E1_134THY5720180831151011261V.jpg data is being augmented and 45 data will be created\n"
     ]
    },
    {
     "name": "stderr",
     "output_type": "stream",
     "text": [
      "Processing <PIL.Image.Image image mode=RGB size=1024x768 at 0x7FD264702198>: 100%|██████████| 45/45 [00:00<00:00, 46.24 Samples/s]                  \n",
      "Executing Pipeline:   0%|          | 0/52 [00:00<?, ? Samples/s]"
     ]
    },
    {
     "name": "stdout",
     "output_type": "stream",
     "text": [
      "Done\n",
      "Initialised with 1 image(s) found.\n",
      "Output directory set to /root/workspace/Thyroid_Solid_Nodule/data/preprocess/chenzhou_aug/tmp/image/A4B2C4D2E1_11THY420180717154142621/output.1 ground truth image(s) found.\n",
      "\n",
      "No./root/workspace/Thyroid_Solid_Nodule/data/preprocess/chenzhou/image/A4B2C4D2E1_11THY420180717154142621V.jpg data is being augmented and 52 data will be created\n"
     ]
    },
    {
     "name": "stderr",
     "output_type": "stream",
     "text": [
      "Processing <PIL.Image.Image image mode=RGB size=1024x768 at 0x7FD264706860>: 100%|██████████| 52/52 [00:00<00:00, 52.55 Samples/s]                  \n",
      "Executing Pipeline:   0%|          | 0/56 [00:00<?, ? Samples/s]"
     ]
    },
    {
     "name": "stdout",
     "output_type": "stream",
     "text": [
      "Done\n",
      "Initialised with 1 image(s) found.\n",
      "Output directory set to /root/workspace/Thyroid_Solid_Nodule/data/preprocess/chenzhou_aug/tmp/image/A2B1C2D1E2_133THY5720180831150908534/output.1 ground truth image(s) found.\n",
      "\n",
      "No./root/workspace/Thyroid_Solid_Nodule/data/preprocess/chenzhou/image/A2B1C2D1E2_133THY5720180831150908534T.jpg data is being augmented and 56 data will be created\n"
     ]
    },
    {
     "name": "stderr",
     "output_type": "stream",
     "text": [
      "Processing <PIL.JpegImagePlugin.JpegImageFile image mode=RGB size=1024x768 at 0x7FD26470E438>: 100%|██████████| 56/56 [00:01<00:00, 53.28 Samples/s]\n",
      "Executing Pipeline:   0%|          | 0/48 [00:00<?, ? Samples/s]"
     ]
    },
    {
     "name": "stdout",
     "output_type": "stream",
     "text": [
      "Done\n",
      "Initialised with 1 image(s) found.\n",
      "Output directory set to /root/workspace/Thyroid_Solid_Nodule/data/preprocess/chenzhou_aug/tmp/image/A4B1C3D1E4_31THY1020180719095447611/output.1 ground truth image(s) found.\n",
      "\n",
      "No./root/workspace/Thyroid_Solid_Nodule/data/preprocess/chenzhou/image/A4B1C3D1E4_31THY1020180719095447611V.jpg data is being augmented and 48 data will be created\n"
     ]
    },
    {
     "name": "stderr",
     "output_type": "stream",
     "text": [
      "Processing <PIL.Image.Image image mode=RGB size=1024x768 at 0x7FD2646BCCF8>: 100%|██████████| 48/48 [00:00<00:00, 52.78 Samples/s]                  \n",
      "Executing Pipeline:   0%|          | 0/49 [00:00<?, ? Samples/s]"
     ]
    },
    {
     "name": "stdout",
     "output_type": "stream",
     "text": [
      "Done\n",
      "Initialised with 1 image(s) found.\n",
      "Output directory set to /root/workspace/Thyroid_Solid_Nodule/data/preprocess/chenzhou_aug/tmp/image/A3B1C2D1E1_26THY720180718092354186/output.1 ground truth image(s) found.\n",
      "\n",
      "No./root/workspace/Thyroid_Solid_Nodule/data/preprocess/chenzhou/image/A3B1C2D1E1_26THY720180718092354186V.jpg data is being augmented and 49 data will be created\n"
     ]
    },
    {
     "name": "stderr",
     "output_type": "stream",
     "text": [
      "Processing <PIL.Image.Image image mode=RGB size=1024x768 at 0x7FD2646754E0>: 100%|██████████| 49/49 [00:00<00:00, 51.93 Samples/s]                  \n",
      "Executing Pipeline:   0%|          | 0/41 [00:00<?, ? Samples/s]"
     ]
    },
    {
     "name": "stdout",
     "output_type": "stream",
     "text": [
      "Done\n",
      "Initialised with 1 image(s) found.\n",
      "Output directory set to /root/workspace/Thyroid_Solid_Nodule/data/preprocess/chenzhou_aug/tmp/image/A4B1C4D4E4_20637011020181015THY15120181015100301587/output.1 ground truth image(s) found.\n",
      "\n",
      "No./root/workspace/Thyroid_Solid_Nodule/data/preprocess/chenzhou/image/A4B1C4D4E4_20637011020181015THY15120181015100301587V.jpg data is being augmented and 41 data will be created\n"
     ]
    },
    {
     "name": "stderr",
     "output_type": "stream",
     "text": [
      "Processing <PIL.Image.Image image mode=RGB size=1024x768 at 0x7FD2646BDE10>: 100%|██████████| 41/41 [00:00<00:00, 51.98 Samples/s]                 \n",
      "Executing Pipeline:   0%|          | 0/60 [00:00<?, ? Samples/s]"
     ]
    },
    {
     "name": "stdout",
     "output_type": "stream",
     "text": [
      "Done\n",
      "Initialised with 1 image(s) found.\n",
      "Output directory set to /root/workspace/Thyroid_Solid_Nodule/data/preprocess/chenzhou_aug/tmp/image/A3B1C2D1E1_16920460820180903THY12220180903085216783/output.1 ground truth image(s) found.\n",
      "\n",
      "No./root/workspace/Thyroid_Solid_Nodule/data/preprocess/chenzhou/image/A3B1C2D1E1_16920460820180903THY12220180903085216783T.jpg data is being augmented and 60 data will be created\n"
     ]
    },
    {
     "name": "stderr",
     "output_type": "stream",
     "text": [
      "Processing <PIL.Image.Image image mode=RGB size=1024x768 at 0x7FD2646C04A8>: 100%|██████████| 60/60 [00:01<00:00, 58.13 Samples/s]                  \n",
      "Executing Pipeline:   0%|          | 0/51 [00:00<?, ? Samples/s]"
     ]
    },
    {
     "name": "stdout",
     "output_type": "stream",
     "text": [
      "Done\n",
      "Initialised with 1 image(s) found.\n",
      "Output directory set to /root/workspace/Thyroid_Solid_Nodule/data/preprocess/chenzhou_aug/tmp/image/A1B1C1D1E1_18212221420180907THY13120180907142300571/output.1 ground truth image(s) found.\n",
      "\n",
      "No./root/workspace/Thyroid_Solid_Nodule/data/preprocess/chenzhou/image/A1B1C1D1E1_18212221420180907THY13120180907142300571V.jpg data is being augmented and 51 data will be created\n"
     ]
    },
    {
     "name": "stderr",
     "output_type": "stream",
     "text": [
      "Processing <PIL.Image.Image image mode=RGB size=1024x768 at 0x7FD2646BC240>: 100%|██████████| 51/51 [00:01<00:00, 50.78 Samples/s]                  \n",
      "Executing Pipeline:   0%|          | 0/48 [00:00<?, ? Samples/s]"
     ]
    },
    {
     "name": "stdout",
     "output_type": "stream",
     "text": [
      "Done\n",
      "Initialised with 1 image(s) found.\n",
      "Output directory set to /root/workspace/Thyroid_Solid_Nodule/data/preprocess/chenzhou_aug/tmp/image/A4B1C4D2E1_17207131120180905THY12520180905111333401/output.1 ground truth image(s) found.\n",
      "\n",
      "No./root/workspace/Thyroid_Solid_Nodule/data/preprocess/chenzhou/image/A4B1C4D2E1_17207131120180905THY12520180905111333401T.jpg data is being augmented and 48 data will be created\n"
     ]
    },
    {
     "name": "stderr",
     "output_type": "stream",
     "text": [
      "Processing <PIL.Image.Image image mode=RGB size=1024x768 at 0x7FD2646D2588>: 100%|██████████| 48/48 [00:00<00:00, 54.30 Samples/s]                  \n",
      "Executing Pipeline:   0%|          | 0/44 [00:00<?, ? Samples/s]"
     ]
    },
    {
     "name": "stdout",
     "output_type": "stream",
     "text": [
      "Done\n",
      "Initialised with 1 image(s) found.\n",
      "Output directory set to /root/workspace/Thyroid_Solid_Nodule/data/preprocess/chenzhou_aug/tmp/image/A4B1C2D2E2_18612221420180907THY13120180907142527705/output.1 ground truth image(s) found.\n",
      "\n",
      "No./root/workspace/Thyroid_Solid_Nodule/data/preprocess/chenzhou/image/A4B1C2D2E2_18612221420180907THY13120180907142527705T.jpg data is being augmented and 44 data will be created\n"
     ]
    },
    {
     "name": "stderr",
     "output_type": "stream",
     "text": [
      "Processing <PIL.Image.Image image mode=RGB size=1024x768 at 0x7FD264706518>: 100%|██████████| 44/44 [00:00<00:00, 55.33 Samples/s]                  \n",
      "Executing Pipeline:   0%|          | 0/47 [00:00<?, ? Samples/s]"
     ]
    },
    {
     "name": "stdout",
     "output_type": "stream",
     "text": [
      "Done\n",
      "Initialised with 1 image(s) found.\n",
      "Output directory set to /root/workspace/Thyroid_Solid_Nodule/data/preprocess/chenzhou_aug/tmp/image/A4B1C2D1E1_30THY920180719083801291/output.1 ground truth image(s) found.\n",
      "\n",
      "No./root/workspace/Thyroid_Solid_Nodule/data/preprocess/chenzhou/image/A4B1C2D1E1_30THY920180719083801291T.jpg data is being augmented and 47 data will be created\n"
     ]
    },
    {
     "name": "stderr",
     "output_type": "stream",
     "text": [
      "Processing <PIL.Image.Image image mode=RGB size=1024x768 at 0x7FD264710F28>: 100%|██████████| 47/47 [00:00<00:00, 49.65 Samples/s]                  \n",
      "Processing <PIL.Image.Image image mode=RGB size=1024x768 at 0x7FD2646BDDD8>:   0%|          | 0/41 [00:00<?, ? Samples/s]"
     ]
    },
    {
     "name": "stdout",
     "output_type": "stream",
     "text": [
      "Done\n",
      "Initialised with 1 image(s) found.\n",
      "Output directory set to /root/workspace/Thyroid_Solid_Nodule/data/preprocess/chenzhou_aug/tmp/image/A4B1C4D2E2_14506210920180802THY10920180802092211942/output.1 ground truth image(s) found.\n",
      "\n",
      "No./root/workspace/Thyroid_Solid_Nodule/data/preprocess/chenzhou/image/A4B1C4D2E2_14506210920180802THY10920180802092211942V.jpg data is being augmented and 41 data will be created\n"
     ]
    },
    {
     "name": "stderr",
     "output_type": "stream",
     "text": [
      "Processing <PIL.Image.Image image mode=RGB size=1024x768 at 0x7FD2646BD588>: 100%|██████████| 41/41 [00:00<00:00, 55.81 Samples/s]                  \n",
      "Executing Pipeline:   0%|          | 0/42 [00:00<?, ? Samples/s]"
     ]
    },
    {
     "name": "stdout",
     "output_type": "stream",
     "text": [
      "Done\n",
      "Initialised with 1 image(s) found.\n",
      "Output directory set to /root/workspace/Thyroid_Solid_Nodule/data/preprocess/chenzhou_aug/tmp/image/A4B1C4D2E1_43THY1520180723091108789/output.1 ground truth image(s) found.\n",
      "\n",
      "No./root/workspace/Thyroid_Solid_Nodule/data/preprocess/chenzhou/image/A4B1C4D2E1_43THY1520180723091108789V.jpg data is being augmented and 42 data will be created\n"
     ]
    },
    {
     "name": "stderr",
     "output_type": "stream",
     "text": [
      "Processing <PIL.Image.Image image mode=RGB size=1024x768 at 0x7FD2646C0128>: 100%|██████████| 42/42 [00:00<00:00, 61.17 Samples/s]                  \n",
      "Executing Pipeline:   0%|          | 0/45 [00:00<?, ? Samples/s]"
     ]
    },
    {
     "name": "stdout",
     "output_type": "stream",
     "text": [
      "Done\n",
      "Initialised with 1 image(s) found.\n",
      "Output directory set to /root/workspace/Thyroid_Solid_Nodule/data/preprocess/chenzhou_aug/tmp/image/A2B1C3D1E1_9THY420180717153949009/output.1 ground truth image(s) found.\n",
      "\n",
      "No./root/workspace/Thyroid_Solid_Nodule/data/preprocess/chenzhou/image/A2B1C3D1E1_9THY420180717153949009T.jpg data is being augmented and 45 data will be created\n"
     ]
    },
    {
     "name": "stderr",
     "output_type": "stream",
     "text": [
      "Processing <PIL.Image.Image image mode=RGB size=1024x768 at 0x7FD2646BC1D0>: 100%|██████████| 45/45 [00:00<00:00, 49.67 Samples/s]                  \n",
      "Executing Pipeline:   0%|          | 0/46 [00:00<?, ? Samples/s]"
     ]
    },
    {
     "name": "stdout",
     "output_type": "stream",
     "text": [
      "Done\n",
      "Initialised with 1 image(s) found.\n",
      "Output directory set to /root/workspace/Thyroid_Solid_Nodule/data/preprocess/chenzhou_aug/tmp/image/A1B1C1D1E1_117THY5020180830102903081/output.1 ground truth image(s) found.\n",
      "\n",
      "No./root/workspace/Thyroid_Solid_Nodule/data/preprocess/chenzhou/image/A1B1C1D1E1_117THY5020180830102903081V.jpg data is being augmented and 46 data will be created\n"
     ]
    },
    {
     "name": "stderr",
     "output_type": "stream",
     "text": [
      "Processing <PIL.Image.Image image mode=RGB size=1024x768 at 0x7FD2646D7828>: 100%|██████████| 46/46 [00:00<00:00, 50.61 Samples/s]                  \n",
      "Executing Pipeline:   0%|          | 0/48 [00:00<?, ? Samples/s]"
     ]
    },
    {
     "name": "stdout",
     "output_type": "stream",
     "text": [
      "Done\n",
      "Initialised with 1 image(s) found.\n",
      "Output directory set to /root/workspace/Thyroid_Solid_Nodule/data/preprocess/chenzhou_aug/tmp/image/A4B1C3D2E1_61THY222018072410555774/output.1 ground truth image(s) found.\n",
      "\n",
      "No./root/workspace/Thyroid_Solid_Nodule/data/preprocess/chenzhou/image/A4B1C3D2E1_61THY2220180724105557745.jpg data is being augmented and 48 data will be created\n"
     ]
    },
    {
     "name": "stderr",
     "output_type": "stream",
     "text": [
      "Processing <PIL.Image.Image image mode=RGB size=1024x768 at 0x7FD2646BDE48>: 100%|██████████| 48/48 [00:00<00:00, 51.23 Samples/s]\n",
      "Executing Pipeline:   0%|          | 0/42 [00:00<?, ? Samples/s]"
     ]
    },
    {
     "name": "stdout",
     "output_type": "stream",
     "text": [
      "Done\n",
      "Initialised with 1 image(s) found.\n",
      "Output directory set to /root/workspace/Thyroid_Solid_Nodule/data/preprocess/chenzhou_aug/tmp/image/A4B2C4D1E1_4THY22018071709300577/output.1 ground truth image(s) found.\n",
      "\n",
      "No./root/workspace/Thyroid_Solid_Nodule/data/preprocess/chenzhou/image/A4B2C4D1E1_4THY220180717093005774.jpg data is being augmented and 42 data will be created\n"
     ]
    },
    {
     "name": "stderr",
     "output_type": "stream",
     "text": [
      "Processing <PIL.Image.Image image mode=RGB size=1024x768 at 0x7FD2646D2B38>: 100%|██████████| 42/42 [00:00<00:00, 55.20 Samples/s]\n",
      "Executing Pipeline:   0%|          | 0/48 [00:00<?, ? Samples/s]"
     ]
    },
    {
     "name": "stdout",
     "output_type": "stream",
     "text": [
      "Done\n",
      "Initialised with 1 image(s) found.\n",
      "Output directory set to /root/workspace/Thyroid_Solid_Nodule/data/preprocess/chenzhou_aug/tmp/image/A4B2C3D3E1_119THY512018083010325396/output.1 ground truth image(s) found.\n",
      "\n",
      "No./root/workspace/Thyroid_Solid_Nodule/data/preprocess/chenzhou/image/A4B2C3D3E1_119THY5120180830103253960.jpg data is being augmented and 48 data will be created\n"
     ]
    },
    {
     "name": "stderr",
     "output_type": "stream",
     "text": [
      "Processing <PIL.Image.Image image mode=RGB size=1024x768 at 0x7FD2646C0B38>: 100%|██████████| 48/48 [00:00<00:00, 50.39 Samples/s]                  \n",
      "Executing Pipeline:   0%|          | 0/44 [00:00<?, ? Samples/s]"
     ]
    },
    {
     "name": "stdout",
     "output_type": "stream",
     "text": [
      "Done\n",
      "Initialised with 1 image(s) found.\n",
      "Output directory set to /root/workspace/Thyroid_Solid_Nodule/data/preprocess/chenzhou_aug/tmp/image/A4B2C4D3E4_13615096182004THY10044420180731100513858/output.1 ground truth image(s) found.\n",
      "\n",
      "No./root/workspace/Thyroid_Solid_Nodule/data/preprocess/chenzhou/image/A4B2C4D3E4_13615096182004THY10044420180731100513858V.jpg data is being augmented and 44 data will be created\n"
     ]
    },
    {
     "name": "stderr",
     "output_type": "stream",
     "text": [
      "Processing <PIL.Image.Image image mode=RGB size=1024x768 at 0x7FD2646BD940>: 100%|██████████| 44/44 [00:00<00:00, 48.87 Samples/s]                  \n",
      "Executing Pipeline:   0%|          | 0/45 [00:00<?, ? Samples/s]"
     ]
    },
    {
     "name": "stdout",
     "output_type": "stream",
     "text": [
      "Done\n",
      "Initialised with 1 image(s) found.\n",
      "Output directory set to /root/workspace/Thyroid_Solid_Nodule/data/preprocess/chenzhou_aug/tmp/image/A4B1C3D2E1_58THY2120180724082928903/output.1 ground truth image(s) found.\n",
      "\n",
      "No./root/workspace/Thyroid_Solid_Nodule/data/preprocess/chenzhou/image/A4B1C3D2E1_58THY2120180724082928903V.jpg data is being augmented and 45 data will be created\n"
     ]
    },
    {
     "name": "stderr",
     "output_type": "stream",
     "text": [
      "Processing <PIL.Image.Image image mode=RGB size=1024x768 at 0x7FD2646D2A58>: 100%|██████████| 45/45 [00:00<00:00, 57.46 Samples/s]                 \n",
      "Executing Pipeline:   0%|          | 0/51 [00:00<?, ? Samples/s]"
     ]
    },
    {
     "name": "stdout",
     "output_type": "stream",
     "text": [
      "Done\n",
      "Initialised with 1 image(s) found.\n",
      "Output directory set to /root/workspace/Thyroid_Solid_Nodule/data/preprocess/chenzhou_aug/tmp/image/A1B1C1D1E1_13THY420180717154406594/output.1 ground truth image(s) found.\n",
      "\n",
      "No./root/workspace/Thyroid_Solid_Nodule/data/preprocess/chenzhou/image/A1B1C1D1E1_13THY420180717154406594V.jpg data is being augmented and 51 data will be created\n"
     ]
    },
    {
     "name": "stderr",
     "output_type": "stream",
     "text": [
      "Processing <PIL.Image.Image image mode=RGB size=1024x768 at 0x7FD26466C4A8>: 100%|██████████| 51/51 [00:01<00:00, 50.92 Samples/s]                  \n",
      "Executing Pipeline:   0%|          | 0/50 [00:00<?, ? Samples/s]"
     ]
    },
    {
     "name": "stdout",
     "output_type": "stream",
     "text": [
      "Done\n",
      "Initialised with 1 image(s) found.\n",
      "Output directory set to /root/workspace/Thyroid_Solid_Nodule/data/preprocess/chenzhou_aug/tmp/image/A4B1C4D1E1_15303221020180803THY11320180803102243041/output.1 ground truth image(s) found.\n",
      "\n",
      "No./root/workspace/Thyroid_Solid_Nodule/data/preprocess/chenzhou/image/A4B1C4D1E1_15303221020180803THY11320180803102243041T.jpg data is being augmented and 50 data will be created\n"
     ]
    },
    {
     "name": "stderr",
     "output_type": "stream",
     "text": [
      "Processing <PIL.Image.Image image mode=RGB size=1024x768 at 0x7FD264707EB8>: 100%|██████████| 50/50 [00:00<00:00, 53.15 Samples/s]\n",
      "Executing Pipeline:   0%|          | 0/50 [00:00<?, ? Samples/s]"
     ]
    },
    {
     "name": "stdout",
     "output_type": "stream",
     "text": [
      "Done\n",
      "Initialised with 1 image(s) found.\n",
      "Output directory set to /root/workspace/Thyroid_Solid_Nodule/data/preprocess/chenzhou_aug/tmp/image/A4B2C4D2E4_17025011620180904THY12420180904160219258/output.1 ground truth image(s) found.\n",
      "\n",
      "No./root/workspace/Thyroid_Solid_Nodule/data/preprocess/chenzhou/image/A4B2C4D2E4_17025011620180904THY12420180904160219258T.jpg data is being augmented and 50 data will be created\n"
     ]
    },
    {
     "name": "stderr",
     "output_type": "stream",
     "text": [
      "Processing <PIL.Image.Image image mode=RGB size=1024x768 at 0x7FD2646D7668>: 100%|██████████| 50/50 [00:00<00:00, 53.98 Samples/s]                  \n",
      "Executing Pipeline:   0%|          | 0/51 [00:00<?, ? Samples/s]"
     ]
    },
    {
     "name": "stdout",
     "output_type": "stream",
     "text": [
      "Done\n",
      "Initialised with 1 image(s) found.\n",
      "Output directory set to /root/workspace/Thyroid_Solid_Nodule/data/preprocess/chenzhou_aug/tmp/image/A4B1C4D2E3_16226411420180815THY11920180815150022611/output.1 ground truth image(s) found.\n",
      "\n",
      "No./root/workspace/Thyroid_Solid_Nodule/data/preprocess/chenzhou/image/A4B1C4D2E3_16226411420180815THY11920180815150022611V.jpg data is being augmented and 51 data will be created\n"
     ]
    },
    {
     "name": "stderr",
     "output_type": "stream",
     "text": [
      "Processing <PIL.Image.Image image mode=RGB size=1024x768 at 0x7FD2646686D8>: 100%|██████████| 51/51 [00:00<00:00, 58.14 Samples/s]                  \n",
      "Executing Pipeline:   0%|          | 0/59 [00:00<?, ? Samples/s]"
     ]
    },
    {
     "name": "stdout",
     "output_type": "stream",
     "text": [
      "Done\n",
      "Initialised with 1 image(s) found.\n",
      "Output directory set to /root/workspace/Thyroid_Solid_Nodule/data/preprocess/chenzhou_aug/tmp/image/A4B2C4D2E1_17510361420180905THY12720180905143725965/output.1 ground truth image(s) found.\n",
      "\n",
      "No./root/workspace/Thyroid_Solid_Nodule/data/preprocess/chenzhou/image/A4B2C4D2E1_17510361420180905THY12720180905143725965T.jpg data is being augmented and 59 data will be created\n"
     ]
    },
    {
     "name": "stderr",
     "output_type": "stream",
     "text": [
      "Processing <PIL.Image.Image image mode=RGB size=1024x768 at 0x7FD2646BDBA8>: 100%|██████████| 59/59 [00:00<00:00, 59.86 Samples/s]                  \n",
      "Executing Pipeline:   0%|          | 0/41 [00:00<?, ? Samples/s]"
     ]
    },
    {
     "name": "stdout",
     "output_type": "stream",
     "text": [
      "Done\n",
      "Initialised with 1 image(s) found.\n",
      "Output directory set to /root/workspace/Thyroid_Solid_Nodule/data/preprocess/chenzhou_aug/tmp/image/A4B2C3D3E4_106THY4620180823092452358/output.1 ground truth image(s) found.\n",
      "\n",
      "No./root/workspace/Thyroid_Solid_Nodule/data/preprocess/chenzhou/image/A4B2C3D3E4_106THY4620180823092452358T.jpg data is being augmented and 41 data will be created\n"
     ]
    },
    {
     "name": "stderr",
     "output_type": "stream",
     "text": [
      "Processing <PIL.Image.Image image mode=RGB size=1024x768 at 0x7FD2646BC550>: 100%|██████████| 41/41 [00:00<00:00, 52.01 Samples/s]\n",
      "Executing Pipeline:   0%|          | 0/47 [00:00<?, ? Samples/s]"
     ]
    },
    {
     "name": "stdout",
     "output_type": "stream",
     "text": [
      "Done\n",
      "Initialised with 1 image(s) found.\n",
      "Output directory set to /root/workspace/Thyroid_Solid_Nodule/data/preprocess/chenzhou_aug/tmp/image/A1B1C1D1E1_112THY4820180830092014988/output.1 ground truth image(s) found.\n",
      "\n",
      "No./root/workspace/Thyroid_Solid_Nodule/data/preprocess/chenzhou/image/A1B1C1D1E1_112THY4820180830092014988T.jpg data is being augmented and 47 data will be created\n"
     ]
    },
    {
     "name": "stderr",
     "output_type": "stream",
     "text": [
      "Processing <PIL.JpegImagePlugin.JpegImageFile image mode=RGB size=1024x768 at 0x7FD2646AF978>: 100%|██████████| 47/47 [00:00<00:00, 56.62 Samples/s]\n",
      "Processing <PIL.Image.Image image mode=RGB size=1024x768 at 0x7FD2646AF320>:   0%|          | 0/42 [00:00<?, ? Samples/s]"
     ]
    },
    {
     "name": "stdout",
     "output_type": "stream",
     "text": [
      "Done\n",
      "Initialised with 1 image(s) found.\n",
      "Output directory set to /root/workspace/Thyroid_Solid_Nodule/data/preprocess/chenzhou_aug/tmp/image/A3B1C2D1E1_33THY1020180719095729118/output.1 ground truth image(s) found.\n",
      "\n",
      "No./root/workspace/Thyroid_Solid_Nodule/data/preprocess/chenzhou/image/A3B1C2D1E1_33THY1020180719095729118V.jpg data is being augmented and 42 data will be created\n"
     ]
    },
    {
     "name": "stderr",
     "output_type": "stream",
     "text": [
      "Processing <PIL.Image.Image image mode=RGB size=1024x768 at 0x7FD264707FD0>: 100%|██████████| 42/42 [00:00<00:00, 59.02 Samples/s]                  \n",
      "Executing Pipeline:   0%|          | 0/44 [00:00<?, ? Samples/s]"
     ]
    },
    {
     "name": "stdout",
     "output_type": "stream",
     "text": [
      "Done\n",
      "Initialised with 1 image(s) found.\n",
      "Output directory set to /root/workspace/Thyroid_Solid_Nodule/data/preprocess/chenzhou_aug/tmp/image/A3B1C2D1E1_17712091620180905THY12820180905161204599/output.1 ground truth image(s) found.\n",
      "\n",
      "No./root/workspace/Thyroid_Solid_Nodule/data/preprocess/chenzhou/image/A3B1C2D1E1_17712091620180905THY12820180905161204599V.jpg data is being augmented and 44 data will be created\n"
     ]
    },
    {
     "name": "stderr",
     "output_type": "stream",
     "text": [
      "Processing <PIL.Image.Image image mode=RGB size=1024x768 at 0x7FD2646C0978>: 100%|██████████| 44/44 [00:00<00:00, 53.77 Samples/s]\n",
      "Executing Pipeline:   0%|          | 0/48 [00:00<?, ? Samples/s]"
     ]
    },
    {
     "name": "stdout",
     "output_type": "stream",
     "text": [
      "Done\n",
      "Initialised with 1 image(s) found.\n",
      "Output directory set to /root/workspace/Thyroid_Solid_Nodule/data/preprocess/chenzhou_aug/tmp/image/A3B1C2D1E1_18927520920180912THY13420180912095456117/output.1 ground truth image(s) found.\n",
      "\n",
      "No./root/workspace/Thyroid_Solid_Nodule/data/preprocess/chenzhou/image/A3B1C2D1E1_18927520920180912THY13420180912095456117V.jpg data is being augmented and 48 data will be created\n"
     ]
    },
    {
     "name": "stderr",
     "output_type": "stream",
     "text": [
      "Processing <PIL.Image.Image image mode=RGB size=1024x768 at 0x7FD2646D0668>: 100%|██████████| 48/48 [00:01<00:00, 47.18 Samples/s]                  \n",
      "Executing Pipeline:   0%|          | 0/45 [00:00<?, ? Samples/s]"
     ]
    },
    {
     "name": "stdout",
     "output_type": "stream",
     "text": [
      "Done\n",
      "Initialised with 1 image(s) found.\n",
      "Output directory set to /root/workspace/Thyroid_Solid_Nodule/data/preprocess/chenzhou_aug/tmp/image/A4B1C4D2E1_12THY420180717154308708/output.1 ground truth image(s) found.\n",
      "\n",
      "No./root/workspace/Thyroid_Solid_Nodule/data/preprocess/chenzhou/image/A4B1C4D2E1_12THY420180717154308708V.jpg data is being augmented and 45 data will be created\n"
     ]
    },
    {
     "name": "stderr",
     "output_type": "stream",
     "text": [
      "Processing <PIL.Image.Image image mode=RGB size=1024x768 at 0x7FD2646BD390>: 100%|██████████| 45/45 [00:00<00:00, 51.88 Samples/s]\n",
      "Executing Pipeline:   0%|          | 0/57 [00:00<?, ? Samples/s]"
     ]
    },
    {
     "name": "stdout",
     "output_type": "stream",
     "text": [
      "Done\n",
      "Initialised with 1 image(s) found.\n",
      "Output directory set to /root/workspace/Thyroid_Solid_Nodule/data/preprocess/chenzhou_aug/tmp/image/A4B1C4D2E1_35THY1120180719103749372/output.1 ground truth image(s) found.\n",
      "\n",
      "No./root/workspace/Thyroid_Solid_Nodule/data/preprocess/chenzhou/image/A4B1C4D2E1_35THY1120180719103749372T.jpg data is being augmented and 57 data will be created\n"
     ]
    },
    {
     "name": "stderr",
     "output_type": "stream",
     "text": [
      "Processing <PIL.Image.Image image mode=RGB size=1024x768 at 0x7FD2646AEC88>: 100%|██████████| 57/57 [00:01<00:00, 49.00 Samples/s]                  \n",
      "Executing Pipeline:   0%|          | 0/42 [00:00<?, ? Samples/s]"
     ]
    },
    {
     "name": "stdout",
     "output_type": "stream",
     "text": [
      "Done\n",
      "Initialised with 1 image(s) found.\n",
      "Output directory set to /root/workspace/Thyroid_Solid_Nodule/data/preprocess/chenzhou_aug/tmp/image/A4B1C3D3E4_83THY3620180802160206067/output.1 ground truth image(s) found.\n",
      "\n",
      "No./root/workspace/Thyroid_Solid_Nodule/data/preprocess/chenzhou/image/A4B1C3D3E4_83THY3620180802160206067V.jpg data is being augmented and 42 data will be created\n"
     ]
    },
    {
     "name": "stderr",
     "output_type": "stream",
     "text": [
      "Processing <PIL.Image.Image image mode=RGB size=1024x768 at 0x7FD2646BC668>: 100%|██████████| 42/42 [00:00<00:00, 56.29 Samples/s]                  \n",
      "Executing Pipeline:   0%|          | 0/55 [00:00<?, ? Samples/s]"
     ]
    },
    {
     "name": "stdout",
     "output_type": "stream",
     "text": [
      "Done\n",
      "Initialised with 1 image(s) found.\n",
      "Output directory set to /root/workspace/Thyroid_Solid_Nodule/data/preprocess/chenzhou_aug/tmp/image/A4B1C3D2E1_94THY4020180817101538175/output.1 ground truth image(s) found.\n",
      "\n",
      "No./root/workspace/Thyroid_Solid_Nodule/data/preprocess/chenzhou/image/A4B1C3D2E1_94THY4020180817101538175V.jpg data is being augmented and 55 data will be created\n"
     ]
    },
    {
     "name": "stderr",
     "output_type": "stream",
     "text": [
      "Processing <PIL.Image.Image image mode=RGB size=1024x768 at 0x7FD2646BB0B8>: 100%|██████████| 55/55 [00:00<00:00, 58.64 Samples/s]                  \n",
      "Executing Pipeline:   0%|          | 0/59 [00:00<?, ? Samples/s]"
     ]
    },
    {
     "name": "stdout",
     "output_type": "stream",
     "text": [
      "Done\n",
      "Initialised with 1 image(s) found.\n",
      "Output directory set to /root/workspace/Thyroid_Solid_Nodule/data/preprocess/chenzhou_aug/tmp/image/A4B2C3D1E1_127THY5520180830150554659/output.1 ground truth image(s) found.\n",
      "\n",
      "No./root/workspace/Thyroid_Solid_Nodule/data/preprocess/chenzhou/image/A4B2C3D1E1_127THY5520180830150554659V.jpg data is being augmented and 59 data will be created\n"
     ]
    },
    {
     "name": "stderr",
     "output_type": "stream",
     "text": [
      "Processing <PIL.Image.Image image mode=RGB size=1024x768 at 0x7FD2646BCB70>: 100%|██████████| 59/59 [00:01<00:00, 48.52 Samples/s]                  \n",
      "Executing Pipeline:   0%|          | 0/46 [00:00<?, ? Samples/s]"
     ]
    },
    {
     "name": "stdout",
     "output_type": "stream",
     "text": [
      "Done\n",
      "Initialised with 1 image(s) found.\n",
      "Output directory set to /root/workspace/Thyroid_Solid_Nodule/data/preprocess/chenzhou_aug/tmp/image/A4B1C3D2E1_91THY3720180816083938035/output.1 ground truth image(s) found.\n",
      "\n",
      "No./root/workspace/Thyroid_Solid_Nodule/data/preprocess/chenzhou/image/A4B1C3D2E1_91THY3720180816083938035T.jpg data is being augmented and 46 data will be created\n"
     ]
    },
    {
     "name": "stderr",
     "output_type": "stream",
     "text": [
      "Processing <PIL.Image.Image image mode=RGB size=1024x768 at 0x7FD2646AF080>: 100%|██████████| 46/46 [00:00<00:00, 53.21 Samples/s]\n",
      "Executing Pipeline:   0%|          | 0/42 [00:00<?, ? Samples/s]"
     ]
    },
    {
     "name": "stdout",
     "output_type": "stream",
     "text": [
      "Done\n",
      "Initialised with 1 image(s) found.\n",
      "Output directory set to /root/workspace/Thyroid_Solid_Nodule/data/preprocess/chenzhou_aug/tmp/image/A4B1C4D1E4_17448191420180905THY12620180905142127374/output.1 ground truth image(s) found.\n",
      "\n",
      "No./root/workspace/Thyroid_Solid_Nodule/data/preprocess/chenzhou/image/A4B1C4D1E4_17448191420180905THY12620180905142127374T.jpg data is being augmented and 42 data will be created\n"
     ]
    },
    {
     "name": "stderr",
     "output_type": "stream",
     "text": [
      "Processing <PIL.Image.Image image mode=RGB size=1024x768 at 0x7FD2646AF470>: 100%|██████████| 42/42 [00:00<00:00, 54.05 Samples/s]                  \n",
      "Executing Pipeline:   0%|          | 0/40 [00:00<?, ? Samples/s]"
     ]
    },
    {
     "name": "stdout",
     "output_type": "stream",
     "text": [
      "Done\n",
      "Initialised with 1 image(s) found.\n",
      "Output directory set to /root/workspace/Thyroid_Solid_Nodule/data/preprocess/chenzhou_aug/tmp/image/A1B1C1D1E2_65THY2420180725111056277/output.1 ground truth image(s) found.\n",
      "\n",
      "No./root/workspace/Thyroid_Solid_Nodule/data/preprocess/chenzhou/image/A1B1C1D1E2_65THY2420180725111056277V.jpg data is being augmented and 40 data will be created\n"
     ]
    },
    {
     "name": "stderr",
     "output_type": "stream",
     "text": [
      "Processing <PIL.Image.Image image mode=RGB size=1024x768 at 0x7FD2646916A0>: 100%|██████████| 40/40 [00:00<00:00, 54.14 Samples/s]                  \n",
      "Executing Pipeline:   0%|          | 0/50 [00:00<?, ? Samples/s]"
     ]
    },
    {
     "name": "stdout",
     "output_type": "stream",
     "text": [
      "Done\n",
      "Initialised with 1 image(s) found.\n",
      "Output directory set to /root/workspace/Thyroid_Solid_Nodule/data/preprocess/chenzhou_aug/tmp/image/A4B1C2D1E1_41THY1520180723090848669/output.1 ground truth image(s) found.\n",
      "\n",
      "No./root/workspace/Thyroid_Solid_Nodule/data/preprocess/chenzhou/image/A4B1C2D1E1_41THY1520180723090848669T.jpg data is being augmented and 50 data will be created\n"
     ]
    },
    {
     "name": "stderr",
     "output_type": "stream",
     "text": [
      "Processing <PIL.Image.Image image mode=RGB size=1024x768 at 0x7FD264710DA0>: 100%|██████████| 50/50 [00:00<00:00, 60.73 Samples/s]                  \n",
      "Executing Pipeline:   0%|          | 0/55 [00:00<?, ? Samples/s]"
     ]
    },
    {
     "name": "stdout",
     "output_type": "stream",
     "text": [
      "Done\n",
      "Initialised with 1 image(s) found.\n",
      "Output directory set to /root/workspace/Thyroid_Solid_Nodule/data/preprocess/chenzhou_aug/tmp/image/A4B2C3D2E4_58THY2120180724082856596/output.1 ground truth image(s) found.\n",
      "\n",
      "No./root/workspace/Thyroid_Solid_Nodule/data/preprocess/chenzhou/image/A4B2C3D2E4_58THY2120180724082856596T.jpg data is being augmented and 55 data will be created\n"
     ]
    },
    {
     "name": "stderr",
     "output_type": "stream",
     "text": [
      "Processing <PIL.Image.Image image mode=RGB size=1024x768 at 0x7FD2646757F0>: 100%|██████████| 55/55 [00:00<00:00, 56.07 Samples/s]                  \n",
      "Executing Pipeline:   0%|          | 0/54 [00:00<?, ? Samples/s]"
     ]
    },
    {
     "name": "stdout",
     "output_type": "stream",
     "text": [
      "Done\n",
      "Initialised with 1 image(s) found.\n",
      "Output directory set to /root/workspace/Thyroid_Solid_Nodule/data/preprocess/chenzhou_aug/tmp/image/A4B1C4D1E1_17348191420180905THY12620180905142013941/output.1 ground truth image(s) found.\n",
      "\n",
      "No./root/workspace/Thyroid_Solid_Nodule/data/preprocess/chenzhou/image/A4B1C4D1E1_17348191420180905THY12620180905142013941T.jpg data is being augmented and 54 data will be created\n"
     ]
    },
    {
     "name": "stderr",
     "output_type": "stream",
     "text": [
      "Processing <PIL.JpegImagePlugin.JpegImageFile image mode=RGB size=1024x768 at 0x7FD264622C50>: 100%|██████████| 54/54 [00:01<00:00, 51.91 Samples/s]\n",
      "Executing Pipeline:   0%|          | 0/47 [00:00<?, ? Samples/s]"
     ]
    },
    {
     "name": "stdout",
     "output_type": "stream",
     "text": [
      "Done\n",
      "Initialised with 1 image(s) found.\n",
      "Output directory set to /root/workspace/Thyroid_Solid_Nodule/data/preprocess/chenzhou_aug/tmp/image/A4B1C2D1E1_15422141520180813THY11420180813151442568/output.1 ground truth image(s) found.\n",
      "\n",
      "No./root/workspace/Thyroid_Solid_Nodule/data/preprocess/chenzhou/image/A4B1C2D1E1_15422141520180813THY11420180813151442568T.jpg data is being augmented and 47 data will be created\n"
     ]
    },
    {
     "name": "stderr",
     "output_type": "stream",
     "text": [
      "Processing <PIL.Image.Image image mode=RGB size=1024x768 at 0x7FD264710630>: 100%|██████████| 47/47 [00:00<00:00, 52.12 Samples/s]\n",
      "Executing Pipeline:   0%|          | 0/52 [00:00<?, ? Samples/s]"
     ]
    },
    {
     "name": "stdout",
     "output_type": "stream",
     "text": [
      "Done\n",
      "Initialised with 1 image(s) found.\n",
      "Output directory set to /root/workspace/Thyroid_Solid_Nodule/data/preprocess/chenzhou_aug/tmp/image/A4B1C3D4E4_19207201120180913THY13720180913112036774/output.1 ground truth image(s) found.\n",
      "\n",
      "No./root/workspace/Thyroid_Solid_Nodule/data/preprocess/chenzhou/image/A4B1C3D4E4_19207201120180913THY13720180913112036774T.jpg data is being augmented and 52 data will be created\n"
     ]
    },
    {
     "name": "stderr",
     "output_type": "stream",
     "text": [
      "Processing <PIL.Image.Image image mode=RGB size=1024x768 at 0x7FD264626198>: 100%|██████████| 52/52 [00:00<00:00, 55.72 Samples/s]                 \n",
      "Executing Pipeline:   0%|          | 0/44 [00:00<?, ? Samples/s]"
     ]
    },
    {
     "name": "stdout",
     "output_type": "stream",
     "text": [
      "Done\n",
      "Initialised with 1 image(s) found.\n",
      "Output directory set to /root/workspace/Thyroid_Solid_Nodule/data/preprocess/chenzhou_aug/tmp/image/A4B1C3D2E1_18125311120180906THY13020180906113306726/output.1 ground truth image(s) found.\n",
      "\n",
      "No./root/workspace/Thyroid_Solid_Nodule/data/preprocess/chenzhou/image/A4B1C3D2E1_18125311120180906THY13020180906113306726T.jpg data is being augmented and 44 data will be created\n"
     ]
    },
    {
     "name": "stderr",
     "output_type": "stream",
     "text": [
      "Processing <PIL.Image.Image image mode=RGB size=1024x768 at 0x7FD2646226A0>: 100%|██████████| 44/44 [00:00<00:00, 48.91 Samples/s]                  \n",
      "Executing Pipeline:   0%|          | 0/60 [00:00<?, ? Samples/s]"
     ]
    },
    {
     "name": "stdout",
     "output_type": "stream",
     "text": [
      "Done\n",
      "Initialised with 1 image(s) found.\n",
      "Output directory set to /root/workspace/Thyroid_Solid_Nodule/data/preprocess/chenzhou_aug/tmp/image/A3B1C3D1E1_14THY420180717154543745/output.1 ground truth image(s) found.\n",
      "\n",
      "No./root/workspace/Thyroid_Solid_Nodule/data/preprocess/chenzhou/image/A3B1C3D1E1_14THY420180717154543745V.jpg data is being augmented and 60 data will be created\n"
     ]
    },
    {
     "name": "stderr",
     "output_type": "stream",
     "text": [
      "Processing <PIL.Image.Image image mode=RGB size=1024x768 at 0x7FD2646BC7B8>: 100%|██████████| 60/60 [00:01<00:00, 59.58 Samples/s]                  \n",
      "Executing Pipeline:   0%|          | 0/40 [00:00<?, ? Samples/s]"
     ]
    },
    {
     "name": "stdout",
     "output_type": "stream",
     "text": [
      "Done\n",
      "Initialised with 1 image(s) found.\n",
      "Output directory set to /root/workspace/Thyroid_Solid_Nodule/data/preprocess/chenzhou_aug/tmp/image/A2B1C3D1E1_5THY22018071709311012/output.1 ground truth image(s) found.\n",
      "\n",
      "No./root/workspace/Thyroid_Solid_Nodule/data/preprocess/chenzhou/image/A2B1C3D1E1_5THY220180717093110125.jpg data is being augmented and 40 data will be created\n"
     ]
    },
    {
     "name": "stderr",
     "output_type": "stream",
     "text": [
      "Processing <PIL.Image.Image image mode=RGB size=1024x768 at 0x7FD264698550>: 100%|██████████| 40/40 [00:00<00:00, 60.38 Samples/s]                 \n",
      "Executing Pipeline:   0%|          | 0/59 [00:00<?, ? Samples/s]"
     ]
    },
    {
     "name": "stdout",
     "output_type": "stream",
     "text": [
      "Done\n",
      "Initialised with 1 image(s) found.\n",
      "Output directory set to /root/workspace/Thyroid_Solid_Nodule/data/preprocess/chenzhou_aug/tmp/image/A4B1C4D1E1_17448191420180905THY12620180905142132295/output.1 ground truth image(s) found.\n",
      "\n",
      "No./root/workspace/Thyroid_Solid_Nodule/data/preprocess/chenzhou/image/A4B1C4D1E1_17448191420180905THY12620180905142132295V.jpg data is being augmented and 59 data will be created\n"
     ]
    },
    {
     "name": "stderr",
     "output_type": "stream",
     "text": [
      "Processing <PIL.Image.Image image mode=RGB size=1024x768 at 0x7FD264698EB8>: 100%|██████████| 59/59 [00:01<00:00, 54.71 Samples/s]                  \n",
      "Executing Pipeline:   0%|          | 0/55 [00:00<?, ? Samples/s]"
     ]
    },
    {
     "name": "stdout",
     "output_type": "stream",
     "text": [
      "Done\n",
      "Initialised with 1 image(s) found.\n",
      "Output directory set to /root/workspace/Thyroid_Solid_Nodule/data/preprocess/chenzhou_aug/tmp/image/A4B1C4D3E4_17125011620180904THY12420180904160257193/output.1 ground truth image(s) found.\n",
      "\n",
      "No./root/workspace/Thyroid_Solid_Nodule/data/preprocess/chenzhou/image/A4B1C4D3E4_17125011620180904THY12420180904160257193V.jpg data is being augmented and 55 data will be created\n"
     ]
    },
    {
     "name": "stderr",
     "output_type": "stream",
     "text": [
      "Processing <PIL.Image.Image image mode=RGB size=1024x768 at 0x7FD2646BBFD0>: 100%|██████████| 55/55 [00:00<00:00, 64.05 Samples/s]\n",
      "Executing Pipeline:   0%|          | 0/43 [00:00<?, ? Samples/s]"
     ]
    },
    {
     "name": "stdout",
     "output_type": "stream",
     "text": [
      "Done\n",
      "Initialised with 1 image(s) found.\n",
      "Output directory set to /root/workspace/Thyroid_Solid_Nodule/data/preprocess/chenzhou_aug/tmp/image/A4B1C4D4E1_37THY1220180720110535957/output.1 ground truth image(s) found.\n",
      "\n",
      "No./root/workspace/Thyroid_Solid_Nodule/data/preprocess/chenzhou/image/A4B1C4D4E1_37THY1220180720110535957T.jpg data is being augmented and 43 data will be created\n"
     ]
    },
    {
     "name": "stderr",
     "output_type": "stream",
     "text": [
      "Processing <PIL.Image.Image image mode=RGB size=1024x768 at 0x7FD2646D1828>: 100%|██████████| 43/43 [00:00<00:00, 47.77 Samples/s]\n",
      "Executing Pipeline:   0%|          | 0/59 [00:00<?, ? Samples/s]"
     ]
    },
    {
     "name": "stdout",
     "output_type": "stream",
     "text": [
      "Done\n",
      "Initialised with 1 image(s) found.\n",
      "Output directory set to /root/workspace/Thyroid_Solid_Nodule/data/preprocess/chenzhou_aug/tmp/image/A4B1C3D1E1_31THY1020180719095438431/output.1 ground truth image(s) found.\n",
      "\n",
      "No./root/workspace/Thyroid_Solid_Nodule/data/preprocess/chenzhou/image/A4B1C3D1E1_31THY1020180719095438431T.jpg data is being augmented and 59 data will be created\n"
     ]
    },
    {
     "name": "stderr",
     "output_type": "stream",
     "text": [
      "Processing <PIL.Image.Image image mode=RGB size=1024x768 at 0x7FD264698FD0>: 100%|██████████| 59/59 [00:01<00:00, 46.93 Samples/s]                  \n",
      "Executing Pipeline:   0%|          | 0/52 [00:00<?, ? Samples/s]"
     ]
    },
    {
     "name": "stdout",
     "output_type": "stream",
     "text": [
      "Done\n",
      "Initialised with 1 image(s) found.\n",
      "Output directory set to /root/workspace/Thyroid_Solid_Nodule/data/preprocess/chenzhou_aug/tmp/image/A4B2C4D1E1_7THY32018071710371043/output.1 ground truth image(s) found.\n",
      "\n",
      "No./root/workspace/Thyroid_Solid_Nodule/data/preprocess/chenzhou/image/A4B2C4D1E1_7THY320180717103710433.jpg data is being augmented and 52 data will be created\n"
     ]
    },
    {
     "name": "stderr",
     "output_type": "stream",
     "text": [
      "Processing <PIL.Image.Image image mode=RGB size=1024x768 at 0x7FD2646263C8>: 100%|██████████| 52/52 [00:00<00:00, 60.90 Samples/s]                  \n",
      "Executing Pipeline:   0%|          | 0/47 [00:00<?, ? Samples/s]"
     ]
    },
    {
     "name": "stdout",
     "output_type": "stream",
     "text": [
      "Done\n",
      "Initialised with 1 image(s) found.\n",
      "Output directory set to /root/workspace/Thyroid_Solid_Nodule/data/preprocess/chenzhou_aug/tmp/image/A4B2C4D2E1_14939310820180803THY11120180803083209135/output.1 ground truth image(s) found.\n",
      "\n",
      "No./root/workspace/Thyroid_Solid_Nodule/data/preprocess/chenzhou/image/A4B2C4D2E1_14939310820180803THY11120180803083209135T.jpg data is being augmented and 47 data will be created\n"
     ]
    },
    {
     "name": "stderr",
     "output_type": "stream",
     "text": [
      "Processing <PIL.Image.Image image mode=RGB size=1024x768 at 0x7FD2646D1EB8>: 100%|██████████| 47/47 [00:01<00:00, 45.95 Samples/s]\n",
      "Executing Pipeline:   0%|          | 0/47 [00:00<?, ? Samples/s]"
     ]
    },
    {
     "name": "stdout",
     "output_type": "stream",
     "text": [
      "Done\n",
      "Initialised with 1 image(s) found.\n",
      "Output directory set to /root/workspace/Thyroid_Solid_Nodule/data/preprocess/chenzhou_aug/tmp/image/A4B1C2D1E1_122THY5220180830104407094/output.1 ground truth image(s) found.\n",
      "\n",
      "No./root/workspace/Thyroid_Solid_Nodule/data/preprocess/chenzhou/image/A4B1C2D1E1_122THY5220180830104407094V.jpg data is being augmented and 47 data will be created\n"
     ]
    },
    {
     "name": "stderr",
     "output_type": "stream",
     "text": [
      "Processing <PIL.Image.Image image mode=RGB size=1024x768 at 0x7FD2646D1EF0>: 100%|██████████| 47/47 [00:00<00:00, 57.47 Samples/s]                 \n",
      "Executing Pipeline:   0%|          | 0/42 [00:00<?, ? Samples/s]"
     ]
    },
    {
     "name": "stdout",
     "output_type": "stream",
     "text": [
      "Done\n",
      "Initialised with 1 image(s) found.\n",
      "Output directory set to /root/workspace/Thyroid_Solid_Nodule/data/preprocess/chenzhou_aug/tmp/image/A4B1C3D1E1_60THY2220180724105557745/output.1 ground truth image(s) found.\n",
      "\n",
      "No./root/workspace/Thyroid_Solid_Nodule/data/preprocess/chenzhou/image/A4B1C3D1E1_60THY2220180724105557745V.jpg data is being augmented and 42 data will be created\n"
     ]
    },
    {
     "name": "stderr",
     "output_type": "stream",
     "text": [
      "Processing <PIL.JpegImagePlugin.JpegImageFile image mode=RGB size=1024x768 at 0x7FD264626550>: 100%|██████████| 42/42 [00:00<00:00, 54.39 Samples/s]\n",
      "Executing Pipeline:   0%|          | 0/52 [00:00<?, ? Samples/s]"
     ]
    },
    {
     "name": "stdout",
     "output_type": "stream",
     "text": [
      "Done\n",
      "Initialised with 1 image(s) found.\n",
      "Output directory set to /root/workspace/Thyroid_Solid_Nodule/data/preprocess/chenzhou_aug/tmp/image/A4B1C4D3E4_82THY3520180802154718017/output.1 ground truth image(s) found.\n",
      "\n",
      "No./root/workspace/Thyroid_Solid_Nodule/data/preprocess/chenzhou/image/A4B1C4D3E4_82THY3520180802154718017V.jpg data is being augmented and 52 data will be created\n"
     ]
    },
    {
     "name": "stderr",
     "output_type": "stream",
     "text": [
      "Processing <PIL.Image.Image image mode=RGB size=1024x768 at 0x7FD264698EB8>: 100%|██████████| 52/52 [00:00<00:00, 54.25 Samples/s]                  \n",
      "Executing Pipeline:   0%|          | 0/57 [00:00<?, ? Samples/s]"
     ]
    },
    {
     "name": "stdout",
     "output_type": "stream",
     "text": [
      "Done\n",
      "Initialised with 1 image(s) found.\n",
      "Output directory set to /root/workspace/Thyroid_Solid_Nodule/data/preprocess/chenzhou_aug/tmp/image/A4B1C4D3E4_82THY3520180802154659070/output.1 ground truth image(s) found.\n",
      "\n",
      "No./root/workspace/Thyroid_Solid_Nodule/data/preprocess/chenzhou/image/A4B1C4D3E4_82THY3520180802154659070T.jpg data is being augmented and 57 data will be created\n"
     ]
    },
    {
     "name": "stderr",
     "output_type": "stream",
     "text": [
      "Processing <PIL.Image.Image image mode=RGB size=1024x768 at 0x7FD2646D70B8>: 100%|██████████| 57/57 [00:01<00:00, 56.87 Samples/s]                 \n",
      "Executing Pipeline:   0%|          | 0/59 [00:00<?, ? Samples/s]"
     ]
    },
    {
     "name": "stdout",
     "output_type": "stream",
     "text": [
      "Done\n",
      "Initialised with 1 image(s) found.\n",
      "Output directory set to /root/workspace/Thyroid_Solid_Nodule/data/preprocess/chenzhou_aug/tmp/image/A4B2C3D1E4_16226411420180815THY11920180815150128697/output.1 ground truth image(s) found.\n",
      "\n",
      "No./root/workspace/Thyroid_Solid_Nodule/data/preprocess/chenzhou/image/A4B2C3D1E4_16226411420180815THY11920180815150128697T.jpg data is being augmented and 59 data will be created\n"
     ]
    },
    {
     "name": "stderr",
     "output_type": "stream",
     "text": [
      "Processing <PIL.Image.Image image mode=RGB size=1024x768 at 0x7FD2646AFCC0>: 100%|██████████| 59/59 [00:00<00:00, 59.97 Samples/s]                  \n",
      "Executing Pipeline:   0%|          | 0/56 [00:00<?, ? Samples/s]"
     ]
    },
    {
     "name": "stdout",
     "output_type": "stream",
     "text": [
      "Done\n",
      "Initialised with 1 image(s) found.\n",
      "Output directory set to /root/workspace/Thyroid_Solid_Nodule/data/preprocess/chenzhou_aug/tmp/image/A4B1C3D1E2_73THY282018072708182207/output.1 ground truth image(s) found.\n",
      "\n",
      "No./root/workspace/Thyroid_Solid_Nodule/data/preprocess/chenzhou/image/A4B1C3D1E2_73THY2820180727081822074.jpg data is being augmented and 56 data will be created\n"
     ]
    },
    {
     "name": "stderr",
     "output_type": "stream",
     "text": [
      "Processing <PIL.Image.Image image mode=RGB size=1024x768 at 0x7FD26462CFD0>: 100%|██████████| 56/56 [00:01<00:00, 50.04 Samples/s]\n",
      "Executing Pipeline:   0%|          | 0/60 [00:00<?, ? Samples/s]"
     ]
    },
    {
     "name": "stdout",
     "output_type": "stream",
     "text": [
      "Done\n",
      "Initialised with 1 image(s) found.\n",
      "Output directory set to /root/workspace/Thyroid_Solid_Nodule/data/preprocess/chenzhou_aug/tmp/image/A4B1C3D1E1_74THY2920180727085825814/output.1 ground truth image(s) found.\n",
      "\n",
      "No./root/workspace/Thyroid_Solid_Nodule/data/preprocess/chenzhou/image/A4B1C3D1E1_74THY2920180727085825814V.jpg data is being augmented and 60 data will be created\n"
     ]
    },
    {
     "name": "stderr",
     "output_type": "stream",
     "text": [
      "Processing <PIL.Image.Image image mode=RGB size=1024x768 at 0x7FD2646D1A90>: 100%|██████████| 60/60 [00:01<00:00, 55.62 Samples/s]                  \n",
      "Executing Pipeline:   0%|          | 0/40 [00:00<?, ? Samples/s]"
     ]
    },
    {
     "name": "stdout",
     "output_type": "stream",
     "text": [
      "Done\n",
      "Initialised with 1 image(s) found.\n",
      "Output directory set to /root/workspace/Thyroid_Solid_Nodule/data/preprocess/chenzhou_aug/tmp/image/A4B2C3D1E1_125THY542018083011302567/output.1 ground truth image(s) found.\n",
      "\n",
      "No./root/workspace/Thyroid_Solid_Nodule/data/preprocess/chenzhou/image/A4B2C3D1E1_125THY5420180830113025675.jpg data is being augmented and 40 data will be created\n"
     ]
    },
    {
     "name": "stderr",
     "output_type": "stream",
     "text": [
      "Processing <PIL.Image.Image image mode=RGB size=1024x768 at 0x7FD264626400>: 100%|██████████| 40/40 [00:00<00:00, 54.66 Samples/s]                  \n",
      "Executing Pipeline:   0%|          | 0/42 [00:00<?, ? Samples/s]"
     ]
    },
    {
     "name": "stdout",
     "output_type": "stream",
     "text": [
      "Done\n",
      "Initialised with 1 image(s) found.\n",
      "Output directory set to /root/workspace/Thyroid_Solid_Nodule/data/preprocess/chenzhou_aug/tmp/image/A4B1C3D2E1_20951051020181015THY15220181015100713344/output.1 ground truth image(s) found.\n",
      "\n",
      "No./root/workspace/Thyroid_Solid_Nodule/data/preprocess/chenzhou/image/A4B1C3D2E1_20951051020181015THY15220181015100713344T.jpg data is being augmented and 42 data will be created\n"
     ]
    },
    {
     "name": "stderr",
     "output_type": "stream",
     "text": [
      "Processing <PIL.Image.Image image mode=RGB size=1024x768 at 0x7FD2646D16D8>: 100%|██████████| 42/42 [00:00<00:00, 50.24 Samples/s]                  \n",
      "Executing Pipeline:   0%|          | 0/50 [00:00<?, ? Samples/s]"
     ]
    },
    {
     "name": "stdout",
     "output_type": "stream",
     "text": [
      "Done\n",
      "Initialised with 1 image(s) found.\n",
      "Output directory set to /root/workspace/Thyroid_Solid_Nodule/data/preprocess/chenzhou_aug/tmp/image/A1B1C1D1E1_70THY2620180726100350642/output.1 ground truth image(s) found.\n",
      "\n",
      "No./root/workspace/Thyroid_Solid_Nodule/data/preprocess/chenzhou/image/A1B1C1D1E1_70THY2620180726100350642V.jpg data is being augmented and 50 data will be created\n"
     ]
    },
    {
     "name": "stderr",
     "output_type": "stream",
     "text": [
      "Processing <PIL.Image.Image image mode=RGB size=1024x768 at 0x7FD264626B70>: 100%|██████████| 50/50 [00:00<00:00, 53.77 Samples/s]                  \n",
      "Executing Pipeline:   0%|          | 0/49 [00:00<?, ? Samples/s]"
     ]
    },
    {
     "name": "stdout",
     "output_type": "stream",
     "text": [
      "Done\n",
      "Initialised with 1 image(s) found.\n",
      "Output directory set to /root/workspace/Thyroid_Solid_Nodule/data/preprocess/chenzhou_aug/tmp/image/A4B1C3D1E1_60THY2220180724105531207/output.1 ground truth image(s) found.\n",
      "\n",
      "No./root/workspace/Thyroid_Solid_Nodule/data/preprocess/chenzhou/image/A4B1C3D1E1_60THY2220180724105531207T.jpg data is being augmented and 49 data will be created\n"
     ]
    },
    {
     "name": "stderr",
     "output_type": "stream",
     "text": [
      "Processing <PIL.Image.Image image mode=RGB size=1024x768 at 0x7FD264698F28>: 100%|██████████| 49/49 [00:00<00:00, 58.04 Samples/s]                  \n",
      "Executing Pipeline:   0%|          | 0/41 [00:00<?, ? Samples/s]"
     ]
    },
    {
     "name": "stdout",
     "output_type": "stream",
     "text": [
      "Done\n",
      "Initialised with 1 image(s) found.\n",
      "Output directory set to /root/workspace/Thyroid_Solid_Nodule/data/preprocess/chenzhou_aug/tmp/image/A3B1C2D1E1_19643351520181009THY14220181009153700905/output.1 ground truth image(s) found.\n",
      "\n",
      "No./root/workspace/Thyroid_Solid_Nodule/data/preprocess/chenzhou/image/A3B1C2D1E1_19643351520181009THY14220181009153700905T.jpg data is being augmented and 41 data will be created\n"
     ]
    },
    {
     "name": "stderr",
     "output_type": "stream",
     "text": [
      "Processing <PIL.Image.Image image mode=RGB size=1024x768 at 0x7FD2646BB780>: 100%|██████████| 41/41 [00:00<00:00, 51.97 Samples/s]                  \n",
      "Executing Pipeline:   0%|          | 0/59 [00:00<?, ? Samples/s]"
     ]
    },
    {
     "name": "stdout",
     "output_type": "stream",
     "text": [
      "Done\n",
      "Initialised with 1 image(s) found.\n",
      "Output directory set to /root/workspace/Thyroid_Solid_Nodule/data/preprocess/chenzhou_aug/tmp/image/A1B1C1D1E1_70THY2620180726100359152/output.1 ground truth image(s) found.\n",
      "\n",
      "No./root/workspace/Thyroid_Solid_Nodule/data/preprocess/chenzhou/image/A1B1C1D1E1_70THY2620180726100359152T.jpg data is being augmented and 59 data will be created\n"
     ]
    },
    {
     "name": "stderr",
     "output_type": "stream",
     "text": [
      "Processing <PIL.Image.Image image mode=RGB size=1024x768 at 0x7FD2647109E8>: 100%|██████████| 59/59 [00:01<00:00, 57.02 Samples/s]                  \n",
      "Executing Pipeline:   0%|          | 0/42 [00:00<?, ? Samples/s]"
     ]
    },
    {
     "name": "stdout",
     "output_type": "stream",
     "text": [
      "Done\n",
      "Initialised with 1 image(s) found.\n",
      "Output directory set to /root/workspace/Thyroid_Solid_Nodule/data/preprocess/chenzhou_aug/tmp/image/A3B1C2D1E1_16720460820180903THY12220180903085041081/output.1 ground truth image(s) found.\n",
      "\n",
      "No./root/workspace/Thyroid_Solid_Nodule/data/preprocess/chenzhou/image/A3B1C2D1E1_16720460820180903THY12220180903085041081T.jpg data is being augmented and 42 data will be created\n"
     ]
    },
    {
     "name": "stderr",
     "output_type": "stream",
     "text": [
      "Processing <PIL.Image.Image image mode=RGB size=1024x768 at 0x7FD2646BB5C0>: 100%|██████████| 42/42 [00:00<00:00, 56.56 Samples/s]                  \n",
      "Executing Pipeline:   0%|          | 0/46 [00:00<?, ? Samples/s]"
     ]
    },
    {
     "name": "stdout",
     "output_type": "stream",
     "text": [
      "Done\n",
      "Initialised with 1 image(s) found.\n",
      "Output directory set to /root/workspace/Thyroid_Solid_Nodule/data/preprocess/chenzhou_aug/tmp/image/A4B2C4D2E1_15900171120180814THY11720180814111743296/output.1 ground truth image(s) found.\n",
      "\n",
      "No./root/workspace/Thyroid_Solid_Nodule/data/preprocess/chenzhou/image/A4B2C4D2E1_15900171120180814THY11720180814111743296T.jpg data is being augmented and 46 data will be created\n"
     ]
    },
    {
     "name": "stderr",
     "output_type": "stream",
     "text": [
      "Processing <PIL.Image.Image image mode=RGB size=1024x768 at 0x7FD2646BBD68>: 100%|██████████| 46/46 [00:00<00:00, 46.20 Samples/s]\n",
      "Executing Pipeline:   0%|          | 0/46 [00:00<?, ? Samples/s]"
     ]
    },
    {
     "name": "stdout",
     "output_type": "stream",
     "text": [
      "Done\n",
      "Initialised with 1 image(s) found.\n",
      "Output directory set to /root/workspace/Thyroid_Solid_Nodule/data/preprocess/chenzhou_aug/tmp/image/A4B1C4D1E1_25THY620180718090123391/output.1 ground truth image(s) found.\n",
      "\n",
      "No./root/workspace/Thyroid_Solid_Nodule/data/preprocess/chenzhou/image/A4B1C4D1E1_25THY620180718090123391T.jpg data is being augmented and 46 data will be created\n"
     ]
    },
    {
     "name": "stderr",
     "output_type": "stream",
     "text": [
      "Processing <PIL.Image.Image image mode=RGB size=1024x768 at 0x7FD2646D0898>: 100%|██████████| 46/46 [00:00<00:00, 54.95 Samples/s]                  \n",
      "Executing Pipeline:   0%|          | 0/53 [00:00<?, ? Samples/s]"
     ]
    },
    {
     "name": "stdout",
     "output_type": "stream",
     "text": [
      "Done\n",
      "Initialised with 1 image(s) found.\n",
      "Output directory set to /root/workspace/Thyroid_Solid_Nodule/data/preprocess/chenzhou_aug/tmp/image/A4B1C2D1E1_18312221420180907THY13120180907142312979/output.1 ground truth image(s) found.\n",
      "\n",
      "No./root/workspace/Thyroid_Solid_Nodule/data/preprocess/chenzhou/image/A4B1C2D1E1_18312221420180907THY13120180907142312979T.jpg data is being augmented and 53 data will be created\n"
     ]
    },
    {
     "name": "stderr",
     "output_type": "stream",
     "text": [
      "Processing <PIL.Image.Image image mode=RGB size=1024x768 at 0x7FD2646AFDA0>: 100%|██████████| 53/53 [00:00<00:00, 61.74 Samples/s]                  \n",
      "Executing Pipeline:   0%|          | 0/50 [00:00<?, ? Samples/s]"
     ]
    },
    {
     "name": "stdout",
     "output_type": "stream",
     "text": [
      "Done\n",
      "Initialised with 1 image(s) found.\n",
      "Output directory set to /root/workspace/Thyroid_Solid_Nodule/data/preprocess/chenzhou_aug/tmp/image/A3B1C2D1E1_17712091620180905THY12820180905161142272/output.1 ground truth image(s) found.\n",
      "\n",
      "No./root/workspace/Thyroid_Solid_Nodule/data/preprocess/chenzhou/image/A3B1C2D1E1_17712091620180905THY12820180905161142272T.jpg data is being augmented and 50 data will be created\n"
     ]
    },
    {
     "name": "stderr",
     "output_type": "stream",
     "text": [
      "Processing <PIL.Image.Image image mode=RGB size=1024x768 at 0x7FD2646985F8>: 100%|██████████| 50/50 [00:00<00:00, 56.13 Samples/s]                  \n",
      "Executing Pipeline:   0%|          | 0/54 [00:00<?, ? Samples/s]"
     ]
    },
    {
     "name": "stdout",
     "output_type": "stream",
     "text": [
      "Done\n",
      "Initialised with 1 image(s) found.\n",
      "Output directory set to /root/workspace/Thyroid_Solid_Nodule/data/preprocess/chenzhou_aug/tmp/image/A4B1C3D1E1_19715021020181010THY14320181010100227611/output.1 ground truth image(s) found.\n",
      "\n",
      "No./root/workspace/Thyroid_Solid_Nodule/data/preprocess/chenzhou/image/A4B1C3D1E1_19715021020181010THY14320181010100227611T.jpg data is being augmented and 54 data will be created\n"
     ]
    },
    {
     "name": "stderr",
     "output_type": "stream",
     "text": [
      "Processing <PIL.Image.Image image mode=RGB size=1024x768 at 0x7FD26464BBE0>: 100%|██████████| 54/54 [00:01<00:00, 52.64 Samples/s]                  \n",
      "Executing Pipeline:   0%|          | 0/50 [00:00<?, ? Samples/s]"
     ]
    },
    {
     "name": "stdout",
     "output_type": "stream",
     "text": [
      "Done\n",
      "Initialised with 1 image(s) found.\n",
      "Output directory set to /root/workspace/Thyroid_Solid_Nodule/data/preprocess/chenzhou_aug/tmp/image/A4B1C2D2E1_15547281620180813THY11520180813163016642/output.1 ground truth image(s) found.\n",
      "\n",
      "No./root/workspace/Thyroid_Solid_Nodule/data/preprocess/chenzhou/image/A4B1C2D2E1_15547281620180813THY11520180813163016642V.jpg data is being augmented and 50 data will be created\n"
     ]
    },
    {
     "name": "stderr",
     "output_type": "stream",
     "text": [
      "Processing <PIL.Image.Image image mode=RGB size=1024x768 at 0x7FD2646D0208>: 100%|██████████| 50/50 [00:01<00:00, 48.88 Samples/s]                  \n",
      "Executing Pipeline:   0%|          | 0/56 [00:00<?, ? Samples/s]"
     ]
    },
    {
     "name": "stdout",
     "output_type": "stream",
     "text": [
      "Done\n",
      "Initialised with 1 image(s) found.\n",
      "Output directory set to /root/workspace/Thyroid_Solid_Nodule/data/preprocess/chenzhou_aug/tmp/image/A4B2C3D4E1_99THY432018082015181800/output.1 ground truth image(s) found.\n",
      "\n",
      "No./root/workspace/Thyroid_Solid_Nodule/data/preprocess/chenzhou/image/A4B2C3D4E1_99THY4320180820151818000.jpg data is being augmented and 56 data will be created\n"
     ]
    },
    {
     "name": "stderr",
     "output_type": "stream",
     "text": [
      "Processing <PIL.Image.Image image mode=RGB size=1024x768 at 0x7FD2646D0CC0>: 100%|██████████| 56/56 [00:01<00:00, 48.69 Samples/s]\n",
      "Executing Pipeline:   0%|          | 0/55 [00:00<?, ? Samples/s]"
     ]
    },
    {
     "name": "stdout",
     "output_type": "stream",
     "text": [
      "Done\n",
      "Initialised with 1 image(s) found.\n",
      "Output directory set to /root/workspace/Thyroid_Solid_Nodule/data/preprocess/chenzhou_aug/tmp/image/A4B1C4D2E1_14149370920180801THY10062018080109392048/output.1 ground truth image(s) found.\n",
      "\n",
      "No./root/workspace/Thyroid_Solid_Nodule/data/preprocess/chenzhou/image/A4B1C4D2E1_14149370920180801THY100620180801093920486.jpg data is being augmented and 55 data will be created\n"
     ]
    },
    {
     "name": "stderr",
     "output_type": "stream",
     "text": [
      "Processing <PIL.Image.Image image mode=RGB size=1024x768 at 0x7FD2646357B8>: 100%|██████████| 55/55 [00:00<00:00, 58.47 Samples/s]                  \n",
      "Executing Pipeline:   0%|          | 0/56 [00:00<?, ? Samples/s]"
     ]
    },
    {
     "name": "stdout",
     "output_type": "stream",
     "text": [
      "Done\n",
      "Initialised with 1 image(s) found.\n",
      "Output directory set to /root/workspace/Thyroid_Solid_Nodule/data/preprocess/chenzhou_aug/tmp/image/A4B1C2D2E2_18612221420180907THY13120180907142535792/output.1 ground truth image(s) found.\n",
      "\n",
      "No./root/workspace/Thyroid_Solid_Nodule/data/preprocess/chenzhou/image/A4B1C2D2E2_18612221420180907THY13120180907142535792V.jpg data is being augmented and 56 data will be created\n"
     ]
    },
    {
     "name": "stderr",
     "output_type": "stream",
     "text": [
      "Processing <PIL.Image.Image image mode=RGB size=1024x768 at 0x7FD264638B38>: 100%|██████████| 56/56 [00:01<00:00, 51.81 Samples/s]\n",
      "Executing Pipeline:   0%|          | 0/54 [00:00<?, ? Samples/s]"
     ]
    },
    {
     "name": "stdout",
     "output_type": "stream",
     "text": [
      "Done\n",
      "Initialised with 1 image(s) found.\n",
      "Output directory set to /root/workspace/Thyroid_Solid_Nodule/data/preprocess/chenzhou_aug/tmp/image/A4B1C3D2E4_20737380920181105THY15220181105093920028/output.1 ground truth image(s) found.\n",
      "\n",
      "No./root/workspace/Thyroid_Solid_Nodule/data/preprocess/chenzhou/image/A4B1C3D2E4_20737380920181105THY15220181105093920028T.jpg data is being augmented and 54 data will be created\n"
     ]
    },
    {
     "name": "stderr",
     "output_type": "stream",
     "text": [
      "Processing <PIL.Image.Image image mode=RGB size=1024x768 at 0x7FD2646D0048>: 100%|██████████| 54/54 [00:00<00:00, 54.26 Samples/s]                  \n",
      "Executing Pipeline:   0%|          | 0/53 [00:00<?, ? Samples/s]"
     ]
    },
    {
     "name": "stdout",
     "output_type": "stream",
     "text": [
      "Done\n",
      "Initialised with 1 image(s) found.\n",
      "Output directory set to /root/workspace/Thyroid_Solid_Nodule/data/preprocess/chenzhou_aug/tmp/image/A4B2C3D3E1_132THY5720180831150744088/output.1 ground truth image(s) found.\n",
      "\n",
      "No./root/workspace/Thyroid_Solid_Nodule/data/preprocess/chenzhou/image/A4B2C3D3E1_132THY5720180831150744088V.jpg data is being augmented and 53 data will be created\n"
     ]
    },
    {
     "name": "stderr",
     "output_type": "stream",
     "text": [
      "Processing <PIL.Image.Image image mode=RGB size=1024x768 at 0x7FD264691470>: 100%|██████████| 53/53 [00:00<00:00, 54.28 Samples/s]                  \n",
      "Executing Pipeline:   0%|          | 0/56 [00:00<?, ? Samples/s]"
     ]
    },
    {
     "name": "stdout",
     "output_type": "stream",
     "text": [
      "Done\n",
      "Initialised with 1 image(s) found.\n",
      "Output directory set to /root/workspace/Thyroid_Solid_Nodule/data/preprocess/chenzhou_aug/tmp/image/A4B2C3D1E1_127THY5520180830150526606/output.1 ground truth image(s) found.\n",
      "\n",
      "No./root/workspace/Thyroid_Solid_Nodule/data/preprocess/chenzhou/image/A4B2C3D1E1_127THY5520180830150526606T.jpg data is being augmented and 56 data will be created\n"
     ]
    },
    {
     "name": "stderr",
     "output_type": "stream",
     "text": [
      "Processing <PIL.Image.Image image mode=RGB size=1024x768 at 0x7FD26464D518>: 100%|██████████| 56/56 [00:01<00:00, 50.05 Samples/s]                  \n",
      "Executing Pipeline:   0%|          | 0/56 [00:00<?, ? Samples/s]"
     ]
    },
    {
     "name": "stdout",
     "output_type": "stream",
     "text": [
      "Done\n",
      "Initialised with 1 image(s) found.\n",
      "Output directory set to /root/workspace/Thyroid_Solid_Nodule/data/preprocess/chenzhou_aug/tmp/image/A4B1C3D2E1_103THY4420180822155414957/output.1 ground truth image(s) found.\n",
      "\n",
      "No./root/workspace/Thyroid_Solid_Nodule/data/preprocess/chenzhou/image/A4B1C3D2E1_103THY4420180822155414957V.jpg data is being augmented and 56 data will be created\n"
     ]
    },
    {
     "name": "stderr",
     "output_type": "stream",
     "text": [
      "Processing <PIL.Image.Image image mode=RGB size=1024x768 at 0x7FD264635940>: 100%|██████████| 56/56 [00:01<00:00, 55.28 Samples/s]                  \n",
      "Executing Pipeline:   0%|          | 0/54 [00:00<?, ? Samples/s]"
     ]
    },
    {
     "name": "stdout",
     "output_type": "stream",
     "text": [
      "Done\n",
      "Initialised with 1 image(s) found.\n",
      "Output directory set to /root/workspace/Thyroid_Solid_Nodule/data/preprocess/chenzhou_aug/tmp/image/A1B1C1D1E1_64THY2420180725111023577/output.1 ground truth image(s) found.\n",
      "\n",
      "No./root/workspace/Thyroid_Solid_Nodule/data/preprocess/chenzhou/image/A1B1C1D1E1_64THY2420180725111023577V.jpg data is being augmented and 54 data will be created\n"
     ]
    },
    {
     "name": "stderr",
     "output_type": "stream",
     "text": [
      "Processing <PIL.Image.Image image mode=RGB size=1024x768 at 0x7FD264626BA8>: 100%|██████████| 54/54 [00:01<00:00, 53.42 Samples/s]                  \n",
      "Executing Pipeline:   0%|          | 0/49 [00:00<?, ? Samples/s]"
     ]
    },
    {
     "name": "stdout",
     "output_type": "stream",
     "text": [
      "Done\n",
      "Initialised with 1 image(s) found.\n",
      "Output directory set to /root/workspace/Thyroid_Solid_Nodule/data/preprocess/chenzhou_aug/tmp/image/A4B1C2D1E1_114THY492018083010161230/output.1 ground truth image(s) found.\n",
      "\n",
      "No./root/workspace/Thyroid_Solid_Nodule/data/preprocess/chenzhou/image/A4B1C2D1E1_114THY4920180830101612305.jpg data is being augmented and 49 data will be created\n"
     ]
    },
    {
     "name": "stderr",
     "output_type": "stream",
     "text": [
      "Processing <PIL.Image.Image image mode=RGB size=1024x768 at 0x7FD2646D0B00>: 100%|██████████| 49/49 [00:00<00:00, 57.09 Samples/s]                  \n",
      "Executing Pipeline:   0%|          | 0/43 [00:00<?, ? Samples/s]"
     ]
    },
    {
     "name": "stdout",
     "output_type": "stream",
     "text": [
      "Done\n",
      "Initialised with 1 image(s) found.\n",
      "Output directory set to /root/workspace/Thyroid_Solid_Nodule/data/preprocess/chenzhou_aug/tmp/image/A1B1C1D1E1_20335241120181012THY14920181012112749414/output.1 ground truth image(s) found.\n",
      "\n",
      "No./root/workspace/Thyroid_Solid_Nodule/data/preprocess/chenzhou/image/A1B1C1D1E1_20335241120181012THY14920181012112749414V.jpg data is being augmented and 43 data will be created\n"
     ]
    },
    {
     "name": "stderr",
     "output_type": "stream",
     "text": [
      "Processing <PIL.Image.Image image mode=RGB size=1024x768 at 0x7FD2646D0160>: 100%|██████████| 43/43 [00:00<00:00, 50.70 Samples/s]                  \n",
      "Executing Pipeline:   0%|          | 0/47 [00:00<?, ? Samples/s]"
     ]
    },
    {
     "name": "stdout",
     "output_type": "stream",
     "text": [
      "Done\n",
      "Initialised with 1 image(s) found.\n",
      "Output directory set to /root/workspace/Thyroid_Solid_Nodule/data/preprocess/chenzhou_aug/tmp/image/A1B1C1D1E1_45THY16RUTOUCA20180723094812078/output.1 ground truth image(s) found.\n",
      "\n",
      "No./root/workspace/Thyroid_Solid_Nodule/data/preprocess/chenzhou/image/A1B1C1D1E1_45THY16RUTOUCA20180723094812078T.jpg data is being augmented and 47 data will be created\n"
     ]
    },
    {
     "name": "stderr",
     "output_type": "stream",
     "text": [
      "Processing <PIL.Image.Image image mode=RGB size=1024x768 at 0x7FD2646910F0>: 100%|██████████| 47/47 [00:00<00:00, 49.91 Samples/s]                  \n",
      "Executing Pipeline:   0%|          | 0/58 [00:00<?, ? Samples/s]"
     ]
    },
    {
     "name": "stdout",
     "output_type": "stream",
     "text": [
      "Done\n",
      "Initialised with 1 image(s) found.\n",
      "Output directory set to /root/workspace/Thyroid_Solid_Nodule/data/preprocess/chenzhou_aug/tmp/image/A4B2C4D2E4_17125011620180904THY12420180904160318896/output.1 ground truth image(s) found.\n",
      "\n",
      "No./root/workspace/Thyroid_Solid_Nodule/data/preprocess/chenzhou/image/A4B2C4D2E4_17125011620180904THY12420180904160318896T.jpg data is being augmented and 58 data will be created\n"
     ]
    },
    {
     "name": "stderr",
     "output_type": "stream",
     "text": [
      "Processing <PIL.Image.Image image mode=RGB size=1024x768 at 0x7FD2646BB9E8>: 100%|██████████| 58/58 [00:01<00:00, 56.89 Samples/s]\n",
      "Executing Pipeline:   0%|          | 0/59 [00:00<?, ? Samples/s]"
     ]
    },
    {
     "name": "stdout",
     "output_type": "stream",
     "text": [
      "Done\n",
      "Initialised with 1 image(s) found.\n",
      "Output directory set to /root/workspace/Thyroid_Solid_Nodule/data/preprocess/chenzhou_aug/tmp/image/A4B1C2D1E1_122THY5220180830104337652/output.1 ground truth image(s) found.\n",
      "\n",
      "No./root/workspace/Thyroid_Solid_Nodule/data/preprocess/chenzhou/image/A4B1C2D1E1_122THY5220180830104337652T.jpg data is being augmented and 59 data will be created\n"
     ]
    },
    {
     "name": "stderr",
     "output_type": "stream",
     "text": [
      "Processing <PIL.Image.Image image mode=RGB size=1024x768 at 0x7FD264625BA8>: 100%|██████████| 59/59 [00:01<00:00, 57.66 Samples/s]                  \n",
      "Executing Pipeline:   0%|          | 0/43 [00:00<?, ? Samples/s]"
     ]
    },
    {
     "name": "stdout",
     "output_type": "stream",
     "text": [
      "Done\n",
      "Initialised with 1 image(s) found.\n",
      "Output directory set to /root/workspace/Thyroid_Solid_Nodule/data/preprocess/chenzhou_aug/tmp/image/A4B2C3D1E1_68THY252018072516003641/output.1 ground truth image(s) found.\n",
      "\n",
      "No./root/workspace/Thyroid_Solid_Nodule/data/preprocess/chenzhou/image/A4B2C3D1E1_68THY2520180725160036419.jpg data is being augmented and 43 data will be created\n"
     ]
    },
    {
     "name": "stderr",
     "output_type": "stream",
     "text": [
      "Processing <PIL.Image.Image image mode=RGB size=1024x768 at 0x7FD26464D358>: 100%|██████████| 43/43 [00:00<00:00, 51.19 Samples/s]\n",
      "Executing Pipeline:   0%|          | 0/48 [00:00<?, ? Samples/s]"
     ]
    },
    {
     "name": "stdout",
     "output_type": "stream",
     "text": [
      "Done\n",
      "Initialised with 1 image(s) found.\n",
      "Output directory set to /root/workspace/Thyroid_Solid_Nodule/data/preprocess/chenzhou_aug/tmp/image/A3B1C2D1E1_69THY2520180725160211007/output.1 ground truth image(s) found.\n",
      "\n",
      "No./root/workspace/Thyroid_Solid_Nodule/data/preprocess/chenzhou/image/A3B1C2D1E1_69THY2520180725160211007V.jpg data is being augmented and 48 data will be created\n"
     ]
    },
    {
     "name": "stderr",
     "output_type": "stream",
     "text": [
      "Processing <PIL.Image.Image image mode=RGB size=1024x768 at 0x7FD2646352E8>: 100%|██████████| 48/48 [00:00<00:00, 54.12 Samples/s]                 \n",
      "Executing Pipeline:   0%|          | 0/53 [00:00<?, ? Samples/s]"
     ]
    },
    {
     "name": "stdout",
     "output_type": "stream",
     "text": [
      "Done\n",
      "Initialised with 1 image(s) found.\n",
      "Output directory set to /root/workspace/Thyroid_Solid_Nodule/data/preprocess/chenzhou_aug/tmp/image/A4B1C2D1E1_28THY820180718100554972/output.1 ground truth image(s) found.\n",
      "\n",
      "No./root/workspace/Thyroid_Solid_Nodule/data/preprocess/chenzhou/image/A4B1C2D1E1_28THY820180718100554972V.jpg data is being augmented and 53 data will be created\n"
     ]
    },
    {
     "name": "stderr",
     "output_type": "stream",
     "text": [
      "Processing <PIL.Image.Image image mode=RGB size=1024x768 at 0x7FD264691630>: 100%|██████████| 53/53 [00:01<00:00, 52.07 Samples/s]                  \n",
      "Executing Pipeline:   0%|          | 0/50 [00:00<?, ? Samples/s]"
     ]
    },
    {
     "name": "stdout",
     "output_type": "stream",
     "text": [
      "Done\n",
      "Initialised with 1 image(s) found.\n",
      "Output directory set to /root/workspace/Thyroid_Solid_Nodule/data/preprocess/chenzhou_aug/tmp/image/A4B1C2D2E2_18THY620180718085559429/output.1 ground truth image(s) found.\n",
      "\n",
      "No./root/workspace/Thyroid_Solid_Nodule/data/preprocess/chenzhou/image/A4B1C2D2E2_18THY620180718085559429V.jpg data is being augmented and 50 data will be created\n"
     ]
    },
    {
     "name": "stderr",
     "output_type": "stream",
     "text": [
      "Processing <PIL.Image.Image image mode=RGB size=1024x768 at 0x7FD264626390>: 100%|██████████| 50/50 [00:00<00:00, 55.51 Samples/s]                  \n",
      "Executing Pipeline:   0%|          | 0/49 [00:00<?, ? Samples/s]"
     ]
    },
    {
     "name": "stdout",
     "output_type": "stream",
     "text": [
      "Done\n",
      "Initialised with 1 image(s) found.\n",
      "Output directory set to /root/workspace/Thyroid_Solid_Nodule/data/preprocess/chenzhou_aug/tmp/image/A3B1C2D1E1_18927520920180912THY13420180912095502092/output.1 ground truth image(s) found.\n",
      "\n",
      "No./root/workspace/Thyroid_Solid_Nodule/data/preprocess/chenzhou/image/A3B1C2D1E1_18927520920180912THY13420180912095502092T.jpg data is being augmented and 49 data will be created\n"
     ]
    },
    {
     "name": "stderr",
     "output_type": "stream",
     "text": [
      "Processing <PIL.Image.Image image mode=RGB size=1024x768 at 0x7FD264698B38>: 100%|██████████| 49/49 [00:00<00:00, 53.75 Samples/s]                  \n",
      "Executing Pipeline:   0%|          | 0/55 [00:00<?, ? Samples/s]"
     ]
    },
    {
     "name": "stdout",
     "output_type": "stream",
     "text": [
      "Done\n",
      "Initialised with 1 image(s) found.\n",
      "Output directory set to /root/workspace/Thyroid_Solid_Nodule/data/preprocess/chenzhou_aug/tmp/image/A4B1C3D1E3_67THY2520180725155955409/output.1 ground truth image(s) found.\n",
      "\n",
      "No./root/workspace/Thyroid_Solid_Nodule/data/preprocess/chenzhou/image/A4B1C3D1E3_67THY2520180725155955409T.jpg data is being augmented and 55 data will be created\n"
     ]
    },
    {
     "name": "stderr",
     "output_type": "stream",
     "text": [
      "Processing <PIL.Image.Image image mode=RGB size=1024x768 at 0x7FD264635B38>: 100%|██████████| 55/55 [00:00<00:00, 58.95 Samples/s]\n",
      "Executing Pipeline:   0%|          | 0/44 [00:00<?, ? Samples/s]"
     ]
    },
    {
     "name": "stdout",
     "output_type": "stream",
     "text": [
      "Done\n",
      "Initialised with 1 image(s) found.\n",
      "Output directory set to /root/workspace/Thyroid_Solid_Nodule/data/preprocess/chenzhou_aug/tmp/image/A4B1C2D1E1_91THY3720180816084001796/output.1 ground truth image(s) found.\n",
      "\n",
      "No./root/workspace/Thyroid_Solid_Nodule/data/preprocess/chenzhou/image/A4B1C2D1E1_91THY3720180816084001796V.jpg data is being augmented and 44 data will be created\n"
     ]
    },
    {
     "name": "stderr",
     "output_type": "stream",
     "text": [
      "Processing <PIL.Image.Image image mode=RGB size=1024x768 at 0x7FD2646911D0>: 100%|██████████| 44/44 [00:00<00:00, 56.39 Samples/s]\n",
      "Executing Pipeline:   0%|          | 0/46 [00:00<?, ? Samples/s]"
     ]
    },
    {
     "name": "stdout",
     "output_type": "stream",
     "text": [
      "Done\n",
      "Initialised with 1 image(s) found.\n",
      "Output directory set to /root/workspace/Thyroid_Solid_Nodule/data/preprocess/chenzhou_aug/tmp/image/A4B2C4D2E1_20537011020181015THY15120181015100225027/output.1 ground truth image(s) found.\n",
      "\n",
      "No./root/workspace/Thyroid_Solid_Nodule/data/preprocess/chenzhou/image/A4B2C4D2E1_20537011020181015THY15120181015100225027V.jpg data is being augmented and 46 data will be created\n"
     ]
    },
    {
     "name": "stderr",
     "output_type": "stream",
     "text": [
      "Processing <PIL.Image.Image image mode=RGB size=1024x768 at 0x7FD26468C748>: 100%|██████████| 46/46 [00:00<00:00, 55.72 Samples/s]                 \n",
      "Executing Pipeline:   0%|          | 0/52 [00:00<?, ? Samples/s]"
     ]
    },
    {
     "name": "stdout",
     "output_type": "stream",
     "text": [
      "Done\n",
      "Initialised with 1 image(s) found.\n",
      "Output directory set to /root/workspace/Thyroid_Solid_Nodule/data/preprocess/chenzhou_aug/tmp/image/A1B1C1D1E1_117THY5020180830102855214/output.1 ground truth image(s) found.\n",
      "\n",
      "No./root/workspace/Thyroid_Solid_Nodule/data/preprocess/chenzhou/image/A1B1C1D1E1_117THY5020180830102855214T.jpg data is being augmented and 52 data will be created\n"
     ]
    },
    {
     "name": "stderr",
     "output_type": "stream",
     "text": [
      "Processing <PIL.Image.Image image mode=RGB size=1024x768 at 0x7FD264638F60>: 100%|██████████| 52/52 [00:00<00:00, 56.55 Samples/s]                  \n",
      "Executing Pipeline:   0%|          | 0/59 [00:00<?, ? Samples/s]"
     ]
    },
    {
     "name": "stdout",
     "output_type": "stream",
     "text": [
      "Done\n",
      "Initialised with 1 image(s) found.\n",
      "Output directory set to /root/workspace/Thyroid_Solid_Nodule/data/preprocess/chenzhou_aug/tmp/image/A4B1C3D1E1_24THY620180718090059011/output.1 ground truth image(s) found.\n",
      "\n",
      "No./root/workspace/Thyroid_Solid_Nodule/data/preprocess/chenzhou/image/A4B1C3D1E1_24THY620180718090059011T.jpg data is being augmented and 59 data will be created\n"
     ]
    },
    {
     "name": "stderr",
     "output_type": "stream",
     "text": [
      "Processing <PIL.Image.Image image mode=RGB size=1024x768 at 0x7FD264635048>: 100%|██████████| 59/59 [00:01<00:00, 52.19 Samples/s]                 \n",
      "Executing Pipeline:   0%|          | 0/59 [00:00<?, ? Samples/s]"
     ]
    },
    {
     "name": "stdout",
     "output_type": "stream",
     "text": [
      "Done\n",
      "Initialised with 1 image(s) found.\n",
      "Output directory set to /root/workspace/Thyroid_Solid_Nodule/data/preprocess/chenzhou_aug/tmp/image/A4B1C3D1E1_13704180920180801THY100520180801092012441/output.1 ground truth image(s) found.\n",
      "\n",
      "No./root/workspace/Thyroid_Solid_Nodule/data/preprocess/chenzhou/image/A4B1C3D1E1_13704180920180801THY100520180801092012441V.jpg data is being augmented and 59 data will be created\n"
     ]
    },
    {
     "name": "stderr",
     "output_type": "stream",
     "text": [
      "Processing <PIL.Image.Image image mode=RGB size=1024x768 at 0x7FD264638E10>: 100%|██████████| 59/59 [00:01<00:00, 58.62 Samples/s]                  \n",
      "Executing Pipeline:   0%|          | 0/42 [00:00<?, ? Samples/s]"
     ]
    },
    {
     "name": "stdout",
     "output_type": "stream",
     "text": [
      "Done\n",
      "Initialised with 1 image(s) found.\n",
      "Output directory set to /root/workspace/Thyroid_Solid_Nodule/data/preprocess/chenzhou_aug/tmp/image/A4B1C3D3E1_76THY31YAJIAYAN20180730095823757/output.1 ground truth image(s) found.\n",
      "\n",
      "No./root/workspace/Thyroid_Solid_Nodule/data/preprocess/chenzhou/image/A4B1C3D3E1_76THY31YAJIAYAN20180730095823757V.jpg data is being augmented and 42 data will be created\n"
     ]
    },
    {
     "name": "stderr",
     "output_type": "stream",
     "text": [
      "Processing <PIL.Image.Image image mode=RGB size=1024x768 at 0x7FD26468CA58>: 100%|██████████| 42/42 [00:00<00:00, 57.39 Samples/s]\n",
      "Executing Pipeline:   0%|          | 0/59 [00:00<?, ? Samples/s]"
     ]
    },
    {
     "name": "stdout",
     "output_type": "stream",
     "text": [
      "Done\n",
      "Initialised with 1 image(s) found.\n",
      "Output directory set to /root/workspace/Thyroid_Solid_Nodule/data/preprocess/chenzhou_aug/tmp/image/A4B1C4D1E1_14425401520180801THY10820180801154042806/output.1 ground truth image(s) found.\n",
      "\n",
      "No./root/workspace/Thyroid_Solid_Nodule/data/preprocess/chenzhou/image/A4B1C4D1E1_14425401520180801THY10820180801154042806T.jpg data is being augmented and 59 data will be created\n"
     ]
    },
    {
     "name": "stderr",
     "output_type": "stream",
     "text": [
      "Processing <PIL.Image.Image image mode=RGB size=1024x768 at 0x7FD264626588>: 100%|██████████| 59/59 [00:01<00:00, 53.17 Samples/s]                  \n",
      "Executing Pipeline:   0%|          | 0/42 [00:00<?, ? Samples/s]"
     ]
    },
    {
     "name": "stdout",
     "output_type": "stream",
     "text": [
      "Done\n",
      "Initialised with 1 image(s) found.\n",
      "Output directory set to /root/workspace/Thyroid_Solid_Nodule/data/preprocess/chenzhou_aug/tmp/image/A4B1C3D3E1_15753110920180814THY11620180814091249088/output.1 ground truth image(s) found.\n",
      "\n",
      "No./root/workspace/Thyroid_Solid_Nodule/data/preprocess/chenzhou/image/A4B1C3D3E1_15753110920180814THY11620180814091249088V.jpg data is being augmented and 42 data will be created\n"
     ]
    },
    {
     "name": "stderr",
     "output_type": "stream",
     "text": [
      "Processing <PIL.Image.Image image mode=RGB size=1024x768 at 0x7FD264625E48>: 100%|██████████| 42/42 [00:00<00:00, 47.24 Samples/s]\n",
      "Executing Pipeline:   0%|          | 0/52 [00:00<?, ? Samples/s]"
     ]
    },
    {
     "name": "stdout",
     "output_type": "stream",
     "text": [
      "Done\n",
      "Initialised with 1 image(s) found.\n",
      "Output directory set to /root/workspace/Thyroid_Solid_Nodule/data/preprocess/chenzhou_aug/tmp/image/A4B1C3D1E1_19715021020181010THY14320181010100231428/output.1 ground truth image(s) found.\n",
      "\n",
      "No./root/workspace/Thyroid_Solid_Nodule/data/preprocess/chenzhou/image/A4B1C3D1E1_19715021020181010THY14320181010100231428V.jpg data is being augmented and 52 data will be created\n"
     ]
    },
    {
     "name": "stderr",
     "output_type": "stream",
     "text": [
      "Processing <PIL.Image.Image image mode=RGB size=1024x768 at 0x7FD2646387F0>: 100%|██████████| 52/52 [00:00<00:00, 52.62 Samples/s]                  \n",
      "Executing Pipeline:   0%|          | 0/52 [00:00<?, ? Samples/s]"
     ]
    },
    {
     "name": "stdout",
     "output_type": "stream",
     "text": [
      "Done\n",
      "Initialised with 1 image(s) found.\n",
      "Output directory set to /root/workspace/Thyroid_Solid_Nodule/data/preprocess/chenzhou_aug/tmp/image/A4B1C2D1E4_85THY372018081608365934/output.1 ground truth image(s) found.\n",
      "\n",
      "No./root/workspace/Thyroid_Solid_Nodule/data/preprocess/chenzhou/image/A4B1C2D1E4_85THY3720180816083659348.jpg data is being augmented and 52 data will be created\n"
     ]
    },
    {
     "name": "stderr",
     "output_type": "stream",
     "text": [
      "Processing <PIL.Image.Image image mode=RGB size=1024x768 at 0x7FD2646AFF60>: 100%|██████████| 52/52 [00:01<00:00, 48.99 Samples/s]                  \n",
      "Executing Pipeline:   0%|          | 0/40 [00:00<?, ? Samples/s]"
     ]
    },
    {
     "name": "stdout",
     "output_type": "stream",
     "text": [
      "Done\n",
      "Initialised with 1 image(s) found.\n",
      "Output directory set to /root/workspace/Thyroid_Solid_Nodule/data/preprocess/chenzhou_aug/tmp/image/A4B1C4D1E1_18512221420180907THY13120180907142511648/output.1 ground truth image(s) found.\n",
      "\n",
      "No./root/workspace/Thyroid_Solid_Nodule/data/preprocess/chenzhou/image/A4B1C4D1E1_18512221420180907THY13120180907142511648V.jpg data is being augmented and 40 data will be created\n"
     ]
    },
    {
     "name": "stderr",
     "output_type": "stream",
     "text": [
      "Processing <PIL.Image.Image image mode=RGB size=1024x768 at 0x7FD264626E80>: 100%|██████████| 40/40 [00:00<00:00, 52.10 Samples/s]\n",
      "Executing Pipeline:   0%|          | 0/41 [00:00<?, ? Samples/s]"
     ]
    },
    {
     "name": "stdout",
     "output_type": "stream",
     "text": [
      "Done\n",
      "Initialised with 1 image(s) found.\n",
      "Output directory set to /root/workspace/Thyroid_Solid_Nodule/data/preprocess/chenzhou_aug/tmp/image/A4B1C4D2E4_40THY1420180720115410136/output.1 ground truth image(s) found.\n",
      "\n",
      "No./root/workspace/Thyroid_Solid_Nodule/data/preprocess/chenzhou/image/A4B1C4D2E4_40THY1420180720115410136V.jpg data is being augmented and 41 data will be created\n"
     ]
    },
    {
     "name": "stderr",
     "output_type": "stream",
     "text": [
      "Processing <PIL.Image.Image image mode=RGB size=1024x768 at 0x7FD2646912E8>: 100%|██████████| 41/41 [00:00<00:00, 50.95 Samples/s]                  \n",
      "Executing Pipeline:   0%|          | 0/50 [00:00<?, ? Samples/s]"
     ]
    },
    {
     "name": "stdout",
     "output_type": "stream",
     "text": [
      "Done\n",
      "Initialised with 1 image(s) found.\n",
      "Output directory set to /root/workspace/Thyroid_Solid_Nodule/data/preprocess/chenzhou_aug/tmp/image/A3B1C2D1E1_16720460820180903THY12220180903085048666/output.1 ground truth image(s) found.\n",
      "\n",
      "No./root/workspace/Thyroid_Solid_Nodule/data/preprocess/chenzhou/image/A3B1C2D1E1_16720460820180903THY12220180903085048666V.jpg data is being augmented and 50 data will be created\n"
     ]
    },
    {
     "name": "stderr",
     "output_type": "stream",
     "text": [
      "Processing <PIL.Image.Image image mode=RGB size=1024x768 at 0x7FD264651B00>: 100%|██████████| 50/50 [00:00<00:00, 51.17 Samples/s]                  \n",
      "Executing Pipeline:   0%|          | 0/56 [00:00<?, ? Samples/s]"
     ]
    },
    {
     "name": "stdout",
     "output_type": "stream",
     "text": [
      "Done\n",
      "Initialised with 1 image(s) found.\n",
      "Output directory set to /root/workspace/Thyroid_Solid_Nodule/data/preprocess/chenzhou_aug/tmp/image/A4B1C2D2E4_57THY2020180723163152044/output.1 ground truth image(s) found.\n",
      "\n",
      "No./root/workspace/Thyroid_Solid_Nodule/data/preprocess/chenzhou/image/A4B1C2D2E4_57THY2020180723163152044V.jpg data is being augmented and 56 data will be created\n"
     ]
    },
    {
     "name": "stderr",
     "output_type": "stream",
     "text": [
      "Processing <PIL.Image.Image image mode=RGB size=1024x768 at 0x7FD264635160>: 100%|██████████| 56/56 [00:00<00:00, 56.88 Samples/s]                  \n",
      "Executing Pipeline:   0%|          | 0/45 [00:00<?, ? Samples/s]"
     ]
    },
    {
     "name": "stdout",
     "output_type": "stream",
     "text": [
      "Done\n",
      "Initialised with 1 image(s) found.\n",
      "Output directory set to /root/workspace/Thyroid_Solid_Nodule/data/preprocess/chenzhou_aug/tmp/image/A4B2C4D1E2_15039310820180803THY11120180803083314965/output.1 ground truth image(s) found.\n",
      "\n",
      "No./root/workspace/Thyroid_Solid_Nodule/data/preprocess/chenzhou/image/A4B2C4D1E2_15039310820180803THY11120180803083314965T.jpg data is being augmented and 45 data will be created\n"
     ]
    },
    {
     "name": "stderr",
     "output_type": "stream",
     "text": [
      "Processing <PIL.Image.Image image mode=RGB size=1024x768 at 0x7FD264691908>: 100%|██████████| 45/45 [00:00<00:00, 53.64 Samples/s]\n",
      "Executing Pipeline:   0%|          | 0/53 [00:00<?, ? Samples/s]"
     ]
    },
    {
     "name": "stdout",
     "output_type": "stream",
     "text": [
      "Done\n",
      "Initialised with 1 image(s) found.\n",
      "Output directory set to /root/workspace/Thyroid_Solid_Nodule/data/preprocess/chenzhou_aug/tmp/image/A4B1C4D3E1_63THY2320180725110438305/output.1 ground truth image(s) found.\n",
      "\n",
      "No./root/workspace/Thyroid_Solid_Nodule/data/preprocess/chenzhou/image/A4B1C4D3E1_63THY2320180725110438305V.jpg data is being augmented and 53 data will be created\n"
     ]
    },
    {
     "name": "stderr",
     "output_type": "stream",
     "text": [
      "Processing <PIL.Image.Image image mode=RGB size=1024x768 at 0x7FD26464D978>: 100%|██████████| 53/53 [00:00<00:00, 54.91 Samples/s]                  \n",
      "Executing Pipeline:   0%|          | 0/42 [00:00<?, ? Samples/s]"
     ]
    },
    {
     "name": "stdout",
     "output_type": "stream",
     "text": [
      "Done\n",
      "Initialised with 1 image(s) found.\n",
      "Output directory set to /root/workspace/Thyroid_Solid_Nodule/data/preprocess/chenzhou_aug/tmp/image/A4B2C4D1E1_18025311120180906THY13020180906113215598/output.1 ground truth image(s) found.\n",
      "\n",
      "No./root/workspace/Thyroid_Solid_Nodule/data/preprocess/chenzhou/image/A4B2C4D1E1_18025311120180906THY13020180906113215598T.jpg data is being augmented and 42 data will be created\n"
     ]
    },
    {
     "name": "stderr",
     "output_type": "stream",
     "text": [
      "Processing <PIL.Image.Image image mode=RGB size=1024x768 at 0x7FD264635F60>: 100%|██████████| 42/42 [00:00<00:00, 57.22 Samples/s]\n",
      "Executing Pipeline:   0%|          | 0/48 [00:00<?, ? Samples/s]"
     ]
    },
    {
     "name": "stdout",
     "output_type": "stream",
     "text": [
      "Done\n",
      "Initialised with 1 image(s) found.\n",
      "Output directory set to /root/workspace/Thyroid_Solid_Nodule/data/preprocess/chenzhou_aug/tmp/image/A4B2C4D1E1_20135241120181012THY14920181012112510857/output.1 ground truth image(s) found.\n",
      "\n",
      "No./root/workspace/Thyroid_Solid_Nodule/data/preprocess/chenzhou/image/A4B2C4D1E1_20135241120181012THY14920181012112510857V.jpg data is being augmented and 48 data will be created\n"
     ]
    },
    {
     "name": "stderr",
     "output_type": "stream",
     "text": [
      "Processing <PIL.Image.Image image mode=RGB size=1024x768 at 0x7FD2646D0F60>: 100%|██████████| 48/48 [00:00<00:00, 54.80 Samples/s]\n",
      "Executing Pipeline:   0%|          | 0/50 [00:00<?, ? Samples/s]"
     ]
    },
    {
     "name": "stdout",
     "output_type": "stream",
     "text": [
      "Done\n",
      "Initialised with 1 image(s) found.\n",
      "Output directory set to /root/workspace/Thyroid_Solid_Nodule/data/preprocess/chenzhou_aug/tmp/image/A4B1C3D2E1_93THY392018081610265646/output.1 ground truth image(s) found.\n",
      "\n",
      "No./root/workspace/Thyroid_Solid_Nodule/data/preprocess/chenzhou/image/A4B1C3D2E1_93THY3920180816102656461.jpg data is being augmented and 50 data will be created\n"
     ]
    },
    {
     "name": "stderr",
     "output_type": "stream",
     "text": [
      "Processing <PIL.Image.Image image mode=RGB size=1024x768 at 0x7FD26464D4A8>: 100%|██████████| 50/50 [00:00<00:00, 57.75 Samples/s]                 \n",
      "Executing Pipeline:   0%|          | 0/41 [00:00<?, ? Samples/s]"
     ]
    },
    {
     "name": "stdout",
     "output_type": "stream",
     "text": [
      "Done\n",
      "Initialised with 1 image(s) found.\n",
      "Output directory set to /root/workspace/Thyroid_Solid_Nodule/data/preprocess/chenzhou_aug/tmp/image/A3B1C3D2E1_53THY1920180723153737444/output.1 ground truth image(s) found.\n",
      "\n",
      "No./root/workspace/Thyroid_Solid_Nodule/data/preprocess/chenzhou/image/A3B1C3D2E1_53THY1920180723153737444V.jpg data is being augmented and 41 data will be created\n"
     ]
    },
    {
     "name": "stderr",
     "output_type": "stream",
     "text": [
      "Processing <PIL.Image.Image image mode=RGB size=1024x768 at 0x7FD2646BB780>: 100%|██████████| 41/41 [00:00<00:00, 47.31 Samples/s]                  \n",
      "Executing Pipeline:   0%|          | 0/52 [00:00<?, ? Samples/s]"
     ]
    },
    {
     "name": "stdout",
     "output_type": "stream",
     "text": [
      "Done\n",
      "Initialised with 1 image(s) found.\n",
      "Output directory set to /root/workspace/Thyroid_Solid_Nodule/data/preprocess/chenzhou_aug/tmp/image/A4B2C3D1E1_100THY432018082015184645/output.1 ground truth image(s) found.\n",
      "\n",
      "No./root/workspace/Thyroid_Solid_Nodule/data/preprocess/chenzhou/image/A4B2C3D1E1_100THY4320180820151846456.jpg data is being augmented and 52 data will be created\n"
     ]
    },
    {
     "name": "stderr",
     "output_type": "stream",
     "text": [
      "Processing <PIL.Image.Image image mode=RGB size=1024x768 at 0x7FD2645EAEF0>: 100%|██████████| 52/52 [00:00<00:00, 54.33 Samples/s]\n",
      "Executing Pipeline:   0%|          | 0/51 [00:00<?, ? Samples/s]"
     ]
    },
    {
     "name": "stdout",
     "output_type": "stream",
     "text": [
      "Done\n",
      "Initialised with 1 image(s) found.\n",
      "Output directory set to /root/workspace/Thyroid_Solid_Nodule/data/preprocess/chenzhou_aug/tmp/image/A4B1C3D3E4_135THY5820180831164217291/output.1 ground truth image(s) found.\n",
      "\n",
      "No./root/workspace/Thyroid_Solid_Nodule/data/preprocess/chenzhou/image/A4B1C3D3E4_135THY5820180831164217291T.jpg data is being augmented and 51 data will be created\n"
     ]
    },
    {
     "name": "stderr",
     "output_type": "stream",
     "text": [
      "Processing <PIL.Image.Image image mode=RGB size=1024x768 at 0x7FD2645F1A90>: 100%|██████████| 51/51 [00:00<00:00, 54.76 Samples/s]                 \n",
      "Executing Pipeline:   0%|          | 0/52 [00:00<?, ? Samples/s]"
     ]
    },
    {
     "name": "stdout",
     "output_type": "stream",
     "text": [
      "Done\n",
      "Initialised with 1 image(s) found.\n",
      "Output directory set to /root/workspace/Thyroid_Solid_Nodule/data/preprocess/chenzhou_aug/tmp/image/A3B1C2D1E1_95THY4020180817101552004/output.1 ground truth image(s) found.\n",
      "\n",
      "No./root/workspace/Thyroid_Solid_Nodule/data/preprocess/chenzhou/image/A3B1C2D1E1_95THY4020180817101552004T.jpg data is being augmented and 52 data will be created\n"
     ]
    },
    {
     "name": "stderr",
     "output_type": "stream",
     "text": [
      "Processing <PIL.Image.Image image mode=RGB size=1024x768 at 0x7FD26468CB70>: 100%|██████████| 52/52 [00:00<00:00, 58.19 Samples/s]                 \n",
      "Executing Pipeline:   0%|          | 0/45 [00:00<?, ? Samples/s]"
     ]
    },
    {
     "name": "stdout",
     "output_type": "stream",
     "text": [
      "Done\n",
      "Initialised with 1 image(s) found.\n",
      "Output directory set to /root/workspace/Thyroid_Solid_Nodule/data/preprocess/chenzhou_aug/tmp/image/A2B1C2D1E1_19127090920180913THY13620180913091158678/output.1 ground truth image(s) found.\n",
      "\n",
      "No./root/workspace/Thyroid_Solid_Nodule/data/preprocess/chenzhou/image/A2B1C2D1E1_19127090920180913THY13620180913091158678V.jpg data is being augmented and 45 data will be created\n"
     ]
    },
    {
     "name": "stderr",
     "output_type": "stream",
     "text": [
      "Processing <PIL.Image.Image image mode=RGB size=1024x768 at 0x7FD264691630>: 100%|██████████| 45/45 [00:00<00:00, 50.24 Samples/s]\n",
      "Executing Pipeline:   0%|          | 0/47 [00:00<?, ? Samples/s]"
     ]
    },
    {
     "name": "stdout",
     "output_type": "stream",
     "text": [
      "Done\n",
      "Initialised with 1 image(s) found.\n",
      "Output directory set to /root/workspace/Thyroid_Solid_Nodule/data/preprocess/chenzhou_aug/tmp/image/A4B1C3D2E2_71THY2620180726100802840/output.1 ground truth image(s) found.\n",
      "\n",
      "No./root/workspace/Thyroid_Solid_Nodule/data/preprocess/chenzhou/image/A4B1C3D2E2_71THY2620180726100802840V.jpg data is being augmented and 47 data will be created\n"
     ]
    },
    {
     "name": "stderr",
     "output_type": "stream",
     "text": [
      "Processing <PIL.Image.Image image mode=RGB size=1024x768 at 0x7FD264691278>: 100%|██████████| 47/47 [00:00<00:00, 54.86 Samples/s]                  \n",
      "Executing Pipeline:   0%|          | 0/45 [00:00<?, ? Samples/s]"
     ]
    },
    {
     "name": "stdout",
     "output_type": "stream",
     "text": [
      "Done\n",
      "Initialised with 1 image(s) found.\n",
      "Output directory set to /root/workspace/Thyroid_Solid_Nodule/data/preprocess/chenzhou_aug/tmp/image/A4B1C4D2E1_14843321020180802THY11020180802103550031/output.1 ground truth image(s) found.\n",
      "\n",
      "No./root/workspace/Thyroid_Solid_Nodule/data/preprocess/chenzhou/image/A4B1C4D2E1_14843321020180802THY11020180802103550031T.jpg data is being augmented and 45 data will be created\n"
     ]
    },
    {
     "name": "stderr",
     "output_type": "stream",
     "text": [
      "Processing <PIL.Image.Image image mode=RGB size=1024x768 at 0x7FD26462C080>: 100%|██████████| 45/45 [00:00<00:00, 55.62 Samples/s]                 \n",
      "Executing Pipeline:   0%|          | 0/41 [00:00<?, ? Samples/s]"
     ]
    },
    {
     "name": "stdout",
     "output_type": "stream",
     "text": [
      "Done\n",
      "Initialised with 1 image(s) found.\n",
      "Output directory set to /root/workspace/Thyroid_Solid_Nodule/data/preprocess/chenzhou_aug/tmp/image/A4B1C2D1E1_15233051020180803THY11220180803100554538/output.1 ground truth image(s) found.\n",
      "\n",
      "No./root/workspace/Thyroid_Solid_Nodule/data/preprocess/chenzhou/image/A4B1C2D1E1_15233051020180803THY11220180803100554538T.jpg data is being augmented and 41 data will be created\n"
     ]
    },
    {
     "name": "stderr",
     "output_type": "stream",
     "text": [
      "Processing <PIL.Image.Image image mode=RGB size=1024x768 at 0x7FD2646D0940>: 100%|██████████| 41/41 [00:00<00:00, 54.44 Samples/s]                 \n",
      "Executing Pipeline:   0%|          | 0/53 [00:00<?, ? Samples/s]"
     ]
    },
    {
     "name": "stdout",
     "output_type": "stream",
     "text": [
      "Done\n",
      "Initialised with 1 image(s) found.\n",
      "Output directory set to /root/workspace/Thyroid_Solid_Nodule/data/preprocess/chenzhou_aug/tmp/image/A4B1C3D3E4_88THY372018081608381594/output.1 ground truth image(s) found.\n",
      "\n",
      "No./root/workspace/Thyroid_Solid_Nodule/data/preprocess/chenzhou/image/A4B1C3D3E4_88THY3720180816083815940.jpg data is being augmented and 53 data will be created\n"
     ]
    },
    {
     "name": "stderr",
     "output_type": "stream",
     "text": [
      "Processing <PIL.Image.Image image mode=RGB size=1024x768 at 0x7FD2646AFB00>: 100%|██████████| 53/53 [00:00<00:00, 60.70 Samples/s]\n",
      "Executing Pipeline:   0%|          | 0/51 [00:00<?, ? Samples/s]"
     ]
    },
    {
     "name": "stdout",
     "output_type": "stream",
     "text": [
      "Done\n",
      "Initialised with 1 image(s) found.\n",
      "Output directory set to /root/workspace/Thyroid_Solid_Nodule/data/preprocess/chenzhou_aug/tmp/image/A3B1C2D2E1_75THY3020180727095942426/output.1 ground truth image(s) found.\n",
      "\n",
      "No./root/workspace/Thyroid_Solid_Nodule/data/preprocess/chenzhou/image/A3B1C2D2E1_75THY3020180727095942426V.jpg data is being augmented and 51 data will be created\n"
     ]
    },
    {
     "name": "stderr",
     "output_type": "stream",
     "text": [
      "Processing <PIL.Image.Image image mode=RGB size=1024x768 at 0x7FD264710390>: 100%|██████████| 51/51 [00:01<00:00, 49.34 Samples/s]                 \n",
      "Executing Pipeline:   0%|          | 0/55 [00:00<?, ? Samples/s]"
     ]
    },
    {
     "name": "stdout",
     "output_type": "stream",
     "text": [
      "Done\n",
      "Initialised with 1 image(s) found.\n",
      "Output directory set to /root/workspace/Thyroid_Solid_Nodule/data/preprocess/chenzhou_aug/tmp/image/A2B1C2D1E1_104THY4520180823091218539/output.1 ground truth image(s) found.\n",
      "\n",
      "No./root/workspace/Thyroid_Solid_Nodule/data/preprocess/chenzhou/image/A2B1C2D1E1_104THY4520180823091218539V.jpg data is being augmented and 55 data will be created\n"
     ]
    },
    {
     "name": "stderr",
     "output_type": "stream",
     "text": [
      "Processing <PIL.Image.Image image mode=RGB size=1024x768 at 0x7FD264625240>: 100%|██████████| 55/55 [00:00<00:00, 61.20 Samples/s]                  \n",
      "Executing Pipeline:   0%|          | 0/50 [00:00<?, ? Samples/s]"
     ]
    },
    {
     "name": "stdout",
     "output_type": "stream",
     "text": [
      "Done\n",
      "Initialised with 1 image(s) found.\n",
      "Output directory set to /root/workspace/Thyroid_Solid_Nodule/data/preprocess/chenzhou_aug/tmp/image/A2B1C2D1E1_77THY3220180730111846185/output.1 ground truth image(s) found.\n",
      "\n",
      "No./root/workspace/Thyroid_Solid_Nodule/data/preprocess/chenzhou/image/A2B1C2D1E1_77THY3220180730111846185T.jpg data is being augmented and 50 data will be created\n"
     ]
    },
    {
     "name": "stderr",
     "output_type": "stream",
     "text": [
      "Processing <PIL.Image.Image image mode=RGB size=1024x768 at 0x7FD2646AF898>: 100%|██████████| 50/50 [00:00<00:00, 56.30 Samples/s]\n",
      "Executing Pipeline:   0%|          | 0/60 [00:00<?, ? Samples/s]"
     ]
    },
    {
     "name": "stdout",
     "output_type": "stream",
     "text": [
      "Done\n",
      "Initialised with 1 image(s) found.\n",
      "Output directory set to /root/workspace/Thyroid_Solid_Nodule/data/preprocess/chenzhou_aug/tmp/image/A4B1C3D3E1_76THY31YAJIAYAN20180730095813902/output.1 ground truth image(s) found.\n",
      "\n",
      "No./root/workspace/Thyroid_Solid_Nodule/data/preprocess/chenzhou/image/A4B1C3D3E1_76THY31YAJIAYAN20180730095813902T.jpg data is being augmented and 60 data will be created\n"
     ]
    },
    {
     "name": "stderr",
     "output_type": "stream",
     "text": [
      "Processing <PIL.Image.Image image mode=RGB size=1024x768 at 0x7FD26462CD68>: 100%|██████████| 60/60 [00:01<00:00, 51.18 Samples/s]                  \n",
      "Executing Pipeline:   0%|          | 0/55 [00:00<?, ? Samples/s]"
     ]
    },
    {
     "name": "stdout",
     "output_type": "stream",
     "text": [
      "Done\n",
      "Initialised with 1 image(s) found.\n",
      "Output directory set to /root/workspace/Thyroid_Solid_Nodule/data/preprocess/chenzhou_aug/tmp/image/A4B1C2D1E1_109THY4620180823092644002/output.1 ground truth image(s) found.\n",
      "\n",
      "No./root/workspace/Thyroid_Solid_Nodule/data/preprocess/chenzhou/image/A4B1C2D1E1_109THY4620180823092644002V.jpg data is being augmented and 55 data will be created\n"
     ]
    },
    {
     "name": "stderr",
     "output_type": "stream",
     "text": [
      "Processing <PIL.Image.Image image mode=RGB size=1024x768 at 0x7FD264691518>: 100%|██████████| 55/55 [00:00<00:00, 56.73 Samples/s]                  \n",
      "Executing Pipeline:   0%|          | 0/51 [00:00<?, ? Samples/s]"
     ]
    },
    {
     "name": "stdout",
     "output_type": "stream",
     "text": [
      "Done\n",
      "Initialised with 1 image(s) found.\n",
      "Output directory set to /root/workspace/Thyroid_Solid_Nodule/data/preprocess/chenzhou_aug/tmp/image/A1B1C1D1E1_64THY2420180725111028747/output.1 ground truth image(s) found.\n",
      "\n",
      "No./root/workspace/Thyroid_Solid_Nodule/data/preprocess/chenzhou/image/A1B1C1D1E1_64THY2420180725111028747T.jpg data is being augmented and 51 data will be created\n"
     ]
    },
    {
     "name": "stderr",
     "output_type": "stream",
     "text": [
      "Processing <PIL.Image.Image image mode=RGB size=1024x768 at 0x7FD264691048>: 100%|██████████| 51/51 [00:00<00:00, 59.32 Samples/s]                  \n",
      "Executing Pipeline:   0%|          | 0/55 [00:00<?, ? Samples/s]"
     ]
    },
    {
     "name": "stdout",
     "output_type": "stream",
     "text": [
      "Done\n",
      "Initialised with 1 image(s) found.\n",
      "Output directory set to /root/workspace/Thyroid_Solid_Nodule/data/preprocess/chenzhou_aug/tmp/image/A4B1C2D2E2_14643321020180802THY11020180802103320706/output.1 ground truth image(s) found.\n",
      "\n",
      "No./root/workspace/Thyroid_Solid_Nodule/data/preprocess/chenzhou/image/A4B1C2D2E2_14643321020180802THY11020180802103320706T.jpg data is being augmented and 55 data will be created\n"
     ]
    },
    {
     "name": "stderr",
     "output_type": "stream",
     "text": [
      "Processing <PIL.Image.Image image mode=RGB size=1024x768 at 0x7FD2645F9400>: 100%|██████████| 55/55 [00:01<00:00, 48.30 Samples/s]\n",
      "Executing Pipeline:   0%|          | 0/58 [00:00<?, ? Samples/s]"
     ]
    },
    {
     "name": "stdout",
     "output_type": "stream",
     "text": [
      "Done\n",
      "Initialised with 1 image(s) found.\n",
      "Output directory set to /root/workspace/Thyroid_Solid_Nodule/data/preprocess/chenzhou_aug/tmp/image/A4B1C3D4E1_20444120920181015THY15020181015091311893/output.1 ground truth image(s) found.\n",
      "\n",
      "No./root/workspace/Thyroid_Solid_Nodule/data/preprocess/chenzhou/image/A4B1C3D4E1_20444120920181015THY15020181015091311893V.jpg data is being augmented and 58 data will be created\n"
     ]
    },
    {
     "name": "stderr",
     "output_type": "stream",
     "text": [
      "Processing <PIL.Image.Image image mode=RGB size=1024x768 at 0x7FD2646957F0>: 100%|██████████| 58/58 [00:01<00:00, 50.75 Samples/s]                  \n",
      "Executing Pipeline:   0%|          | 0/44 [00:00<?, ? Samples/s]"
     ]
    },
    {
     "name": "stdout",
     "output_type": "stream",
     "text": [
      "Done\n",
      "Initialised with 1 image(s) found.\n",
      "Output directory set to /root/workspace/Thyroid_Solid_Nodule/data/preprocess/chenzhou_aug/tmp/image/A3B1C3D2E1_14THY420180717154532110/output.1 ground truth image(s) found.\n",
      "\n",
      "No./root/workspace/Thyroid_Solid_Nodule/data/preprocess/chenzhou/image/A3B1C3D2E1_14THY420180717154532110T.jpg data is being augmented and 44 data will be created\n"
     ]
    },
    {
     "name": "stderr",
     "output_type": "stream",
     "text": [
      "Processing <PIL.Image.Image image mode=RGB size=1024x768 at 0x7FD264695588>: 100%|██████████| 44/44 [00:00<00:00, 56.39 Samples/s]                  \n",
      "Executing Pipeline:   0%|          | 0/42 [00:00<?, ? Samples/s]"
     ]
    },
    {
     "name": "stdout",
     "output_type": "stream",
     "text": [
      "Done\n",
      "Initialised with 1 image(s) found.\n",
      "Output directory set to /root/workspace/Thyroid_Solid_Nodule/data/preprocess/chenzhou_aug/tmp/image/A1B1C1D1E1_18212221420180907THY13120180907142255572/output.1 ground truth image(s) found.\n",
      "\n",
      "No./root/workspace/Thyroid_Solid_Nodule/data/preprocess/chenzhou/image/A1B1C1D1E1_18212221420180907THY13120180907142255572T.jpg data is being augmented and 42 data will be created\n"
     ]
    },
    {
     "name": "stderr",
     "output_type": "stream",
     "text": [
      "Processing <PIL.JpegImagePlugin.JpegImageFile image mode=RGB size=1024x768 at 0x7FD2645FB9E8>: 100%|██████████| 42/42 [00:00<00:00, 56.71 Samples/s]\n",
      "Processing <PIL.Image.Image image mode=RGB size=1024x768 at 0x7FD2646AF828>:   2%|▏         | 1/41 [00:00<00:07,  5.49 Samples/s]"
     ]
    },
    {
     "name": "stdout",
     "output_type": "stream",
     "text": [
      "Done\n",
      "Initialised with 1 image(s) found.\n",
      "Output directory set to /root/workspace/Thyroid_Solid_Nodule/data/preprocess/chenzhou_aug/tmp/image/A1B1C1D1E1_105THY4520180823091352710/output.1 ground truth image(s) found.\n",
      "\n",
      "No./root/workspace/Thyroid_Solid_Nodule/data/preprocess/chenzhou/image/A1B1C1D1E1_105THY4520180823091352710V.jpg data is being augmented and 41 data will be created\n"
     ]
    },
    {
     "name": "stderr",
     "output_type": "stream",
     "text": [
      "Processing <PIL.Image.Image image mode=RGB size=1024x768 at 0x7FD2646950B8>: 100%|██████████| 41/41 [00:00<00:00, 54.81 Samples/s]                  \n",
      "Executing Pipeline:   0%|          | 0/54 [00:00<?, ? Samples/s]"
     ]
    },
    {
     "name": "stdout",
     "output_type": "stream",
     "text": [
      "Done\n",
      "Initialised with 1 image(s) found.\n",
      "Output directory set to /root/workspace/Thyroid_Solid_Nodule/data/preprocess/chenzhou_aug/tmp/image/A3B1C2D1E1_131THY5620180830155731310/output.1 ground truth image(s) found.\n",
      "\n",
      "No./root/workspace/Thyroid_Solid_Nodule/data/preprocess/chenzhou/image/A3B1C2D1E1_131THY5620180830155731310T.jpg data is being augmented and 54 data will be created\n"
     ]
    },
    {
     "name": "stderr",
     "output_type": "stream",
     "text": [
      "Processing <PIL.Image.Image image mode=RGB size=1024x768 at 0x7FD26462C780>: 100%|██████████| 54/54 [00:00<00:00, 55.21 Samples/s]                  \n",
      "Executing Pipeline:   0%|          | 0/60 [00:00<?, ? Samples/s]"
     ]
    },
    {
     "name": "stdout",
     "output_type": "stream",
     "text": [
      "Done\n",
      "Initialised with 1 image(s) found.\n",
      "Output directory set to /root/workspace/Thyroid_Solid_Nodule/data/preprocess/chenzhou_aug/tmp/image/A3B1C2D1E1_118THY502018083010294374/output.1 ground truth image(s) found.\n",
      "\n",
      "No./root/workspace/Thyroid_Solid_Nodule/data/preprocess/chenzhou/image/A3B1C2D1E1_118THY5020180830102943748.jpg data is being augmented and 60 data will be created\n"
     ]
    },
    {
     "name": "stderr",
     "output_type": "stream",
     "text": [
      "Processing <PIL.Image.Image image mode=RGB size=1024x768 at 0x7FD264668160>: 100%|██████████| 60/60 [00:01<00:00, 54.66 Samples/s]                  \n",
      "Executing Pipeline:   0%|          | 0/60 [00:00<?, ? Samples/s]"
     ]
    },
    {
     "name": "stdout",
     "output_type": "stream",
     "text": [
      "Done\n",
      "Initialised with 1 image(s) found.\n",
      "Output directory set to /root/workspace/Thyroid_Solid_Nodule/data/preprocess/chenzhou_aug/tmp/image/A4B1C2D1E1_15422141520180813THY11420180813151451806/output.1 ground truth image(s) found.\n",
      "\n",
      "No./root/workspace/Thyroid_Solid_Nodule/data/preprocess/chenzhou/image/A4B1C2D1E1_15422141520180813THY11420180813151451806V.jpg data is being augmented and 60 data will be created\n"
     ]
    },
    {
     "name": "stderr",
     "output_type": "stream",
     "text": [
      "Processing <PIL.Image.Image image mode=RGB size=1024x768 at 0x7FD264635A20>: 100%|██████████| 60/60 [00:01<00:00, 49.64 Samples/s]                  \n",
      "Executing Pipeline:   0%|          | 0/57 [00:00<?, ? Samples/s]"
     ]
    },
    {
     "name": "stdout",
     "output_type": "stream",
     "text": [
      "Done\n",
      "Initialised with 1 image(s) found.\n",
      "Output directory set to /root/workspace/Thyroid_Solid_Nodule/data/preprocess/chenzhou_aug/tmp/image/A4B1C4D1E1_17510361420180905THY12720180905143743125/output.1 ground truth image(s) found.\n",
      "\n",
      "No./root/workspace/Thyroid_Solid_Nodule/data/preprocess/chenzhou/image/A4B1C4D1E1_17510361420180905THY12720180905143743125V.jpg data is being augmented and 57 data will be created\n"
     ]
    },
    {
     "name": "stderr",
     "output_type": "stream",
     "text": [
      "Processing <PIL.Image.Image image mode=RGB size=1024x768 at 0x7FD264635908>: 100%|██████████| 57/57 [00:01<00:00, 48.07 Samples/s]                  \n",
      "Executing Pipeline:   0%|          | 0/42 [00:00<?, ? Samples/s]"
     ]
    },
    {
     "name": "stdout",
     "output_type": "stream",
     "text": [
      "Done\n",
      "Initialised with 1 image(s) found.\n",
      "Output directory set to /root/workspace/Thyroid_Solid_Nodule/data/preprocess/chenzhou_aug/tmp/image/A4B1C2D1E1_108THY4620180823092601201/output.1 ground truth image(s) found.\n",
      "\n",
      "No./root/workspace/Thyroid_Solid_Nodule/data/preprocess/chenzhou/image/A4B1C2D1E1_108THY4620180823092601201T.jpg data is being augmented and 42 data will be created\n"
     ]
    },
    {
     "name": "stderr",
     "output_type": "stream",
     "text": [
      "Processing <PIL.Image.Image image mode=RGB size=1024x768 at 0x7FD2646BB828>: 100%|██████████| 42/42 [00:00<00:00, 57.04 Samples/s]                  \n",
      "Executing Pipeline:   0%|          | 0/40 [00:00<?, ? Samples/s]"
     ]
    },
    {
     "name": "stdout",
     "output_type": "stream",
     "text": [
      "Done\n",
      "Initialised with 1 image(s) found.\n",
      "Output directory set to /root/workspace/Thyroid_Solid_Nodule/data/preprocess/chenzhou_aug/tmp/image/A4B1C3D2E1_58THY2120180724082908079/output.1 ground truth image(s) found.\n",
      "\n",
      "No./root/workspace/Thyroid_Solid_Nodule/data/preprocess/chenzhou/image/A4B1C3D2E1_58THY2120180724082908079V.jpg data is being augmented and 40 data will be created\n"
     ]
    },
    {
     "name": "stderr",
     "output_type": "stream",
     "text": [
      "Processing <PIL.Image.Image image mode=RGB size=1024x768 at 0x7FD2645F9AC8>: 100%|██████████| 40/40 [00:00<00:00, 57.04 Samples/s]\n",
      "Executing Pipeline:   0%|          | 0/58 [00:00<?, ? Samples/s]"
     ]
    },
    {
     "name": "stdout",
     "output_type": "stream",
     "text": [
      "Done\n",
      "Initialised with 1 image(s) found.\n",
      "Output directory set to /root/workspace/Thyroid_Solid_Nodule/data/preprocess/chenzhou_aug/tmp/image/A3B1C2D1E1_69THY2520180725160205947/output.1 ground truth image(s) found.\n",
      "\n",
      "No./root/workspace/Thyroid_Solid_Nodule/data/preprocess/chenzhou/image/A3B1C2D1E1_69THY2520180725160205947T.jpg data is being augmented and 58 data will be created\n"
     ]
    },
    {
     "name": "stderr",
     "output_type": "stream",
     "text": [
      "Processing <PIL.Image.Image image mode=RGB size=1024x768 at 0x7FD26468CAC8>: 100%|██████████| 58/58 [00:01<00:00, 53.04 Samples/s]                 \n",
      "Executing Pipeline:   0%|          | 0/58 [00:00<?, ? Samples/s]"
     ]
    },
    {
     "name": "stdout",
     "output_type": "stream",
     "text": [
      "Done\n",
      "Initialised with 1 image(s) found.\n",
      "Output directory set to /root/workspace/Thyroid_Solid_Nodule/data/preprocess/chenzhou_aug/tmp/image/A4B1C2D1E1_20235241120181012THY14920181012112626512/output.1 ground truth image(s) found.\n",
      "\n",
      "No./root/workspace/Thyroid_Solid_Nodule/data/preprocess/chenzhou/image/A4B1C2D1E1_20235241120181012THY14920181012112626512V.jpg data is being augmented and 58 data will be created\n"
     ]
    },
    {
     "name": "stderr",
     "output_type": "stream",
     "text": [
      "Processing <PIL.Image.Image image mode=RGB size=1024x768 at 0x7FD2646356D8>: 100%|██████████| 58/58 [00:01<00:00, 53.84 Samples/s]                  \n",
      "Executing Pipeline:   0%|          | 0/40 [00:00<?, ? Samples/s]"
     ]
    },
    {
     "name": "stdout",
     "output_type": "stream",
     "text": [
      "Done\n",
      "Initialised with 1 image(s) found.\n",
      "Output directory set to /root/workspace/Thyroid_Solid_Nodule/data/preprocess/chenzhou_aug/tmp/image/A4B2C4D1E1_16027530820180815THY11820180815085449199/output.1 ground truth image(s) found.\n",
      "\n",
      "No./root/workspace/Thyroid_Solid_Nodule/data/preprocess/chenzhou/image/A4B2C4D1E1_16027530820180815THY11820180815085449199T.jpg data is being augmented and 40 data will be created\n"
     ]
    },
    {
     "name": "stderr",
     "output_type": "stream",
     "text": [
      "Processing <PIL.Image.Image image mode=RGB size=1024x768 at 0x7FD264625A20>: 100%|██████████| 40/40 [00:00<00:00, 50.85 Samples/s]\n",
      "Executing Pipeline:   0%|          | 0/52 [00:00<?, ? Samples/s]"
     ]
    },
    {
     "name": "stdout",
     "output_type": "stream",
     "text": [
      "Done\n",
      "Initialised with 1 image(s) found.\n",
      "Output directory set to /root/workspace/Thyroid_Solid_Nodule/data/preprocess/chenzhou_aug/tmp/image/A1B1C1D1E1_19950101020181011THY14520181011101148642/output.1 ground truth image(s) found.\n",
      "\n",
      "No./root/workspace/Thyroid_Solid_Nodule/data/preprocess/chenzhou/image/A1B1C1D1E1_19950101020181011THY14520181011101148642T.jpg data is being augmented and 52 data will be created\n"
     ]
    },
    {
     "name": "stderr",
     "output_type": "stream",
     "text": [
      "Processing <PIL.Image.Image image mode=RGB size=1024x768 at 0x7FD26462CB38>: 100%|██████████| 52/52 [00:00<00:00, 57.84 Samples/s]                  \n",
      "Executing Pipeline:   0%|          | 0/55 [00:00<?, ? Samples/s]"
     ]
    },
    {
     "name": "stdout",
     "output_type": "stream",
     "text": [
      "Done\n",
      "Initialised with 1 image(s) found.\n",
      "Output directory set to /root/workspace/Thyroid_Solid_Nodule/data/preprocess/chenzhou_aug/tmp/image/A4B1C3D1E1_18125311120180906THY13020180906113318117/output.1 ground truth image(s) found.\n",
      "\n",
      "No./root/workspace/Thyroid_Solid_Nodule/data/preprocess/chenzhou/image/A4B1C3D1E1_18125311120180906THY13020180906113318117V.jpg data is being augmented and 55 data will be created\n"
     ]
    },
    {
     "name": "stderr",
     "output_type": "stream",
     "text": [
      "Processing <PIL.Image.Image image mode=RGB size=1024x768 at 0x7FD26462CF60>: 100%|██████████| 55/55 [00:01<00:00, 50.40 Samples/s]\n",
      "Executing Pipeline:   0%|          | 0/52 [00:00<?, ? Samples/s]"
     ]
    },
    {
     "name": "stdout",
     "output_type": "stream",
     "text": [
      "Done\n",
      "Initialised with 1 image(s) found.\n",
      "Output directory set to /root/workspace/Thyroid_Solid_Nodule/data/preprocess/chenzhou_aug/tmp/image/A4B1C4D2E2_2THY220180717092836549/output.1 ground truth image(s) found.\n",
      "\n",
      "No./root/workspace/Thyroid_Solid_Nodule/data/preprocess/chenzhou/image/A4B1C4D2E2_2THY220180717092836549V.jpg data is being augmented and 52 data will be created\n"
     ]
    },
    {
     "name": "stderr",
     "output_type": "stream",
     "text": [
      "Processing <PIL.Image.Image image mode=RGB size=1024x768 at 0x7FD26462CE10>: 100%|██████████| 52/52 [00:00<00:00, 57.34 Samples/s]                  \n",
      "Executing Pipeline:   0%|          | 0/57 [00:00<?, ? Samples/s]"
     ]
    },
    {
     "name": "stdout",
     "output_type": "stream",
     "text": [
      "Done\n",
      "Initialised with 1 image(s) found.\n",
      "Output directory set to /root/workspace/Thyroid_Solid_Nodule/data/preprocess/chenzhou_aug/tmp/image/A3B1C2D1E1_17903271020180906THY12920180906102810846/output.1 ground truth image(s) found.\n",
      "\n",
      "No./root/workspace/Thyroid_Solid_Nodule/data/preprocess/chenzhou/image/A3B1C2D1E1_17903271020180906THY12920180906102810846V.jpg data is being augmented and 57 data will be created\n"
     ]
    },
    {
     "name": "stderr",
     "output_type": "stream",
     "text": [
      "Processing <PIL.Image.Image image mode=RGB size=1024x768 at 0x7FD26460B438>: 100%|██████████| 57/57 [00:01<00:00, 49.51 Samples/s]                  \n",
      "Executing Pipeline:   0%|          | 0/52 [00:00<?, ? Samples/s]"
     ]
    },
    {
     "name": "stdout",
     "output_type": "stream",
     "text": [
      "Done\n",
      "Initialised with 1 image(s) found.\n",
      "Output directory set to /root/workspace/Thyroid_Solid_Nodule/data/preprocess/chenzhou_aug/tmp/image/A4B1C3D3E4_101THY4320180820151937778/output.1 ground truth image(s) found.\n",
      "\n",
      "No./root/workspace/Thyroid_Solid_Nodule/data/preprocess/chenzhou/image/A4B1C3D3E4_101THY4320180820151937778T.jpg data is being augmented and 52 data will be created\n"
     ]
    },
    {
     "name": "stderr",
     "output_type": "stream",
     "text": [
      "Processing <PIL.Image.Image image mode=RGB size=1024x768 at 0x7FD2645F1BA8>: 100%|██████████| 52/52 [00:01<00:00, 48.91 Samples/s]                  \n",
      "Executing Pipeline:   0%|          | 0/49 [00:00<?, ? Samples/s]"
     ]
    },
    {
     "name": "stdout",
     "output_type": "stream",
     "text": [
      "Done\n",
      "Initialised with 1 image(s) found.\n",
      "Output directory set to /root/workspace/Thyroid_Solid_Nodule/data/preprocess/chenzhou_aug/tmp/image/A4B1C3D1E1_15647281620180813THY11520180813163120228/output.1 ground truth image(s) found.\n",
      "\n",
      "No./root/workspace/Thyroid_Solid_Nodule/data/preprocess/chenzhou/image/A4B1C3D1E1_15647281620180813THY11520180813163120228V.jpg data is being augmented and 49 data will be created\n"
     ]
    },
    {
     "name": "stderr",
     "output_type": "stream",
     "text": [
      "Processing <PIL.Image.Image image mode=RGB size=1024x768 at 0x7FD26468CDA0>: 100%|██████████| 49/49 [00:00<00:00, 58.29 Samples/s]                  \n",
      "Executing Pipeline:   0%|          | 0/52 [00:00<?, ? Samples/s]"
     ]
    },
    {
     "name": "stdout",
     "output_type": "stream",
     "text": [
      "Done\n",
      "Initialised with 1 image(s) found.\n",
      "Output directory set to /root/workspace/Thyroid_Solid_Nodule/data/preprocess/chenzhou_aug/tmp/image/A4B1C4D1E1_50THY182018072310580558/output.1 ground truth image(s) found.\n",
      "\n",
      "No./root/workspace/Thyroid_Solid_Nodule/data/preprocess/chenzhou/image/A4B1C4D1E1_50THY1820180723105805586.jpg data is being augmented and 52 data will be created\n"
     ]
    },
    {
     "name": "stderr",
     "output_type": "stream",
     "text": [
      "Processing <PIL.Image.Image image mode=RGB size=1024x768 at 0x7FD2645F9470>: 100%|██████████| 52/52 [00:00<00:00, 58.68 Samples/s]                  \n",
      "Executing Pipeline:   0%|          | 0/54 [00:00<?, ? Samples/s]"
     ]
    },
    {
     "name": "stdout",
     "output_type": "stream",
     "text": [
      "Done\n",
      "Initialised with 1 image(s) found.\n",
      "Output directory set to /root/workspace/Thyroid_Solid_Nodule/data/preprocess/chenzhou_aug/tmp/image/A2B1C2D1E2_133THY5720180831150919620/output.1 ground truth image(s) found.\n",
      "\n",
      "No./root/workspace/Thyroid_Solid_Nodule/data/preprocess/chenzhou/image/A2B1C2D1E2_133THY5720180831150919620V.jpg data is being augmented and 54 data will be created\n"
     ]
    },
    {
     "name": "stderr",
     "output_type": "stream",
     "text": [
      "Processing <PIL.Image.Image image mode=RGB size=1024x768 at 0x7FD264625400>: 100%|██████████| 54/54 [00:00<00:00, 60.24 Samples/s]                  \n",
      "Executing Pipeline:   0%|          | 0/50 [00:00<?, ? Samples/s]"
     ]
    },
    {
     "name": "stdout",
     "output_type": "stream",
     "text": [
      "Done\n",
      "Initialised with 1 image(s) found.\n",
      "Output directory set to /root/workspace/Thyroid_Solid_Nodule/data/preprocess/chenzhou_aug/tmp/image/A4B1C3D1E1_124THY542018083011292386/output.1 ground truth image(s) found.\n",
      "\n",
      "No./root/workspace/Thyroid_Solid_Nodule/data/preprocess/chenzhou/image/A4B1C3D1E1_124THY5420180830112923865.jpg data is being augmented and 50 data will be created\n"
     ]
    },
    {
     "name": "stderr",
     "output_type": "stream",
     "text": [
      "Processing <PIL.Image.Image image mode=RGB size=1024x768 at 0x7FD2645F9710>: 100%|██████████| 50/50 [00:00<00:00, 59.54 Samples/s]                  \n",
      "Executing Pipeline:   0%|          | 0/57 [00:00<?, ? Samples/s]"
     ]
    },
    {
     "name": "stdout",
     "output_type": "stream",
     "text": [
      "Done\n",
      "Initialised with 1 image(s) found.\n",
      "Output directory set to /root/workspace/Thyroid_Solid_Nodule/data/preprocess/chenzhou_aug/tmp/image/A3B1C3D2E1_14THY420180717154540448/output.1 ground truth image(s) found.\n",
      "\n",
      "No./root/workspace/Thyroid_Solid_Nodule/data/preprocess/chenzhou/image/A3B1C3D2E1_14THY420180717154540448V.jpg data is being augmented and 57 data will be created\n"
     ]
    },
    {
     "name": "stderr",
     "output_type": "stream",
     "text": [
      "Processing <PIL.Image.Image image mode=RGB size=1024x768 at 0x7FD26468CB70>: 100%|██████████| 57/57 [00:01<00:00, 56.89 Samples/s]                  \n",
      "Executing Pipeline:   0%|          | 0/51 [00:00<?, ? Samples/s]"
     ]
    },
    {
     "name": "stdout",
     "output_type": "stream",
     "text": [
      "Done\n",
      "Initialised with 1 image(s) found.\n",
      "Output directory set to /root/workspace/Thyroid_Solid_Nodule/data/preprocess/chenzhou_aug/tmp/image/A4B1C2D2E4_98THY432018082015172907/output.1 ground truth image(s) found.\n",
      "\n",
      "No./root/workspace/Thyroid_Solid_Nodule/data/preprocess/chenzhou/image/A4B1C2D2E4_98THY4320180820151729074.jpg data is being augmented and 51 data will be created\n"
     ]
    },
    {
     "name": "stderr",
     "output_type": "stream",
     "text": [
      "Processing <PIL.Image.Image image mode=RGB size=1024x768 at 0x7FD2645EB0F0>: 100%|██████████| 51/51 [00:00<00:00, 62.74 Samples/s]\n",
      "Executing Pipeline:   0%|          | 0/53 [00:00<?, ? Samples/s]"
     ]
    },
    {
     "name": "stdout",
     "output_type": "stream",
     "text": [
      "Done\n",
      "Initialised with 1 image(s) found.\n",
      "Output directory set to /root/workspace/Thyroid_Solid_Nodule/data/preprocess/chenzhou_aug/tmp/image/A4B1C4D4E1_37THY1220180720110612539/output.1 ground truth image(s) found.\n",
      "\n",
      "No./root/workspace/Thyroid_Solid_Nodule/data/preprocess/chenzhou/image/A4B1C4D4E1_37THY1220180720110612539V.jpg data is being augmented and 53 data will be created\n"
     ]
    },
    {
     "name": "stderr",
     "output_type": "stream",
     "text": [
      "Processing <PIL.Image.Image image mode=RGB size=1024x768 at 0x7FD2646252B0>: 100%|██████████| 53/53 [00:00<00:00, 60.15 Samples/s]                  \n",
      "Executing Pipeline:   0%|          | 0/52 [00:00<?, ? Samples/s]"
     ]
    },
    {
     "name": "stdout",
     "output_type": "stream",
     "text": [
      "Done\n",
      "Initialised with 1 image(s) found.\n",
      "Output directory set to /root/workspace/Thyroid_Solid_Nodule/data/preprocess/chenzhou_aug/tmp/image/A4B1C3D3E1_38THY13RUTOUCA20180720113405401/output.1 ground truth image(s) found.\n",
      "\n",
      "No./root/workspace/Thyroid_Solid_Nodule/data/preprocess/chenzhou/image/A4B1C3D3E1_38THY13RUTOUCA20180720113405401T.jpg data is being augmented and 52 data will be created\n"
     ]
    },
    {
     "name": "stderr",
     "output_type": "stream",
     "text": [
      "Processing <PIL.Image.Image image mode=RGB size=1024x768 at 0x7FD26460C4A8>: 100%|██████████| 52/52 [00:01<00:00, 48.81 Samples/s]\n",
      "Executing Pipeline:   0%|          | 0/51 [00:00<?, ? Samples/s]"
     ]
    },
    {
     "name": "stdout",
     "output_type": "stream",
     "text": [
      "Done\n",
      "Initialised with 1 image(s) found.\n",
      "Output directory set to /root/workspace/Thyroid_Solid_Nodule/data/preprocess/chenzhou_aug/tmp/image/A3B1C2D1E1_16820460820180903THY12220180903085120288/output.1 ground truth image(s) found.\n",
      "\n",
      "No./root/workspace/Thyroid_Solid_Nodule/data/preprocess/chenzhou/image/A3B1C2D1E1_16820460820180903THY12220180903085120288V.jpg data is being augmented and 51 data will be created\n"
     ]
    },
    {
     "name": "stderr",
     "output_type": "stream",
     "text": [
      "Processing <PIL.Image.Image image mode=RGB size=1024x768 at 0x7FD26460BA90>: 100%|██████████| 51/51 [00:00<00:00, 55.70 Samples/s]                  \n",
      "Executing Pipeline:   0%|          | 0/49 [00:00<?, ? Samples/s]"
     ]
    },
    {
     "name": "stdout",
     "output_type": "stream",
     "text": [
      "Done\n",
      "Initialised with 1 image(s) found.\n",
      "Output directory set to /root/workspace/Thyroid_Solid_Nodule/data/preprocess/chenzhou_aug/tmp/image/A3B1C3D2E1_87THY372018081608380411/output.1 ground truth image(s) found.\n",
      "\n",
      "No./root/workspace/Thyroid_Solid_Nodule/data/preprocess/chenzhou/image/A3B1C3D2E1_87THY3720180816083804114.jpg data is being augmented and 49 data will be created\n"
     ]
    },
    {
     "name": "stderr",
     "output_type": "stream",
     "text": [
      "Processing <PIL.Image.Image image mode=RGB size=1024x768 at 0x7FD2646685C0>: 100%|██████████| 49/49 [00:00<00:00, 49.52 Samples/s]                  \n",
      "Executing Pipeline:   0%|          | 0/47 [00:00<?, ? Samples/s]"
     ]
    },
    {
     "name": "stdout",
     "output_type": "stream",
     "text": [
      "Done\n",
      "Initialised with 1 image(s) found.\n",
      "Output directory set to /root/workspace/Thyroid_Solid_Nodule/data/preprocess/chenzhou_aug/tmp/image/A4B2C4D3E4_16506181520180815THY12120180815151923830/output.1 ground truth image(s) found.\n",
      "\n",
      "No./root/workspace/Thyroid_Solid_Nodule/data/preprocess/chenzhou/image/A4B2C4D3E4_16506181520180815THY12120180815151923830V.jpg data is being augmented and 47 data will be created\n"
     ]
    },
    {
     "name": "stderr",
     "output_type": "stream",
     "text": [
      "Processing <PIL.Image.Image image mode=RGB size=1024x768 at 0x7FD26468CE10>: 100%|██████████| 47/47 [00:00<00:00, 53.39 Samples/s]                  \n",
      "Executing Pipeline:   0%|          | 0/42 [00:00<?, ? Samples/s]"
     ]
    },
    {
     "name": "stdout",
     "output_type": "stream",
     "text": [
      "Done\n",
      "Initialised with 1 image(s) found.\n",
      "Output directory set to /root/workspace/Thyroid_Solid_Nodule/data/preprocess/chenzhou_aug/tmp/image/A1B1C1D1E1_13804180920180801THY100520180801092118768/output.1 ground truth image(s) found.\n",
      "\n",
      "No./root/workspace/Thyroid_Solid_Nodule/data/preprocess/chenzhou/image/A1B1C1D1E1_13804180920180801THY100520180801092118768V.jpg data is being augmented and 42 data will be created\n"
     ]
    },
    {
     "name": "stderr",
     "output_type": "stream",
     "text": [
      "Processing <PIL.Image.Image image mode=RGB size=1024x768 at 0x7FD26460B828>: 100%|██████████| 42/42 [00:00<00:00, 52.83 Samples/s]                  \n",
      "Executing Pipeline:   0%|          | 0/56 [00:00<?, ? Samples/s]"
     ]
    },
    {
     "name": "stdout",
     "output_type": "stream",
     "text": [
      "Done\n",
      "Initialised with 1 image(s) found.\n",
      "Output directory set to /root/workspace/Thyroid_Solid_Nodule/data/preprocess/chenzhou_aug/tmp/image/A4B1C4D1E1_17803271020180906THY12920180906102742454/output.1 ground truth image(s) found.\n",
      "\n",
      "No./root/workspace/Thyroid_Solid_Nodule/data/preprocess/chenzhou/image/A4B1C4D1E1_17803271020180906THY12920180906102742454V.jpg data is being augmented and 56 data will be created\n"
     ]
    },
    {
     "name": "stderr",
     "output_type": "stream",
     "text": [
      "Processing <PIL.Image.Image image mode=RGB size=1024x768 at 0x7FD2645DBA90>: 100%|██████████| 56/56 [00:01<00:00, 51.70 Samples/s]                  \n",
      "Executing Pipeline:   0%|          | 0/43 [00:00<?, ? Samples/s]"
     ]
    },
    {
     "name": "stdout",
     "output_type": "stream",
     "text": [
      "Done\n",
      "Initialised with 1 image(s) found.\n",
      "Output directory set to /root/workspace/Thyroid_Solid_Nodule/data/preprocess/chenzhou_aug/tmp/image/A4B2C4D3E4_17612091620180905THY12820180905161037546/output.1 ground truth image(s) found.\n",
      "\n",
      "No./root/workspace/Thyroid_Solid_Nodule/data/preprocess/chenzhou/image/A4B2C4D3E4_17612091620180905THY12820180905161037546V.jpg data is being augmented and 43 data will be created\n"
     ]
    },
    {
     "name": "stderr",
     "output_type": "stream",
     "text": [
      "Processing <PIL.Image.Image image mode=RGB size=1024x768 at 0x7FD26468CBA8>: 100%|██████████| 43/43 [00:00<00:00, 51.71 Samples/s]\n",
      "Executing Pipeline:   0%|          | 0/53 [00:00<?, ? Samples/s]"
     ]
    },
    {
     "name": "stdout",
     "output_type": "stream",
     "text": [
      "Done\n",
      "Initialised with 1 image(s) found.\n",
      "Output directory set to /root/workspace/Thyroid_Solid_Nodule/data/preprocess/chenzhou_aug/tmp/image/A4B1C2D2E1_57THY2020180723163049848/output.1 ground truth image(s) found.\n",
      "\n",
      "No./root/workspace/Thyroid_Solid_Nodule/data/preprocess/chenzhou/image/A4B1C2D2E1_57THY2020180723163049848T.jpg data is being augmented and 53 data will be created\n"
     ]
    },
    {
     "name": "stderr",
     "output_type": "stream",
     "text": [
      "Processing <PIL.Image.Image image mode=RGB size=1024x768 at 0x7FD26462CF28>: 100%|██████████| 53/53 [00:01<00:00, 52.69 Samples/s]                  \n",
      "Executing Pipeline:   0%|          | 0/57 [00:00<?, ? Samples/s]"
     ]
    },
    {
     "name": "stdout",
     "output_type": "stream",
     "text": [
      "Done\n",
      "Initialised with 1 image(s) found.\n",
      "Output directory set to /root/workspace/Thyroid_Solid_Nodule/data/preprocess/chenzhou_aug/tmp/image/A1B1C1D1E1_15647281620180813THY11520180813163115220/output.1 ground truth image(s) found.\n",
      "\n",
      "No./root/workspace/Thyroid_Solid_Nodule/data/preprocess/chenzhou/image/A1B1C1D1E1_15647281620180813THY11520180813163115220T.jpg data is being augmented and 57 data will be created\n"
     ]
    },
    {
     "name": "stderr",
     "output_type": "stream",
     "text": [
      "Processing <PIL.Image.Image image mode=RGB size=1024x768 at 0x7FD2645E4198>: 100%|██████████| 57/57 [00:00<00:00, 57.30 Samples/s]\n",
      "Executing Pipeline:   0%|          | 0/46 [00:00<?, ? Samples/s]"
     ]
    },
    {
     "name": "stdout",
     "output_type": "stream",
     "text": [
      "Done\n",
      "Initialised with 1 image(s) found.\n",
      "Output directory set to /root/workspace/Thyroid_Solid_Nodule/data/preprocess/chenzhou_aug/tmp/image/A4B1C3D1E1_128THY5620180830155608465/output.1 ground truth image(s) found.\n",
      "\n",
      "No./root/workspace/Thyroid_Solid_Nodule/data/preprocess/chenzhou/image/A4B1C3D1E1_128THY5620180830155608465T.jpg data is being augmented and 46 data will be created\n"
     ]
    },
    {
     "name": "stderr",
     "output_type": "stream",
     "text": [
      "Processing <PIL.Image.Image image mode=RGB size=1024x768 at 0x7FD264702320>: 100%|██████████| 46/46 [00:00<00:00, 52.99 Samples/s]                  \n",
      "Executing Pipeline:   0%|          | 0/56 [00:00<?, ? Samples/s]"
     ]
    },
    {
     "name": "stdout",
     "output_type": "stream",
     "text": [
      "Done\n",
      "Initialised with 1 image(s) found.\n",
      "Output directory set to /root/workspace/Thyroid_Solid_Nodule/data/preprocess/chenzhou_aug/tmp/image/A4B1C3D2E1_31THY1020180719095524623/output.1 ground truth image(s) found.\n",
      "\n",
      "No./root/workspace/Thyroid_Solid_Nodule/data/preprocess/chenzhou/image/A4B1C3D2E1_31THY1020180719095524623V.jpg data is being augmented and 56 data will be created\n"
     ]
    },
    {
     "name": "stderr",
     "output_type": "stream",
     "text": [
      "Processing <PIL.Image.Image image mode=RGB size=1024x768 at 0x7FD2645DBCF8>: 100%|██████████| 56/56 [00:01<00:00, 51.62 Samples/s]                  \n",
      "Executing Pipeline:   0%|          | 0/57 [00:00<?, ? Samples/s]"
     ]
    },
    {
     "name": "stdout",
     "output_type": "stream",
     "text": [
      "Done\n",
      "Initialised with 1 image(s) found.\n",
      "Output directory set to /root/workspace/Thyroid_Solid_Nodule/data/preprocess/chenzhou_aug/tmp/image/A1B1C1D1E1_112THY4820180830092023369/output.1 ground truth image(s) found.\n",
      "\n",
      "No./root/workspace/Thyroid_Solid_Nodule/data/preprocess/chenzhou/image/A1B1C1D1E1_112THY4820180830092023369V.jpg data is being augmented and 57 data will be created\n"
     ]
    },
    {
     "name": "stderr",
     "output_type": "stream",
     "text": [
      "Processing <PIL.Image.Image image mode=RGB size=1024x768 at 0x7FD26459A630>: 100%|██████████| 57/57 [00:01<00:00, 53.76 Samples/s]                  \n",
      "Executing Pipeline:   0%|          | 0/53 [00:00<?, ? Samples/s]"
     ]
    },
    {
     "name": "stdout",
     "output_type": "stream",
     "text": [
      "Done\n",
      "Initialised with 1 image(s) found.\n",
      "Output directory set to /root/workspace/Thyroid_Solid_Nodule/data/preprocess/chenzhou_aug/tmp/image/A3B1C3D4E1_79THY3220180730112246709/output.1 ground truth image(s) found.\n",
      "\n",
      "No./root/workspace/Thyroid_Solid_Nodule/data/preprocess/chenzhou/image/A3B1C3D4E1_79THY3220180730112246709T.jpg data is being augmented and 53 data will be created\n"
     ]
    },
    {
     "name": "stderr",
     "output_type": "stream",
     "text": [
      "Processing <PIL.Image.Image image mode=RGB size=1024x768 at 0x7FD2646958D0>: 100%|██████████| 53/53 [00:01<00:00, 52.22 Samples/s]\n",
      "Executing Pipeline:   0%|          | 0/50 [00:00<?, ? Samples/s]"
     ]
    },
    {
     "name": "stdout",
     "output_type": "stream",
     "text": [
      "Done\n",
      "Initialised with 1 image(s) found.\n",
      "Output directory set to /root/workspace/Thyroid_Solid_Nodule/data/preprocess/chenzhou_aug/tmp/image/A4B1C4D2E1_25THY620180718090135881/output.1 ground truth image(s) found.\n",
      "\n",
      "No./root/workspace/Thyroid_Solid_Nodule/data/preprocess/chenzhou/image/A4B1C4D2E1_25THY620180718090135881V.jpg data is being augmented and 50 data will be created\n"
     ]
    },
    {
     "name": "stderr",
     "output_type": "stream",
     "text": [
      "Processing <PIL.Image.Image image mode=RGB size=1024x768 at 0x7FD2645B2978>: 100%|██████████| 50/50 [00:00<00:00, 50.26 Samples/s]                  \n",
      "Executing Pipeline:   0%|          | 0/49 [00:00<?, ? Samples/s]"
     ]
    },
    {
     "name": "stdout",
     "output_type": "stream",
     "text": [
      "Done\n",
      "Initialised with 1 image(s) found.\n",
      "Output directory set to /root/workspace/Thyroid_Solid_Nodule/data/preprocess/chenzhou_aug/tmp/image/A4B1C4D2E1_34THY1120180719103639246/output.1 ground truth image(s) found.\n",
      "\n",
      "No./root/workspace/Thyroid_Solid_Nodule/data/preprocess/chenzhou/image/A4B1C4D2E1_34THY1120180719103639246V.jpg data is being augmented and 49 data will be created\n"
     ]
    },
    {
     "name": "stderr",
     "output_type": "stream",
     "text": [
      "Processing <PIL.Image.Image image mode=RGB size=1024x768 at 0x7FD26462C7B8>: 100%|██████████| 49/49 [00:00<00:00, 57.16 Samples/s]                  \n",
      "Executing Pipeline:   0%|          | 0/44 [00:00<?, ? Samples/s]"
     ]
    },
    {
     "name": "stdout",
     "output_type": "stream",
     "text": [
      "Done\n",
      "Initialised with 1 image(s) found.\n",
      "Output directory set to /root/workspace/Thyroid_Solid_Nodule/data/preprocess/chenzhou_aug/tmp/image/A1B1C1D1E1_55THY1920180723153759184/output.1 ground truth image(s) found.\n",
      "\n",
      "No./root/workspace/Thyroid_Solid_Nodule/data/preprocess/chenzhou/image/A1B1C1D1E1_55THY1920180723153759184V.jpg data is being augmented and 44 data will be created\n"
     ]
    },
    {
     "name": "stderr",
     "output_type": "stream",
     "text": [
      "Processing <PIL.Image.Image image mode=RGB size=1024x768 at 0x7FD2645B2390>: 100%|██████████| 44/44 [00:00<00:00, 50.34 Samples/s]\n",
      "Executing Pipeline:   0%|          | 0/56 [00:00<?, ? Samples/s]"
     ]
    },
    {
     "name": "stdout",
     "output_type": "stream",
     "text": [
      "Done\n",
      "Initialised with 1 image(s) found.\n",
      "Output directory set to /root/workspace/Thyroid_Solid_Nodule/data/preprocess/chenzhou_aug/tmp/image/A2B1C2D1E1_19127090920180913THY13620180913091148742/output.1 ground truth image(s) found.\n",
      "\n",
      "No./root/workspace/Thyroid_Solid_Nodule/data/preprocess/chenzhou/image/A2B1C2D1E1_19127090920180913THY13620180913091148742T.jpg data is being augmented and 56 data will be created\n"
     ]
    },
    {
     "name": "stderr",
     "output_type": "stream",
     "text": [
      "Processing <PIL.Image.Image image mode=RGB size=1024x768 at 0x7FD2645F15F8>: 100%|██████████| 56/56 [00:01<00:00, 47.64 Samples/s]\n",
      "Executing Pipeline:   0%|          | 0/42 [00:00<?, ? Samples/s]"
     ]
    },
    {
     "name": "stdout",
     "output_type": "stream",
     "text": [
      "Done\n",
      "Initialised with 1 image(s) found.\n",
      "Output directory set to /root/workspace/Thyroid_Solid_Nodule/data/preprocess/chenzhou_aug/tmp/image/A2B1C2D1E1_16335091520180815THY12020180815151054185/output.1 ground truth image(s) found.\n",
      "\n",
      "No./root/workspace/Thyroid_Solid_Nodule/data/preprocess/chenzhou/image/A2B1C2D1E1_16335091520180815THY12020180815151054185T.jpg data is being augmented and 42 data will be created\n"
     ]
    },
    {
     "name": "stderr",
     "output_type": "stream",
     "text": [
      "Processing <PIL.Image.Image image mode=RGB size=1024x768 at 0x7FD2645A5898>: 100%|██████████| 42/42 [00:00<00:00, 50.36 Samples/s]                  \n",
      "Executing Pipeline:   0%|          | 0/43 [00:00<?, ? Samples/s]"
     ]
    },
    {
     "name": "stdout",
     "output_type": "stream",
     "text": [
      "Done\n",
      "Initialised with 1 image(s) found.\n",
      "Output directory set to /root/workspace/Thyroid_Solid_Nodule/data/preprocess/chenzhou_aug/tmp/image/A3B1C2D1E1_17712091620180905THY12820180905161218431/output.1 ground truth image(s) found.\n",
      "\n",
      "No./root/workspace/Thyroid_Solid_Nodule/data/preprocess/chenzhou/image/A3B1C2D1E1_17712091620180905THY12820180905161218431V.jpg data is being augmented and 43 data will be created\n"
     ]
    },
    {
     "name": "stderr",
     "output_type": "stream",
     "text": [
      "Processing <PIL.Image.Image image mode=RGB size=1024x768 at 0x7FD26459A3C8>: 100%|██████████| 43/43 [00:00<00:00, 55.53 Samples/s]                  \n",
      "Executing Pipeline:   0%|          | 0/54 [00:00<?, ? Samples/s]"
     ]
    },
    {
     "name": "stdout",
     "output_type": "stream",
     "text": [
      "Done\n",
      "Initialised with 1 image(s) found.\n",
      "Output directory set to /root/workspace/Thyroid_Solid_Nodule/data/preprocess/chenzhou_aug/tmp/image/A4B1C3D1E1_13704180920180801THY100520180801092032201/output.1 ground truth image(s) found.\n",
      "\n",
      "No./root/workspace/Thyroid_Solid_Nodule/data/preprocess/chenzhou/image/A4B1C3D1E1_13704180920180801THY100520180801092032201T.jpg data is being augmented and 54 data will be created\n"
     ]
    },
    {
     "name": "stderr",
     "output_type": "stream",
     "text": [
      "Processing <PIL.Image.Image image mode=RGB size=1024x768 at 0x7FD2645B2208>: 100%|██████████| 54/54 [00:01<00:00, 51.94 Samples/s]\n",
      "Executing Pipeline:   0%|          | 0/54 [00:00<?, ? Samples/s]"
     ]
    },
    {
     "name": "stdout",
     "output_type": "stream",
     "text": [
      "Done\n",
      "Initialised with 1 image(s) found.\n",
      "Output directory set to /root/workspace/Thyroid_Solid_Nodule/data/preprocess/chenzhou_aug/tmp/image/A4B1C2D1E1_108THY4620180823092610413/output.1 ground truth image(s) found.\n",
      "\n",
      "No./root/workspace/Thyroid_Solid_Nodule/data/preprocess/chenzhou/image/A4B1C2D1E1_108THY4620180823092610413V.jpg data is being augmented and 54 data will be created\n"
     ]
    },
    {
     "name": "stderr",
     "output_type": "stream",
     "text": [
      "Processing <PIL.Image.Image image mode=RGB size=1024x768 at 0x7FD264668F60>: 100%|██████████| 54/54 [00:01<00:00, 46.72 Samples/s]                  \n",
      "Executing Pipeline:   0%|          | 0/46 [00:00<?, ? Samples/s]"
     ]
    },
    {
     "name": "stdout",
     "output_type": "stream",
     "text": [
      "Done\n",
      "Initialised with 1 image(s) found.\n",
      "Output directory set to /root/workspace/Thyroid_Solid_Nodule/data/preprocess/chenzhou_aug/tmp/image/A4B1C3D1E1_19507361420181009THY14020181009143626383/output.1 ground truth image(s) found.\n",
      "\n",
      "No./root/workspace/Thyroid_Solid_Nodule/data/preprocess/chenzhou/image/A4B1C3D1E1_19507361420181009THY14020181009143626383V.jpg data is being augmented and 46 data will be created\n"
     ]
    },
    {
     "name": "stderr",
     "output_type": "stream",
     "text": [
      "Processing <PIL.Image.Image image mode=RGB size=1024x768 at 0x7FD2645F93C8>: 100%|██████████| 46/46 [00:00<00:00, 48.82 Samples/s]                  \n",
      "Executing Pipeline:   0%|          | 0/60 [00:00<?, ? Samples/s]"
     ]
    },
    {
     "name": "stdout",
     "output_type": "stream",
     "text": [
      "Done\n",
      "Initialised with 1 image(s) found.\n",
      "Output directory set to /root/workspace/Thyroid_Solid_Nodule/data/preprocess/chenzhou_aug/tmp/image/A3B1C2D1E1_33THY1020180719095648884/output.1 ground truth image(s) found.\n",
      "\n",
      "No./root/workspace/Thyroid_Solid_Nodule/data/preprocess/chenzhou/image/A3B1C2D1E1_33THY1020180719095648884T.jpg data is being augmented and 60 data will be created\n"
     ]
    },
    {
     "name": "stderr",
     "output_type": "stream",
     "text": [
      "Processing <PIL.JpegImagePlugin.JpegImageFile image mode=RGB size=1024x768 at 0x7FD2645B58D0>: 100%|██████████| 60/60 [00:01<00:00, 52.92 Samples/s]\n",
      "Executing Pipeline:   0%|          | 0/40 [00:00<?, ? Samples/s]"
     ]
    },
    {
     "name": "stdout",
     "output_type": "stream",
     "text": [
      "Done\n",
      "Initialised with 1 image(s) found.\n",
      "Output directory set to /root/workspace/Thyroid_Solid_Nodule/data/preprocess/chenzhou_aug/tmp/image/A2B1C2D2E1_72THY2820180727081641184/output.1 ground truth image(s) found.\n",
      "\n",
      "No./root/workspace/Thyroid_Solid_Nodule/data/preprocess/chenzhou/image/A2B1C2D2E1_72THY2820180727081641184T.jpg data is being augmented and 40 data will be created\n"
     ]
    },
    {
     "name": "stderr",
     "output_type": "stream",
     "text": [
      "Processing <PIL.Image.Image image mode=RGB size=1024x768 at 0x7FD2646959E8>: 100%|██████████| 40/40 [00:00<00:00, 52.44 Samples/s]                  \n",
      "Executing Pipeline:   0%|          | 0/58 [00:00<?, ? Samples/s]"
     ]
    },
    {
     "name": "stdout",
     "output_type": "stream",
     "text": [
      "Done\n",
      "Initialised with 1 image(s) found.\n",
      "Output directory set to /root/workspace/Thyroid_Solid_Nodule/data/preprocess/chenzhou_aug/tmp/image/A4B1C3D4E4_83THY3620180802160127471/output.1 ground truth image(s) found.\n",
      "\n",
      "No./root/workspace/Thyroid_Solid_Nodule/data/preprocess/chenzhou/image/A4B1C3D4E4_83THY3620180802160127471T.jpg data is being augmented and 58 data will be created\n"
     ]
    },
    {
     "name": "stderr",
     "output_type": "stream",
     "text": [
      "Processing <PIL.Image.Image image mode=RGB size=1024x768 at 0x7FD26462CD68>: 100%|██████████| 58/58 [00:01<00:00, 56.42 Samples/s]                  \n",
      "Executing Pipeline:   0%|          | 0/58 [00:00<?, ? Samples/s]"
     ]
    },
    {
     "name": "stdout",
     "output_type": "stream",
     "text": [
      "Done\n",
      "Initialised with 1 image(s) found.\n",
      "Output directory set to /root/workspace/Thyroid_Solid_Nodule/data/preprocess/chenzhou_aug/tmp/image/A2B1C3D1E1_15853110920180814THY11620180814091349071/output.1 ground truth image(s) found.\n",
      "\n",
      "No./root/workspace/Thyroid_Solid_Nodule/data/preprocess/chenzhou/image/A2B1C3D1E1_15853110920180814THY11620180814091349071T.jpg data is being augmented and 58 data will be created\n"
     ]
    },
    {
     "name": "stderr",
     "output_type": "stream",
     "text": [
      "Processing <PIL.Image.Image image mode=RGB size=1024x768 at 0x7FD2645FBE80>: 100%|██████████| 58/58 [00:01<00:00, 47.39 Samples/s]                  \n",
      "Executing Pipeline:   0%|          | 0/49 [00:00<?, ? Samples/s]"
     ]
    },
    {
     "name": "stdout",
     "output_type": "stream",
     "text": [
      "Done\n",
      "Initialised with 1 image(s) found.\n",
      "Output directory set to /root/workspace/Thyroid_Solid_Nodule/data/preprocess/chenzhou_aug/tmp/image/A4B1C4D3E4_96THY4120180817151857560/output.1 ground truth image(s) found.\n",
      "\n",
      "No./root/workspace/Thyroid_Solid_Nodule/data/preprocess/chenzhou/image/A4B1C4D3E4_96THY4120180817151857560V.jpg data is being augmented and 49 data will be created\n"
     ]
    },
    {
     "name": "stderr",
     "output_type": "stream",
     "text": [
      "Processing <PIL.Image.Image image mode=RGB size=1024x768 at 0x7FD26459A9E8>: 100%|██████████| 49/49 [00:00<00:00, 52.89 Samples/s]\n",
      "Executing Pipeline:   0%|          | 0/49 [00:00<?, ? Samples/s]"
     ]
    },
    {
     "name": "stdout",
     "output_type": "stream",
     "text": [
      "Done\n",
      "Initialised with 1 image(s) found.\n",
      "Output directory set to /root/workspace/Thyroid_Solid_Nodule/data/preprocess/chenzhou_aug/tmp/image/A4B1C2D1E1_16THY520180717164323160/output.1 ground truth image(s) found.\n",
      "\n",
      "No./root/workspace/Thyroid_Solid_Nodule/data/preprocess/chenzhou/image/A4B1C2D1E1_16THY520180717164323160V.jpg data is being augmented and 49 data will be created\n"
     ]
    },
    {
     "name": "stderr",
     "output_type": "stream",
     "text": [
      "Processing <PIL.Image.Image image mode=RGB size=1024x768 at 0x7FD264668358>: 100%|██████████| 49/49 [00:00<00:00, 54.12 Samples/s]                  "
     ]
    },
    {
     "name": "stdout",
     "output_type": "stream",
     "text": [
      "Done\n",
      "18841 pairs of data has been created totally\n"
     ]
    },
    {
     "name": "stderr",
     "output_type": "stream",
     "text": [
      "\n"
     ]
    }
   ],
   "source": [
    "a = start(train_path, groud_truth_path)\n",
    "doAugment(a)"
   ]
  },
  {
   "cell_type": "code",
   "execution_count": null,
   "metadata": {
    "collapsed": true
   },
   "outputs": [],
   "source": []
  }
 ],
 "metadata": {
  "kernelspec": {
   "display_name": "Python 3",
   "language": "python",
   "name": "python3"
  },
  "language_info": {
   "codemirror_mode": {
    "name": "ipython",
    "version": 3
   },
   "file_extension": ".py",
   "mimetype": "text/x-python",
   "name": "python",
   "nbconvert_exporter": "python",
   "pygments_lexer": "ipython3",
   "version": "3.6.11"
  }
 },
 "nbformat": 4,
 "nbformat_minor": 2
}
