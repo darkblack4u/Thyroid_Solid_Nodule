{
 "cells": [
  {
   "cell_type": "code",
   "execution_count": 1,
   "metadata": {
    "collapsed": true
   },
   "outputs": [],
   "source": [
    "%matplotlib inline\n",
    "import Augmentor\n",
    "import glob\n",
    "import os\n",
    "import random\n",
    "from keras_preprocessing.image import ImageDataGenerator, array_to_img, img_to_array, load_img\n",
    "\n",
    "\n",
    "os.environ[\"CUDA_VISIBLE_DEVICES\"] = \"1\""
   ]
  },
  {
   "cell_type": "code",
   "execution_count": 2,
   "metadata": {
    "collapsed": true
   },
   "outputs": [],
   "source": [
    "train_path = '/root/workspace/Thyroid_Solid_Nodule/data/preprocess/public/image'\n",
    "groud_truth_path = '/root/workspace/Thyroid_Solid_Nodule/data/preprocess/public/mask'\n",
    "img_type = 'jpg'\n",
    "train_tmp_path = '/root/workspace/Thyroid_Solid_Nodule/data/preprocess/public_aug/tmp/image'\n",
    "mask_tmp_path = '/root/workspace/Thyroid_Solid_Nodule/data/preprocess/public_aug/tmp/mask'"
   ]
  },
  {
   "cell_type": "code",
   "execution_count": 3,
   "metadata": {
    "collapsed": true
   },
   "outputs": [],
   "source": [
    "def start(train_path,groud_truth_path):\n",
    "    train_img = glob.glob(train_path+'/*.'+img_type)\n",
    "    masks = glob.glob(groud_truth_path+'/*.'+img_type)\n",
    " \n",
    "    if len(train_img) != len(masks):\n",
    "        print (\"trains can't match masks\")\n",
    "        return 0\n",
    "    for i in train_img:\n",
    "        (path, file_name)=os.path.split(i)\n",
    "        train_img_tmp_path = train_tmp_path + '/' + file_name[:-5]\n",
    "        if not os.path.lexists(train_img_tmp_path):\n",
    "            os.makedirs(train_img_tmp_path)\n",
    "        img = load_img(train_path+'/'+file_name)\n",
    "        x_t = img_to_array(img)\n",
    "        img_tmp = array_to_img(x_t)\n",
    "        img_tmp.save(train_img_tmp_path+'/'+file_name)\n",
    " \n",
    "        mask_img_tmp_path =mask_tmp_path + '/' + file_name[:-5]\n",
    "        if not os.path.lexists(mask_img_tmp_path):\n",
    "            os.makedirs(mask_img_tmp_path)\n",
    "        mask = load_img(groud_truth_path+'/'+file_name)\n",
    "        x_l = img_to_array(mask)\n",
    "        mask_tmp = array_to_img(x_l)\n",
    "        mask_tmp.save(mask_img_tmp_path+'/'+file_name)\n",
    "        print (\"%s folder has been created!\"%str(i))\n",
    "    return train_img"
   ]
  },
  {
   "cell_type": "code",
   "execution_count": 4,
   "metadata": {
    "collapsed": true
   },
   "outputs": [],
   "source": [
    "def doAugment(train_img):\n",
    "    sum = 0\n",
    "    for i in train_img:\n",
    "        (path, file_name)=os.path.split(i)\n",
    "        p = Augmentor.Pipeline(train_tmp_path+'/'+file_name[:-5])\n",
    "        p.ground_truth(mask_tmp_path+'/'+file_name[:-5])\n",
    "        p.rotate(probability=0.5, max_left_rotation=5, max_right_rotation=5)#旋转\n",
    "        p.flip_left_right(probability=0.5)#按概率左右翻转\n",
    "        p.zoom_random(probability=0.6, percentage_area=0.99)#随即将一定比例面积的图形放大至全图\n",
    "        p.flip_top_bottom(probability=0.6)#按概率随即上下翻转\n",
    "#         p.random_distortion(probability=0.8,grid_width=10,grid_height=10, magnitude=20)#小块变形\n",
    "        count = random.randint(40, 60)\n",
    "        print(\"\\nNo.%s data is being augmented and %s data will be created\"%(i,count))\n",
    "        sum = sum + count\n",
    "        p.sample(count)\n",
    "        print(\"Done\")\n",
    "    print(\"%s pairs of data has been created totally\"%sum)"
   ]
  },
  {
   "cell_type": "code",
   "execution_count": 5,
   "metadata": {},
   "outputs": [
    {
     "name": "stdout",
     "output_type": "stream",
     "text": [
      "/root/workspace/Thyroid_Solid_Nodule/data/preprocess/public/image/maligns_612_1.jpg folder has been created!\n",
      "/root/workspace/Thyroid_Solid_Nodule/data/preprocess/public/image/366_2.jpg folder has been created!\n",
      "/root/workspace/Thyroid_Solid_Nodule/data/preprocess/public/image/119_1.jpg folder has been created!\n",
      "/root/workspace/Thyroid_Solid_Nodule/data/preprocess/public/image/364_1.jpg folder has been created!\n",
      "/root/workspace/Thyroid_Solid_Nodule/data/preprocess/public/image/177_1.jpg folder has been created!\n",
      "/root/workspace/Thyroid_Solid_Nodule/data/preprocess/public/image/319_1.jpg folder has been created!\n",
      "/root/workspace/Thyroid_Solid_Nodule/data/preprocess/public/image/benigns_584_1.jpg folder has been created!\n",
      "/root/workspace/Thyroid_Solid_Nodule/data/preprocess/public/image/benigns_611_2.jpg folder has been created!\n",
      "/root/workspace/Thyroid_Solid_Nodule/data/preprocess/public/image/371_2.jpg folder has been created!\n",
      "/root/workspace/Thyroid_Solid_Nodule/data/preprocess/public/image/maligns_565_1.jpg folder has been created!\n",
      "/root/workspace/Thyroid_Solid_Nodule/data/preprocess/public/image/85_2.jpg folder has been created!\n",
      "/root/workspace/Thyroid_Solid_Nodule/data/preprocess/public/image/64_1.jpg folder has been created!\n",
      "/root/workspace/Thyroid_Solid_Nodule/data/preprocess/public/image/139_3.jpg folder has been created!\n",
      "/root/workspace/Thyroid_Solid_Nodule/data/preprocess/public/image/122_2.jpg folder has been created!\n",
      "/root/workspace/Thyroid_Solid_Nodule/data/preprocess/public/image/210_3.jpg folder has been created!\n",
      "/root/workspace/Thyroid_Solid_Nodule/data/preprocess/public/image/157_2.jpg folder has been created!\n",
      "/root/workspace/Thyroid_Solid_Nodule/data/preprocess/public/image/116_1.jpg folder has been created!\n",
      "/root/workspace/Thyroid_Solid_Nodule/data/preprocess/public/image/68_1.jpg folder has been created!\n",
      "/root/workspace/Thyroid_Solid_Nodule/data/preprocess/public/image/31_1.jpg folder has been created!\n",
      "/root/workspace/Thyroid_Solid_Nodule/data/preprocess/public/image/benigns_579_1.jpg folder has been created!\n",
      "/root/workspace/Thyroid_Solid_Nodule/data/preprocess/public/image/maligns_618_1.jpg folder has been created!\n",
      "/root/workspace/Thyroid_Solid_Nodule/data/preprocess/public/image/64_2.jpg folder has been created!\n",
      "/root/workspace/Thyroid_Solid_Nodule/data/preprocess/public/image/242_1.jpg folder has been created!\n",
      "/root/workspace/Thyroid_Solid_Nodule/data/preprocess/public/image/239_1.jpg folder has been created!\n",
      "/root/workspace/Thyroid_Solid_Nodule/data/preprocess/public/image/383_1.jpg folder has been created!\n",
      "/root/workspace/Thyroid_Solid_Nodule/data/preprocess/public/image/266_1.jpg folder has been created!\n",
      "/root/workspace/Thyroid_Solid_Nodule/data/preprocess/public/image/18_1.jpg folder has been created!\n",
      "/root/workspace/Thyroid_Solid_Nodule/data/preprocess/public/image/162_1.jpg folder has been created!\n",
      "/root/workspace/Thyroid_Solid_Nodule/data/preprocess/public/image/297_1.jpg folder has been created!\n",
      "/root/workspace/Thyroid_Solid_Nodule/data/preprocess/public/image/63_1.jpg folder has been created!\n",
      "/root/workspace/Thyroid_Solid_Nodule/data/preprocess/public/image/158_3.jpg folder has been created!\n",
      "/root/workspace/Thyroid_Solid_Nodule/data/preprocess/public/image/368_1.jpg folder has been created!\n",
      "/root/workspace/Thyroid_Solid_Nodule/data/preprocess/public/image/maligns_563_2.jpg folder has been created!\n",
      "/root/workspace/Thyroid_Solid_Nodule/data/preprocess/public/image/159_1.jpg folder has been created!\n",
      "/root/workspace/Thyroid_Solid_Nodule/data/preprocess/public/image/108_1.jpg folder has been created!\n",
      "/root/workspace/Thyroid_Solid_Nodule/data/preprocess/public/image/188_1.jpg folder has been created!\n",
      "/root/workspace/Thyroid_Solid_Nodule/data/preprocess/public/image/maligns_566_2.jpg folder has been created!\n",
      "/root/workspace/Thyroid_Solid_Nodule/data/preprocess/public/image/192_1.jpg folder has been created!\n",
      "/root/workspace/Thyroid_Solid_Nodule/data/preprocess/public/image/207_1.jpg folder has been created!\n",
      "/root/workspace/Thyroid_Solid_Nodule/data/preprocess/public/image/36_1.jpg folder has been created!\n",
      "/root/workspace/Thyroid_Solid_Nodule/data/preprocess/public/image/128_1.jpg folder has been created!\n",
      "/root/workspace/Thyroid_Solid_Nodule/data/preprocess/public/image/7_1.jpg folder has been created!\n",
      "/root/workspace/Thyroid_Solid_Nodule/data/preprocess/public/image/359_1.jpg folder has been created!\n",
      "/root/workspace/Thyroid_Solid_Nodule/data/preprocess/public/image/86_1.jpg folder has been created!\n",
      "/root/workspace/Thyroid_Solid_Nodule/data/preprocess/public/image/359_2.jpg folder has been created!\n",
      "/root/workspace/Thyroid_Solid_Nodule/data/preprocess/public/image/245_1.jpg folder has been created!\n",
      "/root/workspace/Thyroid_Solid_Nodule/data/preprocess/public/image/213_1.jpg folder has been created!\n",
      "/root/workspace/Thyroid_Solid_Nodule/data/preprocess/public/image/252_1.jpg folder has been created!\n",
      "/root/workspace/Thyroid_Solid_Nodule/data/preprocess/public/image/maligns_625_1.jpg folder has been created!\n",
      "/root/workspace/Thyroid_Solid_Nodule/data/preprocess/public/image/134_1.jpg folder has been created!\n",
      "/root/workspace/Thyroid_Solid_Nodule/data/preprocess/public/image/366_1.jpg folder has been created!\n",
      "/root/workspace/Thyroid_Solid_Nodule/data/preprocess/public/image/182_1.jpg folder has been created!\n",
      "/root/workspace/Thyroid_Solid_Nodule/data/preprocess/public/image/174_1.jpg folder has been created!\n",
      "/root/workspace/Thyroid_Solid_Nodule/data/preprocess/public/image/314_1.jpg folder has been created!\n",
      "/root/workspace/Thyroid_Solid_Nodule/data/preprocess/public/image/99_2.jpg folder has been created!\n",
      "/root/workspace/Thyroid_Solid_Nodule/data/preprocess/public/image/333_1.jpg folder has been created!\n",
      "/root/workspace/Thyroid_Solid_Nodule/data/preprocess/public/image/338_1.jpg folder has been created!\n",
      "/root/workspace/Thyroid_Solid_Nodule/data/preprocess/public/image/benigns_607_1.jpg folder has been created!\n",
      "/root/workspace/Thyroid_Solid_Nodule/data/preprocess/public/image/234_1.jpg folder has been created!\n",
      "/root/workspace/Thyroid_Solid_Nodule/data/preprocess/public/image/40_1.jpg folder has been created!\n",
      "/root/workspace/Thyroid_Solid_Nodule/data/preprocess/public/image/216_1.jpg folder has been created!\n",
      "/root/workspace/Thyroid_Solid_Nodule/data/preprocess/public/image/224_1.jpg folder has been created!\n",
      "/root/workspace/Thyroid_Solid_Nodule/data/preprocess/public/image/234_3.jpg folder has been created!\n",
      "/root/workspace/Thyroid_Solid_Nodule/data/preprocess/public/image/167_1.jpg folder has been created!\n",
      "/root/workspace/Thyroid_Solid_Nodule/data/preprocess/public/image/145_1.jpg folder has been created!\n",
      "/root/workspace/Thyroid_Solid_Nodule/data/preprocess/public/image/146_1.jpg folder has been created!\n",
      "/root/workspace/Thyroid_Solid_Nodule/data/preprocess/public/image/45_1.jpg folder has been created!\n",
      "/root/workspace/Thyroid_Solid_Nodule/data/preprocess/public/image/150_1.jpg folder has been created!\n",
      "/root/workspace/Thyroid_Solid_Nodule/data/preprocess/public/image/60_1.jpg folder has been created!\n",
      "/root/workspace/Thyroid_Solid_Nodule/data/preprocess/public/image/maligns_568_1.jpg folder has been created!\n",
      "/root/workspace/Thyroid_Solid_Nodule/data/preprocess/public/image/90_2.jpg folder has been created!\n",
      "/root/workspace/Thyroid_Solid_Nodule/data/preprocess/public/image/362_1.jpg folder has been created!\n",
      "/root/workspace/Thyroid_Solid_Nodule/data/preprocess/public/image/179_1.jpg folder has been created!\n",
      "/root/workspace/Thyroid_Solid_Nodule/data/preprocess/public/image/175_1.jpg folder has been created!\n",
      "/root/workspace/Thyroid_Solid_Nodule/data/preprocess/public/image/83_1.jpg folder has been created!\n",
      "/root/workspace/Thyroid_Solid_Nodule/data/preprocess/public/image/397_1.jpg folder has been created!\n",
      "/root/workspace/Thyroid_Solid_Nodule/data/preprocess/public/image/371_1.jpg folder has been created!\n",
      "/root/workspace/Thyroid_Solid_Nodule/data/preprocess/public/image/23_1.jpg folder has been created!\n",
      "/root/workspace/Thyroid_Solid_Nodule/data/preprocess/public/image/315_1.jpg folder has been created!\n",
      "/root/workspace/Thyroid_Solid_Nodule/data/preprocess/public/image/94_1.jpg folder has been created!\n",
      "/root/workspace/Thyroid_Solid_Nodule/data/preprocess/public/image/5_1.jpg folder has been created!\n",
      "/root/workspace/Thyroid_Solid_Nodule/data/preprocess/public/image/312_1.jpg folder has been created!\n",
      "/root/workspace/Thyroid_Solid_Nodule/data/preprocess/public/image/269_1.jpg folder has been created!\n",
      "/root/workspace/Thyroid_Solid_Nodule/data/preprocess/public/image/282_1.jpg folder has been created!\n",
      "/root/workspace/Thyroid_Solid_Nodule/data/preprocess/public/image/223_1.jpg folder has been created!\n",
      "/root/workspace/Thyroid_Solid_Nodule/data/preprocess/public/image/93_1.jpg folder has been created!\n"
     ]
    },
    {
     "name": "stdout",
     "output_type": "stream",
     "text": [
      "/root/workspace/Thyroid_Solid_Nodule/data/preprocess/public/image/12_1.jpg folder has been created!\n",
      "/root/workspace/Thyroid_Solid_Nodule/data/preprocess/public/image/361_1.jpg folder has been created!\n",
      "/root/workspace/Thyroid_Solid_Nodule/data/preprocess/public/image/206_1.jpg folder has been created!\n",
      "/root/workspace/Thyroid_Solid_Nodule/data/preprocess/public/image/204_1.jpg folder has been created!\n",
      "/root/workspace/Thyroid_Solid_Nodule/data/preprocess/public/image/377_1.jpg folder has been created!\n",
      "/root/workspace/Thyroid_Solid_Nodule/data/preprocess/public/image/169_1.jpg folder has been created!\n",
      "/root/workspace/Thyroid_Solid_Nodule/data/preprocess/public/image/benigns_597_1.jpg folder has been created!\n",
      "/root/workspace/Thyroid_Solid_Nodule/data/preprocess/public/image/302_1.jpg folder has been created!\n",
      "/root/workspace/Thyroid_Solid_Nodule/data/preprocess/public/image/43_1.jpg folder has been created!\n",
      "/root/workspace/Thyroid_Solid_Nodule/data/preprocess/public/image/92_1.jpg folder has been created!\n",
      "/root/workspace/Thyroid_Solid_Nodule/data/preprocess/public/image/340_1.jpg folder has been created!\n",
      "/root/workspace/Thyroid_Solid_Nodule/data/preprocess/public/image/93_2.jpg folder has been created!\n",
      "/root/workspace/Thyroid_Solid_Nodule/data/preprocess/public/image/352_1.jpg folder has been created!\n",
      "/root/workspace/Thyroid_Solid_Nodule/data/preprocess/public/image/193_1.jpg folder has been created!\n",
      "/root/workspace/Thyroid_Solid_Nodule/data/preprocess/public/image/95_1.jpg folder has been created!\n",
      "/root/workspace/Thyroid_Solid_Nodule/data/preprocess/public/image/118_1.jpg folder has been created!\n",
      "/root/workspace/Thyroid_Solid_Nodule/data/preprocess/public/image/80_2.jpg folder has been created!\n",
      "/root/workspace/Thyroid_Solid_Nodule/data/preprocess/public/image/185_1.jpg folder has been created!\n",
      "/root/workspace/Thyroid_Solid_Nodule/data/preprocess/public/image/264_1.jpg folder has been created!\n",
      "/root/workspace/Thyroid_Solid_Nodule/data/preprocess/public/image/27_1.jpg folder has been created!\n",
      "/root/workspace/Thyroid_Solid_Nodule/data/preprocess/public/image/104_1.jpg folder has been created!\n",
      "/root/workspace/Thyroid_Solid_Nodule/data/preprocess/public/image/279_1.jpg folder has been created!\n",
      "/root/workspace/Thyroid_Solid_Nodule/data/preprocess/public/image/131_1.jpg folder has been created!\n",
      "/root/workspace/Thyroid_Solid_Nodule/data/preprocess/public/image/337_2.jpg folder has been created!\n",
      "/root/workspace/Thyroid_Solid_Nodule/data/preprocess/public/image/48_1.jpg folder has been created!\n",
      "/root/workspace/Thyroid_Solid_Nodule/data/preprocess/public/image/53_1.jpg folder has been created!\n",
      "/root/workspace/Thyroid_Solid_Nodule/data/preprocess/public/image/318_2.jpg folder has been created!\n",
      "/root/workspace/Thyroid_Solid_Nodule/data/preprocess/public/image/170_1.jpg folder has been created!\n",
      "/root/workspace/Thyroid_Solid_Nodule/data/preprocess/public/image/maligns_631_1.jpg folder has been created!\n",
      "/root/workspace/Thyroid_Solid_Nodule/data/preprocess/public/image/maligns_551_3.jpg folder has been created!\n",
      "/root/workspace/Thyroid_Solid_Nodule/data/preprocess/public/image/maligns_638_1.jpg folder has been created!\n",
      "/root/workspace/Thyroid_Solid_Nodule/data/preprocess/public/image/8_1.jpg folder has been created!\n",
      "/root/workspace/Thyroid_Solid_Nodule/data/preprocess/public/image/292_1.jpg folder has been created!\n",
      "/root/workspace/Thyroid_Solid_Nodule/data/preprocess/public/image/65_2.jpg folder has been created!\n",
      "/root/workspace/Thyroid_Solid_Nodule/data/preprocess/public/image/75_1.jpg folder has been created!\n",
      "/root/workspace/Thyroid_Solid_Nodule/data/preprocess/public/image/294_2.jpg folder has been created!\n",
      "/root/workspace/Thyroid_Solid_Nodule/data/preprocess/public/image/303_1.jpg folder has been created!\n",
      "/root/workspace/Thyroid_Solid_Nodule/data/preprocess/public/image/156_2.jpg folder has been created!\n",
      "/root/workspace/Thyroid_Solid_Nodule/data/preprocess/public/image/277_1.jpg folder has been created!\n",
      "/root/workspace/Thyroid_Solid_Nodule/data/preprocess/public/image/275_1.jpg folder has been created!\n",
      "/root/workspace/Thyroid_Solid_Nodule/data/preprocess/public/image/109_1.jpg folder has been created!\n",
      "/root/workspace/Thyroid_Solid_Nodule/data/preprocess/public/image/71_1.jpg folder has been created!\n",
      "/root/workspace/Thyroid_Solid_Nodule/data/preprocess/public/image/13_1.jpg folder has been created!\n",
      "/root/workspace/Thyroid_Solid_Nodule/data/preprocess/public/image/39_1.jpg folder has been created!\n",
      "/root/workspace/Thyroid_Solid_Nodule/data/preprocess/public/image/maligns_639_1.jpg folder has been created!\n",
      "/root/workspace/Thyroid_Solid_Nodule/data/preprocess/public/image/163_1.jpg folder has been created!\n",
      "/root/workspace/Thyroid_Solid_Nodule/data/preprocess/public/image/186_1.jpg folder has been created!\n",
      "/root/workspace/Thyroid_Solid_Nodule/data/preprocess/public/image/97_1.jpg folder has been created!\n",
      "/root/workspace/Thyroid_Solid_Nodule/data/preprocess/public/image/373_2.jpg folder has been created!\n",
      "/root/workspace/Thyroid_Solid_Nodule/data/preprocess/public/image/382_1.jpg folder has been created!\n",
      "/root/workspace/Thyroid_Solid_Nodule/data/preprocess/public/image/323_1.jpg folder has been created!\n",
      "/root/workspace/Thyroid_Solid_Nodule/data/preprocess/public/image/maligns_561_2.jpg folder has been created!\n",
      "/root/workspace/Thyroid_Solid_Nodule/data/preprocess/public/image/296_5.jpg folder has been created!\n",
      "/root/workspace/Thyroid_Solid_Nodule/data/preprocess/public/image/376_1.jpg folder has been created!\n",
      "/root/workspace/Thyroid_Solid_Nodule/data/preprocess/public/image/88_2.jpg folder has been created!\n",
      "/root/workspace/Thyroid_Solid_Nodule/data/preprocess/public/image/117_1.jpg folder has been created!\n",
      "/root/workspace/Thyroid_Solid_Nodule/data/preprocess/public/image/248_1.jpg folder has been created!\n",
      "/root/workspace/Thyroid_Solid_Nodule/data/preprocess/public/image/315_2.jpg folder has been created!\n",
      "/root/workspace/Thyroid_Solid_Nodule/data/preprocess/public/image/358_2.jpg folder has been created!\n",
      "/root/workspace/Thyroid_Solid_Nodule/data/preprocess/public/image/261_1.jpg folder has been created!\n",
      "/root/workspace/Thyroid_Solid_Nodule/data/preprocess/public/image/157_1.jpg folder has been created!\n",
      "/root/workspace/Thyroid_Solid_Nodule/data/preprocess/public/image/354_1.jpg folder has been created!\n",
      "/root/workspace/Thyroid_Solid_Nodule/data/preprocess/public/image/208_1.jpg folder has been created!\n",
      "/root/workspace/Thyroid_Solid_Nodule/data/preprocess/public/image/51_1.jpg folder has been created!\n",
      "/root/workspace/Thyroid_Solid_Nodule/data/preprocess/public/image/268_1.jpg folder has been created!\n",
      "/root/workspace/Thyroid_Solid_Nodule/data/preprocess/public/image/115_1.jpg folder has been created!\n",
      "/root/workspace/Thyroid_Solid_Nodule/data/preprocess/public/image/66_1.jpg folder has been created!\n",
      "/root/workspace/Thyroid_Solid_Nodule/data/preprocess/public/image/69_3.jpg folder has been created!\n",
      "/root/workspace/Thyroid_Solid_Nodule/data/preprocess/public/image/maligns_566_1.jpg folder has been created!\n",
      "/root/workspace/Thyroid_Solid_Nodule/data/preprocess/public/image/334_1.jpg folder has been created!\n",
      "/root/workspace/Thyroid_Solid_Nodule/data/preprocess/public/image/251_1.jpg folder has been created!\n",
      "/root/workspace/Thyroid_Solid_Nodule/data/preprocess/public/image/351_1.jpg folder has been created!\n",
      "/root/workspace/Thyroid_Solid_Nodule/data/preprocess/public/image/106_3.jpg folder has been created!\n",
      "/root/workspace/Thyroid_Solid_Nodule/data/preprocess/public/image/375_1.jpg folder has been created!\n",
      "/root/workspace/Thyroid_Solid_Nodule/data/preprocess/public/image/400_1.jpg folder has been created!\n",
      "/root/workspace/Thyroid_Solid_Nodule/data/preprocess/public/image/222_1.jpg folder has been created!\n",
      "/root/workspace/Thyroid_Solid_Nodule/data/preprocess/public/image/124_1.jpg folder has been created!\n",
      "/root/workspace/Thyroid_Solid_Nodule/data/preprocess/public/image/329_1.jpg folder has been created!\n",
      "/root/workspace/Thyroid_Solid_Nodule/data/preprocess/public/image/250_1.jpg folder has been created!\n",
      "/root/workspace/Thyroid_Solid_Nodule/data/preprocess/public/image/maligns_563_1.jpg folder has been created!\n",
      "/root/workspace/Thyroid_Solid_Nodule/data/preprocess/public/image/29_1.jpg folder has been created!\n",
      "/root/workspace/Thyroid_Solid_Nodule/data/preprocess/public/image/220_1.jpg folder has been created!\n",
      "/root/workspace/Thyroid_Solid_Nodule/data/preprocess/public/image/85_1.jpg folder has been created!\n",
      "/root/workspace/Thyroid_Solid_Nodule/data/preprocess/public/image/benigns_575_1.jpg folder has been created!\n",
      "/root/workspace/Thyroid_Solid_Nodule/data/preprocess/public/image/196_1.jpg folder has been created!\n",
      "/root/workspace/Thyroid_Solid_Nodule/data/preprocess/public/image/maligns_608_1.jpg folder has been created!\n",
      "/root/workspace/Thyroid_Solid_Nodule/data/preprocess/public/image/benigns_582_1.jpg folder has been created!\n"
     ]
    },
    {
     "name": "stdout",
     "output_type": "stream",
     "text": [
      "/root/workspace/Thyroid_Solid_Nodule/data/preprocess/public/image/30_1.jpg folder has been created!\n",
      "/root/workspace/Thyroid_Solid_Nodule/data/preprocess/public/image/156_1.jpg folder has been created!\n",
      "/root/workspace/Thyroid_Solid_Nodule/data/preprocess/public/image/346_1.jpg folder has been created!\n",
      "/root/workspace/Thyroid_Solid_Nodule/data/preprocess/public/image/183_1.jpg folder has been created!\n",
      "/root/workspace/Thyroid_Solid_Nodule/data/preprocess/public/image/maligns_551_2.jpg folder has been created!\n",
      "/root/workspace/Thyroid_Solid_Nodule/data/preprocess/public/image/11_1.jpg folder has been created!\n",
      "/root/workspace/Thyroid_Solid_Nodule/data/preprocess/public/image/maligns_562_1.jpg folder has been created!\n",
      "/root/workspace/Thyroid_Solid_Nodule/data/preprocess/public/image/158_2.jpg folder has been created!\n",
      "/root/workspace/Thyroid_Solid_Nodule/data/preprocess/public/image/maligns_545_2.jpg folder has been created!\n",
      "/root/workspace/Thyroid_Solid_Nodule/data/preprocess/public/image/308_1.jpg folder has been created!\n",
      "/root/workspace/Thyroid_Solid_Nodule/data/preprocess/public/image/217_1.jpg folder has been created!\n",
      "/root/workspace/Thyroid_Solid_Nodule/data/preprocess/public/image/87_1.jpg folder has been created!\n",
      "/root/workspace/Thyroid_Solid_Nodule/data/preprocess/public/image/287_1.jpg folder has been created!\n",
      "/root/workspace/Thyroid_Solid_Nodule/data/preprocess/public/image/62_2.jpg folder has been created!\n",
      "/root/workspace/Thyroid_Solid_Nodule/data/preprocess/public/image/maligns_640_1.jpg folder has been created!\n",
      "/root/workspace/Thyroid_Solid_Nodule/data/preprocess/public/image/14_1.jpg folder has been created!\n",
      "/root/workspace/Thyroid_Solid_Nodule/data/preprocess/public/image/benigns_648_1.jpg folder has been created!\n",
      "/root/workspace/Thyroid_Solid_Nodule/data/preprocess/public/image/278_1.jpg folder has been created!\n",
      "/root/workspace/Thyroid_Solid_Nodule/data/preprocess/public/image/187_1.jpg folder has been created!\n",
      "/root/workspace/Thyroid_Solid_Nodule/data/preprocess/public/image/356_1.jpg folder has been created!\n",
      "/root/workspace/Thyroid_Solid_Nodule/data/preprocess/public/image/399_1.jpg folder has been created!\n",
      "/root/workspace/Thyroid_Solid_Nodule/data/preprocess/public/image/147_1.jpg folder has been created!\n",
      "/root/workspace/Thyroid_Solid_Nodule/data/preprocess/public/image/336_2.jpg folder has been created!\n",
      "/root/workspace/Thyroid_Solid_Nodule/data/preprocess/public/image/331_1.jpg folder has been created!\n",
      "/root/workspace/Thyroid_Solid_Nodule/data/preprocess/public/image/96_2.jpg folder has been created!\n",
      "/root/workspace/Thyroid_Solid_Nodule/data/preprocess/public/image/296_1.jpg folder has been created!\n",
      "/root/workspace/Thyroid_Solid_Nodule/data/preprocess/public/image/maligns_574_1.jpg folder has been created!\n",
      "/root/workspace/Thyroid_Solid_Nodule/data/preprocess/public/image/16_1.jpg folder has been created!\n",
      "/root/workspace/Thyroid_Solid_Nodule/data/preprocess/public/image/maligns_551_1.jpg folder has been created!\n",
      "/root/workspace/Thyroid_Solid_Nodule/data/preprocess/public/image/183_2.jpg folder has been created!\n",
      "/root/workspace/Thyroid_Solid_Nodule/data/preprocess/public/image/350_2.jpg folder has been created!\n",
      "/root/workspace/Thyroid_Solid_Nodule/data/preprocess/public/image/246_1.jpg folder has been created!\n",
      "/root/workspace/Thyroid_Solid_Nodule/data/preprocess/public/image/240_1.jpg folder has been created!\n",
      "/root/workspace/Thyroid_Solid_Nodule/data/preprocess/public/image/317_2.jpg folder has been created!\n",
      "/root/workspace/Thyroid_Solid_Nodule/data/preprocess/public/image/benigns_575_2.jpg folder has been created!\n",
      "/root/workspace/Thyroid_Solid_Nodule/data/preprocess/public/image/353_2.jpg folder has been created!\n",
      "/root/workspace/Thyroid_Solid_Nodule/data/preprocess/public/image/maligns_606_1.jpg folder has been created!\n",
      "/root/workspace/Thyroid_Solid_Nodule/data/preprocess/public/image/304_1.jpg folder has been created!\n",
      "/root/workspace/Thyroid_Solid_Nodule/data/preprocess/public/image/244_1.jpg folder has been created!\n",
      "/root/workspace/Thyroid_Solid_Nodule/data/preprocess/public/image/92_3.jpg folder has been created!\n",
      "/root/workspace/Thyroid_Solid_Nodule/data/preprocess/public/image/391_1.jpg folder has been created!\n",
      "/root/workspace/Thyroid_Solid_Nodule/data/preprocess/public/image/98_1.jpg folder has been created!\n",
      "/root/workspace/Thyroid_Solid_Nodule/data/preprocess/public/image/175_2.jpg folder has been created!\n",
      "/root/workspace/Thyroid_Solid_Nodule/data/preprocess/public/image/maligns_576_1.jpg folder has been created!\n",
      "/root/workspace/Thyroid_Solid_Nodule/data/preprocess/public/image/338_2.jpg folder has been created!\n",
      "/root/workspace/Thyroid_Solid_Nodule/data/preprocess/public/image/288_1.jpg folder has been created!\n",
      "/root/workspace/Thyroid_Solid_Nodule/data/preprocess/public/image/maligns_613_1.jpg folder has been created!\n",
      "/root/workspace/Thyroid_Solid_Nodule/data/preprocess/public/image/maligns_564_5.jpg folder has been created!\n",
      "/root/workspace/Thyroid_Solid_Nodule/data/preprocess/public/image/306_1.jpg folder has been created!\n",
      "/root/workspace/Thyroid_Solid_Nodule/data/preprocess/public/image/344_1.jpg folder has been created!\n",
      "/root/workspace/Thyroid_Solid_Nodule/data/preprocess/public/image/149_1.jpg folder has been created!\n",
      "/root/workspace/Thyroid_Solid_Nodule/data/preprocess/public/image/396_1.jpg folder has been created!\n",
      "/root/workspace/Thyroid_Solid_Nodule/data/preprocess/public/image/164_1.jpg folder has been created!\n",
      "/root/workspace/Thyroid_Solid_Nodule/data/preprocess/public/image/20_1.jpg folder has been created!\n",
      "/root/workspace/Thyroid_Solid_Nodule/data/preprocess/public/image/146_2.jpg folder has been created!\n",
      "/root/workspace/Thyroid_Solid_Nodule/data/preprocess/public/image/390_1.jpg folder has been created!\n",
      "/root/workspace/Thyroid_Solid_Nodule/data/preprocess/public/image/50_1.jpg folder has been created!\n",
      "/root/workspace/Thyroid_Solid_Nodule/data/preprocess/public/image/232_1.jpg folder has been created!\n",
      "/root/workspace/Thyroid_Solid_Nodule/data/preprocess/public/image/219_1.jpg folder has been created!\n",
      "/root/workspace/Thyroid_Solid_Nodule/data/preprocess/public/image/395_2.jpg folder has been created!\n",
      "/root/workspace/Thyroid_Solid_Nodule/data/preprocess/public/image/72_1.jpg folder has been created!\n",
      "/root/workspace/Thyroid_Solid_Nodule/data/preprocess/public/image/373_1.jpg folder has been created!\n",
      "/root/workspace/Thyroid_Solid_Nodule/data/preprocess/public/image/363_1.jpg folder has been created!\n",
      "/root/workspace/Thyroid_Solid_Nodule/data/preprocess/public/image/210_1.jpg folder has been created!\n",
      "/root/workspace/Thyroid_Solid_Nodule/data/preprocess/public/image/139_2.jpg folder has been created!\n",
      "/root/workspace/Thyroid_Solid_Nodule/data/preprocess/public/image/110_1.jpg folder has been created!\n",
      "/root/workspace/Thyroid_Solid_Nodule/data/preprocess/public/image/272_1.jpg folder has been created!\n",
      "/root/workspace/Thyroid_Solid_Nodule/data/preprocess/public/image/273_1.jpg folder has been created!\n",
      "/root/workspace/Thyroid_Solid_Nodule/data/preprocess/public/image/106_1.jpg folder has been created!\n",
      "/root/workspace/Thyroid_Solid_Nodule/data/preprocess/public/image/289_1.jpg folder has been created!\n",
      "/root/workspace/Thyroid_Solid_Nodule/data/preprocess/public/image/maligns_561_1.jpg folder has been created!\n",
      "/root/workspace/Thyroid_Solid_Nodule/data/preprocess/public/image/296_2.jpg folder has been created!\n",
      "/root/workspace/Thyroid_Solid_Nodule/data/preprocess/public/image/335_2.jpg folder has been created!\n",
      "/root/workspace/Thyroid_Solid_Nodule/data/preprocess/public/image/380_1.jpg folder has been created!\n",
      "/root/workspace/Thyroid_Solid_Nodule/data/preprocess/public/image/62_1.jpg folder has been created!\n",
      "/root/workspace/Thyroid_Solid_Nodule/data/preprocess/public/image/106_2.jpg folder has been created!\n",
      "/root/workspace/Thyroid_Solid_Nodule/data/preprocess/public/image/152_1.jpg folder has been created!\n",
      "/root/workspace/Thyroid_Solid_Nodule/data/preprocess/public/image/233_1.jpg folder has been created!\n",
      "/root/workspace/Thyroid_Solid_Nodule/data/preprocess/public/image/249_1.jpg folder has been created!\n",
      "/root/workspace/Thyroid_Solid_Nodule/data/preprocess/public/image/74_1.jpg folder has been created!\n",
      "/root/workspace/Thyroid_Solid_Nodule/data/preprocess/public/image/347_1.jpg folder has been created!\n",
      "/root/workspace/Thyroid_Solid_Nodule/data/preprocess/public/image/330_1.jpg folder has been created!\n",
      "/root/workspace/Thyroid_Solid_Nodule/data/preprocess/public/image/benigns_600_1.jpg folder has been created!\n",
      "/root/workspace/Thyroid_Solid_Nodule/data/preprocess/public/image/173_1.jpg folder has been created!\n",
      "/root/workspace/Thyroid_Solid_Nodule/data/preprocess/public/image/307_1.jpg folder has been created!\n",
      "/root/workspace/Thyroid_Solid_Nodule/data/preprocess/public/image/228_1.jpg folder has been created!\n",
      "/root/workspace/Thyroid_Solid_Nodule/data/preprocess/public/image/70_1.jpg folder has been created!\n",
      "/root/workspace/Thyroid_Solid_Nodule/data/preprocess/public/image/maligns_609_1.jpg folder has been created!\n",
      "/root/workspace/Thyroid_Solid_Nodule/data/preprocess/public/image/316_1.jpg folder has been created!\n",
      "/root/workspace/Thyroid_Solid_Nodule/data/preprocess/public/image/280_1.jpg folder has been created!\n"
     ]
    },
    {
     "name": "stdout",
     "output_type": "stream",
     "text": [
      "/root/workspace/Thyroid_Solid_Nodule/data/preprocess/public/image/284_1.jpg folder has been created!\n",
      "/root/workspace/Thyroid_Solid_Nodule/data/preprocess/public/image/263_1.jpg folder has been created!\n",
      "/root/workspace/Thyroid_Solid_Nodule/data/preprocess/public/image/15_1.jpg folder has been created!\n",
      "/root/workspace/Thyroid_Solid_Nodule/data/preprocess/public/image/209_1.jpg folder has been created!\n",
      "/root/workspace/Thyroid_Solid_Nodule/data/preprocess/public/image/202_1.jpg folder has been created!\n",
      "/root/workspace/Thyroid_Solid_Nodule/data/preprocess/public/image/144_1.jpg folder has been created!\n",
      "/root/workspace/Thyroid_Solid_Nodule/data/preprocess/public/image/337_1.jpg folder has been created!\n",
      "/root/workspace/Thyroid_Solid_Nodule/data/preprocess/public/image/237_1.jpg folder has been created!\n",
      "/root/workspace/Thyroid_Solid_Nodule/data/preprocess/public/image/347_2.jpg folder has been created!\n",
      "/root/workspace/Thyroid_Solid_Nodule/data/preprocess/public/image/78_1.jpg folder has been created!\n",
      "/root/workspace/Thyroid_Solid_Nodule/data/preprocess/public/image/230_1.jpg folder has been created!\n",
      "/root/workspace/Thyroid_Solid_Nodule/data/preprocess/public/image/33_1.jpg folder has been created!\n",
      "/root/workspace/Thyroid_Solid_Nodule/data/preprocess/public/image/343_1.jpg folder has been created!\n",
      "/root/workspace/Thyroid_Solid_Nodule/data/preprocess/public/image/260_1.jpg folder has been created!\n",
      "/root/workspace/Thyroid_Solid_Nodule/data/preprocess/public/image/247_1.jpg folder has been created!\n",
      "/root/workspace/Thyroid_Solid_Nodule/data/preprocess/public/image/maligns_569_2.jpg folder has been created!\n",
      "/root/workspace/Thyroid_Solid_Nodule/data/preprocess/public/image/125_1.jpg folder has been created!\n",
      "/root/workspace/Thyroid_Solid_Nodule/data/preprocess/public/image/210_2.jpg folder has been created!\n",
      "/root/workspace/Thyroid_Solid_Nodule/data/preprocess/public/image/293_1.jpg folder has been created!\n",
      "/root/workspace/Thyroid_Solid_Nodule/data/preprocess/public/image/57_1.jpg folder has been created!\n",
      "/root/workspace/Thyroid_Solid_Nodule/data/preprocess/public/image/138_2.jpg folder has been created!\n",
      "/root/workspace/Thyroid_Solid_Nodule/data/preprocess/public/image/360_1.jpg folder has been created!\n",
      "/root/workspace/Thyroid_Solid_Nodule/data/preprocess/public/image/maligns_644_1.jpg folder has been created!\n",
      "/root/workspace/Thyroid_Solid_Nodule/data/preprocess/public/image/398_1.jpg folder has been created!\n",
      "/root/workspace/Thyroid_Solid_Nodule/data/preprocess/public/image/141_1.jpg folder has been created!\n",
      "/root/workspace/Thyroid_Solid_Nodule/data/preprocess/public/image/256_1.jpg folder has been created!\n",
      "/root/workspace/Thyroid_Solid_Nodule/data/preprocess/public/image/330_2.jpg folder has been created!\n",
      "/root/workspace/Thyroid_Solid_Nodule/data/preprocess/public/image/105_1.jpg folder has been created!\n",
      "/root/workspace/Thyroid_Solid_Nodule/data/preprocess/public/image/34_1.jpg folder has been created!\n",
      "/root/workspace/Thyroid_Solid_Nodule/data/preprocess/public/image/65_1.jpg folder has been created!\n",
      "/root/workspace/Thyroid_Solid_Nodule/data/preprocess/public/image/311_1.jpg folder has been created!\n",
      "/root/workspace/Thyroid_Solid_Nodule/data/preprocess/public/image/maligns_552_2.jpg folder has been created!\n",
      "/root/workspace/Thyroid_Solid_Nodule/data/preprocess/public/image/38_1.jpg folder has been created!\n",
      "/root/workspace/Thyroid_Solid_Nodule/data/preprocess/public/image/294_1.jpg folder has been created!\n",
      "/root/workspace/Thyroid_Solid_Nodule/data/preprocess/public/image/387_2.jpg folder has been created!\n",
      "/root/workspace/Thyroid_Solid_Nodule/data/preprocess/public/image/367_2.jpg folder has been created!\n",
      "/root/workspace/Thyroid_Solid_Nodule/data/preprocess/public/image/112_1.jpg folder has been created!\n",
      "/root/workspace/Thyroid_Solid_Nodule/data/preprocess/public/image/maligns_554_1.jpg folder has been created!\n",
      "/root/workspace/Thyroid_Solid_Nodule/data/preprocess/public/image/25_1.jpg folder has been created!\n",
      "/root/workspace/Thyroid_Solid_Nodule/data/preprocess/public/image/195_1.jpg folder has been created!\n",
      "/root/workspace/Thyroid_Solid_Nodule/data/preprocess/public/image/61_1.jpg folder has been created!\n",
      "/root/workspace/Thyroid_Solid_Nodule/data/preprocess/public/image/6_1.jpg folder has been created!\n",
      "/root/workspace/Thyroid_Solid_Nodule/data/preprocess/public/image/214_1.jpg folder has been created!\n",
      "/root/workspace/Thyroid_Solid_Nodule/data/preprocess/public/image/317_1.jpg folder has been created!\n",
      "/root/workspace/Thyroid_Solid_Nodule/data/preprocess/public/image/49_1.jpg folder has been created!\n",
      "/root/workspace/Thyroid_Solid_Nodule/data/preprocess/public/image/365_1.jpg folder has been created!\n",
      "/root/workspace/Thyroid_Solid_Nodule/data/preprocess/public/image/255_1.jpg folder has been created!\n",
      "/root/workspace/Thyroid_Solid_Nodule/data/preprocess/public/image/392_1.jpg folder has been created!\n",
      "/root/workspace/Thyroid_Solid_Nodule/data/preprocess/public/image/296_3.jpg folder has been created!\n",
      "/root/workspace/Thyroid_Solid_Nodule/data/preprocess/public/image/35_1.jpg folder has been created!\n",
      "/root/workspace/Thyroid_Solid_Nodule/data/preprocess/public/image/227_2.jpg folder has been created!\n",
      "/root/workspace/Thyroid_Solid_Nodule/data/preprocess/public/image/231_1.jpg folder has been created!\n",
      "/root/workspace/Thyroid_Solid_Nodule/data/preprocess/public/image/265_1.jpg folder has been created!\n",
      "/root/workspace/Thyroid_Solid_Nodule/data/preprocess/public/image/maligns_545_1.jpg folder has been created!\n",
      "/root/workspace/Thyroid_Solid_Nodule/data/preprocess/public/image/maligns_549_2.jpg folder has been created!\n",
      "/root/workspace/Thyroid_Solid_Nodule/data/preprocess/public/image/155_1.jpg folder has been created!\n",
      "/root/workspace/Thyroid_Solid_Nodule/data/preprocess/public/image/79_1.jpg folder has been created!\n",
      "/root/workspace/Thyroid_Solid_Nodule/data/preprocess/public/image/190_1.jpg folder has been created!\n",
      "/root/workspace/Thyroid_Solid_Nodule/data/preprocess/public/image/212_1.jpg folder has been created!\n",
      "/root/workspace/Thyroid_Solid_Nodule/data/preprocess/public/image/maligns_622_1.jpg folder has been created!\n",
      "/root/workspace/Thyroid_Solid_Nodule/data/preprocess/public/image/102_1.jpg folder has been created!\n",
      "/root/workspace/Thyroid_Solid_Nodule/data/preprocess/public/image/maligns_555_1.jpg folder has been created!\n",
      "/root/workspace/Thyroid_Solid_Nodule/data/preprocess/public/image/84_1.jpg folder has been created!\n",
      "/root/workspace/Thyroid_Solid_Nodule/data/preprocess/public/image/215_1.jpg folder has been created!\n",
      "/root/workspace/Thyroid_Solid_Nodule/data/preprocess/public/image/387_1.jpg folder has been created!\n",
      "/root/workspace/Thyroid_Solid_Nodule/data/preprocess/public/image/345_1.jpg folder has been created!\n",
      "/root/workspace/Thyroid_Solid_Nodule/data/preprocess/public/image/319_2.jpg folder has been created!\n",
      "/root/workspace/Thyroid_Solid_Nodule/data/preprocess/public/image/318_1.jpg folder has been created!\n",
      "/root/workspace/Thyroid_Solid_Nodule/data/preprocess/public/image/26_1.jpg folder has been created!\n",
      "/root/workspace/Thyroid_Solid_Nodule/data/preprocess/public/image/353_1.jpg folder has been created!\n",
      "/root/workspace/Thyroid_Solid_Nodule/data/preprocess/public/image/121_1.jpg folder has been created!\n",
      "/root/workspace/Thyroid_Solid_Nodule/data/preprocess/public/image/maligns_570_1.jpg folder has been created!\n",
      "/root/workspace/Thyroid_Solid_Nodule/data/preprocess/public/image/168_1.jpg folder has been created!\n",
      "/root/workspace/Thyroid_Solid_Nodule/data/preprocess/public/image/42_1.jpg folder has been created!\n",
      "/root/workspace/Thyroid_Solid_Nodule/data/preprocess/public/image/226_1.jpg folder has been created!\n",
      "/root/workspace/Thyroid_Solid_Nodule/data/preprocess/public/image/253_1.jpg folder has been created!\n",
      "/root/workspace/Thyroid_Solid_Nodule/data/preprocess/public/image/372_1.jpg folder has been created!\n",
      "/root/workspace/Thyroid_Solid_Nodule/data/preprocess/public/image/maligns_567_1.jpg folder has been created!\n",
      "/root/workspace/Thyroid_Solid_Nodule/data/preprocess/public/image/130_1.jpg folder has been created!\n",
      "/root/workspace/Thyroid_Solid_Nodule/data/preprocess/public/image/111_1.jpg folder has been created!\n",
      "/root/workspace/Thyroid_Solid_Nodule/data/preprocess/public/image/maligns_550_2.jpg folder has been created!\n",
      "/root/workspace/Thyroid_Solid_Nodule/data/preprocess/public/image/241_1.jpg folder has been created!\n"
     ]
    },
    {
     "name": "stdout",
     "output_type": "stream",
     "text": [
      "/root/workspace/Thyroid_Solid_Nodule/data/preprocess/public/image/270_1.jpg folder has been created!\n",
      "/root/workspace/Thyroid_Solid_Nodule/data/preprocess/public/image/32_1.jpg folder has been created!\n",
      "/root/workspace/Thyroid_Solid_Nodule/data/preprocess/public/image/80_1.jpg folder has been created!\n",
      "/root/workspace/Thyroid_Solid_Nodule/data/preprocess/public/image/357_1.jpg folder has been created!\n",
      "/root/workspace/Thyroid_Solid_Nodule/data/preprocess/public/image/200_1.jpg folder has been created!\n",
      "/root/workspace/Thyroid_Solid_Nodule/data/preprocess/public/image/274_1.jpg folder has been created!\n",
      "/root/workspace/Thyroid_Solid_Nodule/data/preprocess/public/image/59_1.jpg folder has been created!\n",
      "/root/workspace/Thyroid_Solid_Nodule/data/preprocess/public/image/358_1.jpg folder has been created!\n",
      "/root/workspace/Thyroid_Solid_Nodule/data/preprocess/public/image/143_1.jpg folder has been created!\n",
      "/root/workspace/Thyroid_Solid_Nodule/data/preprocess/public/image/171_1.jpg folder has been created!\n",
      "/root/workspace/Thyroid_Solid_Nodule/data/preprocess/public/image/58_1.jpg folder has been created!\n",
      "/root/workspace/Thyroid_Solid_Nodule/data/preprocess/public/image/334_2.jpg folder has been created!\n",
      "/root/workspace/Thyroid_Solid_Nodule/data/preprocess/public/image/238_1.jpg folder has been created!\n",
      "/root/workspace/Thyroid_Solid_Nodule/data/preprocess/public/image/271_1.jpg folder has been created!\n",
      "/root/workspace/Thyroid_Solid_Nodule/data/preprocess/public/image/172_1.jpg folder has been created!\n",
      "/root/workspace/Thyroid_Solid_Nodule/data/preprocess/public/image/135_1.jpg folder has been created!\n",
      "/root/workspace/Thyroid_Solid_Nodule/data/preprocess/public/image/benigns_611_1.jpg folder has been created!\n",
      "/root/workspace/Thyroid_Solid_Nodule/data/preprocess/public/image/243_1.jpg folder has been created!\n",
      "/root/workspace/Thyroid_Solid_Nodule/data/preprocess/public/image/388_1.jpg folder has been created!\n",
      "/root/workspace/Thyroid_Solid_Nodule/data/preprocess/public/image/161_1.jpg folder has been created!\n",
      "/root/workspace/Thyroid_Solid_Nodule/data/preprocess/public/image/381_1.jpg folder has been created!\n",
      "/root/workspace/Thyroid_Solid_Nodule/data/preprocess/public/image/332_1.jpg folder has been created!\n",
      "/root/workspace/Thyroid_Solid_Nodule/data/preprocess/public/image/9_1.jpg folder has been created!\n",
      "/root/workspace/Thyroid_Solid_Nodule/data/preprocess/public/image/103_1.jpg folder has been created!\n",
      "/root/workspace/Thyroid_Solid_Nodule/data/preprocess/public/image/374_1.jpg folder has been created!\n",
      "/root/workspace/Thyroid_Solid_Nodule/data/preprocess/public/image/180_1.jpg folder has been created!\n",
      "/root/workspace/Thyroid_Solid_Nodule/data/preprocess/public/image/181_1.jpg folder has been created!\n",
      "/root/workspace/Thyroid_Solid_Nodule/data/preprocess/public/image/maligns_619_1.jpg folder has been created!\n",
      "/root/workspace/Thyroid_Solid_Nodule/data/preprocess/public/image/81_1.jpg folder has been created!\n",
      "/root/workspace/Thyroid_Solid_Nodule/data/preprocess/public/image/82_1.jpg folder has been created!\n",
      "/root/workspace/Thyroid_Solid_Nodule/data/preprocess/public/image/384_1.jpg folder has been created!\n",
      "/root/workspace/Thyroid_Solid_Nodule/data/preprocess/public/image/225_1.jpg folder has been created!\n",
      "/root/workspace/Thyroid_Solid_Nodule/data/preprocess/public/image/355_1.jpg folder has been created!\n",
      "/root/workspace/Thyroid_Solid_Nodule/data/preprocess/public/image/maligns_623_1.jpg folder has been created!\n",
      "/root/workspace/Thyroid_Solid_Nodule/data/preprocess/public/image/maligns_564_1.jpg folder has been created!\n",
      "/root/workspace/Thyroid_Solid_Nodule/data/preprocess/public/image/235_1.jpg folder has been created!\n",
      "/root/workspace/Thyroid_Solid_Nodule/data/preprocess/public/image/58_2.jpg folder has been created!\n",
      "/root/workspace/Thyroid_Solid_Nodule/data/preprocess/public/image/221_1.jpg folder has been created!\n",
      "/root/workspace/Thyroid_Solid_Nodule/data/preprocess/public/image/28_1.jpg folder has been created!\n",
      "/root/workspace/Thyroid_Solid_Nodule/data/preprocess/public/image/254_1.jpg folder has been created!\n",
      "/root/workspace/Thyroid_Solid_Nodule/data/preprocess/public/image/201_1.jpg folder has been created!\n",
      "/root/workspace/Thyroid_Solid_Nodule/data/preprocess/public/image/maligns_571_2.jpg folder has been created!\n",
      "/root/workspace/Thyroid_Solid_Nodule/data/preprocess/public/image/367_1.jpg folder has been created!\n",
      "/root/workspace/Thyroid_Solid_Nodule/data/preprocess/public/image/153_1.jpg folder has been created!\n",
      "/root/workspace/Thyroid_Solid_Nodule/data/preprocess/public/image/22_1.jpg folder has been created!\n",
      "/root/workspace/Thyroid_Solid_Nodule/data/preprocess/public/image/178_1.jpg folder has been created!\n",
      "/root/workspace/Thyroid_Solid_Nodule/data/preprocess/public/image/41_1.jpg folder has been created!\n",
      "/root/workspace/Thyroid_Solid_Nodule/data/preprocess/public/image/19_1.jpg folder has been created!\n",
      "/root/workspace/Thyroid_Solid_Nodule/data/preprocess/public/image/320_1.jpg folder has been created!\n",
      "/root/workspace/Thyroid_Solid_Nodule/data/preprocess/public/image/73_1.jpg folder has been created!\n",
      "/root/workspace/Thyroid_Solid_Nodule/data/preprocess/public/image/maligns_635_1.jpg folder has been created!\n",
      "/root/workspace/Thyroid_Solid_Nodule/data/preprocess/public/image/194_1.jpg folder has been created!\n",
      "/root/workspace/Thyroid_Solid_Nodule/data/preprocess/public/image/132_2.jpg folder has been created!\n",
      "/root/workspace/Thyroid_Solid_Nodule/data/preprocess/public/image/160_1.jpg folder has been created!\n",
      "/root/workspace/Thyroid_Solid_Nodule/data/preprocess/public/image/10_1.jpg folder has been created!\n",
      "/root/workspace/Thyroid_Solid_Nodule/data/preprocess/public/image/126_1.jpg folder has been created!\n",
      "/root/workspace/Thyroid_Solid_Nodule/data/preprocess/public/image/44_1.jpg folder has been created!\n",
      "/root/workspace/Thyroid_Solid_Nodule/data/preprocess/public/image/369_1.jpg folder has been created!\n",
      "/root/workspace/Thyroid_Solid_Nodule/data/preprocess/public/image/maligns_610_1.jpg folder has been created!\n",
      "/root/workspace/Thyroid_Solid_Nodule/data/preprocess/public/image/236_1.jpg folder has been created!\n",
      "/root/workspace/Thyroid_Solid_Nodule/data/preprocess/public/image/381_2.jpg folder has been created!\n",
      "/root/workspace/Thyroid_Solid_Nodule/data/preprocess/public/image/89_1.jpg folder has been created!\n",
      "/root/workspace/Thyroid_Solid_Nodule/data/preprocess/public/image/301_1.jpg folder has been created!\n",
      "/root/workspace/Thyroid_Solid_Nodule/data/preprocess/public/image/106_4.jpg folder has been created!\n",
      "/root/workspace/Thyroid_Solid_Nodule/data/preprocess/public/image/92_2.jpg folder has been created!\n",
      "/root/workspace/Thyroid_Solid_Nodule/data/preprocess/public/image/140_1.jpg folder has been created!\n",
      "/root/workspace/Thyroid_Solid_Nodule/data/preprocess/public/image/198_2.jpg folder has been created!\n",
      "/root/workspace/Thyroid_Solid_Nodule/data/preprocess/public/image/286_1.jpg folder has been created!\n",
      "/root/workspace/Thyroid_Solid_Nodule/data/preprocess/public/image/341_1.jpg folder has been created!\n",
      "/root/workspace/Thyroid_Solid_Nodule/data/preprocess/public/image/158_1.jpg folder has been created!\n",
      "/root/workspace/Thyroid_Solid_Nodule/data/preprocess/public/image/maligns_564_2.jpg folder has been created!\n",
      "/root/workspace/Thyroid_Solid_Nodule/data/preprocess/public/image/378_1.jpg folder has been created!\n",
      "/root/workspace/Thyroid_Solid_Nodule/data/preprocess/public/image/266_2.jpg folder has been created!\n",
      "/root/workspace/Thyroid_Solid_Nodule/data/preprocess/public/image/337_3.jpg folder has been created!\n",
      "/root/workspace/Thyroid_Solid_Nodule/data/preprocess/public/image/52_1.jpg folder has been created!\n",
      "/root/workspace/Thyroid_Solid_Nodule/data/preprocess/public/image/benigns_582_2.jpg folder has been created!\n",
      "/root/workspace/Thyroid_Solid_Nodule/data/preprocess/public/image/129_1.jpg folder has been created!\n",
      "/root/workspace/Thyroid_Solid_Nodule/data/preprocess/public/image/395_1.jpg folder has been created!\n",
      "/root/workspace/Thyroid_Solid_Nodule/data/preprocess/public/image/234_2.jpg folder has been created!\n",
      "/root/workspace/Thyroid_Solid_Nodule/data/preprocess/public/image/227_1.jpg folder has been created!\n",
      "/root/workspace/Thyroid_Solid_Nodule/data/preprocess/public/image/294_3.jpg folder has been created!\n",
      "/root/workspace/Thyroid_Solid_Nodule/data/preprocess/public/image/370_1.jpg folder has been created!\n",
      "/root/workspace/Thyroid_Solid_Nodule/data/preprocess/public/image/maligns_601_1.jpg folder has been created!\n",
      "/root/workspace/Thyroid_Solid_Nodule/data/preprocess/public/image/209_2.jpg folder has been created!\n",
      "/root/workspace/Thyroid_Solid_Nodule/data/preprocess/public/image/113_1.jpg folder has been created!\n",
      "/root/workspace/Thyroid_Solid_Nodule/data/preprocess/public/image/21_1.jpg folder has been created!\n",
      "/root/workspace/Thyroid_Solid_Nodule/data/preprocess/public/image/133_1.jpg folder has been created!\n"
     ]
    },
    {
     "name": "stdout",
     "output_type": "stream",
     "text": [
      "/root/workspace/Thyroid_Solid_Nodule/data/preprocess/public/image/296_4.jpg folder has been created!\n",
      "/root/workspace/Thyroid_Solid_Nodule/data/preprocess/public/image/142_1.jpg folder has been created!\n",
      "/root/workspace/Thyroid_Solid_Nodule/data/preprocess/public/image/92_4.jpg folder has been created!\n",
      "/root/workspace/Thyroid_Solid_Nodule/data/preprocess/public/image/97_2.jpg folder has been created!\n",
      "/root/workspace/Thyroid_Solid_Nodule/data/preprocess/public/image/295_1.jpg folder has been created!\n",
      "/root/workspace/Thyroid_Solid_Nodule/data/preprocess/public/image/maligns_552_1.jpg folder has been created!\n",
      "/root/workspace/Thyroid_Solid_Nodule/data/preprocess/public/image/229_1.jpg folder has been created!\n",
      "/root/workspace/Thyroid_Solid_Nodule/data/preprocess/public/image/benigns_578_1.jpg folder has been created!\n",
      "/root/workspace/Thyroid_Solid_Nodule/data/preprocess/public/image/391_2.jpg folder has been created!\n",
      "/root/workspace/Thyroid_Solid_Nodule/data/preprocess/public/image/47_1.jpg folder has been created!\n",
      "/root/workspace/Thyroid_Solid_Nodule/data/preprocess/public/image/maligns_576_2.jpg folder has been created!\n",
      "/root/workspace/Thyroid_Solid_Nodule/data/preprocess/public/image/267_1.jpg folder has been created!\n",
      "/root/workspace/Thyroid_Solid_Nodule/data/preprocess/public/image/96_1.jpg folder has been created!\n",
      "/root/workspace/Thyroid_Solid_Nodule/data/preprocess/public/image/137_1.jpg folder has been created!\n",
      "/root/workspace/Thyroid_Solid_Nodule/data/preprocess/public/image/55_1.jpg folder has been created!\n",
      "/root/workspace/Thyroid_Solid_Nodule/data/preprocess/public/image/233_2.jpg folder has been created!\n",
      "/root/workspace/Thyroid_Solid_Nodule/data/preprocess/public/image/129_2.jpg folder has been created!\n",
      "/root/workspace/Thyroid_Solid_Nodule/data/preprocess/public/image/benigns_605_1.jpg folder has been created!\n",
      "/root/workspace/Thyroid_Solid_Nodule/data/preprocess/public/image/339_1.jpg folder has been created!\n",
      "/root/workspace/Thyroid_Solid_Nodule/data/preprocess/public/image/3_1.jpg folder has been created!\n",
      "/root/workspace/Thyroid_Solid_Nodule/data/preprocess/public/image/maligns_646_1.jpg folder has been created!\n",
      "/root/workspace/Thyroid_Solid_Nodule/data/preprocess/public/image/75_2.jpg folder has been created!\n",
      "/root/workspace/Thyroid_Solid_Nodule/data/preprocess/public/image/291_1.jpg folder has been created!\n",
      "/root/workspace/Thyroid_Solid_Nodule/data/preprocess/public/image/1_2.jpg folder has been created!\n",
      "/root/workspace/Thyroid_Solid_Nodule/data/preprocess/public/image/262_1.jpg folder has been created!\n",
      "/root/workspace/Thyroid_Solid_Nodule/data/preprocess/public/image/67_1.jpg folder has been created!\n",
      "/root/workspace/Thyroid_Solid_Nodule/data/preprocess/public/image/394_1.jpg folder has been created!\n",
      "/root/workspace/Thyroid_Solid_Nodule/data/preprocess/public/image/257_1.jpg folder has been created!\n",
      "/root/workspace/Thyroid_Solid_Nodule/data/preprocess/public/image/69_2.jpg folder has been created!\n",
      "/root/workspace/Thyroid_Solid_Nodule/data/preprocess/public/image/90_1.jpg folder has been created!\n",
      "/root/workspace/Thyroid_Solid_Nodule/data/preprocess/public/image/350_1.jpg folder has been created!\n",
      "/root/workspace/Thyroid_Solid_Nodule/data/preprocess/public/image/305_1.jpg folder has been created!\n",
      "/root/workspace/Thyroid_Solid_Nodule/data/preprocess/public/image/189_1.jpg folder has been created!\n",
      "/root/workspace/Thyroid_Solid_Nodule/data/preprocess/public/image/309_1.jpg folder has been created!\n",
      "/root/workspace/Thyroid_Solid_Nodule/data/preprocess/public/image/107_1.jpg folder has been created!\n",
      "/root/workspace/Thyroid_Solid_Nodule/data/preprocess/public/image/281_1.jpg folder has been created!\n",
      "/root/workspace/Thyroid_Solid_Nodule/data/preprocess/public/image/76_1.jpg folder has been created!\n",
      "/root/workspace/Thyroid_Solid_Nodule/data/preprocess/public/image/maligns_568_2.jpg folder has been created!\n",
      "/root/workspace/Thyroid_Solid_Nodule/data/preprocess/public/image/maligns_624_1.jpg folder has been created!\n",
      "/root/workspace/Thyroid_Solid_Nodule/data/preprocess/public/image/123_1.jpg folder has been created!\n",
      "/root/workspace/Thyroid_Solid_Nodule/data/preprocess/public/image/101_1.jpg folder has been created!\n",
      "/root/workspace/Thyroid_Solid_Nodule/data/preprocess/public/image/379_1.jpg folder has been created!\n",
      "/root/workspace/Thyroid_Solid_Nodule/data/preprocess/public/image/64_3.jpg folder has been created!\n",
      "/root/workspace/Thyroid_Solid_Nodule/data/preprocess/public/image/88_1.jpg folder has been created!\n",
      "/root/workspace/Thyroid_Solid_Nodule/data/preprocess/public/image/77_1.jpg folder has been created!\n",
      "/root/workspace/Thyroid_Solid_Nodule/data/preprocess/public/image/maligns_549_1.jpg folder has been created!\n",
      "/root/workspace/Thyroid_Solid_Nodule/data/preprocess/public/image/148_1.jpg folder has been created!\n",
      "/root/workspace/Thyroid_Solid_Nodule/data/preprocess/public/image/91_1.jpg folder has been created!\n",
      "/root/workspace/Thyroid_Solid_Nodule/data/preprocess/public/image/198_1.jpg folder has been created!\n",
      "/root/workspace/Thyroid_Solid_Nodule/data/preprocess/public/image/313_2.jpg folder has been created!\n",
      "/root/workspace/Thyroid_Solid_Nodule/data/preprocess/public/image/321_1.jpg folder has been created!\n",
      "/root/workspace/Thyroid_Solid_Nodule/data/preprocess/public/image/81_2.jpg folder has been created!\n",
      "/root/workspace/Thyroid_Solid_Nodule/data/preprocess/public/image/386_1.jpg folder has been created!\n",
      "/root/workspace/Thyroid_Solid_Nodule/data/preprocess/public/image/17_1.jpg folder has been created!\n",
      "/root/workspace/Thyroid_Solid_Nodule/data/preprocess/public/image/173_2.jpg folder has been created!\n",
      "/root/workspace/Thyroid_Solid_Nodule/data/preprocess/public/image/139_1.jpg folder has been created!\n",
      "/root/workspace/Thyroid_Solid_Nodule/data/preprocess/public/image/maligns_564_4.jpg folder has been created!\n",
      "/root/workspace/Thyroid_Solid_Nodule/data/preprocess/public/image/1_1.jpg folder has been created!\n",
      "/root/workspace/Thyroid_Solid_Nodule/data/preprocess/public/image/maligns_550_3.jpg folder has been created!\n",
      "/root/workspace/Thyroid_Solid_Nodule/data/preprocess/public/image/349_1.jpg folder has been created!\n",
      "/root/workspace/Thyroid_Solid_Nodule/data/preprocess/public/image/maligns_562_2.jpg folder has been created!\n",
      "/root/workspace/Thyroid_Solid_Nodule/data/preprocess/public/image/189_2.jpg folder has been created!\n",
      "/root/workspace/Thyroid_Solid_Nodule/data/preprocess/public/image/290_1.jpg folder has been created!\n",
      "/root/workspace/Thyroid_Solid_Nodule/data/preprocess/public/image/213_3.jpg folder has been created!\n",
      "/root/workspace/Thyroid_Solid_Nodule/data/preprocess/public/image/258_1.jpg folder has been created!\n",
      "/root/workspace/Thyroid_Solid_Nodule/data/preprocess/public/image/342_1.jpg folder has been created!\n",
      "/root/workspace/Thyroid_Solid_Nodule/data/preprocess/public/image/maligns_564_3.jpg folder has been created!\n",
      "/root/workspace/Thyroid_Solid_Nodule/data/preprocess/public/image/298_1.jpg folder has been created!\n",
      "/root/workspace/Thyroid_Solid_Nodule/data/preprocess/public/image/138_1.jpg folder has been created!\n",
      "/root/workspace/Thyroid_Solid_Nodule/data/preprocess/public/image/130_2.jpg folder has been created!\n",
      "/root/workspace/Thyroid_Solid_Nodule/data/preprocess/public/image/maligns_550_1.jpg folder has been created!\n",
      "/root/workspace/Thyroid_Solid_Nodule/data/preprocess/public/image/348_1.jpg folder has been created!\n",
      "/root/workspace/Thyroid_Solid_Nodule/data/preprocess/public/image/maligns_572_1.jpg folder has been created!\n",
      "/root/workspace/Thyroid_Solid_Nodule/data/preprocess/public/image/122_1.jpg folder has been created!\n",
      "/root/workspace/Thyroid_Solid_Nodule/data/preprocess/public/image/310_1.jpg folder has been created!\n",
      "/root/workspace/Thyroid_Solid_Nodule/data/preprocess/public/image/132_1.jpg folder has been created!\n",
      "/root/workspace/Thyroid_Solid_Nodule/data/preprocess/public/image/259_1.jpg folder has been created!\n",
      "/root/workspace/Thyroid_Solid_Nodule/data/preprocess/public/image/285_1.jpg folder has been created!\n",
      "/root/workspace/Thyroid_Solid_Nodule/data/preprocess/public/image/114_2.jpg folder has been created!\n",
      "/root/workspace/Thyroid_Solid_Nodule/data/preprocess/public/image/225_2.jpg folder has been created!\n",
      "/root/workspace/Thyroid_Solid_Nodule/data/preprocess/public/image/299_1.jpg folder has been created!\n",
      "/root/workspace/Thyroid_Solid_Nodule/data/preprocess/public/image/366_3.jpg folder has been created!\n"
     ]
    },
    {
     "name": "stdout",
     "output_type": "stream",
     "text": [
      "/root/workspace/Thyroid_Solid_Nodule/data/preprocess/public/image/56_1.jpg folder has been created!\n",
      "/root/workspace/Thyroid_Solid_Nodule/data/preprocess/public/image/136_1.jpg folder has been created!\n",
      "/root/workspace/Thyroid_Solid_Nodule/data/preprocess/public/image/360_2.jpg folder has been created!\n",
      "/root/workspace/Thyroid_Solid_Nodule/data/preprocess/public/image/211_1.jpg folder has been created!\n",
      "/root/workspace/Thyroid_Solid_Nodule/data/preprocess/public/image/335_1.jpg folder has been created!\n",
      "/root/workspace/Thyroid_Solid_Nodule/data/preprocess/public/image/46_1.jpg folder has been created!\n",
      "/root/workspace/Thyroid_Solid_Nodule/data/preprocess/public/image/maligns_571_1.jpg folder has been created!\n",
      "/root/workspace/Thyroid_Solid_Nodule/data/preprocess/public/image/100_1.jpg folder has been created!\n",
      "/root/workspace/Thyroid_Solid_Nodule/data/preprocess/public/image/184_1.jpg folder has been created!\n",
      "/root/workspace/Thyroid_Solid_Nodule/data/preprocess/public/image/4_1.jpg folder has been created!\n",
      "/root/workspace/Thyroid_Solid_Nodule/data/preprocess/public/image/2_1.jpg folder has been created!\n",
      "/root/workspace/Thyroid_Solid_Nodule/data/preprocess/public/image/maligns_616_1.jpg folder has been created!\n",
      "/root/workspace/Thyroid_Solid_Nodule/data/preprocess/public/image/283_1.jpg folder has been created!\n",
      "/root/workspace/Thyroid_Solid_Nodule/data/preprocess/public/image/69_1.jpg folder has been created!\n",
      "/root/workspace/Thyroid_Solid_Nodule/data/preprocess/public/image/313_1.jpg folder has been created!\n",
      "/root/workspace/Thyroid_Solid_Nodule/data/preprocess/public/image/163_2.jpg folder has been created!\n",
      "/root/workspace/Thyroid_Solid_Nodule/data/preprocess/public/image/151_1.jpg folder has been created!\n",
      "/root/workspace/Thyroid_Solid_Nodule/data/preprocess/public/image/177_2.jpg folder has been created!\n",
      "/root/workspace/Thyroid_Solid_Nodule/data/preprocess/public/image/326_1.jpg folder has been created!\n",
      "/root/workspace/Thyroid_Solid_Nodule/data/preprocess/public/image/276_1.jpg folder has been created!\n",
      "/root/workspace/Thyroid_Solid_Nodule/data/preprocess/public/image/300_1.jpg folder has been created!\n",
      "/root/workspace/Thyroid_Solid_Nodule/data/preprocess/public/image/199_1.jpg folder has been created!\n",
      "/root/workspace/Thyroid_Solid_Nodule/data/preprocess/public/image/99_1.jpg folder has been created!\n",
      "/root/workspace/Thyroid_Solid_Nodule/data/preprocess/public/image/24_1.jpg folder has been created!\n"
     ]
    },
    {
     "name": "stderr",
     "output_type": "stream",
     "text": [
      "Executing Pipeline:   0%|          | 0/57 [00:00<?, ? Samples/s]"
     ]
    },
    {
     "name": "stdout",
     "output_type": "stream",
     "text": [
      "/root/workspace/Thyroid_Solid_Nodule/data/preprocess/public/image/154_1.jpg folder has been created!\n",
      "/root/workspace/Thyroid_Solid_Nodule/data/preprocess/public/image/351_2.jpg folder has been created!\n",
      "/root/workspace/Thyroid_Solid_Nodule/data/preprocess/public/image/maligns_629_1.jpg folder has been created!\n",
      "Initialised with 1 image(s) found.\n",
      "Output directory set to /root/workspace/Thyroid_Solid_Nodule/data/preprocess/public_aug/tmp/image/maligns_612_/output.1 ground truth image(s) found.\n",
      "\n",
      "No./root/workspace/Thyroid_Solid_Nodule/data/preprocess/public/image/maligns_612_1.jpg data is being augmented and 57 data will be created\n"
     ]
    },
    {
     "name": "stderr",
     "output_type": "stream",
     "text": [
      "Processing <PIL.Image.Image image mode=RGB size=560x315 at 0x7F02F035F6D8>: 100%|██████████| 57/57 [00:00<00:00, 91.44 Samples/s]                  \n",
      "Processing <PIL.JpegImagePlugin.JpegImageFile image mode=RGB size=560x360 at 0x7F02F037E978>:  23%|██▎       | 10/43 [00:00<00:03,  9.32 Samples/s]"
     ]
    },
    {
     "name": "stdout",
     "output_type": "stream",
     "text": [
      "Done\n",
      "Initialised with 3 image(s) found.\n",
      "Output directory set to /root/workspace/Thyroid_Solid_Nodule/data/preprocess/public_aug/tmp/image/366_/output.3 ground truth image(s) found.\n",
      "\n",
      "No./root/workspace/Thyroid_Solid_Nodule/data/preprocess/public/image/366_2.jpg data is being augmented and 43 data will be created\n"
     ]
    },
    {
     "name": "stderr",
     "output_type": "stream",
     "text": [
      "Processing <PIL.Image.Image image mode=RGB size=560x360 at 0x7F03C28AD320>: 100%|██████████| 43/43 [00:00<00:00, 94.26 Samples/s]                  \n",
      "Processing <PIL.Image.Image image mode=RGB size=560x360 at 0x7F02F0352780>:   2%|▏         | 1/46 [00:00<00:05,  8.60 Samples/s]"
     ]
    },
    {
     "name": "stdout",
     "output_type": "stream",
     "text": [
      "Done\n",
      "Initialised with 1 image(s) found.\n",
      "Output directory set to /root/workspace/Thyroid_Solid_Nodule/data/preprocess/public_aug/tmp/image/119_/output.1 ground truth image(s) found.\n",
      "\n",
      "No./root/workspace/Thyroid_Solid_Nodule/data/preprocess/public/image/119_1.jpg data is being augmented and 46 data will be created\n"
     ]
    },
    {
     "name": "stderr",
     "output_type": "stream",
     "text": [
      "Processing <PIL.Image.Image image mode=RGB size=560x360 at 0x7F02F037E198>: 100%|██████████| 46/46 [00:00<00:00, 88.47 Samples/s]                  \n",
      "Processing <PIL.Image.Image image mode=RGB size=560x360 at 0x7F03C28ADE48>:   4%|▍         | 2/49 [00:00<00:05,  7.93 Samples/s]"
     ]
    },
    {
     "name": "stdout",
     "output_type": "stream",
     "text": [
      "Done\n",
      "Initialised with 1 image(s) found.\n",
      "Output directory set to /root/workspace/Thyroid_Solid_Nodule/data/preprocess/public_aug/tmp/image/364_/output.1 ground truth image(s) found.\n",
      "\n",
      "No./root/workspace/Thyroid_Solid_Nodule/data/preprocess/public/image/364_1.jpg data is being augmented and 49 data will be created\n"
     ]
    },
    {
     "name": "stderr",
     "output_type": "stream",
     "text": [
      "Processing <PIL.Image.Image image mode=RGB size=560x360 at 0x7F02F0370A90>: 100%|██████████| 49/49 [00:00<00:00, 101.50 Samples/s]                 \n",
      "Executing Pipeline:   0%|          | 0/49 [00:00<?, ? Samples/s]"
     ]
    },
    {
     "name": "stdout",
     "output_type": "stream",
     "text": [
      "Done\n",
      "Initialised with 2 image(s) found.\n",
      "Output directory set to /root/workspace/Thyroid_Solid_Nodule/data/preprocess/public_aug/tmp/image/177_/output.2 ground truth image(s) found.\n",
      "\n",
      "No./root/workspace/Thyroid_Solid_Nodule/data/preprocess/public/image/177_1.jpg data is being augmented and 49 data will be created\n"
     ]
    },
    {
     "name": "stderr",
     "output_type": "stream",
     "text": [
      "Processing <PIL.Image.Image image mode=RGB size=560x360 at 0x7F03C28AD898>: 100%|██████████| 49/49 [00:00<00:00, 81.05 Samples/s]                  \n",
      "Processing <PIL.Image.Image image mode=RGB size=560x360 at 0x7F02F030BBA8>:   5%|▍         | 2/44 [00:00<00:06,  6.91 Samples/s]                  "
     ]
    },
    {
     "name": "stdout",
     "output_type": "stream",
     "text": [
      "Done\n",
      "Initialised with 2 image(s) found.\n",
      "Output directory set to /root/workspace/Thyroid_Solid_Nodule/data/preprocess/public_aug/tmp/image/319_/output.2 ground truth image(s) found.\n",
      "\n",
      "No./root/workspace/Thyroid_Solid_Nodule/data/preprocess/public/image/319_1.jpg data is being augmented and 44 data will be created\n"
     ]
    },
    {
     "name": "stderr",
     "output_type": "stream",
     "text": [
      "Processing <PIL.Image.Image image mode=RGB size=560x360 at 0x7F02F03521D0>: 100%|██████████| 44/44 [00:00<00:00, 93.48 Samples/s]\n",
      "Processing <PIL.Image.Image image mode=RGB size=560x315 at 0x7F02F030BC50>:   2%|▏         | 1/53 [00:00<00:09,  5.22 Samples/s]"
     ]
    },
    {
     "name": "stdout",
     "output_type": "stream",
     "text": [
      "Done\n",
      "Initialised with 1 image(s) found.\n",
      "Output directory set to /root/workspace/Thyroid_Solid_Nodule/data/preprocess/public_aug/tmp/image/benigns_584_/output.1 ground truth image(s) found.\n",
      "\n",
      "No./root/workspace/Thyroid_Solid_Nodule/data/preprocess/public/image/benigns_584_1.jpg data is being augmented and 53 data will be created\n"
     ]
    },
    {
     "name": "stderr",
     "output_type": "stream",
     "text": [
      "Processing <PIL.Image.Image image mode=RGB size=560x315 at 0x7F02F037E358>: 100%|██████████| 53/53 [00:00<00:00, 109.79 Samples/s]                 \n",
      "Processing <PIL.Image.Image image mode=RGB size=560x315 at 0x7F02F035F400>:   7%|▋         | 3/43 [00:00<00:07,  5.58 Samples/s]"
     ]
    },
    {
     "name": "stdout",
     "output_type": "stream",
     "text": [
      "Done\n",
      "Initialised with 2 image(s) found.\n",
      "Output directory set to /root/workspace/Thyroid_Solid_Nodule/data/preprocess/public_aug/tmp/image/benigns_611_/output.2 ground truth image(s) found.\n",
      "\n",
      "No./root/workspace/Thyroid_Solid_Nodule/data/preprocess/public/image/benigns_611_2.jpg data is being augmented and 43 data will be created\n"
     ]
    },
    {
     "name": "stderr",
     "output_type": "stream",
     "text": [
      "Processing <PIL.Image.Image image mode=RGB size=560x315 at 0x7F02F0317D30>: 100%|██████████| 43/43 [00:00<00:00, 149.17 Samples/s]                 \n",
      "Executing Pipeline:   0%|          | 0/60 [00:00<?, ? Samples/s]"
     ]
    },
    {
     "name": "stdout",
     "output_type": "stream",
     "text": [
      "Done\n",
      "Initialised with 2 image(s) found.\n",
      "Output directory set to /root/workspace/Thyroid_Solid_Nodule/data/preprocess/public_aug/tmp/image/371_/output.2 ground truth image(s) found.\n",
      "\n",
      "No./root/workspace/Thyroid_Solid_Nodule/data/preprocess/public/image/371_2.jpg data is being augmented and 60 data will be created\n"
     ]
    },
    {
     "name": "stderr",
     "output_type": "stream",
     "text": [
      "Processing <PIL.JpegImagePlugin.JpegImageFile image mode=RGB size=560x360 at 0x7F02F0370BE0>: 100%|██████████| 60/60 [00:00<00:00, 72.28 Samples/s]\n",
      "Processing <PIL.JpegImagePlugin.JpegImageFile image mode=RGB size=560x315 at 0x7F02F0322518>:   0%|          | 0/58 [00:00<?, ? Samples/s]"
     ]
    },
    {
     "name": "stdout",
     "output_type": "stream",
     "text": [
      "Done\n",
      "Initialised with 1 image(s) found.\n",
      "Output directory set to /root/workspace/Thyroid_Solid_Nodule/data/preprocess/public_aug/tmp/image/maligns_565_/output.1 ground truth image(s) found.\n",
      "\n",
      "No./root/workspace/Thyroid_Solid_Nodule/data/preprocess/public/image/maligns_565_1.jpg data is being augmented and 58 data will be created\n"
     ]
    },
    {
     "name": "stderr",
     "output_type": "stream",
     "text": [
      "Processing <PIL.Image.Image image mode=RGB size=560x315 at 0x7F02F03368D0>: 100%|██████████| 58/58 [00:00<00:00, 103.33 Samples/s]                 \n",
      "Processing <PIL.Image.Image image mode=RGB size=560x360 at 0x7F03C28B8828>:  12%|█▏        | 5/43 [00:00<00:03,  9.89 Samples/s]"
     ]
    },
    {
     "name": "stdout",
     "output_type": "stream",
     "text": [
      "Done\n",
      "Initialised with 2 image(s) found.\n",
      "Output directory set to /root/workspace/Thyroid_Solid_Nodule/data/preprocess/public_aug/tmp/image/85_/output.2 ground truth image(s) found.\n",
      "\n",
      "No./root/workspace/Thyroid_Solid_Nodule/data/preprocess/public/image/85_2.jpg data is being augmented and 43 data will be created\n"
     ]
    },
    {
     "name": "stderr",
     "output_type": "stream",
     "text": [
      "Processing <PIL.Image.Image image mode=RGB size=560x360 at 0x7F02F0322908>: 100%|██████████| 43/43 [00:00<00:00, 91.57 Samples/s]\n",
      "Processing <PIL.Image.Image image mode=RGB size=560x360 at 0x7F02F0370358>:   0%|          | 0/53 [00:00<?, ? Samples/s]"
     ]
    },
    {
     "name": "stdout",
     "output_type": "stream",
     "text": [
      "Done\n",
      "Initialised with 3 image(s) found.\n",
      "Output directory set to /root/workspace/Thyroid_Solid_Nodule/data/preprocess/public_aug/tmp/image/64_/output.3 ground truth image(s) found.\n",
      "\n",
      "No./root/workspace/Thyroid_Solid_Nodule/data/preprocess/public/image/64_1.jpg data is being augmented and 53 data will be created\n"
     ]
    },
    {
     "name": "stderr",
     "output_type": "stream",
     "text": [
      "Processing <PIL.Image.Image image mode=RGB size=560x360 at 0x7F03C28AD550>: 100%|██████████| 53/53 [00:00<00:00, 104.00 Samples/s]                 \n",
      "Processing <PIL.Image.Image image mode=RGB size=560x360 at 0x7F02F030B2E8>:  26%|██▌       | 12/47 [00:00<00:04,  8.41 Samples/s]"
     ]
    },
    {
     "name": "stdout",
     "output_type": "stream",
     "text": [
      "Done\n",
      "Initialised with 3 image(s) found.\n",
      "Output directory set to /root/workspace/Thyroid_Solid_Nodule/data/preprocess/public_aug/tmp/image/139_/output.3 ground truth image(s) found.\n",
      "\n",
      "No./root/workspace/Thyroid_Solid_Nodule/data/preprocess/public/image/139_3.jpg data is being augmented and 47 data will be created\n"
     ]
    },
    {
     "name": "stderr",
     "output_type": "stream",
     "text": [
      "Processing <PIL.Image.Image image mode=RGB size=560x360 at 0x7F02F0370400>: 100%|██████████| 47/47 [00:00<00:00, 165.61 Samples/s]\n",
      "Executing Pipeline:   0%|          | 0/43 [00:00<?, ? Samples/s]"
     ]
    },
    {
     "name": "stdout",
     "output_type": "stream",
     "text": [
      "Done\n",
      "Initialised with 2 image(s) found.\n",
      "Output directory set to /root/workspace/Thyroid_Solid_Nodule/data/preprocess/public_aug/tmp/image/122_/output.2 ground truth image(s) found.\n",
      "\n",
      "No./root/workspace/Thyroid_Solid_Nodule/data/preprocess/public/image/122_2.jpg data is being augmented and 43 data will be created\n"
     ]
    },
    {
     "name": "stderr",
     "output_type": "stream",
     "text": [
      "Processing <PIL.Image.Image image mode=RGB size=560x360 at 0x7F02F035F3C8>: 100%|██████████| 43/43 [00:00<00:00, 105.09 Samples/s]                 \n",
      "Executing Pipeline:   0%|          | 0/47 [00:00<?, ? Samples/s]"
     ]
    },
    {
     "name": "stdout",
     "output_type": "stream",
     "text": [
      "Done\n",
      "Initialised with 3 image(s) found.\n",
      "Output directory set to /root/workspace/Thyroid_Solid_Nodule/data/preprocess/public_aug/tmp/image/210_/output.3 ground truth image(s) found.\n",
      "\n",
      "No./root/workspace/Thyroid_Solid_Nodule/data/preprocess/public/image/210_3.jpg data is being augmented and 47 data will be created\n"
     ]
    },
    {
     "name": "stderr",
     "output_type": "stream",
     "text": [
      "Processing <PIL.Image.Image image mode=RGB size=560x360 at 0x7F02F0352F60>: 100%|██████████| 47/47 [00:00<00:00, 68.83 Samples/s]\n",
      "Executing Pipeline:   0%|          | 0/59 [00:00<?, ? Samples/s]"
     ]
    },
    {
     "name": "stdout",
     "output_type": "stream",
     "text": [
      "Done\n",
      "Initialised with 2 image(s) found.\n",
      "Output directory set to /root/workspace/Thyroid_Solid_Nodule/data/preprocess/public_aug/tmp/image/157_/output.2 ground truth image(s) found.\n",
      "\n",
      "No./root/workspace/Thyroid_Solid_Nodule/data/preprocess/public/image/157_2.jpg data is being augmented and 59 data will be created\n"
     ]
    },
    {
     "name": "stderr",
     "output_type": "stream",
     "text": [
      "Processing <PIL.Image.Image image mode=RGB size=560x360 at 0x7F02F0370390>: 100%|██████████| 59/59 [00:00<00:00, 91.58 Samples/s]                  \n",
      "Executing Pipeline:   0%|          | 0/52 [00:00<?, ? Samples/s]"
     ]
    },
    {
     "name": "stdout",
     "output_type": "stream",
     "text": [
      "Done\n",
      "Initialised with 1 image(s) found.\n",
      "Output directory set to /root/workspace/Thyroid_Solid_Nodule/data/preprocess/public_aug/tmp/image/116_/output.1 ground truth image(s) found.\n",
      "\n",
      "No./root/workspace/Thyroid_Solid_Nodule/data/preprocess/public/image/116_1.jpg data is being augmented and 52 data will be created\n"
     ]
    },
    {
     "name": "stderr",
     "output_type": "stream",
     "text": [
      "Processing <PIL.Image.Image image mode=RGB size=560x360 at 0x7F02F0370320>: 100%|██████████| 52/52 [00:00<00:00, 90.73 Samples/s]\n",
      "Processing <PIL.Image.Image image mode=RGB size=560x360 at 0x7F02F037EF28>:   0%|          | 0/42 [00:00<?, ? Samples/s]"
     ]
    },
    {
     "name": "stdout",
     "output_type": "stream",
     "text": [
      "Done\n",
      "Initialised with 1 image(s) found.\n",
      "Output directory set to /root/workspace/Thyroid_Solid_Nodule/data/preprocess/public_aug/tmp/image/68_/output.1 ground truth image(s) found.\n",
      "\n",
      "No./root/workspace/Thyroid_Solid_Nodule/data/preprocess/public/image/68_1.jpg data is being augmented and 42 data will be created\n"
     ]
    },
    {
     "name": "stderr",
     "output_type": "stream",
     "text": [
      "Processing <PIL.Image.Image image mode=RGB size=560x360 at 0x7F02F037E978>: 100%|██████████| 42/42 [00:00<00:00, 87.32 Samples/s]                  \n",
      "Processing <PIL.Image.Image image mode=RGB size=560x360 at 0x7F02F0352240>:   0%|          | 0/54 [00:00<?, ? Samples/s]"
     ]
    },
    {
     "name": "stdout",
     "output_type": "stream",
     "text": [
      "Done\n",
      "Initialised with 1 image(s) found.\n",
      "Output directory set to /root/workspace/Thyroid_Solid_Nodule/data/preprocess/public_aug/tmp/image/31_/output.1 ground truth image(s) found.\n",
      "\n",
      "No./root/workspace/Thyroid_Solid_Nodule/data/preprocess/public/image/31_1.jpg data is being augmented and 54 data will be created\n"
     ]
    },
    {
     "name": "stderr",
     "output_type": "stream",
     "text": [
      "Processing <PIL.Image.Image image mode=RGB size=560x360 at 0x7F03C28B8550>: 100%|██████████| 54/54 [00:00<00:00, 106.43 Samples/s]\n",
      "Processing <PIL.Image.Image image mode=RGB size=560x315 at 0x7F03C28B8978>:  12%|█▏        | 5/42 [00:00<00:04,  8.24 Samples/s]"
     ]
    },
    {
     "name": "stdout",
     "output_type": "stream",
     "text": [
      "Done\n",
      "Initialised with 1 image(s) found.\n",
      "Output directory set to /root/workspace/Thyroid_Solid_Nodule/data/preprocess/public_aug/tmp/image/benigns_579_/output.1 ground truth image(s) found.\n",
      "\n",
      "No./root/workspace/Thyroid_Solid_Nodule/data/preprocess/public/image/benigns_579_1.jpg data is being augmented and 42 data will be created\n"
     ]
    },
    {
     "name": "stderr",
     "output_type": "stream",
     "text": [
      "Processing <PIL.Image.Image image mode=RGB size=560x315 at 0x7F02F035F358>: 100%|██████████| 42/42 [00:00<00:00, 95.43 Samples/s]                  \n",
      "Processing <PIL.Image.Image image mode=RGB size=560x315 at 0x7F02F037ED30>:  21%|██        | 10/48 [00:00<00:04,  8.55 Samples/s]"
     ]
    },
    {
     "name": "stdout",
     "output_type": "stream",
     "text": [
      "Done\n",
      "Initialised with 1 image(s) found.\n",
      "Output directory set to /root/workspace/Thyroid_Solid_Nodule/data/preprocess/public_aug/tmp/image/maligns_618_/output.1 ground truth image(s) found.\n",
      "\n",
      "No./root/workspace/Thyroid_Solid_Nodule/data/preprocess/public/image/maligns_618_1.jpg data is being augmented and 48 data will be created\n"
     ]
    },
    {
     "name": "stderr",
     "output_type": "stream",
     "text": [
      "Processing <PIL.Image.Image image mode=RGB size=560x315 at 0x7F02F03589B0>: 100%|██████████| 48/48 [00:00<00:00, 103.00 Samples/s]\n",
      "Processing <PIL.Image.Image image mode=RGB size=560x360 at 0x7F02F0317DA0>:  24%|██▍       | 11/45 [00:00<00:03,  8.88 Samples/s]"
     ]
    },
    {
     "name": "stdout",
     "output_type": "stream",
     "text": [
      "Done\n",
      "Initialised with 3 image(s) found.\n",
      "Output directory set to /root/workspace/Thyroid_Solid_Nodule/data/preprocess/public_aug/tmp/image/64_/output.3 ground truth image(s) found.\n",
      "\n",
      "No./root/workspace/Thyroid_Solid_Nodule/data/preprocess/public/image/64_2.jpg data is being augmented and 45 data will be created\n"
     ]
    },
    {
     "name": "stderr",
     "output_type": "stream",
     "text": [
      "Processing <PIL.Image.Image image mode=RGB size=560x360 at 0x7F02F0336710>: 100%|██████████| 45/45 [00:00<00:00, 116.87 Samples/s]\n",
      "Processing <PIL.Image.Image image mode=RGB size=560x360 at 0x7F02F030BDA0>:   0%|          | 0/48 [00:00<?, ? Samples/s]"
     ]
    },
    {
     "name": "stdout",
     "output_type": "stream",
     "text": [
      "Done\n",
      "Initialised with 1 image(s) found.\n",
      "Output directory set to /root/workspace/Thyroid_Solid_Nodule/data/preprocess/public_aug/tmp/image/242_/output.1 ground truth image(s) found.\n",
      "\n",
      "No./root/workspace/Thyroid_Solid_Nodule/data/preprocess/public/image/242_1.jpg data is being augmented and 48 data will be created\n"
     ]
    },
    {
     "name": "stderr",
     "output_type": "stream",
     "text": [
      "Processing <PIL.Image.Image image mode=RGB size=560x360 at 0x7F02F035F518>: 100%|██████████| 48/48 [00:00<00:00, 76.87 Samples/s]                  \n",
      "Processing <PIL.Image.Image image mode=RGB size=560x360 at 0x7F02F03524A8>:   0%|          | 0/58 [00:00<?, ? Samples/s]"
     ]
    },
    {
     "name": "stdout",
     "output_type": "stream",
     "text": [
      "Done\n",
      "Initialised with 1 image(s) found.\n",
      "Output directory set to /root/workspace/Thyroid_Solid_Nodule/data/preprocess/public_aug/tmp/image/239_/output.1 ground truth image(s) found.\n",
      "\n",
      "No./root/workspace/Thyroid_Solid_Nodule/data/preprocess/public/image/239_1.jpg data is being augmented and 58 data will be created\n"
     ]
    },
    {
     "name": "stderr",
     "output_type": "stream",
     "text": [
      "Processing <PIL.Image.Image image mode=RGB size=560x360 at 0x7F02F0336E48>: 100%|██████████| 58/58 [00:00<00:00, 102.70 Samples/s]                 \n",
      "Executing Pipeline:   0%|          | 0/41 [00:00<?, ? Samples/s]"
     ]
    },
    {
     "name": "stdout",
     "output_type": "stream",
     "text": [
      "Done\n",
      "Initialised with 1 image(s) found.\n",
      "Output directory set to /root/workspace/Thyroid_Solid_Nodule/data/preprocess/public_aug/tmp/image/383_/output.1 ground truth image(s) found.\n",
      "\n",
      "No./root/workspace/Thyroid_Solid_Nodule/data/preprocess/public/image/383_1.jpg data is being augmented and 41 data will be created\n"
     ]
    },
    {
     "name": "stderr",
     "output_type": "stream",
     "text": [
      "Processing <PIL.Image.Image image mode=RGB size=560x360 at 0x7F02F0330BE0>: 100%|██████████| 41/41 [00:00<00:00, 78.86 Samples/s]\n",
      "Processing <PIL.Image.Image image mode=RGB size=560x360 at 0x7F02F0322B38>:   7%|▋         | 3/44 [00:00<00:06,  6.51 Samples/s]"
     ]
    },
    {
     "name": "stdout",
     "output_type": "stream",
     "text": [
      "Done\n",
      "Initialised with 2 image(s) found.\n",
      "Output directory set to /root/workspace/Thyroid_Solid_Nodule/data/preprocess/public_aug/tmp/image/266_/output.2 ground truth image(s) found.\n",
      "\n",
      "No./root/workspace/Thyroid_Solid_Nodule/data/preprocess/public/image/266_1.jpg data is being augmented and 44 data will be created\n"
     ]
    },
    {
     "name": "stderr",
     "output_type": "stream",
     "text": [
      "Processing <PIL.Image.Image image mode=RGB size=560x360 at 0x7F02F035F860>: 100%|██████████| 44/44 [00:00<00:00, 96.24 Samples/s]                  \n",
      "Processing <PIL.Image.Image image mode=RGB size=560x360 at 0x7F02F0336F28>:   0%|          | 0/45 [00:00<?, ? Samples/s]"
     ]
    },
    {
     "name": "stdout",
     "output_type": "stream",
     "text": [
      "Done\n",
      "Initialised with 1 image(s) found.\n",
      "Output directory set to /root/workspace/Thyroid_Solid_Nodule/data/preprocess/public_aug/tmp/image/18_/output.1 ground truth image(s) found.\n",
      "\n",
      "No./root/workspace/Thyroid_Solid_Nodule/data/preprocess/public/image/18_1.jpg data is being augmented and 45 data will be created\n"
     ]
    },
    {
     "name": "stderr",
     "output_type": "stream",
     "text": [
      "Processing <PIL.Image.Image image mode=RGB size=560x360 at 0x7F02F03364E0>: 100%|██████████| 45/45 [00:00<00:00, 115.65 Samples/s]                 \n",
      "Executing Pipeline:   0%|          | 0/45 [00:00<?, ? Samples/s]"
     ]
    },
    {
     "name": "stdout",
     "output_type": "stream",
     "text": [
      "Done\n",
      "Initialised with 1 image(s) found.\n",
      "Output directory set to /root/workspace/Thyroid_Solid_Nodule/data/preprocess/public_aug/tmp/image/162_/output.1 ground truth image(s) found.\n",
      "\n",
      "No./root/workspace/Thyroid_Solid_Nodule/data/preprocess/public/image/162_1.jpg data is being augmented and 45 data will be created\n"
     ]
    },
    {
     "name": "stderr",
     "output_type": "stream",
     "text": [
      "Processing <PIL.Image.Image image mode=RGB size=560x360 at 0x7F02F0358860>: 100%|██████████| 45/45 [00:00<00:00, 106.28 Samples/s]                 \n",
      "Executing Pipeline:   0%|          | 0/53 [00:00<?, ? Samples/s]"
     ]
    },
    {
     "name": "stdout",
     "output_type": "stream",
     "text": [
      "Done\n",
      "Initialised with 1 image(s) found.\n",
      "Output directory set to /root/workspace/Thyroid_Solid_Nodule/data/preprocess/public_aug/tmp/image/297_/output.1 ground truth image(s) found.\n",
      "\n",
      "No./root/workspace/Thyroid_Solid_Nodule/data/preprocess/public/image/297_1.jpg data is being augmented and 53 data will be created\n"
     ]
    },
    {
     "name": "stderr",
     "output_type": "stream",
     "text": [
      "Processing <PIL.Image.Image image mode=RGB size=560x360 at 0x7F02F0322B70>: 100%|██████████| 53/53 [00:00<00:00, 86.32 Samples/s]                  \n",
      "Processing <PIL.Image.Image image mode=RGB size=560x360 at 0x7F02F037ED30>:   0%|          | 0/54 [00:00<?, ? Samples/s]"
     ]
    },
    {
     "name": "stdout",
     "output_type": "stream",
     "text": [
      "Done\n",
      "Initialised with 1 image(s) found.\n",
      "Output directory set to /root/workspace/Thyroid_Solid_Nodule/data/preprocess/public_aug/tmp/image/63_/output.1 ground truth image(s) found.\n",
      "\n",
      "No./root/workspace/Thyroid_Solid_Nodule/data/preprocess/public/image/63_1.jpg data is being augmented and 54 data will be created\n"
     ]
    },
    {
     "name": "stderr",
     "output_type": "stream",
     "text": [
      "Processing <PIL.Image.Image image mode=RGB size=560x360 at 0x7F02F0336198>: 100%|██████████| 54/54 [00:00<00:00, 104.54 Samples/s]\n",
      "Executing Pipeline:   0%|          | 0/51 [00:00<?, ? Samples/s]"
     ]
    },
    {
     "name": "stdout",
     "output_type": "stream",
     "text": [
      "Done\n",
      "Initialised with 3 image(s) found.\n",
      "Output directory set to /root/workspace/Thyroid_Solid_Nodule/data/preprocess/public_aug/tmp/image/158_/output.3 ground truth image(s) found.\n",
      "\n",
      "No./root/workspace/Thyroid_Solid_Nodule/data/preprocess/public/image/158_3.jpg data is being augmented and 51 data will be created\n"
     ]
    },
    {
     "name": "stderr",
     "output_type": "stream",
     "text": [
      "Processing <PIL.Image.Image image mode=RGB size=560x360 at 0x7F02F037EBA8>: 100%|██████████| 51/51 [00:00<00:00, 84.44 Samples/s]                  \n",
      "Executing Pipeline:   0%|          | 0/42 [00:00<?, ? Samples/s]"
     ]
    },
    {
     "name": "stdout",
     "output_type": "stream",
     "text": [
      "Done\n",
      "Initialised with 1 image(s) found.\n",
      "Output directory set to /root/workspace/Thyroid_Solid_Nodule/data/preprocess/public_aug/tmp/image/368_/output.1 ground truth image(s) found.\n",
      "\n",
      "No./root/workspace/Thyroid_Solid_Nodule/data/preprocess/public/image/368_1.jpg data is being augmented and 42 data will be created\n"
     ]
    },
    {
     "name": "stderr",
     "output_type": "stream",
     "text": [
      "Processing <PIL.Image.Image image mode=RGB size=560x360 at 0x7F02F0330DA0>: 100%|██████████| 42/42 [00:00<00:00, 81.99 Samples/s]\n",
      "Executing Pipeline:   0%|          | 0/49 [00:00<?, ? Samples/s]"
     ]
    },
    {
     "name": "stdout",
     "output_type": "stream",
     "text": [
      "Done\n",
      "Initialised with 2 image(s) found.\n",
      "Output directory set to /root/workspace/Thyroid_Solid_Nodule/data/preprocess/public_aug/tmp/image/maligns_563_/output.2 ground truth image(s) found.\n",
      "\n",
      "No./root/workspace/Thyroid_Solid_Nodule/data/preprocess/public/image/maligns_563_2.jpg data is being augmented and 49 data will be created\n"
     ]
    },
    {
     "name": "stderr",
     "output_type": "stream",
     "text": [
      "Processing <PIL.Image.Image image mode=RGB size=560x315 at 0x7F03C28AD3C8>: 100%|██████████| 49/49 [00:00<00:00, 92.99 Samples/s]                  \n",
      "Executing Pipeline:   0%|          | 0/60 [00:00<?, ? Samples/s]"
     ]
    },
    {
     "name": "stdout",
     "output_type": "stream",
     "text": [
      "Done\n",
      "Initialised with 1 image(s) found.\n",
      "Output directory set to /root/workspace/Thyroid_Solid_Nodule/data/preprocess/public_aug/tmp/image/159_/output.1 ground truth image(s) found.\n",
      "\n",
      "No./root/workspace/Thyroid_Solid_Nodule/data/preprocess/public/image/159_1.jpg data is being augmented and 60 data will be created\n"
     ]
    },
    {
     "name": "stderr",
     "output_type": "stream",
     "text": [
      "Processing <PIL.Image.Image image mode=RGB size=560x360 at 0x7F02F0352AC8>: 100%|██████████| 60/60 [00:00<00:00, 94.68 Samples/s]                  \n",
      "Executing Pipeline:   0%|          | 0/43 [00:00<?, ? Samples/s]"
     ]
    },
    {
     "name": "stdout",
     "output_type": "stream",
     "text": [
      "Done\n",
      "Initialised with 1 image(s) found.\n",
      "Output directory set to /root/workspace/Thyroid_Solid_Nodule/data/preprocess/public_aug/tmp/image/108_/output.1 ground truth image(s) found.\n",
      "\n",
      "No./root/workspace/Thyroid_Solid_Nodule/data/preprocess/public/image/108_1.jpg data is being augmented and 43 data will be created\n"
     ]
    },
    {
     "name": "stderr",
     "output_type": "stream",
     "text": [
      "Processing <PIL.Image.Image image mode=RGB size=560x360 at 0x7F02F030B978>: 100%|██████████| 43/43 [00:00<00:00, 89.69 Samples/s]\n",
      "Executing Pipeline:   0%|          | 0/52 [00:00<?, ? Samples/s]"
     ]
    },
    {
     "name": "stdout",
     "output_type": "stream",
     "text": [
      "Done\n",
      "Initialised with 1 image(s) found.\n",
      "Output directory set to /root/workspace/Thyroid_Solid_Nodule/data/preprocess/public_aug/tmp/image/188_/output.1 ground truth image(s) found.\n",
      "\n",
      "No./root/workspace/Thyroid_Solid_Nodule/data/preprocess/public/image/188_1.jpg data is being augmented and 52 data will be created\n"
     ]
    },
    {
     "name": "stderr",
     "output_type": "stream",
     "text": [
      "Processing <PIL.Image.Image image mode=RGB size=560x360 at 0x7F02F02DD3C8>: 100%|██████████| 52/52 [00:00<00:00, 91.69 Samples/s]                  \n",
      "Executing Pipeline:   0%|          | 0/50 [00:00<?, ? Samples/s]"
     ]
    },
    {
     "name": "stdout",
     "output_type": "stream",
     "text": [
      "Done\n",
      "Initialised with 2 image(s) found.\n",
      "Output directory set to /root/workspace/Thyroid_Solid_Nodule/data/preprocess/public_aug/tmp/image/maligns_566_/output.2 ground truth image(s) found.\n",
      "\n",
      "No./root/workspace/Thyroid_Solid_Nodule/data/preprocess/public/image/maligns_566_2.jpg data is being augmented and 50 data will be created\n"
     ]
    },
    {
     "name": "stderr",
     "output_type": "stream",
     "text": [
      "Processing <PIL.Image.Image image mode=RGB size=560x315 at 0x7F02F0322E48>: 100%|██████████| 50/50 [00:00<00:00, 103.92 Samples/s]                 \n",
      "Executing Pipeline:   0%|          | 0/40 [00:00<?, ? Samples/s]"
     ]
    },
    {
     "name": "stdout",
     "output_type": "stream",
     "text": [
      "Done\n",
      "Initialised with 1 image(s) found.\n",
      "Output directory set to /root/workspace/Thyroid_Solid_Nodule/data/preprocess/public_aug/tmp/image/192_/output.1 ground truth image(s) found.\n",
      "\n",
      "No./root/workspace/Thyroid_Solid_Nodule/data/preprocess/public/image/192_1.jpg data is being augmented and 40 data will be created\n"
     ]
    },
    {
     "name": "stderr",
     "output_type": "stream",
     "text": [
      "Processing <PIL.Image.Image image mode=RGB size=560x360 at 0x7F02F02DDC50>: 100%|██████████| 40/40 [00:00<00:00, 82.78 Samples/s]                  \n",
      "Executing Pipeline:   0%|          | 0/54 [00:00<?, ? Samples/s]"
     ]
    },
    {
     "name": "stdout",
     "output_type": "stream",
     "text": [
      "Done\n",
      "Initialised with 1 image(s) found.\n",
      "Output directory set to /root/workspace/Thyroid_Solid_Nodule/data/preprocess/public_aug/tmp/image/207_/output.1 ground truth image(s) found.\n",
      "\n",
      "No./root/workspace/Thyroid_Solid_Nodule/data/preprocess/public/image/207_1.jpg data is being augmented and 54 data will be created\n"
     ]
    },
    {
     "name": "stderr",
     "output_type": "stream",
     "text": [
      "Processing <PIL.Image.Image image mode=RGB size=560x360 at 0x7F02F0358C88>: 100%|██████████| 54/54 [00:00<00:00, 88.02 Samples/s]                  \n",
      "Executing Pipeline:   0%|          | 0/54 [00:00<?, ? Samples/s]"
     ]
    },
    {
     "name": "stdout",
     "output_type": "stream",
     "text": [
      "Done\n",
      "Initialised with 1 image(s) found.\n",
      "Output directory set to /root/workspace/Thyroid_Solid_Nodule/data/preprocess/public_aug/tmp/image/36_/output.1 ground truth image(s) found.\n",
      "\n",
      "No./root/workspace/Thyroid_Solid_Nodule/data/preprocess/public/image/36_1.jpg data is being augmented and 54 data will be created\n"
     ]
    },
    {
     "name": "stderr",
     "output_type": "stream",
     "text": [
      "Processing <PIL.Image.Image image mode=RGB size=560x360 at 0x7F02F033B240>: 100%|██████████| 54/54 [00:00<00:00, 89.16 Samples/s]                 \n",
      "Executing Pipeline:   0%|          | 0/41 [00:00<?, ? Samples/s]"
     ]
    },
    {
     "name": "stdout",
     "output_type": "stream",
     "text": [
      "Done\n",
      "Initialised with 1 image(s) found.\n",
      "Output directory set to /root/workspace/Thyroid_Solid_Nodule/data/preprocess/public_aug/tmp/image/128_/output.1 ground truth image(s) found.\n",
      "\n",
      "No./root/workspace/Thyroid_Solid_Nodule/data/preprocess/public/image/128_1.jpg data is being augmented and 41 data will be created\n"
     ]
    },
    {
     "name": "stderr",
     "output_type": "stream",
     "text": [
      "Processing <PIL.Image.Image image mode=RGB size=560x360 at 0x7F02F02DD710>: 100%|██████████| 41/41 [00:00<00:00, 85.88 Samples/s]                  \n",
      "Executing Pipeline:   0%|          | 0/40 [00:00<?, ? Samples/s]"
     ]
    },
    {
     "name": "stdout",
     "output_type": "stream",
     "text": [
      "Done\n",
      "Initialised with 1 image(s) found.\n",
      "Output directory set to /root/workspace/Thyroid_Solid_Nodule/data/preprocess/public_aug/tmp/image/7_/output.1 ground truth image(s) found.\n",
      "\n",
      "No./root/workspace/Thyroid_Solid_Nodule/data/preprocess/public/image/7_1.jpg data is being augmented and 40 data will be created\n"
     ]
    },
    {
     "name": "stderr",
     "output_type": "stream",
     "text": [
      "Processing <PIL.Image.Image image mode=RGB size=560x360 at 0x7F02F02DD588>: 100%|██████████| 40/40 [00:00<00:00, 84.02 Samples/s]\n",
      "Executing Pipeline:   0%|          | 0/47 [00:00<?, ? Samples/s]"
     ]
    },
    {
     "name": "stdout",
     "output_type": "stream",
     "text": [
      "Done\n",
      "Initialised with 2 image(s) found.\n",
      "Output directory set to /root/workspace/Thyroid_Solid_Nodule/data/preprocess/public_aug/tmp/image/359_/output.2 ground truth image(s) found.\n",
      "\n",
      "No./root/workspace/Thyroid_Solid_Nodule/data/preprocess/public/image/359_1.jpg data is being augmented and 47 data will be created\n"
     ]
    },
    {
     "name": "stderr",
     "output_type": "stream",
     "text": [
      "Processing <PIL.Image.Image image mode=RGB size=560x360 at 0x7F02F033A9E8>: 100%|██████████| 47/47 [00:00<00:00, 88.71 Samples/s]\n",
      "Executing Pipeline:   0%|          | 0/50 [00:00<?, ? Samples/s]"
     ]
    },
    {
     "name": "stdout",
     "output_type": "stream",
     "text": [
      "Done\n",
      "Initialised with 1 image(s) found.\n",
      "Output directory set to /root/workspace/Thyroid_Solid_Nodule/data/preprocess/public_aug/tmp/image/86_/output.1 ground truth image(s) found.\n",
      "\n",
      "No./root/workspace/Thyroid_Solid_Nodule/data/preprocess/public/image/86_1.jpg data is being augmented and 50 data will be created\n"
     ]
    },
    {
     "name": "stderr",
     "output_type": "stream",
     "text": [
      "Processing <PIL.Image.Image image mode=RGB size=560x360 at 0x7F02F03587B8>: 100%|██████████| 50/50 [00:00<00:00, 82.87 Samples/s]                 \n",
      "Executing Pipeline:   0%|          | 0/48 [00:00<?, ? Samples/s]"
     ]
    },
    {
     "name": "stdout",
     "output_type": "stream",
     "text": [
      "Done\n",
      "Initialised with 2 image(s) found.\n",
      "Output directory set to /root/workspace/Thyroid_Solid_Nodule/data/preprocess/public_aug/tmp/image/359_/output.2 ground truth image(s) found.\n",
      "\n",
      "No./root/workspace/Thyroid_Solid_Nodule/data/preprocess/public/image/359_2.jpg data is being augmented and 48 data will be created\n"
     ]
    },
    {
     "name": "stderr",
     "output_type": "stream",
     "text": [
      "Processing <PIL.Image.Image image mode=RGB size=560x360 at 0x7F02F030B080>: 100%|██████████| 48/48 [00:00<00:00, 77.42 Samples/s]                  \n",
      "Executing Pipeline:   0%|          | 0/57 [00:00<?, ? Samples/s]"
     ]
    },
    {
     "name": "stdout",
     "output_type": "stream",
     "text": [
      "Done\n",
      "Initialised with 1 image(s) found.\n",
      "Output directory set to /root/workspace/Thyroid_Solid_Nodule/data/preprocess/public_aug/tmp/image/245_/output.1 ground truth image(s) found.\n",
      "\n",
      "No./root/workspace/Thyroid_Solid_Nodule/data/preprocess/public/image/245_1.jpg data is being augmented and 57 data will be created\n"
     ]
    },
    {
     "name": "stderr",
     "output_type": "stream",
     "text": [
      "Processing <PIL.Image.Image image mode=RGB size=560x360 at 0x7F02F0317DD8>: 100%|██████████| 57/57 [00:00<00:00, 105.59 Samples/s]\n",
      "Executing Pipeline:   0%|          | 0/50 [00:00<?, ? Samples/s]"
     ]
    },
    {
     "name": "stdout",
     "output_type": "stream",
     "text": [
      "Done\n",
      "Initialised with 2 image(s) found.\n",
      "Output directory set to /root/workspace/Thyroid_Solid_Nodule/data/preprocess/public_aug/tmp/image/213_/output.2 ground truth image(s) found.\n",
      "\n",
      "No./root/workspace/Thyroid_Solid_Nodule/data/preprocess/public/image/213_1.jpg data is being augmented and 50 data will be created\n"
     ]
    },
    {
     "name": "stderr",
     "output_type": "stream",
     "text": [
      "Processing <PIL.Image.Image image mode=RGB size=560x360 at 0x7F02F0336B00>: 100%|██████████| 50/50 [00:00<00:00, 100.00 Samples/s]                 \n",
      "Processing <PIL.Image.Image image mode=RGB size=560x360 at 0x7F02F03228D0>:   2%|▏         | 1/50 [00:00<00:07,  6.20 Samples/s]"
     ]
    },
    {
     "name": "stdout",
     "output_type": "stream",
     "text": [
      "Done\n",
      "Initialised with 1 image(s) found.\n",
      "Output directory set to /root/workspace/Thyroid_Solid_Nodule/data/preprocess/public_aug/tmp/image/252_/output.1 ground truth image(s) found.\n",
      "\n",
      "No./root/workspace/Thyroid_Solid_Nodule/data/preprocess/public/image/252_1.jpg data is being augmented and 50 data will be created\n"
     ]
    },
    {
     "name": "stderr",
     "output_type": "stream",
     "text": [
      "Processing <PIL.Image.Image image mode=RGB size=560x360 at 0x7F02F0352EF0>: 100%|██████████| 50/50 [00:00<00:00, 106.45 Samples/s]                 \n",
      "Processing <PIL.Image.Image image mode=RGB size=560x315 at 0x7F02F0330B00>:  36%|███▌      | 17/47 [00:00<00:04,  6.29 Samples/s]                 "
     ]
    },
    {
     "name": "stdout",
     "output_type": "stream",
     "text": [
      "Done\n",
      "Initialised with 1 image(s) found.\n",
      "Output directory set to /root/workspace/Thyroid_Solid_Nodule/data/preprocess/public_aug/tmp/image/maligns_625_/output.1 ground truth image(s) found.\n",
      "\n",
      "No./root/workspace/Thyroid_Solid_Nodule/data/preprocess/public/image/maligns_625_1.jpg data is being augmented and 47 data will be created\n"
     ]
    },
    {
     "name": "stderr",
     "output_type": "stream",
     "text": [
      "Processing <PIL.Image.Image image mode=RGB size=560x315 at 0x7F02F03524A8>: 100%|██████████| 47/47 [00:00<00:00, 134.37 Samples/s]                 \n",
      "Executing Pipeline:   0%|          | 0/59 [00:00<?, ? Samples/s]"
     ]
    },
    {
     "name": "stdout",
     "output_type": "stream",
     "text": [
      "Done\n",
      "Initialised with 1 image(s) found.\n",
      "Output directory set to /root/workspace/Thyroid_Solid_Nodule/data/preprocess/public_aug/tmp/image/134_/output.1 ground truth image(s) found.\n",
      "\n",
      "No./root/workspace/Thyroid_Solid_Nodule/data/preprocess/public/image/134_1.jpg data is being augmented and 59 data will be created\n"
     ]
    },
    {
     "name": "stderr",
     "output_type": "stream",
     "text": [
      "Processing <PIL.Image.Image image mode=RGB size=560x360 at 0x7F02F033B630>: 100%|██████████| 59/59 [00:00<00:00, 93.10 Samples/s]\n",
      "Processing <PIL.Image.Image image mode=RGB size=560x360 at 0x7F02F033AEB8>:  10%|█         | 4/40 [00:00<00:03,  9.53 Samples/s]"
     ]
    },
    {
     "name": "stdout",
     "output_type": "stream",
     "text": [
      "Done\n",
      "Initialised with 3 image(s) found.\n",
      "Output directory set to /root/workspace/Thyroid_Solid_Nodule/data/preprocess/public_aug/tmp/image/366_/output.3 ground truth image(s) found.\n",
      "\n",
      "No./root/workspace/Thyroid_Solid_Nodule/data/preprocess/public/image/366_1.jpg data is being augmented and 40 data will be created\n"
     ]
    },
    {
     "name": "stderr",
     "output_type": "stream",
     "text": [
      "Processing <PIL.Image.Image image mode=RGB size=560x360 at 0x7F02F0330390>: 100%|██████████| 40/40 [00:00<00:00, 90.26 Samples/s]                 \n",
      "Processing <PIL.Image.Image image mode=RGB size=560x360 at 0x7F02F03309B0>:   0%|          | 0/54 [00:00<?, ? Samples/s]"
     ]
    },
    {
     "name": "stdout",
     "output_type": "stream",
     "text": [
      "Done\n",
      "Initialised with 1 image(s) found.\n",
      "Output directory set to /root/workspace/Thyroid_Solid_Nodule/data/preprocess/public_aug/tmp/image/182_/output.1 ground truth image(s) found.\n",
      "\n",
      "No./root/workspace/Thyroid_Solid_Nodule/data/preprocess/public/image/182_1.jpg data is being augmented and 54 data will be created\n"
     ]
    },
    {
     "name": "stderr",
     "output_type": "stream",
     "text": [
      "Processing <PIL.Image.Image image mode=RGB size=560x360 at 0x7F02F0358358>: 100%|██████████| 54/54 [00:00<00:00, 102.03 Samples/s]\n",
      "Processing <PIL.Image.Image image mode=RGB size=560x360 at 0x7F02F033BD30>:   0%|          | 0/52 [00:00<?, ? Samples/s]"
     ]
    },
    {
     "name": "stdout",
     "output_type": "stream",
     "text": [
      "Done\n",
      "Initialised with 1 image(s) found.\n",
      "Output directory set to /root/workspace/Thyroid_Solid_Nodule/data/preprocess/public_aug/tmp/image/174_/output.1 ground truth image(s) found.\n",
      "\n",
      "No./root/workspace/Thyroid_Solid_Nodule/data/preprocess/public/image/174_1.jpg data is being augmented and 52 data will be created\n"
     ]
    },
    {
     "name": "stderr",
     "output_type": "stream",
     "text": [
      "Processing <PIL.Image.Image image mode=RGB size=560x360 at 0x7F02F0317BE0>: 100%|██████████| 52/52 [00:00<00:00, 89.63 Samples/s]                  \n",
      "Processing <PIL.Image.Image image mode=RGB size=560x360 at 0x7F03C28B8A58>:   2%|▏         | 1/47 [00:00<00:06,  6.88 Samples/s]                  "
     ]
    },
    {
     "name": "stdout",
     "output_type": "stream",
     "text": [
      "Done\n",
      "Initialised with 1 image(s) found.\n",
      "Output directory set to /root/workspace/Thyroid_Solid_Nodule/data/preprocess/public_aug/tmp/image/314_/output.1 ground truth image(s) found.\n",
      "\n",
      "No./root/workspace/Thyroid_Solid_Nodule/data/preprocess/public/image/314_1.jpg data is being augmented and 47 data will be created\n"
     ]
    },
    {
     "name": "stderr",
     "output_type": "stream",
     "text": [
      "Processing <PIL.Image.Image image mode=RGB size=560x360 at 0x7F02F02E54A8>: 100%|██████████| 47/47 [00:00<00:00, 93.51 Samples/s]                  \n",
      "Executing Pipeline:   0%|          | 0/60 [00:00<?, ? Samples/s]"
     ]
    },
    {
     "name": "stdout",
     "output_type": "stream",
     "text": [
      "Done\n",
      "Initialised with 2 image(s) found.\n",
      "Output directory set to /root/workspace/Thyroid_Solid_Nodule/data/preprocess/public_aug/tmp/image/99_/output.2 ground truth image(s) found.\n",
      "\n",
      "No./root/workspace/Thyroid_Solid_Nodule/data/preprocess/public/image/99_2.jpg data is being augmented and 60 data will be created\n"
     ]
    },
    {
     "name": "stderr",
     "output_type": "stream",
     "text": [
      "Processing <PIL.Image.Image image mode=RGB size=560x360 at 0x7F02F033B588>: 100%|██████████| 60/60 [00:00<00:00, 100.78 Samples/s]                 \n",
      "Executing Pipeline:   0%|          | 0/59 [00:00<?, ? Samples/s]"
     ]
    },
    {
     "name": "stdout",
     "output_type": "stream",
     "text": [
      "Done\n",
      "Initialised with 1 image(s) found.\n",
      "Output directory set to /root/workspace/Thyroid_Solid_Nodule/data/preprocess/public_aug/tmp/image/333_/output.1 ground truth image(s) found.\n",
      "\n",
      "No./root/workspace/Thyroid_Solid_Nodule/data/preprocess/public/image/333_1.jpg data is being augmented and 59 data will be created\n"
     ]
    },
    {
     "name": "stderr",
     "output_type": "stream",
     "text": [
      "Processing <PIL.Image.Image image mode=RGB size=560x360 at 0x7F02F03175F8>: 100%|██████████| 59/59 [00:00<00:00, 102.19 Samples/s]                 \n",
      "Executing Pipeline:   0%|          | 0/53 [00:00<?, ? Samples/s]"
     ]
    },
    {
     "name": "stdout",
     "output_type": "stream",
     "text": [
      "Done\n",
      "Initialised with 2 image(s) found.\n",
      "Output directory set to /root/workspace/Thyroid_Solid_Nodule/data/preprocess/public_aug/tmp/image/338_/output.2 ground truth image(s) found.\n",
      "\n",
      "No./root/workspace/Thyroid_Solid_Nodule/data/preprocess/public/image/338_1.jpg data is being augmented and 53 data will be created\n"
     ]
    },
    {
     "name": "stderr",
     "output_type": "stream",
     "text": [
      "Processing <PIL.Image.Image image mode=RGB size=560x360 at 0x7F02F03172E8>: 100%|██████████| 53/53 [00:00<00:00, 94.44 Samples/s]\n",
      "Executing Pipeline:   0%|          | 0/46 [00:00<?, ? Samples/s]"
     ]
    },
    {
     "name": "stdout",
     "output_type": "stream",
     "text": [
      "Done\n",
      "Initialised with 1 image(s) found.\n",
      "Output directory set to /root/workspace/Thyroid_Solid_Nodule/data/preprocess/public_aug/tmp/image/benigns_607_/output.1 ground truth image(s) found.\n",
      "\n",
      "No./root/workspace/Thyroid_Solid_Nodule/data/preprocess/public/image/benigns_607_1.jpg data is being augmented and 46 data will be created\n"
     ]
    },
    {
     "name": "stderr",
     "output_type": "stream",
     "text": [
      "Processing <PIL.Image.Image image mode=RGB size=560x315 at 0x7F02F0317588>: 100%|██████████| 46/46 [00:00<00:00, 91.59 Samples/s]                  \n",
      "Executing Pipeline:   0%|          | 0/60 [00:00<?, ? Samples/s]"
     ]
    },
    {
     "name": "stdout",
     "output_type": "stream",
     "text": [
      "Done\n",
      "Initialised with 3 image(s) found.\n",
      "Output directory set to /root/workspace/Thyroid_Solid_Nodule/data/preprocess/public_aug/tmp/image/234_/output.3 ground truth image(s) found.\n",
      "\n",
      "No./root/workspace/Thyroid_Solid_Nodule/data/preprocess/public/image/234_1.jpg data is being augmented and 60 data will be created\n"
     ]
    },
    {
     "name": "stderr",
     "output_type": "stream",
     "text": [
      "Processing <PIL.Image.Image image mode=RGB size=560x360 at 0x7F02F030B198>: 100%|██████████| 60/60 [00:00<00:00, 107.09 Samples/s]                 \n",
      "Executing Pipeline:   0%|          | 0/51 [00:00<?, ? Samples/s]"
     ]
    },
    {
     "name": "stdout",
     "output_type": "stream",
     "text": [
      "Done\n",
      "Initialised with 1 image(s) found.\n",
      "Output directory set to /root/workspace/Thyroid_Solid_Nodule/data/preprocess/public_aug/tmp/image/40_/output.1 ground truth image(s) found.\n",
      "\n",
      "No./root/workspace/Thyroid_Solid_Nodule/data/preprocess/public/image/40_1.jpg data is being augmented and 51 data will be created\n"
     ]
    },
    {
     "name": "stderr",
     "output_type": "stream",
     "text": [
      "Processing <PIL.Image.Image image mode=RGB size=560x360 at 0x7F02F0322F60>: 100%|██████████| 51/51 [00:00<00:00, 87.81 Samples/s]\n",
      "Executing Pipeline:   0%|          | 0/44 [00:00<?, ? Samples/s]"
     ]
    },
    {
     "name": "stdout",
     "output_type": "stream",
     "text": [
      "Done\n",
      "Initialised with 1 image(s) found.\n",
      "Output directory set to /root/workspace/Thyroid_Solid_Nodule/data/preprocess/public_aug/tmp/image/216_/output.1 ground truth image(s) found.\n",
      "\n",
      "No./root/workspace/Thyroid_Solid_Nodule/data/preprocess/public/image/216_1.jpg data is being augmented and 44 data will be created\n"
     ]
    },
    {
     "name": "stderr",
     "output_type": "stream",
     "text": [
      "Processing <PIL.Image.Image image mode=RGB size=560x360 at 0x7F02F033A630>: 100%|██████████| 44/44 [00:00<00:00, 82.53 Samples/s]                  \n",
      "Executing Pipeline:   0%|          | 0/55 [00:00<?, ? Samples/s]"
     ]
    },
    {
     "name": "stdout",
     "output_type": "stream",
     "text": [
      "Done\n",
      "Initialised with 1 image(s) found.\n",
      "Output directory set to /root/workspace/Thyroid_Solid_Nodule/data/preprocess/public_aug/tmp/image/224_/output.1 ground truth image(s) found.\n",
      "\n",
      "No./root/workspace/Thyroid_Solid_Nodule/data/preprocess/public/image/224_1.jpg data is being augmented and 55 data will be created\n"
     ]
    },
    {
     "name": "stderr",
     "output_type": "stream",
     "text": [
      "Processing <PIL.Image.Image image mode=RGB size=560x360 at 0x7F02F033A0B8>: 100%|██████████| 55/55 [00:00<00:00, 78.05 Samples/s]                  \n",
      "Executing Pipeline:   0%|          | 0/47 [00:00<?, ? Samples/s]"
     ]
    },
    {
     "name": "stdout",
     "output_type": "stream",
     "text": [
      "Done\n",
      "Initialised with 3 image(s) found.\n",
      "Output directory set to /root/workspace/Thyroid_Solid_Nodule/data/preprocess/public_aug/tmp/image/234_/output.3 ground truth image(s) found.\n",
      "\n",
      "No./root/workspace/Thyroid_Solid_Nodule/data/preprocess/public/image/234_3.jpg data is being augmented and 47 data will be created\n"
     ]
    },
    {
     "name": "stderr",
     "output_type": "stream",
     "text": [
      "Processing <PIL.Image.Image image mode=RGB size=560x360 at 0x7F02F030BBA8>: 100%|██████████| 47/47 [00:00<00:00, 76.68 Samples/s]                  \n",
      "Processing <PIL.Image.Image image mode=RGB size=560x360 at 0x7F02F02E5860>:  10%|█         | 4/40 [00:00<00:03,  9.37 Samples/s]"
     ]
    },
    {
     "name": "stdout",
     "output_type": "stream",
     "text": [
      "Done\n",
      "Initialised with 1 image(s) found.\n",
      "Output directory set to /root/workspace/Thyroid_Solid_Nodule/data/preprocess/public_aug/tmp/image/167_/output.1 ground truth image(s) found.\n",
      "\n",
      "No./root/workspace/Thyroid_Solid_Nodule/data/preprocess/public/image/167_1.jpg data is being augmented and 40 data will be created\n"
     ]
    },
    {
     "name": "stderr",
     "output_type": "stream",
     "text": [
      "Processing <PIL.Image.Image image mode=RGB size=560x360 at 0x7F02F0330710>: 100%|██████████| 40/40 [00:00<00:00, 103.10 Samples/s]                \n",
      "Executing Pipeline:   0%|          | 0/53 [00:00<?, ? Samples/s]"
     ]
    },
    {
     "name": "stdout",
     "output_type": "stream",
     "text": [
      "Done\n",
      "Initialised with 1 image(s) found.\n",
      "Output directory set to /root/workspace/Thyroid_Solid_Nodule/data/preprocess/public_aug/tmp/image/145_/output.1 ground truth image(s) found.\n",
      "\n",
      "No./root/workspace/Thyroid_Solid_Nodule/data/preprocess/public/image/145_1.jpg data is being augmented and 53 data will be created\n"
     ]
    },
    {
     "name": "stderr",
     "output_type": "stream",
     "text": [
      "Processing <PIL.Image.Image image mode=RGB size=560x360 at 0x7F03C28B8EB8>: 100%|██████████| 53/53 [00:00<00:00, 100.20 Samples/s]\n",
      "Executing Pipeline:   0%|          | 0/60 [00:00<?, ? Samples/s]"
     ]
    },
    {
     "name": "stdout",
     "output_type": "stream",
     "text": [
      "Done\n",
      "Initialised with 2 image(s) found.\n",
      "Output directory set to /root/workspace/Thyroid_Solid_Nodule/data/preprocess/public_aug/tmp/image/146_/output.2 ground truth image(s) found.\n",
      "\n",
      "No./root/workspace/Thyroid_Solid_Nodule/data/preprocess/public/image/146_1.jpg data is being augmented and 60 data will be created\n"
     ]
    },
    {
     "name": "stderr",
     "output_type": "stream",
     "text": [
      "Processing <PIL.Image.Image image mode=RGB size=560x360 at 0x7F02F03362E8>: 100%|██████████| 60/60 [00:00<00:00, 99.12 Samples/s]\n",
      "Executing Pipeline:   0%|          | 0/50 [00:00<?, ? Samples/s]"
     ]
    },
    {
     "name": "stdout",
     "output_type": "stream",
     "text": [
      "Done\n",
      "Initialised with 1 image(s) found.\n",
      "Output directory set to /root/workspace/Thyroid_Solid_Nodule/data/preprocess/public_aug/tmp/image/45_/output.1 ground truth image(s) found.\n",
      "\n",
      "No./root/workspace/Thyroid_Solid_Nodule/data/preprocess/public/image/45_1.jpg data is being augmented and 50 data will be created\n"
     ]
    },
    {
     "name": "stderr",
     "output_type": "stream",
     "text": [
      "Processing <PIL.Image.Image image mode=RGB size=560x360 at 0x7F02F02FC400>: 100%|██████████| 50/50 [00:00<00:00, 91.85 Samples/s]                  \n",
      "Executing Pipeline:   0%|          | 0/55 [00:00<?, ? Samples/s]"
     ]
    },
    {
     "name": "stdout",
     "output_type": "stream",
     "text": [
      "Done\n",
      "Initialised with 1 image(s) found.\n",
      "Output directory set to /root/workspace/Thyroid_Solid_Nodule/data/preprocess/public_aug/tmp/image/150_/output.1 ground truth image(s) found.\n",
      "\n",
      "No./root/workspace/Thyroid_Solid_Nodule/data/preprocess/public/image/150_1.jpg data is being augmented and 55 data will be created\n"
     ]
    },
    {
     "name": "stderr",
     "output_type": "stream",
     "text": [
      "Processing <PIL.Image.Image image mode=RGB size=560x360 at 0x7F02F0305438>: 100%|██████████| 55/55 [00:00<00:00, 86.29 Samples/s]\n",
      "Executing Pipeline:   0%|          | 0/50 [00:00<?, ? Samples/s]"
     ]
    },
    {
     "name": "stdout",
     "output_type": "stream",
     "text": [
      "Done\n",
      "Initialised with 1 image(s) found.\n",
      "Output directory set to /root/workspace/Thyroid_Solid_Nodule/data/preprocess/public_aug/tmp/image/60_/output.1 ground truth image(s) found.\n",
      "\n",
      "No./root/workspace/Thyroid_Solid_Nodule/data/preprocess/public/image/60_1.jpg data is being augmented and 50 data will be created\n"
     ]
    },
    {
     "name": "stderr",
     "output_type": "stream",
     "text": [
      "Processing <PIL.Image.Image image mode=RGB size=560x360 at 0x7F02F033B0B8>: 100%|██████████| 50/50 [00:00<00:00, 87.41 Samples/s]                  \n",
      "Executing Pipeline:   0%|          | 0/55 [00:00<?, ? Samples/s]"
     ]
    },
    {
     "name": "stdout",
     "output_type": "stream",
     "text": [
      "Done\n",
      "Initialised with 2 image(s) found.\n",
      "Output directory set to /root/workspace/Thyroid_Solid_Nodule/data/preprocess/public_aug/tmp/image/maligns_568_/output.2 ground truth image(s) found.\n",
      "\n",
      "No./root/workspace/Thyroid_Solid_Nodule/data/preprocess/public/image/maligns_568_1.jpg data is being augmented and 55 data will be created\n"
     ]
    },
    {
     "name": "stderr",
     "output_type": "stream",
     "text": [
      "Processing <PIL.Image.Image image mode=RGB size=560x315 at 0x7F02F02FB2B0>: 100%|██████████| 55/55 [00:00<00:00, 91.25 Samples/s]                  \n",
      "Processing <PIL.Image.Image image mode=RGB size=560x360 at 0x7F02F02FC518>:   0%|          | 0/47 [00:00<?, ? Samples/s]"
     ]
    },
    {
     "name": "stdout",
     "output_type": "stream",
     "text": [
      "Done\n",
      "Initialised with 2 image(s) found.\n",
      "Output directory set to /root/workspace/Thyroid_Solid_Nodule/data/preprocess/public_aug/tmp/image/90_/output.2 ground truth image(s) found.\n",
      "\n",
      "No./root/workspace/Thyroid_Solid_Nodule/data/preprocess/public/image/90_2.jpg data is being augmented and 47 data will be created\n"
     ]
    },
    {
     "name": "stderr",
     "output_type": "stream",
     "text": [
      "Processing <PIL.Image.Image image mode=RGB size=560x360 at 0x7F02F0322470>: 100%|██████████| 47/47 [00:00<00:00, 90.90 Samples/s]\n",
      "Executing Pipeline:   0%|          | 0/56 [00:00<?, ? Samples/s]"
     ]
    },
    {
     "name": "stdout",
     "output_type": "stream",
     "text": [
      "Done\n",
      "Initialised with 1 image(s) found.\n",
      "Output directory set to /root/workspace/Thyroid_Solid_Nodule/data/preprocess/public_aug/tmp/image/362_/output.1 ground truth image(s) found.\n",
      "\n",
      "No./root/workspace/Thyroid_Solid_Nodule/data/preprocess/public/image/362_1.jpg data is being augmented and 56 data will be created\n"
     ]
    },
    {
     "name": "stderr",
     "output_type": "stream",
     "text": [
      "Processing <PIL.Image.Image image mode=RGB size=560x360 at 0x7F02F02E51D0>: 100%|██████████| 56/56 [00:00<00:00, 92.70 Samples/s]                  \n",
      "Executing Pipeline:   0%|          | 0/46 [00:00<?, ? Samples/s]"
     ]
    },
    {
     "name": "stdout",
     "output_type": "stream",
     "text": [
      "Done\n",
      "Initialised with 1 image(s) found.\n",
      "Output directory set to /root/workspace/Thyroid_Solid_Nodule/data/preprocess/public_aug/tmp/image/179_/output.1 ground truth image(s) found.\n",
      "\n",
      "No./root/workspace/Thyroid_Solid_Nodule/data/preprocess/public/image/179_1.jpg data is being augmented and 46 data will be created\n"
     ]
    },
    {
     "name": "stderr",
     "output_type": "stream",
     "text": [
      "Processing <PIL.Image.Image image mode=RGB size=560x360 at 0x7F02F0358BE0>: 100%|██████████| 46/46 [00:00<00:00, 93.00 Samples/s]                 \n",
      "Executing Pipeline:   0%|          | 0/53 [00:00<?, ? Samples/s]"
     ]
    },
    {
     "name": "stdout",
     "output_type": "stream",
     "text": [
      "Done\n",
      "Initialised with 2 image(s) found.\n",
      "Output directory set to /root/workspace/Thyroid_Solid_Nodule/data/preprocess/public_aug/tmp/image/175_/output.2 ground truth image(s) found.\n",
      "\n",
      "No./root/workspace/Thyroid_Solid_Nodule/data/preprocess/public/image/175_1.jpg data is being augmented and 53 data will be created\n"
     ]
    },
    {
     "name": "stderr",
     "output_type": "stream",
     "text": [
      "Processing <PIL.Image.Image image mode=RGB size=560x360 at 0x7F02F030B518>: 100%|██████████| 53/53 [00:00<00:00, 92.63 Samples/s]                  \n",
      "Executing Pipeline:   0%|          | 0/57 [00:00<?, ? Samples/s]"
     ]
    },
    {
     "name": "stdout",
     "output_type": "stream",
     "text": [
      "Done\n",
      "Initialised with 1 image(s) found.\n",
      "Output directory set to /root/workspace/Thyroid_Solid_Nodule/data/preprocess/public_aug/tmp/image/83_/output.1 ground truth image(s) found.\n",
      "\n",
      "No./root/workspace/Thyroid_Solid_Nodule/data/preprocess/public/image/83_1.jpg data is being augmented and 57 data will be created\n"
     ]
    },
    {
     "name": "stderr",
     "output_type": "stream",
     "text": [
      "Processing <PIL.JpegImagePlugin.JpegImageFile image mode=RGB size=560x360 at 0x7F02F02A07F0>: 100%|██████████| 57/57 [00:00<00:00, 96.13 Samples/s]\n",
      "Executing Pipeline:   0%|          | 0/54 [00:00<?, ? Samples/s]"
     ]
    },
    {
     "name": "stdout",
     "output_type": "stream",
     "text": [
      "Done\n",
      "Initialised with 1 image(s) found.\n",
      "Output directory set to /root/workspace/Thyroid_Solid_Nodule/data/preprocess/public_aug/tmp/image/397_/output.1 ground truth image(s) found.\n",
      "\n",
      "No./root/workspace/Thyroid_Solid_Nodule/data/preprocess/public/image/397_1.jpg data is being augmented and 54 data will be created\n"
     ]
    },
    {
     "name": "stderr",
     "output_type": "stream",
     "text": [
      "Processing <PIL.Image.Image image mode=RGB size=560x360 at 0x7F02F02DDF28>: 100%|██████████| 54/54 [00:00<00:00, 92.00 Samples/s]                  \n",
      "Executing Pipeline:   0%|          | 0/59 [00:00<?, ? Samples/s]"
     ]
    },
    {
     "name": "stdout",
     "output_type": "stream",
     "text": [
      "Done\n",
      "Initialised with 2 image(s) found.\n",
      "Output directory set to /root/workspace/Thyroid_Solid_Nodule/data/preprocess/public_aug/tmp/image/371_/output.2 ground truth image(s) found.\n",
      "\n",
      "No./root/workspace/Thyroid_Solid_Nodule/data/preprocess/public/image/371_1.jpg data is being augmented and 59 data will be created\n"
     ]
    },
    {
     "name": "stderr",
     "output_type": "stream",
     "text": [
      "Processing <PIL.JpegImagePlugin.JpegImageFile image mode=RGB size=560x360 at 0x7F02F0296B00>: 100%|██████████| 59/59 [00:00<00:00, 95.34 Samples/s]\n",
      "Executing Pipeline:   0%|          | 0/44 [00:00<?, ? Samples/s]"
     ]
    },
    {
     "name": "stdout",
     "output_type": "stream",
     "text": [
      "Done\n",
      "Initialised with 1 image(s) found.\n",
      "Output directory set to /root/workspace/Thyroid_Solid_Nodule/data/preprocess/public_aug/tmp/image/23_/output.1 ground truth image(s) found.\n",
      "\n",
      "No./root/workspace/Thyroid_Solid_Nodule/data/preprocess/public/image/23_1.jpg data is being augmented and 44 data will be created\n"
     ]
    },
    {
     "name": "stderr",
     "output_type": "stream",
     "text": [
      "Processing <PIL.Image.Image image mode=RGB size=560x360 at 0x7F03C28B8240>: 100%|██████████| 44/44 [00:00<00:00, 63.59 Samples/s]\n",
      "Processing <PIL.Image.Image image mode=RGB size=560x360 at 0x7F02F0330E10>:   2%|▏         | 1/50 [00:00<00:06,  7.43 Samples/s]"
     ]
    },
    {
     "name": "stdout",
     "output_type": "stream",
     "text": [
      "Done\n",
      "Initialised with 2 image(s) found.\n",
      "Output directory set to /root/workspace/Thyroid_Solid_Nodule/data/preprocess/public_aug/tmp/image/315_/output.2 ground truth image(s) found.\n",
      "\n",
      "No./root/workspace/Thyroid_Solid_Nodule/data/preprocess/public/image/315_1.jpg data is being augmented and 50 data will be created\n"
     ]
    },
    {
     "name": "stderr",
     "output_type": "stream",
     "text": [
      "Processing <PIL.Image.Image image mode=RGB size=560x360 at 0x7F02F0305BE0>: 100%|██████████| 50/50 [00:00<00:00, 93.63 Samples/s]                 \n",
      "Executing Pipeline:   0%|          | 0/54 [00:00<?, ? Samples/s]"
     ]
    },
    {
     "name": "stdout",
     "output_type": "stream",
     "text": [
      "Done\n",
      "Initialised with 1 image(s) found.\n",
      "Output directory set to /root/workspace/Thyroid_Solid_Nodule/data/preprocess/public_aug/tmp/image/94_/output.1 ground truth image(s) found.\n",
      "\n",
      "No./root/workspace/Thyroid_Solid_Nodule/data/preprocess/public/image/94_1.jpg data is being augmented and 54 data will be created\n"
     ]
    },
    {
     "name": "stderr",
     "output_type": "stream",
     "text": [
      "Processing <PIL.Image.Image image mode=RGB size=560x360 at 0x7F02F03556D8>: 100%|██████████| 54/54 [00:00<00:00, 93.74 Samples/s]                  \n",
      "Executing Pipeline:   0%|          | 0/43 [00:00<?, ? Samples/s]"
     ]
    },
    {
     "name": "stdout",
     "output_type": "stream",
     "text": [
      "Done\n",
      "Initialised with 1 image(s) found.\n",
      "Output directory set to /root/workspace/Thyroid_Solid_Nodule/data/preprocess/public_aug/tmp/image/5_/output.1 ground truth image(s) found.\n",
      "\n",
      "No./root/workspace/Thyroid_Solid_Nodule/data/preprocess/public/image/5_1.jpg data is being augmented and 43 data will be created\n"
     ]
    },
    {
     "name": "stderr",
     "output_type": "stream",
     "text": [
      "Processing <PIL.Image.Image image mode=RGB size=560x360 at 0x7F02F02E0048>: 100%|██████████| 43/43 [00:00<00:00, 79.40 Samples/s]\n",
      "Processing <PIL.Image.Image image mode=RGB size=560x360 at 0x7F02F02ED9E8>:   2%|▏         | 1/41 [00:00<00:04,  9.28 Samples/s]"
     ]
    },
    {
     "name": "stdout",
     "output_type": "stream",
     "text": [
      "Done\n",
      "Initialised with 1 image(s) found.\n",
      "Output directory set to /root/workspace/Thyroid_Solid_Nodule/data/preprocess/public_aug/tmp/image/312_/output.1 ground truth image(s) found.\n",
      "\n",
      "No./root/workspace/Thyroid_Solid_Nodule/data/preprocess/public/image/312_1.jpg data is being augmented and 41 data will be created\n"
     ]
    },
    {
     "name": "stderr",
     "output_type": "stream",
     "text": [
      "Processing <PIL.Image.Image image mode=RGB size=560x360 at 0x7F02F0358E48>: 100%|██████████| 41/41 [00:00<00:00, 93.81 Samples/s]\n",
      "Executing Pipeline:   0%|          | 0/50 [00:00<?, ? Samples/s]"
     ]
    },
    {
     "name": "stdout",
     "output_type": "stream",
     "text": [
      "Done\n",
      "Initialised with 1 image(s) found.\n",
      "Output directory set to /root/workspace/Thyroid_Solid_Nodule/data/preprocess/public_aug/tmp/image/269_/output.1 ground truth image(s) found.\n",
      "\n",
      "No./root/workspace/Thyroid_Solid_Nodule/data/preprocess/public/image/269_1.jpg data is being augmented and 50 data will be created\n"
     ]
    },
    {
     "name": "stderr",
     "output_type": "stream",
     "text": [
      "Processing <PIL.Image.Image image mode=RGB size=560x360 at 0x7F02F02E0630>: 100%|██████████| 50/50 [00:00<00:00, 104.92 Samples/s]                 \n",
      "Processing <PIL.Image.Image image mode=RGB size=560x360 at 0x7F02F02DD7F0>:   2%|▏         | 1/54 [00:00<00:09,  5.82 Samples/s]"
     ]
    },
    {
     "name": "stdout",
     "output_type": "stream",
     "text": [
      "Done\n",
      "Initialised with 1 image(s) found.\n",
      "Output directory set to /root/workspace/Thyroid_Solid_Nodule/data/preprocess/public_aug/tmp/image/282_/output.1 ground truth image(s) found.\n",
      "\n",
      "No./root/workspace/Thyroid_Solid_Nodule/data/preprocess/public/image/282_1.jpg data is being augmented and 54 data will be created\n"
     ]
    },
    {
     "name": "stderr",
     "output_type": "stream",
     "text": [
      "Processing <PIL.Image.Image image mode=RGB size=560x360 at 0x7F02F0358780>: 100%|██████████| 54/54 [00:00<00:00, 109.24 Samples/s]                 \n",
      "Executing Pipeline:   0%|          | 0/55 [00:00<?, ? Samples/s]"
     ]
    },
    {
     "name": "stdout",
     "output_type": "stream",
     "text": [
      "Done\n",
      "Initialised with 1 image(s) found.\n",
      "Output directory set to /root/workspace/Thyroid_Solid_Nodule/data/preprocess/public_aug/tmp/image/223_/output.1 ground truth image(s) found.\n",
      "\n",
      "No./root/workspace/Thyroid_Solid_Nodule/data/preprocess/public/image/223_1.jpg data is being augmented and 55 data will be created\n"
     ]
    },
    {
     "name": "stderr",
     "output_type": "stream",
     "text": [
      "Processing <PIL.Image.Image image mode=RGB size=560x360 at 0x7F02F02ED3C8>: 100%|██████████| 55/55 [00:00<00:00, 89.80 Samples/s]                  \n",
      "Executing Pipeline:   0%|          | 0/48 [00:00<?, ? Samples/s]"
     ]
    },
    {
     "name": "stdout",
     "output_type": "stream",
     "text": [
      "Done\n",
      "Initialised with 2 image(s) found.\n",
      "Output directory set to /root/workspace/Thyroid_Solid_Nodule/data/preprocess/public_aug/tmp/image/93_/output.2 ground truth image(s) found.\n",
      "\n",
      "No./root/workspace/Thyroid_Solid_Nodule/data/preprocess/public/image/93_1.jpg data is being augmented and 48 data will be created\n"
     ]
    },
    {
     "name": "stderr",
     "output_type": "stream",
     "text": [
      "Processing <PIL.Image.Image image mode=RGB size=560x360 at 0x7F02F0358828>: 100%|██████████| 48/48 [00:00<00:00, 89.85 Samples/s]                 \n",
      "Executing Pipeline:   0%|          | 0/55 [00:00<?, ? Samples/s]"
     ]
    },
    {
     "name": "stdout",
     "output_type": "stream",
     "text": [
      "Done\n",
      "Initialised with 1 image(s) found.\n",
      "Output directory set to /root/workspace/Thyroid_Solid_Nodule/data/preprocess/public_aug/tmp/image/12_/output.1 ground truth image(s) found.\n",
      "\n",
      "No./root/workspace/Thyroid_Solid_Nodule/data/preprocess/public/image/12_1.jpg data is being augmented and 55 data will be created\n"
     ]
    },
    {
     "name": "stderr",
     "output_type": "stream",
     "text": [
      "Processing <PIL.Image.Image image mode=RGB size=560x360 at 0x7F02F02FC630>: 100%|██████████| 55/55 [00:00<00:00, 89.04 Samples/s]                 \n",
      "Executing Pipeline:   0%|          | 0/56 [00:00<?, ? Samples/s]"
     ]
    },
    {
     "name": "stdout",
     "output_type": "stream",
     "text": [
      "Done\n",
      "Initialised with 1 image(s) found.\n",
      "Output directory set to /root/workspace/Thyroid_Solid_Nodule/data/preprocess/public_aug/tmp/image/361_/output.1 ground truth image(s) found.\n",
      "\n",
      "No./root/workspace/Thyroid_Solid_Nodule/data/preprocess/public/image/361_1.jpg data is being augmented and 56 data will be created\n"
     ]
    },
    {
     "name": "stderr",
     "output_type": "stream",
     "text": [
      "Processing <PIL.Image.Image image mode=RGB size=560x360 at 0x7F02F02ED7B8>: 100%|██████████| 56/56 [00:00<00:00, 93.76 Samples/s]                  \n",
      "Executing Pipeline:   0%|          | 0/46 [00:00<?, ? Samples/s]"
     ]
    },
    {
     "name": "stdout",
     "output_type": "stream",
     "text": [
      "Done\n",
      "Initialised with 1 image(s) found.\n",
      "Output directory set to /root/workspace/Thyroid_Solid_Nodule/data/preprocess/public_aug/tmp/image/206_/output.1 ground truth image(s) found.\n",
      "\n",
      "No./root/workspace/Thyroid_Solid_Nodule/data/preprocess/public/image/206_1.jpg data is being augmented and 46 data will be created\n"
     ]
    },
    {
     "name": "stderr",
     "output_type": "stream",
     "text": [
      "Processing <PIL.JpegImagePlugin.JpegImageFile image mode=RGB size=560x360 at 0x7F02F02FC0B8>: 100%|██████████| 46/46 [00:00<00:00, 95.23 Samples/s]\n",
      "Executing Pipeline:   0%|          | 0/51 [00:00<?, ? Samples/s]"
     ]
    },
    {
     "name": "stdout",
     "output_type": "stream",
     "text": [
      "Done\n",
      "Initialised with 1 image(s) found.\n",
      "Output directory set to /root/workspace/Thyroid_Solid_Nodule/data/preprocess/public_aug/tmp/image/204_/output.1 ground truth image(s) found.\n",
      "\n",
      "No./root/workspace/Thyroid_Solid_Nodule/data/preprocess/public/image/204_1.jpg data is being augmented and 51 data will be created\n"
     ]
    },
    {
     "name": "stderr",
     "output_type": "stream",
     "text": [
      "Processing <PIL.Image.Image image mode=RGB size=560x360 at 0x7F02F02A1BE0>: 100%|██████████| 51/51 [00:00<00:00, 96.45 Samples/s]                  \n",
      "Executing Pipeline:   0%|          | 0/48 [00:00<?, ? Samples/s]"
     ]
    },
    {
     "name": "stdout",
     "output_type": "stream",
     "text": [
      "Done\n",
      "Initialised with 1 image(s) found.\n",
      "Output directory set to /root/workspace/Thyroid_Solid_Nodule/data/preprocess/public_aug/tmp/image/377_/output.1 ground truth image(s) found.\n",
      "\n",
      "No./root/workspace/Thyroid_Solid_Nodule/data/preprocess/public/image/377_1.jpg data is being augmented and 48 data will be created\n"
     ]
    },
    {
     "name": "stderr",
     "output_type": "stream",
     "text": [
      "Processing <PIL.Image.Image image mode=RGB size=560x360 at 0x7F02F0292D30>: 100%|██████████| 48/48 [00:00<00:00, 73.17 Samples/s]\n",
      "Executing Pipeline:   0%|          | 0/60 [00:00<?, ? Samples/s]"
     ]
    },
    {
     "name": "stdout",
     "output_type": "stream",
     "text": [
      "Done\n",
      "Initialised with 1 image(s) found.\n",
      "Output directory set to /root/workspace/Thyroid_Solid_Nodule/data/preprocess/public_aug/tmp/image/169_/output.1 ground truth image(s) found.\n",
      "\n",
      "No./root/workspace/Thyroid_Solid_Nodule/data/preprocess/public/image/169_1.jpg data is being augmented and 60 data will be created\n"
     ]
    },
    {
     "name": "stderr",
     "output_type": "stream",
     "text": [
      "Processing <PIL.Image.Image image mode=RGB size=560x360 at 0x7F02F02924A8>: 100%|██████████| 60/60 [00:00<00:00, 87.67 Samples/s]\n",
      "Executing Pipeline:   0%|          | 0/50 [00:00<?, ? Samples/s]"
     ]
    },
    {
     "name": "stdout",
     "output_type": "stream",
     "text": [
      "Done\n",
      "Initialised with 1 image(s) found.\n",
      "Output directory set to /root/workspace/Thyroid_Solid_Nodule/data/preprocess/public_aug/tmp/image/benigns_597_/output.1 ground truth image(s) found.\n",
      "\n",
      "No./root/workspace/Thyroid_Solid_Nodule/data/preprocess/public/image/benigns_597_1.jpg data is being augmented and 50 data will be created\n"
     ]
    },
    {
     "name": "stderr",
     "output_type": "stream",
     "text": [
      "Processing <PIL.Image.Image image mode=RGB size=560x315 at 0x7F02F02DD7B8>: 100%|██████████| 50/50 [00:00<00:00, 91.13 Samples/s]                  \n",
      "Executing Pipeline:   0%|          | 0/48 [00:00<?, ? Samples/s]"
     ]
    },
    {
     "name": "stdout",
     "output_type": "stream",
     "text": [
      "Done\n",
      "Initialised with 1 image(s) found.\n",
      "Output directory set to /root/workspace/Thyroid_Solid_Nodule/data/preprocess/public_aug/tmp/image/302_/output.1 ground truth image(s) found.\n",
      "\n",
      "No./root/workspace/Thyroid_Solid_Nodule/data/preprocess/public/image/302_1.jpg data is being augmented and 48 data will be created\n"
     ]
    },
    {
     "name": "stderr",
     "output_type": "stream",
     "text": [
      "Processing <PIL.Image.Image image mode=RGB size=560x360 at 0x7F02F03307B8>: 100%|██████████| 48/48 [00:00<00:00, 81.64 Samples/s]                  \n",
      "Executing Pipeline:   0%|          | 0/60 [00:00<?, ? Samples/s]"
     ]
    },
    {
     "name": "stdout",
     "output_type": "stream",
     "text": [
      "Done\n",
      "Initialised with 1 image(s) found.\n",
      "Output directory set to /root/workspace/Thyroid_Solid_Nodule/data/preprocess/public_aug/tmp/image/43_/output.1 ground truth image(s) found.\n",
      "\n",
      "No./root/workspace/Thyroid_Solid_Nodule/data/preprocess/public/image/43_1.jpg data is being augmented and 60 data will be created\n"
     ]
    },
    {
     "name": "stderr",
     "output_type": "stream",
     "text": [
      "Processing <PIL.Image.Image image mode=RGB size=560x360 at 0x7F02F02A55F8>: 100%|██████████| 60/60 [00:00<00:00, 83.94 Samples/s]\n",
      "Executing Pipeline:   0%|          | 0/57 [00:00<?, ? Samples/s]"
     ]
    },
    {
     "name": "stdout",
     "output_type": "stream",
     "text": [
      "Done\n",
      "Initialised with 4 image(s) found.\n",
      "Output directory set to /root/workspace/Thyroid_Solid_Nodule/data/preprocess/public_aug/tmp/image/92_/output.4 ground truth image(s) found.\n",
      "\n",
      "No./root/workspace/Thyroid_Solid_Nodule/data/preprocess/public/image/92_1.jpg data is being augmented and 57 data will be created\n"
     ]
    },
    {
     "name": "stderr",
     "output_type": "stream",
     "text": [
      "Processing <PIL.Image.Image image mode=RGB size=560x360 at 0x7F02F02E0B38>: 100%|██████████| 57/57 [00:00<00:00, 86.81 Samples/s]\n",
      "Executing Pipeline:   0%|          | 0/56 [00:00<?, ? Samples/s]"
     ]
    },
    {
     "name": "stdout",
     "output_type": "stream",
     "text": [
      "Done\n",
      "Initialised with 1 image(s) found.\n",
      "Output directory set to /root/workspace/Thyroid_Solid_Nodule/data/preprocess/public_aug/tmp/image/340_/output.1 ground truth image(s) found.\n",
      "\n",
      "No./root/workspace/Thyroid_Solid_Nodule/data/preprocess/public/image/340_1.jpg data is being augmented and 56 data will be created\n"
     ]
    },
    {
     "name": "stderr",
     "output_type": "stream",
     "text": [
      "Processing <PIL.Image.Image image mode=RGB size=560x360 at 0x7F02F0292828>: 100%|██████████| 56/56 [00:00<00:00, 96.10 Samples/s]                  \n",
      "Executing Pipeline:   0%|          | 0/43 [00:00<?, ? Samples/s]"
     ]
    },
    {
     "name": "stdout",
     "output_type": "stream",
     "text": [
      "Done\n",
      "Initialised with 2 image(s) found.\n",
      "Output directory set to /root/workspace/Thyroid_Solid_Nodule/data/preprocess/public_aug/tmp/image/93_/output.2 ground truth image(s) found.\n",
      "\n",
      "No./root/workspace/Thyroid_Solid_Nodule/data/preprocess/public/image/93_2.jpg data is being augmented and 43 data will be created\n"
     ]
    },
    {
     "name": "stderr",
     "output_type": "stream",
     "text": [
      "Processing <PIL.Image.Image image mode=RGB size=560x360 at 0x7F02F0330C50>: 100%|██████████| 43/43 [00:00<00:00, 88.18 Samples/s]                  \n",
      "Executing Pipeline:   0%|          | 0/48 [00:00<?, ? Samples/s]"
     ]
    },
    {
     "name": "stdout",
     "output_type": "stream",
     "text": [
      "Done\n",
      "Initialised with 1 image(s) found.\n",
      "Output directory set to /root/workspace/Thyroid_Solid_Nodule/data/preprocess/public_aug/tmp/image/352_/output.1 ground truth image(s) found.\n",
      "\n",
      "No./root/workspace/Thyroid_Solid_Nodule/data/preprocess/public/image/352_1.jpg data is being augmented and 48 data will be created\n"
     ]
    },
    {
     "name": "stderr",
     "output_type": "stream",
     "text": [
      "Processing <PIL.Image.Image image mode=RGB size=560x360 at 0x7F02F0355048>: 100%|██████████| 48/48 [00:00<00:00, 96.93 Samples/s]                  \n",
      "Processing <PIL.Image.Image image mode=RGB size=560x360 at 0x7F02F033B128>:   0%|          | 0/54 [00:00<?, ? Samples/s]"
     ]
    },
    {
     "name": "stdout",
     "output_type": "stream",
     "text": [
      "Done\n",
      "Initialised with 1 image(s) found.\n",
      "Output directory set to /root/workspace/Thyroid_Solid_Nodule/data/preprocess/public_aug/tmp/image/193_/output.1 ground truth image(s) found.\n",
      "\n",
      "No./root/workspace/Thyroid_Solid_Nodule/data/preprocess/public/image/193_1.jpg data is being augmented and 54 data will be created\n"
     ]
    },
    {
     "name": "stderr",
     "output_type": "stream",
     "text": [
      "Processing <PIL.Image.Image image mode=RGB size=560x360 at 0x7F02F02E0BE0>: 100%|██████████| 54/54 [00:00<00:00, 93.82 Samples/s]                  \n",
      "Executing Pipeline:   0%|          | 0/45 [00:00<?, ? Samples/s]"
     ]
    },
    {
     "name": "stdout",
     "output_type": "stream",
     "text": [
      "Done\n",
      "Initialised with 1 image(s) found.\n",
      "Output directory set to /root/workspace/Thyroid_Solid_Nodule/data/preprocess/public_aug/tmp/image/95_/output.1 ground truth image(s) found.\n",
      "\n",
      "No./root/workspace/Thyroid_Solid_Nodule/data/preprocess/public/image/95_1.jpg data is being augmented and 45 data will be created\n"
     ]
    },
    {
     "name": "stderr",
     "output_type": "stream",
     "text": [
      "Processing <PIL.Image.Image image mode=RGB size=560x360 at 0x7F02F0305EB8>: 100%|██████████| 45/45 [00:00<00:00, 95.35 Samples/s]\n",
      "Processing <PIL.Image.Image image mode=RGB size=560x360 at 0x7F02F02ACD68>:  11%|█▏        | 5/44 [00:00<00:05,  6.76 Samples/s]                  "
     ]
    },
    {
     "name": "stdout",
     "output_type": "stream",
     "text": [
      "Done\n",
      "Initialised with 1 image(s) found.\n",
      "Output directory set to /root/workspace/Thyroid_Solid_Nodule/data/preprocess/public_aug/tmp/image/118_/output.1 ground truth image(s) found.\n",
      "\n",
      "No./root/workspace/Thyroid_Solid_Nodule/data/preprocess/public/image/118_1.jpg data is being augmented and 44 data will be created\n"
     ]
    },
    {
     "name": "stderr",
     "output_type": "stream",
     "text": [
      "Processing <PIL.Image.Image image mode=RGB size=560x360 at 0x7F02F0355FD0>: 100%|██████████| 44/44 [00:00<00:00, 95.25 Samples/s]                  \n",
      "Processing <PIL.Image.Image image mode=RGB size=560x360 at 0x7F02F0330898>:   2%|▏         | 1/47 [00:00<00:08,  5.41 Samples/s]"
     ]
    },
    {
     "name": "stdout",
     "output_type": "stream",
     "text": [
      "Done\n",
      "Initialised with 2 image(s) found.\n",
      "Output directory set to /root/workspace/Thyroid_Solid_Nodule/data/preprocess/public_aug/tmp/image/80_/output.2 ground truth image(s) found.\n",
      "\n",
      "No./root/workspace/Thyroid_Solid_Nodule/data/preprocess/public/image/80_2.jpg data is being augmented and 47 data will be created\n"
     ]
    },
    {
     "name": "stderr",
     "output_type": "stream",
     "text": [
      "Processing <PIL.Image.Image image mode=RGB size=560x360 at 0x7F02F033B9B0>: 100%|██████████| 47/47 [00:00<00:00, 99.98 Samples/s]\n",
      "Processing <PIL.Image.Image image mode=RGB size=560x360 at 0x7F02F0305860>:   2%|▏         | 1/44 [00:00<00:07,  5.49 Samples/s]"
     ]
    },
    {
     "name": "stdout",
     "output_type": "stream",
     "text": [
      "Done\n",
      "Initialised with 1 image(s) found.\n",
      "Output directory set to /root/workspace/Thyroid_Solid_Nodule/data/preprocess/public_aug/tmp/image/185_/output.1 ground truth image(s) found.\n",
      "\n",
      "No./root/workspace/Thyroid_Solid_Nodule/data/preprocess/public/image/185_1.jpg data is being augmented and 44 data will be created\n"
     ]
    },
    {
     "name": "stderr",
     "output_type": "stream",
     "text": [
      "Processing <PIL.Image.Image image mode=RGB size=560x360 at 0x7F02F0292E10>: 100%|██████████| 44/44 [00:00<00:00, 106.29 Samples/s]\n",
      "Executing Pipeline:   0%|          | 0/49 [00:00<?, ? Samples/s]"
     ]
    },
    {
     "name": "stdout",
     "output_type": "stream",
     "text": [
      "Done\n",
      "Initialised with 1 image(s) found.\n",
      "Output directory set to /root/workspace/Thyroid_Solid_Nodule/data/preprocess/public_aug/tmp/image/264_/output.1 ground truth image(s) found.\n",
      "\n",
      "No./root/workspace/Thyroid_Solid_Nodule/data/preprocess/public/image/264_1.jpg data is being augmented and 49 data will be created\n"
     ]
    },
    {
     "name": "stderr",
     "output_type": "stream",
     "text": [
      "Processing <PIL.Image.Image image mode=RGB size=560x360 at 0x7F02F0292208>: 100%|██████████| 49/49 [00:00<00:00, 89.33 Samples/s]\n",
      "Executing Pipeline:   0%|          | 0/58 [00:00<?, ? Samples/s]"
     ]
    },
    {
     "name": "stdout",
     "output_type": "stream",
     "text": [
      "Done\n",
      "Initialised with 1 image(s) found.\n",
      "Output directory set to /root/workspace/Thyroid_Solid_Nodule/data/preprocess/public_aug/tmp/image/27_/output.1 ground truth image(s) found.\n",
      "\n",
      "No./root/workspace/Thyroid_Solid_Nodule/data/preprocess/public/image/27_1.jpg data is being augmented and 58 data will be created\n"
     ]
    },
    {
     "name": "stderr",
     "output_type": "stream",
     "text": [
      "Processing <PIL.Image.Image image mode=RGB size=560x360 at 0x7F02F02FCBE0>: 100%|██████████| 58/58 [00:00<00:00, 97.57 Samples/s]                  \n",
      "Executing Pipeline:   0%|          | 0/57 [00:00<?, ? Samples/s]"
     ]
    },
    {
     "name": "stdout",
     "output_type": "stream",
     "text": [
      "Done\n",
      "Initialised with 1 image(s) found.\n",
      "Output directory set to /root/workspace/Thyroid_Solid_Nodule/data/preprocess/public_aug/tmp/image/104_/output.1 ground truth image(s) found.\n",
      "\n",
      "No./root/workspace/Thyroid_Solid_Nodule/data/preprocess/public/image/104_1.jpg data is being augmented and 57 data will be created\n"
     ]
    },
    {
     "name": "stderr",
     "output_type": "stream",
     "text": [
      "Processing <PIL.Image.Image image mode=RGB size=560x360 at 0x7F02F0292128>: 100%|██████████| 57/57 [00:00<00:00, 100.46 Samples/s]                 \n",
      "Executing Pipeline:   0%|          | 0/50 [00:00<?, ? Samples/s]"
     ]
    },
    {
     "name": "stdout",
     "output_type": "stream",
     "text": [
      "Done\n",
      "Initialised with 1 image(s) found.\n",
      "Output directory set to /root/workspace/Thyroid_Solid_Nodule/data/preprocess/public_aug/tmp/image/279_/output.1 ground truth image(s) found.\n",
      "\n",
      "No./root/workspace/Thyroid_Solid_Nodule/data/preprocess/public/image/279_1.jpg data is being augmented and 50 data will be created\n"
     ]
    },
    {
     "name": "stderr",
     "output_type": "stream",
     "text": [
      "Processing <PIL.Image.Image image mode=RGB size=560x360 at 0x7F02F0330C18>: 100%|██████████| 50/50 [00:00<00:00, 82.52 Samples/s]\n",
      "Executing Pipeline:   0%|          | 0/52 [00:00<?, ? Samples/s]"
     ]
    },
    {
     "name": "stdout",
     "output_type": "stream",
     "text": [
      "Done\n",
      "Initialised with 1 image(s) found.\n",
      "Output directory set to /root/workspace/Thyroid_Solid_Nodule/data/preprocess/public_aug/tmp/image/131_/output.1 ground truth image(s) found.\n",
      "\n",
      "No./root/workspace/Thyroid_Solid_Nodule/data/preprocess/public/image/131_1.jpg data is being augmented and 52 data will be created\n"
     ]
    },
    {
     "name": "stderr",
     "output_type": "stream",
     "text": [
      "Processing <PIL.Image.Image image mode=RGB size=560x360 at 0x7F02F02926D8>: 100%|██████████| 52/52 [00:00<00:00, 72.71 Samples/s]\n",
      "Executing Pipeline:   0%|          | 0/42 [00:00<?, ? Samples/s]"
     ]
    },
    {
     "name": "stdout",
     "output_type": "stream",
     "text": [
      "Done\n",
      "Initialised with 3 image(s) found.\n",
      "Output directory set to /root/workspace/Thyroid_Solid_Nodule/data/preprocess/public_aug/tmp/image/337_/output.3 ground truth image(s) found.\n",
      "\n",
      "No./root/workspace/Thyroid_Solid_Nodule/data/preprocess/public/image/337_2.jpg data is being augmented and 42 data will be created\n"
     ]
    },
    {
     "name": "stderr",
     "output_type": "stream",
     "text": [
      "Processing <PIL.Image.Image image mode=RGB size=560x360 at 0x7F02F0358748>: 100%|██████████| 42/42 [00:00<00:00, 85.41 Samples/s]                  \n",
      "Executing Pipeline:   0%|          | 0/49 [00:00<?, ? Samples/s]"
     ]
    },
    {
     "name": "stdout",
     "output_type": "stream",
     "text": [
      "Done\n",
      "Initialised with 1 image(s) found.\n",
      "Output directory set to /root/workspace/Thyroid_Solid_Nodule/data/preprocess/public_aug/tmp/image/48_/output.1 ground truth image(s) found.\n",
      "\n",
      "No./root/workspace/Thyroid_Solid_Nodule/data/preprocess/public/image/48_1.jpg data is being augmented and 49 data will be created\n"
     ]
    },
    {
     "name": "stderr",
     "output_type": "stream",
     "text": [
      "Processing <PIL.Image.Image image mode=RGB size=560x360 at 0x7F02F033B4E0>: 100%|██████████| 49/49 [00:00<00:00, 81.79 Samples/s]                  \n",
      "Processing <PIL.Image.Image image mode=RGB size=560x360 at 0x7F02F033B5C0>:  15%|█▌        | 7/46 [00:00<00:06,  6.28 Samples/s]"
     ]
    },
    {
     "name": "stdout",
     "output_type": "stream",
     "text": [
      "Done\n",
      "Initialised with 1 image(s) found.\n",
      "Output directory set to /root/workspace/Thyroid_Solid_Nodule/data/preprocess/public_aug/tmp/image/53_/output.1 ground truth image(s) found.\n",
      "\n",
      "No./root/workspace/Thyroid_Solid_Nodule/data/preprocess/public/image/53_1.jpg data is being augmented and 46 data will be created\n"
     ]
    },
    {
     "name": "stderr",
     "output_type": "stream",
     "text": [
      "Processing <PIL.Image.Image image mode=RGB size=560x360 at 0x7F02F02FC2B0>: 100%|██████████| 46/46 [00:00<00:00, 95.52 Samples/s]                  \n",
      "Processing <PIL.Image.Image image mode=RGB size=560x360 at 0x7F02F02ACDD8>:   0%|          | 0/57 [00:00<?, ? Samples/s]"
     ]
    },
    {
     "name": "stdout",
     "output_type": "stream",
     "text": [
      "Done\n",
      "Initialised with 2 image(s) found.\n",
      "Output directory set to /root/workspace/Thyroid_Solid_Nodule/data/preprocess/public_aug/tmp/image/318_/output.2 ground truth image(s) found.\n",
      "\n",
      "No./root/workspace/Thyroid_Solid_Nodule/data/preprocess/public/image/318_2.jpg data is being augmented and 57 data will be created\n"
     ]
    },
    {
     "name": "stderr",
     "output_type": "stream",
     "text": [
      "Processing <PIL.Image.Image image mode=RGB size=560x360 at 0x7F02F02FCBE0>: 100%|██████████| 57/57 [00:00<00:00, 107.30 Samples/s]                 \n",
      "Executing Pipeline:   0%|          | 0/41 [00:00<?, ? Samples/s]"
     ]
    },
    {
     "name": "stdout",
     "output_type": "stream",
     "text": [
      "Done\n",
      "Initialised with 1 image(s) found.\n",
      "Output directory set to /root/workspace/Thyroid_Solid_Nodule/data/preprocess/public_aug/tmp/image/170_/output.1 ground truth image(s) found.\n",
      "\n",
      "No./root/workspace/Thyroid_Solid_Nodule/data/preprocess/public/image/170_1.jpg data is being augmented and 41 data will be created\n"
     ]
    },
    {
     "name": "stderr",
     "output_type": "stream",
     "text": [
      "Processing <PIL.Image.Image image mode=RGB size=560x360 at 0x7F02F0305438>: 100%|██████████| 41/41 [00:00<00:00, 96.37 Samples/s]\n",
      "Processing <PIL.Image.Image image mode=RGB size=560x315 at 0x7F02F02A1D68>:   2%|▏         | 1/46 [00:00<00:06,  7.19 Samples/s]"
     ]
    },
    {
     "name": "stdout",
     "output_type": "stream",
     "text": [
      "Done\n",
      "Initialised with 1 image(s) found.\n",
      "Output directory set to /root/workspace/Thyroid_Solid_Nodule/data/preprocess/public_aug/tmp/image/maligns_631_/output.1 ground truth image(s) found.\n",
      "\n",
      "No./root/workspace/Thyroid_Solid_Nodule/data/preprocess/public/image/maligns_631_1.jpg data is being augmented and 46 data will be created\n"
     ]
    },
    {
     "name": "stderr",
     "output_type": "stream",
     "text": [
      "Processing <PIL.Image.Image image mode=RGB size=560x315 at 0x7F02F03554A8>: 100%|██████████| 46/46 [00:00<00:00, 95.98 Samples/s]                  \n",
      "Processing <PIL.Image.Image image mode=RGB size=560x315 at 0x7F02F02A1160>:   0%|          | 0/52 [00:00<?, ? Samples/s]"
     ]
    },
    {
     "name": "stdout",
     "output_type": "stream",
     "text": [
      "Done\n",
      "Initialised with 3 image(s) found.\n",
      "Output directory set to /root/workspace/Thyroid_Solid_Nodule/data/preprocess/public_aug/tmp/image/maligns_551_/output.3 ground truth image(s) found.\n",
      "\n",
      "No./root/workspace/Thyroid_Solid_Nodule/data/preprocess/public/image/maligns_551_3.jpg data is being augmented and 52 data will be created\n"
     ]
    },
    {
     "name": "stderr",
     "output_type": "stream",
     "text": [
      "Processing <PIL.JpegImagePlugin.JpegImageFile image mode=RGB size=560x315 at 0x7F02F02BC438>: 100%|██████████| 52/52 [00:00<00:00, 125.80 Samples/s]\n",
      "Executing Pipeline:   0%|          | 0/54 [00:00<?, ? Samples/s]"
     ]
    },
    {
     "name": "stdout",
     "output_type": "stream",
     "text": [
      "Done\n",
      "Initialised with 1 image(s) found.\n",
      "Output directory set to /root/workspace/Thyroid_Solid_Nodule/data/preprocess/public_aug/tmp/image/maligns_638_/output.1 ground truth image(s) found.\n",
      "\n",
      "No./root/workspace/Thyroid_Solid_Nodule/data/preprocess/public/image/maligns_638_1.jpg data is being augmented and 54 data will be created\n"
     ]
    },
    {
     "name": "stderr",
     "output_type": "stream",
     "text": [
      "Processing <PIL.Image.Image image mode=RGB size=560x315 at 0x7F02F033BB38>: 100%|██████████| 54/54 [00:00<00:00, 107.10 Samples/s]\n",
      "Processing <PIL.Image.Image image mode=RGB size=560x360 at 0x7F02F0305BA8>:  28%|██▊       | 11/40 [00:00<00:03,  9.28 Samples/s]"
     ]
    },
    {
     "name": "stdout",
     "output_type": "stream",
     "text": [
      "Done\n",
      "Initialised with 1 image(s) found.\n",
      "Output directory set to /root/workspace/Thyroid_Solid_Nodule/data/preprocess/public_aug/tmp/image/8_/output.1 ground truth image(s) found.\n",
      "\n",
      "No./root/workspace/Thyroid_Solid_Nodule/data/preprocess/public/image/8_1.jpg data is being augmented and 40 data will be created\n"
     ]
    },
    {
     "name": "stderr",
     "output_type": "stream",
     "text": [
      "Processing <PIL.Image.Image image mode=RGB size=560x360 at 0x7F02F0292CF8>: 100%|██████████| 40/40 [00:00<00:00, 101.62 Samples/s]\n",
      "Executing Pipeline:   0%|          | 0/46 [00:00<?, ? Samples/s]"
     ]
    },
    {
     "name": "stdout",
     "output_type": "stream",
     "text": [
      "Done\n",
      "Initialised with 1 image(s) found.\n",
      "Output directory set to /root/workspace/Thyroid_Solid_Nodule/data/preprocess/public_aug/tmp/image/292_/output.1 ground truth image(s) found.\n",
      "\n",
      "No./root/workspace/Thyroid_Solid_Nodule/data/preprocess/public/image/292_1.jpg data is being augmented and 46 data will be created\n"
     ]
    },
    {
     "name": "stderr",
     "output_type": "stream",
     "text": [
      "Processing <PIL.Image.Image image mode=RGB size=560x360 at 0x7F02F02ED668>: 100%|██████████| 46/46 [00:00<00:00, 75.28 Samples/s]                  \n",
      "Processing <PIL.Image.Image image mode=RGB size=560x360 at 0x7F02F02ACF60>:   0%|          | 0/55 [00:00<?, ? Samples/s]"
     ]
    },
    {
     "name": "stdout",
     "output_type": "stream",
     "text": [
      "Done\n",
      "Initialised with 2 image(s) found.\n",
      "Output directory set to /root/workspace/Thyroid_Solid_Nodule/data/preprocess/public_aug/tmp/image/65_/output.2 ground truth image(s) found.\n",
      "\n",
      "No./root/workspace/Thyroid_Solid_Nodule/data/preprocess/public/image/65_2.jpg data is being augmented and 55 data will be created\n"
     ]
    },
    {
     "name": "stderr",
     "output_type": "stream",
     "text": [
      "Processing <PIL.Image.Image image mode=RGB size=560x360 at 0x7F02F02AC9B0>: 100%|██████████| 55/55 [00:00<00:00, 109.24 Samples/s]                 \n",
      "Processing <PIL.Image.Image image mode=RGB size=560x360 at 0x7F02F02ED6A0>:   0%|          | 0/48 [00:00<?, ? Samples/s]"
     ]
    },
    {
     "name": "stdout",
     "output_type": "stream",
     "text": [
      "Done\n",
      "Initialised with 2 image(s) found.\n",
      "Output directory set to /root/workspace/Thyroid_Solid_Nodule/data/preprocess/public_aug/tmp/image/75_/output.2 ground truth image(s) found.\n",
      "\n",
      "No./root/workspace/Thyroid_Solid_Nodule/data/preprocess/public/image/75_1.jpg data is being augmented and 48 data will be created\n"
     ]
    },
    {
     "name": "stderr",
     "output_type": "stream",
     "text": [
      "Processing <PIL.Image.Image image mode=RGB size=560x360 at 0x7F02F0355F28>: 100%|██████████| 48/48 [00:00<00:00, 103.62 Samples/s]                 \n",
      "Processing <PIL.Image.Image image mode=RGB size=560x360 at 0x7F02F0355E10>:   0%|          | 0/57 [00:00<?, ? Samples/s]"
     ]
    },
    {
     "name": "stdout",
     "output_type": "stream",
     "text": [
      "Done\n",
      "Initialised with 3 image(s) found.\n",
      "Output directory set to /root/workspace/Thyroid_Solid_Nodule/data/preprocess/public_aug/tmp/image/294_/output.3 ground truth image(s) found.\n",
      "\n",
      "No./root/workspace/Thyroid_Solid_Nodule/data/preprocess/public/image/294_2.jpg data is being augmented and 57 data will be created\n"
     ]
    },
    {
     "name": "stderr",
     "output_type": "stream",
     "text": [
      "Processing <PIL.Image.Image image mode=RGB size=560x360 at 0x7F02F02AC198>: 100%|██████████| 57/57 [00:00<00:00, 108.09 Samples/s]                 \n",
      "Executing Pipeline:   0%|          | 0/54 [00:00<?, ? Samples/s]"
     ]
    },
    {
     "name": "stdout",
     "output_type": "stream",
     "text": [
      "Done\n",
      "Initialised with 1 image(s) found.\n",
      "Output directory set to /root/workspace/Thyroid_Solid_Nodule/data/preprocess/public_aug/tmp/image/303_/output.1 ground truth image(s) found.\n",
      "\n",
      "No./root/workspace/Thyroid_Solid_Nodule/data/preprocess/public/image/303_1.jpg data is being augmented and 54 data will be created\n"
     ]
    },
    {
     "name": "stderr",
     "output_type": "stream",
     "text": [
      "Processing <PIL.Image.Image image mode=RGB size=560x360 at 0x7F02F0355EB8>: 100%|██████████| 54/54 [00:00<00:00, 81.88 Samples/s]                  \n",
      "Executing Pipeline:   0%|          | 0/54 [00:00<?, ? Samples/s]"
     ]
    },
    {
     "name": "stdout",
     "output_type": "stream",
     "text": [
      "Done\n",
      "Initialised with 2 image(s) found.\n",
      "Output directory set to /root/workspace/Thyroid_Solid_Nodule/data/preprocess/public_aug/tmp/image/156_/output.2 ground truth image(s) found.\n",
      "\n",
      "No./root/workspace/Thyroid_Solid_Nodule/data/preprocess/public/image/156_2.jpg data is being augmented and 54 data will be created\n"
     ]
    },
    {
     "name": "stderr",
     "output_type": "stream",
     "text": [
      "Processing <PIL.Image.Image image mode=RGB size=560x360 at 0x7F02F02BC4A8>: 100%|██████████| 54/54 [00:00<00:00, 95.92 Samples/s]\n",
      "Executing Pipeline:   0%|          | 0/47 [00:00<?, ? Samples/s]"
     ]
    },
    {
     "name": "stdout",
     "output_type": "stream",
     "text": [
      "Done\n",
      "Initialised with 1 image(s) found.\n",
      "Output directory set to /root/workspace/Thyroid_Solid_Nodule/data/preprocess/public_aug/tmp/image/277_/output.1 ground truth image(s) found.\n",
      "\n",
      "No./root/workspace/Thyroid_Solid_Nodule/data/preprocess/public/image/277_1.jpg data is being augmented and 47 data will be created\n"
     ]
    },
    {
     "name": "stderr",
     "output_type": "stream",
     "text": [
      "Processing <PIL.Image.Image image mode=RGB size=560x360 at 0x7F02F02A17F0>: 100%|██████████| 47/47 [00:00<00:00, 67.36 Samples/s]                  \n",
      "Executing Pipeline:   0%|          | 0/47 [00:00<?, ? Samples/s]"
     ]
    },
    {
     "name": "stdout",
     "output_type": "stream",
     "text": [
      "Done\n",
      "Initialised with 1 image(s) found.\n",
      "Output directory set to /root/workspace/Thyroid_Solid_Nodule/data/preprocess/public_aug/tmp/image/275_/output.1 ground truth image(s) found.\n",
      "\n",
      "No./root/workspace/Thyroid_Solid_Nodule/data/preprocess/public/image/275_1.jpg data is being augmented and 47 data will be created\n"
     ]
    },
    {
     "name": "stderr",
     "output_type": "stream",
     "text": [
      "Processing <PIL.Image.Image image mode=RGB size=560x360 at 0x7F02F02CE128>: 100%|██████████| 47/47 [00:00<00:00, 113.13 Samples/s]\n",
      "Executing Pipeline:   0%|          | 0/42 [00:00<?, ? Samples/s]"
     ]
    },
    {
     "name": "stdout",
     "output_type": "stream",
     "text": [
      "Done\n",
      "Initialised with 1 image(s) found.\n",
      "Output directory set to /root/workspace/Thyroid_Solid_Nodule/data/preprocess/public_aug/tmp/image/109_/output.1 ground truth image(s) found.\n",
      "\n",
      "No./root/workspace/Thyroid_Solid_Nodule/data/preprocess/public/image/109_1.jpg data is being augmented and 42 data will be created\n"
     ]
    },
    {
     "name": "stderr",
     "output_type": "stream",
     "text": [
      "Processing <PIL.JpegImagePlugin.JpegImageFile image mode=RGB size=560x360 at 0x7F02F033B4E0>: 100%|██████████| 42/42 [00:00<00:00, 123.41 Samples/s]\n",
      "Executing Pipeline:   0%|          | 0/41 [00:00<?, ? Samples/s]"
     ]
    },
    {
     "name": "stdout",
     "output_type": "stream",
     "text": [
      "Done\n",
      "Initialised with 1 image(s) found.\n",
      "Output directory set to /root/workspace/Thyroid_Solid_Nodule/data/preprocess/public_aug/tmp/image/71_/output.1 ground truth image(s) found.\n",
      "\n",
      "No./root/workspace/Thyroid_Solid_Nodule/data/preprocess/public/image/71_1.jpg data is being augmented and 41 data will be created\n"
     ]
    },
    {
     "name": "stderr",
     "output_type": "stream",
     "text": [
      "Processing <PIL.Image.Image image mode=RGB size=560x360 at 0x7F02F0292C18>: 100%|██████████| 41/41 [00:00<00:00, 82.74 Samples/s]\n",
      "Executing Pipeline:   0%|          | 0/54 [00:00<?, ? Samples/s]"
     ]
    },
    {
     "name": "stdout",
     "output_type": "stream",
     "text": [
      "Done\n",
      "Initialised with 1 image(s) found.\n",
      "Output directory set to /root/workspace/Thyroid_Solid_Nodule/data/preprocess/public_aug/tmp/image/13_/output.1 ground truth image(s) found.\n",
      "\n",
      "No./root/workspace/Thyroid_Solid_Nodule/data/preprocess/public/image/13_1.jpg data is being augmented and 54 data will be created\n"
     ]
    },
    {
     "name": "stderr",
     "output_type": "stream",
     "text": [
      "Processing <PIL.Image.Image image mode=RGB size=560x360 at 0x7F02F03366D8>: 100%|██████████| 54/54 [00:00<00:00, 87.65 Samples/s]\n",
      "Executing Pipeline:   0%|          | 0/46 [00:00<?, ? Samples/s]"
     ]
    },
    {
     "name": "stdout",
     "output_type": "stream",
     "text": [
      "Done\n",
      "Initialised with 1 image(s) found.\n",
      "Output directory set to /root/workspace/Thyroid_Solid_Nodule/data/preprocess/public_aug/tmp/image/39_/output.1 ground truth image(s) found.\n",
      "\n",
      "No./root/workspace/Thyroid_Solid_Nodule/data/preprocess/public/image/39_1.jpg data is being augmented and 46 data will be created\n"
     ]
    },
    {
     "name": "stderr",
     "output_type": "stream",
     "text": [
      "Processing <PIL.Image.Image image mode=RGB size=560x360 at 0x7F02F0355470>: 100%|██████████| 46/46 [00:00<00:00, 81.29 Samples/s]                  \n",
      "Executing Pipeline:   0%|          | 0/55 [00:00<?, ? Samples/s]"
     ]
    },
    {
     "name": "stdout",
     "output_type": "stream",
     "text": [
      "Done\n",
      "Initialised with 1 image(s) found.\n",
      "Output directory set to /root/workspace/Thyroid_Solid_Nodule/data/preprocess/public_aug/tmp/image/maligns_639_/output.1 ground truth image(s) found.\n",
      "\n",
      "No./root/workspace/Thyroid_Solid_Nodule/data/preprocess/public/image/maligns_639_1.jpg data is being augmented and 55 data will be created\n"
     ]
    },
    {
     "name": "stderr",
     "output_type": "stream",
     "text": [
      "Processing <PIL.Image.Image image mode=RGB size=560x315 at 0x7F02F02A11D0>: 100%|██████████| 55/55 [00:00<00:00, 104.47 Samples/s]\n",
      "Executing Pipeline:   0%|          | 0/53 [00:00<?, ? Samples/s]"
     ]
    },
    {
     "name": "stdout",
     "output_type": "stream",
     "text": [
      "Done\n",
      "Initialised with 2 image(s) found.\n",
      "Output directory set to /root/workspace/Thyroid_Solid_Nodule/data/preprocess/public_aug/tmp/image/163_/output.2 ground truth image(s) found.\n",
      "\n",
      "No./root/workspace/Thyroid_Solid_Nodule/data/preprocess/public/image/163_1.jpg data is being augmented and 53 data will be created\n"
     ]
    },
    {
     "name": "stderr",
     "output_type": "stream",
     "text": [
      "Processing <PIL.Image.Image image mode=RGB size=560x360 at 0x7F02F0295128>: 100%|██████████| 53/53 [00:00<00:00, 92.83 Samples/s]                  \n",
      "Executing Pipeline:   0%|          | 0/52 [00:00<?, ? Samples/s]"
     ]
    },
    {
     "name": "stdout",
     "output_type": "stream",
     "text": [
      "Done\n",
      "Initialised with 1 image(s) found.\n",
      "Output directory set to /root/workspace/Thyroid_Solid_Nodule/data/preprocess/public_aug/tmp/image/186_/output.1 ground truth image(s) found.\n",
      "\n",
      "No./root/workspace/Thyroid_Solid_Nodule/data/preprocess/public/image/186_1.jpg data is being augmented and 52 data will be created\n"
     ]
    },
    {
     "name": "stderr",
     "output_type": "stream",
     "text": [
      "Processing <PIL.Image.Image image mode=RGB size=560x360 at 0x7F02F02AC080>: 100%|██████████| 52/52 [00:00<00:00, 98.51 Samples/s]                 \n",
      "Executing Pipeline:   0%|          | 0/42 [00:00<?, ? Samples/s]"
     ]
    },
    {
     "name": "stdout",
     "output_type": "stream",
     "text": [
      "Done\n",
      "Initialised with 2 image(s) found.\n",
      "Output directory set to /root/workspace/Thyroid_Solid_Nodule/data/preprocess/public_aug/tmp/image/97_/output.2 ground truth image(s) found.\n",
      "\n",
      "No./root/workspace/Thyroid_Solid_Nodule/data/preprocess/public/image/97_1.jpg data is being augmented and 42 data will be created\n"
     ]
    },
    {
     "name": "stderr",
     "output_type": "stream",
     "text": [
      "Processing <PIL.Image.Image image mode=RGB size=560x360 at 0x7F02F033B048>: 100%|██████████| 42/42 [00:00<00:00, 87.65 Samples/s]                  \n",
      "Processing <PIL.JpegImagePlugin.JpegImageFile image mode=RGB size=560x360 at 0x7F02F029F898>:   0%|          | 0/53 [00:00<?, ? Samples/s]"
     ]
    },
    {
     "name": "stdout",
     "output_type": "stream",
     "text": [
      "Done\n",
      "Initialised with 2 image(s) found.\n",
      "Output directory set to /root/workspace/Thyroid_Solid_Nodule/data/preprocess/public_aug/tmp/image/373_/output.2 ground truth image(s) found.\n",
      "\n",
      "No./root/workspace/Thyroid_Solid_Nodule/data/preprocess/public/image/373_2.jpg data is being augmented and 53 data will be created\n"
     ]
    },
    {
     "name": "stderr",
     "output_type": "stream",
     "text": [
      "Processing <PIL.Image.Image image mode=RGB size=560x360 at 0x7F02F02AC908>: 100%|██████████| 53/53 [00:00<00:00, 110.93 Samples/s]                 \n",
      "Executing Pipeline:   0%|          | 0/46 [00:00<?, ? Samples/s]"
     ]
    },
    {
     "name": "stdout",
     "output_type": "stream",
     "text": [
      "Done\n",
      "Initialised with 1 image(s) found.\n",
      "Output directory set to /root/workspace/Thyroid_Solid_Nodule/data/preprocess/public_aug/tmp/image/382_/output.1 ground truth image(s) found.\n",
      "\n",
      "No./root/workspace/Thyroid_Solid_Nodule/data/preprocess/public/image/382_1.jpg data is being augmented and 46 data will be created\n"
     ]
    },
    {
     "name": "stderr",
     "output_type": "stream",
     "text": [
      "Processing <PIL.Image.Image image mode=RGB size=560x360 at 0x7F02F0292F98>: 100%|██████████| 46/46 [00:00<00:00, 102.95 Samples/s]                 \n",
      "Processing <PIL.Image.Image image mode=RGB size=560x360 at 0x7F02F02EDE48>:   9%|▊         | 4/46 [00:00<00:04,  8.47 Samples/s]"
     ]
    },
    {
     "name": "stdout",
     "output_type": "stream",
     "text": [
      "Done\n",
      "Initialised with 1 image(s) found.\n",
      "Output directory set to /root/workspace/Thyroid_Solid_Nodule/data/preprocess/public_aug/tmp/image/323_/output.1 ground truth image(s) found.\n",
      "\n",
      "No./root/workspace/Thyroid_Solid_Nodule/data/preprocess/public/image/323_1.jpg data is being augmented and 46 data will be created\n"
     ]
    },
    {
     "name": "stderr",
     "output_type": "stream",
     "text": [
      "Processing <PIL.Image.Image image mode=RGB size=560x360 at 0x7F02F02ACCC0>: 100%|██████████| 46/46 [00:00<00:00, 93.46 Samples/s]\n",
      "Executing Pipeline:   0%|          | 0/59 [00:00<?, ? Samples/s]"
     ]
    },
    {
     "name": "stdout",
     "output_type": "stream",
     "text": [
      "Done\n",
      "Initialised with 2 image(s) found.\n",
      "Output directory set to /root/workspace/Thyroid_Solid_Nodule/data/preprocess/public_aug/tmp/image/maligns_561_/output.2 ground truth image(s) found.\n",
      "\n",
      "No./root/workspace/Thyroid_Solid_Nodule/data/preprocess/public/image/maligns_561_2.jpg data is being augmented and 59 data will be created\n"
     ]
    },
    {
     "name": "stderr",
     "output_type": "stream",
     "text": [
      "Processing <PIL.Image.Image image mode=RGB size=560x315 at 0x7F02F02B6FD0>: 100%|██████████| 59/59 [00:00<00:00, 117.28 Samples/s]\n",
      "Executing Pipeline:   0%|          | 0/57 [00:00<?, ? Samples/s]"
     ]
    },
    {
     "name": "stdout",
     "output_type": "stream",
     "text": [
      "Done\n",
      "Initialised with 5 image(s) found.\n",
      "Output directory set to /root/workspace/Thyroid_Solid_Nodule/data/preprocess/public_aug/tmp/image/296_/output.5 ground truth image(s) found.\n",
      "\n",
      "No./root/workspace/Thyroid_Solid_Nodule/data/preprocess/public/image/296_5.jpg data is being augmented and 57 data will be created\n"
     ]
    },
    {
     "name": "stderr",
     "output_type": "stream",
     "text": [
      "Processing <PIL.Image.Image image mode=RGB size=560x360 at 0x7F02F02BC320>: 100%|██████████| 57/57 [00:00<00:00, 106.78 Samples/s]                 \n",
      "Executing Pipeline:   0%|          | 0/54 [00:00<?, ? Samples/s]"
     ]
    },
    {
     "name": "stdout",
     "output_type": "stream",
     "text": [
      "Done\n",
      "Initialised with 1 image(s) found.\n",
      "Output directory set to /root/workspace/Thyroid_Solid_Nodule/data/preprocess/public_aug/tmp/image/376_/output.1 ground truth image(s) found.\n",
      "\n",
      "No./root/workspace/Thyroid_Solid_Nodule/data/preprocess/public/image/376_1.jpg data is being augmented and 54 data will be created\n"
     ]
    },
    {
     "name": "stderr",
     "output_type": "stream",
     "text": [
      "Processing <PIL.Image.Image image mode=RGB size=560x360 at 0x7F02F0247FD0>: 100%|██████████| 54/54 [00:00<00:00, 98.10 Samples/s]\n",
      "Executing Pipeline:   0%|          | 0/46 [00:00<?, ? Samples/s]"
     ]
    },
    {
     "name": "stdout",
     "output_type": "stream",
     "text": [
      "Done\n",
      "Initialised with 2 image(s) found.\n",
      "Output directory set to /root/workspace/Thyroid_Solid_Nodule/data/preprocess/public_aug/tmp/image/88_/output.2 ground truth image(s) found.\n",
      "\n",
      "No./root/workspace/Thyroid_Solid_Nodule/data/preprocess/public/image/88_2.jpg data is being augmented and 46 data will be created\n"
     ]
    },
    {
     "name": "stderr",
     "output_type": "stream",
     "text": [
      "Processing <PIL.Image.Image image mode=RGB size=560x360 at 0x7F02F02ED400>: 100%|██████████| 46/46 [00:00<00:00, 89.34 Samples/s]\n",
      "Executing Pipeline:   0%|          | 0/51 [00:00<?, ? Samples/s]"
     ]
    },
    {
     "name": "stdout",
     "output_type": "stream",
     "text": [
      "Done\n",
      "Initialised with 1 image(s) found.\n",
      "Output directory set to /root/workspace/Thyroid_Solid_Nodule/data/preprocess/public_aug/tmp/image/117_/output.1 ground truth image(s) found.\n",
      "\n",
      "No./root/workspace/Thyroid_Solid_Nodule/data/preprocess/public/image/117_1.jpg data is being augmented and 51 data will be created\n"
     ]
    },
    {
     "name": "stderr",
     "output_type": "stream",
     "text": [
      "Processing <PIL.Image.Image image mode=RGB size=560x360 at 0x7F02F033BBA8>: 100%|██████████| 51/51 [00:00<00:00, 112.33 Samples/s]\n",
      "Processing <PIL.Image.Image image mode=RGB size=560x360 at 0x7F02F02472B0>:   7%|▋         | 3/46 [00:00<00:05,  7.60 Samples/s]                  "
     ]
    },
    {
     "name": "stdout",
     "output_type": "stream",
     "text": [
      "Done\n",
      "Initialised with 1 image(s) found.\n",
      "Output directory set to /root/workspace/Thyroid_Solid_Nodule/data/preprocess/public_aug/tmp/image/248_/output.1 ground truth image(s) found.\n",
      "\n",
      "No./root/workspace/Thyroid_Solid_Nodule/data/preprocess/public/image/248_1.jpg data is being augmented and 46 data will be created\n"
     ]
    },
    {
     "name": "stderr",
     "output_type": "stream",
     "text": [
      "Processing <PIL.Image.Image image mode=RGB size=560x360 at 0x7F02F02CEE48>: 100%|██████████| 46/46 [00:00<00:00, 106.60 Samples/s]                 \n",
      "Processing <PIL.Image.Image image mode=RGB size=560x360 at 0x7F02F02BCCC0>:   2%|▏         | 1/54 [00:00<00:08,  6.28 Samples/s]"
     ]
    },
    {
     "name": "stdout",
     "output_type": "stream",
     "text": [
      "Done\n",
      "Initialised with 2 image(s) found.\n",
      "Output directory set to /root/workspace/Thyroid_Solid_Nodule/data/preprocess/public_aug/tmp/image/315_/output.2 ground truth image(s) found.\n",
      "\n",
      "No./root/workspace/Thyroid_Solid_Nodule/data/preprocess/public/image/315_2.jpg data is being augmented and 54 data will be created\n"
     ]
    },
    {
     "name": "stderr",
     "output_type": "stream",
     "text": [
      "Processing <PIL.Image.Image image mode=RGB size=560x360 at 0x7F02F02ACB70>: 100%|██████████| 54/54 [00:00<00:00, 109.81 Samples/s]\n",
      "Processing <PIL.Image.Image image mode=RGB size=560x360 at 0x7F02F0305208>:   0%|          | 0/55 [00:00<?, ? Samples/s]"
     ]
    },
    {
     "name": "stdout",
     "output_type": "stream",
     "text": [
      "Done\n",
      "Initialised with 2 image(s) found.\n",
      "Output directory set to /root/workspace/Thyroid_Solid_Nodule/data/preprocess/public_aug/tmp/image/358_/output.2 ground truth image(s) found.\n",
      "\n",
      "No./root/workspace/Thyroid_Solid_Nodule/data/preprocess/public/image/358_2.jpg data is being augmented and 55 data will be created\n"
     ]
    },
    {
     "name": "stderr",
     "output_type": "stream",
     "text": [
      "Processing <PIL.Image.Image image mode=RGB size=560x360 at 0x7F02F0295320>: 100%|██████████| 55/55 [00:00<00:00, 101.39 Samples/s]                 \n",
      "Processing <PIL.Image.Image image mode=RGB size=560x360 at 0x7F02F02B6630>:   0%|          | 0/51 [00:00<?, ? Samples/s]"
     ]
    },
    {
     "name": "stdout",
     "output_type": "stream",
     "text": [
      "Done\n",
      "Initialised with 1 image(s) found.\n",
      "Output directory set to /root/workspace/Thyroid_Solid_Nodule/data/preprocess/public_aug/tmp/image/261_/output.1 ground truth image(s) found.\n",
      "\n",
      "No./root/workspace/Thyroid_Solid_Nodule/data/preprocess/public/image/261_1.jpg data is being augmented and 51 data will be created\n"
     ]
    },
    {
     "name": "stderr",
     "output_type": "stream",
     "text": [
      "Processing <PIL.Image.Image image mode=RGB size=560x360 at 0x7F02F0295C88>: 100%|██████████| 51/51 [00:00<00:00, 92.54 Samples/s]                 \n",
      "Executing Pipeline:   0%|          | 0/53 [00:00<?, ? Samples/s]"
     ]
    },
    {
     "name": "stdout",
     "output_type": "stream",
     "text": [
      "Done\n",
      "Initialised with 2 image(s) found.\n",
      "Output directory set to /root/workspace/Thyroid_Solid_Nodule/data/preprocess/public_aug/tmp/image/157_/output.2 ground truth image(s) found.\n",
      "\n",
      "No./root/workspace/Thyroid_Solid_Nodule/data/preprocess/public/image/157_1.jpg data is being augmented and 53 data will be created\n"
     ]
    },
    {
     "name": "stderr",
     "output_type": "stream",
     "text": [
      "Processing <PIL.JpegImagePlugin.JpegImageFile image mode=RGB size=560x360 at 0x7F02F0305DA0>: 100%|██████████| 53/53 [00:00<00:00, 101.99 Samples/s]\n",
      "Executing Pipeline:   0%|          | 0/52 [00:00<?, ? Samples/s]"
     ]
    },
    {
     "name": "stdout",
     "output_type": "stream",
     "text": [
      "Done\n",
      "Initialised with 1 image(s) found.\n",
      "Output directory set to /root/workspace/Thyroid_Solid_Nodule/data/preprocess/public_aug/tmp/image/354_/output.1 ground truth image(s) found.\n",
      "\n",
      "No./root/workspace/Thyroid_Solid_Nodule/data/preprocess/public/image/354_1.jpg data is being augmented and 52 data will be created\n"
     ]
    },
    {
     "name": "stderr",
     "output_type": "stream",
     "text": [
      "Processing <PIL.Image.Image image mode=RGB size=560x360 at 0x7F02F02CEC18>: 100%|██████████| 52/52 [00:00<00:00, 96.11 Samples/s]                  \n",
      "Executing Pipeline:   0%|          | 0/59 [00:00<?, ? Samples/s]"
     ]
    },
    {
     "name": "stdout",
     "output_type": "stream",
     "text": [
      "Done\n",
      "Initialised with 1 image(s) found.\n",
      "Output directory set to /root/workspace/Thyroid_Solid_Nodule/data/preprocess/public_aug/tmp/image/208_/output.1 ground truth image(s) found.\n",
      "\n",
      "No./root/workspace/Thyroid_Solid_Nodule/data/preprocess/public/image/208_1.jpg data is being augmented and 59 data will be created\n"
     ]
    },
    {
     "name": "stderr",
     "output_type": "stream",
     "text": [
      "Processing <PIL.Image.Image image mode=RGB size=560x360 at 0x7F02F02ACE10>: 100%|██████████| 59/59 [00:00<00:00, 101.80 Samples/s]                 \n",
      "Executing Pipeline:   0%|          | 0/47 [00:00<?, ? Samples/s]"
     ]
    },
    {
     "name": "stdout",
     "output_type": "stream",
     "text": [
      "Done\n",
      "Initialised with 1 image(s) found.\n",
      "Output directory set to /root/workspace/Thyroid_Solid_Nodule/data/preprocess/public_aug/tmp/image/51_/output.1 ground truth image(s) found.\n",
      "\n",
      "No./root/workspace/Thyroid_Solid_Nodule/data/preprocess/public/image/51_1.jpg data is being augmented and 47 data will be created\n"
     ]
    },
    {
     "name": "stderr",
     "output_type": "stream",
     "text": [
      "Processing <PIL.Image.Image image mode=RGB size=560x360 at 0x7F02F02AC518>: 100%|██████████| 47/47 [00:00<00:00, 95.45 Samples/s]                  \n",
      "Processing <PIL.Image.Image image mode=RGB size=560x360 at 0x7F02F029F908>:   0%|          | 0/45 [00:00<?, ? Samples/s]"
     ]
    },
    {
     "name": "stdout",
     "output_type": "stream",
     "text": [
      "Done\n",
      "Initialised with 1 image(s) found.\n",
      "Output directory set to /root/workspace/Thyroid_Solid_Nodule/data/preprocess/public_aug/tmp/image/268_/output.1 ground truth image(s) found.\n",
      "\n",
      "No./root/workspace/Thyroid_Solid_Nodule/data/preprocess/public/image/268_1.jpg data is being augmented and 45 data will be created\n"
     ]
    },
    {
     "name": "stderr",
     "output_type": "stream",
     "text": [
      "Processing <PIL.Image.Image image mode=RGB size=560x360 at 0x7F02F02EDE10>: 100%|██████████| 45/45 [00:00<00:00, 85.45 Samples/s]\n",
      "Executing Pipeline:   0%|          | 0/52 [00:00<?, ? Samples/s]"
     ]
    },
    {
     "name": "stdout",
     "output_type": "stream",
     "text": [
      "Done\n",
      "Initialised with 1 image(s) found.\n",
      "Output directory set to /root/workspace/Thyroid_Solid_Nodule/data/preprocess/public_aug/tmp/image/115_/output.1 ground truth image(s) found.\n",
      "\n",
      "No./root/workspace/Thyroid_Solid_Nodule/data/preprocess/public/image/115_1.jpg data is being augmented and 52 data will be created\n"
     ]
    },
    {
     "name": "stderr",
     "output_type": "stream",
     "text": [
      "Processing <PIL.JpegImagePlugin.JpegImageFile image mode=RGB size=560x360 at 0x7F02F02B69E8>: 100%|██████████| 52/52 [00:00<00:00, 93.64 Samples/s]\n",
      "Processing <PIL.Image.Image image mode=RGB size=560x360 at 0x7F02F033B128>:   0%|          | 0/44 [00:00<?, ? Samples/s]"
     ]
    },
    {
     "name": "stdout",
     "output_type": "stream",
     "text": [
      "Done\n",
      "Initialised with 1 image(s) found.\n",
      "Output directory set to /root/workspace/Thyroid_Solid_Nodule/data/preprocess/public_aug/tmp/image/66_/output.1 ground truth image(s) found.\n",
      "\n",
      "No./root/workspace/Thyroid_Solid_Nodule/data/preprocess/public/image/66_1.jpg data is being augmented and 44 data will be created\n"
     ]
    },
    {
     "name": "stderr",
     "output_type": "stream",
     "text": [
      "Processing <PIL.Image.Image image mode=RGB size=560x360 at 0x7F02F0295400>: 100%|██████████| 44/44 [00:00<00:00, 93.00 Samples/s]                  \n",
      "Processing <PIL.Image.Image image mode=RGB size=560x360 at 0x7F02F02B6358>:   0%|          | 0/45 [00:00<?, ? Samples/s]"
     ]
    },
    {
     "name": "stdout",
     "output_type": "stream",
     "text": [
      "Done\n",
      "Initialised with 3 image(s) found.\n",
      "Output directory set to /root/workspace/Thyroid_Solid_Nodule/data/preprocess/public_aug/tmp/image/69_/output.3 ground truth image(s) found.\n",
      "\n",
      "No./root/workspace/Thyroid_Solid_Nodule/data/preprocess/public/image/69_3.jpg data is being augmented and 45 data will be created\n"
     ]
    },
    {
     "name": "stderr",
     "output_type": "stream",
     "text": [
      "Processing <PIL.Image.Image image mode=RGB size=560x360 at 0x7F02F0265F28>: 100%|██████████| 45/45 [00:00<00:00, 100.39 Samples/s]                 \n",
      "Processing <PIL.Image.Image image mode=RGB size=560x315 at 0x7F02F02B6128>:   6%|▋         | 3/48 [00:00<00:05,  8.98 Samples/s]"
     ]
    },
    {
     "name": "stdout",
     "output_type": "stream",
     "text": [
      "Done\n",
      "Initialised with 2 image(s) found.\n",
      "Output directory set to /root/workspace/Thyroid_Solid_Nodule/data/preprocess/public_aug/tmp/image/maligns_566_/output.2 ground truth image(s) found.\n",
      "\n",
      "No./root/workspace/Thyroid_Solid_Nodule/data/preprocess/public/image/maligns_566_1.jpg data is being augmented and 48 data will be created\n"
     ]
    },
    {
     "name": "stderr",
     "output_type": "stream",
     "text": [
      "Processing <PIL.Image.Image image mode=RGB size=560x315 at 0x7F02F02AC780>: 100%|██████████| 48/48 [00:00<00:00, 112.30 Samples/s]                 \n",
      "Processing <PIL.Image.Image image mode=RGB size=560x360 at 0x7F02F029F4E0>:   0%|          | 0/59 [00:00<?, ? Samples/s]"
     ]
    },
    {
     "name": "stdout",
     "output_type": "stream",
     "text": [
      "Done\n",
      "Initialised with 2 image(s) found.\n",
      "Output directory set to /root/workspace/Thyroid_Solid_Nodule/data/preprocess/public_aug/tmp/image/334_/output.2 ground truth image(s) found.\n",
      "\n",
      "No./root/workspace/Thyroid_Solid_Nodule/data/preprocess/public/image/334_1.jpg data is being augmented and 59 data will be created\n"
     ]
    },
    {
     "name": "stderr",
     "output_type": "stream",
     "text": [
      "Processing <PIL.Image.Image image mode=RGB size=560x360 at 0x7F02F02950F0>: 100%|██████████| 59/59 [00:00<00:00, 116.85 Samples/s]                 \n",
      "Executing Pipeline:   0%|          | 0/58 [00:00<?, ? Samples/s]"
     ]
    },
    {
     "name": "stdout",
     "output_type": "stream",
     "text": [
      "Done\n",
      "Initialised with 1 image(s) found.\n",
      "Output directory set to /root/workspace/Thyroid_Solid_Nodule/data/preprocess/public_aug/tmp/image/251_/output.1 ground truth image(s) found.\n",
      "\n",
      "No./root/workspace/Thyroid_Solid_Nodule/data/preprocess/public/image/251_1.jpg data is being augmented and 58 data will be created\n"
     ]
    },
    {
     "name": "stderr",
     "output_type": "stream",
     "text": [
      "Processing <PIL.Image.Image image mode=RGB size=560x360 at 0x7F02F0295DA0>: 100%|██████████| 58/58 [00:00<00:00, 96.40 Samples/s]                  \n",
      "Executing Pipeline:   0%|          | 0/54 [00:00<?, ? Samples/s]"
     ]
    },
    {
     "name": "stdout",
     "output_type": "stream",
     "text": [
      "Done\n",
      "Initialised with 2 image(s) found.\n",
      "Output directory set to /root/workspace/Thyroid_Solid_Nodule/data/preprocess/public_aug/tmp/image/351_/output.2 ground truth image(s) found.\n",
      "\n",
      "No./root/workspace/Thyroid_Solid_Nodule/data/preprocess/public/image/351_1.jpg data is being augmented and 54 data will be created\n"
     ]
    },
    {
     "name": "stderr",
     "output_type": "stream",
     "text": [
      "Processing <PIL.Image.Image image mode=RGB size=560x360 at 0x7F02F03052E8>: 100%|██████████| 54/54 [00:00<00:00, 103.21 Samples/s]                 \n",
      "Executing Pipeline:   0%|          | 0/47 [00:00<?, ? Samples/s]"
     ]
    },
    {
     "name": "stdout",
     "output_type": "stream",
     "text": [
      "Done\n",
      "Initialised with 4 image(s) found.\n",
      "Output directory set to /root/workspace/Thyroid_Solid_Nodule/data/preprocess/public_aug/tmp/image/106_/output.4 ground truth image(s) found.\n",
      "\n",
      "No./root/workspace/Thyroid_Solid_Nodule/data/preprocess/public/image/106_3.jpg data is being augmented and 47 data will be created\n"
     ]
    },
    {
     "name": "stderr",
     "output_type": "stream",
     "text": [
      "Processing <PIL.Image.Image image mode=RGB size=560x360 at 0x7F02F029FD68>: 100%|██████████| 47/47 [00:00<00:00, 88.41 Samples/s]                 \n",
      "Executing Pipeline:   0%|          | 0/53 [00:00<?, ? Samples/s]"
     ]
    },
    {
     "name": "stdout",
     "output_type": "stream",
     "text": [
      "Done\n",
      "Initialised with 1 image(s) found.\n",
      "Output directory set to /root/workspace/Thyroid_Solid_Nodule/data/preprocess/public_aug/tmp/image/375_/output.1 ground truth image(s) found.\n",
      "\n",
      "No./root/workspace/Thyroid_Solid_Nodule/data/preprocess/public/image/375_1.jpg data is being augmented and 53 data will be created\n"
     ]
    },
    {
     "name": "stderr",
     "output_type": "stream",
     "text": [
      "Processing <PIL.Image.Image image mode=RGB size=560x360 at 0x7F02F02BCC50>: 100%|██████████| 53/53 [00:00<00:00, 85.75 Samples/s]\n",
      "Processing <PIL.JpegImagePlugin.JpegImageFile image mode=RGB size=560x360 at 0x7F02F02BC358>:   2%|▏         | 1/41 [00:00<00:04,  8.19 Samples/s]"
     ]
    },
    {
     "name": "stdout",
     "output_type": "stream",
     "text": [
      "Done\n",
      "Initialised with 1 image(s) found.\n",
      "Output directory set to /root/workspace/Thyroid_Solid_Nodule/data/preprocess/public_aug/tmp/image/400_/output.1 ground truth image(s) found.\n",
      "\n",
      "No./root/workspace/Thyroid_Solid_Nodule/data/preprocess/public/image/400_1.jpg data is being augmented and 41 data will be created\n"
     ]
    },
    {
     "name": "stderr",
     "output_type": "stream",
     "text": [
      "Processing <PIL.Image.Image image mode=RGB size=560x360 at 0x7F02F02BCC50>: 100%|██████████| 41/41 [00:00<00:00, 127.14 Samples/s]                 \n",
      "Executing Pipeline:   0%|          | 0/56 [00:00<?, ? Samples/s]"
     ]
    },
    {
     "name": "stdout",
     "output_type": "stream",
     "text": [
      "Done\n",
      "Initialised with 1 image(s) found.\n",
      "Output directory set to /root/workspace/Thyroid_Solid_Nodule/data/preprocess/public_aug/tmp/image/222_/output.1 ground truth image(s) found.\n",
      "\n",
      "No./root/workspace/Thyroid_Solid_Nodule/data/preprocess/public/image/222_1.jpg data is being augmented and 56 data will be created\n"
     ]
    },
    {
     "name": "stderr",
     "output_type": "stream",
     "text": [
      "Processing <PIL.Image.Image image mode=RGB size=560x360 at 0x7F02F029F320>: 100%|██████████| 56/56 [00:00<00:00, 80.55 Samples/s]                  \n",
      "Processing <PIL.Image.Image image mode=RGB size=560x360 at 0x7F02F03054A8>:   9%|▉         | 5/53 [00:00<00:08,  5.55 Samples/s]"
     ]
    },
    {
     "name": "stdout",
     "output_type": "stream",
     "text": [
      "Done\n",
      "Initialised with 1 image(s) found.\n",
      "Output directory set to /root/workspace/Thyroid_Solid_Nodule/data/preprocess/public_aug/tmp/image/124_/output.1 ground truth image(s) found.\n",
      "\n",
      "No./root/workspace/Thyroid_Solid_Nodule/data/preprocess/public/image/124_1.jpg data is being augmented and 53 data will be created\n"
     ]
    },
    {
     "name": "stderr",
     "output_type": "stream",
     "text": [
      "Processing <PIL.Image.Image image mode=RGB size=560x360 at 0x7F02F02954A8>: 100%|██████████| 53/53 [00:00<00:00, 113.77 Samples/s]\n",
      "Executing Pipeline:   0%|          | 0/55 [00:00<?, ? Samples/s]"
     ]
    },
    {
     "name": "stdout",
     "output_type": "stream",
     "text": [
      "Done\n",
      "Initialised with 1 image(s) found.\n",
      "Output directory set to /root/workspace/Thyroid_Solid_Nodule/data/preprocess/public_aug/tmp/image/329_/output.1 ground truth image(s) found.\n",
      "\n",
      "No./root/workspace/Thyroid_Solid_Nodule/data/preprocess/public/image/329_1.jpg data is being augmented and 55 data will be created\n"
     ]
    },
    {
     "name": "stderr",
     "output_type": "stream",
     "text": [
      "Processing <PIL.Image.Image image mode=RGB size=560x360 at 0x7F02F027EE48>: 100%|██████████| 55/55 [00:00<00:00, 100.54 Samples/s]                 \n",
      "Executing Pipeline:   0%|          | 0/47 [00:00<?, ? Samples/s]"
     ]
    },
    {
     "name": "stdout",
     "output_type": "stream",
     "text": [
      "Done\n",
      "Initialised with 1 image(s) found.\n",
      "Output directory set to /root/workspace/Thyroid_Solid_Nodule/data/preprocess/public_aug/tmp/image/250_/output.1 ground truth image(s) found.\n",
      "\n",
      "No./root/workspace/Thyroid_Solid_Nodule/data/preprocess/public/image/250_1.jpg data is being augmented and 47 data will be created\n"
     ]
    },
    {
     "name": "stderr",
     "output_type": "stream",
     "text": [
      "Processing <PIL.Image.Image image mode=RGB size=560x360 at 0x7F02F02BC470>: 100%|██████████| 47/47 [00:00<00:00, 93.23 Samples/s]                  \n",
      "Executing Pipeline:   0%|          | 0/40 [00:00<?, ? Samples/s]"
     ]
    },
    {
     "name": "stdout",
     "output_type": "stream",
     "text": [
      "Done\n",
      "Initialised with 2 image(s) found.\n",
      "Output directory set to /root/workspace/Thyroid_Solid_Nodule/data/preprocess/public_aug/tmp/image/maligns_563_/output.2 ground truth image(s) found.\n",
      "\n",
      "No./root/workspace/Thyroid_Solid_Nodule/data/preprocess/public/image/maligns_563_1.jpg data is being augmented and 40 data will be created\n"
     ]
    },
    {
     "name": "stderr",
     "output_type": "stream",
     "text": [
      "Processing <PIL.Image.Image image mode=RGB size=560x315 at 0x7F02F029F1D0>: 100%|██████████| 40/40 [00:00<00:00, 73.91 Samples/s]                  \n",
      "Executing Pipeline:   0%|          | 0/58 [00:00<?, ? Samples/s]"
     ]
    },
    {
     "name": "stdout",
     "output_type": "stream",
     "text": [
      "Done\n",
      "Initialised with 1 image(s) found.\n",
      "Output directory set to /root/workspace/Thyroid_Solid_Nodule/data/preprocess/public_aug/tmp/image/29_/output.1 ground truth image(s) found.\n",
      "\n",
      "No./root/workspace/Thyroid_Solid_Nodule/data/preprocess/public/image/29_1.jpg data is being augmented and 58 data will be created\n"
     ]
    },
    {
     "name": "stderr",
     "output_type": "stream",
     "text": [
      "Processing <PIL.Image.Image image mode=RGB size=560x360 at 0x7F02F0305DD8>: 100%|██████████| 58/58 [00:00<00:00, 110.86 Samples/s]                 \n",
      "Executing Pipeline:   0%|          | 0/56 [00:00<?, ? Samples/s]"
     ]
    },
    {
     "name": "stdout",
     "output_type": "stream",
     "text": [
      "Done\n",
      "Initialised with 1 image(s) found.\n",
      "Output directory set to /root/workspace/Thyroid_Solid_Nodule/data/preprocess/public_aug/tmp/image/220_/output.1 ground truth image(s) found.\n",
      "\n",
      "No./root/workspace/Thyroid_Solid_Nodule/data/preprocess/public/image/220_1.jpg data is being augmented and 56 data will be created\n"
     ]
    },
    {
     "name": "stderr",
     "output_type": "stream",
     "text": [
      "Processing <PIL.Image.Image image mode=RGB size=560x360 at 0x7F02F0305278>: 100%|██████████| 56/56 [00:00<00:00, 102.86 Samples/s]                 \n",
      "Executing Pipeline:   0%|          | 0/57 [00:00<?, ? Samples/s]"
     ]
    },
    {
     "name": "stdout",
     "output_type": "stream",
     "text": [
      "Done\n",
      "Initialised with 2 image(s) found.\n",
      "Output directory set to /root/workspace/Thyroid_Solid_Nodule/data/preprocess/public_aug/tmp/image/85_/output.2 ground truth image(s) found.\n",
      "\n",
      "No./root/workspace/Thyroid_Solid_Nodule/data/preprocess/public/image/85_1.jpg data is being augmented and 57 data will be created\n"
     ]
    },
    {
     "name": "stderr",
     "output_type": "stream",
     "text": [
      "Processing <PIL.Image.Image image mode=RGB size=560x360 at 0x7F02F0280240>: 100%|██████████| 57/57 [00:00<00:00, 88.30 Samples/s]                  \n",
      "Executing Pipeline:   0%|          | 0/60 [00:00<?, ? Samples/s]"
     ]
    },
    {
     "name": "stdout",
     "output_type": "stream",
     "text": [
      "Done\n",
      "Initialised with 2 image(s) found.\n",
      "Output directory set to /root/workspace/Thyroid_Solid_Nodule/data/preprocess/public_aug/tmp/image/benigns_575_/output.2 ground truth image(s) found.\n",
      "\n",
      "No./root/workspace/Thyroid_Solid_Nodule/data/preprocess/public/image/benigns_575_1.jpg data is being augmented and 60 data will be created\n"
     ]
    },
    {
     "name": "stderr",
     "output_type": "stream",
     "text": [
      "Processing <PIL.JpegImagePlugin.JpegImageFile image mode=RGB size=560x315 at 0x7F02F02B6630>: 100%|██████████| 60/60 [00:00<00:00, 88.28 Samples/s]\n",
      "Executing Pipeline:   0%|          | 0/52 [00:00<?, ? Samples/s]"
     ]
    },
    {
     "name": "stdout",
     "output_type": "stream",
     "text": [
      "Done\n",
      "Initialised with 1 image(s) found.\n",
      "Output directory set to /root/workspace/Thyroid_Solid_Nodule/data/preprocess/public_aug/tmp/image/196_/output.1 ground truth image(s) found.\n",
      "\n",
      "No./root/workspace/Thyroid_Solid_Nodule/data/preprocess/public/image/196_1.jpg data is being augmented and 52 data will be created\n"
     ]
    },
    {
     "name": "stderr",
     "output_type": "stream",
     "text": [
      "Processing <PIL.Image.Image image mode=RGB size=560x360 at 0x7F02F02B6B38>: 100%|██████████| 52/52 [00:00<00:00, 83.61 Samples/s]                  \n",
      "Processing <PIL.Image.Image image mode=RGB size=560x315 at 0x7F02F0295048>:  18%|█▊        | 9/49 [00:00<00:04,  8.58 Samples/s]                  "
     ]
    },
    {
     "name": "stdout",
     "output_type": "stream",
     "text": [
      "Done\n",
      "Initialised with 1 image(s) found.\n",
      "Output directory set to /root/workspace/Thyroid_Solid_Nodule/data/preprocess/public_aug/tmp/image/maligns_608_/output.1 ground truth image(s) found.\n",
      "\n",
      "No./root/workspace/Thyroid_Solid_Nodule/data/preprocess/public/image/maligns_608_1.jpg data is being augmented and 49 data will be created\n"
     ]
    },
    {
     "name": "stderr",
     "output_type": "stream",
     "text": [
      "Processing <PIL.Image.Image image mode=RGB size=560x315 at 0x7F02F0295A20>: 100%|██████████| 49/49 [00:00<00:00, 107.69 Samples/s]                 \n",
      "Executing Pipeline:   0%|          | 0/51 [00:00<?, ? Samples/s]"
     ]
    },
    {
     "name": "stdout",
     "output_type": "stream",
     "text": [
      "Done\n",
      "Initialised with 2 image(s) found.\n",
      "Output directory set to /root/workspace/Thyroid_Solid_Nodule/data/preprocess/public_aug/tmp/image/benigns_582_/output.2 ground truth image(s) found.\n",
      "\n",
      "No./root/workspace/Thyroid_Solid_Nodule/data/preprocess/public/image/benigns_582_1.jpg data is being augmented and 51 data will be created\n"
     ]
    },
    {
     "name": "stderr",
     "output_type": "stream",
     "text": [
      "Processing <PIL.Image.Image image mode=RGB size=560x315 at 0x7F02F02956D8>: 100%|██████████| 51/51 [00:00<00:00, 125.62 Samples/s]                 \n",
      "Executing Pipeline:   0%|          | 0/53 [00:00<?, ? Samples/s]"
     ]
    },
    {
     "name": "stdout",
     "output_type": "stream",
     "text": [
      "Done\n",
      "Initialised with 1 image(s) found.\n",
      "Output directory set to /root/workspace/Thyroid_Solid_Nodule/data/preprocess/public_aug/tmp/image/30_/output.1 ground truth image(s) found.\n",
      "\n",
      "No./root/workspace/Thyroid_Solid_Nodule/data/preprocess/public/image/30_1.jpg data is being augmented and 53 data will be created\n"
     ]
    },
    {
     "name": "stderr",
     "output_type": "stream",
     "text": [
      "Processing <PIL.Image.Image image mode=RGB size=560x360 at 0x7F02F0280BE0>: 100%|██████████| 53/53 [00:00<00:00, 85.36 Samples/s]                  \n",
      "Executing Pipeline:   0%|          | 0/55 [00:00<?, ? Samples/s]"
     ]
    },
    {
     "name": "stdout",
     "output_type": "stream",
     "text": [
      "Done\n",
      "Initialised with 2 image(s) found.\n",
      "Output directory set to /root/workspace/Thyroid_Solid_Nodule/data/preprocess/public_aug/tmp/image/156_/output.2 ground truth image(s) found.\n",
      "\n",
      "No./root/workspace/Thyroid_Solid_Nodule/data/preprocess/public/image/156_1.jpg data is being augmented and 55 data will be created\n"
     ]
    },
    {
     "name": "stderr",
     "output_type": "stream",
     "text": [
      "Processing <PIL.Image.Image image mode=RGB size=560x360 at 0x7F02F027EE10>: 100%|██████████| 55/55 [00:00<00:00, 101.97 Samples/s]                 \n",
      "Processing <PIL.Image.Image image mode=RGB size=560x360 at 0x7F02F02BCB00>:   0%|          | 0/51 [00:00<?, ? Samples/s]"
     ]
    },
    {
     "name": "stdout",
     "output_type": "stream",
     "text": [
      "Done\n",
      "Initialised with 1 image(s) found.\n",
      "Output directory set to /root/workspace/Thyroid_Solid_Nodule/data/preprocess/public_aug/tmp/image/346_/output.1 ground truth image(s) found.\n",
      "\n",
      "No./root/workspace/Thyroid_Solid_Nodule/data/preprocess/public/image/346_1.jpg data is being augmented and 51 data will be created\n"
     ]
    },
    {
     "name": "stderr",
     "output_type": "stream",
     "text": [
      "Processing <PIL.Image.Image image mode=RGB size=560x360 at 0x7F02F02657B8>: 100%|██████████| 51/51 [00:00<00:00, 94.11 Samples/s]\n",
      "Executing Pipeline:   0%|          | 0/42 [00:00<?, ? Samples/s]"
     ]
    },
    {
     "name": "stdout",
     "output_type": "stream",
     "text": [
      "Done\n",
      "Initialised with 2 image(s) found.\n",
      "Output directory set to /root/workspace/Thyroid_Solid_Nodule/data/preprocess/public_aug/tmp/image/183_/output.2 ground truth image(s) found.\n",
      "\n",
      "No./root/workspace/Thyroid_Solid_Nodule/data/preprocess/public/image/183_1.jpg data is being augmented and 42 data will be created\n"
     ]
    },
    {
     "name": "stderr",
     "output_type": "stream",
     "text": [
      "Processing <PIL.Image.Image image mode=RGB size=560x360 at 0x7F02F0269CC0>: 100%|██████████| 42/42 [00:00<00:00, 86.92 Samples/s]                  \n",
      "Processing <PIL.Image.Image image mode=RGB size=560x315 at 0x7F02F0280FD0>:  16%|█▌        | 7/44 [00:00<00:04,  9.10 Samples/s]"
     ]
    },
    {
     "name": "stdout",
     "output_type": "stream",
     "text": [
      "Done\n",
      "Initialised with 3 image(s) found.\n",
      "Output directory set to /root/workspace/Thyroid_Solid_Nodule/data/preprocess/public_aug/tmp/image/maligns_551_/output.3 ground truth image(s) found.\n",
      "\n",
      "No./root/workspace/Thyroid_Solid_Nodule/data/preprocess/public/image/maligns_551_2.jpg data is being augmented and 44 data will be created\n"
     ]
    },
    {
     "name": "stderr",
     "output_type": "stream",
     "text": [
      "Processing <PIL.Image.Image image mode=RGB size=560x315 at 0x7F02F0280A90>: 100%|██████████| 44/44 [00:00<00:00, 103.92 Samples/s]\n",
      "Executing Pipeline:   0%|          | 0/60 [00:00<?, ? Samples/s]"
     ]
    },
    {
     "name": "stdout",
     "output_type": "stream",
     "text": [
      "Done\n",
      "Initialised with 1 image(s) found.\n",
      "Output directory set to /root/workspace/Thyroid_Solid_Nodule/data/preprocess/public_aug/tmp/image/11_/output.1 ground truth image(s) found.\n",
      "\n",
      "No./root/workspace/Thyroid_Solid_Nodule/data/preprocess/public/image/11_1.jpg data is being augmented and 60 data will be created\n"
     ]
    },
    {
     "name": "stderr",
     "output_type": "stream",
     "text": [
      "Processing <PIL.Image.Image image mode=RGB size=560x360 at 0x7F02F0269D68>: 100%|██████████| 60/60 [00:00<00:00, 116.34 Samples/s]                 \n",
      "Processing <PIL.Image.Image image mode=RGB size=560x315 at 0x7F02F027E2E8>:   2%|▏         | 1/57 [00:00<00:09,  5.85 Samples/s]"
     ]
    },
    {
     "name": "stdout",
     "output_type": "stream",
     "text": [
      "Done\n",
      "Initialised with 2 image(s) found.\n",
      "Output directory set to /root/workspace/Thyroid_Solid_Nodule/data/preprocess/public_aug/tmp/image/maligns_562_/output.2 ground truth image(s) found.\n",
      "\n",
      "No./root/workspace/Thyroid_Solid_Nodule/data/preprocess/public/image/maligns_562_1.jpg data is being augmented and 57 data will be created\n"
     ]
    },
    {
     "name": "stderr",
     "output_type": "stream",
     "text": [
      "Processing <PIL.Image.Image image mode=RGB size=560x315 at 0x7F02F0280940>: 100%|██████████| 57/57 [00:00<00:00, 115.74 Samples/s]\n",
      "Executing Pipeline:   0%|          | 0/54 [00:00<?, ? Samples/s]"
     ]
    },
    {
     "name": "stdout",
     "output_type": "stream",
     "text": [
      "Done\n",
      "Initialised with 3 image(s) found.\n",
      "Output directory set to /root/workspace/Thyroid_Solid_Nodule/data/preprocess/public_aug/tmp/image/158_/output.3 ground truth image(s) found.\n",
      "\n",
      "No./root/workspace/Thyroid_Solid_Nodule/data/preprocess/public/image/158_2.jpg data is being augmented and 54 data will be created\n"
     ]
    },
    {
     "name": "stderr",
     "output_type": "stream",
     "text": [
      "Processing <PIL.Image.Image image mode=RGB size=560x360 at 0x7F02F0280DD8>: 100%|██████████| 54/54 [00:00<00:00, 106.77 Samples/s]                 \n",
      "Processing <PIL.Image.Image image mode=RGB size=560x315 at 0x7F02F02807B8>:   0%|          | 0/59 [00:00<?, ? Samples/s]"
     ]
    },
    {
     "name": "stdout",
     "output_type": "stream",
     "text": [
      "Done\n",
      "Initialised with 2 image(s) found.\n",
      "Output directory set to /root/workspace/Thyroid_Solid_Nodule/data/preprocess/public_aug/tmp/image/maligns_545_/output.2 ground truth image(s) found.\n",
      "\n",
      "No./root/workspace/Thyroid_Solid_Nodule/data/preprocess/public/image/maligns_545_2.jpg data is being augmented and 59 data will be created\n"
     ]
    },
    {
     "name": "stderr",
     "output_type": "stream",
     "text": [
      "Processing <PIL.Image.Image image mode=RGB size=560x315 at 0x7F02F0265EF0>: 100%|██████████| 59/59 [00:00<00:00, 107.76 Samples/s]                 \n",
      "Processing <PIL.Image.Image image mode=RGB size=560x360 at 0x7F02F0210048>:   0%|          | 0/58 [00:00<?, ? Samples/s]"
     ]
    },
    {
     "name": "stdout",
     "output_type": "stream",
     "text": [
      "Done\n",
      "Initialised with 1 image(s) found.\n",
      "Output directory set to /root/workspace/Thyroid_Solid_Nodule/data/preprocess/public_aug/tmp/image/308_/output.1 ground truth image(s) found.\n",
      "\n",
      "No./root/workspace/Thyroid_Solid_Nodule/data/preprocess/public/image/308_1.jpg data is being augmented and 58 data will be created\n"
     ]
    },
    {
     "name": "stderr",
     "output_type": "stream",
     "text": [
      "Processing <PIL.Image.Image image mode=RGB size=560x360 at 0x7F02F029F710>: 100%|██████████| 58/58 [00:00<00:00, 93.70 Samples/s]                  \n",
      "Executing Pipeline:   0%|          | 0/43 [00:00<?, ? Samples/s]"
     ]
    },
    {
     "name": "stdout",
     "output_type": "stream",
     "text": [
      "Done\n",
      "Initialised with 1 image(s) found.\n",
      "Output directory set to /root/workspace/Thyroid_Solid_Nodule/data/preprocess/public_aug/tmp/image/217_/output.1 ground truth image(s) found.\n",
      "\n",
      "No./root/workspace/Thyroid_Solid_Nodule/data/preprocess/public/image/217_1.jpg data is being augmented and 43 data will be created\n"
     ]
    },
    {
     "name": "stderr",
     "output_type": "stream",
     "text": [
      "Processing <PIL.Image.Image image mode=RGB size=560x360 at 0x7F02F0247518>: 100%|██████████| 43/43 [00:00<00:00, 85.46 Samples/s]                  \n",
      "Executing Pipeline:   0%|          | 0/42 [00:00<?, ? Samples/s]"
     ]
    },
    {
     "name": "stdout",
     "output_type": "stream",
     "text": [
      "Done\n",
      "Initialised with 1 image(s) found.\n",
      "Output directory set to /root/workspace/Thyroid_Solid_Nodule/data/preprocess/public_aug/tmp/image/87_/output.1 ground truth image(s) found.\n",
      "\n",
      "No./root/workspace/Thyroid_Solid_Nodule/data/preprocess/public/image/87_1.jpg data is being augmented and 42 data will be created\n"
     ]
    },
    {
     "name": "stderr",
     "output_type": "stream",
     "text": [
      "Processing <PIL.Image.Image image mode=RGB size=560x360 at 0x7F02F0247630>: 100%|██████████| 42/42 [00:00<00:00, 95.87 Samples/s]\n",
      "Processing <PIL.Image.Image image mode=RGB size=560x360 at 0x7F02F02B6C88>:   2%|▏         | 1/50 [00:00<00:07,  6.64 Samples/s]"
     ]
    },
    {
     "name": "stdout",
     "output_type": "stream",
     "text": [
      "Done\n",
      "Initialised with 1 image(s) found.\n",
      "Output directory set to /root/workspace/Thyroid_Solid_Nodule/data/preprocess/public_aug/tmp/image/287_/output.1 ground truth image(s) found.\n",
      "\n",
      "No./root/workspace/Thyroid_Solid_Nodule/data/preprocess/public/image/287_1.jpg data is being augmented and 50 data will be created\n"
     ]
    },
    {
     "name": "stderr",
     "output_type": "stream",
     "text": [
      "Processing <PIL.Image.Image image mode=RGB size=560x360 at 0x7F02F0269358>: 100%|██████████| 50/50 [00:00<00:00, 101.32 Samples/s]\n",
      "Processing <PIL.Image.Image image mode=RGB size=560x360 at 0x7F02F0210F60>:   2%|▎         | 1/40 [00:00<00:06,  5.72 Samples/s]"
     ]
    },
    {
     "name": "stdout",
     "output_type": "stream",
     "text": [
      "Done\n",
      "Initialised with 2 image(s) found.\n",
      "Output directory set to /root/workspace/Thyroid_Solid_Nodule/data/preprocess/public_aug/tmp/image/62_/output.2 ground truth image(s) found.\n",
      "\n",
      "No./root/workspace/Thyroid_Solid_Nodule/data/preprocess/public/image/62_2.jpg data is being augmented and 40 data will be created\n"
     ]
    },
    {
     "name": "stderr",
     "output_type": "stream",
     "text": [
      "Processing <PIL.Image.Image image mode=RGB size=560x360 at 0x7F02F02B6630>: 100%|██████████| 40/40 [00:00<00:00, 106.76 Samples/s]\n",
      "Processing <PIL.Image.Image image mode=RGB size=560x315 at 0x7F02F02089B0>:   0%|          | 0/41 [00:00<?, ? Samples/s]"
     ]
    },
    {
     "name": "stdout",
     "output_type": "stream",
     "text": [
      "Done\n",
      "Initialised with 1 image(s) found.\n",
      "Output directory set to /root/workspace/Thyroid_Solid_Nodule/data/preprocess/public_aug/tmp/image/maligns_640_/output.1 ground truth image(s) found.\n",
      "\n",
      "No./root/workspace/Thyroid_Solid_Nodule/data/preprocess/public/image/maligns_640_1.jpg data is being augmented and 41 data will be created\n"
     ]
    },
    {
     "name": "stderr",
     "output_type": "stream",
     "text": [
      "Processing <PIL.Image.Image image mode=RGB size=560x315 at 0x7F02F02C5D68>: 100%|██████████| 41/41 [00:00<00:00, 130.53 Samples/s]\n",
      "Executing Pipeline:   0%|          | 0/51 [00:00<?, ? Samples/s]"
     ]
    },
    {
     "name": "stdout",
     "output_type": "stream",
     "text": [
      "Done\n",
      "Initialised with 1 image(s) found.\n",
      "Output directory set to /root/workspace/Thyroid_Solid_Nodule/data/preprocess/public_aug/tmp/image/14_/output.1 ground truth image(s) found.\n",
      "\n",
      "No./root/workspace/Thyroid_Solid_Nodule/data/preprocess/public/image/14_1.jpg data is being augmented and 51 data will be created\n"
     ]
    },
    {
     "name": "stderr",
     "output_type": "stream",
     "text": [
      "Processing <PIL.Image.Image image mode=RGB size=560x360 at 0x7F02F0280A20>: 100%|██████████| 51/51 [00:00<00:00, 76.98 Samples/s]\n",
      "Executing Pipeline:   0%|          | 0/51 [00:00<?, ? Samples/s]"
     ]
    },
    {
     "name": "stdout",
     "output_type": "stream",
     "text": [
      "Done\n",
      "Initialised with 1 image(s) found.\n",
      "Output directory set to /root/workspace/Thyroid_Solid_Nodule/data/preprocess/public_aug/tmp/image/benigns_648_/output.1 ground truth image(s) found.\n",
      "\n",
      "No./root/workspace/Thyroid_Solid_Nodule/data/preprocess/public/image/benigns_648_1.jpg data is being augmented and 51 data will be created\n"
     ]
    },
    {
     "name": "stderr",
     "output_type": "stream",
     "text": [
      "Processing <PIL.Image.Image image mode=RGB size=560x315 at 0x7F02F02081D0>: 100%|██████████| 51/51 [00:00<00:00, 110.84 Samples/s]\n",
      "Executing Pipeline:   0%|          | 0/55 [00:00<?, ? Samples/s]"
     ]
    },
    {
     "name": "stdout",
     "output_type": "stream",
     "text": [
      "Done\n",
      "Initialised with 1 image(s) found.\n",
      "Output directory set to /root/workspace/Thyroid_Solid_Nodule/data/preprocess/public_aug/tmp/image/278_/output.1 ground truth image(s) found.\n",
      "\n",
      "No./root/workspace/Thyroid_Solid_Nodule/data/preprocess/public/image/278_1.jpg data is being augmented and 55 data will be created\n"
     ]
    },
    {
     "name": "stderr",
     "output_type": "stream",
     "text": [
      "Processing <PIL.Image.Image image mode=RGB size=560x360 at 0x7F02F027EBE0>: 100%|██████████| 55/55 [00:00<00:00, 94.28 Samples/s]\n",
      "Executing Pipeline:   0%|          | 0/47 [00:00<?, ? Samples/s]"
     ]
    },
    {
     "name": "stdout",
     "output_type": "stream",
     "text": [
      "Done\n",
      "Initialised with 1 image(s) found.\n",
      "Output directory set to /root/workspace/Thyroid_Solid_Nodule/data/preprocess/public_aug/tmp/image/187_/output.1 ground truth image(s) found.\n",
      "\n",
      "No./root/workspace/Thyroid_Solid_Nodule/data/preprocess/public/image/187_1.jpg data is being augmented and 47 data will be created\n"
     ]
    },
    {
     "name": "stderr",
     "output_type": "stream",
     "text": [
      "Processing <PIL.Image.Image image mode=RGB size=560x360 at 0x7F02F0269908>: 100%|██████████| 47/47 [00:00<00:00, 100.18 Samples/s]                \n",
      "Processing <PIL.Image.Image image mode=RGB size=560x360 at 0x7F02F021BEB8>:   0%|          | 0/46 [00:00<?, ? Samples/s]"
     ]
    },
    {
     "name": "stdout",
     "output_type": "stream",
     "text": [
      "Done\n",
      "Initialised with 1 image(s) found.\n",
      "Output directory set to /root/workspace/Thyroid_Solid_Nodule/data/preprocess/public_aug/tmp/image/356_/output.1 ground truth image(s) found.\n",
      "\n",
      "No./root/workspace/Thyroid_Solid_Nodule/data/preprocess/public/image/356_1.jpg data is being augmented and 46 data will be created\n"
     ]
    },
    {
     "name": "stderr",
     "output_type": "stream",
     "text": [
      "Processing <PIL.Image.Image image mode=RGB size=560x360 at 0x7F02F02B66A0>: 100%|██████████| 46/46 [00:00<00:00, 99.18 Samples/s]                  \n",
      "Executing Pipeline:   0%|          | 0/56 [00:00<?, ? Samples/s]"
     ]
    },
    {
     "name": "stdout",
     "output_type": "stream",
     "text": [
      "Done\n",
      "Initialised with 1 image(s) found.\n",
      "Output directory set to /root/workspace/Thyroid_Solid_Nodule/data/preprocess/public_aug/tmp/image/399_/output.1 ground truth image(s) found.\n",
      "\n",
      "No./root/workspace/Thyroid_Solid_Nodule/data/preprocess/public/image/399_1.jpg data is being augmented and 56 data will be created\n"
     ]
    },
    {
     "name": "stderr",
     "output_type": "stream",
     "text": [
      "Processing <PIL.Image.Image image mode=RGB size=560x360 at 0x7F02F02C5710>: 100%|██████████| 56/56 [00:00<00:00, 104.14 Samples/s]                 \n",
      "Executing Pipeline:   0%|          | 0/55 [00:00<?, ? Samples/s]"
     ]
    },
    {
     "name": "stdout",
     "output_type": "stream",
     "text": [
      "Done\n",
      "Initialised with 1 image(s) found.\n",
      "Output directory set to /root/workspace/Thyroid_Solid_Nodule/data/preprocess/public_aug/tmp/image/147_/output.1 ground truth image(s) found.\n",
      "\n",
      "No./root/workspace/Thyroid_Solid_Nodule/data/preprocess/public/image/147_1.jpg data is being augmented and 55 data will be created\n"
     ]
    },
    {
     "name": "stderr",
     "output_type": "stream",
     "text": [
      "Processing <PIL.Image.Image image mode=RGB size=560x360 at 0x7F02F029F908>: 100%|██████████| 55/55 [00:00<00:00, 102.11 Samples/s]\n",
      "Executing Pipeline:   0%|          | 0/55 [00:00<?, ? Samples/s]"
     ]
    },
    {
     "name": "stdout",
     "output_type": "stream",
     "text": [
      "Done\n",
      "Initialised with 1 image(s) found.\n",
      "Output directory set to /root/workspace/Thyroid_Solid_Nodule/data/preprocess/public_aug/tmp/image/336_/output.1 ground truth image(s) found.\n",
      "\n",
      "No./root/workspace/Thyroid_Solid_Nodule/data/preprocess/public/image/336_2.jpg data is being augmented and 55 data will be created\n"
     ]
    },
    {
     "name": "stderr",
     "output_type": "stream",
     "text": [
      "Processing <PIL.Image.Image image mode=RGB size=560x360 at 0x7F02F02082B0>: 100%|██████████| 55/55 [00:00<00:00, 107.11 Samples/s]                 \n",
      "Processing <PIL.Image.Image image mode=RGB size=560x360 at 0x7F02F027E198>:   7%|▋         | 3/43 [00:00<00:02, 18.31 Samples/s]"
     ]
    },
    {
     "name": "stdout",
     "output_type": "stream",
     "text": [
      "Done\n",
      "Initialised with 1 image(s) found.\n",
      "Output directory set to /root/workspace/Thyroid_Solid_Nodule/data/preprocess/public_aug/tmp/image/331_/output.1 ground truth image(s) found.\n",
      "\n",
      "No./root/workspace/Thyroid_Solid_Nodule/data/preprocess/public/image/331_1.jpg data is being augmented and 43 data will be created\n"
     ]
    },
    {
     "name": "stderr",
     "output_type": "stream",
     "text": [
      "Processing <PIL.Image.Image image mode=RGB size=560x360 at 0x7F02F021B208>: 100%|██████████| 43/43 [00:00<00:00, 124.93 Samples/s]                 \n",
      "Executing Pipeline:   0%|          | 0/55 [00:00<?, ? Samples/s]"
     ]
    },
    {
     "name": "stdout",
     "output_type": "stream",
     "text": [
      "Done\n",
      "Initialised with 2 image(s) found.\n",
      "Output directory set to /root/workspace/Thyroid_Solid_Nodule/data/preprocess/public_aug/tmp/image/96_/output.2 ground truth image(s) found.\n",
      "\n",
      "No./root/workspace/Thyroid_Solid_Nodule/data/preprocess/public/image/96_2.jpg data is being augmented and 55 data will be created\n"
     ]
    },
    {
     "name": "stderr",
     "output_type": "stream",
     "text": [
      "Processing <PIL.Image.Image image mode=RGB size=560x360 at 0x7F02F0280390>: 100%|██████████| 55/55 [00:00<00:00, 87.91 Samples/s]                  \n",
      "Executing Pipeline:   0%|          | 0/49 [00:00<?, ? Samples/s]"
     ]
    },
    {
     "name": "stdout",
     "output_type": "stream",
     "text": [
      "Done\n",
      "Initialised with 5 image(s) found.\n",
      "Output directory set to /root/workspace/Thyroid_Solid_Nodule/data/preprocess/public_aug/tmp/image/296_/output.5 ground truth image(s) found.\n",
      "\n",
      "No./root/workspace/Thyroid_Solid_Nodule/data/preprocess/public/image/296_1.jpg data is being augmented and 49 data will be created\n"
     ]
    },
    {
     "name": "stderr",
     "output_type": "stream",
     "text": [
      "Processing <PIL.Image.Image image mode=RGB size=560x360 at 0x7F02F021B358>: 100%|██████████| 49/49 [00:00<00:00, 89.87 Samples/s]\n",
      "Executing Pipeline:   0%|          | 0/55 [00:00<?, ? Samples/s]"
     ]
    },
    {
     "name": "stdout",
     "output_type": "stream",
     "text": [
      "Done\n",
      "Initialised with 1 image(s) found.\n",
      "Output directory set to /root/workspace/Thyroid_Solid_Nodule/data/preprocess/public_aug/tmp/image/maligns_574_/output.1 ground truth image(s) found.\n",
      "\n",
      "No./root/workspace/Thyroid_Solid_Nodule/data/preprocess/public/image/maligns_574_1.jpg data is being augmented and 55 data will be created\n"
     ]
    },
    {
     "name": "stderr",
     "output_type": "stream",
     "text": [
      "Processing <PIL.Image.Image image mode=RGB size=560x315 at 0x7F02F022AD68>: 100%|██████████| 55/55 [00:00<00:00, 101.78 Samples/s]\n",
      "Executing Pipeline:   0%|          | 0/41 [00:00<?, ? Samples/s]"
     ]
    },
    {
     "name": "stdout",
     "output_type": "stream",
     "text": [
      "Done\n",
      "Initialised with 1 image(s) found.\n",
      "Output directory set to /root/workspace/Thyroid_Solid_Nodule/data/preprocess/public_aug/tmp/image/16_/output.1 ground truth image(s) found.\n",
      "\n",
      "No./root/workspace/Thyroid_Solid_Nodule/data/preprocess/public/image/16_1.jpg data is being augmented and 41 data will be created\n"
     ]
    },
    {
     "name": "stderr",
     "output_type": "stream",
     "text": [
      "Processing <PIL.Image.Image image mode=RGB size=560x360 at 0x7F02F02C5A58>: 100%|██████████| 41/41 [00:00<00:00, 77.47 Samples/s]                  \n",
      "Executing Pipeline:   0%|          | 0/40 [00:00<?, ? Samples/s]"
     ]
    },
    {
     "name": "stdout",
     "output_type": "stream",
     "text": [
      "Done\n",
      "Initialised with 3 image(s) found.\n",
      "Output directory set to /root/workspace/Thyroid_Solid_Nodule/data/preprocess/public_aug/tmp/image/maligns_551_/output.3 ground truth image(s) found.\n",
      "\n",
      "No./root/workspace/Thyroid_Solid_Nodule/data/preprocess/public/image/maligns_551_1.jpg data is being augmented and 40 data will be created\n"
     ]
    },
    {
     "name": "stderr",
     "output_type": "stream",
     "text": [
      "Processing <PIL.Image.Image image mode=RGB size=560x315 at 0x7F02F02C5198>: 100%|██████████| 40/40 [00:00<00:00, 96.19 Samples/s]\n",
      "Executing Pipeline:   0%|          | 0/46 [00:00<?, ? Samples/s]"
     ]
    },
    {
     "name": "stdout",
     "output_type": "stream",
     "text": [
      "Done\n",
      "Initialised with 2 image(s) found.\n",
      "Output directory set to /root/workspace/Thyroid_Solid_Nodule/data/preprocess/public_aug/tmp/image/183_/output.2 ground truth image(s) found.\n",
      "\n",
      "No./root/workspace/Thyroid_Solid_Nodule/data/preprocess/public/image/183_2.jpg data is being augmented and 46 data will be created\n"
     ]
    },
    {
     "name": "stderr",
     "output_type": "stream",
     "text": [
      "Processing <PIL.Image.Image image mode=RGB size=560x360 at 0x7F02F029FE80>: 100%|██████████| 46/46 [00:00<00:00, 87.81 Samples/s]\n",
      "Executing Pipeline:   0%|          | 0/52 [00:00<?, ? Samples/s]"
     ]
    },
    {
     "name": "stdout",
     "output_type": "stream",
     "text": [
      "Done\n",
      "Initialised with 2 image(s) found.\n",
      "Output directory set to /root/workspace/Thyroid_Solid_Nodule/data/preprocess/public_aug/tmp/image/350_/output.2 ground truth image(s) found.\n",
      "\n",
      "No./root/workspace/Thyroid_Solid_Nodule/data/preprocess/public/image/350_2.jpg data is being augmented and 52 data will be created\n"
     ]
    },
    {
     "name": "stderr",
     "output_type": "stream",
     "text": [
      "Processing <PIL.Image.Image image mode=RGB size=560x360 at 0x7F02F029F7B8>: 100%|██████████| 52/52 [00:00<00:00, 102.21 Samples/s]                 \n",
      "Executing Pipeline:   0%|          | 0/40 [00:00<?, ? Samples/s]"
     ]
    },
    {
     "name": "stdout",
     "output_type": "stream",
     "text": [
      "Done\n",
      "Initialised with 1 image(s) found.\n",
      "Output directory set to /root/workspace/Thyroid_Solid_Nodule/data/preprocess/public_aug/tmp/image/246_/output.1 ground truth image(s) found.\n",
      "\n",
      "No./root/workspace/Thyroid_Solid_Nodule/data/preprocess/public/image/246_1.jpg data is being augmented and 40 data will be created\n"
     ]
    },
    {
     "name": "stderr",
     "output_type": "stream",
     "text": [
      "Processing <PIL.Image.Image image mode=RGB size=560x360 at 0x7F02F02B6438>: 100%|██████████| 40/40 [00:00<00:00, 84.25 Samples/s]\n",
      "Executing Pipeline:   0%|          | 0/60 [00:00<?, ? Samples/s]"
     ]
    },
    {
     "name": "stdout",
     "output_type": "stream",
     "text": [
      "Done\n",
      "Initialised with 1 image(s) found.\n",
      "Output directory set to /root/workspace/Thyroid_Solid_Nodule/data/preprocess/public_aug/tmp/image/240_/output.1 ground truth image(s) found.\n",
      "\n",
      "No./root/workspace/Thyroid_Solid_Nodule/data/preprocess/public/image/240_1.jpg data is being augmented and 60 data will be created\n"
     ]
    },
    {
     "name": "stderr",
     "output_type": "stream",
     "text": [
      "Processing <PIL.Image.Image image mode=RGB size=560x360 at 0x7F02F021BC88>: 100%|██████████| 60/60 [00:00<00:00, 104.17 Samples/s]                 \n",
      "Processing <PIL.Image.Image image mode=RGB size=560x360 at 0x7F02F0247588>:   0%|          | 0/51 [00:00<?, ? Samples/s]"
     ]
    },
    {
     "name": "stdout",
     "output_type": "stream",
     "text": [
      "Done\n",
      "Initialised with 2 image(s) found.\n",
      "Output directory set to /root/workspace/Thyroid_Solid_Nodule/data/preprocess/public_aug/tmp/image/317_/output.2 ground truth image(s) found.\n",
      "\n",
      "No./root/workspace/Thyroid_Solid_Nodule/data/preprocess/public/image/317_2.jpg data is being augmented and 51 data will be created\n"
     ]
    },
    {
     "name": "stderr",
     "output_type": "stream",
     "text": [
      "Processing <PIL.Image.Image image mode=RGB size=560x360 at 0x7F02F02106D8>: 100%|██████████| 51/51 [00:00<00:00, 106.88 Samples/s]                 \n",
      "Processing <PIL.Image.Image image mode=RGB size=560x315 at 0x7F02F021B6D8>:   8%|▊         | 4/50 [00:00<00:06,  7.31 Samples/s]"
     ]
    },
    {
     "name": "stdout",
     "output_type": "stream",
     "text": [
      "Done\n",
      "Initialised with 2 image(s) found.\n",
      "Output directory set to /root/workspace/Thyroid_Solid_Nodule/data/preprocess/public_aug/tmp/image/benigns_575_/output.2 ground truth image(s) found.\n",
      "\n",
      "No./root/workspace/Thyroid_Solid_Nodule/data/preprocess/public/image/benigns_575_2.jpg data is being augmented and 50 data will be created\n"
     ]
    },
    {
     "name": "stderr",
     "output_type": "stream",
     "text": [
      "Processing <PIL.Image.Image image mode=RGB size=560x315 at 0x7F02F021B0B8>: 100%|██████████| 50/50 [00:00<00:00, 107.53 Samples/s]                 \n",
      "Processing <PIL.Image.Image image mode=RGB size=560x360 at 0x7F02F0208E10>:  33%|███▎      | 15/46 [00:00<00:03,  8.87 Samples/s]                  "
     ]
    },
    {
     "name": "stdout",
     "output_type": "stream",
     "text": [
      "Done\n",
      "Initialised with 2 image(s) found.\n",
      "Output directory set to /root/workspace/Thyroid_Solid_Nodule/data/preprocess/public_aug/tmp/image/353_/output.2 ground truth image(s) found.\n",
      "\n",
      "No./root/workspace/Thyroid_Solid_Nodule/data/preprocess/public/image/353_2.jpg data is being augmented and 46 data will be created\n"
     ]
    },
    {
     "name": "stderr",
     "output_type": "stream",
     "text": [
      "Processing <PIL.Image.Image image mode=RGB size=560x360 at 0x7F02F02699E8>: 100%|██████████| 46/46 [00:00<00:00, 118.14 Samples/s]                 \n",
      "Executing Pipeline:   0%|          | 0/56 [00:00<?, ? Samples/s]"
     ]
    },
    {
     "name": "stdout",
     "output_type": "stream",
     "text": [
      "Done\n",
      "Initialised with 1 image(s) found.\n",
      "Output directory set to /root/workspace/Thyroid_Solid_Nodule/data/preprocess/public_aug/tmp/image/maligns_606_/output.1 ground truth image(s) found.\n",
      "\n",
      "No./root/workspace/Thyroid_Solid_Nodule/data/preprocess/public/image/maligns_606_1.jpg data is being augmented and 56 data will be created\n"
     ]
    },
    {
     "name": "stderr",
     "output_type": "stream",
     "text": [
      "Processing <PIL.Image.Image image mode=RGB size=560x315 at 0x7F02F0355F60>: 100%|██████████| 56/56 [00:00<00:00, 93.85 Samples/s]                  \n",
      "Executing Pipeline:   0%|          | 0/57 [00:00<?, ? Samples/s]"
     ]
    },
    {
     "name": "stdout",
     "output_type": "stream",
     "text": [
      "Done\n",
      "Initialised with 1 image(s) found.\n",
      "Output directory set to /root/workspace/Thyroid_Solid_Nodule/data/preprocess/public_aug/tmp/image/304_/output.1 ground truth image(s) found.\n",
      "\n",
      "No./root/workspace/Thyroid_Solid_Nodule/data/preprocess/public/image/304_1.jpg data is being augmented and 57 data will be created\n"
     ]
    },
    {
     "name": "stderr",
     "output_type": "stream",
     "text": [
      "Processing <PIL.Image.Image image mode=RGB size=560x360 at 0x7F02F02475F8>: 100%|██████████| 57/57 [00:00<00:00, 104.25 Samples/s]\n",
      "Executing Pipeline:   0%|          | 0/55 [00:00<?, ? Samples/s]"
     ]
    },
    {
     "name": "stdout",
     "output_type": "stream",
     "text": [
      "Done\n",
      "Initialised with 1 image(s) found.\n",
      "Output directory set to /root/workspace/Thyroid_Solid_Nodule/data/preprocess/public_aug/tmp/image/244_/output.1 ground truth image(s) found.\n",
      "\n",
      "No./root/workspace/Thyroid_Solid_Nodule/data/preprocess/public/image/244_1.jpg data is being augmented and 55 data will be created\n"
     ]
    },
    {
     "name": "stderr",
     "output_type": "stream",
     "text": [
      "Processing <PIL.Image.Image image mode=RGB size=560x360 at 0x7F02F0269C18>: 100%|██████████| 55/55 [00:00<00:00, 90.62 Samples/s]\n",
      "Executing Pipeline:   0%|          | 0/60 [00:00<?, ? Samples/s]"
     ]
    },
    {
     "name": "stdout",
     "output_type": "stream",
     "text": [
      "Done\n",
      "Initialised with 4 image(s) found.\n",
      "Output directory set to /root/workspace/Thyroid_Solid_Nodule/data/preprocess/public_aug/tmp/image/92_/output.4 ground truth image(s) found.\n",
      "\n",
      "No./root/workspace/Thyroid_Solid_Nodule/data/preprocess/public/image/92_3.jpg data is being augmented and 60 data will be created\n"
     ]
    },
    {
     "name": "stderr",
     "output_type": "stream",
     "text": [
      "Processing <PIL.Image.Image image mode=RGB size=560x360 at 0x7F02F02BC2E8>: 100%|██████████| 60/60 [00:00<00:00, 95.57 Samples/s]\n",
      "Executing Pipeline:   0%|          | 0/44 [00:00<?, ? Samples/s]"
     ]
    },
    {
     "name": "stdout",
     "output_type": "stream",
     "text": [
      "Done\n",
      "Initialised with 2 image(s) found.\n",
      "Output directory set to /root/workspace/Thyroid_Solid_Nodule/data/preprocess/public_aug/tmp/image/391_/output.2 ground truth image(s) found.\n",
      "\n",
      "No./root/workspace/Thyroid_Solid_Nodule/data/preprocess/public/image/391_1.jpg data is being augmented and 44 data will be created\n"
     ]
    },
    {
     "name": "stderr",
     "output_type": "stream",
     "text": [
      "Processing <PIL.Image.Image image mode=RGB size=560x360 at 0x7F02F02C5BE0>: 100%|██████████| 44/44 [00:00<00:00, 63.50 Samples/s]                  \n",
      "Processing <PIL.Image.Image image mode=RGB size=560x360 at 0x7F02F0230BE0>:   2%|▏         | 1/46 [00:00<00:07,  6.37 Samples/s]"
     ]
    },
    {
     "name": "stdout",
     "output_type": "stream",
     "text": [
      "Done\n",
      "Initialised with 1 image(s) found.\n",
      "Output directory set to /root/workspace/Thyroid_Solid_Nodule/data/preprocess/public_aug/tmp/image/98_/output.1 ground truth image(s) found.\n",
      "\n",
      "No./root/workspace/Thyroid_Solid_Nodule/data/preprocess/public/image/98_1.jpg data is being augmented and 46 data will be created\n"
     ]
    },
    {
     "name": "stderr",
     "output_type": "stream",
     "text": [
      "Processing <PIL.Image.Image image mode=RGB size=560x360 at 0x7F02F0230908>: 100%|██████████| 46/46 [00:00<00:00, 95.37 Samples/s]                  \n",
      "Executing Pipeline:   0%|          | 0/55 [00:00<?, ? Samples/s]"
     ]
    },
    {
     "name": "stdout",
     "output_type": "stream",
     "text": [
      "Done\n",
      "Initialised with 2 image(s) found.\n",
      "Output directory set to /root/workspace/Thyroid_Solid_Nodule/data/preprocess/public_aug/tmp/image/175_/output.2 ground truth image(s) found.\n",
      "\n",
      "No./root/workspace/Thyroid_Solid_Nodule/data/preprocess/public/image/175_2.jpg data is being augmented and 55 data will be created\n"
     ]
    },
    {
     "name": "stderr",
     "output_type": "stream",
     "text": [
      "Processing <PIL.Image.Image image mode=RGB size=560x360 at 0x7F02F029FF60>: 100%|██████████| 55/55 [00:00<00:00, 106.06 Samples/s]\n",
      "Processing <PIL.Image.Image image mode=RGB size=560x315 at 0x7F02F0217518>:  36%|███▋      | 16/44 [00:00<00:02,  9.80 Samples/s]"
     ]
    },
    {
     "name": "stdout",
     "output_type": "stream",
     "text": [
      "Done\n",
      "Initialised with 2 image(s) found.\n",
      "Output directory set to /root/workspace/Thyroid_Solid_Nodule/data/preprocess/public_aug/tmp/image/maligns_576_/output.2 ground truth image(s) found.\n",
      "\n",
      "No./root/workspace/Thyroid_Solid_Nodule/data/preprocess/public/image/maligns_576_1.jpg data is being augmented and 44 data will be created\n"
     ]
    },
    {
     "name": "stderr",
     "output_type": "stream",
     "text": [
      "Processing <PIL.Image.Image image mode=RGB size=560x315 at 0x7F02F02BCB70>: 100%|██████████| 44/44 [00:00<00:00, 128.45 Samples/s]\n",
      "Executing Pipeline:   0%|          | 0/44 [00:00<?, ? Samples/s]"
     ]
    },
    {
     "name": "stdout",
     "output_type": "stream",
     "text": [
      "Done\n",
      "Initialised with 2 image(s) found.\n",
      "Output directory set to /root/workspace/Thyroid_Solid_Nodule/data/preprocess/public_aug/tmp/image/338_/output.2 ground truth image(s) found.\n",
      "\n",
      "No./root/workspace/Thyroid_Solid_Nodule/data/preprocess/public/image/338_2.jpg data is being augmented and 44 data will be created\n"
     ]
    },
    {
     "name": "stderr",
     "output_type": "stream",
     "text": [
      "Processing <PIL.Image.Image image mode=RGB size=560x360 at 0x7F02F021BEF0>: 100%|██████████| 44/44 [00:00<00:00, 93.15 Samples/s]                  \n",
      "Executing Pipeline:   0%|          | 0/55 [00:00<?, ? Samples/s]"
     ]
    },
    {
     "name": "stdout",
     "output_type": "stream",
     "text": [
      "Done\n",
      "Initialised with 1 image(s) found.\n",
      "Output directory set to /root/workspace/Thyroid_Solid_Nodule/data/preprocess/public_aug/tmp/image/288_/output.1 ground truth image(s) found.\n",
      "\n",
      "No./root/workspace/Thyroid_Solid_Nodule/data/preprocess/public/image/288_1.jpg data is being augmented and 55 data will be created\n"
     ]
    },
    {
     "name": "stderr",
     "output_type": "stream",
     "text": [
      "Processing <PIL.Image.Image image mode=RGB size=560x360 at 0x7F02F02BC748>: 100%|██████████| 55/55 [00:00<00:00, 88.40 Samples/s]                 \n",
      "Processing <PIL.Image.Image image mode=RGB size=560x315 at 0x7F02F02697F0>:   6%|▌         | 3/54 [00:00<00:07,  6.73 Samples/s]"
     ]
    },
    {
     "name": "stdout",
     "output_type": "stream",
     "text": [
      "Done\n",
      "Initialised with 1 image(s) found.\n",
      "Output directory set to /root/workspace/Thyroid_Solid_Nodule/data/preprocess/public_aug/tmp/image/maligns_613_/output.1 ground truth image(s) found.\n",
      "\n",
      "No./root/workspace/Thyroid_Solid_Nodule/data/preprocess/public/image/maligns_613_1.jpg data is being augmented and 54 data will be created\n"
     ]
    },
    {
     "name": "stderr",
     "output_type": "stream",
     "text": [
      "Processing <PIL.Image.Image image mode=RGB size=560x315 at 0x7F02F0269780>: 100%|██████████| 54/54 [00:00<00:00, 115.09 Samples/s]                 \n",
      "Executing Pipeline:   0%|          | 0/60 [00:00<?, ? Samples/s]"
     ]
    },
    {
     "name": "stdout",
     "output_type": "stream",
     "text": [
      "Done\n",
      "Initialised with 5 image(s) found.\n",
      "Output directory set to /root/workspace/Thyroid_Solid_Nodule/data/preprocess/public_aug/tmp/image/maligns_564_/output.5 ground truth image(s) found.\n",
      "\n",
      "No./root/workspace/Thyroid_Solid_Nodule/data/preprocess/public/image/maligns_564_5.jpg data is being augmented and 60 data will be created\n"
     ]
    },
    {
     "name": "stderr",
     "output_type": "stream",
     "text": [
      "Processing <PIL.Image.Image image mode=RGB size=560x315 at 0x7F02F029F7B8>: 100%|██████████| 60/60 [00:00<00:00, 113.87 Samples/s]                 \n",
      "Processing <PIL.Image.Image image mode=RGB size=560x360 at 0x7F02F022B438>:   2%|▏         | 1/55 [00:00<00:07,  6.97 Samples/s]"
     ]
    },
    {
     "name": "stdout",
     "output_type": "stream",
     "text": [
      "Done\n",
      "Initialised with 1 image(s) found.\n",
      "Output directory set to /root/workspace/Thyroid_Solid_Nodule/data/preprocess/public_aug/tmp/image/306_/output.1 ground truth image(s) found.\n",
      "\n",
      "No./root/workspace/Thyroid_Solid_Nodule/data/preprocess/public/image/306_1.jpg data is being augmented and 55 data will be created\n"
     ]
    },
    {
     "name": "stderr",
     "output_type": "stream",
     "text": [
      "Processing <PIL.Image.Image image mode=RGB size=560x360 at 0x7F02F0217B38>: 100%|██████████| 55/55 [00:00<00:00, 115.72 Samples/s]                \n",
      "Executing Pipeline:   0%|          | 0/47 [00:00<?, ? Samples/s]"
     ]
    },
    {
     "name": "stdout",
     "output_type": "stream",
     "text": [
      "Done\n",
      "Initialised with 1 image(s) found.\n",
      "Output directory set to /root/workspace/Thyroid_Solid_Nodule/data/preprocess/public_aug/tmp/image/344_/output.1 ground truth image(s) found.\n",
      "\n",
      "No./root/workspace/Thyroid_Solid_Nodule/data/preprocess/public/image/344_1.jpg data is being augmented and 47 data will be created\n"
     ]
    },
    {
     "name": "stderr",
     "output_type": "stream",
     "text": [
      "Processing <PIL.Image.Image image mode=RGB size=560x360 at 0x7F02F0217A58>: 100%|██████████| 47/47 [00:00<00:00, 99.36 Samples/s]                  \n",
      "Executing Pipeline:   0%|          | 0/56 [00:00<?, ? Samples/s]"
     ]
    },
    {
     "name": "stdout",
     "output_type": "stream",
     "text": [
      "Done\n",
      "Initialised with 1 image(s) found.\n",
      "Output directory set to /root/workspace/Thyroid_Solid_Nodule/data/preprocess/public_aug/tmp/image/149_/output.1 ground truth image(s) found.\n",
      "\n",
      "No./root/workspace/Thyroid_Solid_Nodule/data/preprocess/public/image/149_1.jpg data is being augmented and 56 data will be created\n"
     ]
    },
    {
     "name": "stderr",
     "output_type": "stream",
     "text": [
      "Processing <PIL.Image.Image image mode=RGB size=560x360 at 0x7F02F029F5C0>: 100%|██████████| 56/56 [00:00<00:00, 99.73 Samples/s]\n",
      "Executing Pipeline:   0%|          | 0/51 [00:00<?, ? Samples/s]"
     ]
    },
    {
     "name": "stdout",
     "output_type": "stream",
     "text": [
      "Done\n",
      "Initialised with 1 image(s) found.\n",
      "Output directory set to /root/workspace/Thyroid_Solid_Nodule/data/preprocess/public_aug/tmp/image/396_/output.1 ground truth image(s) found.\n",
      "\n",
      "No./root/workspace/Thyroid_Solid_Nodule/data/preprocess/public/image/396_1.jpg data is being augmented and 51 data will be created\n"
     ]
    },
    {
     "name": "stderr",
     "output_type": "stream",
     "text": [
      "Processing <PIL.Image.Image image mode=RGB size=560x360 at 0x7F02F0269278>: 100%|██████████| 51/51 [00:00<00:00, 92.03 Samples/s]\n",
      "Processing <PIL.JpegImagePlugin.JpegImageFile image mode=RGB size=560x360 at 0x7F02F022B0B8>:   2%|▏         | 1/44 [00:00<00:05,  8.00 Samples/s]"
     ]
    },
    {
     "name": "stdout",
     "output_type": "stream",
     "text": [
      "Done\n",
      "Initialised with 1 image(s) found.\n",
      "Output directory set to /root/workspace/Thyroid_Solid_Nodule/data/preprocess/public_aug/tmp/image/164_/output.1 ground truth image(s) found.\n",
      "\n",
      "No./root/workspace/Thyroid_Solid_Nodule/data/preprocess/public/image/164_1.jpg data is being augmented and 44 data will be created\n"
     ]
    },
    {
     "name": "stderr",
     "output_type": "stream",
     "text": [
      "Processing <PIL.Image.Image image mode=RGB size=560x360 at 0x7F02F0208F98>: 100%|██████████| 44/44 [00:00<00:00, 99.77 Samples/s]                  \n",
      "Executing Pipeline:   0%|          | 0/52 [00:00<?, ? Samples/s]"
     ]
    },
    {
     "name": "stdout",
     "output_type": "stream",
     "text": [
      "Done\n",
      "Initialised with 1 image(s) found.\n",
      "Output directory set to /root/workspace/Thyroid_Solid_Nodule/data/preprocess/public_aug/tmp/image/20_/output.1 ground truth image(s) found.\n",
      "\n",
      "No./root/workspace/Thyroid_Solid_Nodule/data/preprocess/public/image/20_1.jpg data is being augmented and 52 data will be created\n"
     ]
    },
    {
     "name": "stderr",
     "output_type": "stream",
     "text": [
      "Processing <PIL.Image.Image image mode=RGB size=560x360 at 0x7F02F021B710>: 100%|██████████| 52/52 [00:00<00:00, 106.19 Samples/s]                 \n",
      "Processing <PIL.Image.Image image mode=RGB size=560x360 at 0x7F02F0208048>:   8%|▊         | 4/51 [00:00<00:07,  6.26 Samples/s]"
     ]
    },
    {
     "name": "stdout",
     "output_type": "stream",
     "text": [
      "Done\n",
      "Initialised with 2 image(s) found.\n",
      "Output directory set to /root/workspace/Thyroid_Solid_Nodule/data/preprocess/public_aug/tmp/image/146_/output.2 ground truth image(s) found.\n",
      "\n",
      "No./root/workspace/Thyroid_Solid_Nodule/data/preprocess/public/image/146_2.jpg data is being augmented and 51 data will be created\n"
     ]
    },
    {
     "name": "stderr",
     "output_type": "stream",
     "text": [
      "Processing <PIL.Image.Image image mode=RGB size=560x360 at 0x7F02F0210B70>: 100%|██████████| 51/51 [00:00<00:00, 108.64 Samples/s]                 \n",
      "Processing <PIL.Image.Image image mode=RGB size=560x360 at 0x7F02F0247400>:   5%|▍         | 2/42 [00:00<00:05,  7.69 Samples/s]"
     ]
    },
    {
     "name": "stdout",
     "output_type": "stream",
     "text": [
      "Done\n",
      "Initialised with 1 image(s) found.\n",
      "Output directory set to /root/workspace/Thyroid_Solid_Nodule/data/preprocess/public_aug/tmp/image/390_/output.1 ground truth image(s) found.\n",
      "\n",
      "No./root/workspace/Thyroid_Solid_Nodule/data/preprocess/public/image/390_1.jpg data is being augmented and 42 data will be created\n"
     ]
    },
    {
     "name": "stderr",
     "output_type": "stream",
     "text": [
      "Processing <PIL.JpegImagePlugin.JpegImageFile image mode=RGB size=560x360 at 0x7F02F021B9B0>: 100%|██████████| 42/42 [00:00<00:00, 136.47 Samples/s]\n",
      "Executing Pipeline:   0%|          | 0/58 [00:00<?, ? Samples/s]"
     ]
    },
    {
     "name": "stdout",
     "output_type": "stream",
     "text": [
      "Done\n",
      "Initialised with 1 image(s) found.\n",
      "Output directory set to /root/workspace/Thyroid_Solid_Nodule/data/preprocess/public_aug/tmp/image/50_/output.1 ground truth image(s) found.\n",
      "\n",
      "No./root/workspace/Thyroid_Solid_Nodule/data/preprocess/public/image/50_1.jpg data is being augmented and 58 data will be created\n"
     ]
    },
    {
     "name": "stderr",
     "output_type": "stream",
     "text": [
      "Processing <PIL.Image.Image image mode=RGB size=560x360 at 0x7F02F02BC160>: 100%|██████████| 58/58 [00:00<00:00, 93.17 Samples/s]                  \n",
      "Processing <PIL.Image.Image image mode=RGB size=560x360 at 0x7F02F023D2B0>:   2%|▎         | 1/40 [00:00<00:06,  5.86 Samples/s]"
     ]
    },
    {
     "name": "stdout",
     "output_type": "stream",
     "text": [
      "Done\n",
      "Initialised with 1 image(s) found.\n",
      "Output directory set to /root/workspace/Thyroid_Solid_Nodule/data/preprocess/public_aug/tmp/image/232_/output.1 ground truth image(s) found.\n",
      "\n",
      "No./root/workspace/Thyroid_Solid_Nodule/data/preprocess/public/image/232_1.jpg data is being augmented and 40 data will be created\n"
     ]
    },
    {
     "name": "stderr",
     "output_type": "stream",
     "text": [
      "Processing <PIL.Image.Image image mode=RGB size=560x360 at 0x7F02F0210550>: 100%|██████████| 40/40 [00:00<00:00, 77.20 Samples/s]                  \n",
      "Executing Pipeline:   0%|          | 0/59 [00:00<?, ? Samples/s]"
     ]
    },
    {
     "name": "stdout",
     "output_type": "stream",
     "text": [
      "Done\n",
      "Initialised with 1 image(s) found.\n",
      "Output directory set to /root/workspace/Thyroid_Solid_Nodule/data/preprocess/public_aug/tmp/image/219_/output.1 ground truth image(s) found.\n",
      "\n",
      "No./root/workspace/Thyroid_Solid_Nodule/data/preprocess/public/image/219_1.jpg data is being augmented and 59 data will be created\n"
     ]
    },
    {
     "name": "stderr",
     "output_type": "stream",
     "text": [
      "Processing <PIL.Image.Image image mode=RGB size=560x360 at 0x7F02F02BC0F0>: 100%|██████████| 59/59 [00:00<00:00, 96.67 Samples/s]                  \n",
      "Executing Pipeline:   0%|          | 0/51 [00:00<?, ? Samples/s]"
     ]
    },
    {
     "name": "stdout",
     "output_type": "stream",
     "text": [
      "Done\n",
      "Initialised with 2 image(s) found.\n",
      "Output directory set to /root/workspace/Thyroid_Solid_Nodule/data/preprocess/public_aug/tmp/image/395_/output.2 ground truth image(s) found.\n",
      "\n",
      "No./root/workspace/Thyroid_Solid_Nodule/data/preprocess/public/image/395_2.jpg data is being augmented and 51 data will be created\n"
     ]
    },
    {
     "name": "stderr",
     "output_type": "stream",
     "text": [
      "Processing <PIL.Image.Image image mode=RGB size=560x360 at 0x7F02F0208A58>: 100%|██████████| 51/51 [00:00<00:00, 92.84 Samples/s]                 \n",
      "Executing Pipeline:   0%|          | 0/53 [00:00<?, ? Samples/s]"
     ]
    },
    {
     "name": "stdout",
     "output_type": "stream",
     "text": [
      "Done\n",
      "Initialised with 1 image(s) found.\n",
      "Output directory set to /root/workspace/Thyroid_Solid_Nodule/data/preprocess/public_aug/tmp/image/72_/output.1 ground truth image(s) found.\n",
      "\n",
      "No./root/workspace/Thyroid_Solid_Nodule/data/preprocess/public/image/72_1.jpg data is being augmented and 53 data will be created\n"
     ]
    },
    {
     "name": "stderr",
     "output_type": "stream",
     "text": [
      "Processing <PIL.Image.Image image mode=RGB size=560x360 at 0x7F02F02BCC18>: 100%|██████████| 53/53 [00:00<00:00, 93.80 Samples/s]                  \n",
      "Executing Pipeline:   0%|          | 0/52 [00:00<?, ? Samples/s]"
     ]
    },
    {
     "name": "stdout",
     "output_type": "stream",
     "text": [
      "Done\n",
      "Initialised with 2 image(s) found.\n",
      "Output directory set to /root/workspace/Thyroid_Solid_Nodule/data/preprocess/public_aug/tmp/image/373_/output.2 ground truth image(s) found.\n",
      "\n",
      "No./root/workspace/Thyroid_Solid_Nodule/data/preprocess/public/image/373_1.jpg data is being augmented and 52 data will be created\n"
     ]
    },
    {
     "name": "stderr",
     "output_type": "stream",
     "text": [
      "Processing <PIL.Image.Image image mode=RGB size=560x360 at 0x7F02F02BC1D0>: 100%|██████████| 52/52 [00:00<00:00, 87.25 Samples/s]                  \n",
      "Executing Pipeline:   0%|          | 0/49 [00:00<?, ? Samples/s]"
     ]
    },
    {
     "name": "stdout",
     "output_type": "stream",
     "text": [
      "Done\n",
      "Initialised with 1 image(s) found.\n",
      "Output directory set to /root/workspace/Thyroid_Solid_Nodule/data/preprocess/public_aug/tmp/image/363_/output.1 ground truth image(s) found.\n",
      "\n",
      "No./root/workspace/Thyroid_Solid_Nodule/data/preprocess/public/image/363_1.jpg data is being augmented and 49 data will be created\n"
     ]
    },
    {
     "name": "stderr",
     "output_type": "stream",
     "text": [
      "Processing <PIL.Image.Image image mode=RGB size=560x360 at 0x7F02F0228710>: 100%|██████████| 49/49 [00:00<00:00, 75.85 Samples/s]                  \n",
      "Processing <PIL.Image.Image image mode=RGB size=560x360 at 0x7F02F022B9E8>:  12%|█▎        | 6/48 [00:00<00:06,  6.46 Samples/s]                  "
     ]
    },
    {
     "name": "stdout",
     "output_type": "stream",
     "text": [
      "Done\n",
      "Initialised with 3 image(s) found.\n",
      "Output directory set to /root/workspace/Thyroid_Solid_Nodule/data/preprocess/public_aug/tmp/image/210_/output.3 ground truth image(s) found.\n",
      "\n",
      "No./root/workspace/Thyroid_Solid_Nodule/data/preprocess/public/image/210_1.jpg data is being augmented and 48 data will be created\n"
     ]
    },
    {
     "name": "stderr",
     "output_type": "stream",
     "text": [
      "Processing <PIL.Image.Image image mode=RGB size=560x360 at 0x7F02F0228208>: 100%|██████████| 48/48 [00:00<00:00, 104.41 Samples/s]\n",
      "Processing <PIL.Image.Image image mode=RGB size=560x360 at 0x7F02F01CB0F0>:   0%|          | 0/53 [00:00<?, ? Samples/s]"
     ]
    },
    {
     "name": "stdout",
     "output_type": "stream",
     "text": [
      "Done\n",
      "Initialised with 3 image(s) found.\n",
      "Output directory set to /root/workspace/Thyroid_Solid_Nodule/data/preprocess/public_aug/tmp/image/139_/output.3 ground truth image(s) found.\n",
      "\n",
      "No./root/workspace/Thyroid_Solid_Nodule/data/preprocess/public/image/139_2.jpg data is being augmented and 53 data will be created\n"
     ]
    },
    {
     "name": "stderr",
     "output_type": "stream",
     "text": [
      "Processing <PIL.Image.Image image mode=RGB size=560x360 at 0x7F02F0243B38>: 100%|██████████| 53/53 [00:00<00:00, 107.73 Samples/s]                 \n",
      "Processing <PIL.Image.Image image mode=RGB size=560x360 at 0x7F02F02BC240>:   0%|          | 0/57 [00:00<?, ? Samples/s]"
     ]
    },
    {
     "name": "stdout",
     "output_type": "stream",
     "text": [
      "Done\n",
      "Initialised with 1 image(s) found.\n",
      "Output directory set to /root/workspace/Thyroid_Solid_Nodule/data/preprocess/public_aug/tmp/image/110_/output.1 ground truth image(s) found.\n",
      "\n",
      "No./root/workspace/Thyroid_Solid_Nodule/data/preprocess/public/image/110_1.jpg data is being augmented and 57 data will be created\n"
     ]
    },
    {
     "name": "stderr",
     "output_type": "stream",
     "text": [
      "Processing <PIL.Image.Image image mode=RGB size=560x360 at 0x7F02F02BC5C0>: 100%|██████████| 57/57 [00:00<00:00, 144.22 Samples/s]                 \n",
      "Executing Pipeline:   0%|          | 0/43 [00:00<?, ? Samples/s]"
     ]
    },
    {
     "name": "stdout",
     "output_type": "stream",
     "text": [
      "Done\n",
      "Initialised with 1 image(s) found.\n",
      "Output directory set to /root/workspace/Thyroid_Solid_Nodule/data/preprocess/public_aug/tmp/image/272_/output.1 ground truth image(s) found.\n",
      "\n",
      "No./root/workspace/Thyroid_Solid_Nodule/data/preprocess/public/image/272_1.jpg data is being augmented and 43 data will be created\n"
     ]
    },
    {
     "name": "stderr",
     "output_type": "stream",
     "text": [
      "Processing <PIL.Image.Image image mode=RGB size=560x360 at 0x7F02F0210CC0>: 100%|██████████| 43/43 [00:00<00:00, 83.84 Samples/s]                  \n",
      "Processing <PIL.Image.Image image mode=RGB size=560x360 at 0x7F02F0230908>:   0%|          | 0/45 [00:00<?, ? Samples/s]"
     ]
    },
    {
     "name": "stdout",
     "output_type": "stream",
     "text": [
      "Done\n",
      "Initialised with 1 image(s) found.\n",
      "Output directory set to /root/workspace/Thyroid_Solid_Nodule/data/preprocess/public_aug/tmp/image/273_/output.1 ground truth image(s) found.\n",
      "\n",
      "No./root/workspace/Thyroid_Solid_Nodule/data/preprocess/public/image/273_1.jpg data is being augmented and 45 data will be created\n"
     ]
    },
    {
     "name": "stderr",
     "output_type": "stream",
     "text": [
      "Processing <PIL.Image.Image image mode=RGB size=560x360 at 0x7F02F0208588>: 100%|██████████| 45/45 [00:00<00:00, 112.75 Samples/s]\n",
      "Executing Pipeline:   0%|          | 0/60 [00:00<?, ? Samples/s]"
     ]
    },
    {
     "name": "stdout",
     "output_type": "stream",
     "text": [
      "Done\n",
      "Initialised with 4 image(s) found.\n",
      "Output directory set to /root/workspace/Thyroid_Solid_Nodule/data/preprocess/public_aug/tmp/image/106_/output.4 ground truth image(s) found.\n",
      "\n",
      "No./root/workspace/Thyroid_Solid_Nodule/data/preprocess/public/image/106_1.jpg data is being augmented and 60 data will be created\n"
     ]
    },
    {
     "name": "stderr",
     "output_type": "stream",
     "text": [
      "Processing <PIL.Image.Image image mode=RGB size=560x360 at 0x7F02F01CC6D8>: 100%|██████████| 60/60 [00:00<00:00, 102.16 Samples/s]                \n",
      "Executing Pipeline:   0%|          | 0/43 [00:00<?, ? Samples/s]"
     ]
    },
    {
     "name": "stdout",
     "output_type": "stream",
     "text": [
      "Done\n",
      "Initialised with 1 image(s) found.\n",
      "Output directory set to /root/workspace/Thyroid_Solid_Nodule/data/preprocess/public_aug/tmp/image/289_/output.1 ground truth image(s) found.\n",
      "\n",
      "No./root/workspace/Thyroid_Solid_Nodule/data/preprocess/public/image/289_1.jpg data is being augmented and 43 data will be created\n"
     ]
    },
    {
     "name": "stderr",
     "output_type": "stream",
     "text": [
      "Processing <PIL.Image.Image image mode=RGB size=560x360 at 0x7F02F02BCD30>: 100%|██████████| 43/43 [00:00<00:00, 80.82 Samples/s]\n",
      "Executing Pipeline:   0%|          | 0/56 [00:00<?, ? Samples/s]"
     ]
    },
    {
     "name": "stdout",
     "output_type": "stream",
     "text": [
      "Done\n",
      "Initialised with 2 image(s) found.\n",
      "Output directory set to /root/workspace/Thyroid_Solid_Nodule/data/preprocess/public_aug/tmp/image/maligns_561_/output.2 ground truth image(s) found.\n",
      "\n",
      "No./root/workspace/Thyroid_Solid_Nodule/data/preprocess/public/image/maligns_561_1.jpg data is being augmented and 56 data will be created\n"
     ]
    },
    {
     "name": "stderr",
     "output_type": "stream",
     "text": [
      "Processing <PIL.Image.Image image mode=RGB size=560x315 at 0x7F02F021B438>: 100%|██████████| 56/56 [00:00<00:00, 103.98 Samples/s]                 \n",
      "Executing Pipeline:   0%|          | 0/59 [00:00<?, ? Samples/s]"
     ]
    },
    {
     "name": "stdout",
     "output_type": "stream",
     "text": [
      "Done\n",
      "Initialised with 5 image(s) found.\n",
      "Output directory set to /root/workspace/Thyroid_Solid_Nodule/data/preprocess/public_aug/tmp/image/296_/output.5 ground truth image(s) found.\n",
      "\n",
      "No./root/workspace/Thyroid_Solid_Nodule/data/preprocess/public/image/296_2.jpg data is being augmented and 59 data will be created\n"
     ]
    },
    {
     "name": "stderr",
     "output_type": "stream",
     "text": [
      "Processing <PIL.Image.Image image mode=RGB size=560x360 at 0x7F02F02BC1D0>: 100%|██████████| 59/59 [00:00<00:00, 101.90 Samples/s]\n",
      "Executing Pipeline:   0%|          | 0/55 [00:00<?, ? Samples/s]"
     ]
    },
    {
     "name": "stdout",
     "output_type": "stream",
     "text": [
      "Done\n",
      "Initialised with 2 image(s) found.\n",
      "Output directory set to /root/workspace/Thyroid_Solid_Nodule/data/preprocess/public_aug/tmp/image/335_/output.2 ground truth image(s) found.\n",
      "\n",
      "No./root/workspace/Thyroid_Solid_Nodule/data/preprocess/public/image/335_2.jpg data is being augmented and 55 data will be created\n"
     ]
    },
    {
     "name": "stderr",
     "output_type": "stream",
     "text": [
      "Processing <PIL.Image.Image image mode=RGB size=560x360 at 0x7F02F0269C18>: 100%|██████████| 55/55 [00:00<00:00, 77.82 Samples/s]                  \n",
      "Executing Pipeline:   0%|          | 0/49 [00:00<?, ? Samples/s]"
     ]
    },
    {
     "name": "stdout",
     "output_type": "stream",
     "text": [
      "Done\n",
      "Initialised with 1 image(s) found.\n",
      "Output directory set to /root/workspace/Thyroid_Solid_Nodule/data/preprocess/public_aug/tmp/image/380_/output.1 ground truth image(s) found.\n",
      "\n",
      "No./root/workspace/Thyroid_Solid_Nodule/data/preprocess/public/image/380_1.jpg data is being augmented and 49 data will be created\n"
     ]
    },
    {
     "name": "stderr",
     "output_type": "stream",
     "text": [
      "Processing <PIL.Image.Image image mode=RGB size=560x360 at 0x7F02F023D7F0>: 100%|██████████| 49/49 [00:00<00:00, 83.39 Samples/s]                  \n",
      "Executing Pipeline:   0%|          | 0/60 [00:00<?, ? Samples/s]"
     ]
    },
    {
     "name": "stdout",
     "output_type": "stream",
     "text": [
      "Done\n",
      "Initialised with 2 image(s) found.\n",
      "Output directory set to /root/workspace/Thyroid_Solid_Nodule/data/preprocess/public_aug/tmp/image/62_/output.2 ground truth image(s) found.\n",
      "\n",
      "No./root/workspace/Thyroid_Solid_Nodule/data/preprocess/public/image/62_1.jpg data is being augmented and 60 data will be created\n"
     ]
    },
    {
     "name": "stderr",
     "output_type": "stream",
     "text": [
      "Processing <PIL.Image.Image image mode=RGB size=560x360 at 0x7F02F01DB358>: 100%|██████████| 60/60 [00:00<00:00, 100.14 Samples/s]                \n",
      "Executing Pipeline:   0%|          | 0/59 [00:00<?, ? Samples/s]"
     ]
    },
    {
     "name": "stdout",
     "output_type": "stream",
     "text": [
      "Done\n",
      "Initialised with 4 image(s) found.\n",
      "Output directory set to /root/workspace/Thyroid_Solid_Nodule/data/preprocess/public_aug/tmp/image/106_/output.4 ground truth image(s) found.\n",
      "\n",
      "No./root/workspace/Thyroid_Solid_Nodule/data/preprocess/public/image/106_2.jpg data is being augmented and 59 data will be created\n"
     ]
    },
    {
     "name": "stderr",
     "output_type": "stream",
     "text": [
      "Processing <PIL.Image.Image image mode=RGB size=560x360 at 0x7F02F022B358>: 100%|██████████| 59/59 [00:00<00:00, 101.65 Samples/s]                 \n",
      "Processing <PIL.Image.Image image mode=RGB size=560x360 at 0x7F02F02300F0>:   0%|          | 0/48 [00:00<?, ? Samples/s]"
     ]
    },
    {
     "name": "stdout",
     "output_type": "stream",
     "text": [
      "Done\n",
      "Initialised with 1 image(s) found.\n",
      "Output directory set to /root/workspace/Thyroid_Solid_Nodule/data/preprocess/public_aug/tmp/image/152_/output.1 ground truth image(s) found.\n",
      "\n",
      "No./root/workspace/Thyroid_Solid_Nodule/data/preprocess/public/image/152_1.jpg data is being augmented and 48 data will be created\n"
     ]
    },
    {
     "name": "stderr",
     "output_type": "stream",
     "text": [
      "Processing <PIL.Image.Image image mode=RGB size=560x360 at 0x7F02F0225080>: 100%|██████████| 48/48 [00:00<00:00, 95.39 Samples/s]                  \n",
      "Executing Pipeline:   0%|          | 0/40 [00:00<?, ? Samples/s]"
     ]
    },
    {
     "name": "stdout",
     "output_type": "stream",
     "text": [
      "Done\n",
      "Initialised with 2 image(s) found.\n",
      "Output directory set to /root/workspace/Thyroid_Solid_Nodule/data/preprocess/public_aug/tmp/image/233_/output.2 ground truth image(s) found.\n",
      "\n",
      "No./root/workspace/Thyroid_Solid_Nodule/data/preprocess/public/image/233_1.jpg data is being augmented and 40 data will be created\n"
     ]
    },
    {
     "name": "stderr",
     "output_type": "stream",
     "text": [
      "Processing <PIL.Image.Image image mode=RGB size=560x360 at 0x7F02F0228EF0>: 100%|██████████| 40/40 [00:00<00:00, 94.84 Samples/s]                 \n",
      "Executing Pipeline:   0%|          | 0/59 [00:00<?, ? Samples/s]"
     ]
    },
    {
     "name": "stdout",
     "output_type": "stream",
     "text": [
      "Done\n",
      "Initialised with 1 image(s) found.\n",
      "Output directory set to /root/workspace/Thyroid_Solid_Nodule/data/preprocess/public_aug/tmp/image/249_/output.1 ground truth image(s) found.\n",
      "\n",
      "No./root/workspace/Thyroid_Solid_Nodule/data/preprocess/public/image/249_1.jpg data is being augmented and 59 data will be created\n"
     ]
    },
    {
     "name": "stderr",
     "output_type": "stream",
     "text": [
      "Processing <PIL.Image.Image image mode=RGB size=560x360 at 0x7F02F022BCC0>: 100%|██████████| 59/59 [00:00<00:00, 101.48 Samples/s]                 \n",
      "Executing Pipeline:   0%|          | 0/48 [00:00<?, ? Samples/s]"
     ]
    },
    {
     "name": "stdout",
     "output_type": "stream",
     "text": [
      "Done\n",
      "Initialised with 1 image(s) found.\n",
      "Output directory set to /root/workspace/Thyroid_Solid_Nodule/data/preprocess/public_aug/tmp/image/74_/output.1 ground truth image(s) found.\n",
      "\n",
      "No./root/workspace/Thyroid_Solid_Nodule/data/preprocess/public/image/74_1.jpg data is being augmented and 48 data will be created\n"
     ]
    },
    {
     "name": "stderr",
     "output_type": "stream",
     "text": [
      "Processing <PIL.Image.Image image mode=RGB size=560x360 at 0x7F02F0228390>: 100%|██████████| 48/48 [00:00<00:00, 79.89 Samples/s]                 \n",
      "Executing Pipeline:   0%|          | 0/49 [00:00<?, ? Samples/s]"
     ]
    },
    {
     "name": "stdout",
     "output_type": "stream",
     "text": [
      "Done\n",
      "Initialised with 2 image(s) found.\n",
      "Output directory set to /root/workspace/Thyroid_Solid_Nodule/data/preprocess/public_aug/tmp/image/347_/output.2 ground truth image(s) found.\n",
      "\n",
      "No./root/workspace/Thyroid_Solid_Nodule/data/preprocess/public/image/347_1.jpg data is being augmented and 49 data will be created\n"
     ]
    },
    {
     "name": "stderr",
     "output_type": "stream",
     "text": [
      "Processing <PIL.Image.Image image mode=RGB size=560x360 at 0x7F02F0230A90>: 100%|██████████| 49/49 [00:00<00:00, 66.49 Samples/s]\n",
      "Executing Pipeline:   0%|          | 0/54 [00:00<?, ? Samples/s]"
     ]
    },
    {
     "name": "stdout",
     "output_type": "stream",
     "text": [
      "Done\n",
      "Initialised with 2 image(s) found.\n",
      "Output directory set to /root/workspace/Thyroid_Solid_Nodule/data/preprocess/public_aug/tmp/image/330_/output.2 ground truth image(s) found.\n",
      "\n",
      "No./root/workspace/Thyroid_Solid_Nodule/data/preprocess/public/image/330_1.jpg data is being augmented and 54 data will be created\n"
     ]
    },
    {
     "name": "stderr",
     "output_type": "stream",
     "text": [
      "Processing <PIL.Image.Image image mode=RGB size=560x360 at 0x7F02F02280B8>: 100%|██████████| 54/54 [00:00<00:00, 96.60 Samples/s]                  \n",
      "Processing <PIL.Image.Image image mode=RGB size=560x315 at 0x7F02F0210C18>:   0%|          | 0/48 [00:00<?, ? Samples/s]"
     ]
    },
    {
     "name": "stdout",
     "output_type": "stream",
     "text": [
      "Done\n",
      "Initialised with 1 image(s) found.\n",
      "Output directory set to /root/workspace/Thyroid_Solid_Nodule/data/preprocess/public_aug/tmp/image/benigns_600_/output.1 ground truth image(s) found.\n",
      "\n",
      "No./root/workspace/Thyroid_Solid_Nodule/data/preprocess/public/image/benigns_600_1.jpg data is being augmented and 48 data will be created\n"
     ]
    },
    {
     "name": "stderr",
     "output_type": "stream",
     "text": [
      "Processing <PIL.Image.Image image mode=RGB size=560x315 at 0x7F02F0208DD8>: 100%|██████████| 48/48 [00:00<00:00, 103.27 Samples/s]                 \n",
      "Executing Pipeline:   0%|          | 0/56 [00:00<?, ? Samples/s]"
     ]
    },
    {
     "name": "stdout",
     "output_type": "stream",
     "text": [
      "Done\n",
      "Initialised with 2 image(s) found.\n",
      "Output directory set to /root/workspace/Thyroid_Solid_Nodule/data/preprocess/public_aug/tmp/image/173_/output.2 ground truth image(s) found.\n",
      "\n",
      "No./root/workspace/Thyroid_Solid_Nodule/data/preprocess/public/image/173_1.jpg data is being augmented and 56 data will be created\n"
     ]
    },
    {
     "name": "stderr",
     "output_type": "stream",
     "text": [
      "Processing <PIL.Image.Image image mode=RGB size=560x360 at 0x7F02F01E00B8>: 100%|██████████| 56/56 [00:00<00:00, 96.13 Samples/s]                  \n",
      "Processing <PIL.Image.Image image mode=RGB size=560x360 at 0x7F02F02284A8>:   2%|▏         | 1/47 [00:00<00:07,  6.29 Samples/s]"
     ]
    },
    {
     "name": "stdout",
     "output_type": "stream",
     "text": [
      "Done\n",
      "Initialised with 1 image(s) found.\n",
      "Output directory set to /root/workspace/Thyroid_Solid_Nodule/data/preprocess/public_aug/tmp/image/307_/output.1 ground truth image(s) found.\n",
      "\n",
      "No./root/workspace/Thyroid_Solid_Nodule/data/preprocess/public/image/307_1.jpg data is being augmented and 47 data will be created\n"
     ]
    },
    {
     "name": "stderr",
     "output_type": "stream",
     "text": [
      "Processing <PIL.Image.Image image mode=RGB size=560x360 at 0x7F02F01E0CF8>: 100%|██████████| 47/47 [00:00<00:00, 92.03 Samples/s]                  \n",
      "Executing Pipeline:   0%|          | 0/56 [00:00<?, ? Samples/s]"
     ]
    },
    {
     "name": "stdout",
     "output_type": "stream",
     "text": [
      "Done\n",
      "Initialised with 1 image(s) found.\n",
      "Output directory set to /root/workspace/Thyroid_Solid_Nodule/data/preprocess/public_aug/tmp/image/228_/output.1 ground truth image(s) found.\n",
      "\n",
      "No./root/workspace/Thyroid_Solid_Nodule/data/preprocess/public/image/228_1.jpg data is being augmented and 56 data will be created\n"
     ]
    },
    {
     "name": "stderr",
     "output_type": "stream",
     "text": [
      "Processing <PIL.Image.Image image mode=RGB size=560x360 at 0x7F02F02281D0>: 100%|██████████| 56/56 [00:00<00:00, 112.81 Samples/s]                 \n",
      "Executing Pipeline:   0%|          | 0/48 [00:00<?, ? Samples/s]"
     ]
    },
    {
     "name": "stdout",
     "output_type": "stream",
     "text": [
      "Done\n",
      "Initialised with 1 image(s) found.\n",
      "Output directory set to /root/workspace/Thyroid_Solid_Nodule/data/preprocess/public_aug/tmp/image/70_/output.1 ground truth image(s) found.\n",
      "\n",
      "No./root/workspace/Thyroid_Solid_Nodule/data/preprocess/public/image/70_1.jpg data is being augmented and 48 data will be created\n"
     ]
    },
    {
     "name": "stderr",
     "output_type": "stream",
     "text": [
      "Processing <PIL.Image.Image image mode=RGB size=560x360 at 0x7F02F0210630>: 100%|██████████| 48/48 [00:00<00:00, 101.43 Samples/s]\n",
      "Processing <PIL.Image.Image image mode=RGB size=560x315 at 0x7F02F023D0F0>:   2%|▏         | 1/42 [00:00<00:05,  7.63 Samples/s]"
     ]
    },
    {
     "name": "stdout",
     "output_type": "stream",
     "text": [
      "Done\n",
      "Initialised with 1 image(s) found.\n",
      "Output directory set to /root/workspace/Thyroid_Solid_Nodule/data/preprocess/public_aug/tmp/image/maligns_609_/output.1 ground truth image(s) found.\n",
      "\n",
      "No./root/workspace/Thyroid_Solid_Nodule/data/preprocess/public/image/maligns_609_1.jpg data is being augmented and 42 data will be created\n"
     ]
    },
    {
     "name": "stderr",
     "output_type": "stream",
     "text": [
      "Processing <PIL.Image.Image image mode=RGB size=560x315 at 0x7F02F023D978>: 100%|██████████| 42/42 [00:00<00:00, 98.65 Samples/s]                  \n",
      "Processing <PIL.Image.Image image mode=RGB size=560x360 at 0x7F02F01E0470>:   0%|          | 0/50 [00:00<?, ? Samples/s]"
     ]
    },
    {
     "name": "stdout",
     "output_type": "stream",
     "text": [
      "Done\n",
      "Initialised with 1 image(s) found.\n",
      "Output directory set to /root/workspace/Thyroid_Solid_Nodule/data/preprocess/public_aug/tmp/image/316_/output.1 ground truth image(s) found.\n",
      "\n",
      "No./root/workspace/Thyroid_Solid_Nodule/data/preprocess/public/image/316_1.jpg data is being augmented and 50 data will be created\n"
     ]
    },
    {
     "name": "stderr",
     "output_type": "stream",
     "text": [
      "Processing <PIL.Image.Image image mode=RGB size=560x360 at 0x7F02F01E88D0>: 100%|██████████| 50/50 [00:00<00:00, 96.36 Samples/s]\n",
      "Processing <PIL.Image.Image image mode=RGB size=560x360 at 0x7F02F021B7B8>:   2%|▏         | 1/52 [00:00<00:09,  5.58 Samples/s]"
     ]
    },
    {
     "name": "stdout",
     "output_type": "stream",
     "text": [
      "Done\n",
      "Initialised with 1 image(s) found.\n",
      "Output directory set to /root/workspace/Thyroid_Solid_Nodule/data/preprocess/public_aug/tmp/image/280_/output.1 ground truth image(s) found.\n",
      "\n",
      "No./root/workspace/Thyroid_Solid_Nodule/data/preprocess/public/image/280_1.jpg data is being augmented and 52 data will be created\n"
     ]
    },
    {
     "name": "stderr",
     "output_type": "stream",
     "text": [
      "Processing <PIL.Image.Image image mode=RGB size=560x360 at 0x7F02F01E0A90>: 100%|██████████| 52/52 [00:00<00:00, 102.50 Samples/s]                 \n",
      "Executing Pipeline:   0%|          | 0/55 [00:00<?, ? Samples/s]"
     ]
    },
    {
     "name": "stdout",
     "output_type": "stream",
     "text": [
      "Done\n",
      "Initialised with 1 image(s) found.\n",
      "Output directory set to /root/workspace/Thyroid_Solid_Nodule/data/preprocess/public_aug/tmp/image/284_/output.1 ground truth image(s) found.\n",
      "\n",
      "No./root/workspace/Thyroid_Solid_Nodule/data/preprocess/public/image/284_1.jpg data is being augmented and 55 data will be created\n"
     ]
    },
    {
     "name": "stderr",
     "output_type": "stream",
     "text": [
      "Processing <PIL.Image.Image image mode=RGB size=560x360 at 0x7F02F0208A90>: 100%|██████████| 55/55 [00:00<00:00, 97.53 Samples/s]                  \n",
      "Processing <PIL.Image.Image image mode=RGB size=560x360 at 0x7F02F02439B0>:   0%|          | 0/45 [00:00<?, ? Samples/s]"
     ]
    },
    {
     "name": "stdout",
     "output_type": "stream",
     "text": [
      "Done\n",
      "Initialised with 1 image(s) found.\n",
      "Output directory set to /root/workspace/Thyroid_Solid_Nodule/data/preprocess/public_aug/tmp/image/263_/output.1 ground truth image(s) found.\n",
      "\n",
      "No./root/workspace/Thyroid_Solid_Nodule/data/preprocess/public/image/263_1.jpg data is being augmented and 45 data will be created\n"
     ]
    },
    {
     "name": "stderr",
     "output_type": "stream",
     "text": [
      "Processing <PIL.Image.Image image mode=RGB size=560x360 at 0x7F02F0243160>: 100%|██████████| 45/45 [00:00<00:00, 85.22 Samples/s]\n",
      "Processing <PIL.Image.Image image mode=RGB size=560x360 at 0x7F02F021BDA0>:   2%|▎         | 1/40 [00:00<00:04,  9.39 Samples/s]"
     ]
    },
    {
     "name": "stdout",
     "output_type": "stream",
     "text": [
      "Done\n",
      "Initialised with 1 image(s) found.\n",
      "Output directory set to /root/workspace/Thyroid_Solid_Nodule/data/preprocess/public_aug/tmp/image/15_/output.1 ground truth image(s) found.\n",
      "\n",
      "No./root/workspace/Thyroid_Solid_Nodule/data/preprocess/public/image/15_1.jpg data is being augmented and 40 data will be created\n"
     ]
    },
    {
     "name": "stderr",
     "output_type": "stream",
     "text": [
      "Processing <PIL.Image.Image image mode=RGB size=560x360 at 0x7F02F0247550>: 100%|██████████| 40/40 [00:00<00:00, 93.29 Samples/s]\n",
      "Executing Pipeline:   0%|          | 0/60 [00:00<?, ? Samples/s]"
     ]
    },
    {
     "name": "stdout",
     "output_type": "stream",
     "text": [
      "Done\n",
      "Initialised with 2 image(s) found.\n",
      "Output directory set to /root/workspace/Thyroid_Solid_Nodule/data/preprocess/public_aug/tmp/image/209_/output.2 ground truth image(s) found.\n",
      "\n",
      "No./root/workspace/Thyroid_Solid_Nodule/data/preprocess/public/image/209_1.jpg data is being augmented and 60 data will be created\n"
     ]
    },
    {
     "name": "stderr",
     "output_type": "stream",
     "text": [
      "Processing <PIL.Image.Image image mode=RGB size=560x360 at 0x7F02F01ED0F0>: 100%|██████████| 60/60 [00:00<00:00, 99.13 Samples/s]                  \n",
      "Executing Pipeline:   0%|          | 0/45 [00:00<?, ? Samples/s]"
     ]
    },
    {
     "name": "stdout",
     "output_type": "stream",
     "text": [
      "Done\n",
      "Initialised with 1 image(s) found.\n",
      "Output directory set to /root/workspace/Thyroid_Solid_Nodule/data/preprocess/public_aug/tmp/image/202_/output.1 ground truth image(s) found.\n",
      "\n",
      "No./root/workspace/Thyroid_Solid_Nodule/data/preprocess/public/image/202_1.jpg data is being augmented and 45 data will be created\n"
     ]
    },
    {
     "name": "stderr",
     "output_type": "stream",
     "text": [
      "Processing <PIL.Image.Image image mode=RGB size=560x360 at 0x7F02F022B518>: 100%|██████████| 45/45 [00:00<00:00, 89.83 Samples/s]                  \n",
      "Processing <PIL.Image.Image image mode=RGB size=560x360 at 0x7F02F0208080>:   0%|          | 0/47 [00:00<?, ? Samples/s]"
     ]
    },
    {
     "name": "stdout",
     "output_type": "stream",
     "text": [
      "Done\n",
      "Initialised with 1 image(s) found.\n",
      "Output directory set to /root/workspace/Thyroid_Solid_Nodule/data/preprocess/public_aug/tmp/image/144_/output.1 ground truth image(s) found.\n",
      "\n",
      "No./root/workspace/Thyroid_Solid_Nodule/data/preprocess/public/image/144_1.jpg data is being augmented and 47 data will be created\n"
     ]
    },
    {
     "name": "stderr",
     "output_type": "stream",
     "text": [
      "Processing <PIL.Image.Image image mode=RGB size=560x360 at 0x7F02F021BB38>: 100%|██████████| 47/47 [00:00<00:00, 92.67 Samples/s]\n",
      "Executing Pipeline:   0%|          | 0/51 [00:00<?, ? Samples/s]"
     ]
    },
    {
     "name": "stdout",
     "output_type": "stream",
     "text": [
      "Done\n",
      "Initialised with 3 image(s) found.\n",
      "Output directory set to /root/workspace/Thyroid_Solid_Nodule/data/preprocess/public_aug/tmp/image/337_/output.3 ground truth image(s) found.\n",
      "\n",
      "No./root/workspace/Thyroid_Solid_Nodule/data/preprocess/public/image/337_1.jpg data is being augmented and 51 data will be created\n"
     ]
    },
    {
     "name": "stderr",
     "output_type": "stream",
     "text": [
      "Processing <PIL.Image.Image image mode=RGB size=560x360 at 0x7F02F01EDEB8>: 100%|██████████| 51/51 [00:00<00:00, 99.65 Samples/s]                  \n",
      "Executing Pipeline:   0%|          | 0/53 [00:00<?, ? Samples/s]"
     ]
    },
    {
     "name": "stdout",
     "output_type": "stream",
     "text": [
      "Done\n",
      "Initialised with 1 image(s) found.\n",
      "Output directory set to /root/workspace/Thyroid_Solid_Nodule/data/preprocess/public_aug/tmp/image/237_/output.1 ground truth image(s) found.\n",
      "\n",
      "No./root/workspace/Thyroid_Solid_Nodule/data/preprocess/public/image/237_1.jpg data is being augmented and 53 data will be created\n"
     ]
    },
    {
     "name": "stderr",
     "output_type": "stream",
     "text": [
      "Processing <PIL.Image.Image image mode=RGB size=560x360 at 0x7F02F01ED588>: 100%|██████████| 53/53 [00:00<00:00, 94.22 Samples/s]\n",
      "Executing Pipeline:   0%|          | 0/44 [00:00<?, ? Samples/s]"
     ]
    },
    {
     "name": "stdout",
     "output_type": "stream",
     "text": [
      "Done\n",
      "Initialised with 2 image(s) found.\n",
      "Output directory set to /root/workspace/Thyroid_Solid_Nodule/data/preprocess/public_aug/tmp/image/347_/output.2 ground truth image(s) found.\n",
      "\n",
      "No./root/workspace/Thyroid_Solid_Nodule/data/preprocess/public/image/347_2.jpg data is being augmented and 44 data will be created\n"
     ]
    },
    {
     "name": "stderr",
     "output_type": "stream",
     "text": [
      "Processing <PIL.Image.Image image mode=RGB size=560x360 at 0x7F02F0247DA0>: 100%|██████████| 44/44 [00:00<00:00, 92.86 Samples/s]                  \n",
      "Executing Pipeline:   0%|          | 0/51 [00:00<?, ? Samples/s]"
     ]
    },
    {
     "name": "stdout",
     "output_type": "stream",
     "text": [
      "Done\n",
      "Initialised with 1 image(s) found.\n",
      "Output directory set to /root/workspace/Thyroid_Solid_Nodule/data/preprocess/public_aug/tmp/image/78_/output.1 ground truth image(s) found.\n",
      "\n",
      "No./root/workspace/Thyroid_Solid_Nodule/data/preprocess/public/image/78_1.jpg data is being augmented and 51 data will be created\n"
     ]
    },
    {
     "name": "stderr",
     "output_type": "stream",
     "text": [
      "Processing <PIL.Image.Image image mode=RGB size=560x360 at 0x7F02F0243A90>: 100%|██████████| 51/51 [00:00<00:00, 106.18 Samples/s]\n",
      "Processing <PIL.Image.Image image mode=RGB size=560x360 at 0x7F02F01E0128>:  20%|█▉        | 8/41 [00:00<00:03,  9.06 Samples/s]"
     ]
    },
    {
     "name": "stdout",
     "output_type": "stream",
     "text": [
      "Done\n",
      "Initialised with 1 image(s) found.\n",
      "Output directory set to /root/workspace/Thyroid_Solid_Nodule/data/preprocess/public_aug/tmp/image/230_/output.1 ground truth image(s) found.\n",
      "\n",
      "No./root/workspace/Thyroid_Solid_Nodule/data/preprocess/public/image/230_1.jpg data is being augmented and 41 data will be created\n"
     ]
    },
    {
     "name": "stderr",
     "output_type": "stream",
     "text": [
      "Processing <PIL.Image.Image image mode=RGB size=560x360 at 0x7F02F0243518>: 100%|██████████| 41/41 [00:00<00:00, 94.84 Samples/s]                  \n",
      "Processing <PIL.Image.Image image mode=RGB size=560x360 at 0x7F02F0244710>:   2%|▏         | 1/45 [00:00<00:05,  8.21 Samples/s]"
     ]
    },
    {
     "name": "stdout",
     "output_type": "stream",
     "text": [
      "Done\n",
      "Initialised with 1 image(s) found.\n",
      "Output directory set to /root/workspace/Thyroid_Solid_Nodule/data/preprocess/public_aug/tmp/image/33_/output.1 ground truth image(s) found.\n",
      "\n",
      "No./root/workspace/Thyroid_Solid_Nodule/data/preprocess/public/image/33_1.jpg data is being augmented and 45 data will be created\n"
     ]
    },
    {
     "name": "stderr",
     "output_type": "stream",
     "text": [
      "Processing <PIL.Image.Image image mode=RGB size=560x360 at 0x7F02F01ED438>: 100%|██████████| 45/45 [00:00<00:00, 110.86 Samples/s]                 \n",
      "Executing Pipeline:   0%|          | 0/49 [00:00<?, ? Samples/s]"
     ]
    },
    {
     "name": "stdout",
     "output_type": "stream",
     "text": [
      "Done\n",
      "Initialised with 1 image(s) found.\n",
      "Output directory set to /root/workspace/Thyroid_Solid_Nodule/data/preprocess/public_aug/tmp/image/343_/output.1 ground truth image(s) found.\n",
      "\n",
      "No./root/workspace/Thyroid_Solid_Nodule/data/preprocess/public/image/343_1.jpg data is being augmented and 49 data will be created\n"
     ]
    },
    {
     "name": "stderr",
     "output_type": "stream",
     "text": [
      "Processing <PIL.Image.Image image mode=RGB size=560x360 at 0x7F02F01E0358>: 100%|██████████| 49/49 [00:00<00:00, 98.26 Samples/s]\n",
      "Executing Pipeline:   0%|          | 0/53 [00:00<?, ? Samples/s]"
     ]
    },
    {
     "name": "stdout",
     "output_type": "stream",
     "text": [
      "Done\n",
      "Initialised with 1 image(s) found.\n",
      "Output directory set to /root/workspace/Thyroid_Solid_Nodule/data/preprocess/public_aug/tmp/image/260_/output.1 ground truth image(s) found.\n",
      "\n",
      "No./root/workspace/Thyroid_Solid_Nodule/data/preprocess/public/image/260_1.jpg data is being augmented and 53 data will be created\n"
     ]
    },
    {
     "name": "stderr",
     "output_type": "stream",
     "text": [
      "Processing <PIL.Image.Image image mode=RGB size=560x360 at 0x7F02F0243588>: 100%|██████████| 53/53 [00:00<00:00, 83.55 Samples/s]                  \n",
      "Processing <PIL.Image.Image image mode=RGB size=560x360 at 0x7F02F01E0588>:   0%|          | 0/52 [00:00<?, ? Samples/s]"
     ]
    },
    {
     "name": "stdout",
     "output_type": "stream",
     "text": [
      "Done\n",
      "Initialised with 1 image(s) found.\n",
      "Output directory set to /root/workspace/Thyroid_Solid_Nodule/data/preprocess/public_aug/tmp/image/247_/output.1 ground truth image(s) found.\n",
      "\n",
      "No./root/workspace/Thyroid_Solid_Nodule/data/preprocess/public/image/247_1.jpg data is being augmented and 52 data will be created\n"
     ]
    },
    {
     "name": "stderr",
     "output_type": "stream",
     "text": [
      "Processing <PIL.Image.Image image mode=RGB size=560x360 at 0x7F02F01E04A8>: 100%|██████████| 52/52 [00:00<00:00, 110.49 Samples/s]\n",
      "Executing Pipeline:   0%|          | 0/52 [00:00<?, ? Samples/s]"
     ]
    },
    {
     "name": "stdout",
     "output_type": "stream",
     "text": [
      "Done\n",
      "Initialised with 1 image(s) found.\n",
      "Output directory set to /root/workspace/Thyroid_Solid_Nodule/data/preprocess/public_aug/tmp/image/maligns_569_/output.1 ground truth image(s) found.\n",
      "\n",
      "No./root/workspace/Thyroid_Solid_Nodule/data/preprocess/public/image/maligns_569_2.jpg data is being augmented and 52 data will be created\n"
     ]
    },
    {
     "name": "stderr",
     "output_type": "stream",
     "text": [
      "Processing <PIL.Image.Image image mode=RGB size=560x315 at 0x7F02F01E0A58>: 100%|██████████| 52/52 [00:00<00:00, 94.71 Samples/s]\n",
      "Processing <PIL.Image.Image image mode=RGB size=560x360 at 0x7F02F02448D0>:   7%|▋         | 3/43 [00:00<00:06,  6.12 Samples/s]"
     ]
    },
    {
     "name": "stdout",
     "output_type": "stream",
     "text": [
      "Done\n",
      "Initialised with 1 image(s) found.\n",
      "Output directory set to /root/workspace/Thyroid_Solid_Nodule/data/preprocess/public_aug/tmp/image/125_/output.1 ground truth image(s) found.\n",
      "\n",
      "No./root/workspace/Thyroid_Solid_Nodule/data/preprocess/public/image/125_1.jpg data is being augmented and 43 data will be created\n"
     ]
    },
    {
     "name": "stderr",
     "output_type": "stream",
     "text": [
      "Processing <PIL.Image.Image image mode=RGB size=560x360 at 0x7F02F0243438>: 100%|██████████| 43/43 [00:00<00:00, 111.95 Samples/s]                 \n",
      "Executing Pipeline:   0%|          | 0/46 [00:00<?, ? Samples/s]"
     ]
    },
    {
     "name": "stdout",
     "output_type": "stream",
     "text": [
      "Done\n",
      "Initialised with 3 image(s) found.\n",
      "Output directory set to /root/workspace/Thyroid_Solid_Nodule/data/preprocess/public_aug/tmp/image/210_/output.3 ground truth image(s) found.\n",
      "\n",
      "No./root/workspace/Thyroid_Solid_Nodule/data/preprocess/public/image/210_2.jpg data is being augmented and 46 data will be created\n"
     ]
    },
    {
     "name": "stderr",
     "output_type": "stream",
     "text": [
      "Processing <PIL.Image.Image image mode=RGB size=560x360 at 0x7F02F02436D8>: 100%|██████████| 46/46 [00:00<00:00, 90.86 Samples/s]                  \n",
      "Processing <PIL.Image.Image image mode=RGB size=560x360 at 0x7F02F01E8518>:   0%|          | 0/59 [00:00<?, ? Samples/s]"
     ]
    },
    {
     "name": "stdout",
     "output_type": "stream",
     "text": [
      "Done\n",
      "Initialised with 1 image(s) found.\n",
      "Output directory set to /root/workspace/Thyroid_Solid_Nodule/data/preprocess/public_aug/tmp/image/293_/output.1 ground truth image(s) found.\n",
      "\n",
      "No./root/workspace/Thyroid_Solid_Nodule/data/preprocess/public/image/293_1.jpg data is being augmented and 59 data will be created\n"
     ]
    },
    {
     "name": "stderr",
     "output_type": "stream",
     "text": [
      "Processing <PIL.Image.Image image mode=RGB size=560x360 at 0x7F02F01F13C8>: 100%|██████████| 59/59 [00:00<00:00, 110.77 Samples/s]                 \n",
      "Executing Pipeline:   0%|          | 0/59 [00:00<?, ? Samples/s]"
     ]
    },
    {
     "name": "stdout",
     "output_type": "stream",
     "text": [
      "Done\n",
      "Initialised with 1 image(s) found.\n",
      "Output directory set to /root/workspace/Thyroid_Solid_Nodule/data/preprocess/public_aug/tmp/image/57_/output.1 ground truth image(s) found.\n",
      "\n",
      "No./root/workspace/Thyroid_Solid_Nodule/data/preprocess/public/image/57_1.jpg data is being augmented and 59 data will be created\n"
     ]
    },
    {
     "name": "stderr",
     "output_type": "stream",
     "text": [
      "Processing <PIL.Image.Image image mode=RGB size=560x360 at 0x7F02F0247358>: 100%|██████████| 59/59 [00:00<00:00, 96.43 Samples/s]                  \n",
      "Executing Pipeline:   0%|          | 0/57 [00:00<?, ? Samples/s]"
     ]
    },
    {
     "name": "stdout",
     "output_type": "stream",
     "text": [
      "Done\n",
      "Initialised with 2 image(s) found.\n",
      "Output directory set to /root/workspace/Thyroid_Solid_Nodule/data/preprocess/public_aug/tmp/image/138_/output.2 ground truth image(s) found.\n",
      "\n",
      "No./root/workspace/Thyroid_Solid_Nodule/data/preprocess/public/image/138_2.jpg data is being augmented and 57 data will be created\n"
     ]
    },
    {
     "name": "stderr",
     "output_type": "stream",
     "text": [
      "Processing <PIL.Image.Image image mode=RGB size=560x360 at 0x7F02F023D0B8>: 100%|██████████| 57/57 [00:00<00:00, 79.59 Samples/s]\n",
      "Executing Pipeline:   0%|          | 0/53 [00:00<?, ? Samples/s]"
     ]
    },
    {
     "name": "stdout",
     "output_type": "stream",
     "text": [
      "Done\n",
      "Initialised with 2 image(s) found.\n",
      "Output directory set to /root/workspace/Thyroid_Solid_Nodule/data/preprocess/public_aug/tmp/image/360_/output.2 ground truth image(s) found.\n",
      "\n",
      "No./root/workspace/Thyroid_Solid_Nodule/data/preprocess/public/image/360_1.jpg data is being augmented and 53 data will be created\n"
     ]
    },
    {
     "name": "stderr",
     "output_type": "stream",
     "text": [
      "Processing <PIL.Image.Image image mode=RGB size=560x360 at 0x7F02F0208128>: 100%|██████████| 53/53 [00:00<00:00, 81.93 Samples/s]                  \n",
      "Executing Pipeline:   0%|          | 0/58 [00:00<?, ? Samples/s]"
     ]
    },
    {
     "name": "stdout",
     "output_type": "stream",
     "text": [
      "Done\n",
      "Initialised with 1 image(s) found.\n",
      "Output directory set to /root/workspace/Thyroid_Solid_Nodule/data/preprocess/public_aug/tmp/image/maligns_644_/output.1 ground truth image(s) found.\n",
      "\n",
      "No./root/workspace/Thyroid_Solid_Nodule/data/preprocess/public/image/maligns_644_1.jpg data is being augmented and 58 data will be created\n"
     ]
    },
    {
     "name": "stderr",
     "output_type": "stream",
     "text": [
      "Processing <PIL.Image.Image image mode=RGB size=560x315 at 0x7F02F023DA58>: 100%|██████████| 58/58 [00:00<00:00, 108.25 Samples/s]                 \n",
      "Executing Pipeline:   0%|          | 0/56 [00:00<?, ? Samples/s]"
     ]
    },
    {
     "name": "stdout",
     "output_type": "stream",
     "text": [
      "Done\n",
      "Initialised with 1 image(s) found.\n",
      "Output directory set to /root/workspace/Thyroid_Solid_Nodule/data/preprocess/public_aug/tmp/image/398_/output.1 ground truth image(s) found.\n",
      "\n",
      "No./root/workspace/Thyroid_Solid_Nodule/data/preprocess/public/image/398_1.jpg data is being augmented and 56 data will be created\n"
     ]
    },
    {
     "name": "stderr",
     "output_type": "stream",
     "text": [
      "Processing <PIL.Image.Image image mode=RGB size=560x360 at 0x7F02F01DF2E8>: 100%|██████████| 56/56 [00:00<00:00, 100.34 Samples/s]                 \n",
      "Processing <PIL.Image.Image image mode=RGB size=560x360 at 0x7F02F01ED278>:   0%|          | 0/50 [00:00<?, ? Samples/s]"
     ]
    },
    {
     "name": "stdout",
     "output_type": "stream",
     "text": [
      "Done\n",
      "Initialised with 1 image(s) found.\n",
      "Output directory set to /root/workspace/Thyroid_Solid_Nodule/data/preprocess/public_aug/tmp/image/141_/output.1 ground truth image(s) found.\n",
      "\n",
      "No./root/workspace/Thyroid_Solid_Nodule/data/preprocess/public/image/141_1.jpg data is being augmented and 50 data will be created\n"
     ]
    },
    {
     "name": "stderr",
     "output_type": "stream",
     "text": [
      "Processing <PIL.Image.Image image mode=RGB size=560x360 at 0x7F02F01EDBA8>: 100%|██████████| 50/50 [00:00<00:00, 108.23 Samples/s]\n",
      "Processing <PIL.Image.Image image mode=RGB size=560x360 at 0x7F02F01E8470>:  24%|██▍       | 10/41 [00:00<00:03,  8.67 Samples/s]                 "
     ]
    },
    {
     "name": "stdout",
     "output_type": "stream",
     "text": [
      "Done\n",
      "Initialised with 1 image(s) found.\n",
      "Output directory set to /root/workspace/Thyroid_Solid_Nodule/data/preprocess/public_aug/tmp/image/256_/output.1 ground truth image(s) found.\n",
      "\n",
      "No./root/workspace/Thyroid_Solid_Nodule/data/preprocess/public/image/256_1.jpg data is being augmented and 41 data will be created\n"
     ]
    },
    {
     "name": "stderr",
     "output_type": "stream",
     "text": [
      "Processing <PIL.Image.Image image mode=RGB size=560x360 at 0x7F02F0243780>: 100%|██████████| 41/41 [00:00<00:00, 94.00 Samples/s]\n",
      "Processing <PIL.Image.Image image mode=RGB size=560x360 at 0x7F02F0247208>:   4%|▍         | 2/46 [00:00<00:05,  8.45 Samples/s]"
     ]
    },
    {
     "name": "stdout",
     "output_type": "stream",
     "text": [
      "Done\n",
      "Initialised with 2 image(s) found.\n",
      "Output directory set to /root/workspace/Thyroid_Solid_Nodule/data/preprocess/public_aug/tmp/image/330_/output.2 ground truth image(s) found.\n",
      "\n",
      "No./root/workspace/Thyroid_Solid_Nodule/data/preprocess/public/image/330_2.jpg data is being augmented and 46 data will be created\n"
     ]
    },
    {
     "name": "stderr",
     "output_type": "stream",
     "text": [
      "Processing <PIL.Image.Image image mode=RGB size=560x360 at 0x7F02F01DFCF8>: 100%|██████████| 46/46 [00:00<00:00, 113.83 Samples/s]\n",
      "Executing Pipeline:   0%|          | 0/47 [00:00<?, ? Samples/s]"
     ]
    },
    {
     "name": "stdout",
     "output_type": "stream",
     "text": [
      "Done\n",
      "Initialised with 1 image(s) found.\n",
      "Output directory set to /root/workspace/Thyroid_Solid_Nodule/data/preprocess/public_aug/tmp/image/105_/output.1 ground truth image(s) found.\n",
      "\n",
      "No./root/workspace/Thyroid_Solid_Nodule/data/preprocess/public/image/105_1.jpg data is being augmented and 47 data will be created\n"
     ]
    },
    {
     "name": "stderr",
     "output_type": "stream",
     "text": [
      "Processing <PIL.Image.Image image mode=RGB size=560x360 at 0x7F02F0243470>: 100%|██████████| 47/47 [00:00<00:00, 91.63 Samples/s]                  \n",
      "Processing <PIL.Image.Image image mode=RGB size=560x360 at 0x7F02F022B9E8>:   0%|          | 0/55 [00:00<?, ? Samples/s]"
     ]
    },
    {
     "name": "stdout",
     "output_type": "stream",
     "text": [
      "Done\n",
      "Initialised with 1 image(s) found.\n",
      "Output directory set to /root/workspace/Thyroid_Solid_Nodule/data/preprocess/public_aug/tmp/image/34_/output.1 ground truth image(s) found.\n",
      "\n",
      "No./root/workspace/Thyroid_Solid_Nodule/data/preprocess/public/image/34_1.jpg data is being augmented and 55 data will be created\n"
     ]
    },
    {
     "name": "stderr",
     "output_type": "stream",
     "text": [
      "Processing <PIL.Image.Image image mode=RGB size=560x360 at 0x7F02F01EDD30>: 100%|██████████| 55/55 [00:00<00:00, 107.14 Samples/s]                 \n",
      "Processing <PIL.Image.Image image mode=RGB size=560x360 at 0x7F02F01ED828>:   2%|▏         | 1/50 [00:00<00:08,  5.97 Samples/s]"
     ]
    },
    {
     "name": "stdout",
     "output_type": "stream",
     "text": [
      "Done\n",
      "Initialised with 2 image(s) found.\n",
      "Output directory set to /root/workspace/Thyroid_Solid_Nodule/data/preprocess/public_aug/tmp/image/65_/output.2 ground truth image(s) found.\n",
      "\n",
      "No./root/workspace/Thyroid_Solid_Nodule/data/preprocess/public/image/65_1.jpg data is being augmented and 50 data will be created\n"
     ]
    },
    {
     "name": "stderr",
     "output_type": "stream",
     "text": [
      "Processing <PIL.Image.Image image mode=RGB size=560x360 at 0x7F02F023D7F0>: 100%|██████████| 50/50 [00:00<00:00, 102.14 Samples/s]\n",
      "Processing <PIL.Image.Image image mode=RGB size=560x360 at 0x7F02F01E8550>:  15%|█▌        | 6/40 [00:00<00:05,  5.90 Samples/s]"
     ]
    },
    {
     "name": "stdout",
     "output_type": "stream",
     "text": [
      "Done\n",
      "Initialised with 1 image(s) found.\n",
      "Output directory set to /root/workspace/Thyroid_Solid_Nodule/data/preprocess/public_aug/tmp/image/311_/output.1 ground truth image(s) found.\n",
      "\n",
      "No./root/workspace/Thyroid_Solid_Nodule/data/preprocess/public/image/311_1.jpg data is being augmented and 40 data will be created\n"
     ]
    },
    {
     "name": "stderr",
     "output_type": "stream",
     "text": [
      "Processing <PIL.Image.Image image mode=RGB size=560x360 at 0x7F02F01E8DD8>: 100%|██████████| 40/40 [00:00<00:00, 90.43 Samples/s]                  \n",
      "Executing Pipeline:   0%|          | 0/58 [00:00<?, ? Samples/s]"
     ]
    },
    {
     "name": "stdout",
     "output_type": "stream",
     "text": [
      "Done\n",
      "Initialised with 2 image(s) found.\n",
      "Output directory set to /root/workspace/Thyroid_Solid_Nodule/data/preprocess/public_aug/tmp/image/maligns_552_/output.2 ground truth image(s) found.\n",
      "\n",
      "No./root/workspace/Thyroid_Solid_Nodule/data/preprocess/public/image/maligns_552_2.jpg data is being augmented and 58 data will be created\n"
     ]
    },
    {
     "name": "stderr",
     "output_type": "stream",
     "text": [
      "Processing <PIL.Image.Image image mode=RGB size=560x315 at 0x7F02F01DF860>: 100%|██████████| 58/58 [00:00<00:00, 106.88 Samples/s]                 \n",
      "Executing Pipeline:   0%|          | 0/57 [00:00<?, ? Samples/s]"
     ]
    },
    {
     "name": "stdout",
     "output_type": "stream",
     "text": [
      "Done\n",
      "Initialised with 1 image(s) found.\n",
      "Output directory set to /root/workspace/Thyroid_Solid_Nodule/data/preprocess/public_aug/tmp/image/38_/output.1 ground truth image(s) found.\n",
      "\n",
      "No./root/workspace/Thyroid_Solid_Nodule/data/preprocess/public/image/38_1.jpg data is being augmented and 57 data will be created\n"
     ]
    },
    {
     "name": "stderr",
     "output_type": "stream",
     "text": [
      "Processing <PIL.Image.Image image mode=RGB size=560x360 at 0x7F02F01915F8>: 100%|██████████| 57/57 [00:00<00:00, 96.22 Samples/s]                  \n",
      "Executing Pipeline:   0%|          | 0/49 [00:00<?, ? Samples/s]"
     ]
    },
    {
     "name": "stdout",
     "output_type": "stream",
     "text": [
      "Done\n",
      "Initialised with 3 image(s) found.\n",
      "Output directory set to /root/workspace/Thyroid_Solid_Nodule/data/preprocess/public_aug/tmp/image/294_/output.3 ground truth image(s) found.\n",
      "\n",
      "No./root/workspace/Thyroid_Solid_Nodule/data/preprocess/public/image/294_1.jpg data is being augmented and 49 data will be created\n"
     ]
    },
    {
     "name": "stderr",
     "output_type": "stream",
     "text": [
      "Processing <PIL.Image.Image image mode=RGB size=560x360 at 0x7F02F0191BE0>: 100%|██████████| 49/49 [00:00<00:00, 85.70 Samples/s]                  \n",
      "Executing Pipeline:   0%|          | 0/49 [00:00<?, ? Samples/s]"
     ]
    },
    {
     "name": "stdout",
     "output_type": "stream",
     "text": [
      "Done\n",
      "Initialised with 2 image(s) found.\n",
      "Output directory set to /root/workspace/Thyroid_Solid_Nodule/data/preprocess/public_aug/tmp/image/387_/output.2 ground truth image(s) found.\n",
      "\n",
      "No./root/workspace/Thyroid_Solid_Nodule/data/preprocess/public/image/387_2.jpg data is being augmented and 49 data will be created\n"
     ]
    },
    {
     "name": "stderr",
     "output_type": "stream",
     "text": [
      "Processing <PIL.Image.Image image mode=RGB size=560x360 at 0x7F02F023D780>: 100%|██████████| 49/49 [00:00<00:00, 93.66 Samples/s]                  \n",
      "Executing Pipeline:   0%|          | 0/55 [00:00<?, ? Samples/s]"
     ]
    },
    {
     "name": "stdout",
     "output_type": "stream",
     "text": [
      "Done\n",
      "Initialised with 2 image(s) found.\n",
      "Output directory set to /root/workspace/Thyroid_Solid_Nodule/data/preprocess/public_aug/tmp/image/367_/output.2 ground truth image(s) found.\n",
      "\n",
      "No./root/workspace/Thyroid_Solid_Nodule/data/preprocess/public/image/367_2.jpg data is being augmented and 55 data will be created\n"
     ]
    },
    {
     "name": "stderr",
     "output_type": "stream",
     "text": [
      "Processing <PIL.Image.Image image mode=RGB size=560x360 at 0x7F02F01E8DA0>: 100%|██████████| 55/55 [00:00<00:00, 75.75 Samples/s]                 \n",
      "Executing Pipeline:   0%|          | 0/40 [00:00<?, ? Samples/s]"
     ]
    },
    {
     "name": "stdout",
     "output_type": "stream",
     "text": [
      "Done\n",
      "Initialised with 1 image(s) found.\n",
      "Output directory set to /root/workspace/Thyroid_Solid_Nodule/data/preprocess/public_aug/tmp/image/112_/output.1 ground truth image(s) found.\n",
      "\n",
      "No./root/workspace/Thyroid_Solid_Nodule/data/preprocess/public/image/112_1.jpg data is being augmented and 40 data will be created\n"
     ]
    },
    {
     "name": "stderr",
     "output_type": "stream",
     "text": [
      "Processing <PIL.Image.Image image mode=RGB size=560x360 at 0x7F02F01E8908>: 100%|██████████| 40/40 [00:00<00:00, 68.96 Samples/s]\n",
      "Executing Pipeline:   0%|          | 0/54 [00:00<?, ? Samples/s]"
     ]
    },
    {
     "name": "stdout",
     "output_type": "stream",
     "text": [
      "Done\n",
      "Initialised with 1 image(s) found.\n",
      "Output directory set to /root/workspace/Thyroid_Solid_Nodule/data/preprocess/public_aug/tmp/image/maligns_554_/output.1 ground truth image(s) found.\n",
      "\n",
      "No./root/workspace/Thyroid_Solid_Nodule/data/preprocess/public/image/maligns_554_1.jpg data is being augmented and 54 data will be created\n"
     ]
    },
    {
     "name": "stderr",
     "output_type": "stream",
     "text": [
      "Processing <PIL.Image.Image image mode=RGB size=560x315 at 0x7F02F02083C8>: 100%|██████████| 54/54 [00:00<00:00, 115.65 Samples/s]\n",
      "Processing <PIL.Image.Image image mode=RGB size=560x360 at 0x7F02F01DA860>:   0%|          | 0/47 [00:00<?, ? Samples/s]"
     ]
    },
    {
     "name": "stdout",
     "output_type": "stream",
     "text": [
      "Done\n",
      "Initialised with 1 image(s) found.\n",
      "Output directory set to /root/workspace/Thyroid_Solid_Nodule/data/preprocess/public_aug/tmp/image/25_/output.1 ground truth image(s) found.\n",
      "\n",
      "No./root/workspace/Thyroid_Solid_Nodule/data/preprocess/public/image/25_1.jpg data is being augmented and 47 data will be created\n"
     ]
    },
    {
     "name": "stderr",
     "output_type": "stream",
     "text": [
      "Processing <PIL.Image.Image image mode=RGB size=560x360 at 0x7F02F01ED080>: 100%|██████████| 47/47 [00:00<00:00, 100.35 Samples/s]\n",
      "Processing <PIL.Image.Image image mode=RGB size=560x360 at 0x7F02F01FAEB8>:   2%|▏         | 1/44 [00:00<00:07,  6.11 Samples/s]"
     ]
    },
    {
     "name": "stdout",
     "output_type": "stream",
     "text": [
      "Done\n",
      "Initialised with 1 image(s) found.\n",
      "Output directory set to /root/workspace/Thyroid_Solid_Nodule/data/preprocess/public_aug/tmp/image/195_/output.1 ground truth image(s) found.\n",
      "\n",
      "No./root/workspace/Thyroid_Solid_Nodule/data/preprocess/public/image/195_1.jpg data is being augmented and 44 data will be created\n"
     ]
    },
    {
     "name": "stderr",
     "output_type": "stream",
     "text": [
      "Processing <PIL.Image.Image image mode=RGB size=560x360 at 0x7F02F01FA588>: 100%|██████████| 44/44 [00:00<00:00, 115.62 Samples/s]                \n",
      "Executing Pipeline:   0%|          | 0/44 [00:00<?, ? Samples/s]"
     ]
    },
    {
     "name": "stdout",
     "output_type": "stream",
     "text": [
      "Done\n",
      "Initialised with 1 image(s) found.\n",
      "Output directory set to /root/workspace/Thyroid_Solid_Nodule/data/preprocess/public_aug/tmp/image/61_/output.1 ground truth image(s) found.\n",
      "\n",
      "No./root/workspace/Thyroid_Solid_Nodule/data/preprocess/public/image/61_1.jpg data is being augmented and 44 data will be created\n"
     ]
    },
    {
     "name": "stderr",
     "output_type": "stream",
     "text": [
      "Processing <PIL.JpegImagePlugin.JpegImageFile image mode=RGB size=560x360 at 0x7F02F01DA048>: 100%|██████████| 44/44 [00:00<00:00, 103.19 Samples/s]\n",
      "Executing Pipeline:   0%|          | 0/45 [00:00<?, ? Samples/s]"
     ]
    },
    {
     "name": "stdout",
     "output_type": "stream",
     "text": [
      "Done\n",
      "Initialised with 1 image(s) found.\n",
      "Output directory set to /root/workspace/Thyroid_Solid_Nodule/data/preprocess/public_aug/tmp/image/6_/output.1 ground truth image(s) found.\n",
      "\n",
      "No./root/workspace/Thyroid_Solid_Nodule/data/preprocess/public/image/6_1.jpg data is being augmented and 45 data will be created\n"
     ]
    },
    {
     "name": "stderr",
     "output_type": "stream",
     "text": [
      "Processing <PIL.Image.Image image mode=RGB size=560x360 at 0x7F02F01F5978>: 100%|██████████| 45/45 [00:00<00:00, 87.97 Samples/s]                  \n",
      "Executing Pipeline:   0%|          | 0/49 [00:00<?, ? Samples/s]"
     ]
    },
    {
     "name": "stdout",
     "output_type": "stream",
     "text": [
      "Done\n",
      "Initialised with 1 image(s) found.\n",
      "Output directory set to /root/workspace/Thyroid_Solid_Nodule/data/preprocess/public_aug/tmp/image/214_/output.1 ground truth image(s) found.\n",
      "\n",
      "No./root/workspace/Thyroid_Solid_Nodule/data/preprocess/public/image/214_1.jpg data is being augmented and 49 data will be created\n"
     ]
    },
    {
     "name": "stderr",
     "output_type": "stream",
     "text": [
      "Processing <PIL.Image.Image image mode=RGB size=560x360 at 0x7F02F01E0128>: 100%|██████████| 49/49 [00:00<00:00, 122.31 Samples/s]\n",
      "Executing Pipeline:   0%|          | 0/43 [00:00<?, ? Samples/s]"
     ]
    },
    {
     "name": "stdout",
     "output_type": "stream",
     "text": [
      "Done\n",
      "Initialised with 2 image(s) found.\n",
      "Output directory set to /root/workspace/Thyroid_Solid_Nodule/data/preprocess/public_aug/tmp/image/317_/output.2 ground truth image(s) found.\n",
      "\n",
      "No./root/workspace/Thyroid_Solid_Nodule/data/preprocess/public/image/317_1.jpg data is being augmented and 43 data will be created\n"
     ]
    },
    {
     "name": "stderr",
     "output_type": "stream",
     "text": [
      "Processing <PIL.Image.Image image mode=RGB size=560x360 at 0x7F02F01DA9E8>: 100%|██████████| 43/43 [00:00<00:00, 98.13 Samples/s]                  \n",
      "Executing Pipeline:   0%|          | 0/52 [00:00<?, ? Samples/s]"
     ]
    },
    {
     "name": "stdout",
     "output_type": "stream",
     "text": [
      "Done\n",
      "Initialised with 1 image(s) found.\n",
      "Output directory set to /root/workspace/Thyroid_Solid_Nodule/data/preprocess/public_aug/tmp/image/49_/output.1 ground truth image(s) found.\n",
      "\n",
      "No./root/workspace/Thyroid_Solid_Nodule/data/preprocess/public/image/49_1.jpg data is being augmented and 52 data will be created\n"
     ]
    },
    {
     "name": "stderr",
     "output_type": "stream",
     "text": [
      "Processing <PIL.Image.Image image mode=RGB size=560x360 at 0x7F02F01D9940>: 100%|██████████| 52/52 [00:00<00:00, 83.76 Samples/s]                  \n",
      "Executing Pipeline:   0%|          | 0/57 [00:00<?, ? Samples/s]"
     ]
    },
    {
     "name": "stdout",
     "output_type": "stream",
     "text": [
      "Done\n",
      "Initialised with 1 image(s) found.\n",
      "Output directory set to /root/workspace/Thyroid_Solid_Nodule/data/preprocess/public_aug/tmp/image/365_/output.1 ground truth image(s) found.\n",
      "\n",
      "No./root/workspace/Thyroid_Solid_Nodule/data/preprocess/public/image/365_1.jpg data is being augmented and 57 data will be created\n"
     ]
    },
    {
     "name": "stderr",
     "output_type": "stream",
     "text": [
      "Processing <PIL.Image.Image image mode=RGB size=560x360 at 0x7F02F022BFD0>: 100%|██████████| 57/57 [00:00<00:00, 100.74 Samples/s]\n",
      "Processing <PIL.Image.Image image mode=RGB size=560x360 at 0x7F02F01F5A90>:   0%|          | 0/51 [00:00<?, ? Samples/s]"
     ]
    },
    {
     "name": "stdout",
     "output_type": "stream",
     "text": [
      "Done\n",
      "Initialised with 1 image(s) found.\n",
      "Output directory set to /root/workspace/Thyroid_Solid_Nodule/data/preprocess/public_aug/tmp/image/255_/output.1 ground truth image(s) found.\n",
      "\n",
      "No./root/workspace/Thyroid_Solid_Nodule/data/preprocess/public/image/255_1.jpg data is being augmented and 51 data will be created\n"
     ]
    },
    {
     "name": "stderr",
     "output_type": "stream",
     "text": [
      "Processing <PIL.Image.Image image mode=RGB size=560x360 at 0x7F02F01EDE80>: 100%|██████████| 51/51 [00:00<00:00, 90.32 Samples/s]                  \n",
      "Executing Pipeline:   0%|          | 0/46 [00:00<?, ? Samples/s]"
     ]
    },
    {
     "name": "stdout",
     "output_type": "stream",
     "text": [
      "Done\n",
      "Initialised with 1 image(s) found.\n",
      "Output directory set to /root/workspace/Thyroid_Solid_Nodule/data/preprocess/public_aug/tmp/image/392_/output.1 ground truth image(s) found.\n",
      "\n",
      "No./root/workspace/Thyroid_Solid_Nodule/data/preprocess/public/image/392_1.jpg data is being augmented and 46 data will be created\n"
     ]
    },
    {
     "name": "stderr",
     "output_type": "stream",
     "text": [
      "Processing <PIL.Image.Image image mode=RGB size=560x360 at 0x7F02F01F59E8>: 100%|██████████| 46/46 [00:00<00:00, 77.60 Samples/s]                  \n",
      "Executing Pipeline:   0%|          | 0/56 [00:00<?, ? Samples/s]"
     ]
    },
    {
     "name": "stdout",
     "output_type": "stream",
     "text": [
      "Done\n",
      "Initialised with 5 image(s) found.\n",
      "Output directory set to /root/workspace/Thyroid_Solid_Nodule/data/preprocess/public_aug/tmp/image/296_/output.5 ground truth image(s) found.\n",
      "\n",
      "No./root/workspace/Thyroid_Solid_Nodule/data/preprocess/public/image/296_3.jpg data is being augmented and 56 data will be created\n"
     ]
    },
    {
     "name": "stderr",
     "output_type": "stream",
     "text": [
      "Processing <PIL.Image.Image image mode=RGB size=560x360 at 0x7F02F01FA550>: 100%|██████████| 56/56 [00:00<00:00, 91.33 Samples/s]                  \n",
      "Executing Pipeline:   0%|          | 0/49 [00:00<?, ? Samples/s]"
     ]
    },
    {
     "name": "stdout",
     "output_type": "stream",
     "text": [
      "Done\n",
      "Initialised with 1 image(s) found.\n",
      "Output directory set to /root/workspace/Thyroid_Solid_Nodule/data/preprocess/public_aug/tmp/image/35_/output.1 ground truth image(s) found.\n",
      "\n",
      "No./root/workspace/Thyroid_Solid_Nodule/data/preprocess/public/image/35_1.jpg data is being augmented and 49 data will be created\n"
     ]
    },
    {
     "name": "stderr",
     "output_type": "stream",
     "text": [
      "Processing <PIL.Image.Image image mode=RGB size=560x360 at 0x7F02F01ED6D8>: 100%|██████████| 49/49 [00:00<00:00, 78.82 Samples/s]\n",
      "Executing Pipeline:   0%|          | 0/53 [00:00<?, ? Samples/s]"
     ]
    },
    {
     "name": "stdout",
     "output_type": "stream",
     "text": [
      "Done\n",
      "Initialised with 2 image(s) found.\n",
      "Output directory set to /root/workspace/Thyroid_Solid_Nodule/data/preprocess/public_aug/tmp/image/227_/output.2 ground truth image(s) found.\n",
      "\n",
      "No./root/workspace/Thyroid_Solid_Nodule/data/preprocess/public/image/227_2.jpg data is being augmented and 53 data will be created\n"
     ]
    },
    {
     "name": "stderr",
     "output_type": "stream",
     "text": [
      "Processing <PIL.Image.Image image mode=RGB size=560x360 at 0x7F02F01E8C88>: 100%|██████████| 53/53 [00:00<00:00, 88.24 Samples/s]                  \n",
      "Executing Pipeline:   0%|          | 0/60 [00:00<?, ? Samples/s]"
     ]
    },
    {
     "name": "stdout",
     "output_type": "stream",
     "text": [
      "Done\n",
      "Initialised with 1 image(s) found.\n",
      "Output directory set to /root/workspace/Thyroid_Solid_Nodule/data/preprocess/public_aug/tmp/image/231_/output.1 ground truth image(s) found.\n",
      "\n",
      "No./root/workspace/Thyroid_Solid_Nodule/data/preprocess/public/image/231_1.jpg data is being augmented and 60 data will be created\n"
     ]
    },
    {
     "name": "stderr",
     "output_type": "stream",
     "text": [
      "Processing <PIL.Image.Image image mode=RGB size=560x360 at 0x7F02F01A3EB8>: 100%|██████████| 60/60 [00:00<00:00, 104.88 Samples/s]                 \n",
      "Executing Pipeline:   0%|          | 0/54 [00:00<?, ? Samples/s]"
     ]
    },
    {
     "name": "stdout",
     "output_type": "stream",
     "text": [
      "Done\n",
      "Initialised with 1 image(s) found.\n",
      "Output directory set to /root/workspace/Thyroid_Solid_Nodule/data/preprocess/public_aug/tmp/image/265_/output.1 ground truth image(s) found.\n",
      "\n",
      "No./root/workspace/Thyroid_Solid_Nodule/data/preprocess/public/image/265_1.jpg data is being augmented and 54 data will be created\n"
     ]
    },
    {
     "name": "stderr",
     "output_type": "stream",
     "text": [
      "Processing <PIL.Image.Image image mode=RGB size=560x360 at 0x7F02F0225898>: 100%|██████████| 54/54 [00:00<00:00, 95.65 Samples/s]                  \n",
      "Executing Pipeline:   0%|          | 0/52 [00:00<?, ? Samples/s]"
     ]
    },
    {
     "name": "stdout",
     "output_type": "stream",
     "text": [
      "Done\n",
      "Initialised with 2 image(s) found.\n",
      "Output directory set to /root/workspace/Thyroid_Solid_Nodule/data/preprocess/public_aug/tmp/image/maligns_545_/output.2 ground truth image(s) found.\n",
      "\n",
      "No./root/workspace/Thyroid_Solid_Nodule/data/preprocess/public/image/maligns_545_1.jpg data is being augmented and 52 data will be created\n"
     ]
    },
    {
     "name": "stderr",
     "output_type": "stream",
     "text": [
      "Processing <PIL.Image.Image image mode=RGB size=560x315 at 0x7F02F01FA2B0>: 100%|██████████| 52/52 [00:00<00:00, 100.71 Samples/s]\n",
      "Executing Pipeline:   0%|          | 0/56 [00:00<?, ? Samples/s]"
     ]
    },
    {
     "name": "stdout",
     "output_type": "stream",
     "text": [
      "Done\n",
      "Initialised with 2 image(s) found.\n",
      "Output directory set to /root/workspace/Thyroid_Solid_Nodule/data/preprocess/public_aug/tmp/image/maligns_549_/output.2 ground truth image(s) found.\n",
      "\n",
      "No./root/workspace/Thyroid_Solid_Nodule/data/preprocess/public/image/maligns_549_2.jpg data is being augmented and 56 data will be created\n"
     ]
    },
    {
     "name": "stderr",
     "output_type": "stream",
     "text": [
      "Processing <PIL.Image.Image image mode=RGB size=560x315 at 0x7F02F01F5358>: 100%|██████████| 56/56 [00:00<00:00, 98.38 Samples/s]\n",
      "Executing Pipeline:   0%|          | 0/53 [00:00<?, ? Samples/s]"
     ]
    },
    {
     "name": "stdout",
     "output_type": "stream",
     "text": [
      "Done\n",
      "Initialised with 1 image(s) found.\n",
      "Output directory set to /root/workspace/Thyroid_Solid_Nodule/data/preprocess/public_aug/tmp/image/155_/output.1 ground truth image(s) found.\n",
      "\n",
      "No./root/workspace/Thyroid_Solid_Nodule/data/preprocess/public/image/155_1.jpg data is being augmented and 53 data will be created\n"
     ]
    },
    {
     "name": "stderr",
     "output_type": "stream",
     "text": [
      "Processing <PIL.Image.Image image mode=RGB size=560x360 at 0x7F02F01ED7F0>: 100%|██████████| 53/53 [00:00<00:00, 98.25 Samples/s]                  \n",
      "Executing Pipeline:   0%|          | 0/44 [00:00<?, ? Samples/s]"
     ]
    },
    {
     "name": "stdout",
     "output_type": "stream",
     "text": [
      "Done\n",
      "Initialised with 1 image(s) found.\n",
      "Output directory set to /root/workspace/Thyroid_Solid_Nodule/data/preprocess/public_aug/tmp/image/79_/output.1 ground truth image(s) found.\n",
      "\n",
      "No./root/workspace/Thyroid_Solid_Nodule/data/preprocess/public/image/79_1.jpg data is being augmented and 44 data will be created\n"
     ]
    },
    {
     "name": "stderr",
     "output_type": "stream",
     "text": [
      "Processing <PIL.Image.Image image mode=RGB size=560x360 at 0x7F02F01E8CF8>: 100%|██████████| 44/44 [00:00<00:00, 83.71 Samples/s]                  \n",
      "Executing Pipeline:   0%|          | 0/42 [00:00<?, ? Samples/s]"
     ]
    },
    {
     "name": "stdout",
     "output_type": "stream",
     "text": [
      "Done\n",
      "Initialised with 1 image(s) found.\n",
      "Output directory set to /root/workspace/Thyroid_Solid_Nodule/data/preprocess/public_aug/tmp/image/190_/output.1 ground truth image(s) found.\n",
      "\n",
      "No./root/workspace/Thyroid_Solid_Nodule/data/preprocess/public/image/190_1.jpg data is being augmented and 42 data will be created\n"
     ]
    },
    {
     "name": "stderr",
     "output_type": "stream",
     "text": [
      "Processing <PIL.Image.Image image mode=RGB size=560x360 at 0x7F02F02254E0>: 100%|██████████| 42/42 [00:00<00:00, 78.27 Samples/s]                  \n",
      "Executing Pipeline:   0%|          | 0/49 [00:00<?, ? Samples/s]"
     ]
    },
    {
     "name": "stdout",
     "output_type": "stream",
     "text": [
      "Done\n",
      "Initialised with 1 image(s) found.\n",
      "Output directory set to /root/workspace/Thyroid_Solid_Nodule/data/preprocess/public_aug/tmp/image/212_/output.1 ground truth image(s) found.\n",
      "\n",
      "No./root/workspace/Thyroid_Solid_Nodule/data/preprocess/public/image/212_1.jpg data is being augmented and 49 data will be created\n"
     ]
    },
    {
     "name": "stderr",
     "output_type": "stream",
     "text": [
      "Processing <PIL.Image.Image image mode=RGB size=560x360 at 0x7F02F02250F0>: 100%|██████████| 49/49 [00:00<00:00, 74.93 Samples/s]                  \n",
      "Processing <PIL.Image.Image image mode=RGB size=560x315 at 0x7F02F023DC88>:   2%|▎         | 1/40 [00:00<00:04,  9.03 Samples/s]                  "
     ]
    },
    {
     "name": "stdout",
     "output_type": "stream",
     "text": [
      "Done\n",
      "Initialised with 1 image(s) found.\n",
      "Output directory set to /root/workspace/Thyroid_Solid_Nodule/data/preprocess/public_aug/tmp/image/maligns_622_/output.1 ground truth image(s) found.\n",
      "\n",
      "No./root/workspace/Thyroid_Solid_Nodule/data/preprocess/public/image/maligns_622_1.jpg data is being augmented and 40 data will be created\n"
     ]
    },
    {
     "name": "stderr",
     "output_type": "stream",
     "text": [
      "Processing <PIL.Image.Image image mode=RGB size=560x315 at 0x7F02F01DF898>: 100%|██████████| 40/40 [00:00<00:00, 92.50 Samples/s]                  \n",
      "Processing <PIL.Image.Image image mode=RGB size=560x360 at 0x7F02F01DA940>:   7%|▋         | 3/41 [00:00<00:03,  9.56 Samples/s]"
     ]
    },
    {
     "name": "stdout",
     "output_type": "stream",
     "text": [
      "Done\n",
      "Initialised with 1 image(s) found.\n",
      "Output directory set to /root/workspace/Thyroid_Solid_Nodule/data/preprocess/public_aug/tmp/image/102_/output.1 ground truth image(s) found.\n",
      "\n",
      "No./root/workspace/Thyroid_Solid_Nodule/data/preprocess/public/image/102_1.jpg data is being augmented and 41 data will be created\n"
     ]
    },
    {
     "name": "stderr",
     "output_type": "stream",
     "text": [
      "Processing <PIL.Image.Image image mode=RGB size=560x360 at 0x7F02F0225828>: 100%|██████████| 41/41 [00:00<00:00, 86.90 Samples/s]                  \n",
      "Processing <PIL.Image.Image image mode=RGB size=560x315 at 0x7F02F01D95C0>:  12%|█▏        | 5/43 [00:00<00:06,  6.22 Samples/s]"
     ]
    },
    {
     "name": "stdout",
     "output_type": "stream",
     "text": [
      "Done\n",
      "Initialised with 1 image(s) found.\n",
      "Output directory set to /root/workspace/Thyroid_Solid_Nodule/data/preprocess/public_aug/tmp/image/maligns_555_/output.1 ground truth image(s) found.\n",
      "\n",
      "No./root/workspace/Thyroid_Solid_Nodule/data/preprocess/public/image/maligns_555_1.jpg data is being augmented and 43 data will be created\n"
     ]
    },
    {
     "name": "stderr",
     "output_type": "stream",
     "text": [
      "Processing <PIL.Image.Image image mode=RGB size=560x315 at 0x7F02F01ED080>: 100%|██████████| 43/43 [00:00<00:00, 117.36 Samples/s]                 \n",
      "Executing Pipeline:   0%|          | 0/48 [00:00<?, ? Samples/s]"
     ]
    },
    {
     "name": "stdout",
     "output_type": "stream",
     "text": [
      "Done\n",
      "Initialised with 1 image(s) found.\n",
      "Output directory set to /root/workspace/Thyroid_Solid_Nodule/data/preprocess/public_aug/tmp/image/84_/output.1 ground truth image(s) found.\n",
      "\n",
      "No./root/workspace/Thyroid_Solid_Nodule/data/preprocess/public/image/84_1.jpg data is being augmented and 48 data will be created\n"
     ]
    },
    {
     "name": "stderr",
     "output_type": "stream",
     "text": [
      "Processing <PIL.Image.Image image mode=RGB size=560x360 at 0x7F02F0247198>: 100%|██████████| 48/48 [00:00<00:00, 77.51 Samples/s]\n",
      "Processing <PIL.Image.Image image mode=RGB size=560x360 at 0x7F02F01FAA58>:   2%|▏         | 1/43 [00:00<00:06,  6.21 Samples/s]"
     ]
    },
    {
     "name": "stdout",
     "output_type": "stream",
     "text": [
      "Done\n",
      "Initialised with 1 image(s) found.\n",
      "Output directory set to /root/workspace/Thyroid_Solid_Nodule/data/preprocess/public_aug/tmp/image/215_/output.1 ground truth image(s) found.\n",
      "\n",
      "No./root/workspace/Thyroid_Solid_Nodule/data/preprocess/public/image/215_1.jpg data is being augmented and 43 data will be created\n"
     ]
    },
    {
     "name": "stderr",
     "output_type": "stream",
     "text": [
      "Processing <PIL.Image.Image image mode=RGB size=560x360 at 0x7F02F01FA3C8>: 100%|██████████| 43/43 [00:00<00:00, 90.49 Samples/s]\n",
      "Executing Pipeline:   0%|          | 0/60 [00:00<?, ? Samples/s]"
     ]
    },
    {
     "name": "stdout",
     "output_type": "stream",
     "text": [
      "Done\n",
      "Initialised with 2 image(s) found.\n",
      "Output directory set to /root/workspace/Thyroid_Solid_Nodule/data/preprocess/public_aug/tmp/image/387_/output.2 ground truth image(s) found.\n",
      "\n",
      "No./root/workspace/Thyroid_Solid_Nodule/data/preprocess/public/image/387_1.jpg data is being augmented and 60 data will be created\n"
     ]
    },
    {
     "name": "stderr",
     "output_type": "stream",
     "text": [
      "Processing <PIL.Image.Image image mode=RGB size=560x360 at 0x7F02F01B8DD8>: 100%|██████████| 60/60 [00:00<00:00, 98.17 Samples/s]                  \n",
      "Executing Pipeline:   0%|          | 0/52 [00:00<?, ? Samples/s]"
     ]
    },
    {
     "name": "stdout",
     "output_type": "stream",
     "text": [
      "Done\n",
      "Initialised with 1 image(s) found.\n",
      "Output directory set to /root/workspace/Thyroid_Solid_Nodule/data/preprocess/public_aug/tmp/image/345_/output.1 ground truth image(s) found.\n",
      "\n",
      "No./root/workspace/Thyroid_Solid_Nodule/data/preprocess/public/image/345_1.jpg data is being augmented and 52 data will be created\n"
     ]
    },
    {
     "name": "stderr",
     "output_type": "stream",
     "text": [
      "Processing <PIL.Image.Image image mode=RGB size=560x360 at 0x7F02F01ED1D0>: 100%|██████████| 52/52 [00:00<00:00, 92.07 Samples/s]                  \n",
      "Executing Pipeline:   0%|          | 0/58 [00:00<?, ? Samples/s]"
     ]
    },
    {
     "name": "stdout",
     "output_type": "stream",
     "text": [
      "Done\n",
      "Initialised with 2 image(s) found.\n",
      "Output directory set to /root/workspace/Thyroid_Solid_Nodule/data/preprocess/public_aug/tmp/image/319_/output.2 ground truth image(s) found.\n",
      "\n",
      "No./root/workspace/Thyroid_Solid_Nodule/data/preprocess/public/image/319_2.jpg data is being augmented and 58 data will be created\n"
     ]
    },
    {
     "name": "stderr",
     "output_type": "stream",
     "text": [
      "Processing <PIL.Image.Image image mode=RGB size=560x360 at 0x7F02F023D9E8>: 100%|██████████| 58/58 [00:00<00:00, 97.76 Samples/s]                  \n",
      "Executing Pipeline:   0%|          | 0/41 [00:00<?, ? Samples/s]"
     ]
    },
    {
     "name": "stdout",
     "output_type": "stream",
     "text": [
      "Done\n",
      "Initialised with 2 image(s) found.\n",
      "Output directory set to /root/workspace/Thyroid_Solid_Nodule/data/preprocess/public_aug/tmp/image/318_/output.2 ground truth image(s) found.\n",
      "\n",
      "No./root/workspace/Thyroid_Solid_Nodule/data/preprocess/public/image/318_1.jpg data is being augmented and 41 data will be created\n"
     ]
    },
    {
     "name": "stderr",
     "output_type": "stream",
     "text": [
      "Processing <PIL.Image.Image image mode=RGB size=560x360 at 0x7F02F01D97B8>: 100%|██████████| 41/41 [00:00<00:00, 83.58 Samples/s]\n",
      "Executing Pipeline:   0%|          | 0/56 [00:00<?, ? Samples/s]"
     ]
    },
    {
     "name": "stdout",
     "output_type": "stream",
     "text": [
      "Done\n",
      "Initialised with 1 image(s) found.\n",
      "Output directory set to /root/workspace/Thyroid_Solid_Nodule/data/preprocess/public_aug/tmp/image/26_/output.1 ground truth image(s) found.\n",
      "\n",
      "No./root/workspace/Thyroid_Solid_Nodule/data/preprocess/public/image/26_1.jpg data is being augmented and 56 data will be created\n"
     ]
    },
    {
     "name": "stderr",
     "output_type": "stream",
     "text": [
      "Processing <PIL.Image.Image image mode=RGB size=560x360 at 0x7F02F01EDCF8>: 100%|██████████| 56/56 [00:00<00:00, 99.43 Samples/s]\n",
      "Processing <PIL.Image.Image image mode=RGB size=560x360 at 0x7F02F0247860>:   0%|          | 0/44 [00:00<?, ? Samples/s]"
     ]
    },
    {
     "name": "stdout",
     "output_type": "stream",
     "text": [
      "Done\n",
      "Initialised with 2 image(s) found.\n",
      "Output directory set to /root/workspace/Thyroid_Solid_Nodule/data/preprocess/public_aug/tmp/image/353_/output.2 ground truth image(s) found.\n",
      "\n",
      "No./root/workspace/Thyroid_Solid_Nodule/data/preprocess/public/image/353_1.jpg data is being augmented and 44 data will be created\n"
     ]
    },
    {
     "name": "stderr",
     "output_type": "stream",
     "text": [
      "Processing <PIL.Image.Image image mode=RGB size=560x360 at 0x7F02F023DBA8>: 100%|██████████| 44/44 [00:00<00:00, 88.56 Samples/s]                  \n",
      "Executing Pipeline:   0%|          | 0/60 [00:00<?, ? Samples/s]"
     ]
    },
    {
     "name": "stdout",
     "output_type": "stream",
     "text": [
      "Done\n",
      "Initialised with 1 image(s) found.\n",
      "Output directory set to /root/workspace/Thyroid_Solid_Nodule/data/preprocess/public_aug/tmp/image/121_/output.1 ground truth image(s) found.\n",
      "\n",
      "No./root/workspace/Thyroid_Solid_Nodule/data/preprocess/public/image/121_1.jpg data is being augmented and 60 data will be created\n"
     ]
    },
    {
     "name": "stderr",
     "output_type": "stream",
     "text": [
      "Processing <PIL.Image.Image image mode=RGB size=560x360 at 0x7F02F01C4278>: 100%|██████████| 60/60 [00:00<00:00, 93.87 Samples/s]                  \n",
      "Executing Pipeline:   0%|          | 0/44 [00:00<?, ? Samples/s]"
     ]
    },
    {
     "name": "stdout",
     "output_type": "stream",
     "text": [
      "Done\n",
      "Initialised with 1 image(s) found.\n",
      "Output directory set to /root/workspace/Thyroid_Solid_Nodule/data/preprocess/public_aug/tmp/image/maligns_570_/output.1 ground truth image(s) found.\n",
      "\n",
      "No./root/workspace/Thyroid_Solid_Nodule/data/preprocess/public/image/maligns_570_1.jpg data is being augmented and 44 data will be created\n"
     ]
    },
    {
     "name": "stderr",
     "output_type": "stream",
     "text": [
      "Processing <PIL.Image.Image image mode=RGB size=560x315 at 0x7F02F01DA8D0>: 100%|██████████| 44/44 [00:00<00:00, 92.80 Samples/s]                  \n",
      "Executing Pipeline:   0%|          | 0/57 [00:00<?, ? Samples/s]"
     ]
    },
    {
     "name": "stdout",
     "output_type": "stream",
     "text": [
      "Done\n",
      "Initialised with 1 image(s) found.\n",
      "Output directory set to /root/workspace/Thyroid_Solid_Nodule/data/preprocess/public_aug/tmp/image/168_/output.1 ground truth image(s) found.\n",
      "\n",
      "No./root/workspace/Thyroid_Solid_Nodule/data/preprocess/public/image/168_1.jpg data is being augmented and 57 data will be created\n"
     ]
    },
    {
     "name": "stderr",
     "output_type": "stream",
     "text": [
      "Processing <PIL.Image.Image image mode=RGB size=560x360 at 0x7F02F01DA860>: 100%|██████████| 57/57 [00:00<00:00, 88.97 Samples/s]                  \n",
      "Executing Pipeline:   0%|          | 0/47 [00:00<?, ? Samples/s]"
     ]
    },
    {
     "name": "stdout",
     "output_type": "stream",
     "text": [
      "Done\n",
      "Initialised with 1 image(s) found.\n",
      "Output directory set to /root/workspace/Thyroid_Solid_Nodule/data/preprocess/public_aug/tmp/image/42_/output.1 ground truth image(s) found.\n",
      "\n",
      "No./root/workspace/Thyroid_Solid_Nodule/data/preprocess/public/image/42_1.jpg data is being augmented and 47 data will be created\n"
     ]
    },
    {
     "name": "stderr",
     "output_type": "stream",
     "text": [
      "Processing <PIL.Image.Image image mode=RGB size=560x360 at 0x7F02F01B8748>: 100%|██████████| 47/47 [00:00<00:00, 89.34 Samples/s]                  \n",
      "Executing Pipeline:   0%|          | 0/48 [00:00<?, ? Samples/s]"
     ]
    },
    {
     "name": "stdout",
     "output_type": "stream",
     "text": [
      "Done\n",
      "Initialised with 1 image(s) found.\n",
      "Output directory set to /root/workspace/Thyroid_Solid_Nodule/data/preprocess/public_aug/tmp/image/226_/output.1 ground truth image(s) found.\n",
      "\n",
      "No./root/workspace/Thyroid_Solid_Nodule/data/preprocess/public/image/226_1.jpg data is being augmented and 48 data will be created\n"
     ]
    },
    {
     "name": "stderr",
     "output_type": "stream",
     "text": [
      "Processing <PIL.Image.Image image mode=RGB size=560x360 at 0x7F02F01D9400>: 100%|██████████| 48/48 [00:00<00:00, 77.75 Samples/s]\n",
      "Processing <PIL.Image.Image image mode=RGB size=560x360 at 0x7F02F01DAC18>:   7%|▋         | 3/45 [00:00<00:07,  5.69 Samples/s]"
     ]
    },
    {
     "name": "stdout",
     "output_type": "stream",
     "text": [
      "Done\n",
      "Initialised with 1 image(s) found.\n",
      "Output directory set to /root/workspace/Thyroid_Solid_Nodule/data/preprocess/public_aug/tmp/image/253_/output.1 ground truth image(s) found.\n",
      "\n",
      "No./root/workspace/Thyroid_Solid_Nodule/data/preprocess/public/image/253_1.jpg data is being augmented and 45 data will be created\n"
     ]
    },
    {
     "name": "stderr",
     "output_type": "stream",
     "text": [
      "Processing <PIL.Image.Image image mode=RGB size=560x360 at 0x7F02F01DAB38>: 100%|██████████| 45/45 [00:00<00:00, 97.79 Samples/s]\n",
      "Processing <PIL.Image.Image image mode=RGB size=560x360 at 0x7F02F01FAE80>:   0%|          | 0/51 [00:00<?, ? Samples/s]"
     ]
    },
    {
     "name": "stdout",
     "output_type": "stream",
     "text": [
      "Done\n",
      "Initialised with 1 image(s) found.\n",
      "Output directory set to /root/workspace/Thyroid_Solid_Nodule/data/preprocess/public_aug/tmp/image/372_/output.1 ground truth image(s) found.\n",
      "\n",
      "No./root/workspace/Thyroid_Solid_Nodule/data/preprocess/public/image/372_1.jpg data is being augmented and 51 data will be created\n"
     ]
    },
    {
     "name": "stderr",
     "output_type": "stream",
     "text": [
      "Processing <PIL.Image.Image image mode=RGB size=560x360 at 0x7F02F01D9780>: 100%|██████████| 51/51 [00:00<00:00, 97.72 Samples/s]\n",
      "Processing <PIL.Image.Image image mode=RGB size=560x315 at 0x7F02F01DAF98>:   9%|▉         | 5/53 [00:00<00:07,  6.19 Samples/s]"
     ]
    },
    {
     "name": "stdout",
     "output_type": "stream",
     "text": [
      "Done\n",
      "Initialised with 1 image(s) found.\n",
      "Output directory set to /root/workspace/Thyroid_Solid_Nodule/data/preprocess/public_aug/tmp/image/maligns_567_/output.1 ground truth image(s) found.\n",
      "\n",
      "No./root/workspace/Thyroid_Solid_Nodule/data/preprocess/public/image/maligns_567_1.jpg data is being augmented and 53 data will be created\n"
     ]
    },
    {
     "name": "stderr",
     "output_type": "stream",
     "text": [
      "Processing <PIL.Image.Image image mode=RGB size=560x315 at 0x7F02F01ED160>: 100%|██████████| 53/53 [00:00<00:00, 116.60 Samples/s]                 \n",
      "Executing Pipeline:   0%|          | 0/55 [00:00<?, ? Samples/s]"
     ]
    },
    {
     "name": "stdout",
     "output_type": "stream",
     "text": [
      "Done\n",
      "Initialised with 2 image(s) found.\n",
      "Output directory set to /root/workspace/Thyroid_Solid_Nodule/data/preprocess/public_aug/tmp/image/130_/output.2 ground truth image(s) found.\n",
      "\n",
      "No./root/workspace/Thyroid_Solid_Nodule/data/preprocess/public/image/130_1.jpg data is being augmented and 55 data will be created\n"
     ]
    },
    {
     "name": "stderr",
     "output_type": "stream",
     "text": [
      "Processing <PIL.Image.Image image mode=RGB size=560x360 at 0x7F02F01DFA20>: 100%|██████████| 55/55 [00:00<00:00, 100.01 Samples/s]                 \n",
      "Executing Pipeline:   0%|          | 0/56 [00:00<?, ? Samples/s]"
     ]
    },
    {
     "name": "stdout",
     "output_type": "stream",
     "text": [
      "Done\n",
      "Initialised with 1 image(s) found.\n",
      "Output directory set to /root/workspace/Thyroid_Solid_Nodule/data/preprocess/public_aug/tmp/image/111_/output.1 ground truth image(s) found.\n",
      "\n",
      "No./root/workspace/Thyroid_Solid_Nodule/data/preprocess/public/image/111_1.jpg data is being augmented and 56 data will be created\n"
     ]
    },
    {
     "name": "stderr",
     "output_type": "stream",
     "text": [
      "Processing <PIL.Image.Image image mode=RGB size=560x360 at 0x7F02F01ED160>: 100%|██████████| 56/56 [00:00<00:00, 98.01 Samples/s]\n",
      "Executing Pipeline:   0%|          | 0/60 [00:00<?, ? Samples/s]"
     ]
    },
    {
     "name": "stdout",
     "output_type": "stream",
     "text": [
      "Done\n",
      "Initialised with 3 image(s) found.\n",
      "Output directory set to /root/workspace/Thyroid_Solid_Nodule/data/preprocess/public_aug/tmp/image/maligns_550_/output.3 ground truth image(s) found.\n",
      "\n",
      "No./root/workspace/Thyroid_Solid_Nodule/data/preprocess/public/image/maligns_550_2.jpg data is being augmented and 60 data will be created\n"
     ]
    },
    {
     "name": "stderr",
     "output_type": "stream",
     "text": [
      "Processing <PIL.Image.Image image mode=RGB size=560x315 at 0x7F02F01DAF98>: 100%|██████████| 60/60 [00:00<00:00, 113.68 Samples/s]                 \n",
      "Executing Pipeline:   0%|          | 0/52 [00:00<?, ? Samples/s]"
     ]
    },
    {
     "name": "stdout",
     "output_type": "stream",
     "text": [
      "Done\n",
      "Initialised with 1 image(s) found.\n",
      "Output directory set to /root/workspace/Thyroid_Solid_Nodule/data/preprocess/public_aug/tmp/image/241_/output.1 ground truth image(s) found.\n",
      "\n",
      "No./root/workspace/Thyroid_Solid_Nodule/data/preprocess/public/image/241_1.jpg data is being augmented and 52 data will be created\n"
     ]
    },
    {
     "name": "stderr",
     "output_type": "stream",
     "text": [
      "Processing <PIL.Image.Image image mode=RGB size=560x360 at 0x7F02F02B6B70>: 100%|██████████| 52/52 [00:00<00:00, 87.97 Samples/s]                  \n",
      "Executing Pipeline:   0%|          | 0/59 [00:00<?, ? Samples/s]"
     ]
    },
    {
     "name": "stdout",
     "output_type": "stream",
     "text": [
      "Done\n",
      "Initialised with 1 image(s) found.\n",
      "Output directory set to /root/workspace/Thyroid_Solid_Nodule/data/preprocess/public_aug/tmp/image/270_/output.1 ground truth image(s) found.\n",
      "\n",
      "No./root/workspace/Thyroid_Solid_Nodule/data/preprocess/public/image/270_1.jpg data is being augmented and 59 data will be created\n"
     ]
    },
    {
     "name": "stderr",
     "output_type": "stream",
     "text": [
      "Processing <PIL.Image.Image image mode=RGB size=560x360 at 0x7F02F021B828>: 100%|██████████| 59/59 [00:00<00:00, 95.95 Samples/s]                  \n",
      "Executing Pipeline:   0%|          | 0/46 [00:00<?, ? Samples/s]"
     ]
    },
    {
     "name": "stdout",
     "output_type": "stream",
     "text": [
      "Done\n",
      "Initialised with 1 image(s) found.\n",
      "Output directory set to /root/workspace/Thyroid_Solid_Nodule/data/preprocess/public_aug/tmp/image/32_/output.1 ground truth image(s) found.\n",
      "\n",
      "No./root/workspace/Thyroid_Solid_Nodule/data/preprocess/public/image/32_1.jpg data is being augmented and 46 data will be created\n"
     ]
    },
    {
     "name": "stderr",
     "output_type": "stream",
     "text": [
      "Processing <PIL.Image.Image image mode=RGB size=560x360 at 0x7F02F0244748>: 100%|██████████| 46/46 [00:00<00:00, 89.79 Samples/s]\n",
      "Executing Pipeline:   0%|          | 0/56 [00:00<?, ? Samples/s]"
     ]
    },
    {
     "name": "stdout",
     "output_type": "stream",
     "text": [
      "Done\n",
      "Initialised with 2 image(s) found.\n",
      "Output directory set to /root/workspace/Thyroid_Solid_Nodule/data/preprocess/public_aug/tmp/image/80_/output.2 ground truth image(s) found.\n",
      "\n",
      "No./root/workspace/Thyroid_Solid_Nodule/data/preprocess/public/image/80_1.jpg data is being augmented and 56 data will be created\n"
     ]
    },
    {
     "name": "stderr",
     "output_type": "stream",
     "text": [
      "Processing <PIL.Image.Image image mode=RGB size=560x360 at 0x7F02F0192828>: 100%|██████████| 56/56 [00:00<00:00, 92.91 Samples/s]                  \n",
      "Executing Pipeline:   0%|          | 0/60 [00:00<?, ? Samples/s]"
     ]
    },
    {
     "name": "stdout",
     "output_type": "stream",
     "text": [
      "Done\n",
      "Initialised with 1 image(s) found.\n",
      "Output directory set to /root/workspace/Thyroid_Solid_Nodule/data/preprocess/public_aug/tmp/image/357_/output.1 ground truth image(s) found.\n",
      "\n",
      "No./root/workspace/Thyroid_Solid_Nodule/data/preprocess/public/image/357_1.jpg data is being augmented and 60 data will be created\n"
     ]
    },
    {
     "name": "stderr",
     "output_type": "stream",
     "text": [
      "Processing <PIL.Image.Image image mode=RGB size=560x360 at 0x7F02F019CDA0>: 100%|██████████| 60/60 [00:00<00:00, 87.62 Samples/s]\n",
      "Executing Pipeline:   0%|          | 0/58 [00:00<?, ? Samples/s]"
     ]
    },
    {
     "name": "stdout",
     "output_type": "stream",
     "text": [
      "Done\n",
      "Initialised with 1 image(s) found.\n",
      "Output directory set to /root/workspace/Thyroid_Solid_Nodule/data/preprocess/public_aug/tmp/image/200_/output.1 ground truth image(s) found.\n",
      "\n",
      "No./root/workspace/Thyroid_Solid_Nodule/data/preprocess/public/image/200_1.jpg data is being augmented and 58 data will be created\n"
     ]
    },
    {
     "name": "stderr",
     "output_type": "stream",
     "text": [
      "Processing <PIL.Image.Image image mode=RGB size=560x360 at 0x7F02F01BFDA0>: 100%|██████████| 58/58 [00:00<00:00, 105.37 Samples/s]                 \n",
      "Executing Pipeline:   0%|          | 0/43 [00:00<?, ? Samples/s]"
     ]
    },
    {
     "name": "stdout",
     "output_type": "stream",
     "text": [
      "Done\n",
      "Initialised with 1 image(s) found.\n",
      "Output directory set to /root/workspace/Thyroid_Solid_Nodule/data/preprocess/public_aug/tmp/image/274_/output.1 ground truth image(s) found.\n",
      "\n",
      "No./root/workspace/Thyroid_Solid_Nodule/data/preprocess/public/image/274_1.jpg data is being augmented and 43 data will be created\n"
     ]
    },
    {
     "name": "stderr",
     "output_type": "stream",
     "text": [
      "Processing <PIL.Image.Image image mode=RGB size=560x360 at 0x7F02F0225358>: 100%|██████████| 43/43 [00:00<00:00, 78.79 Samples/s]                  \n",
      "Executing Pipeline:   0%|          | 0/44 [00:00<?, ? Samples/s]"
     ]
    },
    {
     "name": "stdout",
     "output_type": "stream",
     "text": [
      "Done\n",
      "Initialised with 1 image(s) found.\n",
      "Output directory set to /root/workspace/Thyroid_Solid_Nodule/data/preprocess/public_aug/tmp/image/59_/output.1 ground truth image(s) found.\n",
      "\n",
      "No./root/workspace/Thyroid_Solid_Nodule/data/preprocess/public/image/59_1.jpg data is being augmented and 44 data will be created\n"
     ]
    },
    {
     "name": "stderr",
     "output_type": "stream",
     "text": [
      "Processing <PIL.JpegImagePlugin.JpegImageFile image mode=RGB size=560x360 at 0x7F02F01D9A58>: 100%|██████████| 44/44 [00:00<00:00, 83.18 Samples/s]\n",
      "Executing Pipeline:   0%|          | 0/51 [00:00<?, ? Samples/s]"
     ]
    },
    {
     "name": "stdout",
     "output_type": "stream",
     "text": [
      "Done\n",
      "Initialised with 2 image(s) found.\n",
      "Output directory set to /root/workspace/Thyroid_Solid_Nodule/data/preprocess/public_aug/tmp/image/358_/output.2 ground truth image(s) found.\n",
      "\n",
      "No./root/workspace/Thyroid_Solid_Nodule/data/preprocess/public/image/358_1.jpg data is being augmented and 51 data will be created\n"
     ]
    },
    {
     "name": "stderr",
     "output_type": "stream",
     "text": [
      "Processing <PIL.Image.Image image mode=RGB size=560x360 at 0x7F02F01DFE48>: 100%|██████████| 51/51 [00:00<00:00, 91.03 Samples/s]                  \n",
      "Executing Pipeline:   0%|          | 0/59 [00:00<?, ? Samples/s]"
     ]
    },
    {
     "name": "stdout",
     "output_type": "stream",
     "text": [
      "Done\n",
      "Initialised with 1 image(s) found.\n",
      "Output directory set to /root/workspace/Thyroid_Solid_Nodule/data/preprocess/public_aug/tmp/image/143_/output.1 ground truth image(s) found.\n",
      "\n",
      "No./root/workspace/Thyroid_Solid_Nodule/data/preprocess/public/image/143_1.jpg data is being augmented and 59 data will be created\n"
     ]
    },
    {
     "name": "stderr",
     "output_type": "stream",
     "text": [
      "Processing <PIL.Image.Image image mode=RGB size=560x360 at 0x7F02F01DFA90>: 100%|██████████| 59/59 [00:00<00:00, 93.36 Samples/s]\n",
      "Executing Pipeline:   0%|          | 0/51 [00:00<?, ? Samples/s]"
     ]
    },
    {
     "name": "stdout",
     "output_type": "stream",
     "text": [
      "Done\n",
      "Initialised with 1 image(s) found.\n",
      "Output directory set to /root/workspace/Thyroid_Solid_Nodule/data/preprocess/public_aug/tmp/image/171_/output.1 ground truth image(s) found.\n",
      "\n",
      "No./root/workspace/Thyroid_Solid_Nodule/data/preprocess/public/image/171_1.jpg data is being augmented and 51 data will be created\n"
     ]
    },
    {
     "name": "stderr",
     "output_type": "stream",
     "text": [
      "Processing <PIL.Image.Image image mode=RGB size=560x360 at 0x7F02F01DA3C8>: 100%|██████████| 51/51 [00:00<00:00, 97.47 Samples/s]                 \n",
      "Executing Pipeline:   0%|          | 0/40 [00:00<?, ? Samples/s]"
     ]
    },
    {
     "name": "stdout",
     "output_type": "stream",
     "text": [
      "Done\n",
      "Initialised with 2 image(s) found.\n",
      "Output directory set to /root/workspace/Thyroid_Solid_Nodule/data/preprocess/public_aug/tmp/image/58_/output.2 ground truth image(s) found.\n",
      "\n",
      "No./root/workspace/Thyroid_Solid_Nodule/data/preprocess/public/image/58_1.jpg data is being augmented and 40 data will be created\n"
     ]
    },
    {
     "name": "stderr",
     "output_type": "stream",
     "text": [
      "Processing <PIL.Image.Image image mode=RGB size=560x360 at 0x7F02F0146278>: 100%|██████████| 40/40 [00:00<00:00, 94.27 Samples/s]                  \n",
      "Executing Pipeline:   0%|          | 0/50 [00:00<?, ? Samples/s]"
     ]
    },
    {
     "name": "stdout",
     "output_type": "stream",
     "text": [
      "Done\n",
      "Initialised with 2 image(s) found.\n",
      "Output directory set to /root/workspace/Thyroid_Solid_Nodule/data/preprocess/public_aug/tmp/image/334_/output.2 ground truth image(s) found.\n",
      "\n",
      "No./root/workspace/Thyroid_Solid_Nodule/data/preprocess/public/image/334_2.jpg data is being augmented and 50 data will be created\n"
     ]
    },
    {
     "name": "stderr",
     "output_type": "stream",
     "text": [
      "Processing <PIL.Image.Image image mode=RGB size=560x360 at 0x7F02F0225400>: 100%|██████████| 50/50 [00:00<00:00, 89.90 Samples/s]                  \n",
      "Executing Pipeline:   0%|          | 0/60 [00:00<?, ? Samples/s]"
     ]
    },
    {
     "name": "stdout",
     "output_type": "stream",
     "text": [
      "Done\n",
      "Initialised with 1 image(s) found.\n",
      "Output directory set to /root/workspace/Thyroid_Solid_Nodule/data/preprocess/public_aug/tmp/image/238_/output.1 ground truth image(s) found.\n",
      "\n",
      "No./root/workspace/Thyroid_Solid_Nodule/data/preprocess/public/image/238_1.jpg data is being augmented and 60 data will be created\n"
     ]
    },
    {
     "name": "stderr",
     "output_type": "stream",
     "text": [
      "Processing <PIL.Image.Image image mode=RGB size=560x360 at 0x7F02F01DA898>: 100%|██████████| 60/60 [00:00<00:00, 74.18 Samples/s]                 \n",
      "Executing Pipeline:   0%|          | 0/60 [00:00<?, ? Samples/s]"
     ]
    },
    {
     "name": "stdout",
     "output_type": "stream",
     "text": [
      "Done\n",
      "Initialised with 1 image(s) found.\n",
      "Output directory set to /root/workspace/Thyroid_Solid_Nodule/data/preprocess/public_aug/tmp/image/271_/output.1 ground truth image(s) found.\n",
      "\n",
      "No./root/workspace/Thyroid_Solid_Nodule/data/preprocess/public/image/271_1.jpg data is being augmented and 60 data will be created\n"
     ]
    },
    {
     "name": "stderr",
     "output_type": "stream",
     "text": [
      "Processing <PIL.Image.Image image mode=RGB size=560x360 at 0x7F02F0225550>: 100%|██████████| 60/60 [00:00<00:00, 102.03 Samples/s]                 \n",
      "Executing Pipeline:   0%|          | 0/55 [00:00<?, ? Samples/s]"
     ]
    },
    {
     "name": "stdout",
     "output_type": "stream",
     "text": [
      "Done\n",
      "Initialised with 1 image(s) found.\n",
      "Output directory set to /root/workspace/Thyroid_Solid_Nodule/data/preprocess/public_aug/tmp/image/172_/output.1 ground truth image(s) found.\n",
      "\n",
      "No./root/workspace/Thyroid_Solid_Nodule/data/preprocess/public/image/172_1.jpg data is being augmented and 55 data will be created\n"
     ]
    },
    {
     "name": "stderr",
     "output_type": "stream",
     "text": [
      "Processing <PIL.JpegImagePlugin.JpegImageFile image mode=RGB size=560x360 at 0x7F02F01DF208>: 100%|██████████| 55/55 [00:00<00:00, 102.95 Samples/s]\n",
      "Executing Pipeline:   0%|          | 0/44 [00:00<?, ? Samples/s]"
     ]
    },
    {
     "name": "stdout",
     "output_type": "stream",
     "text": [
      "Done\n",
      "Initialised with 1 image(s) found.\n",
      "Output directory set to /root/workspace/Thyroid_Solid_Nodule/data/preprocess/public_aug/tmp/image/135_/output.1 ground truth image(s) found.\n",
      "\n",
      "No./root/workspace/Thyroid_Solid_Nodule/data/preprocess/public/image/135_1.jpg data is being augmented and 44 data will be created\n"
     ]
    },
    {
     "name": "stderr",
     "output_type": "stream",
     "text": [
      "Processing <PIL.Image.Image image mode=RGB size=560x360 at 0x7F02F0146128>: 100%|██████████| 44/44 [00:00<00:00, 80.70 Samples/s]\n",
      "Processing <PIL.Image.Image image mode=RGB size=560x315 at 0x7F02F01FAA58>:   0%|          | 0/47 [00:00<?, ? Samples/s]"
     ]
    },
    {
     "name": "stdout",
     "output_type": "stream",
     "text": [
      "Done\n",
      "Initialised with 2 image(s) found.\n",
      "Output directory set to /root/workspace/Thyroid_Solid_Nodule/data/preprocess/public_aug/tmp/image/benigns_611_/output.2 ground truth image(s) found.\n",
      "\n",
      "No./root/workspace/Thyroid_Solid_Nodule/data/preprocess/public/image/benigns_611_1.jpg data is being augmented and 47 data will be created\n"
     ]
    },
    {
     "name": "stderr",
     "output_type": "stream",
     "text": [
      "Processing <PIL.Image.Image image mode=RGB size=560x315 at 0x7F02F01DFF98>: 100%|██████████| 47/47 [00:00<00:00, 106.21 Samples/s]                 \n",
      "Executing Pipeline:   0%|          | 0/54 [00:00<?, ? Samples/s]"
     ]
    },
    {
     "name": "stdout",
     "output_type": "stream",
     "text": [
      "Done\n",
      "Initialised with 1 image(s) found.\n",
      "Output directory set to /root/workspace/Thyroid_Solid_Nodule/data/preprocess/public_aug/tmp/image/243_/output.1 ground truth image(s) found.\n",
      "\n",
      "No./root/workspace/Thyroid_Solid_Nodule/data/preprocess/public/image/243_1.jpg data is being augmented and 54 data will be created\n"
     ]
    },
    {
     "name": "stderr",
     "output_type": "stream",
     "text": [
      "Processing <PIL.Image.Image image mode=RGB size=560x360 at 0x7F02F01DFA58>: 100%|██████████| 54/54 [00:00<00:00, 96.74 Samples/s]                  \n",
      "Executing Pipeline:   0%|          | 0/51 [00:00<?, ? Samples/s]"
     ]
    },
    {
     "name": "stdout",
     "output_type": "stream",
     "text": [
      "Done\n",
      "Initialised with 1 image(s) found.\n",
      "Output directory set to /root/workspace/Thyroid_Solid_Nodule/data/preprocess/public_aug/tmp/image/388_/output.1 ground truth image(s) found.\n",
      "\n",
      "No./root/workspace/Thyroid_Solid_Nodule/data/preprocess/public/image/388_1.jpg data is being augmented and 51 data will be created\n"
     ]
    },
    {
     "name": "stderr",
     "output_type": "stream",
     "text": [
      "Processing <PIL.Image.Image image mode=RGB size=560x360 at 0x7F02F01569E8>: 100%|██████████| 51/51 [00:00<00:00, 97.63 Samples/s]                  \n",
      "Executing Pipeline:   0%|          | 0/48 [00:00<?, ? Samples/s]"
     ]
    },
    {
     "name": "stdout",
     "output_type": "stream",
     "text": [
      "Done\n",
      "Initialised with 1 image(s) found.\n",
      "Output directory set to /root/workspace/Thyroid_Solid_Nodule/data/preprocess/public_aug/tmp/image/161_/output.1 ground truth image(s) found.\n",
      "\n",
      "No./root/workspace/Thyroid_Solid_Nodule/data/preprocess/public/image/161_1.jpg data is being augmented and 48 data will be created\n"
     ]
    },
    {
     "name": "stderr",
     "output_type": "stream",
     "text": [
      "Processing <PIL.Image.Image image mode=RGB size=560x360 at 0x7F02F0225C88>: 100%|██████████| 48/48 [00:00<00:00, 90.21 Samples/s]                  \n",
      "Executing Pipeline:   0%|          | 0/43 [00:00<?, ? Samples/s]"
     ]
    },
    {
     "name": "stdout",
     "output_type": "stream",
     "text": [
      "Done\n",
      "Initialised with 2 image(s) found.\n",
      "Output directory set to /root/workspace/Thyroid_Solid_Nodule/data/preprocess/public_aug/tmp/image/381_/output.2 ground truth image(s) found.\n",
      "\n",
      "No./root/workspace/Thyroid_Solid_Nodule/data/preprocess/public/image/381_1.jpg data is being augmented and 43 data will be created\n"
     ]
    },
    {
     "name": "stderr",
     "output_type": "stream",
     "text": [
      "Processing <PIL.Image.Image image mode=RGB size=560x360 at 0x7F02F0200C88>: 100%|██████████| 43/43 [00:00<00:00, 84.71 Samples/s]                  \n",
      "Executing Pipeline:   0%|          | 0/59 [00:00<?, ? Samples/s]"
     ]
    },
    {
     "name": "stdout",
     "output_type": "stream",
     "text": [
      "Done\n",
      "Initialised with 1 image(s) found.\n",
      "Output directory set to /root/workspace/Thyroid_Solid_Nodule/data/preprocess/public_aug/tmp/image/332_/output.1 ground truth image(s) found.\n",
      "\n",
      "No./root/workspace/Thyroid_Solid_Nodule/data/preprocess/public/image/332_1.jpg data is being augmented and 59 data will be created\n"
     ]
    },
    {
     "name": "stderr",
     "output_type": "stream",
     "text": [
      "Processing <PIL.Image.Image image mode=RGB size=560x360 at 0x7F02F01DFAC8>: 100%|██████████| 59/59 [00:00<00:00, 96.09 Samples/s]                  \n",
      "Executing Pipeline:   0%|          | 0/59 [00:00<?, ? Samples/s]"
     ]
    },
    {
     "name": "stdout",
     "output_type": "stream",
     "text": [
      "Done\n",
      "Initialised with 1 image(s) found.\n",
      "Output directory set to /root/workspace/Thyroid_Solid_Nodule/data/preprocess/public_aug/tmp/image/9_/output.1 ground truth image(s) found.\n",
      "\n",
      "No./root/workspace/Thyroid_Solid_Nodule/data/preprocess/public/image/9_1.jpg data is being augmented and 59 data will be created\n"
     ]
    },
    {
     "name": "stderr",
     "output_type": "stream",
     "text": [
      "Processing <PIL.Image.Image image mode=RGB size=560x360 at 0x7F02F01564A8>: 100%|██████████| 59/59 [00:00<00:00, 94.08 Samples/s]                  \n",
      "Executing Pipeline:   0%|          | 0/57 [00:00<?, ? Samples/s]"
     ]
    },
    {
     "name": "stdout",
     "output_type": "stream",
     "text": [
      "Done\n",
      "Initialised with 1 image(s) found.\n",
      "Output directory set to /root/workspace/Thyroid_Solid_Nodule/data/preprocess/public_aug/tmp/image/103_/output.1 ground truth image(s) found.\n",
      "\n",
      "No./root/workspace/Thyroid_Solid_Nodule/data/preprocess/public/image/103_1.jpg data is being augmented and 57 data will be created\n"
     ]
    },
    {
     "name": "stderr",
     "output_type": "stream",
     "text": [
      "Processing <PIL.Image.Image image mode=RGB size=560x360 at 0x7F02F0156860>: 100%|██████████| 57/57 [00:00<00:00, 83.59 Samples/s]\n",
      "Executing Pipeline:   0%|          | 0/55 [00:00<?, ? Samples/s]"
     ]
    },
    {
     "name": "stdout",
     "output_type": "stream",
     "text": [
      "Done\n",
      "Initialised with 1 image(s) found.\n",
      "Output directory set to /root/workspace/Thyroid_Solid_Nodule/data/preprocess/public_aug/tmp/image/374_/output.1 ground truth image(s) found.\n",
      "\n",
      "No./root/workspace/Thyroid_Solid_Nodule/data/preprocess/public/image/374_1.jpg data is being augmented and 55 data will be created\n"
     ]
    },
    {
     "name": "stderr",
     "output_type": "stream",
     "text": [
      "Processing <PIL.Image.Image image mode=RGB size=560x360 at 0x7F02F0192978>: 100%|██████████| 55/55 [00:00<00:00, 95.10 Samples/s]                  \n",
      "Processing <PIL.Image.Image image mode=RGB size=560x360 at 0x7F02F01DF4A8>:   0%|          | 0/44 [00:00<?, ? Samples/s]"
     ]
    },
    {
     "name": "stdout",
     "output_type": "stream",
     "text": [
      "Done\n",
      "Initialised with 1 image(s) found.\n",
      "Output directory set to /root/workspace/Thyroid_Solid_Nodule/data/preprocess/public_aug/tmp/image/180_/output.1 ground truth image(s) found.\n",
      "\n",
      "No./root/workspace/Thyroid_Solid_Nodule/data/preprocess/public/image/180_1.jpg data is being augmented and 44 data will be created\n"
     ]
    },
    {
     "name": "stderr",
     "output_type": "stream",
     "text": [
      "Processing <PIL.Image.Image image mode=RGB size=560x360 at 0x7F02F0192550>: 100%|██████████| 44/44 [00:00<00:00, 88.56 Samples/s]                  \n",
      "Executing Pipeline:   0%|          | 0/51 [00:00<?, ? Samples/s]"
     ]
    },
    {
     "name": "stdout",
     "output_type": "stream",
     "text": [
      "Done\n",
      "Initialised with 1 image(s) found.\n",
      "Output directory set to /root/workspace/Thyroid_Solid_Nodule/data/preprocess/public_aug/tmp/image/181_/output.1 ground truth image(s) found.\n",
      "\n",
      "No./root/workspace/Thyroid_Solid_Nodule/data/preprocess/public/image/181_1.jpg data is being augmented and 51 data will be created\n"
     ]
    },
    {
     "name": "stderr",
     "output_type": "stream",
     "text": [
      "Processing <PIL.Image.Image image mode=RGB size=560x360 at 0x7F02F01FA780>: 100%|██████████| 51/51 [00:00<00:00, 93.49 Samples/s]                  \n",
      "Executing Pipeline:   0%|          | 0/41 [00:00<?, ? Samples/s]"
     ]
    },
    {
     "name": "stdout",
     "output_type": "stream",
     "text": [
      "Done\n",
      "Initialised with 1 image(s) found.\n",
      "Output directory set to /root/workspace/Thyroid_Solid_Nodule/data/preprocess/public_aug/tmp/image/maligns_619_/output.1 ground truth image(s) found.\n",
      "\n",
      "No./root/workspace/Thyroid_Solid_Nodule/data/preprocess/public/image/maligns_619_1.jpg data is being augmented and 41 data will be created\n"
     ]
    },
    {
     "name": "stderr",
     "output_type": "stream",
     "text": [
      "Processing <PIL.Image.Image image mode=RGB size=560x315 at 0x7F02F01569E8>: 100%|██████████| 41/41 [00:00<00:00, 82.87 Samples/s]                  \n",
      "Processing <PIL.Image.Image image mode=RGB size=560x360 at 0x7F02F0146C50>:   0%|          | 0/48 [00:00<?, ? Samples/s]"
     ]
    },
    {
     "name": "stdout",
     "output_type": "stream",
     "text": [
      "Done\n",
      "Initialised with 2 image(s) found.\n",
      "Output directory set to /root/workspace/Thyroid_Solid_Nodule/data/preprocess/public_aug/tmp/image/81_/output.2 ground truth image(s) found.\n",
      "\n",
      "No./root/workspace/Thyroid_Solid_Nodule/data/preprocess/public/image/81_1.jpg data is being augmented and 48 data will be created\n"
     ]
    },
    {
     "name": "stderr",
     "output_type": "stream",
     "text": [
      "Processing <PIL.Image.Image image mode=RGB size=560x360 at 0x7F02F0192278>: 100%|██████████| 48/48 [00:00<00:00, 94.05 Samples/s]\n",
      "Executing Pipeline:   0%|          | 0/54 [00:00<?, ? Samples/s]"
     ]
    },
    {
     "name": "stdout",
     "output_type": "stream",
     "text": [
      "Done\n",
      "Initialised with 1 image(s) found.\n",
      "Output directory set to /root/workspace/Thyroid_Solid_Nodule/data/preprocess/public_aug/tmp/image/82_/output.1 ground truth image(s) found.\n",
      "\n",
      "No./root/workspace/Thyroid_Solid_Nodule/data/preprocess/public/image/82_1.jpg data is being augmented and 54 data will be created\n"
     ]
    },
    {
     "name": "stderr",
     "output_type": "stream",
     "text": [
      "Processing <PIL.Image.Image image mode=RGB size=560x360 at 0x7F02F01DF400>: 100%|██████████| 54/54 [00:00<00:00, 92.71 Samples/s]                  \n",
      "Executing Pipeline:   0%|          | 0/48 [00:00<?, ? Samples/s]"
     ]
    },
    {
     "name": "stdout",
     "output_type": "stream",
     "text": [
      "Done\n",
      "Initialised with 1 image(s) found.\n",
      "Output directory set to /root/workspace/Thyroid_Solid_Nodule/data/preprocess/public_aug/tmp/image/384_/output.1 ground truth image(s) found.\n",
      "\n",
      "No./root/workspace/Thyroid_Solid_Nodule/data/preprocess/public/image/384_1.jpg data is being augmented and 48 data will be created\n"
     ]
    },
    {
     "name": "stderr",
     "output_type": "stream",
     "text": [
      "Processing <PIL.Image.Image image mode=RGB size=560x360 at 0x7F02F01FA710>: 100%|██████████| 48/48 [00:00<00:00, 95.14 Samples/s]\n",
      "Executing Pipeline:   0%|          | 0/60 [00:00<?, ? Samples/s]"
     ]
    },
    {
     "name": "stdout",
     "output_type": "stream",
     "text": [
      "Done\n",
      "Initialised with 2 image(s) found.\n",
      "Output directory set to /root/workspace/Thyroid_Solid_Nodule/data/preprocess/public_aug/tmp/image/225_/output.2 ground truth image(s) found.\n",
      "\n",
      "No./root/workspace/Thyroid_Solid_Nodule/data/preprocess/public/image/225_1.jpg data is being augmented and 60 data will be created\n"
     ]
    },
    {
     "name": "stderr",
     "output_type": "stream",
     "text": [
      "Processing <PIL.Image.Image image mode=RGB size=560x360 at 0x7F02F01BF390>: 100%|██████████| 60/60 [00:00<00:00, 87.69 Samples/s]                 \n",
      "Executing Pipeline:   0%|          | 0/45 [00:00<?, ? Samples/s]"
     ]
    },
    {
     "name": "stdout",
     "output_type": "stream",
     "text": [
      "Done\n",
      "Initialised with 1 image(s) found.\n",
      "Output directory set to /root/workspace/Thyroid_Solid_Nodule/data/preprocess/public_aug/tmp/image/355_/output.1 ground truth image(s) found.\n",
      "\n",
      "No./root/workspace/Thyroid_Solid_Nodule/data/preprocess/public/image/355_1.jpg data is being augmented and 45 data will be created\n"
     ]
    },
    {
     "name": "stderr",
     "output_type": "stream",
     "text": [
      "Processing <PIL.Image.Image image mode=RGB size=560x360 at 0x7F02F01466D8>: 100%|██████████| 45/45 [00:00<00:00, 94.65 Samples/s]\n",
      "Executing Pipeline:   0%|          | 0/57 [00:00<?, ? Samples/s]"
     ]
    },
    {
     "name": "stdout",
     "output_type": "stream",
     "text": [
      "Done\n",
      "Initialised with 1 image(s) found.\n",
      "Output directory set to /root/workspace/Thyroid_Solid_Nodule/data/preprocess/public_aug/tmp/image/maligns_623_/output.1 ground truth image(s) found.\n",
      "\n",
      "No./root/workspace/Thyroid_Solid_Nodule/data/preprocess/public/image/maligns_623_1.jpg data is being augmented and 57 data will be created\n"
     ]
    },
    {
     "name": "stderr",
     "output_type": "stream",
     "text": [
      "Processing <PIL.Image.Image image mode=RGB size=560x315 at 0x7F02F0164DA0>: 100%|██████████| 57/57 [00:00<00:00, 97.53 Samples/s]                  \n",
      "Executing Pipeline:   0%|          | 0/41 [00:00<?, ? Samples/s]"
     ]
    },
    {
     "name": "stdout",
     "output_type": "stream",
     "text": [
      "Done\n",
      "Initialised with 5 image(s) found.\n",
      "Output directory set to /root/workspace/Thyroid_Solid_Nodule/data/preprocess/public_aug/tmp/image/maligns_564_/output.5 ground truth image(s) found.\n",
      "\n",
      "No./root/workspace/Thyroid_Solid_Nodule/data/preprocess/public/image/maligns_564_1.jpg data is being augmented and 41 data will be created\n"
     ]
    },
    {
     "name": "stderr",
     "output_type": "stream",
     "text": [
      "Processing <PIL.Image.Image image mode=RGB size=560x315 at 0x7F02F016CB00>: 100%|██████████| 41/41 [00:00<00:00, 89.66 Samples/s]\n",
      "Executing Pipeline:   0%|          | 0/49 [00:00<?, ? Samples/s]"
     ]
    },
    {
     "name": "stdout",
     "output_type": "stream",
     "text": [
      "Done\n",
      "Initialised with 1 image(s) found.\n",
      "Output directory set to /root/workspace/Thyroid_Solid_Nodule/data/preprocess/public_aug/tmp/image/235_/output.1 ground truth image(s) found.\n",
      "\n",
      "No./root/workspace/Thyroid_Solid_Nodule/data/preprocess/public/image/235_1.jpg data is being augmented and 49 data will be created\n"
     ]
    },
    {
     "name": "stderr",
     "output_type": "stream",
     "text": [
      "Processing <PIL.Image.Image image mode=RGB size=560x360 at 0x7F02F0156630>: 100%|██████████| 49/49 [00:00<00:00, 84.03 Samples/s]\n",
      "Executing Pipeline:   0%|          | 0/55 [00:00<?, ? Samples/s]"
     ]
    },
    {
     "name": "stdout",
     "output_type": "stream",
     "text": [
      "Done\n",
      "Initialised with 2 image(s) found.\n",
      "Output directory set to /root/workspace/Thyroid_Solid_Nodule/data/preprocess/public_aug/tmp/image/58_/output.2 ground truth image(s) found.\n",
      "\n",
      "No./root/workspace/Thyroid_Solid_Nodule/data/preprocess/public/image/58_2.jpg data is being augmented and 55 data will be created\n"
     ]
    },
    {
     "name": "stderr",
     "output_type": "stream",
     "text": [
      "Processing <PIL.Image.Image image mode=RGB size=560x360 at 0x7F02F01DF550>: 100%|██████████| 55/55 [00:00<00:00, 93.33 Samples/s]\n",
      "Executing Pipeline:   0%|          | 0/41 [00:00<?, ? Samples/s]"
     ]
    },
    {
     "name": "stdout",
     "output_type": "stream",
     "text": [
      "Done\n",
      "Initialised with 1 image(s) found.\n",
      "Output directory set to /root/workspace/Thyroid_Solid_Nodule/data/preprocess/public_aug/tmp/image/221_/output.1 ground truth image(s) found.\n",
      "\n",
      "No./root/workspace/Thyroid_Solid_Nodule/data/preprocess/public/image/221_1.jpg data is being augmented and 41 data will be created\n"
     ]
    },
    {
     "name": "stderr",
     "output_type": "stream",
     "text": [
      "Processing <PIL.Image.Image image mode=RGB size=560x360 at 0x7F02F0164C50>: 100%|██████████| 41/41 [00:00<00:00, 85.14 Samples/s]\n",
      "Executing Pipeline:   0%|          | 0/58 [00:00<?, ? Samples/s]"
     ]
    },
    {
     "name": "stdout",
     "output_type": "stream",
     "text": [
      "Done\n",
      "Initialised with 1 image(s) found.\n",
      "Output directory set to /root/workspace/Thyroid_Solid_Nodule/data/preprocess/public_aug/tmp/image/28_/output.1 ground truth image(s) found.\n",
      "\n",
      "No./root/workspace/Thyroid_Solid_Nodule/data/preprocess/public/image/28_1.jpg data is being augmented and 58 data will be created\n"
     ]
    },
    {
     "name": "stderr",
     "output_type": "stream",
     "text": [
      "Processing <PIL.Image.Image image mode=RGB size=560x360 at 0x7F02F0225D68>: 100%|██████████| 58/58 [00:00<00:00, 90.90 Samples/s]                  \n",
      "Executing Pipeline:   0%|          | 0/54 [00:00<?, ? Samples/s]"
     ]
    },
    {
     "name": "stdout",
     "output_type": "stream",
     "text": [
      "Done\n",
      "Initialised with 1 image(s) found.\n",
      "Output directory set to /root/workspace/Thyroid_Solid_Nodule/data/preprocess/public_aug/tmp/image/254_/output.1 ground truth image(s) found.\n",
      "\n",
      "No./root/workspace/Thyroid_Solid_Nodule/data/preprocess/public/image/254_1.jpg data is being augmented and 54 data will be created\n"
     ]
    },
    {
     "name": "stderr",
     "output_type": "stream",
     "text": [
      "Processing <PIL.Image.Image image mode=RGB size=560x360 at 0x7F02F016F128>: 100%|██████████| 54/54 [00:00<00:00, 78.75 Samples/s]                  \n",
      "Processing <PIL.Image.Image image mode=RGB size=560x360 at 0x7F02F01BF160>:  19%|█▊        | 8/43 [00:00<00:03,  9.31 Samples/s]                  "
     ]
    },
    {
     "name": "stdout",
     "output_type": "stream",
     "text": [
      "Done\n",
      "Initialised with 1 image(s) found.\n",
      "Output directory set to /root/workspace/Thyroid_Solid_Nodule/data/preprocess/public_aug/tmp/image/201_/output.1 ground truth image(s) found.\n",
      "\n",
      "No./root/workspace/Thyroid_Solid_Nodule/data/preprocess/public/image/201_1.jpg data is being augmented and 43 data will be created\n"
     ]
    },
    {
     "name": "stderr",
     "output_type": "stream",
     "text": [
      "Processing <PIL.Image.Image image mode=RGB size=560x360 at 0x7F02F01A38D0>: 100%|██████████| 43/43 [00:00<00:00, 138.68 Samples/s]\n",
      "Executing Pipeline:   0%|          | 0/46 [00:00<?, ? Samples/s]"
     ]
    },
    {
     "name": "stdout",
     "output_type": "stream",
     "text": [
      "Done\n",
      "Initialised with 2 image(s) found.\n",
      "Output directory set to /root/workspace/Thyroid_Solid_Nodule/data/preprocess/public_aug/tmp/image/maligns_571_/output.2 ground truth image(s) found.\n",
      "\n",
      "No./root/workspace/Thyroid_Solid_Nodule/data/preprocess/public/image/maligns_571_2.jpg data is being augmented and 46 data will be created\n"
     ]
    },
    {
     "name": "stderr",
     "output_type": "stream",
     "text": [
      "Processing <PIL.Image.Image image mode=RGB size=560x315 at 0x7F02F019C9B0>: 100%|██████████| 46/46 [00:00<00:00, 79.12 Samples/s]                  \n",
      "Processing <PIL.Image.Image image mode=RGB size=560x360 at 0x7F02F01BF828>:   7%|▋         | 3/42 [00:00<00:04,  9.12 Samples/s]"
     ]
    },
    {
     "name": "stdout",
     "output_type": "stream",
     "text": [
      "Done\n",
      "Initialised with 2 image(s) found.\n",
      "Output directory set to /root/workspace/Thyroid_Solid_Nodule/data/preprocess/public_aug/tmp/image/367_/output.2 ground truth image(s) found.\n",
      "\n",
      "No./root/workspace/Thyroid_Solid_Nodule/data/preprocess/public/image/367_1.jpg data is being augmented and 42 data will be created\n"
     ]
    },
    {
     "name": "stderr",
     "output_type": "stream",
     "text": [
      "Processing <PIL.Image.Image image mode=RGB size=560x360 at 0x7F02F0156630>: 100%|██████████| 42/42 [00:00<00:00, 128.16 Samples/s]                 \n",
      "Executing Pipeline:   0%|          | 0/53 [00:00<?, ? Samples/s]"
     ]
    },
    {
     "name": "stdout",
     "output_type": "stream",
     "text": [
      "Done\n",
      "Initialised with 1 image(s) found.\n",
      "Output directory set to /root/workspace/Thyroid_Solid_Nodule/data/preprocess/public_aug/tmp/image/153_/output.1 ground truth image(s) found.\n",
      "\n",
      "No./root/workspace/Thyroid_Solid_Nodule/data/preprocess/public/image/153_1.jpg data is being augmented and 53 data will be created\n"
     ]
    },
    {
     "name": "stderr",
     "output_type": "stream",
     "text": [
      "Processing <PIL.Image.Image image mode=RGB size=560x360 at 0x7F02F01569B0>: 100%|██████████| 53/53 [00:00<00:00, 81.58 Samples/s]\n",
      "Processing <PIL.Image.Image image mode=RGB size=560x360 at 0x7F02F01BF320>:   4%|▍         | 2/49 [00:00<00:06,  7.37 Samples/s]"
     ]
    },
    {
     "name": "stdout",
     "output_type": "stream",
     "text": [
      "Done\n",
      "Initialised with 1 image(s) found.\n",
      "Output directory set to /root/workspace/Thyroid_Solid_Nodule/data/preprocess/public_aug/tmp/image/22_/output.1 ground truth image(s) found.\n",
      "\n",
      "No./root/workspace/Thyroid_Solid_Nodule/data/preprocess/public/image/22_1.jpg data is being augmented and 49 data will be created\n"
     ]
    },
    {
     "name": "stderr",
     "output_type": "stream",
     "text": [
      "Processing <PIL.Image.Image image mode=RGB size=560x360 at 0x7F02F0180048>: 100%|██████████| 49/49 [00:00<00:00, 143.82 Samples/s]                 \n",
      "Executing Pipeline:   0%|          | 0/43 [00:00<?, ? Samples/s]"
     ]
    },
    {
     "name": "stdout",
     "output_type": "stream",
     "text": [
      "Done\n",
      "Initialised with 1 image(s) found.\n",
      "Output directory set to /root/workspace/Thyroid_Solid_Nodule/data/preprocess/public_aug/tmp/image/178_/output.1 ground truth image(s) found.\n",
      "\n",
      "No./root/workspace/Thyroid_Solid_Nodule/data/preprocess/public/image/178_1.jpg data is being augmented and 43 data will be created\n"
     ]
    },
    {
     "name": "stderr",
     "output_type": "stream",
     "text": [
      "Processing <PIL.Image.Image image mode=RGB size=560x360 at 0x7F02F01465C0>: 100%|██████████| 43/43 [00:00<00:00, 85.78 Samples/s]                  \n",
      "Executing Pipeline:   0%|          | 0/40 [00:00<?, ? Samples/s]"
     ]
    },
    {
     "name": "stdout",
     "output_type": "stream",
     "text": [
      "Done\n",
      "Initialised with 1 image(s) found.\n",
      "Output directory set to /root/workspace/Thyroid_Solid_Nodule/data/preprocess/public_aug/tmp/image/41_/output.1 ground truth image(s) found.\n",
      "\n",
      "No./root/workspace/Thyroid_Solid_Nodule/data/preprocess/public/image/41_1.jpg data is being augmented and 40 data will be created\n"
     ]
    },
    {
     "name": "stderr",
     "output_type": "stream",
     "text": [
      "Processing <PIL.Image.Image image mode=RGB size=560x360 at 0x7F02F01DF898>: 100%|██████████| 40/40 [00:00<00:00, 87.83 Samples/s]\n",
      "Executing Pipeline:   0%|          | 0/45 [00:00<?, ? Samples/s]"
     ]
    },
    {
     "name": "stdout",
     "output_type": "stream",
     "text": [
      "Done\n",
      "Initialised with 1 image(s) found.\n",
      "Output directory set to /root/workspace/Thyroid_Solid_Nodule/data/preprocess/public_aug/tmp/image/19_/output.1 ground truth image(s) found.\n",
      "\n",
      "No./root/workspace/Thyroid_Solid_Nodule/data/preprocess/public/image/19_1.jpg data is being augmented and 45 data will be created\n"
     ]
    },
    {
     "name": "stderr",
     "output_type": "stream",
     "text": [
      "Processing <PIL.Image.Image image mode=RGB size=560x360 at 0x7F02F0146240>: 100%|██████████| 45/45 [00:00<00:00, 89.06 Samples/s]                  \n",
      "Executing Pipeline:   0%|          | 0/43 [00:00<?, ? Samples/s]"
     ]
    },
    {
     "name": "stdout",
     "output_type": "stream",
     "text": [
      "Done\n",
      "Initialised with 1 image(s) found.\n",
      "Output directory set to /root/workspace/Thyroid_Solid_Nodule/data/preprocess/public_aug/tmp/image/320_/output.1 ground truth image(s) found.\n",
      "\n",
      "No./root/workspace/Thyroid_Solid_Nodule/data/preprocess/public/image/320_1.jpg data is being augmented and 43 data will be created\n"
     ]
    },
    {
     "name": "stderr",
     "output_type": "stream",
     "text": [
      "Processing <PIL.Image.Image image mode=RGB size=560x360 at 0x7F02F0225F28>: 100%|██████████| 43/43 [00:00<00:00, 93.44 Samples/s]\n",
      "Executing Pipeline:   0%|          | 0/57 [00:00<?, ? Samples/s]"
     ]
    },
    {
     "name": "stdout",
     "output_type": "stream",
     "text": [
      "Done\n",
      "Initialised with 1 image(s) found.\n",
      "Output directory set to /root/workspace/Thyroid_Solid_Nodule/data/preprocess/public_aug/tmp/image/73_/output.1 ground truth image(s) found.\n",
      "\n",
      "No./root/workspace/Thyroid_Solid_Nodule/data/preprocess/public/image/73_1.jpg data is being augmented and 57 data will be created\n"
     ]
    },
    {
     "name": "stderr",
     "output_type": "stream",
     "text": [
      "Processing <PIL.Image.Image image mode=RGB size=560x360 at 0x7F02F0146A90>: 100%|██████████| 57/57 [00:00<00:00, 97.12 Samples/s]                 \n",
      "Executing Pipeline:   0%|          | 0/53 [00:00<?, ? Samples/s]"
     ]
    },
    {
     "name": "stdout",
     "output_type": "stream",
     "text": [
      "Done\n",
      "Initialised with 1 image(s) found.\n",
      "Output directory set to /root/workspace/Thyroid_Solid_Nodule/data/preprocess/public_aug/tmp/image/maligns_635_/output.1 ground truth image(s) found.\n",
      "\n",
      "No./root/workspace/Thyroid_Solid_Nodule/data/preprocess/public/image/maligns_635_1.jpg data is being augmented and 53 data will be created\n"
     ]
    },
    {
     "name": "stderr",
     "output_type": "stream",
     "text": [
      "Processing <PIL.Image.Image image mode=RGB size=560x315 at 0x7F02F017F9E8>: 100%|██████████| 53/53 [00:00<00:00, 110.48 Samples/s]                 \n",
      "Executing Pipeline:   0%|          | 0/59 [00:00<?, ? Samples/s]"
     ]
    },
    {
     "name": "stdout",
     "output_type": "stream",
     "text": [
      "Done\n",
      "Initialised with 1 image(s) found.\n",
      "Output directory set to /root/workspace/Thyroid_Solid_Nodule/data/preprocess/public_aug/tmp/image/194_/output.1 ground truth image(s) found.\n",
      "\n",
      "No./root/workspace/Thyroid_Solid_Nodule/data/preprocess/public/image/194_1.jpg data is being augmented and 59 data will be created\n"
     ]
    },
    {
     "name": "stderr",
     "output_type": "stream",
     "text": [
      "Processing <PIL.Image.Image image mode=RGB size=560x360 at 0x7F02F019CCC0>: 100%|██████████| 59/59 [00:00<00:00, 110.33 Samples/s]\n",
      "Processing <PIL.Image.Image image mode=RGB size=560x360 at 0x7F02F01BF0F0>:   0%|          | 0/48 [00:00<?, ? Samples/s]"
     ]
    },
    {
     "name": "stdout",
     "output_type": "stream",
     "text": [
      "Done\n",
      "Initialised with 2 image(s) found.\n",
      "Output directory set to /root/workspace/Thyroid_Solid_Nodule/data/preprocess/public_aug/tmp/image/132_/output.2 ground truth image(s) found.\n",
      "\n",
      "No./root/workspace/Thyroid_Solid_Nodule/data/preprocess/public/image/132_2.jpg data is being augmented and 48 data will be created\n"
     ]
    },
    {
     "name": "stderr",
     "output_type": "stream",
     "text": [
      "Processing <PIL.Image.Image image mode=RGB size=560x360 at 0x7F02F019CA58>: 100%|██████████| 48/48 [00:00<00:00, 92.37 Samples/s]                  \n",
      "Executing Pipeline:   0%|          | 0/40 [00:00<?, ? Samples/s]"
     ]
    },
    {
     "name": "stdout",
     "output_type": "stream",
     "text": [
      "Done\n",
      "Initialised with 1 image(s) found.\n",
      "Output directory set to /root/workspace/Thyroid_Solid_Nodule/data/preprocess/public_aug/tmp/image/160_/output.1 ground truth image(s) found.\n",
      "\n",
      "No./root/workspace/Thyroid_Solid_Nodule/data/preprocess/public/image/160_1.jpg data is being augmented and 40 data will be created\n"
     ]
    },
    {
     "name": "stderr",
     "output_type": "stream",
     "text": [
      "Processing <PIL.Image.Image image mode=RGB size=560x360 at 0x7F02F019C3C8>: 100%|██████████| 40/40 [00:00<00:00, 78.87 Samples/s]                  \n",
      "Processing <PIL.Image.Image image mode=RGB size=560x360 at 0x7F02F01BF390>:   0%|          | 0/54 [00:00<?, ? Samples/s]"
     ]
    },
    {
     "name": "stdout",
     "output_type": "stream",
     "text": [
      "Done\n",
      "Initialised with 1 image(s) found.\n",
      "Output directory set to /root/workspace/Thyroid_Solid_Nodule/data/preprocess/public_aug/tmp/image/10_/output.1 ground truth image(s) found.\n",
      "\n",
      "No./root/workspace/Thyroid_Solid_Nodule/data/preprocess/public/image/10_1.jpg data is being augmented and 54 data will be created\n"
     ]
    },
    {
     "name": "stderr",
     "output_type": "stream",
     "text": [
      "Processing <PIL.Image.Image image mode=RGB size=560x360 at 0x7F02F01806D8>: 100%|██████████| 54/54 [00:00<00:00, 107.09 Samples/s]                 \n",
      "Processing <PIL.Image.Image image mode=RGB size=560x360 at 0x7F02F017F6D8>:   2%|▏         | 1/43 [00:00<00:04,  9.51 Samples/s]"
     ]
    },
    {
     "name": "stdout",
     "output_type": "stream",
     "text": [
      "Done\n",
      "Initialised with 1 image(s) found.\n",
      "Output directory set to /root/workspace/Thyroid_Solid_Nodule/data/preprocess/public_aug/tmp/image/126_/output.1 ground truth image(s) found.\n",
      "\n",
      "No./root/workspace/Thyroid_Solid_Nodule/data/preprocess/public/image/126_1.jpg data is being augmented and 43 data will be created\n"
     ]
    },
    {
     "name": "stderr",
     "output_type": "stream",
     "text": [
      "Processing <PIL.Image.Image image mode=RGB size=560x360 at 0x7F02F0180080>: 100%|██████████| 43/43 [00:00<00:00, 96.26 Samples/s]                  \n",
      "Processing <PIL.Image.Image image mode=RGB size=560x360 at 0x7F02F010F1D0>:   2%|▏         | 1/51 [00:00<00:08,  5.90 Samples/s]"
     ]
    },
    {
     "name": "stdout",
     "output_type": "stream",
     "text": [
      "Done\n",
      "Initialised with 1 image(s) found.\n",
      "Output directory set to /root/workspace/Thyroid_Solid_Nodule/data/preprocess/public_aug/tmp/image/44_/output.1 ground truth image(s) found.\n",
      "\n",
      "No./root/workspace/Thyroid_Solid_Nodule/data/preprocess/public/image/44_1.jpg data is being augmented and 51 data will be created\n"
     ]
    },
    {
     "name": "stderr",
     "output_type": "stream",
     "text": [
      "Processing <PIL.Image.Image image mode=RGB size=560x360 at 0x7F02F01BF7B8>: 100%|██████████| 51/51 [00:00<00:00, 105.30 Samples/s]                 \n",
      "Executing Pipeline:   0%|          | 0/47 [00:00<?, ? Samples/s]"
     ]
    },
    {
     "name": "stdout",
     "output_type": "stream",
     "text": [
      "Done\n",
      "Initialised with 1 image(s) found.\n",
      "Output directory set to /root/workspace/Thyroid_Solid_Nodule/data/preprocess/public_aug/tmp/image/369_/output.1 ground truth image(s) found.\n",
      "\n",
      "No./root/workspace/Thyroid_Solid_Nodule/data/preprocess/public/image/369_1.jpg data is being augmented and 47 data will be created\n"
     ]
    },
    {
     "name": "stderr",
     "output_type": "stream",
     "text": [
      "Processing <PIL.Image.Image image mode=RGB size=560x360 at 0x7F02F010F908>: 100%|██████████| 47/47 [00:00<00:00, 122.72 Samples/s]                 \n",
      "Executing Pipeline:   0%|          | 0/44 [00:00<?, ? Samples/s]"
     ]
    },
    {
     "name": "stdout",
     "output_type": "stream",
     "text": [
      "Done\n",
      "Initialised with 1 image(s) found.\n",
      "Output directory set to /root/workspace/Thyroid_Solid_Nodule/data/preprocess/public_aug/tmp/image/maligns_610_/output.1 ground truth image(s) found.\n",
      "\n",
      "No./root/workspace/Thyroid_Solid_Nodule/data/preprocess/public/image/maligns_610_1.jpg data is being augmented and 44 data will be created\n"
     ]
    },
    {
     "name": "stderr",
     "output_type": "stream",
     "text": [
      "Processing <PIL.Image.Image image mode=RGB size=560x315 at 0x7F02F019C898>: 100%|██████████| 44/44 [00:00<00:00, 102.96 Samples/s]                \n",
      "Executing Pipeline:   0%|          | 0/55 [00:00<?, ? Samples/s]"
     ]
    },
    {
     "name": "stdout",
     "output_type": "stream",
     "text": [
      "Done\n",
      "Initialised with 1 image(s) found.\n",
      "Output directory set to /root/workspace/Thyroid_Solid_Nodule/data/preprocess/public_aug/tmp/image/236_/output.1 ground truth image(s) found.\n",
      "\n",
      "No./root/workspace/Thyroid_Solid_Nodule/data/preprocess/public/image/236_1.jpg data is being augmented and 55 data will be created\n"
     ]
    },
    {
     "name": "stderr",
     "output_type": "stream",
     "text": [
      "Processing <PIL.Image.Image image mode=RGB size=560x360 at 0x7F02F01DF7B8>: 100%|██████████| 55/55 [00:00<00:00, 94.05 Samples/s]                  \n",
      "Executing Pipeline:   0%|          | 0/60 [00:00<?, ? Samples/s]"
     ]
    },
    {
     "name": "stdout",
     "output_type": "stream",
     "text": [
      "Done\n",
      "Initialised with 2 image(s) found.\n",
      "Output directory set to /root/workspace/Thyroid_Solid_Nodule/data/preprocess/public_aug/tmp/image/381_/output.2 ground truth image(s) found.\n",
      "\n",
      "No./root/workspace/Thyroid_Solid_Nodule/data/preprocess/public/image/381_2.jpg data is being augmented and 60 data will be created\n"
     ]
    },
    {
     "name": "stderr",
     "output_type": "stream",
     "text": [
      "Processing <PIL.Image.Image image mode=RGB size=560x360 at 0x7F02F0146A58>: 100%|██████████| 60/60 [00:00<00:00, 103.28 Samples/s]\n",
      "Executing Pipeline:   0%|          | 0/57 [00:00<?, ? Samples/s]"
     ]
    },
    {
     "name": "stdout",
     "output_type": "stream",
     "text": [
      "Done\n",
      "Initialised with 1 image(s) found.\n",
      "Output directory set to /root/workspace/Thyroid_Solid_Nodule/data/preprocess/public_aug/tmp/image/89_/output.1 ground truth image(s) found.\n",
      "\n",
      "No./root/workspace/Thyroid_Solid_Nodule/data/preprocess/public/image/89_1.jpg data is being augmented and 57 data will be created\n"
     ]
    },
    {
     "name": "stderr",
     "output_type": "stream",
     "text": [
      "Processing <PIL.Image.Image image mode=RGB size=560x360 at 0x7F02F019CF98>: 100%|██████████| 57/57 [00:00<00:00, 89.08 Samples/s]                  \n",
      "Executing Pipeline:   0%|          | 0/42 [00:00<?, ? Samples/s]"
     ]
    },
    {
     "name": "stdout",
     "output_type": "stream",
     "text": [
      "Done\n",
      "Initialised with 1 image(s) found.\n",
      "Output directory set to /root/workspace/Thyroid_Solid_Nodule/data/preprocess/public_aug/tmp/image/301_/output.1 ground truth image(s) found.\n",
      "\n",
      "No./root/workspace/Thyroid_Solid_Nodule/data/preprocess/public/image/301_1.jpg data is being augmented and 42 data will be created\n"
     ]
    },
    {
     "name": "stderr",
     "output_type": "stream",
     "text": [
      "Processing <PIL.Image.Image image mode=RGB size=560x360 at 0x7F02F017F6D8>: 100%|██████████| 42/42 [00:00<00:00, 71.45 Samples/s]\n",
      "Processing <PIL.Image.Image image mode=RGB size=560x360 at 0x7F02F01BFC50>:  16%|█▋        | 7/43 [00:00<00:04,  8.43 Samples/s]"
     ]
    },
    {
     "name": "stdout",
     "output_type": "stream",
     "text": [
      "Done\n",
      "Initialised with 4 image(s) found.\n",
      "Output directory set to /root/workspace/Thyroid_Solid_Nodule/data/preprocess/public_aug/tmp/image/106_/output.4 ground truth image(s) found.\n",
      "\n",
      "No./root/workspace/Thyroid_Solid_Nodule/data/preprocess/public/image/106_4.jpg data is being augmented and 43 data will be created\n"
     ]
    },
    {
     "name": "stderr",
     "output_type": "stream",
     "text": [
      "Processing <PIL.Image.Image image mode=RGB size=560x360 at 0x7F02F0180320>: 100%|██████████| 43/43 [00:00<00:00, 112.41 Samples/s]                 \n",
      "Executing Pipeline:   0%|          | 0/50 [00:00<?, ? Samples/s]"
     ]
    },
    {
     "name": "stdout",
     "output_type": "stream",
     "text": [
      "Done\n",
      "Initialised with 4 image(s) found.\n",
      "Output directory set to /root/workspace/Thyroid_Solid_Nodule/data/preprocess/public_aug/tmp/image/92_/output.4 ground truth image(s) found.\n",
      "\n",
      "No./root/workspace/Thyroid_Solid_Nodule/data/preprocess/public/image/92_2.jpg data is being augmented and 50 data will be created\n"
     ]
    },
    {
     "name": "stderr",
     "output_type": "stream",
     "text": [
      "Processing <PIL.Image.Image image mode=RGB size=560x360 at 0x7F02F017C9E8>: 100%|██████████| 50/50 [00:00<00:00, 79.20 Samples/s]                 \n",
      "Processing <PIL.Image.Image image mode=RGB size=560x360 at 0x7F02F017F278>:   2%|▏         | 1/52 [00:00<00:08,  5.75 Samples/s]"
     ]
    },
    {
     "name": "stdout",
     "output_type": "stream",
     "text": [
      "Done\n",
      "Initialised with 1 image(s) found.\n",
      "Output directory set to /root/workspace/Thyroid_Solid_Nodule/data/preprocess/public_aug/tmp/image/140_/output.1 ground truth image(s) found.\n",
      "\n",
      "No./root/workspace/Thyroid_Solid_Nodule/data/preprocess/public/image/140_1.jpg data is being augmented and 52 data will be created\n"
     ]
    },
    {
     "name": "stderr",
     "output_type": "stream",
     "text": [
      "Processing <PIL.Image.Image image mode=RGB size=560x360 at 0x7F02F017C588>: 100%|██████████| 52/52 [00:00<00:00, 106.68 Samples/s]                \n",
      "Executing Pipeline:   0%|          | 0/48 [00:00<?, ? Samples/s]"
     ]
    },
    {
     "name": "stdout",
     "output_type": "stream",
     "text": [
      "Done\n",
      "Initialised with 2 image(s) found.\n",
      "Output directory set to /root/workspace/Thyroid_Solid_Nodule/data/preprocess/public_aug/tmp/image/198_/output.2 ground truth image(s) found.\n",
      "\n",
      "No./root/workspace/Thyroid_Solid_Nodule/data/preprocess/public/image/198_2.jpg data is being augmented and 48 data will be created\n"
     ]
    },
    {
     "name": "stderr",
     "output_type": "stream",
     "text": [
      "Processing <PIL.Image.Image image mode=RGB size=560x360 at 0x7F02F0225BA8>: 100%|██████████| 48/48 [00:00<00:00, 100.76 Samples/s]                 \n",
      "Processing <PIL.Image.Image image mode=RGB size=560x360 at 0x7F02F010F668>:   0%|          | 0/58 [00:00<?, ? Samples/s]"
     ]
    },
    {
     "name": "stdout",
     "output_type": "stream",
     "text": [
      "Done\n",
      "Initialised with 1 image(s) found.\n",
      "Output directory set to /root/workspace/Thyroid_Solid_Nodule/data/preprocess/public_aug/tmp/image/286_/output.1 ground truth image(s) found.\n",
      "\n",
      "No./root/workspace/Thyroid_Solid_Nodule/data/preprocess/public/image/286_1.jpg data is being augmented and 58 data will be created\n"
     ]
    },
    {
     "name": "stderr",
     "output_type": "stream",
     "text": [
      "Processing <PIL.Image.Image image mode=RGB size=560x360 at 0x7F02F017FAC8>: 100%|██████████| 58/58 [00:00<00:00, 97.93 Samples/s]                  \n",
      "Executing Pipeline:   0%|          | 0/54 [00:00<?, ? Samples/s]"
     ]
    },
    {
     "name": "stdout",
     "output_type": "stream",
     "text": [
      "Done\n",
      "Initialised with 1 image(s) found.\n",
      "Output directory set to /root/workspace/Thyroid_Solid_Nodule/data/preprocess/public_aug/tmp/image/341_/output.1 ground truth image(s) found.\n",
      "\n",
      "No./root/workspace/Thyroid_Solid_Nodule/data/preprocess/public/image/341_1.jpg data is being augmented and 54 data will be created\n"
     ]
    },
    {
     "name": "stderr",
     "output_type": "stream",
     "text": [
      "Processing <PIL.Image.Image image mode=RGB size=560x360 at 0x7F02F017C470>: 100%|██████████| 54/54 [00:00<00:00, 100.59 Samples/s]                 \n",
      "Executing Pipeline:   0%|          | 0/44 [00:00<?, ? Samples/s]"
     ]
    },
    {
     "name": "stdout",
     "output_type": "stream",
     "text": [
      "Done\n",
      "Initialised with 3 image(s) found.\n",
      "Output directory set to /root/workspace/Thyroid_Solid_Nodule/data/preprocess/public_aug/tmp/image/158_/output.3 ground truth image(s) found.\n",
      "\n",
      "No./root/workspace/Thyroid_Solid_Nodule/data/preprocess/public/image/158_1.jpg data is being augmented and 44 data will be created\n"
     ]
    },
    {
     "name": "stderr",
     "output_type": "stream",
     "text": [
      "Processing <PIL.Image.Image image mode=RGB size=560x360 at 0x7F02F019CAC8>: 100%|██████████| 44/44 [00:00<00:00, 80.98 Samples/s]\n",
      "Executing Pipeline:   0%|          | 0/44 [00:00<?, ? Samples/s]"
     ]
    },
    {
     "name": "stdout",
     "output_type": "stream",
     "text": [
      "Done\n",
      "Initialised with 5 image(s) found.\n",
      "Output directory set to /root/workspace/Thyroid_Solid_Nodule/data/preprocess/public_aug/tmp/image/maligns_564_/output.5 ground truth image(s) found.\n",
      "\n",
      "No./root/workspace/Thyroid_Solid_Nodule/data/preprocess/public/image/maligns_564_2.jpg data is being augmented and 44 data will be created\n"
     ]
    },
    {
     "name": "stderr",
     "output_type": "stream",
     "text": [
      "Processing <PIL.Image.Image image mode=RGB size=560x315 at 0x7F02F0178668>: 100%|██████████| 44/44 [00:00<00:00, 91.93 Samples/s]                  \n",
      "Executing Pipeline:   0%|          | 0/54 [00:00<?, ? Samples/s]"
     ]
    },
    {
     "name": "stdout",
     "output_type": "stream",
     "text": [
      "Done\n",
      "Initialised with 1 image(s) found.\n",
      "Output directory set to /root/workspace/Thyroid_Solid_Nodule/data/preprocess/public_aug/tmp/image/378_/output.1 ground truth image(s) found.\n",
      "\n",
      "No./root/workspace/Thyroid_Solid_Nodule/data/preprocess/public/image/378_1.jpg data is being augmented and 54 data will be created\n"
     ]
    },
    {
     "name": "stderr",
     "output_type": "stream",
     "text": [
      "Processing <PIL.Image.Image image mode=RGB size=560x360 at 0x7F02F019C550>: 100%|██████████| 54/54 [00:00<00:00, 104.86 Samples/s]\n",
      "Processing <PIL.Image.Image image mode=RGB size=560x360 at 0x7F02F01BFB38>:   6%|▋         | 3/48 [00:00<00:05,  8.12 Samples/s]"
     ]
    },
    {
     "name": "stdout",
     "output_type": "stream",
     "text": [
      "Done\n",
      "Initialised with 2 image(s) found.\n",
      "Output directory set to /root/workspace/Thyroid_Solid_Nodule/data/preprocess/public_aug/tmp/image/266_/output.2 ground truth image(s) found.\n",
      "\n",
      "No./root/workspace/Thyroid_Solid_Nodule/data/preprocess/public/image/266_2.jpg data is being augmented and 48 data will be created\n"
     ]
    },
    {
     "name": "stderr",
     "output_type": "stream",
     "text": [
      "Processing <PIL.Image.Image image mode=RGB size=560x360 at 0x7F02F019C2E8>: 100%|██████████| 48/48 [00:00<00:00, 106.33 Samples/s]                 \n",
      "Processing <PIL.Image.Image image mode=RGB size=560x360 at 0x7F02F010F400>:   5%|▌         | 2/40 [00:00<00:06,  5.82 Samples/s]"
     ]
    },
    {
     "name": "stdout",
     "output_type": "stream",
     "text": [
      "Done\n",
      "Initialised with 3 image(s) found.\n",
      "Output directory set to /root/workspace/Thyroid_Solid_Nodule/data/preprocess/public_aug/tmp/image/337_/output.3 ground truth image(s) found.\n",
      "\n",
      "No./root/workspace/Thyroid_Solid_Nodule/data/preprocess/public/image/337_3.jpg data is being augmented and 40 data will be created\n"
     ]
    },
    {
     "name": "stderr",
     "output_type": "stream",
     "text": [
      "Processing <PIL.Image.Image image mode=RGB size=560x360 at 0x7F02F01B6D68>: 100%|██████████| 40/40 [00:00<00:00, 104.41 Samples/s]                 \n",
      "Executing Pipeline:   0%|          | 0/45 [00:00<?, ? Samples/s]"
     ]
    },
    {
     "name": "stdout",
     "output_type": "stream",
     "text": [
      "Done\n",
      "Initialised with 1 image(s) found.\n",
      "Output directory set to /root/workspace/Thyroid_Solid_Nodule/data/preprocess/public_aug/tmp/image/52_/output.1 ground truth image(s) found.\n",
      "\n",
      "No./root/workspace/Thyroid_Solid_Nodule/data/preprocess/public/image/52_1.jpg data is being augmented and 45 data will be created\n"
     ]
    },
    {
     "name": "stderr",
     "output_type": "stream",
     "text": [
      "Processing <PIL.Image.Image image mode=RGB size=560x360 at 0x7F02F010F4E0>: 100%|██████████| 45/45 [00:00<00:00, 108.40 Samples/s]\n",
      "Executing Pipeline:   0%|          | 0/42 [00:00<?, ? Samples/s]"
     ]
    },
    {
     "name": "stdout",
     "output_type": "stream",
     "text": [
      "Done\n",
      "Initialised with 2 image(s) found.\n",
      "Output directory set to /root/workspace/Thyroid_Solid_Nodule/data/preprocess/public_aug/tmp/image/benigns_582_/output.2 ground truth image(s) found.\n",
      "\n",
      "No./root/workspace/Thyroid_Solid_Nodule/data/preprocess/public/image/benigns_582_2.jpg data is being augmented and 42 data will be created\n"
     ]
    },
    {
     "name": "stderr",
     "output_type": "stream",
     "text": [
      "Processing <PIL.Image.Image image mode=RGB size=560x315 at 0x7F02F010F710>: 100%|██████████| 42/42 [00:00<00:00, 109.81 Samples/s]                 \n",
      "Executing Pipeline:   0%|          | 0/47 [00:00<?, ? Samples/s]"
     ]
    },
    {
     "name": "stdout",
     "output_type": "stream",
     "text": [
      "Done\n",
      "Initialised with 2 image(s) found.\n",
      "Output directory set to /root/workspace/Thyroid_Solid_Nodule/data/preprocess/public_aug/tmp/image/129_/output.2 ground truth image(s) found.\n",
      "\n",
      "No./root/workspace/Thyroid_Solid_Nodule/data/preprocess/public/image/129_1.jpg data is being augmented and 47 data will be created\n"
     ]
    },
    {
     "name": "stderr",
     "output_type": "stream",
     "text": [
      "Processing <PIL.Image.Image image mode=RGB size=560x360 at 0x7F02F017F9B0>: 100%|██████████| 47/47 [00:00<00:00, 78.57 Samples/s]\n",
      "Processing <PIL.Image.Image image mode=RGB size=560x360 at 0x7F02F010F908>:  28%|██▊       | 12/43 [00:00<00:03,  8.78 Samples/s]                 "
     ]
    },
    {
     "name": "stdout",
     "output_type": "stream",
     "text": [
      "Done\n",
      "Initialised with 2 image(s) found.\n",
      "Output directory set to /root/workspace/Thyroid_Solid_Nodule/data/preprocess/public_aug/tmp/image/395_/output.2 ground truth image(s) found.\n",
      "\n",
      "No./root/workspace/Thyroid_Solid_Nodule/data/preprocess/public/image/395_1.jpg data is being augmented and 43 data will be created\n"
     ]
    },
    {
     "name": "stderr",
     "output_type": "stream",
     "text": [
      "Processing <PIL.Image.Image image mode=RGB size=560x360 at 0x7F02F017F898>: 100%|██████████| 43/43 [00:00<00:00, 115.26 Samples/s]                 \n",
      "Executing Pipeline:   0%|          | 0/44 [00:00<?, ? Samples/s]"
     ]
    },
    {
     "name": "stdout",
     "output_type": "stream",
     "text": [
      "Done\n",
      "Initialised with 3 image(s) found.\n",
      "Output directory set to /root/workspace/Thyroid_Solid_Nodule/data/preprocess/public_aug/tmp/image/234_/output.3 ground truth image(s) found.\n",
      "\n",
      "No./root/workspace/Thyroid_Solid_Nodule/data/preprocess/public/image/234_2.jpg data is being augmented and 44 data will be created\n"
     ]
    },
    {
     "name": "stderr",
     "output_type": "stream",
     "text": [
      "Processing <PIL.Image.Image image mode=RGB size=560x360 at 0x7F02F017CA90>: 100%|██████████| 44/44 [00:00<00:00, 75.60 Samples/s]                  \n",
      "Executing Pipeline:   0%|          | 0/60 [00:00<?, ? Samples/s]"
     ]
    },
    {
     "name": "stdout",
     "output_type": "stream",
     "text": [
      "Done\n",
      "Initialised with 2 image(s) found.\n",
      "Output directory set to /root/workspace/Thyroid_Solid_Nodule/data/preprocess/public_aug/tmp/image/227_/output.2 ground truth image(s) found.\n",
      "\n",
      "No./root/workspace/Thyroid_Solid_Nodule/data/preprocess/public/image/227_1.jpg data is being augmented and 60 data will be created\n"
     ]
    },
    {
     "name": "stderr",
     "output_type": "stream",
     "text": [
      "Processing <PIL.Image.Image image mode=RGB size=560x360 at 0x7F02F010FBE0>: 100%|██████████| 60/60 [00:00<00:00, 113.79 Samples/s]\n",
      "Processing <PIL.Image.Image image mode=RGB size=560x360 at 0x7F02F010FB00>:   7%|▋         | 3/42 [00:00<00:03,  9.82 Samples/s]                  "
     ]
    },
    {
     "name": "stdout",
     "output_type": "stream",
     "text": [
      "Done\n",
      "Initialised with 3 image(s) found.\n",
      "Output directory set to /root/workspace/Thyroid_Solid_Nodule/data/preprocess/public_aug/tmp/image/294_/output.3 ground truth image(s) found.\n",
      "\n",
      "No./root/workspace/Thyroid_Solid_Nodule/data/preprocess/public/image/294_3.jpg data is being augmented and 42 data will be created\n"
     ]
    },
    {
     "name": "stderr",
     "output_type": "stream",
     "text": [
      "Processing <PIL.Image.Image image mode=RGB size=560x360 at 0x7F02F0178588>: 100%|██████████| 42/42 [00:00<00:00, 91.45 Samples/s]\n",
      "Executing Pipeline:   0%|          | 0/45 [00:00<?, ? Samples/s]"
     ]
    },
    {
     "name": "stdout",
     "output_type": "stream",
     "text": [
      "Done\n",
      "Initialised with 1 image(s) found.\n",
      "Output directory set to /root/workspace/Thyroid_Solid_Nodule/data/preprocess/public_aug/tmp/image/370_/output.1 ground truth image(s) found.\n",
      "\n",
      "No./root/workspace/Thyroid_Solid_Nodule/data/preprocess/public/image/370_1.jpg data is being augmented and 45 data will be created\n"
     ]
    },
    {
     "name": "stderr",
     "output_type": "stream",
     "text": [
      "Processing <PIL.Image.Image image mode=RGB size=560x360 at 0x7F02F017FC88>: 100%|██████████| 45/45 [00:00<00:00, 79.36 Samples/s]                  \n",
      "Processing <PIL.Image.Image image mode=RGB size=560x315 at 0x7F02F017C828>:   4%|▍         | 2/52 [00:00<00:09,  5.54 Samples/s]"
     ]
    },
    {
     "name": "stdout",
     "output_type": "stream",
     "text": [
      "Done\n",
      "Initialised with 1 image(s) found.\n",
      "Output directory set to /root/workspace/Thyroid_Solid_Nodule/data/preprocess/public_aug/tmp/image/maligns_601_/output.1 ground truth image(s) found.\n",
      "\n",
      "No./root/workspace/Thyroid_Solid_Nodule/data/preprocess/public/image/maligns_601_1.jpg data is being augmented and 52 data will be created\n"
     ]
    },
    {
     "name": "stderr",
     "output_type": "stream",
     "text": [
      "Processing <PIL.Image.Image image mode=RGB size=560x315 at 0x7F02F0146A90>: 100%|██████████| 52/52 [00:00<00:00, 101.71 Samples/s]                 \n",
      "Executing Pipeline:   0%|          | 0/57 [00:00<?, ? Samples/s]"
     ]
    },
    {
     "name": "stdout",
     "output_type": "stream",
     "text": [
      "Done\n",
      "Initialised with 2 image(s) found.\n",
      "Output directory set to /root/workspace/Thyroid_Solid_Nodule/data/preprocess/public_aug/tmp/image/209_/output.2 ground truth image(s) found.\n",
      "\n",
      "No./root/workspace/Thyroid_Solid_Nodule/data/preprocess/public/image/209_2.jpg data is being augmented and 57 data will be created\n"
     ]
    },
    {
     "name": "stderr",
     "output_type": "stream",
     "text": [
      "Processing <PIL.Image.Image image mode=RGB size=560x360 at 0x7F02F0178198>: 100%|██████████| 57/57 [00:00<00:00, 92.03 Samples/s]                  \n",
      "Executing Pipeline:   0%|          | 0/54 [00:00<?, ? Samples/s]"
     ]
    },
    {
     "name": "stdout",
     "output_type": "stream",
     "text": [
      "Done\n",
      "Initialised with 1 image(s) found.\n",
      "Output directory set to /root/workspace/Thyroid_Solid_Nodule/data/preprocess/public_aug/tmp/image/113_/output.1 ground truth image(s) found.\n",
      "\n",
      "No./root/workspace/Thyroid_Solid_Nodule/data/preprocess/public/image/113_1.jpg data is being augmented and 54 data will be created\n"
     ]
    },
    {
     "name": "stderr",
     "output_type": "stream",
     "text": [
      "Processing <PIL.Image.Image image mode=RGB size=560x360 at 0x7F02F01BFBA8>: 100%|██████████| 54/54 [00:00<00:00, 85.14 Samples/s]                  \n",
      "Executing Pipeline:   0%|          | 0/41 [00:00<?, ? Samples/s]"
     ]
    },
    {
     "name": "stdout",
     "output_type": "stream",
     "text": [
      "Done\n",
      "Initialised with 1 image(s) found.\n",
      "Output directory set to /root/workspace/Thyroid_Solid_Nodule/data/preprocess/public_aug/tmp/image/21_/output.1 ground truth image(s) found.\n",
      "\n",
      "No./root/workspace/Thyroid_Solid_Nodule/data/preprocess/public/image/21_1.jpg data is being augmented and 41 data will be created\n"
     ]
    },
    {
     "name": "stderr",
     "output_type": "stream",
     "text": [
      "Processing <PIL.Image.Image image mode=RGB size=560x360 at 0x7F02F017C748>: 100%|██████████| 41/41 [00:00<00:00, 83.06 Samples/s]                  \n",
      "Executing Pipeline:   0%|          | 0/59 [00:00<?, ? Samples/s]"
     ]
    },
    {
     "name": "stdout",
     "output_type": "stream",
     "text": [
      "Done\n",
      "Initialised with 1 image(s) found.\n",
      "Output directory set to /root/workspace/Thyroid_Solid_Nodule/data/preprocess/public_aug/tmp/image/133_/output.1 ground truth image(s) found.\n",
      "\n",
      "No./root/workspace/Thyroid_Solid_Nodule/data/preprocess/public/image/133_1.jpg data is being augmented and 59 data will be created\n"
     ]
    },
    {
     "name": "stderr",
     "output_type": "stream",
     "text": [
      "Processing <PIL.Image.Image image mode=RGB size=560x360 at 0x7F02F0183E48>: 100%|██████████| 59/59 [00:00<00:00, 79.01 Samples/s]                  \n",
      "Processing <PIL.Image.Image image mode=RGB size=560x360 at 0x7F02F017CF60>:   2%|▏         | 1/42 [00:00<00:05,  6.86 Samples/s]"
     ]
    },
    {
     "name": "stdout",
     "output_type": "stream",
     "text": [
      "Done\n",
      "Initialised with 5 image(s) found.\n",
      "Output directory set to /root/workspace/Thyroid_Solid_Nodule/data/preprocess/public_aug/tmp/image/296_/output.5 ground truth image(s) found.\n",
      "\n",
      "No./root/workspace/Thyroid_Solid_Nodule/data/preprocess/public/image/296_4.jpg data is being augmented and 42 data will be created\n"
     ]
    },
    {
     "name": "stderr",
     "output_type": "stream",
     "text": [
      "Processing <PIL.Image.Image image mode=RGB size=560x360 at 0x7F02F0183828>: 100%|██████████| 42/42 [00:00<00:00, 85.44 Samples/s]                  \n",
      "Processing <PIL.Image.Image image mode=RGB size=560x360 at 0x7F02F010F438>:   0%|          | 0/44 [00:00<?, ? Samples/s]"
     ]
    },
    {
     "name": "stdout",
     "output_type": "stream",
     "text": [
      "Done\n",
      "Initialised with 1 image(s) found.\n",
      "Output directory set to /root/workspace/Thyroid_Solid_Nodule/data/preprocess/public_aug/tmp/image/142_/output.1 ground truth image(s) found.\n",
      "\n",
      "No./root/workspace/Thyroid_Solid_Nodule/data/preprocess/public/image/142_1.jpg data is being augmented and 44 data will be created\n"
     ]
    },
    {
     "name": "stderr",
     "output_type": "stream",
     "text": [
      "Processing <PIL.Image.Image image mode=RGB size=560x360 at 0x7F02F017C748>: 100%|██████████| 44/44 [00:00<00:00, 78.45 Samples/s]\n",
      "Executing Pipeline:   0%|          | 0/47 [00:00<?, ? Samples/s]"
     ]
    },
    {
     "name": "stdout",
     "output_type": "stream",
     "text": [
      "Done\n",
      "Initialised with 4 image(s) found.\n",
      "Output directory set to /root/workspace/Thyroid_Solid_Nodule/data/preprocess/public_aug/tmp/image/92_/output.4 ground truth image(s) found.\n",
      "\n",
      "No./root/workspace/Thyroid_Solid_Nodule/data/preprocess/public/image/92_4.jpg data is being augmented and 47 data will be created\n"
     ]
    },
    {
     "name": "stderr",
     "output_type": "stream",
     "text": [
      "Processing <PIL.Image.Image image mode=RGB size=560x360 at 0x7F02F01787B8>: 100%|██████████| 47/47 [00:00<00:00, 93.95 Samples/s]                  \n",
      "Executing Pipeline:   0%|          | 0/55 [00:00<?, ? Samples/s]"
     ]
    },
    {
     "name": "stdout",
     "output_type": "stream",
     "text": [
      "Done\n",
      "Initialised with 2 image(s) found.\n",
      "Output directory set to /root/workspace/Thyroid_Solid_Nodule/data/preprocess/public_aug/tmp/image/97_/output.2 ground truth image(s) found.\n",
      "\n",
      "No./root/workspace/Thyroid_Solid_Nodule/data/preprocess/public/image/97_2.jpg data is being augmented and 55 data will be created\n"
     ]
    },
    {
     "name": "stderr",
     "output_type": "stream",
     "text": [
      "Processing <PIL.Image.Image image mode=RGB size=560x360 at 0x7F02F010FC88>: 100%|██████████| 55/55 [00:00<00:00, 94.66 Samples/s]\n",
      "Executing Pipeline:   0%|          | 0/43 [00:00<?, ? Samples/s]"
     ]
    },
    {
     "name": "stdout",
     "output_type": "stream",
     "text": [
      "Done\n",
      "Initialised with 1 image(s) found.\n",
      "Output directory set to /root/workspace/Thyroid_Solid_Nodule/data/preprocess/public_aug/tmp/image/295_/output.1 ground truth image(s) found.\n",
      "\n",
      "No./root/workspace/Thyroid_Solid_Nodule/data/preprocess/public/image/295_1.jpg data is being augmented and 43 data will be created\n"
     ]
    },
    {
     "name": "stderr",
     "output_type": "stream",
     "text": [
      "Processing <PIL.Image.Image image mode=RGB size=560x360 at 0x7F02F010F0B8>: 100%|██████████| 43/43 [00:00<00:00, 77.20 Samples/s]                  \n",
      "Executing Pipeline:   0%|          | 0/48 [00:00<?, ? Samples/s]"
     ]
    },
    {
     "name": "stdout",
     "output_type": "stream",
     "text": [
      "Done\n",
      "Initialised with 2 image(s) found.\n",
      "Output directory set to /root/workspace/Thyroid_Solid_Nodule/data/preprocess/public_aug/tmp/image/maligns_552_/output.2 ground truth image(s) found.\n",
      "\n",
      "No./root/workspace/Thyroid_Solid_Nodule/data/preprocess/public/image/maligns_552_1.jpg data is being augmented and 48 data will be created\n"
     ]
    },
    {
     "name": "stderr",
     "output_type": "stream",
     "text": [
      "Processing <PIL.Image.Image image mode=RGB size=560x315 at 0x7F02F0247BA8>: 100%|██████████| 48/48 [00:00<00:00, 116.09 Samples/s]                 \n",
      "Executing Pipeline:   0%|          | 0/43 [00:00<?, ? Samples/s]"
     ]
    },
    {
     "name": "stdout",
     "output_type": "stream",
     "text": [
      "Done\n",
      "Initialised with 1 image(s) found.\n",
      "Output directory set to /root/workspace/Thyroid_Solid_Nodule/data/preprocess/public_aug/tmp/image/229_/output.1 ground truth image(s) found.\n",
      "\n",
      "No./root/workspace/Thyroid_Solid_Nodule/data/preprocess/public/image/229_1.jpg data is being augmented and 43 data will be created\n"
     ]
    },
    {
     "name": "stderr",
     "output_type": "stream",
     "text": [
      "Processing <PIL.Image.Image image mode=RGB size=560x360 at 0x7F02F017C358>: 100%|██████████| 43/43 [00:00<00:00, 91.99 Samples/s]                 \n",
      "Executing Pipeline:   0%|          | 0/58 [00:00<?, ? Samples/s]"
     ]
    },
    {
     "name": "stdout",
     "output_type": "stream",
     "text": [
      "Done\n",
      "Initialised with 1 image(s) found.\n",
      "Output directory set to /root/workspace/Thyroid_Solid_Nodule/data/preprocess/public_aug/tmp/image/benigns_578_/output.1 ground truth image(s) found.\n",
      "\n",
      "No./root/workspace/Thyroid_Solid_Nodule/data/preprocess/public/image/benigns_578_1.jpg data is being augmented and 58 data will be created\n"
     ]
    },
    {
     "name": "stderr",
     "output_type": "stream",
     "text": [
      "Processing <PIL.Image.Image image mode=RGB size=560x315 at 0x7F02F01B6550>: 100%|██████████| 58/58 [00:00<00:00, 108.99 Samples/s]                 \n",
      "Executing Pipeline:   0%|          | 0/48 [00:00<?, ? Samples/s]"
     ]
    },
    {
     "name": "stdout",
     "output_type": "stream",
     "text": [
      "Done\n",
      "Initialised with 2 image(s) found.\n",
      "Output directory set to /root/workspace/Thyroid_Solid_Nodule/data/preprocess/public_aug/tmp/image/391_/output.2 ground truth image(s) found.\n",
      "\n",
      "No./root/workspace/Thyroid_Solid_Nodule/data/preprocess/public/image/391_2.jpg data is being augmented and 48 data will be created\n"
     ]
    },
    {
     "name": "stderr",
     "output_type": "stream",
     "text": [
      "Processing <PIL.Image.Image image mode=RGB size=560x360 at 0x7F02F01BFA58>: 100%|██████████| 48/48 [00:00<00:00, 83.58 Samples/s]\n",
      "Executing Pipeline:   0%|          | 0/45 [00:00<?, ? Samples/s]"
     ]
    },
    {
     "name": "stdout",
     "output_type": "stream",
     "text": [
      "Done\n",
      "Initialised with 1 image(s) found.\n",
      "Output directory set to /root/workspace/Thyroid_Solid_Nodule/data/preprocess/public_aug/tmp/image/47_/output.1 ground truth image(s) found.\n",
      "\n",
      "No./root/workspace/Thyroid_Solid_Nodule/data/preprocess/public/image/47_1.jpg data is being augmented and 45 data will be created\n"
     ]
    },
    {
     "name": "stderr",
     "output_type": "stream",
     "text": [
      "Processing <PIL.JpegImagePlugin.JpegImageFile image mode=RGB size=560x360 at 0x7F02F017C5F8>: 100%|██████████| 45/45 [00:00<00:00, 75.95 Samples/s]\n",
      "Executing Pipeline:   0%|          | 0/52 [00:00<?, ? Samples/s]"
     ]
    },
    {
     "name": "stdout",
     "output_type": "stream",
     "text": [
      "Done\n",
      "Initialised with 2 image(s) found.\n",
      "Output directory set to /root/workspace/Thyroid_Solid_Nodule/data/preprocess/public_aug/tmp/image/maligns_576_/output.2 ground truth image(s) found.\n",
      "\n",
      "No./root/workspace/Thyroid_Solid_Nodule/data/preprocess/public/image/maligns_576_2.jpg data is being augmented and 52 data will be created\n"
     ]
    },
    {
     "name": "stderr",
     "output_type": "stream",
     "text": [
      "Processing <PIL.Image.Image image mode=RGB size=560x315 at 0x7F02F0125A58>: 100%|██████████| 52/52 [00:00<00:00, 105.36 Samples/s]\n",
      "Executing Pipeline:   0%|          | 0/60 [00:00<?, ? Samples/s]"
     ]
    },
    {
     "name": "stdout",
     "output_type": "stream",
     "text": [
      "Done\n",
      "Initialised with 1 image(s) found.\n",
      "Output directory set to /root/workspace/Thyroid_Solid_Nodule/data/preprocess/public_aug/tmp/image/267_/output.1 ground truth image(s) found.\n",
      "\n",
      "No./root/workspace/Thyroid_Solid_Nodule/data/preprocess/public/image/267_1.jpg data is being augmented and 60 data will be created\n"
     ]
    },
    {
     "name": "stderr",
     "output_type": "stream",
     "text": [
      "Processing <PIL.Image.Image image mode=RGB size=560x360 at 0x7F02F0183F98>: 100%|██████████| 60/60 [00:00<00:00, 101.47 Samples/s]                 \n",
      "Processing <PIL.Image.Image image mode=RGB size=560x360 at 0x7F02F01B6588>:   2%|▎         | 1/40 [00:00<00:06,  6.37 Samples/s]"
     ]
    },
    {
     "name": "stdout",
     "output_type": "stream",
     "text": [
      "Done\n",
      "Initialised with 2 image(s) found.\n",
      "Output directory set to /root/workspace/Thyroid_Solid_Nodule/data/preprocess/public_aug/tmp/image/96_/output.2 ground truth image(s) found.\n",
      "\n",
      "No./root/workspace/Thyroid_Solid_Nodule/data/preprocess/public/image/96_1.jpg data is being augmented and 40 data will be created\n"
     ]
    },
    {
     "name": "stderr",
     "output_type": "stream",
     "text": [
      "Processing <PIL.Image.Image image mode=RGB size=560x360 at 0x7F02F0125978>: 100%|██████████| 40/40 [00:00<00:00, 91.24 Samples/s]\n",
      "Executing Pipeline:   0%|          | 0/60 [00:00<?, ? Samples/s]"
     ]
    },
    {
     "name": "stdout",
     "output_type": "stream",
     "text": [
      "Done\n",
      "Initialised with 1 image(s) found.\n",
      "Output directory set to /root/workspace/Thyroid_Solid_Nodule/data/preprocess/public_aug/tmp/image/137_/output.1 ground truth image(s) found.\n",
      "\n",
      "No./root/workspace/Thyroid_Solid_Nodule/data/preprocess/public/image/137_1.jpg data is being augmented and 60 data will be created\n"
     ]
    },
    {
     "name": "stderr",
     "output_type": "stream",
     "text": [
      "Processing <PIL.Image.Image image mode=RGB size=560x360 at 0x7F02F0183D68>: 100%|██████████| 60/60 [00:00<00:00, 110.16 Samples/s]                 \n",
      "Processing <PIL.Image.Image image mode=RGB size=560x360 at 0x7F02F01B6FD0>:   0%|          | 0/49 [00:00<?, ? Samples/s]"
     ]
    },
    {
     "name": "stdout",
     "output_type": "stream",
     "text": [
      "Done\n",
      "Initialised with 1 image(s) found.\n",
      "Output directory set to /root/workspace/Thyroid_Solid_Nodule/data/preprocess/public_aug/tmp/image/55_/output.1 ground truth image(s) found.\n",
      "\n",
      "No./root/workspace/Thyroid_Solid_Nodule/data/preprocess/public/image/55_1.jpg data is being augmented and 49 data will be created\n"
     ]
    },
    {
     "name": "stderr",
     "output_type": "stream",
     "text": [
      "Processing <PIL.Image.Image image mode=RGB size=560x360 at 0x7F02F012ABE0>: 100%|██████████| 49/49 [00:00<00:00, 100.51 Samples/s]                 \n",
      "Processing <PIL.Image.Image image mode=RGB size=560x360 at 0x7F02F01284E0>:   4%|▍         | 2/47 [00:00<00:05,  7.71 Samples/s]"
     ]
    },
    {
     "name": "stdout",
     "output_type": "stream",
     "text": [
      "Done\n",
      "Initialised with 2 image(s) found.\n",
      "Output directory set to /root/workspace/Thyroid_Solid_Nodule/data/preprocess/public_aug/tmp/image/233_/output.2 ground truth image(s) found.\n",
      "\n",
      "No./root/workspace/Thyroid_Solid_Nodule/data/preprocess/public/image/233_2.jpg data is being augmented and 47 data will be created\n"
     ]
    },
    {
     "name": "stderr",
     "output_type": "stream",
     "text": [
      "Processing <PIL.Image.Image image mode=RGB size=560x360 at 0x7F02F010FA90>: 100%|██████████| 47/47 [00:00<00:00, 101.99 Samples/s]                 \n",
      "Processing <PIL.Image.Image image mode=RGB size=560x360 at 0x7F02F0125AC8>:   0%|          | 0/50 [00:00<?, ? Samples/s]"
     ]
    },
    {
     "name": "stdout",
     "output_type": "stream",
     "text": [
      "Done\n",
      "Initialised with 2 image(s) found.\n",
      "Output directory set to /root/workspace/Thyroid_Solid_Nodule/data/preprocess/public_aug/tmp/image/129_/output.2 ground truth image(s) found.\n",
      "\n",
      "No./root/workspace/Thyroid_Solid_Nodule/data/preprocess/public/image/129_2.jpg data is being augmented and 50 data will be created\n"
     ]
    },
    {
     "name": "stderr",
     "output_type": "stream",
     "text": [
      "Processing <PIL.Image.Image image mode=RGB size=560x360 at 0x7F02F013F400>: 100%|██████████| 50/50 [00:00<00:00, 100.42 Samples/s]                 \n",
      "Processing <PIL.Image.Image image mode=RGB size=560x315 at 0x7F02F013FC88>:   2%|▏         | 1/54 [00:00<00:08,  6.59 Samples/s]"
     ]
    },
    {
     "name": "stdout",
     "output_type": "stream",
     "text": [
      "Done\n",
      "Initialised with 1 image(s) found.\n",
      "Output directory set to /root/workspace/Thyroid_Solid_Nodule/data/preprocess/public_aug/tmp/image/benigns_605_/output.1 ground truth image(s) found.\n",
      "\n",
      "No./root/workspace/Thyroid_Solid_Nodule/data/preprocess/public/image/benigns_605_1.jpg data is being augmented and 54 data will be created\n"
     ]
    },
    {
     "name": "stderr",
     "output_type": "stream",
     "text": [
      "Processing <PIL.Image.Image image mode=RGB size=560x315 at 0x7F02F012A518>: 100%|██████████| 54/54 [00:00<00:00, 115.35 Samples/s]\n",
      "Processing <PIL.Image.Image image mode=RGB size=560x360 at 0x7F02F013F940>:  13%|█▎        | 6/47 [00:00<00:04,  9.10 Samples/s]"
     ]
    },
    {
     "name": "stdout",
     "output_type": "stream",
     "text": [
      "Done\n",
      "Initialised with 1 image(s) found.\n",
      "Output directory set to /root/workspace/Thyroid_Solid_Nodule/data/preprocess/public_aug/tmp/image/339_/output.1 ground truth image(s) found.\n",
      "\n",
      "No./root/workspace/Thyroid_Solid_Nodule/data/preprocess/public/image/339_1.jpg data is being augmented and 47 data will be created\n"
     ]
    },
    {
     "name": "stderr",
     "output_type": "stream",
     "text": [
      "Processing <PIL.Image.Image image mode=RGB size=560x360 at 0x7F02F013F3C8>: 100%|██████████| 47/47 [00:00<00:00, 119.00 Samples/s]                 \n",
      "Executing Pipeline:   0%|          | 0/56 [00:00<?, ? Samples/s]"
     ]
    },
    {
     "name": "stdout",
     "output_type": "stream",
     "text": [
      "Done\n",
      "Initialised with 1 image(s) found.\n",
      "Output directory set to /root/workspace/Thyroid_Solid_Nodule/data/preprocess/public_aug/tmp/image/3_/output.1 ground truth image(s) found.\n",
      "\n",
      "No./root/workspace/Thyroid_Solid_Nodule/data/preprocess/public/image/3_1.jpg data is being augmented and 56 data will be created\n"
     ]
    },
    {
     "name": "stderr",
     "output_type": "stream",
     "text": [
      "Processing <PIL.Image.Image image mode=RGB size=560x360 at 0x7F02F0225400>: 100%|██████████| 56/56 [00:00<00:00, 101.27 Samples/s]                 \n",
      "Executing Pipeline:   0%|          | 0/56 [00:00<?, ? Samples/s]"
     ]
    },
    {
     "name": "stdout",
     "output_type": "stream",
     "text": [
      "Done\n",
      "Initialised with 1 image(s) found.\n",
      "Output directory set to /root/workspace/Thyroid_Solid_Nodule/data/preprocess/public_aug/tmp/image/maligns_646_/output.1 ground truth image(s) found.\n",
      "\n",
      "No./root/workspace/Thyroid_Solid_Nodule/data/preprocess/public/image/maligns_646_1.jpg data is being augmented and 56 data will be created\n"
     ]
    },
    {
     "name": "stderr",
     "output_type": "stream",
     "text": [
      "Processing <PIL.Image.Image image mode=RGB size=560x315 at 0x7F02F012E860>: 100%|██████████| 56/56 [00:00<00:00, 97.08 Samples/s]                  \n",
      "Processing <PIL.Image.Image image mode=RGB size=560x360 at 0x7F02F01289B0>:   2%|▏         | 1/49 [00:00<00:08,  5.60 Samples/s]"
     ]
    },
    {
     "name": "stdout",
     "output_type": "stream",
     "text": [
      "Done\n",
      "Initialised with 2 image(s) found.\n",
      "Output directory set to /root/workspace/Thyroid_Solid_Nodule/data/preprocess/public_aug/tmp/image/75_/output.2 ground truth image(s) found.\n",
      "\n",
      "No./root/workspace/Thyroid_Solid_Nodule/data/preprocess/public/image/75_2.jpg data is being augmented and 49 data will be created\n"
     ]
    },
    {
     "name": "stderr",
     "output_type": "stream",
     "text": [
      "Processing <PIL.Image.Image image mode=RGB size=560x360 at 0x7F02F012AB00>: 100%|██████████| 49/49 [00:00<00:00, 99.62 Samples/s]                  \n",
      "Executing Pipeline:   0%|          | 0/58 [00:00<?, ? Samples/s]"
     ]
    },
    {
     "name": "stdout",
     "output_type": "stream",
     "text": [
      "Done\n",
      "Initialised with 1 image(s) found.\n",
      "Output directory set to /root/workspace/Thyroid_Solid_Nodule/data/preprocess/public_aug/tmp/image/291_/output.1 ground truth image(s) found.\n",
      "\n",
      "No./root/workspace/Thyroid_Solid_Nodule/data/preprocess/public/image/291_1.jpg data is being augmented and 58 data will be created\n"
     ]
    },
    {
     "name": "stderr",
     "output_type": "stream",
     "text": [
      "Processing <PIL.Image.Image image mode=RGB size=560x360 at 0x7F02F01BF908>: 100%|██████████| 58/58 [00:00<00:00, 97.09 Samples/s]\n",
      "Executing Pipeline:   0%|          | 0/41 [00:00<?, ? Samples/s]"
     ]
    },
    {
     "name": "stdout",
     "output_type": "stream",
     "text": [
      "Done\n",
      "Initialised with 2 image(s) found.\n",
      "Output directory set to /root/workspace/Thyroid_Solid_Nodule/data/preprocess/public_aug/tmp/image/1_/output.2 ground truth image(s) found.\n",
      "\n",
      "No./root/workspace/Thyroid_Solid_Nodule/data/preprocess/public/image/1_2.jpg data is being augmented and 41 data will be created\n"
     ]
    },
    {
     "name": "stderr",
     "output_type": "stream",
     "text": [
      "Processing <PIL.Image.Image image mode=RGB size=560x360 at 0x7F02F011EB00>: 100%|██████████| 41/41 [00:00<00:00, 88.09 Samples/s]                  \n",
      "Processing <PIL.Image.Image image mode=RGB size=560x360 at 0x7F02F0225668>:   0%|          | 0/54 [00:00<?, ? Samples/s]"
     ]
    },
    {
     "name": "stdout",
     "output_type": "stream",
     "text": [
      "Done\n",
      "Initialised with 1 image(s) found.\n",
      "Output directory set to /root/workspace/Thyroid_Solid_Nodule/data/preprocess/public_aug/tmp/image/262_/output.1 ground truth image(s) found.\n",
      "\n",
      "No./root/workspace/Thyroid_Solid_Nodule/data/preprocess/public/image/262_1.jpg data is being augmented and 54 data will be created\n"
     ]
    },
    {
     "name": "stderr",
     "output_type": "stream",
     "text": [
      "Processing <PIL.Image.Image image mode=RGB size=560x360 at 0x7F02F01B6CF8>: 100%|██████████| 54/54 [00:00<00:00, 97.94 Samples/s]                  \n",
      "Executing Pipeline:   0%|          | 0/51 [00:00<?, ? Samples/s]"
     ]
    },
    {
     "name": "stdout",
     "output_type": "stream",
     "text": [
      "Done\n",
      "Initialised with 1 image(s) found.\n",
      "Output directory set to /root/workspace/Thyroid_Solid_Nodule/data/preprocess/public_aug/tmp/image/67_/output.1 ground truth image(s) found.\n",
      "\n",
      "No./root/workspace/Thyroid_Solid_Nodule/data/preprocess/public/image/67_1.jpg data is being augmented and 51 data will be created\n"
     ]
    },
    {
     "name": "stderr",
     "output_type": "stream",
     "text": [
      "Processing <PIL.Image.Image image mode=RGB size=560x360 at 0x7F02F011E5C0>: 100%|██████████| 51/51 [00:00<00:00, 88.63 Samples/s]                  \n",
      "Executing Pipeline:   0%|          | 0/57 [00:00<?, ? Samples/s]"
     ]
    },
    {
     "name": "stdout",
     "output_type": "stream",
     "text": [
      "Done\n",
      "Initialised with 1 image(s) found.\n",
      "Output directory set to /root/workspace/Thyroid_Solid_Nodule/data/preprocess/public_aug/tmp/image/394_/output.1 ground truth image(s) found.\n",
      "\n",
      "No./root/workspace/Thyroid_Solid_Nodule/data/preprocess/public/image/394_1.jpg data is being augmented and 57 data will be created\n"
     ]
    },
    {
     "name": "stderr",
     "output_type": "stream",
     "text": [
      "Processing <PIL.Image.Image image mode=RGB size=560x360 at 0x7F02F0178940>: 100%|██████████| 57/57 [00:00<00:00, 104.32 Samples/s]\n",
      "Executing Pipeline:   0%|          | 0/45 [00:00<?, ? Samples/s]"
     ]
    },
    {
     "name": "stdout",
     "output_type": "stream",
     "text": [
      "Done\n",
      "Initialised with 1 image(s) found.\n",
      "Output directory set to /root/workspace/Thyroid_Solid_Nodule/data/preprocess/public_aug/tmp/image/257_/output.1 ground truth image(s) found.\n",
      "\n",
      "No./root/workspace/Thyroid_Solid_Nodule/data/preprocess/public/image/257_1.jpg data is being augmented and 45 data will be created\n"
     ]
    },
    {
     "name": "stderr",
     "output_type": "stream",
     "text": [
      "Processing <PIL.Image.Image image mode=RGB size=560x360 at 0x7F02F012A128>: 100%|██████████| 45/45 [00:00<00:00, 83.39 Samples/s]                  \n",
      "Executing Pipeline:   0%|          | 0/60 [00:00<?, ? Samples/s]"
     ]
    },
    {
     "name": "stdout",
     "output_type": "stream",
     "text": [
      "Done\n",
      "Initialised with 3 image(s) found.\n",
      "Output directory set to /root/workspace/Thyroid_Solid_Nodule/data/preprocess/public_aug/tmp/image/69_/output.3 ground truth image(s) found.\n",
      "\n",
      "No./root/workspace/Thyroid_Solid_Nodule/data/preprocess/public/image/69_2.jpg data is being augmented and 60 data will be created\n"
     ]
    },
    {
     "name": "stderr",
     "output_type": "stream",
     "text": [
      "Processing <PIL.Image.Image image mode=RGB size=560x360 at 0x7F02F01289B0>: 100%|██████████| 60/60 [00:00<00:00, 92.87 Samples/s]                  \n",
      "Executing Pipeline:   0%|          | 0/45 [00:00<?, ? Samples/s]"
     ]
    },
    {
     "name": "stdout",
     "output_type": "stream",
     "text": [
      "Done\n",
      "Initialised with 2 image(s) found.\n",
      "Output directory set to /root/workspace/Thyroid_Solid_Nodule/data/preprocess/public_aug/tmp/image/90_/output.2 ground truth image(s) found.\n",
      "\n",
      "No./root/workspace/Thyroid_Solid_Nodule/data/preprocess/public/image/90_1.jpg data is being augmented and 45 data will be created\n"
     ]
    },
    {
     "name": "stderr",
     "output_type": "stream",
     "text": [
      "Processing <PIL.Image.Image image mode=RGB size=560x360 at 0x7F02F013F860>: 100%|██████████| 45/45 [00:00<00:00, 89.11 Samples/s]                  \n",
      "Executing Pipeline:   0%|          | 0/59 [00:00<?, ? Samples/s]"
     ]
    },
    {
     "name": "stdout",
     "output_type": "stream",
     "text": [
      "Done\n",
      "Initialised with 2 image(s) found.\n",
      "Output directory set to /root/workspace/Thyroid_Solid_Nodule/data/preprocess/public_aug/tmp/image/350_/output.2 ground truth image(s) found.\n",
      "\n",
      "No./root/workspace/Thyroid_Solid_Nodule/data/preprocess/public/image/350_1.jpg data is being augmented and 59 data will be created\n"
     ]
    },
    {
     "name": "stderr",
     "output_type": "stream",
     "text": [
      "Processing <PIL.Image.Image image mode=RGB size=560x360 at 0x7F02F01462E8>: 100%|██████████| 59/59 [00:00<00:00, 81.70 Samples/s]                  \n",
      "Executing Pipeline:   0%|          | 0/44 [00:00<?, ? Samples/s]"
     ]
    },
    {
     "name": "stdout",
     "output_type": "stream",
     "text": [
      "Done\n",
      "Initialised with 1 image(s) found.\n",
      "Output directory set to /root/workspace/Thyroid_Solid_Nodule/data/preprocess/public_aug/tmp/image/305_/output.1 ground truth image(s) found.\n",
      "\n",
      "No./root/workspace/Thyroid_Solid_Nodule/data/preprocess/public/image/305_1.jpg data is being augmented and 44 data will be created\n"
     ]
    },
    {
     "name": "stderr",
     "output_type": "stream",
     "text": [
      "Processing <PIL.Image.Image image mode=RGB size=560x360 at 0x7F02F00CFD68>: 100%|██████████| 44/44 [00:00<00:00, 103.79 Samples/s]                 \n",
      "Executing Pipeline:   0%|          | 0/42 [00:00<?, ? Samples/s]"
     ]
    },
    {
     "name": "stdout",
     "output_type": "stream",
     "text": [
      "Done\n",
      "Initialised with 2 image(s) found.\n",
      "Output directory set to /root/workspace/Thyroid_Solid_Nodule/data/preprocess/public_aug/tmp/image/189_/output.2 ground truth image(s) found.\n",
      "\n",
      "No./root/workspace/Thyroid_Solid_Nodule/data/preprocess/public/image/189_1.jpg data is being augmented and 42 data will be created\n"
     ]
    },
    {
     "name": "stderr",
     "output_type": "stream",
     "text": [
      "Processing <PIL.Image.Image image mode=RGB size=560x360 at 0x7F02F012AEF0>: 100%|██████████| 42/42 [00:00<00:00, 99.82 Samples/s]                 \n",
      "Executing Pipeline:   0%|          | 0/58 [00:00<?, ? Samples/s]"
     ]
    },
    {
     "name": "stdout",
     "output_type": "stream",
     "text": [
      "Done\n",
      "Initialised with 1 image(s) found.\n",
      "Output directory set to /root/workspace/Thyroid_Solid_Nodule/data/preprocess/public_aug/tmp/image/309_/output.1 ground truth image(s) found.\n",
      "\n",
      "No./root/workspace/Thyroid_Solid_Nodule/data/preprocess/public/image/309_1.jpg data is being augmented and 58 data will be created\n"
     ]
    },
    {
     "name": "stderr",
     "output_type": "stream",
     "text": [
      "Processing <PIL.Image.Image image mode=RGB size=560x360 at 0x7F02F0128940>: 100%|██████████| 58/58 [00:00<00:00, 96.02 Samples/s]                  \n",
      "Executing Pipeline:   0%|          | 0/56 [00:00<?, ? Samples/s]"
     ]
    },
    {
     "name": "stdout",
     "output_type": "stream",
     "text": [
      "Done\n",
      "Initialised with 1 image(s) found.\n",
      "Output directory set to /root/workspace/Thyroid_Solid_Nodule/data/preprocess/public_aug/tmp/image/107_/output.1 ground truth image(s) found.\n",
      "\n",
      "No./root/workspace/Thyroid_Solid_Nodule/data/preprocess/public/image/107_1.jpg data is being augmented and 56 data will be created\n"
     ]
    },
    {
     "name": "stderr",
     "output_type": "stream",
     "text": [
      "Processing <PIL.Image.Image image mode=RGB size=560x360 at 0x7F02F013F6D8>: 100%|██████████| 56/56 [00:00<00:00, 109.47 Samples/s]                 \n",
      "Executing Pipeline:   0%|          | 0/60 [00:00<?, ? Samples/s]"
     ]
    },
    {
     "name": "stdout",
     "output_type": "stream",
     "text": [
      "Done\n",
      "Initialised with 1 image(s) found.\n",
      "Output directory set to /root/workspace/Thyroid_Solid_Nodule/data/preprocess/public_aug/tmp/image/281_/output.1 ground truth image(s) found.\n",
      "\n",
      "No./root/workspace/Thyroid_Solid_Nodule/data/preprocess/public/image/281_1.jpg data is being augmented and 60 data will be created\n"
     ]
    },
    {
     "name": "stderr",
     "output_type": "stream",
     "text": [
      "Processing <PIL.Image.Image image mode=RGB size=560x360 at 0x7F02F0125AC8>: 100%|██████████| 60/60 [00:00<00:00, 101.23 Samples/s]                 \n",
      "Executing Pipeline:   0%|          | 0/55 [00:00<?, ? Samples/s]"
     ]
    },
    {
     "name": "stdout",
     "output_type": "stream",
     "text": [
      "Done\n",
      "Initialised with 1 image(s) found.\n",
      "Output directory set to /root/workspace/Thyroid_Solid_Nodule/data/preprocess/public_aug/tmp/image/76_/output.1 ground truth image(s) found.\n",
      "\n",
      "No./root/workspace/Thyroid_Solid_Nodule/data/preprocess/public/image/76_1.jpg data is being augmented and 55 data will be created\n"
     ]
    },
    {
     "name": "stderr",
     "output_type": "stream",
     "text": [
      "Processing <PIL.Image.Image image mode=RGB size=560x360 at 0x7F02F013FD30>: 100%|██████████| 55/55 [00:00<00:00, 101.33 Samples/s]\n",
      "Executing Pipeline:   0%|          | 0/48 [00:00<?, ? Samples/s]"
     ]
    },
    {
     "name": "stdout",
     "output_type": "stream",
     "text": [
      "Done\n",
      "Initialised with 2 image(s) found.\n",
      "Output directory set to /root/workspace/Thyroid_Solid_Nodule/data/preprocess/public_aug/tmp/image/maligns_568_/output.2 ground truth image(s) found.\n",
      "\n",
      "No./root/workspace/Thyroid_Solid_Nodule/data/preprocess/public/image/maligns_568_2.jpg data is being augmented and 48 data will be created\n"
     ]
    },
    {
     "name": "stderr",
     "output_type": "stream",
     "text": [
      "Processing <PIL.Image.Image image mode=RGB size=560x315 at 0x7F02F012AA20>: 100%|██████████| 48/48 [00:00<00:00, 93.71 Samples/s]\n",
      "Processing <PIL.Image.Image image mode=RGB size=560x315 at 0x7F02F012E898>:   0%|          | 0/49 [00:00<?, ? Samples/s]"
     ]
    },
    {
     "name": "stdout",
     "output_type": "stream",
     "text": [
      "Done\n",
      "Initialised with 1 image(s) found.\n",
      "Output directory set to /root/workspace/Thyroid_Solid_Nodule/data/preprocess/public_aug/tmp/image/maligns_624_/output.1 ground truth image(s) found.\n",
      "\n",
      "No./root/workspace/Thyroid_Solid_Nodule/data/preprocess/public/image/maligns_624_1.jpg data is being augmented and 49 data will be created\n"
     ]
    },
    {
     "name": "stderr",
     "output_type": "stream",
     "text": [
      "Processing <PIL.Image.Image image mode=RGB size=560x315 at 0x7F02F010FFD0>: 100%|██████████| 49/49 [00:00<00:00, 99.41 Samples/s]                  \n",
      "Executing Pipeline:   0%|          | 0/60 [00:00<?, ? Samples/s]"
     ]
    },
    {
     "name": "stdout",
     "output_type": "stream",
     "text": [
      "Done\n",
      "Initialised with 1 image(s) found.\n",
      "Output directory set to /root/workspace/Thyroid_Solid_Nodule/data/preprocess/public_aug/tmp/image/123_/output.1 ground truth image(s) found.\n",
      "\n",
      "No./root/workspace/Thyroid_Solid_Nodule/data/preprocess/public/image/123_1.jpg data is being augmented and 60 data will be created\n"
     ]
    },
    {
     "name": "stderr",
     "output_type": "stream",
     "text": [
      "Processing <PIL.Image.Image image mode=RGB size=560x360 at 0x7F02F010F048>: 100%|██████████| 60/60 [00:00<00:00, 107.94 Samples/s]                \n",
      "Executing Pipeline:   0%|          | 0/55 [00:00<?, ? Samples/s]"
     ]
    },
    {
     "name": "stdout",
     "output_type": "stream",
     "text": [
      "Done\n",
      "Initialised with 1 image(s) found.\n",
      "Output directory set to /root/workspace/Thyroid_Solid_Nodule/data/preprocess/public_aug/tmp/image/101_/output.1 ground truth image(s) found.\n",
      "\n",
      "No./root/workspace/Thyroid_Solid_Nodule/data/preprocess/public/image/101_1.jpg data is being augmented and 55 data will be created\n"
     ]
    },
    {
     "name": "stderr",
     "output_type": "stream",
     "text": [
      "Processing <PIL.Image.Image image mode=RGB size=560x360 at 0x7F02F010FB38>: 100%|██████████| 55/55 [00:00<00:00, 101.30 Samples/s]                 \n",
      "Executing Pipeline:   0%|          | 0/55 [00:00<?, ? Samples/s]"
     ]
    },
    {
     "name": "stdout",
     "output_type": "stream",
     "text": [
      "Done\n",
      "Initialised with 1 image(s) found.\n",
      "Output directory set to /root/workspace/Thyroid_Solid_Nodule/data/preprocess/public_aug/tmp/image/379_/output.1 ground truth image(s) found.\n",
      "\n",
      "No./root/workspace/Thyroid_Solid_Nodule/data/preprocess/public/image/379_1.jpg data is being augmented and 55 data will be created\n"
     ]
    },
    {
     "name": "stderr",
     "output_type": "stream",
     "text": [
      "Processing <PIL.Image.Image image mode=RGB size=560x360 at 0x7F02F010FDA0>: 100%|██████████| 55/55 [00:00<00:00, 91.77 Samples/s]                  \n",
      "Executing Pipeline:   0%|          | 0/52 [00:00<?, ? Samples/s]"
     ]
    },
    {
     "name": "stdout",
     "output_type": "stream",
     "text": [
      "Done\n",
      "Initialised with 3 image(s) found.\n",
      "Output directory set to /root/workspace/Thyroid_Solid_Nodule/data/preprocess/public_aug/tmp/image/64_/output.3 ground truth image(s) found.\n",
      "\n",
      "No./root/workspace/Thyroid_Solid_Nodule/data/preprocess/public/image/64_3.jpg data is being augmented and 52 data will be created\n"
     ]
    },
    {
     "name": "stderr",
     "output_type": "stream",
     "text": [
      "Processing <PIL.Image.Image image mode=RGB size=560x360 at 0x7F02F00CFDA0>: 100%|██████████| 52/52 [00:00<00:00, 86.69 Samples/s]                  \n",
      "Executing Pipeline:   0%|          | 0/47 [00:00<?, ? Samples/s]"
     ]
    },
    {
     "name": "stdout",
     "output_type": "stream",
     "text": [
      "Done\n",
      "Initialised with 2 image(s) found.\n",
      "Output directory set to /root/workspace/Thyroid_Solid_Nodule/data/preprocess/public_aug/tmp/image/88_/output.2 ground truth image(s) found.\n",
      "\n",
      "No./root/workspace/Thyroid_Solid_Nodule/data/preprocess/public/image/88_1.jpg data is being augmented and 47 data will be created\n"
     ]
    },
    {
     "name": "stderr",
     "output_type": "stream",
     "text": [
      "Processing <PIL.Image.Image image mode=RGB size=560x360 at 0x7F02F012E908>: 100%|██████████| 47/47 [00:00<00:00, 82.07 Samples/s]                  \n",
      "Executing Pipeline:   0%|          | 0/50 [00:00<?, ? Samples/s]"
     ]
    },
    {
     "name": "stdout",
     "output_type": "stream",
     "text": [
      "Done\n",
      "Initialised with 1 image(s) found.\n",
      "Output directory set to /root/workspace/Thyroid_Solid_Nodule/data/preprocess/public_aug/tmp/image/77_/output.1 ground truth image(s) found.\n",
      "\n",
      "No./root/workspace/Thyroid_Solid_Nodule/data/preprocess/public/image/77_1.jpg data is being augmented and 50 data will be created\n"
     ]
    },
    {
     "name": "stderr",
     "output_type": "stream",
     "text": [
      "Processing <PIL.Image.Image image mode=RGB size=560x360 at 0x7F02F01B6550>: 100%|██████████| 50/50 [00:00<00:00, 123.94 Samples/s]                 \n",
      "Executing Pipeline:   0%|          | 0/51 [00:00<?, ? Samples/s]"
     ]
    },
    {
     "name": "stdout",
     "output_type": "stream",
     "text": [
      "Done\n",
      "Initialised with 2 image(s) found.\n",
      "Output directory set to /root/workspace/Thyroid_Solid_Nodule/data/preprocess/public_aug/tmp/image/maligns_549_/output.2 ground truth image(s) found.\n",
      "\n",
      "No./root/workspace/Thyroid_Solid_Nodule/data/preprocess/public/image/maligns_549_1.jpg data is being augmented and 51 data will be created\n"
     ]
    },
    {
     "name": "stderr",
     "output_type": "stream",
     "text": [
      "Processing <PIL.Image.Image image mode=RGB size=560x315 at 0x7F02F01288D0>: 100%|██████████| 51/51 [00:00<00:00, 98.60 Samples/s]                  \n",
      "Processing <PIL.Image.Image image mode=RGB size=560x360 at 0x7F02F013F550>:   2%|▏         | 1/53 [00:00<00:09,  5.55 Samples/s]"
     ]
    },
    {
     "name": "stdout",
     "output_type": "stream",
     "text": [
      "Done\n",
      "Initialised with 1 image(s) found.\n",
      "Output directory set to /root/workspace/Thyroid_Solid_Nodule/data/preprocess/public_aug/tmp/image/148_/output.1 ground truth image(s) found.\n",
      "\n",
      "No./root/workspace/Thyroid_Solid_Nodule/data/preprocess/public/image/148_1.jpg data is being augmented and 53 data will be created\n"
     ]
    },
    {
     "name": "stderr",
     "output_type": "stream",
     "text": [
      "Processing <PIL.Image.Image image mode=RGB size=560x360 at 0x7F02F0225470>: 100%|██████████| 53/53 [00:00<00:00, 114.21 Samples/s]\n",
      "Executing Pipeline:   0%|          | 0/54 [00:00<?, ? Samples/s]"
     ]
    },
    {
     "name": "stdout",
     "output_type": "stream",
     "text": [
      "Done\n",
      "Initialised with 1 image(s) found.\n",
      "Output directory set to /root/workspace/Thyroid_Solid_Nodule/data/preprocess/public_aug/tmp/image/91_/output.1 ground truth image(s) found.\n",
      "\n",
      "No./root/workspace/Thyroid_Solid_Nodule/data/preprocess/public/image/91_1.jpg data is being augmented and 54 data will be created\n"
     ]
    },
    {
     "name": "stderr",
     "output_type": "stream",
     "text": [
      "Processing <PIL.Image.Image image mode=RGB size=560x360 at 0x7F02F0208630>: 100%|██████████| 54/54 [00:00<00:00, 83.61 Samples/s]                  \n",
      "Executing Pipeline:   0%|          | 0/47 [00:00<?, ? Samples/s]"
     ]
    },
    {
     "name": "stdout",
     "output_type": "stream",
     "text": [
      "Done\n",
      "Initialised with 2 image(s) found.\n",
      "Output directory set to /root/workspace/Thyroid_Solid_Nodule/data/preprocess/public_aug/tmp/image/198_/output.2 ground truth image(s) found.\n",
      "\n",
      "No./root/workspace/Thyroid_Solid_Nodule/data/preprocess/public/image/198_1.jpg data is being augmented and 47 data will be created\n"
     ]
    },
    {
     "name": "stderr",
     "output_type": "stream",
     "text": [
      "Processing <PIL.Image.Image image mode=RGB size=560x360 at 0x7F02F01DF438>: 100%|██████████| 47/47 [00:00<00:00, 92.88 Samples/s]                  \n",
      "Executing Pipeline:   0%|          | 0/48 [00:00<?, ? Samples/s]"
     ]
    },
    {
     "name": "stdout",
     "output_type": "stream",
     "text": [
      "Done\n",
      "Initialised with 2 image(s) found.\n",
      "Output directory set to /root/workspace/Thyroid_Solid_Nodule/data/preprocess/public_aug/tmp/image/313_/output.2 ground truth image(s) found.\n",
      "\n",
      "No./root/workspace/Thyroid_Solid_Nodule/data/preprocess/public/image/313_2.jpg data is being augmented and 48 data will be created\n"
     ]
    },
    {
     "name": "stderr",
     "output_type": "stream",
     "text": [
      "Processing <PIL.Image.Image image mode=RGB size=560x360 at 0x7F02F02000B8>: 100%|██████████| 48/48 [00:00<00:00, 104.08 Samples/s]                 \n",
      "Executing Pipeline:   0%|          | 0/53 [00:00<?, ? Samples/s]"
     ]
    },
    {
     "name": "stdout",
     "output_type": "stream",
     "text": [
      "Done\n",
      "Initialised with 1 image(s) found.\n",
      "Output directory set to /root/workspace/Thyroid_Solid_Nodule/data/preprocess/public_aug/tmp/image/321_/output.1 ground truth image(s) found.\n",
      "\n",
      "No./root/workspace/Thyroid_Solid_Nodule/data/preprocess/public/image/321_1.jpg data is being augmented and 53 data will be created\n"
     ]
    },
    {
     "name": "stderr",
     "output_type": "stream",
     "text": [
      "Processing <PIL.Image.Image image mode=RGB size=560x360 at 0x7F02F0225080>: 100%|██████████| 53/53 [00:00<00:00, 92.17 Samples/s]                  \n",
      "Executing Pipeline:   0%|          | 0/59 [00:00<?, ? Samples/s]"
     ]
    },
    {
     "name": "stdout",
     "output_type": "stream",
     "text": [
      "Done\n",
      "Initialised with 2 image(s) found.\n",
      "Output directory set to /root/workspace/Thyroid_Solid_Nodule/data/preprocess/public_aug/tmp/image/81_/output.2 ground truth image(s) found.\n",
      "\n",
      "No./root/workspace/Thyroid_Solid_Nodule/data/preprocess/public/image/81_2.jpg data is being augmented and 59 data will be created\n"
     ]
    },
    {
     "name": "stderr",
     "output_type": "stream",
     "text": [
      "Processing <PIL.Image.Image image mode=RGB size=560x360 at 0x7F02F00D9DD8>: 100%|██████████| 59/59 [00:00<00:00, 97.23 Samples/s]                  \n",
      "Executing Pipeline:   0%|          | 0/52 [00:00<?, ? Samples/s]"
     ]
    },
    {
     "name": "stdout",
     "output_type": "stream",
     "text": [
      "Done\n",
      "Initialised with 1 image(s) found.\n",
      "Output directory set to /root/workspace/Thyroid_Solid_Nodule/data/preprocess/public_aug/tmp/image/386_/output.1 ground truth image(s) found.\n",
      "\n",
      "No./root/workspace/Thyroid_Solid_Nodule/data/preprocess/public/image/386_1.jpg data is being augmented and 52 data will be created\n"
     ]
    },
    {
     "name": "stderr",
     "output_type": "stream",
     "text": [
      "Processing <PIL.Image.Image image mode=RGB size=560x360 at 0x7F02F01DA518>: 100%|██████████| 52/52 [00:00<00:00, 87.80 Samples/s]                  \n",
      "Executing Pipeline:   0%|          | 0/55 [00:00<?, ? Samples/s]"
     ]
    },
    {
     "name": "stdout",
     "output_type": "stream",
     "text": [
      "Done\n",
      "Initialised with 1 image(s) found.\n",
      "Output directory set to /root/workspace/Thyroid_Solid_Nodule/data/preprocess/public_aug/tmp/image/17_/output.1 ground truth image(s) found.\n",
      "\n",
      "No./root/workspace/Thyroid_Solid_Nodule/data/preprocess/public/image/17_1.jpg data is being augmented and 55 data will be created\n"
     ]
    },
    {
     "name": "stderr",
     "output_type": "stream",
     "text": [
      "Processing <PIL.Image.Image image mode=RGB size=560x360 at 0x7F02F013DF60>: 100%|██████████| 55/55 [00:00<00:00, 78.21 Samples/s]                  \n",
      "Processing <PIL.Image.Image image mode=RGB size=560x360 at 0x7F02F02256D8>:   2%|▏         | 1/49 [00:00<00:08,  5.95 Samples/s]"
     ]
    },
    {
     "name": "stdout",
     "output_type": "stream",
     "text": [
      "Done\n",
      "Initialised with 2 image(s) found.\n",
      "Output directory set to /root/workspace/Thyroid_Solid_Nodule/data/preprocess/public_aug/tmp/image/173_/output.2 ground truth image(s) found.\n",
      "\n",
      "No./root/workspace/Thyroid_Solid_Nodule/data/preprocess/public/image/173_2.jpg data is being augmented and 49 data will be created\n"
     ]
    },
    {
     "name": "stderr",
     "output_type": "stream",
     "text": [
      "Processing <PIL.Image.Image image mode=RGB size=560x360 at 0x7F02F0225940>: 100%|██████████| 49/49 [00:00<00:00, 101.04 Samples/s]                 \n",
      "Executing Pipeline:   0%|          | 0/58 [00:00<?, ? Samples/s]"
     ]
    },
    {
     "name": "stdout",
     "output_type": "stream",
     "text": [
      "Done\n",
      "Initialised with 3 image(s) found.\n",
      "Output directory set to /root/workspace/Thyroid_Solid_Nodule/data/preprocess/public_aug/tmp/image/139_/output.3 ground truth image(s) found.\n",
      "\n",
      "No./root/workspace/Thyroid_Solid_Nodule/data/preprocess/public/image/139_1.jpg data is being augmented and 58 data will be created\n"
     ]
    },
    {
     "name": "stderr",
     "output_type": "stream",
     "text": [
      "Processing <PIL.Image.Image image mode=RGB size=560x360 at 0x7F02F00C7208>: 100%|██████████| 58/58 [00:00<00:00, 97.52 Samples/s]\n",
      "Executing Pipeline:   0%|          | 0/53 [00:00<?, ? Samples/s]"
     ]
    },
    {
     "name": "stdout",
     "output_type": "stream",
     "text": [
      "Done\n",
      "Initialised with 5 image(s) found.\n",
      "Output directory set to /root/workspace/Thyroid_Solid_Nodule/data/preprocess/public_aug/tmp/image/maligns_564_/output.5 ground truth image(s) found.\n",
      "\n",
      "No./root/workspace/Thyroid_Solid_Nodule/data/preprocess/public/image/maligns_564_4.jpg data is being augmented and 53 data will be created\n"
     ]
    },
    {
     "name": "stderr",
     "output_type": "stream",
     "text": [
      "Processing <PIL.Image.Image image mode=RGB size=560x315 at 0x7F02F0125C50>: 100%|██████████| 53/53 [00:00<00:00, 99.82 Samples/s]\n",
      "Executing Pipeline:   0%|          | 0/42 [00:00<?, ? Samples/s]"
     ]
    },
    {
     "name": "stdout",
     "output_type": "stream",
     "text": [
      "Done\n",
      "Initialised with 2 image(s) found.\n",
      "Output directory set to /root/workspace/Thyroid_Solid_Nodule/data/preprocess/public_aug/tmp/image/1_/output.2 ground truth image(s) found.\n",
      "\n",
      "No./root/workspace/Thyroid_Solid_Nodule/data/preprocess/public/image/1_1.jpg data is being augmented and 42 data will be created\n"
     ]
    },
    {
     "name": "stderr",
     "output_type": "stream",
     "text": [
      "Processing <PIL.Image.Image image mode=RGB size=560x360 at 0x7F02F013DC88>: 100%|██████████| 42/42 [00:00<00:00, 86.37 Samples/s]\n",
      "Executing Pipeline:   0%|          | 0/41 [00:00<?, ? Samples/s]"
     ]
    },
    {
     "name": "stdout",
     "output_type": "stream",
     "text": [
      "Done\n",
      "Initialised with 3 image(s) found.\n",
      "Output directory set to /root/workspace/Thyroid_Solid_Nodule/data/preprocess/public_aug/tmp/image/maligns_550_/output.3 ground truth image(s) found.\n",
      "\n",
      "No./root/workspace/Thyroid_Solid_Nodule/data/preprocess/public/image/maligns_550_3.jpg data is being augmented and 41 data will be created\n"
     ]
    },
    {
     "name": "stderr",
     "output_type": "stream",
     "text": [
      "Processing <PIL.Image.Image image mode=RGB size=560x315 at 0x7F02F013D128>: 100%|██████████| 41/41 [00:00<00:00, 83.87 Samples/s]                  \n",
      "Executing Pipeline:   0%|          | 0/44 [00:00<?, ? Samples/s]"
     ]
    },
    {
     "name": "stdout",
     "output_type": "stream",
     "text": [
      "Done\n",
      "Initialised with 1 image(s) found.\n",
      "Output directory set to /root/workspace/Thyroid_Solid_Nodule/data/preprocess/public_aug/tmp/image/349_/output.1 ground truth image(s) found.\n",
      "\n",
      "No./root/workspace/Thyroid_Solid_Nodule/data/preprocess/public/image/349_1.jpg data is being augmented and 44 data will be created\n"
     ]
    },
    {
     "name": "stderr",
     "output_type": "stream",
     "text": [
      "Processing <PIL.Image.Image image mode=RGB size=560x360 at 0x7F02F00C7710>: 100%|██████████| 44/44 [00:00<00:00, 89.89 Samples/s]\n",
      "Executing Pipeline:   0%|          | 0/53 [00:00<?, ? Samples/s]"
     ]
    },
    {
     "name": "stdout",
     "output_type": "stream",
     "text": [
      "Done\n",
      "Initialised with 2 image(s) found.\n",
      "Output directory set to /root/workspace/Thyroid_Solid_Nodule/data/preprocess/public_aug/tmp/image/maligns_562_/output.2 ground truth image(s) found.\n",
      "\n",
      "No./root/workspace/Thyroid_Solid_Nodule/data/preprocess/public/image/maligns_562_2.jpg data is being augmented and 53 data will be created\n"
     ]
    },
    {
     "name": "stderr",
     "output_type": "stream",
     "text": [
      "Processing <PIL.Image.Image image mode=RGB size=560x315 at 0x7F02F00C7198>: 100%|██████████| 53/53 [00:00<00:00, 93.25 Samples/s]\n",
      "Executing Pipeline:   0%|          | 0/59 [00:00<?, ? Samples/s]"
     ]
    },
    {
     "name": "stdout",
     "output_type": "stream",
     "text": [
      "Done\n",
      "Initialised with 2 image(s) found.\n",
      "Output directory set to /root/workspace/Thyroid_Solid_Nodule/data/preprocess/public_aug/tmp/image/189_/output.2 ground truth image(s) found.\n",
      "\n",
      "No./root/workspace/Thyroid_Solid_Nodule/data/preprocess/public/image/189_2.jpg data is being augmented and 59 data will be created\n"
     ]
    },
    {
     "name": "stderr",
     "output_type": "stream",
     "text": [
      "Processing <PIL.Image.Image image mode=RGB size=560x360 at 0x7F02F012E438>: 100%|██████████| 59/59 [00:00<00:00, 93.29 Samples/s]                  \n",
      "Executing Pipeline:   0%|          | 0/44 [00:00<?, ? Samples/s]"
     ]
    },
    {
     "name": "stdout",
     "output_type": "stream",
     "text": [
      "Done\n",
      "Initialised with 1 image(s) found.\n",
      "Output directory set to /root/workspace/Thyroid_Solid_Nodule/data/preprocess/public_aug/tmp/image/290_/output.1 ground truth image(s) found.\n",
      "\n",
      "No./root/workspace/Thyroid_Solid_Nodule/data/preprocess/public/image/290_1.jpg data is being augmented and 44 data will be created\n"
     ]
    },
    {
     "name": "stderr",
     "output_type": "stream",
     "text": [
      "Processing <PIL.Image.Image image mode=RGB size=560x360 at 0x7F02F013F7F0>: 100%|██████████| 44/44 [00:00<00:00, 96.24 Samples/s]\n",
      "Executing Pipeline:   0%|          | 0/53 [00:00<?, ? Samples/s]"
     ]
    },
    {
     "name": "stdout",
     "output_type": "stream",
     "text": [
      "Done\n",
      "Initialised with 2 image(s) found.\n",
      "Output directory set to /root/workspace/Thyroid_Solid_Nodule/data/preprocess/public_aug/tmp/image/213_/output.2 ground truth image(s) found.\n",
      "\n",
      "No./root/workspace/Thyroid_Solid_Nodule/data/preprocess/public/image/213_3.jpg data is being augmented and 53 data will be created\n"
     ]
    },
    {
     "name": "stderr",
     "output_type": "stream",
     "text": [
      "Processing <PIL.Image.Image image mode=RGB size=560x360 at 0x7F02F00DA780>: 100%|██████████| 53/53 [00:00<00:00, 98.57 Samples/s]\n",
      "Executing Pipeline:   0%|          | 0/57 [00:00<?, ? Samples/s]"
     ]
    },
    {
     "name": "stdout",
     "output_type": "stream",
     "text": [
      "Done\n",
      "Initialised with 1 image(s) found.\n",
      "Output directory set to /root/workspace/Thyroid_Solid_Nodule/data/preprocess/public_aug/tmp/image/258_/output.1 ground truth image(s) found.\n",
      "\n",
      "No./root/workspace/Thyroid_Solid_Nodule/data/preprocess/public/image/258_1.jpg data is being augmented and 57 data will be created\n"
     ]
    },
    {
     "name": "stderr",
     "output_type": "stream",
     "text": [
      "Processing <PIL.Image.Image image mode=RGB size=560x360 at 0x7F02F012E748>: 100%|██████████| 57/57 [00:00<00:00, 83.74 Samples/s]                  \n",
      "Executing Pipeline:   0%|          | 0/50 [00:00<?, ? Samples/s]"
     ]
    },
    {
     "name": "stdout",
     "output_type": "stream",
     "text": [
      "Done\n",
      "Initialised with 1 image(s) found.\n",
      "Output directory set to /root/workspace/Thyroid_Solid_Nodule/data/preprocess/public_aug/tmp/image/342_/output.1 ground truth image(s) found.\n",
      "\n",
      "No./root/workspace/Thyroid_Solid_Nodule/data/preprocess/public/image/342_1.jpg data is being augmented and 50 data will be created\n"
     ]
    },
    {
     "name": "stderr",
     "output_type": "stream",
     "text": [
      "Processing <PIL.Image.Image image mode=RGB size=560x360 at 0x7F02F0128748>: 100%|██████████| 50/50 [00:00<00:00, 95.99 Samples/s]                 \n",
      "Executing Pipeline:   0%|          | 0/54 [00:00<?, ? Samples/s]"
     ]
    },
    {
     "name": "stdout",
     "output_type": "stream",
     "text": [
      "Done\n",
      "Initialised with 5 image(s) found.\n",
      "Output directory set to /root/workspace/Thyroid_Solid_Nodule/data/preprocess/public_aug/tmp/image/maligns_564_/output.5 ground truth image(s) found.\n",
      "\n",
      "No./root/workspace/Thyroid_Solid_Nodule/data/preprocess/public/image/maligns_564_3.jpg data is being augmented and 54 data will be created\n"
     ]
    },
    {
     "name": "stderr",
     "output_type": "stream",
     "text": [
      "Processing <PIL.Image.Image image mode=RGB size=560x315 at 0x7F02F00E3898>: 100%|██████████| 54/54 [00:00<00:00, 109.06 Samples/s]\n",
      "Processing <PIL.Image.Image image mode=RGB size=560x360 at 0x7F02F00C7E10>:   5%|▍         | 2/43 [00:00<00:03, 13.35 Samples/s]"
     ]
    },
    {
     "name": "stdout",
     "output_type": "stream",
     "text": [
      "Done\n",
      "Initialised with 1 image(s) found.\n",
      "Output directory set to /root/workspace/Thyroid_Solid_Nodule/data/preprocess/public_aug/tmp/image/298_/output.1 ground truth image(s) found.\n",
      "\n",
      "No./root/workspace/Thyroid_Solid_Nodule/data/preprocess/public/image/298_1.jpg data is being augmented and 43 data will be created\n"
     ]
    },
    {
     "name": "stderr",
     "output_type": "stream",
     "text": [
      "Processing <PIL.Image.Image image mode=RGB size=560x360 at 0x7F02F00E3BA8>: 100%|██████████| 43/43 [00:00<00:00, 81.04 Samples/s]                  \n",
      "Executing Pipeline:   0%|          | 0/57 [00:00<?, ? Samples/s]"
     ]
    },
    {
     "name": "stdout",
     "output_type": "stream",
     "text": [
      "Done\n",
      "Initialised with 2 image(s) found.\n",
      "Output directory set to /root/workspace/Thyroid_Solid_Nodule/data/preprocess/public_aug/tmp/image/138_/output.2 ground truth image(s) found.\n",
      "\n",
      "No./root/workspace/Thyroid_Solid_Nodule/data/preprocess/public/image/138_1.jpg data is being augmented and 57 data will be created\n"
     ]
    },
    {
     "name": "stderr",
     "output_type": "stream",
     "text": [
      "Processing <PIL.Image.Image image mode=RGB size=560x360 at 0x7F02F012E198>: 100%|██████████| 57/57 [00:00<00:00, 110.23 Samples/s]                 \n",
      "Processing <PIL.Image.Image image mode=RGB size=560x360 at 0x7F02F00F8358>:   0%|          | 0/42 [00:00<?, ? Samples/s]"
     ]
    },
    {
     "name": "stdout",
     "output_type": "stream",
     "text": [
      "Done\n",
      "Initialised with 2 image(s) found.\n",
      "Output directory set to /root/workspace/Thyroid_Solid_Nodule/data/preprocess/public_aug/tmp/image/130_/output.2 ground truth image(s) found.\n",
      "\n",
      "No./root/workspace/Thyroid_Solid_Nodule/data/preprocess/public/image/130_2.jpg data is being augmented and 42 data will be created\n"
     ]
    },
    {
     "name": "stderr",
     "output_type": "stream",
     "text": [
      "Processing <PIL.Image.Image image mode=RGB size=560x360 at 0x7F02F012A9E8>: 100%|██████████| 42/42 [00:00<00:00, 134.67 Samples/s]                 \n",
      "Executing Pipeline:   0%|          | 0/57 [00:00<?, ? Samples/s]"
     ]
    },
    {
     "name": "stdout",
     "output_type": "stream",
     "text": [
      "Done\n",
      "Initialised with 3 image(s) found.\n",
      "Output directory set to /root/workspace/Thyroid_Solid_Nodule/data/preprocess/public_aug/tmp/image/maligns_550_/output.3 ground truth image(s) found.\n",
      "\n",
      "No./root/workspace/Thyroid_Solid_Nodule/data/preprocess/public/image/maligns_550_1.jpg data is being augmented and 57 data will be created\n"
     ]
    },
    {
     "name": "stderr",
     "output_type": "stream",
     "text": [
      "Processing <PIL.Image.Image image mode=RGB size=560x315 at 0x7F02F00CFE80>: 100%|██████████| 57/57 [00:00<00:00, 82.92 Samples/s]                  \n",
      "Processing <PIL.Image.Image image mode=RGB size=560x360 at 0x7F02F00C7F98>:   9%|▉         | 4/44 [00:00<00:06,  6.26 Samples/s]                  "
     ]
    },
    {
     "name": "stdout",
     "output_type": "stream",
     "text": [
      "Done\n",
      "Initialised with 1 image(s) found.\n",
      "Output directory set to /root/workspace/Thyroid_Solid_Nodule/data/preprocess/public_aug/tmp/image/348_/output.1 ground truth image(s) found.\n",
      "\n",
      "No./root/workspace/Thyroid_Solid_Nodule/data/preprocess/public/image/348_1.jpg data is being augmented and 44 data will be created\n"
     ]
    },
    {
     "name": "stderr",
     "output_type": "stream",
     "text": [
      "Processing <PIL.Image.Image image mode=RGB size=560x360 at 0x7F02F00D9828>: 100%|██████████| 44/44 [00:00<00:00, 95.00 Samples/s]\n",
      "Processing <PIL.Image.Image image mode=RGB size=560x315 at 0x7F02F00C7FD0>:   0%|          | 0/57 [00:00<?, ? Samples/s]"
     ]
    },
    {
     "name": "stdout",
     "output_type": "stream",
     "text": [
      "Done\n",
      "Initialised with 1 image(s) found.\n",
      "Output directory set to /root/workspace/Thyroid_Solid_Nodule/data/preprocess/public_aug/tmp/image/maligns_572_/output.1 ground truth image(s) found.\n",
      "\n",
      "No./root/workspace/Thyroid_Solid_Nodule/data/preprocess/public/image/maligns_572_1.jpg data is being augmented and 57 data will be created\n"
     ]
    },
    {
     "name": "stderr",
     "output_type": "stream",
     "text": [
      "Processing <PIL.Image.Image image mode=RGB size=560x315 at 0x7F02F013D160>: 100%|██████████| 57/57 [00:00<00:00, 110.81 Samples/s]                 \n",
      "Executing Pipeline:   0%|          | 0/56 [00:00<?, ? Samples/s]"
     ]
    },
    {
     "name": "stdout",
     "output_type": "stream",
     "text": [
      "Done\n",
      "Initialised with 2 image(s) found.\n",
      "Output directory set to /root/workspace/Thyroid_Solid_Nodule/data/preprocess/public_aug/tmp/image/122_/output.2 ground truth image(s) found.\n",
      "\n",
      "No./root/workspace/Thyroid_Solid_Nodule/data/preprocess/public/image/122_1.jpg data is being augmented and 56 data will be created\n"
     ]
    },
    {
     "name": "stderr",
     "output_type": "stream",
     "text": [
      "Processing <PIL.Image.Image image mode=RGB size=560x360 at 0x7F02F0125518>: 100%|██████████| 56/56 [00:00<00:00, 104.70 Samples/s]                 \n",
      "Executing Pipeline:   0%|          | 0/48 [00:00<?, ? Samples/s]"
     ]
    },
    {
     "name": "stdout",
     "output_type": "stream",
     "text": [
      "Done\n",
      "Initialised with 1 image(s) found.\n",
      "Output directory set to /root/workspace/Thyroid_Solid_Nodule/data/preprocess/public_aug/tmp/image/310_/output.1 ground truth image(s) found.\n",
      "\n",
      "No./root/workspace/Thyroid_Solid_Nodule/data/preprocess/public/image/310_1.jpg data is being augmented and 48 data will be created\n"
     ]
    },
    {
     "name": "stderr",
     "output_type": "stream",
     "text": [
      "Processing <PIL.Image.Image image mode=RGB size=560x360 at 0x7F02F011EBA8>: 100%|██████████| 48/48 [00:00<00:00, 105.43 Samples/s]                 \n",
      "Executing Pipeline:   0%|          | 0/60 [00:00<?, ? Samples/s]"
     ]
    },
    {
     "name": "stdout",
     "output_type": "stream",
     "text": [
      "Done\n",
      "Initialised with 2 image(s) found.\n",
      "Output directory set to /root/workspace/Thyroid_Solid_Nodule/data/preprocess/public_aug/tmp/image/132_/output.2 ground truth image(s) found.\n",
      "\n",
      "No./root/workspace/Thyroid_Solid_Nodule/data/preprocess/public/image/132_1.jpg data is being augmented and 60 data will be created\n"
     ]
    },
    {
     "name": "stderr",
     "output_type": "stream",
     "text": [
      "Processing <PIL.Image.Image image mode=RGB size=560x360 at 0x7F02F0125080>: 100%|██████████| 60/60 [00:00<00:00, 98.74 Samples/s]\n",
      "Executing Pipeline:   0%|          | 0/47 [00:00<?, ? Samples/s]"
     ]
    },
    {
     "name": "stdout",
     "output_type": "stream",
     "text": [
      "Done\n",
      "Initialised with 1 image(s) found.\n",
      "Output directory set to /root/workspace/Thyroid_Solid_Nodule/data/preprocess/public_aug/tmp/image/259_/output.1 ground truth image(s) found.\n",
      "\n",
      "No./root/workspace/Thyroid_Solid_Nodule/data/preprocess/public/image/259_1.jpg data is being augmented and 47 data will be created\n"
     ]
    },
    {
     "name": "stderr",
     "output_type": "stream",
     "text": [
      "Processing <PIL.Image.Image image mode=RGB size=560x360 at 0x7F02F00CF160>: 100%|██████████| 47/47 [00:00<00:00, 91.66 Samples/s]                  \n",
      "Executing Pipeline:   0%|          | 0/56 [00:00<?, ? Samples/s]"
     ]
    },
    {
     "name": "stdout",
     "output_type": "stream",
     "text": [
      "Done\n",
      "Initialised with 1 image(s) found.\n",
      "Output directory set to /root/workspace/Thyroid_Solid_Nodule/data/preprocess/public_aug/tmp/image/285_/output.1 ground truth image(s) found.\n",
      "\n",
      "No./root/workspace/Thyroid_Solid_Nodule/data/preprocess/public/image/285_1.jpg data is being augmented and 56 data will be created\n"
     ]
    },
    {
     "name": "stderr",
     "output_type": "stream",
     "text": [
      "Processing <PIL.Image.Image image mode=RGB size=560x360 at 0x7F02F0128978>: 100%|██████████| 56/56 [00:00<00:00, 96.95 Samples/s]\n",
      "Executing Pipeline:   0%|          | 0/56 [00:00<?, ? Samples/s]"
     ]
    },
    {
     "name": "stdout",
     "output_type": "stream",
     "text": [
      "Done\n",
      "Initialised with 1 image(s) found.\n",
      "Output directory set to /root/workspace/Thyroid_Solid_Nodule/data/preprocess/public_aug/tmp/image/114_/output.1 ground truth image(s) found.\n",
      "\n",
      "No./root/workspace/Thyroid_Solid_Nodule/data/preprocess/public/image/114_2.jpg data is being augmented and 56 data will be created\n"
     ]
    },
    {
     "name": "stderr",
     "output_type": "stream",
     "text": [
      "Processing <PIL.Image.Image image mode=RGB size=560x360 at 0x7F02F00C7128>: 100%|██████████| 56/56 [00:00<00:00, 91.63 Samples/s]                  \n",
      "Executing Pipeline:   0%|          | 0/50 [00:00<?, ? Samples/s]"
     ]
    },
    {
     "name": "stdout",
     "output_type": "stream",
     "text": [
      "Done\n",
      "Initialised with 2 image(s) found.\n",
      "Output directory set to /root/workspace/Thyroid_Solid_Nodule/data/preprocess/public_aug/tmp/image/225_/output.2 ground truth image(s) found.\n",
      "\n",
      "No./root/workspace/Thyroid_Solid_Nodule/data/preprocess/public/image/225_2.jpg data is being augmented and 50 data will be created\n"
     ]
    },
    {
     "name": "stderr",
     "output_type": "stream",
     "text": [
      "Processing <PIL.Image.Image image mode=RGB size=560x360 at 0x7F02F012E320>: 100%|██████████| 50/50 [00:00<00:00, 73.13 Samples/s]                  \n",
      "Executing Pipeline:   0%|          | 0/57 [00:00<?, ? Samples/s]"
     ]
    },
    {
     "name": "stdout",
     "output_type": "stream",
     "text": [
      "Done\n",
      "Initialised with 1 image(s) found.\n",
      "Output directory set to /root/workspace/Thyroid_Solid_Nodule/data/preprocess/public_aug/tmp/image/299_/output.1 ground truth image(s) found.\n",
      "\n",
      "No./root/workspace/Thyroid_Solid_Nodule/data/preprocess/public/image/299_1.jpg data is being augmented and 57 data will be created\n"
     ]
    },
    {
     "name": "stderr",
     "output_type": "stream",
     "text": [
      "Processing <PIL.Image.Image image mode=RGB size=560x360 at 0x7F02F00F8438>: 100%|██████████| 57/57 [00:00<00:00, 104.11 Samples/s]\n",
      "Executing Pipeline:   0%|          | 0/60 [00:00<?, ? Samples/s]"
     ]
    },
    {
     "name": "stdout",
     "output_type": "stream",
     "text": [
      "Done\n",
      "Initialised with 3 image(s) found.\n",
      "Output directory set to /root/workspace/Thyroid_Solid_Nodule/data/preprocess/public_aug/tmp/image/366_/output.3 ground truth image(s) found.\n",
      "\n",
      "No./root/workspace/Thyroid_Solid_Nodule/data/preprocess/public/image/366_3.jpg data is being augmented and 60 data will be created\n"
     ]
    },
    {
     "name": "stderr",
     "output_type": "stream",
     "text": [
      "Processing <PIL.Image.Image image mode=RGB size=560x360 at 0x7F02F012E748>: 100%|██████████| 60/60 [00:00<00:00, 98.81 Samples/s]                  \n",
      "Processing <PIL.Image.Image image mode=RGB size=560x360 at 0x7F02F00CF0F0>:   2%|▏         | 1/48 [00:00<00:08,  5.51 Samples/s]"
     ]
    },
    {
     "name": "stdout",
     "output_type": "stream",
     "text": [
      "Done\n",
      "Initialised with 1 image(s) found.\n",
      "Output directory set to /root/workspace/Thyroid_Solid_Nodule/data/preprocess/public_aug/tmp/image/56_/output.1 ground truth image(s) found.\n",
      "\n",
      "No./root/workspace/Thyroid_Solid_Nodule/data/preprocess/public/image/56_1.jpg data is being augmented and 48 data will be created\n"
     ]
    },
    {
     "name": "stderr",
     "output_type": "stream",
     "text": [
      "Processing <PIL.Image.Image image mode=RGB size=560x360 at 0x7F02F00E3898>: 100%|██████████| 48/48 [00:00<00:00, 104.90 Samples/s]                 \n",
      "Processing <PIL.Image.Image image mode=RGB size=560x360 at 0x7F02F00CF160>:   2%|▏         | 1/46 [00:00<00:06,  7.41 Samples/s]"
     ]
    },
    {
     "name": "stdout",
     "output_type": "stream",
     "text": [
      "Done\n",
      "Initialised with 1 image(s) found.\n",
      "Output directory set to /root/workspace/Thyroid_Solid_Nodule/data/preprocess/public_aug/tmp/image/136_/output.1 ground truth image(s) found.\n",
      "\n",
      "No./root/workspace/Thyroid_Solid_Nodule/data/preprocess/public/image/136_1.jpg data is being augmented and 46 data will be created\n"
     ]
    },
    {
     "name": "stderr",
     "output_type": "stream",
     "text": [
      "Processing <PIL.Image.Image image mode=RGB size=560x360 at 0x7F02F00CFC88>: 100%|██████████| 46/46 [00:00<00:00, 97.56 Samples/s]                  \n",
      "Executing Pipeline:   0%|          | 0/56 [00:00<?, ? Samples/s]"
     ]
    },
    {
     "name": "stdout",
     "output_type": "stream",
     "text": [
      "Done\n",
      "Initialised with 2 image(s) found.\n",
      "Output directory set to /root/workspace/Thyroid_Solid_Nodule/data/preprocess/public_aug/tmp/image/360_/output.2 ground truth image(s) found.\n",
      "\n",
      "No./root/workspace/Thyroid_Solid_Nodule/data/preprocess/public/image/360_2.jpg data is being augmented and 56 data will be created\n"
     ]
    },
    {
     "name": "stderr",
     "output_type": "stream",
     "text": [
      "Processing <PIL.JpegImagePlugin.JpegImageFile image mode=RGB size=560x360 at 0x7F02F00D9B70>: 100%|██████████| 56/56 [00:00<00:00, 94.57 Samples/s]\n",
      "Processing <PIL.Image.Image image mode=RGB size=560x360 at 0x7F02F00F80F0>:   0%|          | 0/48 [00:00<?, ? Samples/s]"
     ]
    },
    {
     "name": "stdout",
     "output_type": "stream",
     "text": [
      "Done\n",
      "Initialised with 1 image(s) found.\n",
      "Output directory set to /root/workspace/Thyroid_Solid_Nodule/data/preprocess/public_aug/tmp/image/211_/output.1 ground truth image(s) found.\n",
      "\n",
      "No./root/workspace/Thyroid_Solid_Nodule/data/preprocess/public/image/211_1.jpg data is being augmented and 48 data will be created\n"
     ]
    },
    {
     "name": "stderr",
     "output_type": "stream",
     "text": [
      "Processing <PIL.Image.Image image mode=RGB size=560x360 at 0x7F02F00E3940>: 100%|██████████| 48/48 [00:00<00:00, 94.28 Samples/s]                  \n",
      "Executing Pipeline:   0%|          | 0/55 [00:00<?, ? Samples/s]"
     ]
    },
    {
     "name": "stdout",
     "output_type": "stream",
     "text": [
      "Done\n",
      "Initialised with 2 image(s) found.\n",
      "Output directory set to /root/workspace/Thyroid_Solid_Nodule/data/preprocess/public_aug/tmp/image/335_/output.2 ground truth image(s) found.\n",
      "\n",
      "No./root/workspace/Thyroid_Solid_Nodule/data/preprocess/public/image/335_1.jpg data is being augmented and 55 data will be created\n"
     ]
    },
    {
     "name": "stderr",
     "output_type": "stream",
     "text": [
      "Processing <PIL.Image.Image image mode=RGB size=560x360 at 0x7F02F00C7A58>: 100%|██████████| 55/55 [00:00<00:00, 96.25 Samples/s]                  \n",
      "Executing Pipeline:   0%|          | 0/47 [00:00<?, ? Samples/s]"
     ]
    },
    {
     "name": "stdout",
     "output_type": "stream",
     "text": [
      "Done\n",
      "Initialised with 1 image(s) found.\n",
      "Output directory set to /root/workspace/Thyroid_Solid_Nodule/data/preprocess/public_aug/tmp/image/46_/output.1 ground truth image(s) found.\n",
      "\n",
      "No./root/workspace/Thyroid_Solid_Nodule/data/preprocess/public/image/46_1.jpg data is being augmented and 47 data will be created\n"
     ]
    },
    {
     "name": "stderr",
     "output_type": "stream",
     "text": [
      "Processing <PIL.Image.Image image mode=RGB size=560x360 at 0x7F02F012A5C0>: 100%|██████████| 47/47 [00:00<00:00, 82.20 Samples/s]                  \n",
      "Executing Pipeline:   0%|          | 0/50 [00:00<?, ? Samples/s]"
     ]
    },
    {
     "name": "stdout",
     "output_type": "stream",
     "text": [
      "Done\n",
      "Initialised with 2 image(s) found.\n",
      "Output directory set to /root/workspace/Thyroid_Solid_Nodule/data/preprocess/public_aug/tmp/image/maligns_571_/output.2 ground truth image(s) found.\n",
      "\n",
      "No./root/workspace/Thyroid_Solid_Nodule/data/preprocess/public/image/maligns_571_1.jpg data is being augmented and 50 data will be created\n"
     ]
    },
    {
     "name": "stderr",
     "output_type": "stream",
     "text": [
      "Processing <PIL.Image.Image image mode=RGB size=560x315 at 0x7F02F00D9F28>: 100%|██████████| 50/50 [00:00<00:00, 101.16 Samples/s]                 \n",
      "Executing Pipeline:   0%|          | 0/50 [00:00<?, ? Samples/s]"
     ]
    },
    {
     "name": "stdout",
     "output_type": "stream",
     "text": [
      "Done\n",
      "Initialised with 1 image(s) found.\n",
      "Output directory set to /root/workspace/Thyroid_Solid_Nodule/data/preprocess/public_aug/tmp/image/100_/output.1 ground truth image(s) found.\n",
      "\n",
      "No./root/workspace/Thyroid_Solid_Nodule/data/preprocess/public/image/100_1.jpg data is being augmented and 50 data will be created\n"
     ]
    },
    {
     "name": "stderr",
     "output_type": "stream",
     "text": [
      "Processing <PIL.Image.Image image mode=RGB size=560x360 at 0x7F02F00C7A58>: 100%|██████████| 50/50 [00:00<00:00, 78.54 Samples/s]                  \n",
      "Executing Pipeline:   0%|          | 0/43 [00:00<?, ? Samples/s]"
     ]
    },
    {
     "name": "stdout",
     "output_type": "stream",
     "text": [
      "Done\n",
      "Initialised with 1 image(s) found.\n",
      "Output directory set to /root/workspace/Thyroid_Solid_Nodule/data/preprocess/public_aug/tmp/image/184_/output.1 ground truth image(s) found.\n",
      "\n",
      "No./root/workspace/Thyroid_Solid_Nodule/data/preprocess/public/image/184_1.jpg data is being augmented and 43 data will be created\n"
     ]
    },
    {
     "name": "stderr",
     "output_type": "stream",
     "text": [
      "Processing <PIL.Image.Image image mode=RGB size=560x360 at 0x7F02F011E160>: 100%|██████████| 43/43 [00:00<00:00, 85.42 Samples/s]                 \n",
      "Executing Pipeline:   0%|          | 0/42 [00:00<?, ? Samples/s]"
     ]
    },
    {
     "name": "stdout",
     "output_type": "stream",
     "text": [
      "Done\n",
      "Initialised with 1 image(s) found.\n",
      "Output directory set to /root/workspace/Thyroid_Solid_Nodule/data/preprocess/public_aug/tmp/image/4_/output.1 ground truth image(s) found.\n",
      "\n",
      "No./root/workspace/Thyroid_Solid_Nodule/data/preprocess/public/image/4_1.jpg data is being augmented and 42 data will be created\n"
     ]
    },
    {
     "name": "stderr",
     "output_type": "stream",
     "text": [
      "Processing <PIL.Image.Image image mode=RGB size=560x360 at 0x7F02F00F8128>: 100%|██████████| 42/42 [00:00<00:00, 59.97 Samples/s]                  \n",
      "Executing Pipeline:   0%|          | 0/49 [00:00<?, ? Samples/s]"
     ]
    },
    {
     "name": "stdout",
     "output_type": "stream",
     "text": [
      "Done\n",
      "Initialised with 1 image(s) found.\n",
      "Output directory set to /root/workspace/Thyroid_Solid_Nodule/data/preprocess/public_aug/tmp/image/2_/output.1 ground truth image(s) found.\n",
      "\n",
      "No./root/workspace/Thyroid_Solid_Nodule/data/preprocess/public/image/2_1.jpg data is being augmented and 49 data will be created\n"
     ]
    },
    {
     "name": "stderr",
     "output_type": "stream",
     "text": [
      "Processing <PIL.Image.Image image mode=RGB size=560x360 at 0x7F02F00D9470>: 100%|██████████| 49/49 [00:00<00:00, 97.00 Samples/s]                  \n",
      "Processing <PIL.Image.Image image mode=RGB size=560x315 at 0x7F02F00C7CC0>:   0%|          | 0/50 [00:00<?, ? Samples/s]"
     ]
    },
    {
     "name": "stdout",
     "output_type": "stream",
     "text": [
      "Done\n",
      "Initialised with 1 image(s) found.\n",
      "Output directory set to /root/workspace/Thyroid_Solid_Nodule/data/preprocess/public_aug/tmp/image/maligns_616_/output.1 ground truth image(s) found.\n",
      "\n",
      "No./root/workspace/Thyroid_Solid_Nodule/data/preprocess/public/image/maligns_616_1.jpg data is being augmented and 50 data will be created\n"
     ]
    },
    {
     "name": "stderr",
     "output_type": "stream",
     "text": [
      "Processing <PIL.JpegImagePlugin.JpegImageFile image mode=RGB size=560x315 at 0x7F02F00F8908>: 100%|██████████| 50/50 [00:00<00:00, 110.22 Samples/s]\n",
      "Processing <PIL.Image.Image image mode=RGB size=560x360 at 0x7F02F00C7C88>:   2%|▏         | 1/45 [00:00<00:06,  7.01 Samples/s]"
     ]
    },
    {
     "name": "stdout",
     "output_type": "stream",
     "text": [
      "Done\n",
      "Initialised with 1 image(s) found.\n",
      "Output directory set to /root/workspace/Thyroid_Solid_Nodule/data/preprocess/public_aug/tmp/image/283_/output.1 ground truth image(s) found.\n",
      "\n",
      "No./root/workspace/Thyroid_Solid_Nodule/data/preprocess/public/image/283_1.jpg data is being augmented and 45 data will be created\n"
     ]
    },
    {
     "name": "stderr",
     "output_type": "stream",
     "text": [
      "Processing <PIL.Image.Image image mode=RGB size=560x360 at 0x7F02F0125400>: 100%|██████████| 45/45 [00:00<00:00, 100.67 Samples/s]\n",
      "Executing Pipeline:   0%|          | 0/46 [00:00<?, ? Samples/s]"
     ]
    },
    {
     "name": "stdout",
     "output_type": "stream",
     "text": [
      "Done\n",
      "Initialised with 3 image(s) found.\n",
      "Output directory set to /root/workspace/Thyroid_Solid_Nodule/data/preprocess/public_aug/tmp/image/69_/output.3 ground truth image(s) found.\n",
      "\n",
      "No./root/workspace/Thyroid_Solid_Nodule/data/preprocess/public/image/69_1.jpg data is being augmented and 46 data will be created\n"
     ]
    },
    {
     "name": "stderr",
     "output_type": "stream",
     "text": [
      "Processing <PIL.Image.Image image mode=RGB size=560x360 at 0x7F02F012ADD8>: 100%|██████████| 46/46 [00:00<00:00, 93.17 Samples/s]\n",
      "Processing <PIL.Image.Image image mode=RGB size=560x360 at 0x7F02F00D9978>:   2%|▏         | 1/44 [00:00<00:07,  5.74 Samples/s]"
     ]
    },
    {
     "name": "stdout",
     "output_type": "stream",
     "text": [
      "Done\n",
      "Initialised with 2 image(s) found.\n",
      "Output directory set to /root/workspace/Thyroid_Solid_Nodule/data/preprocess/public_aug/tmp/image/313_/output.2 ground truth image(s) found.\n",
      "\n",
      "No./root/workspace/Thyroid_Solid_Nodule/data/preprocess/public/image/313_1.jpg data is being augmented and 44 data will be created\n"
     ]
    },
    {
     "name": "stderr",
     "output_type": "stream",
     "text": [
      "Processing <PIL.Image.Image image mode=RGB size=560x360 at 0x7F02F0128828>: 100%|██████████| 44/44 [00:00<00:00, 92.55 Samples/s]\n",
      "Processing <PIL.Image.Image image mode=RGB size=560x360 at 0x7F02F00DA8D0>:   2%|▏         | 1/48 [00:00<00:08,  5.48 Samples/s]"
     ]
    },
    {
     "name": "stdout",
     "output_type": "stream",
     "text": [
      "Done\n",
      "Initialised with 2 image(s) found.\n",
      "Output directory set to /root/workspace/Thyroid_Solid_Nodule/data/preprocess/public_aug/tmp/image/163_/output.2 ground truth image(s) found.\n",
      "\n",
      "No./root/workspace/Thyroid_Solid_Nodule/data/preprocess/public/image/163_2.jpg data is being augmented and 48 data will be created\n"
     ]
    },
    {
     "name": "stderr",
     "output_type": "stream",
     "text": [
      "Processing <PIL.Image.Image image mode=RGB size=560x360 at 0x7F02F012ADA0>: 100%|██████████| 48/48 [00:00<00:00, 99.69 Samples/s]                  \n",
      "Processing <PIL.JpegImagePlugin.JpegImageFile image mode=RGB size=560x360 at 0x7F02F011EDA0>:   0%|          | 0/55 [00:00<?, ? Samples/s]"
     ]
    },
    {
     "name": "stdout",
     "output_type": "stream",
     "text": [
      "Done\n",
      "Initialised with 1 image(s) found.\n",
      "Output directory set to /root/workspace/Thyroid_Solid_Nodule/data/preprocess/public_aug/tmp/image/151_/output.1 ground truth image(s) found.\n",
      "\n",
      "No./root/workspace/Thyroid_Solid_Nodule/data/preprocess/public/image/151_1.jpg data is being augmented and 55 data will be created\n"
     ]
    },
    {
     "name": "stderr",
     "output_type": "stream",
     "text": [
      "Processing <PIL.Image.Image image mode=RGB size=560x360 at 0x7F02F00D9F28>: 100%|██████████| 55/55 [00:00<00:00, 105.58 Samples/s]                 \n",
      "Executing Pipeline:   0%|          | 0/52 [00:00<?, ? Samples/s]"
     ]
    },
    {
     "name": "stdout",
     "output_type": "stream",
     "text": [
      "Done\n",
      "Initialised with 2 image(s) found.\n",
      "Output directory set to /root/workspace/Thyroid_Solid_Nodule/data/preprocess/public_aug/tmp/image/177_/output.2 ground truth image(s) found.\n",
      "\n",
      "No./root/workspace/Thyroid_Solid_Nodule/data/preprocess/public/image/177_2.jpg data is being augmented and 52 data will be created\n"
     ]
    },
    {
     "name": "stderr",
     "output_type": "stream",
     "text": [
      "Processing <PIL.Image.Image image mode=RGB size=560x360 at 0x7F02F011E978>: 100%|██████████| 52/52 [00:00<00:00, 91.15 Samples/s]                  \n",
      "Processing <PIL.Image.Image image mode=RGB size=560x360 at 0x7F02F00E1710>:   2%|▏         | 1/46 [00:00<00:04,  9.73 Samples/s]"
     ]
    },
    {
     "name": "stdout",
     "output_type": "stream",
     "text": [
      "Done\n",
      "Initialised with 1 image(s) found.\n",
      "Output directory set to /root/workspace/Thyroid_Solid_Nodule/data/preprocess/public_aug/tmp/image/326_/output.1 ground truth image(s) found.\n",
      "\n",
      "No./root/workspace/Thyroid_Solid_Nodule/data/preprocess/public/image/326_1.jpg data is being augmented and 46 data will be created\n"
     ]
    },
    {
     "name": "stderr",
     "output_type": "stream",
     "text": [
      "Processing <PIL.Image.Image image mode=RGB size=560x360 at 0x7F02F00E16D8>: 100%|██████████| 46/46 [00:00<00:00, 99.16 Samples/s]\n",
      "Processing <PIL.Image.Image image mode=RGB size=560x360 at 0x7F02F011EE48>:   2%|▏         | 1/50 [00:00<00:06,  7.95 Samples/s]"
     ]
    },
    {
     "name": "stdout",
     "output_type": "stream",
     "text": [
      "Done\n",
      "Initialised with 1 image(s) found.\n",
      "Output directory set to /root/workspace/Thyroid_Solid_Nodule/data/preprocess/public_aug/tmp/image/276_/output.1 ground truth image(s) found.\n",
      "\n",
      "No./root/workspace/Thyroid_Solid_Nodule/data/preprocess/public/image/276_1.jpg data is being augmented and 50 data will be created\n"
     ]
    },
    {
     "name": "stderr",
     "output_type": "stream",
     "text": [
      "Processing <PIL.Image.Image image mode=RGB size=560x360 at 0x7F02F0090320>: 100%|██████████| 50/50 [00:00<00:00, 128.62 Samples/s]                 \n",
      "Executing Pipeline:   0%|          | 0/47 [00:00<?, ? Samples/s]"
     ]
    },
    {
     "name": "stdout",
     "output_type": "stream",
     "text": [
      "Done\n",
      "Initialised with 1 image(s) found.\n",
      "Output directory set to /root/workspace/Thyroid_Solid_Nodule/data/preprocess/public_aug/tmp/image/300_/output.1 ground truth image(s) found.\n",
      "\n",
      "No./root/workspace/Thyroid_Solid_Nodule/data/preprocess/public/image/300_1.jpg data is being augmented and 47 data will be created\n"
     ]
    },
    {
     "name": "stderr",
     "output_type": "stream",
     "text": [
      "Processing <PIL.Image.Image image mode=RGB size=560x360 at 0x7F02F00D9400>: 100%|██████████| 47/47 [00:00<00:00, 76.50 Samples/s]                  \n",
      "Executing Pipeline:   0%|          | 0/56 [00:00<?, ? Samples/s]"
     ]
    },
    {
     "name": "stdout",
     "output_type": "stream",
     "text": [
      "Done\n",
      "Initialised with 1 image(s) found.\n",
      "Output directory set to /root/workspace/Thyroid_Solid_Nodule/data/preprocess/public_aug/tmp/image/199_/output.1 ground truth image(s) found.\n",
      "\n",
      "No./root/workspace/Thyroid_Solid_Nodule/data/preprocess/public/image/199_1.jpg data is being augmented and 56 data will be created\n"
     ]
    },
    {
     "name": "stderr",
     "output_type": "stream",
     "text": [
      "Processing <PIL.Image.Image image mode=RGB size=560x360 at 0x7F02F00D9F98>: 100%|██████████| 56/56 [00:00<00:00, 111.02 Samples/s]\n",
      "Executing Pipeline:   0%|          | 0/56 [00:00<?, ? Samples/s]"
     ]
    },
    {
     "name": "stdout",
     "output_type": "stream",
     "text": [
      "Done\n",
      "Initialised with 2 image(s) found.\n",
      "Output directory set to /root/workspace/Thyroid_Solid_Nodule/data/preprocess/public_aug/tmp/image/99_/output.2 ground truth image(s) found.\n",
      "\n",
      "No./root/workspace/Thyroid_Solid_Nodule/data/preprocess/public/image/99_1.jpg data is being augmented and 56 data will be created\n"
     ]
    },
    {
     "name": "stderr",
     "output_type": "stream",
     "text": [
      "Processing <PIL.Image.Image image mode=RGB size=560x360 at 0x7F02F00F8EF0>: 100%|██████████| 56/56 [00:00<00:00, 100.78 Samples/s]\n",
      "Executing Pipeline:   0%|          | 0/44 [00:00<?, ? Samples/s]"
     ]
    },
    {
     "name": "stdout",
     "output_type": "stream",
     "text": [
      "Done\n",
      "Initialised with 1 image(s) found.\n",
      "Output directory set to /root/workspace/Thyroid_Solid_Nodule/data/preprocess/public_aug/tmp/image/24_/output.1 ground truth image(s) found.\n",
      "\n",
      "No./root/workspace/Thyroid_Solid_Nodule/data/preprocess/public/image/24_1.jpg data is being augmented and 44 data will be created\n"
     ]
    },
    {
     "name": "stderr",
     "output_type": "stream",
     "text": [
      "Processing <PIL.Image.Image image mode=RGB size=560x360 at 0x7F02F0098908>: 100%|██████████| 44/44 [00:00<00:00, 84.50 Samples/s]                 \n",
      "Executing Pipeline:   0%|          | 0/47 [00:00<?, ? Samples/s]"
     ]
    },
    {
     "name": "stdout",
     "output_type": "stream",
     "text": [
      "Done\n",
      "Initialised with 1 image(s) found.\n",
      "Output directory set to /root/workspace/Thyroid_Solid_Nodule/data/preprocess/public_aug/tmp/image/154_/output.1 ground truth image(s) found.\n",
      "\n",
      "No./root/workspace/Thyroid_Solid_Nodule/data/preprocess/public/image/154_1.jpg data is being augmented and 47 data will be created\n"
     ]
    },
    {
     "name": "stderr",
     "output_type": "stream",
     "text": [
      "Processing <PIL.Image.Image image mode=RGB size=560x360 at 0x7F02F0098E80>: 100%|██████████| 47/47 [00:00<00:00, 87.35 Samples/s]                  \n",
      "Executing Pipeline:   0%|          | 0/50 [00:00<?, ? Samples/s]"
     ]
    },
    {
     "name": "stdout",
     "output_type": "stream",
     "text": [
      "Done\n",
      "Initialised with 2 image(s) found.\n",
      "Output directory set to /root/workspace/Thyroid_Solid_Nodule/data/preprocess/public_aug/tmp/image/351_/output.2 ground truth image(s) found.\n",
      "\n",
      "No./root/workspace/Thyroid_Solid_Nodule/data/preprocess/public/image/351_2.jpg data is being augmented and 50 data will be created\n"
     ]
    },
    {
     "name": "stderr",
     "output_type": "stream",
     "text": [
      "Processing <PIL.Image.Image image mode=RGB size=560x360 at 0x7F02F0128D68>: 100%|██████████| 50/50 [00:00<00:00, 90.43 Samples/s]                  \n",
      "Executing Pipeline:   0%|          | 0/58 [00:00<?, ? Samples/s]"
     ]
    },
    {
     "name": "stdout",
     "output_type": "stream",
     "text": [
      "Done\n",
      "Initialised with 1 image(s) found.\n",
      "Output directory set to /root/workspace/Thyroid_Solid_Nodule/data/preprocess/public_aug/tmp/image/maligns_629_/output.1 ground truth image(s) found.\n",
      "\n",
      "No./root/workspace/Thyroid_Solid_Nodule/data/preprocess/public/image/maligns_629_1.jpg data is being augmented and 58 data will be created\n"
     ]
    },
    {
     "name": "stderr",
     "output_type": "stream",
     "text": [
      "Processing <PIL.Image.Image image mode=RGB size=560x315 at 0x7F02F00E3208>: 100%|██████████| 58/58 [00:00<00:00, 118.58 Samples/s]                 "
     ]
    },
    {
     "name": "stdout",
     "output_type": "stream",
     "text": [
      "Done\n",
      "27246 pairs of data has been created totally\n"
     ]
    },
    {
     "name": "stderr",
     "output_type": "stream",
     "text": [
      "\n"
     ]
    }
   ],
   "source": [
    "a = start(train_path, groud_truth_path)\n",
    "doAugment(a)"
   ]
  },
  {
   "cell_type": "code",
   "execution_count": null,
   "metadata": {
    "collapsed": true
   },
   "outputs": [],
   "source": []
  }
 ],
 "metadata": {
  "kernelspec": {
   "display_name": "Python 3",
   "language": "python",
   "name": "python3"
  },
  "language_info": {
   "codemirror_mode": {
    "name": "ipython",
    "version": 3
   },
   "file_extension": ".py",
   "mimetype": "text/x-python",
   "name": "python",
   "nbconvert_exporter": "python",
   "pygments_lexer": "ipython3",
   "version": "3.6.11"
  }
 },
 "nbformat": 4,
 "nbformat_minor": 2
}
