{
 "cells": [
  {
   "cell_type": "code",
   "execution_count": 1,
   "metadata": {
    "collapsed": true
   },
   "outputs": [],
   "source": [
    "\"\"\"\n",
    "用于裁剪、标注郴州医生图像数据\n",
    "输出：原图、标注图、MASK图、ROI图像\n",
    "\"\"\"\n",
    "\n",
    "import cv2\n",
    "import os\n",
    "import io\n",
    "import json\n",
    "import numpy\n",
    "import imageio"
   ]
  },
  {
   "cell_type": "code",
   "execution_count": 2,
   "metadata": {
    "collapsed": true
   },
   "outputs": [],
   "source": [
    "\"\"\"\n",
    "检查文件，参数（目录，后缀）\n",
    "\"\"\"\n",
    "\n",
    "def find_file(directory, extension):\n",
    "    print(\"[INFO] directory: \" + directory)\n",
    "    target_files = []\n",
    "    for target_file in os.listdir(directory):\n",
    "        if target_file.endswith(extension):\n",
    "            print(\"[INFO] \" + extension + \"_file: \" + directory + \"/\" + target_file)\n",
    "            target_files += [target_file]\n",
    "    target_files.sort()\n",
    "    return target_files"
   ]
  },
  {
   "cell_type": "code",
   "execution_count": 3,
   "metadata": {
    "collapsed": true
   },
   "outputs": [],
   "source": [
    "def read_json_file(directory, json_folder_name, filename, output_directory):\n",
    "    print(\"[INFO] read_json_file: \" + directory + \"/\" + filename)\n",
    "    prefix_filename = filename[:-5]\n",
    "    print(prefix_filename)\n",
    "    jpg_name = prefix_filename + \".jpg\"\n",
    "    output_jpg_name = jpg_name.replace('-','').replace('(','').replace(')','').replace('_','').replace(' ','')\n",
    "    jpg_file = directory + \"/\" + jpg_name\n",
    "    if os.path.exists(jpg_file):\n",
    "        image = imageio.imread(jpg_file)\n",
    "        with io.open(json_folder_name + \"/\" + filename,'r',encoding='gbk') as load_f:\n",
    "            load_dict = json.load(load_f)\n",
    "            annotation_image = create_image(jpg_file)\n",
    "            box_image = create_image(jpg_file)\n",
    "            height = image.shape[0]\n",
    "            width  = image.shape[1]\n",
    "            mask_image = numpy.zeros((height,width,3))\n",
    "            mask_box_image = numpy.zeros((height,width,3))\n",
    "            for sub_id, mark in enumerate(load_dict[\"shapes\"]):\n",
    "                label_name = mark[\"label\"].replace(',','')\n",
    "                # print(mark[\"points\"])\n",
    "                a = numpy.array(mark[\"points\"], numpy.int32)\n",
    "                cv2.fillConvexPoly(mask_image, a, (255, 255, 255))\n",
    "                # cv2.polylines(annotation_image, a, True, color = (0, 0, 255), thickness = 1) # 图像，点集，是否闭合，颜色，线条粗细\n",
    "                point_size = len(mark[\"points\"])\n",
    "                pre_point = mark[\"points\"][point_size - 1]\n",
    "                for points in mark[\"points\"]:\n",
    "                    cv2.line(annotation_image, (points[0], points[1]), (pre_point[0], pre_point[1]), color = (0, 0, 255), thickness = 5)\n",
    "                    pre_point = points\n",
    "                lmax = numpy.max(a[1:len(a)][:, 0])\n",
    "                lmin = numpy.min(a[1:len(a)][:, 0])\n",
    "                hmax = numpy.max(a[1:len(a)][:, 1])\n",
    "                hmin = numpy.min(a[1:len(a)][:, 1])\n",
    "                roi_image = image[hmin: hmax, lmin: lmax]\n",
    "                # annotation_image = cv2.rectangle(annotation_image, (lmin, hmin), (lmax, hmax), color = (0, 0, 255), thickness = 1) # 图像，点集，是否闭合，颜色，线条粗细\n",
    "#                 if label_name.startswith('A1'):\n",
    "#                     box_image = cv2.putText(box_image, 'Cystic Nodule', (lmin - 10, hmin - 20), cv2.FONT_HERSHEY_SIMPLEX, 1, (127, 255, 0), 2)\n",
    "#                     box_image = cv2.rectangle(box_image, (lmin - 10, hmin - 10), (lmax + 10, hmax + 10), color = (127, 255, 0), thickness = 3, lineType=cv2.LINE_AA) # 图像，点集，是否闭合，颜色，线条粗细0 255 127\n",
    "#                 if label_name.startswith('A4'):\n",
    "#                     box_image = cv2.putText(box_image, 'Solid Nodule', (lmin - 10, hmin - 20), cv2.FONT_HERSHEY_SIMPLEX, 1, (0, 0, 245), 2)\n",
    "#                     box_image = cv2.rectangle(box_image, (lmin - 10, hmin - 10), (lmax + 10, hmax + 10), color = (0, 0, 245), thickness = 3, lineType=cv2.LINE_AA) # 图像，点集，是否闭合，颜色，线条粗细\n",
    "                box_image = cv2.rectangle(box_image, (lmin, hmin), (lmax, hmax), color = (0, 245, 0), thickness = 2, lineType=cv2.LINE_AA) # 图像，点集，是否闭合，颜色，线条粗细\n",
    "\n",
    "                mask_box_image = mask_image\n",
    "                mask_box_image = cv2.rectangle(mask_box_image, (lmin, hmin), (lmax, hmax), color = (0, 245, 0), thickness = 2, lineType=cv2.LINE_AA) # 图像，点集，是否闭合，颜色，线条粗细0 255 127\n",
    "\n",
    "        # save_jpg_file(output_directory + \"/annotation/\" + label_name + \"_\" + output_jpg_name, annotation_image)\n",
    "                mask_roi_image = mask_image[hmin: hmax, lmin: lmax]\n",
    "                save_jpg_file(output_directory + \"/roi/\" + label_name + \"_\" + str(sub_id) + \"_\" + output_jpg_name, roi_image)\n",
    "                save_jpg_file(output_directory + \"/mask_roi/\" + label_name + \"_\" + str(sub_id) + \"_\" + output_jpg_name, mask_roi_image)\n",
    "            save_jpg_file(output_directory + \"/mask/\" + label_name + \"_\" + output_jpg_name, mask_image)\n",
    "            save_jpg_file(output_directory + \"/image/\" + label_name + \"_\" + output_jpg_name, image)\n",
    "            save_jpg_file(output_directory + \"/box/\" + label_name + \"_\" + output_jpg_name, box_image)\n",
    "            save_jpg_file(output_directory + \"/mask_box/\" + label_name + \"_\" + output_jpg_name, mask_box_image)"
   ]
  },
  {
   "cell_type": "code",
   "execution_count": 4,
   "metadata": {
    "collapsed": true
   },
   "outputs": [],
   "source": [
    "def create_image(jpg_file):\n",
    "    image = imageio.imread(jpg_file)\n",
    "    height = image.shape[0]\n",
    "    width = image.shape[1]\n",
    "    new_image = cv2.resize(image, (width, height), interpolation=cv2.INTER_LINEAR)\n",
    "    return new_image\n"
   ]
  },
  {
   "cell_type": "code",
   "execution_count": 5,
   "metadata": {
    "collapsed": true
   },
   "outputs": [],
   "source": [
    "def save_jpg_file(jpg_output_file, output_image):\n",
    "    cv2.imwrite(jpg_output_file, output_image)"
   ]
  },
  {
   "cell_type": "code",
   "execution_count": 6,
   "metadata": {},
   "outputs": [
    {
     "name": "stdout",
     "output_type": "stream",
     "text": [
      "[INFO] read_json_file: ../../data/origin/chenzhou/image//13THY420180717154528804T.json\n",
      "13THY420180717154528804T\n",
      "[INFO] read_json_file: ../../data/origin/chenzhou/image//18212221420180907THY13120180907142255572T.json\n",
      "18212221420180907THY13120180907142255572T\n",
      "[INFO] read_json_file: ../../data/origin/chenzhou/image//98THY4320180820151729074.json\n",
      "98THY4320180820151729074\n",
      "[INFO] read_json_file: ../../data/origin/chenzhou/image//55THY1920180723153752131T.json\n",
      "55THY1920180723153752131T\n",
      "[INFO] read_json_file: ../../data/origin/chenzhou/image//14939310820180803THY11120180803083209135T.json\n",
      "14939310820180803THY11120180803083209135T\n",
      "[INFO] read_json_file: ../../data/origin/chenzhou/image//39THY1420180720115201073T.json\n",
      "39THY1420180720115201073T\n",
      "[INFO] read_json_file: ../../data/origin/chenzhou/image//107THY4620180823092511176T.json\n",
      "107THY4620180823092511176T\n",
      "[INFO] read_json_file: ../../data/origin/chenzhou/image//19715021020181010THY14320181010100227611T.json\n",
      "19715021020181010THY14320181010100227611T\n"
     ]
    }
   ],
   "source": [
    "# 郴州数据目录\n",
    "image_folder_name = '../../data/origin/chenzhou/image/'\n",
    "json_folder_name = '../../data/origin/chenzhou/json/'\n",
    "# 郴州数据输出目录\n",
    "output_folder_name = '../../data/preprocess/demo/'\n",
    "# # 标注图像输出目录\n",
    "# if os.path.exists(output_folder_name + \"/annotation/\") == False:\n",
    "#     os.makedirs(output_folder_name + \"/annotation/\")\n",
    "# # mask图像输出目录\n",
    "# if os.path.exists(output_folder_name + \"/mask/\") == False:\n",
    "#     os.makedirs(output_folder_name + \"/mask/\")\n",
    "# ROI图像输出目录\n",
    "if os.path.exists(output_folder_name + \"/mask_roi/\") == False:\n",
    "    os.makedirs(output_folder_name + \"/mask_roi/\")\n",
    "    # ROI图像输出目录\n",
    "if os.path.exists(output_folder_name + \"/mask_box/\") == False:\n",
    "    os.makedirs(output_folder_name + \"/mask_box/\")\n",
    "# ROI图像输出目录\n",
    "if os.path.exists(output_folder_name + \"/roi/\") == False:\n",
    "    os.makedirs(output_folder_name + \"/roi/\")\n",
    "# 原始图像输出目录\n",
    "if os.path.exists(output_folder_name + \"/box/\") == False:\n",
    "    os.makedirs(output_folder_name + \"/box/\")\n",
    "# 原始图像输出目录\n",
    "if os.path.exists(output_folder_name + \"/image/\") == False:\n",
    "    os.makedirs(output_folder_name + \"/image/\")\n",
    "# json文件列表\n",
    "# json_files = find_file(json_folder_name, '.json')\n",
    "# json_files = ['13THY420180717154528804T.json', '39THY1420180720115201073T.json']\n",
    "# json_files = ['98THY4320180820151729074.json', '107THY4620180823092511176T.json']\n",
    "# json_files = ['55THY1920180723153752131T.json']\n",
    "\n",
    "json_files = ['13THY420180717154528804T.json', '18212221420180907THY13120180907142255572T.json', '98THY4320180820151729074.json', '55THY1920180723153752131T.json', '14939310820180803THY11120180803083209135T.json', '39THY1420180720115201073T.json', '107THY4620180823092511176T.json', '19715021020181010THY14320181010100227611T.json']\n",
    "for json_file in json_files:\n",
    "    read_json_file(image_folder_name, json_folder_name, json_file, output_folder_name)\n",
    "\n",
    "# binary_map = image * 255"
   ]
  }
 ],
 "metadata": {
  "kernelspec": {
   "display_name": "Python 3.6.11 64-bit ('mmdetection': conda)",
   "language": "python",
   "name": "python361164bitmmdetectioncondac5e20e32b3c64899be2ee20da743e85a"
  },
  "language_info": {
   "codemirror_mode": {
    "name": "ipython",
    "version": 3
   },
   "file_extension": ".py",
   "mimetype": "text/x-python",
   "name": "python",
   "nbconvert_exporter": "python",
   "pygments_lexer": "ipython3",
   "version": "3.6.11"
  }
 },
 "nbformat": 4,
 "nbformat_minor": 2
}
