{
 "cells": [
  {
   "cell_type": "code",
   "execution_count": 4,
   "metadata": {},
   "outputs": [],
   "source": [
    "import mmcv\n",
    "import os\n",
    "old_path = '/root/workspace/Thyroid_Solid_Nodule/code/mmdetection/logs/faster_rcnn_r50_fpn_1x_chenzhou/tests/'\n",
    "new_path = '/root/workspace/Thyroid_Solid_Nodule/code/mmdetection/logs/faster_rcnn_r50_fpn_1x_chenzhou/'\n",
    "\n",
    "for root, dirs, files in os.walk(os.path.abspath(old_path)):\n",
    "    for file in files:\n",
    "        img = mmcv.imread(old_path + file)\n",
    "        mmcv.imwrite(mmcv.bgr2rgb(img), new_path + file)"
   ]
  },
  {
   "cell_type": "code",
   "execution_count": null,
   "metadata": {
    "collapsed": true
   },
   "outputs": [],
   "source": []
  }
 ],
 "metadata": {
  "kernelspec": {
   "display_name": "Python 3.6.11 64-bit ('mmdetection': conda)",
   "language": "python",
   "name": "python361164bitmmdetectioncondac5e20e32b3c64899be2ee20da743e85a"
  },
  "language_info": {
   "codemirror_mode": {
    "name": "ipython",
    "version": 3
   },
   "file_extension": ".py",
   "mimetype": "text/x-python",
   "name": "python",
   "nbconvert_exporter": "python",
   "pygments_lexer": "ipython3",
   "version": "3.6.11"
  }
 },
 "nbformat": 4,
 "nbformat_minor": 2
}
