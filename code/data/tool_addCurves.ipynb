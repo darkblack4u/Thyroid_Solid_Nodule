{
 "cells": [
  {
   "cell_type": "code",
   "execution_count": 3,
   "metadata": {},
   "outputs": [
    {
     "name": "stdout",
     "output_type": "stream",
     "text": [
      "[INFO] file: ../../data/preprocess/demo/mask_roi//A4B1C3D1E1_1_55THY1920180723153752131T.jpg\n",
      "76 110\n",
      "[INFO] file: ../../data/preprocess/demo/mask_roi//A4B1C2D1E1_0_103THY4420180822155400562T.jpg\n",
      "220 378\n",
      "[INFO] file: ../../data/preprocess/demo/mask_roi//A1B1C1D1E1_0_55THY1920180723153752131T.jpg\n",
      "140 157\n",
      "[INFO] file: ../../data/preprocess/demo/mask_roi//A4B2C3D3E4_0_106THY4620180823092452358T.jpg\n",
      "121 120\n",
      "[INFO] file: ../../data/preprocess/demo/mask_roi//A4B1C2D2E4_0_98THY4320180820151729074.jpg\n",
      "155 159\n",
      "[INFO] file: ../../data/preprocess/demo/mask_roi//A1B1C1D1E1_0_39THY1420180720115201073T.jpg\n",
      "100 117\n",
      "[INFO] file: ../../data/preprocess/demo/mask_roi//A1B1C1D1E1_0_13THY420180717154528804T.jpg\n",
      "182 233\n",
      "[INFO] file: ../../data/preprocess/demo/mask_roi//A1B1C1D1E1_0_13804180920180801THY100520180801092118768V.jpg\n",
      "63 117\n",
      "[INFO] file: ../../data/preprocess/demo/mask_roi//A4B1C2D1E1_0_107THY4620180823092511176T.jpg\n",
      "90 98\n"
     ]
    },
    {
     "data": {
      "text/plain": [
       "'\\ncv2.ellipse(img, (260, 240), (170, 130), 0, 0, 360, (255, 255, 255), 3) #画椭圆\\n函数原型：\\ncv2.ellipse(img, center, axes, angle, startAngle, endAngle, color, thickness, lineType, shift) \\n\\n其中每个参数代表意义如下：\\nimg：需要绘图的图像\\ncenter：椭圆中心点坐标\\naxes：椭圆尺寸（即长短轴）\\nangle：旋转角度（顺时针方向）\\nstartAngle：绘制的起始角度（顺时针方向）\\nendAngle：绘制的终止角度（例如，绘制整个椭圆是0,360，绘制下半椭圆就是0,180）\\ncolor：线条颜色（BGR）\\nthickness：线条粗细（默认值=1）\\nlineType：线条类型（默认值=8）\\nshift：圆心坐标点和数轴的精度（默认值=0）\\n'"
      ]
     },
     "execution_count": 3,
     "metadata": {},
     "output_type": "execute_result"
    }
   ],
   "source": [
    "# 添加椭圆曲线\n",
    "\n",
    "import cv2\n",
    "import os\n",
    "import io\n",
    "import json\n",
    "import numpy\n",
    "import imageio\n",
    "import mmcv\n",
    "\n",
    "directory = '../../data/preprocess/demo/mask_roi/'\n",
    "\n",
    "for target_file in os.listdir(directory):\n",
    "        print(\"[INFO] file: \" + directory + \"/\" + target_file)\n",
    "        image = cv2.imread(directory + \"/\" + target_file)\n",
    "        height = image.shape[0]\n",
    "        width  = image.shape[1]\n",
    "        print(height, width)\n",
    "        \n",
    "        \n",
    "'''\n",
    "cv2.ellipse(img, (260, 240), (170, 130), 0, 0, 360, (255, 255, 255), 3) #画椭圆\n",
    "函数原型：\n",
    "cv2.ellipse(img, center, axes, angle, startAngle, endAngle, color, thickness, lineType, shift) \n",
    "\n",
    "其中每个参数代表意义如下：\n",
    "img：需要绘图的图像\n",
    "center：椭圆中心点坐标\n",
    "axes：椭圆尺寸（即长短轴）\n",
    "angle：旋转角度（顺时针方向）\n",
    "startAngle：绘制的起始角度（顺时针方向）\n",
    "endAngle：绘制的终止角度（例如，绘制整个椭圆是0,360，绘制下半椭圆就是0,180）\n",
    "color：线条颜色（BGR）\n",
    "thickness：线条粗细（默认值=1）\n",
    "lineType：线条类型（默认值=8）\n",
    "shift：圆心坐标点和数轴的精度（默认值=0）\n",
    "'''"
   ]
  },
  {
   "cell_type": "code",
   "execution_count": null,
   "metadata": {
    "collapsed": true
   },
   "outputs": [],
   "source": []
  }
 ],
 "metadata": {
  "kernelspec": {
   "display_name": "Python 3.6.11 64-bit ('mmdetection': conda)",
   "language": "python",
   "name": "python361164bitmmdetectioncondac5e20e32b3c64899be2ee20da743e85a"
  },
  "language_info": {
   "codemirror_mode": {
    "name": "ipython",
    "version": 3
   },
   "file_extension": ".py",
   "mimetype": "text/x-python",
   "name": "python",
   "nbconvert_exporter": "python",
   "pygments_lexer": "ipython3",
   "version": "3.6.11"
  }
 },
 "nbformat": 4,
 "nbformat_minor": 2
}
