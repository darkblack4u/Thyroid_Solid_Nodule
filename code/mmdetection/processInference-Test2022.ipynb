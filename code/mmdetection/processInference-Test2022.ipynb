{
 "cells": [
  {
   "cell_type": "code",
   "execution_count": 1,
   "metadata": {
    "collapsed": true
   },
   "outputs": [],
   "source": [
    "from mmdet.datasets import build_dataset\n",
    "from mmdet.models import build_detector\n",
    "from mmdet.apis import inference_detector, init_detector, show_result_pyplot\n",
    "from mmcv import Config\n",
    "import copy\n",
    "import os.path as osp\n",
    "import os\n",
    "import mmcv\n",
    "import numpy as np\n",
    "import time\n",
    "import cv2\n",
    "import json\n",
    "from pylab import *\n",
    "from skimage import measure \n",
    "from shapely.geometry import Polygon, MultiPolygon\n",
    "import seaborn as sns\n",
    "import matplotlib.pyplot as plt\n",
    "import copy"
   ]
  },
  {
   "cell_type": "code",
   "execution_count": 2,
   "metadata": {},
   "outputs": [
    {
     "name": "stderr",
     "output_type": "stream",
     "text": [
      "/root/workspace/Thyroid_Solid_Nodule/code/mmdetection/mmdet/apis/inference.py:41: UserWarning: Class names are not saved in the checkpoint's meta data, use COCO classes by default.\n",
      "  warnings.warn('Class names are not saved in the checkpoint\\'s '\n"
     ]
    },
    {
     "name": "stdout",
     "output_type": "stream",
     "text": [
      "loading annotations into memory...\n",
      "Done (t=0.29s)\n",
      "creating index...\n",
      "index created!\n"
     ]
    },
    {
     "name": "stderr",
     "output_type": "stream",
     "text": [
      "/root/miniconda3/envs/mmdetection/lib/python3.6/site-packages/pycocotools/coco.py:86: ResourceWarning: unclosed file <_io.TextIOWrapper name='/root/workspace/Thyroid_Solid_Nodule/data/preprocess/chenzhou_aug/annotations/pseudo_images.json' mode='r' encoding='UTF-8'>\n",
      "  dataset = json.load(open(annotation_file, 'r'))\n"
     ]
    }
   ],
   "source": [
    "epo = '30'\n",
    "\n",
    "os.environ[\"CUDA_VISIBLE_DEVICES\"]=\"0,1\"\n",
    "cfg = Config.fromfile('./configs/faster_rcnn/xiaohei_faster_rcnn_r50_fpn_1x_chenzhou.py')\n",
    "cfg.work_dir = 'tools/paper/train/logs/xiaohei_faster_rcnn_r50_fpn_1x_chenzhou_Test2021_202103250741/'\n",
    "cfg.gpu_ids = range(0,2)\n",
    "cfg.model.inference = True\n",
    "checkpoint = cfg.work_dir + 'epoch_' + epo + '.pth'\n",
    "model = init_detector(cfg, checkpoint, device='cuda:0')\n",
    "datasets = [build_dataset(cfg.data.train)]\n",
    "model.CLASSES = datasets[0].CLASSES\n",
    "\n",
    "data_root = '/root/workspace/Thyroid_Solid_Nodule/data/preprocess/chenzhou_aug/'"
   ]
  },
  {
   "cell_type": "code",
   "execution_count": 3,
   "metadata": {
    "collapsed": true
   },
   "outputs": [],
   "source": [
    "## 存mask文件和最后一层特征\n",
    "def draw_features(x, savedir, savename):\n",
    "    # print(savename)\n",
    "    img = copy.deepcopy(x)\n",
    "    output = copy.deepcopy(x)\n",
    "    # 2022 img = np.where(img, 255, 0)\n",
    "    img -= img.min()\n",
    "    img /= (img.max() - img.min())\n",
    "    img *=  256\n",
    "#     img += 128\n",
    "    img=img.astype(np.uint8)  #转成unit8\n",
    "    img = cv2.applyColorMap(img, cv2.COLORMAP_JET)\n",
    "    cv2.imwrite(savedir + '/' + savename, img,[int(cv2.IMWRITE_JPEG_QUALITY),95])\n",
    "#     print(img)\n",
    "#     plt.figure(figsize = (10, 8))\n",
    "#     ax = sns.heatmap(img, linewidths = 0.05, cmap='rainbow', annot = False)\n",
    "    # sns.heatmap(img, linewidths = 0.05, ax = ax2, vmax=255, vmin=0, cmap='rainbow')\n",
    "#     plt.savefig(savedir + '/' + savename)\n",
    "#     plt.figure(figsize = img.shape)\n",
    "#     plt.imshow(img, cmap='jet')\n",
    "#     plt.axis('off')  \n",
    "#     plt.savefig(savedir + '/' + savename, dpi=400)\n",
    "#     plt.show()\n",
    "    \n",
    "    output = np.where(output >= 0.1, 255, 0)\n",
    "    output=output.astype(np.uint8)\n",
    "#     output = output.where(img, 255, 0)\n",
    "    cv2.imwrite(savedir + '/out-' + savename,mmcv.bgr2rgb(output),[int(cv2.IMWRITE_JPEG_QUALITY),95])"
   ]
  },
  {
   "cell_type": "code",
   "execution_count": 4,
   "metadata": {
    "collapsed": true
   },
   "outputs": [],
   "source": [
    "def postprocess(image_dir, output_dir):\n",
    "    for root, dirs, files in os.walk(os.path.abspath(image_dir)):\n",
    "        for file in files:\n",
    "            img = mmcv.imread(image_dir + file)\n",
    "            result, x = inference_detector(model, img)\n",
    "            img_np=x[0][0]\n",
    "            draw_features(img_np, output_dir, file)"
   ]
  },
  {
   "cell_type": "code",
   "execution_count": 5,
   "metadata": {},
   "outputs": [
    {
     "name": "stderr",
     "output_type": "stream",
     "text": [
      "/root/workspace/Thyroid_Solid_Nodule/code/mmdetection/mmdet/core/post_processing/bbox_nms.py:52: UserWarning: This overload of nonzero is deprecated:\n",
      "\tnonzero()\n",
      "Consider using one of the following signatures instead:\n",
      "\tnonzero(*, bool as_tuple) (Triggered internally at  /opt/conda/conda-bld/pytorch_1595629416375/work/torch/csrc/utils/python_arg_parser.cpp:766.)\n",
      "  labels = valid_mask.nonzero()[:, 1]\n"
     ]
    }
   ],
   "source": [
    "result_path = cfg.work_dir + '/test2022s/result/' + epo + '/'\n",
    "if os.path.exists(result_path) == False:\n",
    "    os.makedirs(result_path)\n",
    "annotation_path = cfg.work_dir + '/test2022s/annotation/' + epo + '/'\n",
    "if os.path.exists(annotation_path) == False:\n",
    "    os.makedirs(annotation_path)\n",
    "image_path = '/root/workspace/Thyroid_Solid_Nodule/data/preprocess/chenzhou_aug/tests/'\n",
    "postprocess(image_path, result_path)\n",
    "    # rebuild_json(result_path, data_root + 'annotations/tests.json', annotation_path, '12.json')\n",
    "image_path = '/root/workspace/Thyroid_Solid_Nodule/data/preprocess/chenzhou_aug/validations/'\n",
    "postprocess(image_path, result_path)\n",
    "image_path = '/root/workspace/Thyroid_Solid_Nodule/data/preprocess/demo2022/image/'\n",
    "postprocess(image_path, result_path)"
   ]
  },
  {
   "cell_type": "code",
   "execution_count": null,
   "metadata": {
    "collapsed": true
   },
   "outputs": [],
   "source": []
  }
 ],
 "metadata": {
  "interpreter": {
   "hash": "cf4bdb0f0503118a361d7b657dd7e8336fdf44efc00ddf85bd206bc810e4be9a"
  },
  "kernelspec": {
   "display_name": "Python [default]",
   "language": "python",
   "name": "python3"
  },
  "language_info": {
   "codemirror_mode": {
    "name": "ipython",
    "version": 3
   },
   "file_extension": ".py",
   "mimetype": "text/x-python",
   "name": "python",
   "nbconvert_exporter": "python",
   "pygments_lexer": "ipython3",
   "version": "3.6.11"
  }
 },
 "nbformat": 4,
 "nbformat_minor": 2
}
