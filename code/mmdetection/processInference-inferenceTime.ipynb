{
 "cells": [
  {
   "cell_type": "code",
   "execution_count": 1,
   "metadata": {
    "scrolled": true
   },
   "outputs": [
    {
     "name": "stderr",
     "output_type": "stream",
     "text": [
      "/root/workspace/Thyroid_Solid_Nodule/code/mmdetection/mmdet/apis/inference.py:41: UserWarning: Class names are not saved in the checkpoint's meta data, use COCO classes by default.\n",
      "  warnings.warn('Class names are not saved in the checkpoint\\'s '\n"
     ]
    },
    {
     "name": "stdout",
     "output_type": "stream",
     "text": [
      "loading annotations into memory...\n"
     ]
    },
    {
     "name": "stderr",
     "output_type": "stream",
     "text": [
      "/root/miniconda3/envs/mmdetection/lib/python3.6/site-packages/pycocotools/coco.py:86: ResourceWarning: unclosed file <_io.TextIOWrapper name='/root/workspace/Thyroid_Solid_Nodule/data/preprocess/chenzhou_aug/annotations/pseudo_images.json' mode='r' encoding='UTF-8'>\n",
      "  dataset = json.load(open(annotation_file, 'r'))\n"
     ]
    },
    {
     "name": "stdout",
     "output_type": "stream",
     "text": [
      "Done (t=0.37s)\n",
      "creating index...\n",
      "index created!\n"
     ]
    },
    {
     "name": "stderr",
     "output_type": "stream",
     "text": [
      "/root/workspace/Thyroid_Solid_Nodule/code/mmdetection/mmdet/core/post_processing/bbox_nms.py:52: UserWarning: This overload of nonzero is deprecated:\n",
      "\tnonzero()\n",
      "Consider using one of the following signatures instead:\n",
      "\tnonzero(*, bool as_tuple) (Triggered internally at  /opt/conda/conda-bld/pytorch_1595629416375/work/torch/csrc/utils/python_arg_parser.cpp:766.)\n",
      "  labels = valid_mask.nonzero()[:, 1]\n",
      "/root/miniconda3/envs/mmdetection/lib/python3.6/site-packages/mmcv/utils/config.py:110: ResourceWarning: unclosed file <_io.TextIOWrapper name='/root/workspace/Thyroid_Solid_Nodule/code/mmdetection/configs/faster_rcnn/faster_rcnn_r50_fpn_1x_chenzhou.py' mode='r' encoding='UTF-8'>\n",
      "  config_file = open(filename).read()\n",
      "/root/miniconda3/envs/mmdetection/lib/python3.6/site-packages/mmcv/utils/config.py:110: ResourceWarning: unclosed file <_io.TextIOWrapper name='/root/workspace/Thyroid_Solid_Nodule/code/mmdetection/configs/_base_/models/faster_rcnn_r50_fpn.py' mode='r' encoding='UTF-8'>\n",
      "  config_file = open(filename).read()\n",
      "/root/miniconda3/envs/mmdetection/lib/python3.6/site-packages/mmcv/utils/config.py:110: ResourceWarning: unclosed file <_io.TextIOWrapper name='/root/workspace/Thyroid_Solid_Nodule/code/mmdetection/configs/_base_/datasets/chenzhou_instance.py' mode='r' encoding='UTF-8'>\n",
      "  config_file = open(filename).read()\n",
      "/root/miniconda3/envs/mmdetection/lib/python3.6/site-packages/mmcv/utils/config.py:110: ResourceWarning: unclosed file <_io.TextIOWrapper name='/root/workspace/Thyroid_Solid_Nodule/code/mmdetection/configs/_base_/schedules/schedule_1x.py' mode='r' encoding='UTF-8'>\n",
      "  config_file = open(filename).read()\n",
      "/root/miniconda3/envs/mmdetection/lib/python3.6/site-packages/mmcv/utils/config.py:110: ResourceWarning: unclosed file <_io.TextIOWrapper name='/root/workspace/Thyroid_Solid_Nodule/code/mmdetection/configs/_base_/default_runtime.py' mode='r' encoding='UTF-8'>\n",
      "  config_file = open(filename).read()\n",
      "/root/workspace/Thyroid_Solid_Nodule/code/mmdetection/mmdet/apis/inference.py:41: UserWarning: Class names are not saved in the checkpoint's meta data, use COCO classes by default.\n",
      "  warnings.warn('Class names are not saved in the checkpoint\\'s '\n"
     ]
    },
    {
     "name": "stdout",
     "output_type": "stream",
     "text": [
      "loading annotations into memory...\n"
     ]
    },
    {
     "name": "stderr",
     "output_type": "stream",
     "text": [
      "/root/miniconda3/envs/mmdetection/lib/python3.6/site-packages/pycocotools/coco.py:86: ResourceWarning: unclosed file <_io.TextIOWrapper name='/root/workspace/Thyroid_Solid_Nodule/data/preprocess/chenzhou_aug/annotations/pseudo_images.json' mode='r' encoding='UTF-8'>\n",
      "  dataset = json.load(open(annotation_file, 'r'))\n"
     ]
    },
    {
     "name": "stdout",
     "output_type": "stream",
     "text": [
      "Done (t=0.47s)\n",
      "creating index...\n",
      "index created!\n"
     ]
    },
    {
     "name": "stderr",
     "output_type": "stream",
     "text": [
      "/root/miniconda3/envs/mmdetection/lib/python3.6/site-packages/mmcv/utils/config.py:110: ResourceWarning: unclosed file <_io.TextIOWrapper name='/root/workspace/Thyroid_Solid_Nodule/code/mmdetection/configs/mask_rcnn/mask_rcnn_r50_fpn_1x_chenzhou.py' mode='r' encoding='UTF-8'>\n",
      "  config_file = open(filename).read()\n",
      "/root/miniconda3/envs/mmdetection/lib/python3.6/site-packages/mmcv/utils/config.py:110: ResourceWarning: unclosed file <_io.TextIOWrapper name='/root/workspace/Thyroid_Solid_Nodule/code/mmdetection/configs/_base_/models/mask_rcnn_r50_fpn.py' mode='r' encoding='UTF-8'>\n",
      "  config_file = open(filename).read()\n",
      "/root/miniconda3/envs/mmdetection/lib/python3.6/site-packages/mmcv/utils/config.py:110: ResourceWarning: unclosed file <_io.TextIOWrapper name='/root/workspace/Thyroid_Solid_Nodule/code/mmdetection/configs/_base_/datasets/chenzhou_instance.py' mode='r' encoding='UTF-8'>\n",
      "  config_file = open(filename).read()\n",
      "/root/miniconda3/envs/mmdetection/lib/python3.6/site-packages/mmcv/utils/config.py:110: ResourceWarning: unclosed file <_io.TextIOWrapper name='/root/workspace/Thyroid_Solid_Nodule/code/mmdetection/configs/_base_/schedules/schedule_1x.py' mode='r' encoding='UTF-8'>\n",
      "  config_file = open(filename).read()\n",
      "/root/miniconda3/envs/mmdetection/lib/python3.6/site-packages/mmcv/utils/config.py:110: ResourceWarning: unclosed file <_io.TextIOWrapper name='/root/workspace/Thyroid_Solid_Nodule/code/mmdetection/configs/_base_/default_runtime.py' mode='r' encoding='UTF-8'>\n",
      "  config_file = open(filename).read()\n",
      "/root/workspace/Thyroid_Solid_Nodule/code/mmdetection/mmdet/apis/inference.py:41: UserWarning: Class names are not saved in the checkpoint's meta data, use COCO classes by default.\n",
      "  warnings.warn('Class names are not saved in the checkpoint\\'s '\n"
     ]
    },
    {
     "name": "stdout",
     "output_type": "stream",
     "text": [
      "loading annotations into memory...\n"
     ]
    },
    {
     "name": "stderr",
     "output_type": "stream",
     "text": [
      "/root/miniconda3/envs/mmdetection/lib/python3.6/site-packages/pycocotools/coco.py:86: ResourceWarning: unclosed file <_io.TextIOWrapper name='/root/workspace/Thyroid_Solid_Nodule/data/preprocess/chenzhou_aug/annotations/pseudo_images.json' mode='r' encoding='UTF-8'>\n",
      "  dataset = json.load(open(annotation_file, 'r'))\n"
     ]
    },
    {
     "name": "stdout",
     "output_type": "stream",
     "text": [
      "Done (t=0.43s)\n",
      "creating index...\n",
      "index created!\n"
     ]
    },
    {
     "name": "stderr",
     "output_type": "stream",
     "text": [
      "/root/miniconda3/envs/mmdetection/lib/python3.6/site-packages/mmcv/utils/config.py:110: ResourceWarning: unclosed file <_io.TextIOWrapper name='/root/workspace/Thyroid_Solid_Nodule/code/mmdetection/configs/ms_rcnn/ms_rcnn_r50_fpn_1x_chenzhou.py' mode='r' encoding='UTF-8'>\n",
      "  config_file = open(filename).read()\n",
      "/root/miniconda3/envs/mmdetection/lib/python3.6/site-packages/mmcv/utils/config.py:110: ResourceWarning: unclosed file <_io.TextIOWrapper name='/root/workspace/Thyroid_Solid_Nodule/code/mmdetection/configs/mask_rcnn/mask_rcnn_r50_fpn_1x_chenzhou.py' mode='r' encoding='UTF-8'>\n",
      "  config_file = open(filename).read()\n",
      "/root/miniconda3/envs/mmdetection/lib/python3.6/site-packages/mmcv/utils/config.py:110: ResourceWarning: unclosed file <_io.TextIOWrapper name='/root/workspace/Thyroid_Solid_Nodule/code/mmdetection/configs/_base_/models/mask_rcnn_r50_fpn.py' mode='r' encoding='UTF-8'>\n",
      "  config_file = open(filename).read()\n",
      "/root/miniconda3/envs/mmdetection/lib/python3.6/site-packages/mmcv/utils/config.py:110: ResourceWarning: unclosed file <_io.TextIOWrapper name='/root/workspace/Thyroid_Solid_Nodule/code/mmdetection/configs/_base_/datasets/chenzhou_instance.py' mode='r' encoding='UTF-8'>\n",
      "  config_file = open(filename).read()\n",
      "/root/miniconda3/envs/mmdetection/lib/python3.6/site-packages/mmcv/utils/config.py:110: ResourceWarning: unclosed file <_io.TextIOWrapper name='/root/workspace/Thyroid_Solid_Nodule/code/mmdetection/configs/_base_/schedules/schedule_1x.py' mode='r' encoding='UTF-8'>\n",
      "  config_file = open(filename).read()\n",
      "/root/miniconda3/envs/mmdetection/lib/python3.6/site-packages/mmcv/utils/config.py:110: ResourceWarning: unclosed file <_io.TextIOWrapper name='/root/workspace/Thyroid_Solid_Nodule/code/mmdetection/configs/_base_/default_runtime.py' mode='r' encoding='UTF-8'>\n",
      "  config_file = open(filename).read()\n",
      "/root/workspace/Thyroid_Solid_Nodule/code/mmdetection/mmdet/apis/inference.py:41: UserWarning: Class names are not saved in the checkpoint's meta data, use COCO classes by default.\n",
      "  warnings.warn('Class names are not saved in the checkpoint\\'s '\n"
     ]
    },
    {
     "name": "stdout",
     "output_type": "stream",
     "text": [
      "loading annotations into memory...\n"
     ]
    },
    {
     "name": "stderr",
     "output_type": "stream",
     "text": [
      "/root/miniconda3/envs/mmdetection/lib/python3.6/site-packages/pycocotools/coco.py:86: ResourceWarning: unclosed file <_io.TextIOWrapper name='/root/workspace/Thyroid_Solid_Nodule/data/preprocess/chenzhou_aug/annotations/pseudo_images.json' mode='r' encoding='UTF-8'>\n",
      "  dataset = json.load(open(annotation_file, 'r'))\n"
     ]
    },
    {
     "name": "stdout",
     "output_type": "stream",
     "text": [
      "Done (t=0.26s)\n",
      "creating index...\n",
      "index created!\n"
     ]
    }
   ],
   "source": [
    "from mmdet.datasets import build_dataset\n",
    "from mmdet.models import build_detector\n",
    "from mmdet.apis import inference_detector, init_detector, show_result_pyplot\n",
    "from mmcv import Config\n",
    "import copy\n",
    "import os.path as osp\n",
    "import os\n",
    "import mmcv\n",
    "import numpy as np\n",
    "import time\n",
    "import cv2\n",
    "import matplotlib.pyplot as plt\n",
    "import matplotlib\n",
    "from pylab import *\n",
    "from matplotlib import cm\n",
    "import time\n",
    "\n",
    "\n",
    "#     red = (0, 0, 255)\n",
    "#     green = (0, 255, 0)\n",
    "#     blue = (255, 0, 0)\n",
    "#     cyan = (255, 255, 0)\n",
    "#     yellow = (0, 255, 255)\n",
    "#     magenta = (255, 0, 255)\n",
    "#     white = (255, 255, 255)\n",
    "#     black = (0, 0, 0)\n",
    "\n",
    "os.environ[\"CUDA_VISIBLE_DEVICES\"]=\"0\"\n",
    "\n",
    "config_xiaohei='./configs/faster_rcnn/xiaohei_faster_rcnn_r50_fpn_1x_chenzhou.py'\n",
    "config_faster='./configs/faster_rcnn/faster_rcnn_r50_fpn_1x_chenzhou.py'\n",
    "config_mask='./configs/mask_rcnn/mask_rcnn_r50_fpn_1x_chenzhou.py'\n",
    "config_ms='./configs/ms_rcnn/ms_rcnn_r50_fpn_1x_chenzhou.py'\n",
    "\n",
    "\n",
    "work_xiaohei='logs/xiaohei_faster_rcnn_r50_fpn_1x_chenzhou_202011141101/'\n",
    "work_faster='logs/faster_rcnn_r50_fpn_1x_chenzhou_202011260631/'\n",
    "work_mask='logs/mask_rcnn_r50_fpn_1x_chenzhou_202011250925/'\n",
    "work_ms='logs/ms_rcnn_r50_fpn_1x_chenzhou_202011251546/'\n",
    "\n",
    "\n",
    "configDict = [\n",
    "                ['xiaohei', config_xiaohei, work_xiaohei]\n",
    "                ,['faster', config_faster, work_faster]\n",
    "                ,['mask', config_mask, work_mask]\n",
    "                ,['ms', config_ms, work_ms]\n",
    "             ]\n",
    "\n",
    "f = open('logs/processInference-inferenceTime.log', 'w+')\n",
    "\n",
    "for config_type, config_file, work_dir in configDict:\n",
    "    cfg = Config.fromfile(config_file)\n",
    "    cfg.work_dir = work_dir\n",
    "    cfg.seed = 0\n",
    "    cfg.total_epochs = 50\n",
    "    cfg.log_config.interval = 1000\n",
    "\n",
    "    checkpoint = cfg.work_dir + 'epoch_12.pth'\n",
    "\n",
    "    model = init_detector(cfg, checkpoint, device='cuda:0')\n",
    "    datasets = [build_dataset(cfg.data.train)]\n",
    "    model.CLASSES = datasets[0].CLASSES\n",
    "    # validations\n",
    "    result_path = cfg.work_dir + '/tests/'\n",
    "    text=config_type + ':'\n",
    "    color='red'\n",
    "    path = '/root/workspace/Thyroid_Solid_Nodule/data/preprocess/chenzhou_aug/tests/'\n",
    "    for root, dirs, files in os.walk(os.path.abspath(path)):\n",
    "        for file in files:\n",
    "            img = mmcv.imread(path + file)\n",
    "            time_start=time.time()\n",
    "            result = inference_detector(model, img)\n",
    "            time_end=time.time()\n",
    "            f.write(text + \"%.8f\" % (time_end-time_start) + os.linesep)\n",
    "            model.show_result(img, result, score_thr=0.7, show=False, bbox_color=color,thickness=2, font_scale=0, out_file=result_path + '/result/' + file)\n",
    "\n",
    "    path = '/root/workspace/Thyroid_Solid_Nodule/data/preprocess/chenzhou_aug/validations/'\n",
    "    for root, dirs, files in os.walk(os.path.abspath(path)):\n",
    "        for file in files:\n",
    "            img = mmcv.imread(path + file)\n",
    "            time_start=time.time()\n",
    "            result = inference_detector(model, img)\n",
    "            time_end=time.time()\n",
    "            f.write(text + \"%.8f\" % (time_end-time_start) + os.linesep)\n",
    "            model.show_result(img, result, score_thr=0.7, show=False, bbox_color=color,thickness=2, font_scale=0, out_file=result_path + '/result/' + file)\n",
    "\n",
    "    path = '/root/workspace/Thyroid_Solid_Nodule/data/preprocess/chenzhou/image/'\n",
    "    for root, dirs, files in os.walk(os.path.abspath(path)):\n",
    "        for file in files:\n",
    "            img = mmcv.imread(path + file)\n",
    "            time_start=time.time()\n",
    "            result = inference_detector(model, img)\n",
    "            time_end=time.time()\n",
    "            f.write(text + \"%.8f\" % (time_end-time_start) + os.linesep)\n",
    "            model.show_result(img, result, score_thr=0.7, show=False, bbox_color=color,thickness=2, font_scale=0, out_file=result_path + '/result/' + file)\n",
    "f.close()"
   ]
  },
  {
   "cell_type": "code",
   "execution_count": null,
   "metadata": {
    "collapsed": true
   },
   "outputs": [],
   "source": []
  }
 ],
 "metadata": {
  "kernelspec": {
   "display_name": "Python 3.6.11 64-bit ('mmdetection': conda)",
   "language": "python",
   "name": "python361164bitmmdetectioncondac5e20e32b3c64899be2ee20da743e85a"
  },
  "language_info": {
   "codemirror_mode": {
    "name": "ipython",
    "version": 3
   },
   "file_extension": ".py",
   "mimetype": "text/x-python",
   "name": "python",
   "nbconvert_exporter": "python",
   "pygments_lexer": "ipython3",
   "version": "3.6.11"
  }
 },
 "nbformat": 4,
 "nbformat_minor": 2
}
