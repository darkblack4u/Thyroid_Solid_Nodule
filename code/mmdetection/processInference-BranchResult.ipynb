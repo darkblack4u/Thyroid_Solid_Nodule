{
 "cells": [
  {
   "cell_type": "code",
   "execution_count": 1,
   "metadata": {
    "scrolled": true
   },
   "outputs": [
    {
     "name": "stderr",
     "output_type": "stream",
     "text": [
      "/root/workspace/Thyroid_Solid_Nodule/code/mmdetection/mmdet/apis/inference.py:41: UserWarning: Class names are not saved in the checkpoint's meta data, use COCO classes by default.\n",
      "  warnings.warn('Class names are not saved in the checkpoint\\'s '\n"
     ]
    },
    {
     "name": "stdout",
     "output_type": "stream",
     "text": [
      "loading annotations into memory...\n"
     ]
    },
    {
     "name": "stderr",
     "output_type": "stream",
     "text": [
      "/root/miniconda3/envs/mmdetection/lib/python3.6/site-packages/pycocotools/coco.py:86: ResourceWarning: unclosed file <_io.TextIOWrapper name='/root/workspace/Thyroid_Solid_Nodule/data/preprocess/chenzhou_aug/annotations/pseudo_images.json' mode='r' encoding='UTF-8'>\n",
      "  dataset = json.load(open(annotation_file, 'r'))\n"
     ]
    },
    {
     "name": "stdout",
     "output_type": "stream",
     "text": [
      "Done (t=0.26s)\n",
      "creating index...\n",
      "index created!\n"
     ]
    },
    {
     "name": "stderr",
     "output_type": "stream",
     "text": [
      "/root/workspace/Thyroid_Solid_Nodule/code/mmdetection/mmdet/core/post_processing/bbox_nms.py:52: UserWarning: This overload of nonzero is deprecated:\n",
      "\tnonzero()\n",
      "Consider using one of the following signatures instead:\n",
      "\tnonzero(*, bool as_tuple) (Triggered internally at  /opt/conda/conda-bld/pytorch_1595629416375/work/torch/csrc/utils/python_arg_parser.cpp:766.)\n",
      "  labels = valid_mask.nonzero()[:, 1]\n"
     ]
    },
    {
     "name": "stdout",
     "output_type": "stream",
     "text": [
      "A4B1C2D1E1_20235241120181012THY14920181012112622945T.jpg/256\n",
      "A4B1C2D1E1_20235241120181012THY14920181012112622945T.jpg/256\n",
      "A4B1C2D1E1_20235241120181012THY14920181012112622945T.jpg/256\n",
      "A4B1C2D1E1_20235241120181012THY14920181012112622945T.jpg/256\n",
      "A4B1C3D1E1_134THY5720180831150957049T.jpg/256\n",
      "A4B1C3D1E1_134THY5720180831150957049T.jpg/256\n",
      "A4B1C3D1E1_134THY5720180831150957049T.jpg/256\n",
      "A4B1C3D1E1_134THY5720180831150957049T.jpg/256\n",
      "A4B1C2D1E1_103THY4420180822155400562T.jpg/256\n",
      "A4B1C2D1E1_103THY4420180822155400562T.jpg/256\n",
      "A4B1C2D1E1_103THY4420180822155400562T.jpg/256\n",
      "A4B1C2D1E1_103THY4420180822155400562T.jpg/256\n",
      "A4B1C4D1E1_20851051020181015THY15220181015100613176V.jpg/256\n",
      "A4B1C4D1E1_20851051020181015THY15220181015100613176V.jpg/256\n",
      "A4B1C4D1E1_20851051020181015THY15220181015100613176V.jpg/256\n",
      "A4B1C4D1E1_20851051020181015THY15220181015100613176V.jpg/256\n",
      "A3B1C2D2E1_16435091520180815THY12020180815151120041T.jpg/256\n",
      "A3B1C2D2E1_16435091520180815THY12020180815151120041T.jpg/256\n",
      "A3B1C2D2E1_16435091520180815THY12020180815151120041T.jpg/256\n",
      "A3B1C2D2E1_16435091520180815THY12020180815151120041T.jpg/256\n",
      "A1B1C1D2E1_48THY1820180723105605185.jpg/256\n",
      "A1B1C1D2E1_48THY1820180723105605185.jpg/256\n",
      "A1B1C1D2E1_48THY1820180723105605185.jpg/256\n",
      "A1B1C1D2E1_48THY1820180723105605185.jpg/256\n",
      "A4B2C3D3E4_106THY4620180823092452358T.jpg/256\n",
      "A4B2C3D3E4_106THY4620180823092452358T.jpg/256\n",
      "A4B2C3D3E4_106THY4620180823092452358T.jpg/256\n",
      "A4B2C3D3E4_106THY4620180823092452358T.jpg/256\n",
      "A4B1C3D2E1_94THY4020180817101538175V.jpg/256\n",
      "A4B1C3D2E1_94THY4020180817101538175V.jpg/256\n",
      "A4B1C3D2E1_94THY4020180817101538175V.jpg/256\n",
      "A4B1C3D2E1_94THY4020180817101538175V.jpg/256\n",
      "A4B1C3D2E4_20737380920181105THY15220181105093920028T.jpg/256\n",
      "A4B1C3D2E4_20737380920181105THY15220181105093920028T.jpg/256\n",
      "A4B1C3D2E4_20737380920181105THY15220181105093920028T.jpg/256\n",
      "A4B1C3D2E4_20737380920181105THY15220181105093920028T.jpg/256\n",
      "A4B1C2D2E2_18THY620180718085559429V.jpg/256\n",
      "A4B1C2D2E2_18THY620180718085559429V.jpg/256\n",
      "A4B1C2D2E2_18THY620180718085559429V.jpg/256\n",
      "A4B1C2D2E2_18THY620180718085559429V.jpg/256\n",
      "A3B1C2D1E1_131THY5620180830155731310T.jpg/256\n",
      "A3B1C2D1E1_131THY5620180830155731310T.jpg/256\n",
      "A3B1C2D1E1_131THY5620180830155731310T.jpg/256\n",
      "A3B1C2D1E1_131THY5620180830155731310T.jpg/256\n",
      "A3B1C2D1E1_69THY2520180725160205947T.jpg/256\n",
      "A3B1C2D1E1_69THY2520180725160205947T.jpg/256\n",
      "A3B1C2D1E1_69THY2520180725160205947T.jpg/256\n",
      "A3B1C2D1E1_69THY2520180725160205947T.jpg/256\n",
      "A1B1C1D1E1_13804180920180801THY100520180801092118768V.jpg/256\n",
      "A1B1C1D1E1_13804180920180801THY100520180801092118768V.jpg/256\n",
      "A1B1C1D1E1_13804180920180801THY100520180801092118768V.jpg/256\n",
      "A1B1C1D1E1_13804180920180801THY100520180801092118768V.jpg/256\n",
      "A2B1C2D1E1_19127090920180913THY13620180913091148742T.jpg/256\n",
      "A2B1C2D1E1_19127090920180913THY13620180913091148742T.jpg/256\n",
      "A2B1C2D1E1_19127090920180913THY13620180913091148742T.jpg/256\n",
      "A2B1C2D1E1_19127090920180913THY13620180913091148742T.jpg/256\n",
      "A4B1C2D1E1_16THY520180717164323160V.jpg/256\n",
      "A4B1C2D1E1_16THY520180717164323160V.jpg/256\n",
      "A4B1C2D1E1_16THY520180717164323160V.jpg/256\n",
      "A4B1C2D1E1_16THY520180717164323160V.jpg/256\n"
     ]
    }
   ],
   "source": [
    "from mmdet.datasets import build_dataset\n",
    "from mmdet.models import build_detector\n",
    "from mmdet.apis import inference_detector, init_detector, show_result_pyplot\n",
    "from mmcv import Config\n",
    "import copy\n",
    "import os.path as osp\n",
    "import os\n",
    "import mmcv\n",
    "import numpy as np\n",
    "import time\n",
    "import cv2\n",
    "import matplotlib.pyplot as plt\n",
    "import matplotlib\n",
    "from pylab import *\n",
    "from matplotlib import cm\n",
    "\n",
    "def draw_features(width, height, x, savedir, savename):\n",
    "    print(\"{}/{}\".format(savename,width*height))\n",
    "#     fig = plt.figure(figsize=(16, 16), frameon=False)\n",
    "#     fig.subplots_adjust(left=0.05, right=0.95, bottom=0.05, top=0.95, wspace=0.05, hspace=0.05)\n",
    "    for i in range(width * height):\n",
    "#         plt.subplot(height,width, i + 1)\n",
    "#         plt.axis('off')\n",
    "        img = x[0, i, :, :]\n",
    "#         img = img * -1\n",
    "#         img = x\n",
    "        pmin = np.min(img)\n",
    "        pmax = np.max(img)\n",
    "        img = ((img - pmin) / (pmax - pmin + 0.000001))*255  #float在[0，1]之间，转换成0-255\n",
    "        img = np.where(img>100, img, 0)\n",
    "        img=img.astype(np.uint8)  #转成unit8\n",
    "        img=cv2.applyColorMap(img, cv2.COLORMAP_JET) #生成heat map\n",
    "        img = img[:, :, ::-1]#注意cv2（BGR）和matplotlib(RGB)通道是相反的\n",
    "        cv2.imwrite(savedir + '/' + str(i) + '_' + savename,mmcv.bgr2rgb(img),[int(cv2.IMWRITE_JPEG_QUALITY),95])\n",
    "        \n",
    "#     red = (0, 0, 255)\n",
    "#     green = (0, 255, 0)\n",
    "#     blue = (255, 0, 0)\n",
    "#     cyan = (255, 255, 0)\n",
    "#     yellow = (0, 255, 255)\n",
    "#     magenta = (255, 0, 255)\n",
    "#     white = (255, 255, 255)\n",
    "#     black = (0, 0, 0)\n",
    "\n",
    "os.environ[\"CUDA_VISIBLE_DEVICES\"]=\"0\"\n",
    "cfg = Config.fromfile('./configs/faster_rcnn/xiaohei_faster_rcnn_r50_fpn_1x_chenzhou.py')\n",
    "cfg.work_dir = 'logs/xiaohei_faster_rcnn_r50_fpn_1x_chenzhou_202011050121/'\n",
    "cfg.seed = 0\n",
    "cfg.total_epochs = 50\n",
    "cfg.log_config.interval = 1000\n",
    "\n",
    "checkpoint = cfg.work_dir + 'epoch_1.pth'\n",
    "\n",
    "model = init_detector(cfg, checkpoint, device='cuda:0')\n",
    "datasets = [build_dataset(cfg.data.train)]\n",
    "model.CLASSES = datasets[0].CLASSES\n",
    "# validations\n",
    "result_path = cfg.work_dir + '/tests/'\n",
    "\n",
    "if os.path.exists(result_path + \"/result/\") == False:\n",
    "    os.makedirs(result_path + \"/result/\")\n",
    "for dir in range(0,5):\n",
    "    if os.path.exists(result_path + \"/heatmap/\" + str(dir)) == False:\n",
    "        os.makedirs(result_path + \"/heatmap/\" + str(dir))\n",
    "    if os.path.exists(result_path + \"/att_heatmap/\" + str(dir)) == False:\n",
    "        os.makedirs(result_path + \"/att_heatmap/\" + str(dir))\n",
    "    if os.path.exists(result_path + \"/rpn_heatmap/\" + str(dir)) == False:\n",
    "        os.makedirs(result_path + \"/rpn_heatmap/\" + str(dir))\n",
    "\n",
    "path = '/root/workspace/Thyroid_Solid_Nodule/data/preprocess/chenzhou_aug/tests/'\n",
    "for root, dirs, files in os.walk(os.path.abspath(path)):\n",
    "    for file in files:\n",
    "        img = mmcv.imread(path + file)\n",
    "        result, x = inference_detector(model, img)\n",
    "        for index, feat in enumerate(x):\n",
    "            img_np=feat.data.cpu().numpy()\n",
    "            draw_features(16, 16, img_np, result_path + '/heatmap/' + str(index), file)\n",
    "\n",
    "# path = '/root/workspace/Thyroid_Solid_Nodule/data/preprocess/chenzhou_aug/validations/'\n",
    "# for root, dirs, files in os.walk(os.path.abspath(path)):\n",
    "#     for file in files:\n",
    "#         img = mmcv.imread(path + file)\n",
    "#         result, x = inference_detector(model, img)\n",
    "#         for index, feat in enumerate(x):\n",
    "#             img_np=feat.data.cpu().numpy()\n",
    "#             draw_features(16, 16, img_np, result_path + '/heatmap/' + str(index), file)\n",
    "            \n",
    "# path = '/root/workspace/Thyroid_Solid_Nodule/data/preprocess/chenzhou/image/'\n",
    "# for root, dirs, files in os.walk(os.path.abspath(path)):\n",
    "#     for file in files:\n",
    "#         img = mmcv.imread(path + file)\n",
    "#         result, x = inference_detector(model, img)\n",
    "#         for index, feat in enumerate(x):\n",
    "#             img_np=feat.data.cpu().numpy()\n",
    "#             draw_features(16, 16, img_np, result_path + '/heatmap/' + str(index), file)"
   ]
  },
  {
   "cell_type": "code",
   "execution_count": 2,
   "metadata": {
    "collapsed": true
   },
   "outputs": [],
   "source": [
    "# mkdir -p demo/0 demo/1 demo/2 demo/3 demo/4\n",
    "# cp 0/*A1B1C1D2E1_48THY1820180723105605185* demo/0/\n",
    "# cp 1/*A1B1C1D2E1_48THY1820180723105605185* demo/1/\n",
    "# cp 2/*A1B1C1D2E1_48THY1820180723105605185* demo/2/\n",
    "# cp 3/*A1B1C1D2E1_48THY1820180723105605185* demo/3/\n",
    "# cp 4/*A1B1C1D2E1_48THY1820180723105605185* demo/4/"
   ]
  }
 ],
 "metadata": {
  "kernelspec": {
   "display_name": "Python 3.6.11 64-bit ('mmdetection': conda)",
   "language": "python",
   "name": "python361164bitmmdetectioncondac5e20e32b3c64899be2ee20da743e85a"
  },
  "language_info": {
   "codemirror_mode": {
    "name": "ipython",
    "version": 3
   },
   "file_extension": ".py",
   "mimetype": "text/x-python",
   "name": "python",
   "nbconvert_exporter": "python",
   "pygments_lexer": "ipython3",
   "version": "3.6.11"
  }
 },
 "nbformat": 4,
 "nbformat_minor": 2
}
